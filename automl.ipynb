{
  "cells": [
    {
      "cell_type": "markdown",
      "source": [
        "# Automated ML\n",
        "\n",
        "TODO: Import Dependencies. In the cell below, import all the dependencies that you will need to complete the project."
      ],
      "metadata": {
        "id": "dIFBchG8DIzE"
      }
    },
    {
      "cell_type": "code",
      "source": [
        "from azureml.data.dataset_factory import TabularDatasetFactory\n",
        "from azureml.core.workspace import Workspace\n",
        "from azureml.core.compute import ComputeTarget\n",
        "from azureml.core.compute.amlcompute import AmlCompute\n",
        "from azureml.exceptions import ComputeTargetException\n",
        "from azureml.core.experiment import Experiment\n",
        "from azureml.core.model import Model\n",
        "\n",
        "from azureml.core import Environment\n",
        "from azureml.core.model import InferenceConfig\n",
        "from azureml.core.webservice import AciWebservice\n",
        "from azureml.core.webservice import Webservice\n",
        "\n",
        "from azureml.train.automl.automlconfig import AutoMLConfig\n",
        "from azureml.widgets.run_details import RunDetails\n",
        "\n",
        "from azureml.automl.core.shared import constants\n",
        "\n",
        "from pprint import pprint\n",
        "import pandas as pd\n",
        "\n",
        "import logging\n",
        "import joblib\n",
        "\n",
        "import json\n",
        "import requests"
      ],
      "outputs": [],
      "execution_count": 1,
      "metadata": {
        "gather": {
          "logged": 1635981343928
        },
        "jupyter": {
          "outputs_hidden": false,
          "source_hidden": false
        },
        "nteract": {
          "transient": {
            "deleting": false
          }
        },
        "id": "T1gyC_4iDIzI"
      }
    },
    {
      "cell_type": "markdown",
      "source": [
        "## Dataset\n",
        "\n",
        "### Overview\n",
        "TODO: In this markdown cell, give an overview of the dataset you are using. Also mention the task you will be performing.\n",
        "\n",
        "Dat:[ Breast Cancer Prediction Dataset](https://www.kaggle.com/merishnasuwal/breast-cancer-prediction-dataset)\n",
        "\n",
        "This machine learning program detects the presence (or absence) of breast cancer from pertinent data regarding physical characteristics.\n",
        "An understanding of the data can be had at https://www.kaggle.com/merishnasuwal/breast-cancer-prediction-dataset/discussion/66975#509394\n",
        "\n",
        "\n",
        "TODO: Get data. In the cell below, write code to access the data you will be using in this project. Remember that the dataset needs to be external.\n",
        "\n",
        "The dataset is external. It is manually downloaded as a csv and then uploaded to a publicly acccessible github account:\n",
        "'https://github.com/dntrply/nd00333-capstone/blob/master/dataset/Breast_cancer_data.csv'"
      ],
      "metadata": {
        "id": "nXX3ww9_DIzJ"
      }
    },
    {
      "cell_type": "code",
      "source": [
        "ds = TabularDatasetFactory.from_delimited_files('https://github.com/dntrply/nd00333-capstone/raw/master/dataset/Breast_cancer_data.csv')\n",
        "df = ds.to_pandas_dataframe()\n",
        "df"
      ],
      "outputs": [
        {
          "output_type": "execute_result",
          "execution_count": 2,
          "data": {
            "text/plain": "     mean_radius  mean_texture  mean_perimeter  mean_area  mean_smoothness  \\\n0          17.99         10.38          122.80     1001.0          0.11840   \n1          20.57         17.77          132.90     1326.0          0.08474   \n2          19.69         21.25          130.00     1203.0          0.10960   \n3          11.42         20.38           77.58      386.1          0.14250   \n4          20.29         14.34          135.10     1297.0          0.10030   \n..           ...           ...             ...        ...              ...   \n564        21.56         22.39          142.00     1479.0          0.11100   \n565        20.13         28.25          131.20     1261.0          0.09780   \n566        16.60         28.08          108.30      858.1          0.08455   \n567        20.60         29.33          140.10     1265.0          0.11780   \n568         7.76         24.54           47.92      181.0          0.05263   \n\n     diagnosis  \n0            0  \n1            0  \n2            0  \n3            0  \n4            0  \n..         ...  \n564          0  \n565          0  \n566          0  \n567          0  \n568          1  \n\n[569 rows x 6 columns]",
            "text/html": "<div>\n<style scoped>\n    .dataframe tbody tr th:only-of-type {\n        vertical-align: middle;\n    }\n\n    .dataframe tbody tr th {\n        vertical-align: top;\n    }\n\n    .dataframe thead th {\n        text-align: right;\n    }\n</style>\n<table border=\"1\" class=\"dataframe\">\n  <thead>\n    <tr style=\"text-align: right;\">\n      <th></th>\n      <th>mean_radius</th>\n      <th>mean_texture</th>\n      <th>mean_perimeter</th>\n      <th>mean_area</th>\n      <th>mean_smoothness</th>\n      <th>diagnosis</th>\n    </tr>\n  </thead>\n  <tbody>\n    <tr>\n      <th>0</th>\n      <td>17.99</td>\n      <td>10.38</td>\n      <td>122.80</td>\n      <td>1001.0</td>\n      <td>0.11840</td>\n      <td>0</td>\n    </tr>\n    <tr>\n      <th>1</th>\n      <td>20.57</td>\n      <td>17.77</td>\n      <td>132.90</td>\n      <td>1326.0</td>\n      <td>0.08474</td>\n      <td>0</td>\n    </tr>\n    <tr>\n      <th>2</th>\n      <td>19.69</td>\n      <td>21.25</td>\n      <td>130.00</td>\n      <td>1203.0</td>\n      <td>0.10960</td>\n      <td>0</td>\n    </tr>\n    <tr>\n      <th>3</th>\n      <td>11.42</td>\n      <td>20.38</td>\n      <td>77.58</td>\n      <td>386.1</td>\n      <td>0.14250</td>\n      <td>0</td>\n    </tr>\n    <tr>\n      <th>4</th>\n      <td>20.29</td>\n      <td>14.34</td>\n      <td>135.10</td>\n      <td>1297.0</td>\n      <td>0.10030</td>\n      <td>0</td>\n    </tr>\n    <tr>\n      <th>...</th>\n      <td>...</td>\n      <td>...</td>\n      <td>...</td>\n      <td>...</td>\n      <td>...</td>\n      <td>...</td>\n    </tr>\n    <tr>\n      <th>564</th>\n      <td>21.56</td>\n      <td>22.39</td>\n      <td>142.00</td>\n      <td>1479.0</td>\n      <td>0.11100</td>\n      <td>0</td>\n    </tr>\n    <tr>\n      <th>565</th>\n      <td>20.13</td>\n      <td>28.25</td>\n      <td>131.20</td>\n      <td>1261.0</td>\n      <td>0.09780</td>\n      <td>0</td>\n    </tr>\n    <tr>\n      <th>566</th>\n      <td>16.60</td>\n      <td>28.08</td>\n      <td>108.30</td>\n      <td>858.1</td>\n      <td>0.08455</td>\n      <td>0</td>\n    </tr>\n    <tr>\n      <th>567</th>\n      <td>20.60</td>\n      <td>29.33</td>\n      <td>140.10</td>\n      <td>1265.0</td>\n      <td>0.11780</td>\n      <td>0</td>\n    </tr>\n    <tr>\n      <th>568</th>\n      <td>7.76</td>\n      <td>24.54</td>\n      <td>47.92</td>\n      <td>181.0</td>\n      <td>0.05263</td>\n      <td>1</td>\n    </tr>\n  </tbody>\n</table>\n<p>569 rows × 6 columns</p>\n</div>"
          },
          "metadata": {}
        }
      ],
      "execution_count": 2,
      "metadata": {
        "id": "lg7_8cowjtZX",
        "gather": {
          "logged": 1635981362543
        },
        "outputId": "f89bc6c5-01d3-48ea-afce-93e80bae1155"
      }
    },
    {
      "cell_type": "code",
      "source": [
        "df.describe()"
      ],
      "outputs": [
        {
          "output_type": "execute_result",
          "execution_count": 3,
          "data": {
            "text/plain": "       mean_radius  mean_texture  mean_perimeter    mean_area  \\\ncount   569.000000    569.000000      569.000000   569.000000   \nmean     14.127292     19.289649       91.969033   654.889104   \nstd       3.524049      4.301036       24.298981   351.914129   \nmin       6.981000      9.710000       43.790000   143.500000   \n25%      11.700000     16.170000       75.170000   420.300000   \n50%      13.370000     18.840000       86.240000   551.100000   \n75%      15.780000     21.800000      104.100000   782.700000   \nmax      28.110000     39.280000      188.500000  2501.000000   \n\n       mean_smoothness   diagnosis  \ncount       569.000000  569.000000  \nmean          0.096360    0.627417  \nstd           0.014064    0.483918  \nmin           0.052630    0.000000  \n25%           0.086370    0.000000  \n50%           0.095870    1.000000  \n75%           0.105300    1.000000  \nmax           0.163400    1.000000  ",
            "text/html": "<div>\n<style scoped>\n    .dataframe tbody tr th:only-of-type {\n        vertical-align: middle;\n    }\n\n    .dataframe tbody tr th {\n        vertical-align: top;\n    }\n\n    .dataframe thead th {\n        text-align: right;\n    }\n</style>\n<table border=\"1\" class=\"dataframe\">\n  <thead>\n    <tr style=\"text-align: right;\">\n      <th></th>\n      <th>mean_radius</th>\n      <th>mean_texture</th>\n      <th>mean_perimeter</th>\n      <th>mean_area</th>\n      <th>mean_smoothness</th>\n      <th>diagnosis</th>\n    </tr>\n  </thead>\n  <tbody>\n    <tr>\n      <th>count</th>\n      <td>569.000000</td>\n      <td>569.000000</td>\n      <td>569.000000</td>\n      <td>569.000000</td>\n      <td>569.000000</td>\n      <td>569.000000</td>\n    </tr>\n    <tr>\n      <th>mean</th>\n      <td>14.127292</td>\n      <td>19.289649</td>\n      <td>91.969033</td>\n      <td>654.889104</td>\n      <td>0.096360</td>\n      <td>0.627417</td>\n    </tr>\n    <tr>\n      <th>std</th>\n      <td>3.524049</td>\n      <td>4.301036</td>\n      <td>24.298981</td>\n      <td>351.914129</td>\n      <td>0.014064</td>\n      <td>0.483918</td>\n    </tr>\n    <tr>\n      <th>min</th>\n      <td>6.981000</td>\n      <td>9.710000</td>\n      <td>43.790000</td>\n      <td>143.500000</td>\n      <td>0.052630</td>\n      <td>0.000000</td>\n    </tr>\n    <tr>\n      <th>25%</th>\n      <td>11.700000</td>\n      <td>16.170000</td>\n      <td>75.170000</td>\n      <td>420.300000</td>\n      <td>0.086370</td>\n      <td>0.000000</td>\n    </tr>\n    <tr>\n      <th>50%</th>\n      <td>13.370000</td>\n      <td>18.840000</td>\n      <td>86.240000</td>\n      <td>551.100000</td>\n      <td>0.095870</td>\n      <td>1.000000</td>\n    </tr>\n    <tr>\n      <th>75%</th>\n      <td>15.780000</td>\n      <td>21.800000</td>\n      <td>104.100000</td>\n      <td>782.700000</td>\n      <td>0.105300</td>\n      <td>1.000000</td>\n    </tr>\n    <tr>\n      <th>max</th>\n      <td>28.110000</td>\n      <td>39.280000</td>\n      <td>188.500000</td>\n      <td>2501.000000</td>\n      <td>0.163400</td>\n      <td>1.000000</td>\n    </tr>\n  </tbody>\n</table>\n</div>"
          },
          "metadata": {}
        }
      ],
      "execution_count": 3,
      "metadata": {
        "id": "QQo3pTJGlxVI",
        "gather": {
          "logged": 1635981362906
        },
        "outputId": "36060724-a986-47fc-fc89-9ff3c0868cdc"
      }
    },
    {
      "cell_type": "code",
      "source": [
        "# Split the dtaaset so that a small fraction may be used for prediction\n",
        "train_ds, predict_ds = ds.random_split(percentage=0.99, seed=44)"
      ],
      "outputs": [],
      "execution_count": 4,
      "metadata": {
        "id": "TOPDxM9pASpB",
        "gather": {
          "logged": 1635981363227
        }
      }
    },
    {
      "cell_type": "code",
      "source": [
        "train_df = train_ds.to_pandas_dataframe()\n",
        "train_df"
      ],
      "outputs": [
        {
          "output_type": "execute_result",
          "execution_count": 5,
          "data": {
            "text/plain": "     mean_radius  mean_texture  mean_perimeter  mean_area  mean_smoothness  \\\n0          17.99         10.38          122.80     1001.0          0.11840   \n1          20.57         17.77          132.90     1326.0          0.08474   \n2          19.69         21.25          130.00     1203.0          0.10960   \n3          11.42         20.38           77.58      386.1          0.14250   \n4          20.29         14.34          135.10     1297.0          0.10030   \n..           ...           ...             ...        ...              ...   \n560        21.56         22.39          142.00     1479.0          0.11100   \n561        20.13         28.25          131.20     1261.0          0.09780   \n562        16.60         28.08          108.30      858.1          0.08455   \n563        20.60         29.33          140.10     1265.0          0.11780   \n564         7.76         24.54           47.92      181.0          0.05263   \n\n     diagnosis  \n0            0  \n1            0  \n2            0  \n3            0  \n4            0  \n..         ...  \n560          0  \n561          0  \n562          0  \n563          0  \n564          1  \n\n[565 rows x 6 columns]",
            "text/html": "<div>\n<style scoped>\n    .dataframe tbody tr th:only-of-type {\n        vertical-align: middle;\n    }\n\n    .dataframe tbody tr th {\n        vertical-align: top;\n    }\n\n    .dataframe thead th {\n        text-align: right;\n    }\n</style>\n<table border=\"1\" class=\"dataframe\">\n  <thead>\n    <tr style=\"text-align: right;\">\n      <th></th>\n      <th>mean_radius</th>\n      <th>mean_texture</th>\n      <th>mean_perimeter</th>\n      <th>mean_area</th>\n      <th>mean_smoothness</th>\n      <th>diagnosis</th>\n    </tr>\n  </thead>\n  <tbody>\n    <tr>\n      <th>0</th>\n      <td>17.99</td>\n      <td>10.38</td>\n      <td>122.80</td>\n      <td>1001.0</td>\n      <td>0.11840</td>\n      <td>0</td>\n    </tr>\n    <tr>\n      <th>1</th>\n      <td>20.57</td>\n      <td>17.77</td>\n      <td>132.90</td>\n      <td>1326.0</td>\n      <td>0.08474</td>\n      <td>0</td>\n    </tr>\n    <tr>\n      <th>2</th>\n      <td>19.69</td>\n      <td>21.25</td>\n      <td>130.00</td>\n      <td>1203.0</td>\n      <td>0.10960</td>\n      <td>0</td>\n    </tr>\n    <tr>\n      <th>3</th>\n      <td>11.42</td>\n      <td>20.38</td>\n      <td>77.58</td>\n      <td>386.1</td>\n      <td>0.14250</td>\n      <td>0</td>\n    </tr>\n    <tr>\n      <th>4</th>\n      <td>20.29</td>\n      <td>14.34</td>\n      <td>135.10</td>\n      <td>1297.0</td>\n      <td>0.10030</td>\n      <td>0</td>\n    </tr>\n    <tr>\n      <th>...</th>\n      <td>...</td>\n      <td>...</td>\n      <td>...</td>\n      <td>...</td>\n      <td>...</td>\n      <td>...</td>\n    </tr>\n    <tr>\n      <th>560</th>\n      <td>21.56</td>\n      <td>22.39</td>\n      <td>142.00</td>\n      <td>1479.0</td>\n      <td>0.11100</td>\n      <td>0</td>\n    </tr>\n    <tr>\n      <th>561</th>\n      <td>20.13</td>\n      <td>28.25</td>\n      <td>131.20</td>\n      <td>1261.0</td>\n      <td>0.09780</td>\n      <td>0</td>\n    </tr>\n    <tr>\n      <th>562</th>\n      <td>16.60</td>\n      <td>28.08</td>\n      <td>108.30</td>\n      <td>858.1</td>\n      <td>0.08455</td>\n      <td>0</td>\n    </tr>\n    <tr>\n      <th>563</th>\n      <td>20.60</td>\n      <td>29.33</td>\n      <td>140.10</td>\n      <td>1265.0</td>\n      <td>0.11780</td>\n      <td>0</td>\n    </tr>\n    <tr>\n      <th>564</th>\n      <td>7.76</td>\n      <td>24.54</td>\n      <td>47.92</td>\n      <td>181.0</td>\n      <td>0.05263</td>\n      <td>1</td>\n    </tr>\n  </tbody>\n</table>\n<p>565 rows × 6 columns</p>\n</div>"
          },
          "metadata": {}
        }
      ],
      "execution_count": 5,
      "metadata": {
        "jupyter": {
          "source_hidden": false,
          "outputs_hidden": false
        },
        "nteract": {
          "transient": {
            "deleting": false
          }
        },
        "gather": {
          "logged": 1635981363749
        },
        "id": "eI1JkFcsqhHD",
        "outputId": "0e5a1138-cec5-49da-e348-97780d76af0f"
      }
    },
    {
      "cell_type": "code",
      "source": [
        "ws = Workspace.from_config()\n",
        "\n",
        "# choose a name for experiment\n",
        "experiment=Experiment(ws, 'experiment-capstone-automl')  # Experiment name in Azure ML"
      ],
      "outputs": [],
      "execution_count": 6,
      "metadata": {
        "gather": {
          "logged": 1635981366582
        },
        "jupyter": {
          "outputs_hidden": false,
          "source_hidden": false
        },
        "nteract": {
          "transient": {
            "deleting": false
          }
        },
        "id": "axbCq54eDIzK"
      }
    },
    {
      "cell_type": "code",
      "source": [
        "# Next, let's use if it exists, or create if required, a compute cluster to be used by the ML\n",
        "\n",
        "# Access the compute cluster. If it exists, we will have the compute object. \n",
        "# If it does not exist, an exception will be thrown upon which the compute cluster is created\n",
        "try:\n",
        "    cc = ComputeTarget(workspace=ws, name='COMPUTE-AUTOML')\n",
        "except ComputeTargetException:\n",
        "    # Failed to obtain the compute cluster object\n",
        "    # In all likelihood, a compute cluster of that name has not been created\n",
        "    # Attempt to create the compute cluster\n",
        "    # First set up the configuration\n",
        "\n",
        "    # Specify the configuration of the compute cluster\n",
        "    cc_cfg = AmlCompute.provisioning_configuration(vm_size='Standard_DS3_v2', min_nodes=1, max_nodes=4)\n",
        "    cc = ComputeTarget.create(workspace=ws, name='COMPUTE-AUTOML', provisioning_configuration=cc_cfg)\n",
        "\n",
        "# At this point - we have access to the compute cluster object. Wait for the compute target to complete provisioing\n",
        "cc.wait_for_completion(show_output='True')"
      ],
      "outputs": [
        {
          "output_type": "stream",
          "name": "stdout",
          "text": "InProgress....\nSucceededProvisioning operation finished, operation \"Succeeded\"\nSucceeded................\nAmlCompute wait for completion finished\n\nMinimum number of nodes requested have been provisioned\n"
        }
      ],
      "execution_count": 7,
      "metadata": {
        "id": "SCvxfM_3ElcZ",
        "gather": {
          "logged": 1635981469966
        },
        "outputId": "c900471e-2809-47de-acbf-0373b0c845d8"
      }
    },
    {
      "cell_type": "markdown",
      "source": [
        "## AutoML Configuration\n",
        "\n",
        "TODO: Explain why you chose the automl settings and cofiguration you used below.\n",
        "\n",
        "This project is a classification issue. More so, it is a binary classification issue as teh outcome is whether the wine is of a good quality or not.\n",
        "\n",
        "AUC_weighted is an apporpriate metric to target for a binary classification.\n",
        "[Set up AutoML training with Python](https://docs.microsoft.com/en-us/azure/machine-learning/how-to-configure-auto-train)\n",
        "\n",
        "It is generally recommended to enable early stopping as it is possible that after a while no further improvement in the model is feasible.\n",
        "\n",
        "There is enrally limited to no benefit to using a large number of cross validations. In this instance, we have set it to 3."
      ],
      "metadata": {
        "id": "scO2RZk_DIzL"
      }
    },
    {
      "cell_type": "code",
      "source": [
        "# TODO: Put your automl settings here\n",
        "\n",
        "automl_settings = {\n",
        "    \"iterations\" : 20,\n",
        "    \"experiment_timeout_minutes\" : 30,\n",
        "    \"enable_early_stopping\" : True,\n",
        "    \"iteration_timeout_minutes\" : 5,\n",
        "    \"max_concurrent_iterations\" : 5,\n",
        "    \"max_cores_per_iteration\" : -1,\n",
        "    \"n_cross_validations\" : 3,\n",
        "    \"primary_metric\" : 'AUC_weighted',\n",
        "    \"verbosity\" : logging.INFO,\n",
        "}\n",
        "\n",
        "# Provide the remainder of the settings/configuration\n",
        "# Note that we are not providing a validation data set\n",
        "# \n",
        "\n",
        "\n",
        "# TODO: Put your automl config here\n",
        "automl_config = AutoMLConfig(\n",
        "    compute_target = cc,\n",
        "    task='classification',\n",
        "    training_data=train_ds,\n",
        "    label_column_name='diagnosis',\n",
        "    featurization='auto',\n",
        "    model_explainability=True,\n",
        "    debug_log='capstone_automl.log',\n",
        "    **automl_settings)"
      ],
      "outputs": [],
      "execution_count": 8,
      "metadata": {
        "gather": {
          "logged": 1635981535426
        },
        "jupyter": {
          "outputs_hidden": false,
          "source_hidden": false
        },
        "nteract": {
          "transient": {
            "deleting": false
          }
        },
        "id": "uJJWKay5DIzL"
      }
    },
    {
      "cell_type": "code",
      "source": [
        "# TODO: Submit your experiment\n",
        "automl_run = experiment.submit(automl_config)"
      ],
      "outputs": [
        {
          "output_type": "stream",
          "name": "stdout",
          "text": "Submitting remote run.\n"
        },
        {
          "output_type": "display_data",
          "data": {
            "text/plain": "<IPython.core.display.HTML object>",
            "text/html": "<table style=\"width:100%\"><tr><th>Experiment</th><th>Id</th><th>Type</th><th>Status</th><th>Details Page</th><th>Docs Page</th></tr><tr><td>experiment-capstone-automl</td><td>AutoML_0bf03af8-8d8d-4440-8bab-bd567c1496ea</td><td>automl</td><td>NotStarted</td><td><a href=\"https://ml.azure.com/runs/AutoML_0bf03af8-8d8d-4440-8bab-bd567c1496ea?wsid=/subscriptions/9e65f93e-bdd8-437b-b1e8-0647cd6098f7/resourcegroups/aml-quickstarts-162691/workspaces/quick-starts-ws-162691&amp;tid=660b3398-b80e-49d2-bc5b-ac1dc93b5254\" target=\"_blank\" rel=\"noopener\">Link to Azure Machine Learning studio</a></td><td><a href=\"https://docs.microsoft.com/en-us/python/api/overview/azure/ml/intro?view=azure-ml-py\" target=\"_blank\" rel=\"noopener\">Link to Documentation</a></td></tr></table>"
          },
          "metadata": {}
        }
      ],
      "execution_count": 9,
      "metadata": {
        "gather": {
          "logged": 1635981545993
        },
        "jupyter": {
          "outputs_hidden": false,
          "source_hidden": false
        },
        "nteract": {
          "transient": {
            "deleting": false
          }
        },
        "id": "qm0n8PgRDIzM",
        "outputId": "1464418e-f660-4e99-c0fd-6bcf3d74c985"
      }
    },
    {
      "cell_type": "markdown",
      "source": [
        "## Run Details\n",
        "\n",
        "OPTIONAL: Write about the different models trained and their performance. Why do you think some models did better than others?\n",
        "\n",
        "TODO: In the cell below, use the `RunDetails` widget to show the different experiments."
      ],
      "metadata": {
        "id": "MR49YIwPDIzN"
      }
    },
    {
      "cell_type": "code",
      "source": [
        "RunDetails(automl_run).show()"
      ],
      "outputs": [
        {
          "output_type": "display_data",
          "data": {
            "text/plain": "_AutoMLWidget(widget_settings={'childWidgetDisplay': 'popup', 'send_telemetry': False, 'log_level': 'INFO', 's…",
            "application/vnd.jupyter.widget-view+json": {
              "version_major": 2,
              "version_minor": 0,
              "model_id": "492d9a38026d418ca10b9891f6fb7b51"
            }
          },
          "metadata": {}
        },
        {
          "output_type": "display_data",
          "data": {
            "application/aml.mini.widget.v1": "{\"status\": \"Completed\", \"workbench_run_details_uri\": \"https://ml.azure.com/runs/AutoML_0bf03af8-8d8d-4440-8bab-bd567c1496ea?wsid=/subscriptions/9e65f93e-bdd8-437b-b1e8-0647cd6098f7/resourcegroups/aml-quickstarts-162691/workspaces/quick-starts-ws-162691&tid=660b3398-b80e-49d2-bc5b-ac1dc93b5254\", \"run_id\": \"AutoML_0bf03af8-8d8d-4440-8bab-bd567c1496ea\", \"run_properties\": {\"run_id\": \"AutoML_0bf03af8-8d8d-4440-8bab-bd567c1496ea\", \"created_utc\": \"2021-11-03T23:19:04.955312Z\", \"properties\": {\"num_iterations\": \"20\", \"training_type\": \"TrainFull\", \"acquisition_function\": \"EI\", \"primary_metric\": \"AUC_weighted\", \"train_split\": \"0\", \"acquisition_parameter\": \"0\", \"num_cross_validation\": \"3\", \"target\": \"COMPUTE-AUTOML\", \"AMLSettingsJsonString\": \"{\\\"path\\\":null,\\\"name\\\":\\\"experiment-capstone-automl\\\",\\\"subscription_id\\\":\\\"9e65f93e-bdd8-437b-b1e8-0647cd6098f7\\\",\\\"resource_group\\\":\\\"aml-quickstarts-162691\\\",\\\"workspace_name\\\":\\\"quick-starts-ws-162691\\\",\\\"region\\\":\\\"southcentralus\\\",\\\"compute_target\\\":\\\"COMPUTE-AUTOML\\\",\\\"spark_service\\\":null,\\\"azure_service\\\":\\\"remote\\\",\\\"many_models\\\":false,\\\"pipeline_fetch_max_batch_size\\\":1,\\\"enable_batch_run\\\":false,\\\"enable_run_restructure\\\":false,\\\"start_auxiliary_runs_before_parent_complete\\\":false,\\\"enable_code_generation\\\":false,\\\"iterations\\\":20,\\\"primary_metric\\\":\\\"AUC_weighted\\\",\\\"task_type\\\":\\\"classification\\\",\\\"data_script\\\":null,\\\"test_size\\\":0.0,\\\"test_include_predictions_only\\\":false,\\\"validation_size\\\":0.0,\\\"n_cross_validations\\\":3,\\\"y_min\\\":null,\\\"y_max\\\":null,\\\"num_classes\\\":null,\\\"featurization\\\":\\\"auto\\\",\\\"_ignore_package_version_incompatibilities\\\":false,\\\"is_timeseries\\\":false,\\\"max_cores_per_iteration\\\":-1,\\\"max_concurrent_iterations\\\":5,\\\"iteration_timeout_minutes\\\":5,\\\"mem_in_mb\\\":null,\\\"enforce_time_on_windows\\\":false,\\\"experiment_timeout_minutes\\\":30,\\\"experiment_exit_score\\\":null,\\\"whitelist_models\\\":null,\\\"blacklist_algos\\\":[\\\"TensorFlowLinearClassifier\\\",\\\"TensorFlowDNN\\\"],\\\"supported_models\\\":[\\\"SVM\\\",\\\"LinearSVM\\\",\\\"DecisionTree\\\",\\\"ExtremeRandomTrees\\\",\\\"KNN\\\",\\\"RandomForest\\\",\\\"AveragedPerceptronClassifier\\\",\\\"GradientBoosting\\\",\\\"TensorFlowDNN\\\",\\\"BernoulliNaiveBayes\\\",\\\"LightGBM\\\",\\\"SGD\\\",\\\"MultinomialNaiveBayes\\\",\\\"TensorFlowLinearClassifier\\\",\\\"XGBoostClassifier\\\",\\\"LogisticRegression\\\"],\\\"private_models\\\":[],\\\"auto_blacklist\\\":true,\\\"blacklist_samples_reached\\\":false,\\\"exclude_nan_labels\\\":true,\\\"verbosity\\\":20,\\\"_debug_log\\\":\\\"azureml_automl.log\\\",\\\"show_warnings\\\":false,\\\"model_explainability\\\":true,\\\"service_url\\\":null,\\\"sdk_url\\\":null,\\\"sdk_packages\\\":null,\\\"enable_onnx_compatible_models\\\":false,\\\"enable_split_onnx_featurizer_estimator_models\\\":false,\\\"vm_type\\\":\\\"STANDARD_DS3_V2\\\",\\\"telemetry_verbosity\\\":20,\\\"send_telemetry\\\":true,\\\"enable_dnn\\\":false,\\\"scenario\\\":\\\"SDK-1.13.0\\\",\\\"environment_label\\\":null,\\\"save_mlflow\\\":false,\\\"force_text_dnn\\\":false,\\\"enable_feature_sweeping\\\":true,\\\"enable_early_stopping\\\":true,\\\"early_stopping_n_iters\\\":10,\\\"metrics\\\":null,\\\"enable_metric_confidence\\\":false,\\\"enable_ensembling\\\":true,\\\"enable_stack_ensembling\\\":true,\\\"ensemble_iterations\\\":15,\\\"enable_tf\\\":false,\\\"enable_subsampling\\\":false,\\\"subsample_seed\\\":null,\\\"enable_nimbusml\\\":false,\\\"enable_streaming\\\":false,\\\"force_streaming\\\":false,\\\"track_child_runs\\\":true,\\\"allowed_private_models\\\":[],\\\"label_column_name\\\":\\\"diagnosis\\\",\\\"weight_column_name\\\":null,\\\"cv_split_column_names\\\":null,\\\"positive_label\\\":null,\\\"enable_local_managed\\\":false,\\\"_local_managed_run_id\\\":null,\\\"cost_mode\\\":1,\\\"lag_length\\\":0,\\\"metric_operation\\\":\\\"maximize\\\",\\\"preprocess\\\":true}\", \"DataPrepJsonString\": \"{\\\\\\\"training_data\\\\\\\": {\\\\\\\"datasetId\\\\\\\": \\\\\\\"9be33acf-4421-4aa4-8b66-4f563a35eb4e\\\\\\\"}, \\\\\\\"datasets\\\\\\\": 0}\", \"EnableSubsampling\": \"False\", \"runTemplate\": \"AutoML\", \"azureml.runsource\": \"automl\", \"display_task_type\": \"classification\", \"dependencies_versions\": \"{\\\"azureml-widgets\\\": \\\"1.34.0\\\", \\\"azureml-train\\\": \\\"1.34.0\\\", \\\"azureml-train-restclients-hyperdrive\\\": \\\"1.34.0\\\", \\\"azureml-train-core\\\": \\\"1.34.0\\\", \\\"azureml-train-automl\\\": \\\"1.34.0\\\", \\\"azureml-train-automl-runtime\\\": \\\"1.34.0\\\", \\\"azureml-train-automl-client\\\": \\\"1.34.0\\\", \\\"azureml-tensorboard\\\": \\\"1.34.0\\\", \\\"azureml-telemetry\\\": \\\"1.34.0\\\", \\\"azureml-sdk\\\": \\\"1.34.0\\\", \\\"azureml-samples\\\": \\\"0+unknown\\\", \\\"azureml-responsibleai\\\": \\\"1.34.0\\\", \\\"azureml-pipeline\\\": \\\"1.34.0\\\", \\\"azureml-pipeline-steps\\\": \\\"1.34.0\\\", \\\"azureml-pipeline-core\\\": \\\"1.34.0\\\", \\\"azureml-opendatasets\\\": \\\"1.34.0\\\", \\\"azureml-mlflow\\\": \\\"1.34.0\\\", \\\"azureml-interpret\\\": \\\"1.34.0\\\", \\\"azureml-inference-server-http\\\": \\\"0.3.1\\\", \\\"azureml-explain-model\\\": \\\"1.34.0\\\", \\\"azureml-defaults\\\": \\\"1.34.0\\\", \\\"azureml-dataset-runtime\\\": \\\"1.34.0\\\", \\\"azureml-dataprep\\\": \\\"2.22.2\\\", \\\"azureml-dataprep-rslex\\\": \\\"1.20.1\\\", \\\"azureml-dataprep-native\\\": \\\"38.0.0\\\", \\\"azureml-datadrift\\\": \\\"1.34.0\\\", \\\"azureml-core\\\": \\\"1.34.0\\\", \\\"azureml-contrib-services\\\": \\\"1.34.0\\\", \\\"azureml-contrib-server\\\": \\\"1.34.0\\\", \\\"azureml-contrib-reinforcementlearning\\\": \\\"1.34.0\\\", \\\"azureml-contrib-pipeline-steps\\\": \\\"1.34.0\\\", \\\"azureml-contrib-notebook\\\": \\\"1.34.0\\\", \\\"azureml-contrib-fairness\\\": \\\"1.34.0\\\", \\\"azureml-contrib-dataset\\\": \\\"1.34.0\\\", \\\"azureml-contrib-automl-pipeline-steps\\\": \\\"1.34.0\\\", \\\"azureml-cli-common\\\": \\\"1.34.0\\\", \\\"azureml-automl-runtime\\\": \\\"1.34.0\\\", \\\"azureml-automl-dnn-nlp\\\": \\\"1.34.0\\\", \\\"azureml-automl-core\\\": \\\"1.34.0\\\", \\\"azureml-accel-models\\\": \\\"1.34.0\\\"}\", \"_aml_system_scenario_identification\": \"Remote.Parent\", \"ClientType\": \"SDK\", \"environment_cpu_name\": \"AzureML-AutoML\", \"environment_cpu_label\": \"prod\", \"environment_gpu_name\": \"AzureML-AutoML-GPU\", \"environment_gpu_label\": \"prod\", \"root_attribution\": \"automl\", \"attribution\": \"AutoML\", \"Orchestrator\": \"AutoML\", \"CancelUri\": \"https://southcentralus.api.azureml.ms/jasmine/v1.0/subscriptions/9e65f93e-bdd8-437b-b1e8-0647cd6098f7/resourceGroups/aml-quickstarts-162691/providers/Microsoft.MachineLearningServices/workspaces/quick-starts-ws-162691/experimentids/917db7dd-5d9d-4e24-b291-2f0faa25f1b0/cancel/AutoML_0bf03af8-8d8d-4440-8bab-bd567c1496ea\", \"ClientSdkVersion\": \"1.35.1\", \"snapshotId\": \"00000000-0000-0000-0000-000000000000\", \"SetupRunId\": \"AutoML_0bf03af8-8d8d-4440-8bab-bd567c1496ea_setup\", \"SetupRunContainerId\": \"dcid.AutoML_0bf03af8-8d8d-4440-8bab-bd567c1496ea_setup\", \"FeaturizationRunJsonPath\": \"featurizer_container.json\", \"FeaturizationRunId\": \"AutoML_0bf03af8-8d8d-4440-8bab-bd567c1496ea_featurize\", \"ProblemInfoJsonString\": \"{\\\"dataset_num_categorical\\\": 0, \\\"is_sparse\\\": false, \\\"subsampling\\\": false, \\\"has_extra_col\\\": true, \\\"dataset_classes\\\": 2, \\\"dataset_features\\\": 5, \\\"dataset_samples\\\": 565, \\\"single_frequency_class_detected\\\": false}\", \"ModelExplainRunId\": \"AutoML_0bf03af8-8d8d-4440-8bab-bd567c1496ea_ModelExplain\"}, \"tags\": {\"model_explain_run\": \"best_run\", \"_aml_system_azureml.automlComponent\": \"AutoML\", \"pipeline_id\": \"\", \"score\": \"\", \"predicted_cost\": \"\", \"fit_time\": \"\", \"training_percent\": \"\", \"iteration\": \"\", \"run_preprocessor\": \"\", \"run_algorithm\": \"\", \"automl_best_child_run_id\": \"AutoML_0bf03af8-8d8d-4440-8bab-bd567c1496ea_18\", \"model_explain_best_run_child_id\": \"AutoML_0bf03af8-8d8d-4440-8bab-bd567c1496ea_18\"}, \"end_time_utc\": \"2021-11-03T23:31:33.128161Z\", \"status\": \"Completed\", \"log_files\": {}, \"log_groups\": [], \"run_duration\": \"0:12:28\", \"run_number\": \"1\", \"run_queued_details\": {\"status\": \"Completed\", \"details\": null}}, \"child_runs\": [{\"run_id\": \"AutoML_0bf03af8-8d8d-4440-8bab-bd567c1496ea_setup\", \"run_number\": 2, \"metric\": null, \"status\": \"Completed\", \"run_type\": \"azureml.scriptrun\", \"training_percent\": null, \"start_time\": \"2021-11-03T23:19:17.640013Z\", \"end_time\": \"2021-11-03T23:20:43.422672Z\", \"created_time\": \"2021-11-03T23:19:17.640013Z\", \"created_time_dt\": \"2021-11-03T23:19:17.640013Z\", \"duration\": \"0:01:25\", \"iteration\": null, \"goal\": null, \"run_name\": \"Completed\", \"run_properties\": null}, {\"run_id\": \"AutoML_0bf03af8-8d8d-4440-8bab-bd567c1496ea_featurize\", \"run_number\": 3, \"metric\": null, \"status\": \"Completed\", \"run_type\": \"automl.featurization\", \"training_percent\": null, \"start_time\": \"2021-11-03T23:20:44.258403Z\", \"end_time\": \"2021-11-03T23:21:29.387292Z\", \"created_time\": \"2021-11-03T23:20:43.935996Z\", \"created_time_dt\": \"2021-11-03T23:20:43.935996Z\", \"duration\": \"0:00:45\", \"iteration\": null, \"goal\": null, \"run_name\": \"Completed\", \"run_properties\": null}, {\"run_id\": \"AutoML_0bf03af8-8d8d-4440-8bab-bd567c1496ea_0\", \"run_number\": 5, \"metric\": null, \"status\": \"Completed\", \"run_type\": \"azureml.scriptrun\", \"training_percent\": \"100\", \"start_time\": \"2021-11-03T23:21:30.320905Z\", \"end_time\": \"2021-11-03T23:23:56.55953Z\", \"created_time\": \"2021-11-03T23:21:30.320905Z\", \"created_time_dt\": \"2021-11-03T23:21:30.320905Z\", \"duration\": \"0:02:26\", \"iteration\": \"0\", \"goal\": \"AUC_weighted_max\", \"run_name\": \"MaxAbsScaler, LightGBM\", \"run_properties\": \"copy=True\", \"primary_metric\": 0.9748803, \"best_metric\": 0.9748803}, {\"run_id\": \"AutoML_0bf03af8-8d8d-4440-8bab-bd567c1496ea_1\", \"run_number\": 6, \"metric\": null, \"status\": \"Completed\", \"run_type\": \"azureml.scriptrun\", \"training_percent\": \"100\", \"start_time\": \"2021-11-03T23:21:30.345092Z\", \"end_time\": \"2021-11-03T23:22:04.41024Z\", \"created_time\": \"2021-11-03T23:21:30.345092Z\", \"created_time_dt\": \"2021-11-03T23:21:30.345092Z\", \"duration\": \"0:00:34\", \"iteration\": \"1\", \"goal\": \"AUC_weighted_max\", \"run_name\": \"MaxAbsScaler, XGBoostClassifier\", \"run_properties\": \"copy=True\", \"primary_metric\": 0.97788361, \"best_metric\": 0.97788361}, {\"run_id\": \"AutoML_0bf03af8-8d8d-4440-8bab-bd567c1496ea_2\", \"run_number\": 7, \"metric\": null, \"status\": \"Completed\", \"run_type\": \"azureml.scriptrun\", \"training_percent\": \"100\", \"start_time\": \"2021-11-03T23:21:30.35375Z\", \"end_time\": \"2021-11-03T23:25:01.170597Z\", \"created_time\": \"2021-11-03T23:21:30.35375Z\", \"created_time_dt\": \"2021-11-03T23:21:30.35375Z\", \"duration\": \"0:03:30\", \"iteration\": \"2\", \"goal\": \"AUC_weighted_max\", \"run_name\": \"MaxAbsScaler, ExtremeRandomTrees\", \"run_properties\": \"copy=True\", \"primary_metric\": 0.96194055, \"best_metric\": 0.97788361}, {\"run_id\": \"AutoML_0bf03af8-8d8d-4440-8bab-bd567c1496ea_4\", \"run_number\": 8, \"metric\": null, \"status\": \"Completed\", \"run_type\": \"azureml.scriptrun\", \"training_percent\": \"100\", \"start_time\": \"2021-11-03T23:21:30.347272Z\", \"end_time\": \"2021-11-03T23:23:19.828152Z\", \"created_time\": \"2021-11-03T23:21:30.347272Z\", \"created_time_dt\": \"2021-11-03T23:21:30.347272Z\", \"duration\": \"0:01:49\", \"iteration\": \"4\", \"goal\": \"AUC_weighted_max\", \"run_name\": \"StandardScalerWrapper, LightGBM\", \"run_properties\": \"\\n    copy=True,\\n    with_mean=False,\\n    with_std=True\\n\", \"primary_metric\": 0.96939941, \"best_metric\": 0.97788361}, {\"run_id\": \"AutoML_0bf03af8-8d8d-4440-8bab-bd567c1496ea_3\", \"run_number\": 9, \"metric\": null, \"status\": \"Completed\", \"run_type\": \"azureml.scriptrun\", \"training_percent\": \"100\", \"start_time\": \"2021-11-03T23:21:30.378304Z\", \"end_time\": \"2021-11-03T23:22:44.590679Z\", \"created_time\": \"2021-11-03T23:21:30.378304Z\", \"created_time_dt\": \"2021-11-03T23:21:30.378304Z\", \"duration\": \"0:01:14\", \"iteration\": \"3\", \"goal\": \"AUC_weighted_max\", \"run_name\": \"MaxAbsScaler, RandomForest\", \"run_properties\": \"copy=True\", \"primary_metric\": 0.97213939, \"best_metric\": 0.97788361}, {\"run_id\": \"AutoML_0bf03af8-8d8d-4440-8bab-bd567c1496ea_5\", \"run_number\": 10, \"metric\": null, \"status\": \"Completed\", \"run_type\": \"azureml.scriptrun\", \"training_percent\": \"100\", \"start_time\": \"2021-11-03T23:22:05.761706Z\", \"end_time\": \"2021-11-03T23:24:46.871709Z\", \"created_time\": \"2021-11-03T23:22:05.761706Z\", \"created_time_dt\": \"2021-11-03T23:22:05.761706Z\", \"duration\": \"0:02:41\", \"iteration\": \"5\", \"goal\": \"AUC_weighted_max\", \"run_name\": \"StandardScalerWrapper, KNN\", \"run_properties\": \"\\n    copy=True,\\n    with_mean=True,\\n    with_std=False\\n\", \"primary_metric\": 0.93539178, \"best_metric\": 0.97788361}, {\"run_id\": \"AutoML_0bf03af8-8d8d-4440-8bab-bd567c1496ea_6\", \"run_number\": 11, \"metric\": null, \"status\": \"Completed\", \"run_type\": \"azureml.scriptrun\", \"training_percent\": \"100\", \"start_time\": \"2021-11-03T23:22:47.447865Z\", \"end_time\": \"2021-11-03T23:24:31.94546Z\", \"created_time\": \"2021-11-03T23:22:47.447865Z\", \"created_time_dt\": \"2021-11-03T23:22:47.447865Z\", \"duration\": \"0:01:44\", \"iteration\": \"6\", \"goal\": \"AUC_weighted_max\", \"run_name\": \"SparseNormalizer, XGBoostClassifier\", \"run_properties\": \"copy=True, norm='max'\", \"primary_metric\": 0.95082025, \"best_metric\": 0.97788361}, {\"run_id\": \"AutoML_0bf03af8-8d8d-4440-8bab-bd567c1496ea_7\", \"run_number\": 12, \"metric\": null, \"status\": \"Completed\", \"run_type\": \"azureml.scriptrun\", \"training_percent\": \"100\", \"start_time\": \"2021-11-03T23:23:22.609107Z\", \"end_time\": \"2021-11-03T23:25:25.18421Z\", \"created_time\": \"2021-11-03T23:23:22.609107Z\", \"created_time_dt\": \"2021-11-03T23:23:22.609107Z\", \"duration\": \"0:02:02\", \"iteration\": \"7\", \"goal\": \"AUC_weighted_max\", \"run_name\": \"SparseNormalizer, RandomForest\", \"run_properties\": \"copy=True, norm='l2'\", \"primary_metric\": 0.95985876, \"best_metric\": 0.97788361}, {\"run_id\": \"AutoML_0bf03af8-8d8d-4440-8bab-bd567c1496ea_8\", \"run_number\": 13, \"metric\": null, \"status\": \"Completed\", \"run_type\": \"azureml.scriptrun\", \"training_percent\": \"100\", \"start_time\": \"2021-11-03T23:23:59.341732Z\", \"end_time\": \"2021-11-03T23:26:07.230971Z\", \"created_time\": \"2021-11-03T23:23:59.341732Z\", \"created_time_dt\": \"2021-11-03T23:23:59.341732Z\", \"duration\": \"0:02:07\", \"iteration\": \"8\", \"goal\": \"AUC_weighted_max\", \"run_name\": \"RobustScaler, KNN\", \"run_properties\": \"copy=True, quantile_range=[25, 75], with_centering=False,\\n             with_scaling=True\", \"primary_metric\": 0.97651529, \"best_metric\": 0.97788361}, {\"run_id\": \"AutoML_0bf03af8-8d8d-4440-8bab-bd567c1496ea_9\", \"run_number\": 14, \"metric\": null, \"status\": \"Completed\", \"run_type\": \"azureml.scriptrun\", \"training_percent\": \"100\", \"start_time\": \"2021-11-03T23:24:34.773815Z\", \"end_time\": \"2021-11-03T23:26:05.297305Z\", \"created_time\": \"2021-11-03T23:24:34.773815Z\", \"created_time_dt\": \"2021-11-03T23:24:34.773815Z\", \"duration\": \"0:01:30\", \"iteration\": \"9\", \"goal\": \"AUC_weighted_max\", \"run_name\": \"MinMaxScaler, RandomForest\", \"run_properties\": \"copy=True, feature_range=(0, 1\", \"primary_metric\": 0.96719186, \"best_metric\": 0.97788361}, {\"run_id\": \"AutoML_0bf03af8-8d8d-4440-8bab-bd567c1496ea_10\", \"run_number\": 15, \"metric\": null, \"status\": \"Completed\", \"run_type\": \"azureml.scriptrun\", \"training_percent\": \"100\", \"start_time\": \"2021-11-03T23:24:49.574398Z\", \"end_time\": \"2021-11-03T23:26:10.521356Z\", \"created_time\": \"2021-11-03T23:24:49.574398Z\", \"created_time_dt\": \"2021-11-03T23:24:49.574398Z\", \"duration\": \"0:01:20\", \"iteration\": \"10\", \"goal\": \"AUC_weighted_max\", \"run_name\": \"StandardScalerWrapper, LogisticRegression\", \"run_properties\": \"\\n    copy=True,\\n    with_mean=True,\\n    with_std=True\\n\", \"primary_metric\": 0.98153143, \"best_metric\": 0.98153143}, {\"run_id\": \"AutoML_0bf03af8-8d8d-4440-8bab-bd567c1496ea_11\", \"run_number\": 16, \"metric\": null, \"status\": \"Completed\", \"run_type\": \"azureml.scriptrun\", \"training_percent\": \"100\", \"start_time\": \"2021-11-03T23:25:03.764666Z\", \"end_time\": \"2021-11-03T23:27:26.346967Z\", \"created_time\": \"2021-11-03T23:25:03.764666Z\", \"created_time_dt\": \"2021-11-03T23:25:03.764666Z\", \"duration\": \"0:02:22\", \"iteration\": \"11\", \"goal\": \"AUC_weighted_max\", \"run_name\": \"StandardScalerWrapper, SVM\", \"run_properties\": \"\\n    copy=True,\\n    with_mean=True,\\n    with_std=True\\n\", \"primary_metric\": 0.95706376, \"best_metric\": 0.98153143}, {\"run_id\": \"AutoML_0bf03af8-8d8d-4440-8bab-bd567c1496ea_12\", \"run_number\": 17, \"metric\": null, \"status\": \"Completed\", \"run_type\": \"azureml.scriptrun\", \"training_percent\": \"100\", \"start_time\": \"2021-11-03T23:25:28.01421Z\", \"end_time\": \"2021-11-03T23:28:07.486669Z\", \"created_time\": \"2021-11-03T23:25:28.01421Z\", \"created_time_dt\": \"2021-11-03T23:25:28.01421Z\", \"duration\": \"0:02:39\", \"iteration\": \"12\", \"goal\": \"AUC_weighted_max\", \"run_name\": \"StandardScalerWrapper, XGBoostClassifier\", \"run_properties\": \"\\n    copy=True,\\n    with_mean=False,\\n    with_std=False\\n\", \"primary_metric\": 0.96940565, \"best_metric\": 0.98153143}, {\"run_id\": \"AutoML_0bf03af8-8d8d-4440-8bab-bd567c1496ea_13\", \"run_number\": 18, \"metric\": null, \"status\": \"Completed\", \"run_type\": \"azureml.scriptrun\", \"training_percent\": \"100\", \"start_time\": \"2021-11-03T23:26:08.631285Z\", \"end_time\": \"2021-11-03T23:28:06.865768Z\", \"created_time\": \"2021-11-03T23:26:08.631285Z\", \"created_time_dt\": \"2021-11-03T23:26:08.631285Z\", \"duration\": \"0:01:58\", \"iteration\": \"13\", \"goal\": \"AUC_weighted_max\", \"run_name\": \"SparseNormalizer, KNN\", \"run_properties\": \"copy=True, norm='max'\", \"primary_metric\": 0.9320472, \"best_metric\": 0.98153143}, {\"run_id\": \"AutoML_0bf03af8-8d8d-4440-8bab-bd567c1496ea_14\", \"run_number\": 19, \"metric\": null, \"status\": \"Completed\", \"run_type\": \"azureml.scriptrun\", \"training_percent\": \"100\", \"start_time\": \"2021-11-03T23:26:12.181711Z\", \"end_time\": \"2021-11-03T23:28:10.297778Z\", \"created_time\": \"2021-11-03T23:26:12.181711Z\", \"created_time_dt\": \"2021-11-03T23:26:12.181711Z\", \"duration\": \"0:01:58\", \"iteration\": \"14\", \"goal\": \"AUC_weighted_max\", \"run_name\": \"RobustScaler, ExtremeRandomTrees\", \"run_properties\": \"copy=True, quantile_range=[10, 90], with_centering=True,\\n             with_scaling=False\", \"primary_metric\": 0.95620294, \"best_metric\": 0.98153143}, {\"run_id\": \"AutoML_0bf03af8-8d8d-4440-8bab-bd567c1496ea_15\", \"run_number\": 20, \"metric\": null, \"status\": \"Completed\", \"run_type\": \"azureml.scriptrun\", \"training_percent\": \"100\", \"start_time\": \"2021-11-03T23:26:15.778893Z\", \"end_time\": \"2021-11-03T23:29:26.346405Z\", \"created_time\": \"2021-11-03T23:26:15.778893Z\", \"created_time_dt\": \"2021-11-03T23:26:15.778893Z\", \"duration\": \"0:03:10\", \"iteration\": \"15\", \"goal\": \"AUC_weighted_max\", \"run_name\": \"SparseNormalizer, XGBoostClassifier\", \"run_properties\": \"copy=True, norm='max'\", \"primary_metric\": 0.92969385, \"best_metric\": 0.98153143}, {\"run_id\": \"AutoML_0bf03af8-8d8d-4440-8bab-bd567c1496ea_16\", \"run_number\": 21, \"metric\": null, \"status\": \"Completed\", \"run_type\": \"azureml.scriptrun\", \"training_percent\": \"100\", \"start_time\": \"2021-11-03T23:27:29.170943Z\", \"end_time\": \"2021-11-03T23:30:13.327532Z\", \"created_time\": \"2021-11-03T23:27:29.170943Z\", \"created_time_dt\": \"2021-11-03T23:27:29.170943Z\", \"duration\": \"0:02:44\", \"iteration\": \"16\", \"goal\": \"AUC_weighted_max\", \"run_name\": \"MinMaxScaler, ExtremeRandomTrees\", \"run_properties\": \"copy=True, feature_range=(0, 1\", \"primary_metric\": 0.9707913, \"best_metric\": 0.98153143}, {\"run_id\": \"AutoML_0bf03af8-8d8d-4440-8bab-bd567c1496ea_17\", \"run_number\": 22, \"metric\": null, \"status\": \"Completed\", \"run_type\": \"azureml.scriptrun\", \"training_percent\": \"100\", \"start_time\": \"2021-11-03T23:28:09.621725Z\", \"end_time\": \"2021-11-03T23:30:12.577448Z\", \"created_time\": \"2021-11-03T23:28:09.621725Z\", \"created_time_dt\": \"2021-11-03T23:28:09.621725Z\", \"duration\": \"0:02:02\", \"iteration\": \"17\", \"goal\": \"AUC_weighted_max\", \"run_name\": \"MinMaxScaler, ExtremeRandomTrees\", \"run_properties\": \"copy=True, feature_range=(0, 1\", \"primary_metric\": 0.97168364, \"best_metric\": 0.98153143}, {\"run_id\": \"AutoML_0bf03af8-8d8d-4440-8bab-bd567c1496ea_18\", \"run_number\": 23, \"metric\": null, \"status\": \"Completed\", \"run_type\": \"azureml.scriptrun\", \"training_percent\": \"100\", \"start_time\": \"2021-11-03T23:30:14.132285Z\", \"end_time\": \"2021-11-03T23:30:57.62205Z\", \"created_time\": \"2021-11-03T23:30:14.132285Z\", \"created_time_dt\": \"2021-11-03T23:30:14.132285Z\", \"duration\": \"0:00:43\", \"iteration\": \"18\", \"goal\": \"AUC_weighted_max\", \"run_name\": \"VotingEnsemble\", \"run_properties\": \"\\n    estimators=[('10', Pipeline(\\n        memory=None,\\n        steps=[('standardscalerwrapper', StandardScalerWrapper(\\n            copy=True,\\n            with_mean=True,\\n            with_std=True\\n        \", \"primary_metric\": 0.98453875, \"best_metric\": 0.98453875}, {\"run_id\": \"AutoML_0bf03af8-8d8d-4440-8bab-bd567c1496ea_19\", \"run_number\": 24, \"metric\": null, \"status\": \"Completed\", \"run_type\": \"azureml.scriptrun\", \"training_percent\": \"100\", \"start_time\": \"2021-11-03T23:30:14.152765Z\", \"end_time\": \"2021-11-03T23:31:31.327833Z\", \"created_time\": \"2021-11-03T23:30:14.152765Z\", \"created_time_dt\": \"2021-11-03T23:30:14.152765Z\", \"duration\": \"0:01:17\", \"iteration\": \"19\", \"goal\": \"AUC_weighted_max\", \"run_name\": \"StackEnsemble\", \"run_properties\": \"\\n    base_learners=[('10', Pipeline(\\n        memory=None,\\n        steps=[('standardscalerwrapper', StandardScalerWrapper(\\n            copy=True,\\n            with_mean=True,\\n            with_std=True\\n        \", \"primary_metric\": 0.98299358, \"best_metric\": 0.98453875}], \"children_metrics\": {\"categories\": [0], \"series\": {\"recall_score_macro\": [{\"categories\": [\"0\", \"1\", \"2\", \"3\", \"4\", \"5\", \"6\", \"7\", \"8\", \"9\", \"10\", \"11\", \"12\", \"13\", \"14\", \"15\", \"16\", \"17\", \"18\", \"19\"], \"mode\": \"markers\", \"name\": \"recall_score_macro\", \"stepped\": false, \"type\": \"scatter\", \"data\": [0.9030810545340519, 0.9178304282969355, 0.8816418822681137, 0.8996252143451694, 0.9010165437550746, 0.8617663684332696, 0.9002148013863466, 0.8971742339530125, 0.9159646456578626, 0.8904677984153074, 0.9150000856727566, 0.8921996117218466, 0.8913401996782239, 0.8762138859556535, 0.8721031726273777, 0.8796289528276581, 0.8878911892984508, 0.9130880935306772, 0.9183310482142456, 0.7843423144506736]}, {\"categories\": [\"0\", \"1\", \"2\", \"3\", \"4\", \"5\", \"6\", \"7\", \"8\", \"9\", \"10\", \"11\", \"12\", \"13\", \"14\", \"15\", \"16\", \"17\", \"18\", \"19\"], \"mode\": \"lines\", \"name\": \"recall_score_macro_max\", \"stepped\": true, \"type\": \"scatter\", \"data\": [0.9030810545340519, 0.9178304282969355, 0.9178304282969355, 0.9178304282969355, 0.9178304282969355, 0.9178304282969355, 0.9178304282969355, 0.9178304282969355, 0.9178304282969355, 0.9178304282969355, 0.9178304282969355, 0.9178304282969355, 0.9178304282969355, 0.9178304282969355, 0.9178304282969355, 0.9178304282969355, 0.9178304282969355, 0.9178304282969355, 0.9183310482142456, 0.9183310482142456]}], \"AUC_macro\": [{\"categories\": [\"0\", \"1\", \"2\", \"3\", \"4\", \"5\", \"6\", \"7\", \"8\", \"9\", \"10\", \"11\", \"12\", \"13\", \"14\", \"15\", \"16\", \"17\", \"18\", \"19\"], \"mode\": \"markers\", \"name\": \"AUC_macro\", \"stepped\": false, \"type\": \"scatter\", \"data\": [0.9748803006560536, 0.9778836148470965, 0.961940553057215, 0.9721422107587848, 0.9693994139022988, 0.9353917836291886, 0.9508202496531023, 0.9598587595764277, 0.9765152864593478, 0.9671946861386244, 0.9815314258812711, 0.9570637639276818, 0.9694056453467516, 0.9320472001278713, 0.9562029400123967, 0.929693847539682, 0.9707912994167568, 0.9716836440872466, 0.9845387514206118, 0.9829935813048675]}, {\"categories\": [\"0\", \"1\", \"2\", \"3\", \"4\", \"5\", \"6\", \"7\", \"8\", \"9\", \"10\", \"11\", \"12\", \"13\", \"14\", \"15\", \"16\", \"17\", \"18\", \"19\"], \"mode\": \"lines\", \"name\": \"AUC_macro_max\", \"stepped\": true, \"type\": \"scatter\", \"data\": [0.9748803006560536, 0.9778836148470965, 0.9778836148470965, 0.9778836148470965, 0.9778836148470965, 0.9778836148470965, 0.9778836148470965, 0.9778836148470965, 0.9778836148470965, 0.9778836148470965, 0.9815314258812711, 0.9815314258812711, 0.9815314258812711, 0.9815314258812711, 0.9815314258812711, 0.9815314258812711, 0.9815314258812711, 0.9815314258812711, 0.9845387514206118, 0.9845387514206118]}], \"precision_score_weighted\": [{\"categories\": [\"0\", \"1\", \"2\", \"3\", \"4\", \"5\", \"6\", \"7\", \"8\", \"9\", \"10\", \"11\", \"12\", \"13\", \"14\", \"15\", \"16\", \"17\", \"18\", \"19\"], \"mode\": \"markers\", \"name\": \"precision_score_weighted\", \"stepped\": false, \"type\": \"scatter\", \"data\": [0.9131489712601973, 0.9258910347741865, 0.9104912672852251, 0.9134362909823789, 0.9173138635284163, 0.8898477628189599, 0.9185459747988604, 0.9122076348926549, 0.9297715459803365, 0.9093045124448106, 0.9258116595877359, 0.9136031124148537, 0.9064662946784211, 0.891861432024314, 0.8819012281783868, 0.8977992697146694, 0.9074830508267168, 0.9192637822300097, 0.9317414017189338, 0.7584507323626007]}, {\"categories\": [\"0\", \"1\", \"2\", \"3\", \"4\", \"5\", \"6\", \"7\", \"8\", \"9\", \"10\", \"11\", \"12\", \"13\", \"14\", \"15\", \"16\", \"17\", \"18\", \"19\"], \"mode\": \"lines\", \"name\": \"precision_score_weighted_max\", \"stepped\": true, \"type\": \"scatter\", \"data\": [0.9131489712601973, 0.9258910347741865, 0.9258910347741865, 0.9258910347741865, 0.9258910347741865, 0.9258910347741865, 0.9258910347741865, 0.9258910347741865, 0.9297715459803365, 0.9297715459803365, 0.9297715459803365, 0.9297715459803365, 0.9297715459803365, 0.9297715459803365, 0.9297715459803365, 0.9297715459803365, 0.9297715459803365, 0.9297715459803365, 0.9317414017189338, 0.9317414017189338]}], \"f1_score_macro\": [{\"categories\": [\"0\", \"1\", \"2\", \"3\", \"4\", \"5\", \"6\", \"7\", \"8\", \"9\", \"10\", \"11\", \"12\", \"13\", \"14\", \"15\", \"16\", \"17\", \"18\", \"19\"], \"mode\": \"markers\", \"name\": \"f1_score_macro\", \"stepped\": false, \"type\": \"scatter\", \"data\": [0.9061457106666376, 0.9199636844222631, 0.8938873056612632, 0.9055267893016555, 0.9086221050178548, 0.8733731922122393, 0.9082851450455743, 0.9033293589004474, 0.92273248426633, 0.8981080792643589, 0.9178544920591948, 0.9025387630557723, 0.8974608756498611, 0.881886751182256, 0.8699840230862579, 0.8871499649754339, 0.8960941966340564, 0.9126463376439174, 0.9248325952726821, 0.7476087997375753]}, {\"categories\": [\"0\", \"1\", \"2\", \"3\", \"4\", \"5\", \"6\", \"7\", \"8\", \"9\", \"10\", \"11\", \"12\", \"13\", \"14\", \"15\", \"16\", \"17\", \"18\", \"19\"], \"mode\": \"lines\", \"name\": \"f1_score_macro_max\", \"stepped\": true, \"type\": \"scatter\", \"data\": [0.9061457106666376, 0.9199636844222631, 0.9199636844222631, 0.9199636844222631, 0.9199636844222631, 0.9199636844222631, 0.9199636844222631, 0.9199636844222631, 0.92273248426633, 0.92273248426633, 0.92273248426633, 0.92273248426633, 0.92273248426633, 0.92273248426633, 0.92273248426633, 0.92273248426633, 0.92273248426633, 0.92273248426633, 0.9248325952726821, 0.9248325952726821]}], \"balanced_accuracy\": [{\"categories\": [\"0\", \"1\", \"2\", \"3\", \"4\", \"5\", \"6\", \"7\", \"8\", \"9\", \"10\", \"11\", \"12\", \"13\", \"14\", \"15\", \"16\", \"17\", \"18\", \"19\"], \"mode\": \"markers\", \"name\": \"balanced_accuracy\", \"stepped\": false, \"type\": \"scatter\", \"data\": [0.9030810545340519, 0.9178304282969355, 0.8816418822681137, 0.8996252143451694, 0.9010165437550746, 0.8617663684332696, 0.9002148013863466, 0.8971742339530125, 0.9159646456578626, 0.8904677984153074, 0.9150000856727566, 0.8921996117218466, 0.8913401996782239, 0.8762138859556535, 0.8721031726273777, 0.8796289528276581, 0.8878911892984508, 0.9130880935306772, 0.9183310482142456, 0.7843423144506736]}, {\"categories\": [\"0\", \"1\", \"2\", \"3\", \"4\", \"5\", \"6\", \"7\", \"8\", \"9\", \"10\", \"11\", \"12\", \"13\", \"14\", \"15\", \"16\", \"17\", \"18\", \"19\"], \"mode\": \"lines\", \"name\": \"balanced_accuracy_max\", \"stepped\": true, \"type\": \"scatter\", \"data\": [0.9030810545340519, 0.9178304282969355, 0.9178304282969355, 0.9178304282969355, 0.9178304282969355, 0.9178304282969355, 0.9178304282969355, 0.9178304282969355, 0.9178304282969355, 0.9178304282969355, 0.9178304282969355, 0.9178304282969355, 0.9178304282969355, 0.9178304282969355, 0.9178304282969355, 0.9178304282969355, 0.9178304282969355, 0.9178304282969355, 0.9183310482142456, 0.9183310482142456]}], \"recall_score_weighted\": [{\"categories\": [\"0\", \"1\", \"2\", \"3\", \"4\", \"5\", \"6\", \"7\", \"8\", \"9\", \"10\", \"11\", \"12\", \"13\", \"14\", \"15\", \"16\", \"17\", \"18\", \"19\"], \"mode\": \"markers\", \"name\": \"recall_score_weighted\", \"stepped\": false, \"type\": \"scatter\", \"data\": [0.9132800480318211, 0.9256632519043867, 0.9062066118803708, 0.9132612856017112, 0.9168167661075463, 0.8867218282111899, 0.9168449097527112, 0.911516379601486, 0.9292093511951668, 0.9079327554504859, 0.9238902022589967, 0.911516379601486, 0.9061878494502608, 0.8920409771473601, 0.8778190551240197, 0.8973601260835302, 0.9062159930954258, 0.9186085781830463, 0.9309730196255019, 0.8339712559570716]}, {\"categories\": [\"0\", \"1\", \"2\", \"3\", \"4\", \"5\", \"6\", \"7\", \"8\", \"9\", \"10\", \"11\", \"12\", \"13\", \"14\", \"15\", \"16\", \"17\", \"18\", \"19\"], \"mode\": \"lines\", \"name\": \"recall_score_weighted_max\", \"stepped\": true, \"type\": \"scatter\", \"data\": [0.9132800480318211, 0.9256632519043867, 0.9256632519043867, 0.9256632519043867, 0.9256632519043867, 0.9256632519043867, 0.9256632519043867, 0.9256632519043867, 0.9292093511951668, 0.9292093511951668, 0.9292093511951668, 0.9292093511951668, 0.9292093511951668, 0.9292093511951668, 0.9292093511951668, 0.9292093511951668, 0.9292093511951668, 0.9292093511951668, 0.9309730196255019, 0.9309730196255019]}], \"average_precision_score_weighted\": [{\"categories\": [\"0\", \"1\", \"2\", \"3\", \"4\", \"5\", \"6\", \"7\", \"8\", \"9\", \"10\", \"11\", \"12\", \"13\", \"14\", \"15\", \"16\", \"17\", \"18\", \"19\"], \"mode\": \"markers\", \"name\": \"average_precision_score_weighted\", \"stepped\": false, \"type\": \"scatter\", \"data\": [0.9766781568597988, 0.979291124574947, 0.9633587994516101, 0.9745852420905781, 0.971820545031496, 0.9397856537662305, 0.9467333720884407, 0.9619886183989337, 0.9790685395754833, 0.9693650769330228, 0.9832828467446416, 0.9538563631282164, 0.9724995853924746, 0.9301709424658137, 0.9608941571187013, 0.922394602417743, 0.9732430026905674, 0.9742185050341089, 0.9857922050150059, 0.984390605047747]}, {\"categories\": [\"0\", \"1\", \"2\", \"3\", \"4\", \"5\", \"6\", \"7\", \"8\", \"9\", \"10\", \"11\", \"12\", \"13\", \"14\", \"15\", \"16\", \"17\", \"18\", \"19\"], \"mode\": \"lines\", \"name\": \"average_precision_score_weighted_max\", \"stepped\": true, \"type\": \"scatter\", \"data\": [0.9766781568597988, 0.979291124574947, 0.979291124574947, 0.979291124574947, 0.979291124574947, 0.979291124574947, 0.979291124574947, 0.979291124574947, 0.979291124574947, 0.979291124574947, 0.9832828467446416, 0.9832828467446416, 0.9832828467446416, 0.9832828467446416, 0.9832828467446416, 0.9832828467446416, 0.9832828467446416, 0.9832828467446416, 0.9857922050150059, 0.9857922050150059]}], \"f1_score_weighted\": [{\"categories\": [\"0\", \"1\", \"2\", \"3\", \"4\", \"5\", \"6\", \"7\", \"8\", \"9\", \"10\", \"11\", \"12\", \"13\", \"14\", \"15\", \"16\", \"17\", \"18\", \"19\"], \"mode\": \"markers\", \"name\": \"f1_score_weighted\", \"stepped\": false, \"type\": \"scatter\", \"data\": [0.9128881124280482, 0.9254590976970193, 0.9035560290469005, 0.9125637839210593, 0.9158376872205749, 0.8841083975840588, 0.9156570310936484, 0.910657798002116, 0.928539358134166, 0.9063927898520839, 0.9235320229107606, 0.910157078005875, 0.9052596087885103, 0.8909643457263181, 0.8780343617706271, 0.8960555628509944, 0.9046960342898585, 0.9185579897179151, 0.9303616073360775, 0.7871108402292956]}, {\"categories\": [\"0\", \"1\", \"2\", \"3\", \"4\", \"5\", \"6\", \"7\", \"8\", \"9\", \"10\", \"11\", \"12\", \"13\", \"14\", \"15\", \"16\", \"17\", \"18\", \"19\"], \"mode\": \"lines\", \"name\": \"f1_score_weighted_max\", \"stepped\": true, \"type\": \"scatter\", \"data\": [0.9128881124280482, 0.9254590976970193, 0.9254590976970193, 0.9254590976970193, 0.9254590976970193, 0.9254590976970193, 0.9254590976970193, 0.9254590976970193, 0.928539358134166, 0.928539358134166, 0.928539358134166, 0.928539358134166, 0.928539358134166, 0.928539358134166, 0.928539358134166, 0.928539358134166, 0.928539358134166, 0.928539358134166, 0.9303616073360775, 0.9303616073360775]}], \"f1_score_micro\": [{\"categories\": [\"0\", \"1\", \"2\", \"3\", \"4\", \"5\", \"6\", \"7\", \"8\", \"9\", \"10\", \"11\", \"12\", \"13\", \"14\", \"15\", \"16\", \"17\", \"18\", \"19\"], \"mode\": \"markers\", \"name\": \"f1_score_micro\", \"stepped\": false, \"type\": \"scatter\", \"data\": [0.9132800480318211, 0.9256632519043867, 0.9062066118803708, 0.9132612856017112, 0.9168167661075463, 0.8867218282111899, 0.9168449097527112, 0.911516379601486, 0.9292093511951668, 0.9079327554504859, 0.9238902022589967, 0.911516379601486, 0.9061878494502608, 0.8920409771473601, 0.8778190551240197, 0.8973601260835302, 0.9062159930954258, 0.9186085781830463, 0.9309730196255019, 0.8339712559570716]}, {\"categories\": [\"0\", \"1\", \"2\", \"3\", \"4\", \"5\", \"6\", \"7\", \"8\", \"9\", \"10\", \"11\", \"12\", \"13\", \"14\", \"15\", \"16\", \"17\", \"18\", \"19\"], \"mode\": \"lines\", \"name\": \"f1_score_micro_max\", \"stepped\": true, \"type\": \"scatter\", \"data\": [0.9132800480318211, 0.9256632519043867, 0.9256632519043867, 0.9256632519043867, 0.9256632519043867, 0.9256632519043867, 0.9256632519043867, 0.9256632519043867, 0.9292093511951668, 0.9292093511951668, 0.9292093511951668, 0.9292093511951668, 0.9292093511951668, 0.9292093511951668, 0.9292093511951668, 0.9292093511951668, 0.9292093511951668, 0.9292093511951668, 0.9309730196255019, 0.9309730196255019]}], \"accuracy\": [{\"categories\": [\"0\", \"1\", \"2\", \"3\", \"4\", \"5\", \"6\", \"7\", \"8\", \"9\", \"10\", \"11\", \"12\", \"13\", \"14\", \"15\", \"16\", \"17\", \"18\", \"19\"], \"mode\": \"markers\", \"name\": \"accuracy\", \"stepped\": false, \"type\": \"scatter\", \"data\": [0.9132800480318211, 0.9256632519043867, 0.9062066118803708, 0.9132612856017112, 0.9168167661075463, 0.8867218282111899, 0.9168449097527112, 0.911516379601486, 0.9292093511951668, 0.9079327554504859, 0.9238902022589967, 0.911516379601486, 0.9061878494502608, 0.8920409771473601, 0.8778190551240197, 0.8973601260835302, 0.9062159930954258, 0.9186085781830463, 0.9309730196255019, 0.8339712559570716]}, {\"categories\": [\"0\", \"1\", \"2\", \"3\", \"4\", \"5\", \"6\", \"7\", \"8\", \"9\", \"10\", \"11\", \"12\", \"13\", \"14\", \"15\", \"16\", \"17\", \"18\", \"19\"], \"mode\": \"lines\", \"name\": \"accuracy_max\", \"stepped\": true, \"type\": \"scatter\", \"data\": [0.9132800480318211, 0.9256632519043867, 0.9256632519043867, 0.9256632519043867, 0.9256632519043867, 0.9256632519043867, 0.9256632519043867, 0.9256632519043867, 0.9292093511951668, 0.9292093511951668, 0.9292093511951668, 0.9292093511951668, 0.9292093511951668, 0.9292093511951668, 0.9292093511951668, 0.9292093511951668, 0.9292093511951668, 0.9292093511951668, 0.9309730196255019, 0.9309730196255019]}], \"norm_macro_recall\": [{\"categories\": [\"0\", \"1\", \"2\", \"3\", \"4\", \"5\", \"6\", \"7\", \"8\", \"9\", \"10\", \"11\", \"12\", \"13\", \"14\", \"15\", \"16\", \"17\", \"18\", \"19\"], \"mode\": \"markers\", \"name\": \"norm_macro_recall\", \"stepped\": false, \"type\": \"scatter\", \"data\": [0.806162109068104, 0.8356608565938709, 0.7632837645362273, 0.7992504286903387, 0.8020330875101491, 0.7235327368665393, 0.800429602772693, 0.794348467906025, 0.8319292913157253, 0.7809355968306151, 0.8300001713455133, 0.784399223443693, 0.7826803993564478, 0.7524277719113069, 0.7442063452547552, 0.7592579056553163, 0.7757823785969015, 0.8261761870613545, 0.8366620964284911, 0.5686846289013472]}, {\"categories\": [\"0\", \"1\", \"2\", \"3\", \"4\", \"5\", \"6\", \"7\", \"8\", \"9\", \"10\", \"11\", \"12\", \"13\", \"14\", \"15\", \"16\", \"17\", \"18\", \"19\"], \"mode\": \"lines\", \"name\": \"norm_macro_recall_max\", \"stepped\": true, \"type\": \"scatter\", \"data\": [0.806162109068104, 0.8356608565938709, 0.8356608565938709, 0.8356608565938709, 0.8356608565938709, 0.8356608565938709, 0.8356608565938709, 0.8356608565938709, 0.8356608565938709, 0.8356608565938709, 0.8356608565938709, 0.8356608565938709, 0.8356608565938709, 0.8356608565938709, 0.8356608565938709, 0.8356608565938709, 0.8356608565938709, 0.8356608565938709, 0.8366620964284911, 0.8366620964284911]}], \"average_precision_score_macro\": [{\"categories\": [\"0\", \"1\", \"2\", \"3\", \"4\", \"5\", \"6\", \"7\", \"8\", \"9\", \"10\", \"11\", \"12\", \"13\", \"14\", \"15\", \"16\", \"17\", \"18\", \"19\"], \"mode\": \"markers\", \"name\": \"average_precision_score_macro\", \"stepped\": false, \"type\": \"scatter\", \"data\": [0.9744378062775789, 0.9771916590541748, 0.9587403446364924, 0.9718808633139965, 0.9687672308873245, 0.935432854505638, 0.9441027114553405, 0.9576790786336091, 0.9768402662114312, 0.9658749198859241, 0.9815473666476872, 0.9528028451693752, 0.9693081040307184, 0.9270595246629387, 0.9564621333023299, 0.9183489763070473, 0.9698836699999608, 0.9714198529117407, 0.9840128681092706, 0.9824442445029721]}, {\"categories\": [\"0\", \"1\", \"2\", \"3\", \"4\", \"5\", \"6\", \"7\", \"8\", \"9\", \"10\", \"11\", \"12\", \"13\", \"14\", \"15\", \"16\", \"17\", \"18\", \"19\"], \"mode\": \"lines\", \"name\": \"average_precision_score_macro_max\", \"stepped\": true, \"type\": \"scatter\", \"data\": [0.9744378062775789, 0.9771916590541748, 0.9771916590541748, 0.9771916590541748, 0.9771916590541748, 0.9771916590541748, 0.9771916590541748, 0.9771916590541748, 0.9771916590541748, 0.9771916590541748, 0.9815473666476872, 0.9815473666476872, 0.9815473666476872, 0.9815473666476872, 0.9815473666476872, 0.9815473666476872, 0.9815473666476872, 0.9815473666476872, 0.9840128681092706, 0.9840128681092706]}], \"precision_score_micro\": [{\"categories\": [\"0\", \"1\", \"2\", \"3\", \"4\", \"5\", \"6\", \"7\", \"8\", \"9\", \"10\", \"11\", \"12\", \"13\", \"14\", \"15\", \"16\", \"17\", \"18\", \"19\"], \"mode\": \"markers\", \"name\": \"precision_score_micro\", \"stepped\": false, \"type\": \"scatter\", \"data\": [0.9132800480318211, 0.9256632519043867, 0.9062066118803708, 0.9132612856017112, 0.9168167661075463, 0.8867218282111899, 0.9168449097527112, 0.911516379601486, 0.9292093511951668, 0.9079327554504859, 0.9238902022589967, 0.911516379601486, 0.9061878494502608, 0.8920409771473601, 0.8778190551240197, 0.8973601260835302, 0.9062159930954258, 0.9186085781830463, 0.9309730196255019, 0.8339712559570716]}, {\"categories\": [\"0\", \"1\", \"2\", \"3\", \"4\", \"5\", \"6\", \"7\", \"8\", \"9\", \"10\", \"11\", \"12\", \"13\", \"14\", \"15\", \"16\", \"17\", \"18\", \"19\"], \"mode\": \"lines\", \"name\": \"precision_score_micro_max\", \"stepped\": true, \"type\": \"scatter\", \"data\": [0.9132800480318211, 0.9256632519043867, 0.9256632519043867, 0.9256632519043867, 0.9256632519043867, 0.9256632519043867, 0.9256632519043867, 0.9256632519043867, 0.9292093511951668, 0.9292093511951668, 0.9292093511951668, 0.9292093511951668, 0.9292093511951668, 0.9292093511951668, 0.9292093511951668, 0.9292093511951668, 0.9292093511951668, 0.9292093511951668, 0.9309730196255019, 0.9309730196255019]}], \"matthews_correlation\": [{\"categories\": [\"0\", \"1\", \"2\", \"3\", \"4\", \"5\", \"6\", \"7\", \"8\", \"9\", \"10\", \"11\", \"12\", \"13\", \"14\", \"15\", \"16\", \"17\", \"18\", \"19\"], \"mode\": \"markers\", \"name\": \"matthews_correlation\", \"stepped\": false, \"type\": \"scatter\", \"data\": [0.8129988879472573, 0.8406111617625852, 0.7981164206189897, 0.8127390284765337, 0.8198939669257245, 0.7557647639309879, 0.8209574805060617, 0.8092520041433483, 0.8475204884672728, 0.8010266104882277, 0.8385426047300645, 0.8102494365695482, 0.7972349202263564, 0.7659107144760792, 0.7437856014567913, 0.7775924868086147, 0.7968512765235021, 0.8260962761250696, 0.8518200535328018, 0.5697737308674278]}, {\"categories\": [\"0\", \"1\", \"2\", \"3\", \"4\", \"5\", \"6\", \"7\", \"8\", \"9\", \"10\", \"11\", \"12\", \"13\", \"14\", \"15\", \"16\", \"17\", \"18\", \"19\"], \"mode\": \"lines\", \"name\": \"matthews_correlation_max\", \"stepped\": true, \"type\": \"scatter\", \"data\": [0.8129988879472573, 0.8406111617625852, 0.8406111617625852, 0.8406111617625852, 0.8406111617625852, 0.8406111617625852, 0.8406111617625852, 0.8406111617625852, 0.8475204884672728, 0.8475204884672728, 0.8475204884672728, 0.8475204884672728, 0.8475204884672728, 0.8475204884672728, 0.8475204884672728, 0.8475204884672728, 0.8475204884672728, 0.8475204884672728, 0.8518200535328018, 0.8518200535328018]}], \"AUC_micro\": [{\"categories\": [\"0\", \"1\", \"2\", \"3\", \"4\", \"5\", \"6\", \"7\", \"8\", \"9\", \"10\", \"11\", \"12\", \"13\", \"14\", \"15\", \"16\", \"17\", \"18\", \"19\"], \"mode\": \"markers\", \"name\": \"AUC_micro\", \"stepped\": false, \"type\": \"scatter\", \"data\": [0.9777441851494769, 0.9799308602549494, 0.964637597505443, 0.9757709296502567, 0.9719891642942425, 0.9475903213310429, 0.9619684670400118, 0.9658990525203022, 0.9798627022900139, 0.9685653335327479, 0.9835116482860541, 0.9629338129995165, 0.9733775540239177, 0.9456815777906425, 0.9565465466447342, 0.940996727253876, 0.9732479569154112, 0.9736608109044144, 0.9851434550947248, 0.941337564602439]}, {\"categories\": [\"0\", \"1\", \"2\", \"3\", \"4\", \"5\", \"6\", \"7\", \"8\", \"9\", \"10\", \"11\", \"12\", \"13\", \"14\", \"15\", \"16\", \"17\", \"18\", \"19\"], \"mode\": \"lines\", \"name\": \"AUC_micro_max\", \"stepped\": true, \"type\": \"scatter\", \"data\": [0.9777441851494769, 0.9799308602549494, 0.9799308602549494, 0.9799308602549494, 0.9799308602549494, 0.9799308602549494, 0.9799308602549494, 0.9799308602549494, 0.9799308602549494, 0.9799308602549494, 0.9835116482860541, 0.9835116482860541, 0.9835116482860541, 0.9835116482860541, 0.9835116482860541, 0.9835116482860541, 0.9835116482860541, 0.9835116482860541, 0.9851434550947248, 0.9851434550947248]}], \"average_precision_score_micro\": [{\"categories\": [\"0\", \"1\", \"2\", \"3\", \"4\", \"5\", \"6\", \"7\", \"8\", \"9\", \"10\", \"11\", \"12\", \"13\", \"14\", \"15\", \"16\", \"17\", \"18\", \"19\"], \"mode\": \"markers\", \"name\": \"average_precision_score_micro\", \"stepped\": false, \"type\": \"scatter\", \"data\": [0.9775566060444704, 0.9798335612644692, 0.9645022352705963, 0.9765825221384503, 0.97261678387865, 0.9455319292242358, 0.9535041053427785, 0.9640727953261347, 0.9806595527297092, 0.9691177539462562, 0.9841747712285361, 0.953740197979953, 0.9747122634663962, 0.9357994890157951, 0.9589432077182453, 0.9263203409335388, 0.9744838734593562, 0.974220232393496, 0.9857556854619602, 0.9477793146141816]}, {\"categories\": [\"0\", \"1\", \"2\", \"3\", \"4\", \"5\", \"6\", \"7\", \"8\", \"9\", \"10\", \"11\", \"12\", \"13\", \"14\", \"15\", \"16\", \"17\", \"18\", \"19\"], \"mode\": \"lines\", \"name\": \"average_precision_score_micro_max\", \"stepped\": true, \"type\": \"scatter\", \"data\": [0.9775566060444704, 0.9798335612644692, 0.9798335612644692, 0.9798335612644692, 0.9798335612644692, 0.9798335612644692, 0.9798335612644692, 0.9798335612644692, 0.9806595527297092, 0.9806595527297092, 0.9841747712285361, 0.9841747712285361, 0.9841747712285361, 0.9841747712285361, 0.9841747712285361, 0.9841747712285361, 0.9841747712285361, 0.9841747712285361, 0.9857556854619602, 0.9857556854619602]}], \"AUC_weighted\": [{\"categories\": [\"0\", \"1\", \"2\", \"3\", \"4\", \"5\", \"6\", \"7\", \"8\", \"9\", \"10\", \"11\", \"12\", \"13\", \"14\", \"15\", \"16\", \"17\", \"18\", \"19\"], \"mode\": \"markers\", \"name\": \"AUC_weighted\", \"stepped\": false, \"type\": \"scatter\", \"data\": [0.9748803006560536, 0.9778836148470965, 0.961940553057215, 0.9721393860473398, 0.9693994139022988, 0.9353917836291886, 0.9508202496531021, 0.9598587595764277, 0.9765152864593478, 0.9671918614271795, 0.9815314258812712, 0.9570637639276818, 0.9694056453467516, 0.9320472001278713, 0.9562029400123967, 0.929693847539682, 0.9707912994167568, 0.9716836440872466, 0.984538751420612, 0.9829935813048675]}, {\"categories\": [\"0\", \"1\", \"2\", \"3\", \"4\", \"5\", \"6\", \"7\", \"8\", \"9\", \"10\", \"11\", \"12\", \"13\", \"14\", \"15\", \"16\", \"17\", \"18\", \"19\"], \"mode\": \"lines\", \"name\": \"AUC_weighted_max\", \"stepped\": true, \"type\": \"scatter\", \"data\": [0.9748803006560536, 0.9778836148470965, 0.9778836148470965, 0.9778836148470965, 0.9778836148470965, 0.9778836148470965, 0.9778836148470965, 0.9778836148470965, 0.9778836148470965, 0.9778836148470965, 0.9815314258812712, 0.9815314258812712, 0.9815314258812712, 0.9815314258812712, 0.9815314258812712, 0.9815314258812712, 0.9815314258812712, 0.9815314258812712, 0.984538751420612, 0.984538751420612]}], \"precision_score_macro\": [{\"categories\": [\"0\", \"1\", \"2\", \"3\", \"4\", \"5\", \"6\", \"7\", \"8\", \"9\", \"10\", \"11\", \"12\", \"13\", \"14\", \"15\", \"16\", \"17\", \"18\", \"19\"], \"mode\": \"markers\", \"name\": \"precision_score_macro\", \"stepped\": false, \"type\": \"scatter\", \"data\": [0.9099756045730576, 0.9228290169555414, 0.9176670928340528, 0.9132472550935017, 0.9191079582908195, 0.894994416252465, 0.9211838025762017, 0.9123139536376307, 0.9317396691818572, 0.9110603287920318, 0.9237857355287513, 0.9185523645680963, 0.9061040400301078, 0.8898860472719358, 0.8717796310443369, 0.8982707341886647, 0.9094306719402668, 0.9130502864094022, 0.9336952217821498, 0.725537567236425]}, {\"categories\": [\"0\", \"1\", \"2\", \"3\", \"4\", \"5\", \"6\", \"7\", \"8\", \"9\", \"10\", \"11\", \"12\", \"13\", \"14\", \"15\", \"16\", \"17\", \"18\", \"19\"], \"mode\": \"lines\", \"name\": \"precision_score_macro_max\", \"stepped\": true, \"type\": \"scatter\", \"data\": [0.9099756045730576, 0.9228290169555414, 0.9228290169555414, 0.9228290169555414, 0.9228290169555414, 0.9228290169555414, 0.9228290169555414, 0.9228290169555414, 0.9317396691818572, 0.9317396691818572, 0.9317396691818572, 0.9317396691818572, 0.9317396691818572, 0.9317396691818572, 0.9317396691818572, 0.9317396691818572, 0.9317396691818572, 0.9317396691818572, 0.9336952217821498, 0.9336952217821498]}], \"weighted_accuracy\": [{\"categories\": [\"0\", \"1\", \"2\", \"3\", \"4\", \"5\", \"6\", \"7\", \"8\", \"9\", \"10\", \"11\", \"12\", \"13\", \"14\", \"15\", \"16\", \"17\", \"18\", \"19\"], \"mode\": \"markers\", \"name\": \"weighted_accuracy\", \"stepped\": false, \"type\": \"scatter\", \"data\": [0.9220582170102481, 0.9323713245945594, 0.9273302818657942, 0.9251167853562662, 0.9304903490159017, 0.9082435305121175, 0.9312627819477167, 0.9239700231167419, 0.9406744846861139, 0.9229610879876873, 0.931432317030432, 0.9282774532483485, 0.9189765944504072, 0.9056982854351259, 0.8825174844663805, 0.912700194334568, 0.9219574782909724, 0.9232868936354371, 0.9419024012264892, 0.8762816138849807]}, {\"categories\": [\"0\", \"1\", \"2\", \"3\", \"4\", \"5\", \"6\", \"7\", \"8\", \"9\", \"10\", \"11\", \"12\", \"13\", \"14\", \"15\", \"16\", \"17\", \"18\", \"19\"], \"mode\": \"lines\", \"name\": \"weighted_accuracy_max\", \"stepped\": true, \"type\": \"scatter\", \"data\": [0.9220582170102481, 0.9323713245945594, 0.9323713245945594, 0.9323713245945594, 0.9323713245945594, 0.9323713245945594, 0.9323713245945594, 0.9323713245945594, 0.9406744846861139, 0.9406744846861139, 0.9406744846861139, 0.9406744846861139, 0.9406744846861139, 0.9406744846861139, 0.9406744846861139, 0.9406744846861139, 0.9406744846861139, 0.9406744846861139, 0.9419024012264892, 0.9419024012264892]}], \"log_loss\": [{\"categories\": [\"0\", \"1\", \"2\", \"3\", \"4\", \"5\", \"6\", \"7\", \"8\", \"9\", \"10\", \"11\", \"12\", \"13\", \"14\", \"15\", \"16\", \"17\", \"18\", \"19\"], \"mode\": \"markers\", \"name\": \"log_loss\", \"stepped\": false, \"type\": \"scatter\", \"data\": [0.2376382420609557, 0.18864125983126337, 0.27976848975298974, 0.19783604611391392, 0.251597052149166, 0.3995265907258685, 0.33772266084738933, 0.29057911144209386, 0.18238975576577657, 0.2328328192696095, 0.1658352740736004, 0.29286205657670267, 0.34560792043675675, 0.8251617225621416, 0.30137154424322654, 0.37099904863481564, 0.22227921452397478, 0.21444483200285758, 0.20905847967963495, 0.3504956586279077]}, {\"categories\": [\"0\", \"1\", \"2\", \"3\", \"4\", \"5\", \"6\", \"7\", \"8\", \"9\", \"10\", \"11\", \"12\", \"13\", \"14\", \"15\", \"16\", \"17\", \"18\", \"19\"], \"mode\": \"lines\", \"name\": \"log_loss_min\", \"stepped\": true, \"type\": \"scatter\", \"data\": [0.2376382420609557, 0.18864125983126337, 0.18864125983126337, 0.18864125983126337, 0.18864125983126337, 0.18864125983126337, 0.18864125983126337, 0.18864125983126337, 0.18238975576577657, 0.18238975576577657, 0.1658352740736004, 0.1658352740736004, 0.1658352740736004, 0.1658352740736004, 0.1658352740736004, 0.1658352740736004, 0.1658352740736004, 0.1658352740736004, 0.1658352740736004, 0.1658352740736004]}], \"recall_score_micro\": [{\"categories\": [\"0\", \"1\", \"2\", \"3\", \"4\", \"5\", \"6\", \"7\", \"8\", \"9\", \"10\", \"11\", \"12\", \"13\", \"14\", \"15\", \"16\", \"17\", \"18\", \"19\"], \"mode\": \"markers\", \"name\": \"recall_score_micro\", \"stepped\": false, \"type\": \"scatter\", \"data\": [0.9132800480318211, 0.9256632519043867, 0.9062066118803708, 0.9132612856017112, 0.9168167661075463, 0.8867218282111899, 0.9168449097527112, 0.911516379601486, 0.9292093511951668, 0.9079327554504859, 0.9238902022589967, 0.911516379601486, 0.9061878494502608, 0.8920409771473601, 0.8778190551240197, 0.8973601260835302, 0.9062159930954258, 0.9186085781830463, 0.9309730196255019, 0.8339712559570716]}, {\"categories\": [\"0\", \"1\", \"2\", \"3\", \"4\", \"5\", \"6\", \"7\", \"8\", \"9\", \"10\", \"11\", \"12\", \"13\", \"14\", \"15\", \"16\", \"17\", \"18\", \"19\"], \"mode\": \"lines\", \"name\": \"recall_score_micro_max\", \"stepped\": true, \"type\": \"scatter\", \"data\": [0.9132800480318211, 0.9256632519043867, 0.9256632519043867, 0.9256632519043867, 0.9256632519043867, 0.9256632519043867, 0.9256632519043867, 0.9256632519043867, 0.9292093511951668, 0.9292093511951668, 0.9292093511951668, 0.9292093511951668, 0.9292093511951668, 0.9292093511951668, 0.9292093511951668, 0.9292093511951668, 0.9292093511951668, 0.9292093511951668, 0.9309730196255019, 0.9309730196255019]}]}, \"metricName\": null, \"primaryMetricName\": \"AUC_weighted\", \"showLegend\": false}, \"run_metrics\": [{\"name\": \"experiment_status\", \"run_id\": \"AutoML_0bf03af8-8d8d-4440-8bab-bd567c1496ea\", \"categories\": [0, 1, 2, 3, 4, 5, 6, 7, 8, 9, 10, 11, 12, 13], \"series\": [{\"data\": [\"DatasetEvaluation\", \"FeaturesGeneration\", \"DatasetFeaturization\", \"DatasetFeaturizationCompleted\", \"DatasetCrossValidationSplit\", \"ModelSelection\", \"BestRunExplainModel\", \"ModelExplanationDataSetSetup\", \"PickSurrogateModel\", \"EngineeredFeatureExplanations\", \"EngineeredFeatureExplanations\", \"RawFeaturesExplanations\", \"RawFeaturesExplanations\", \"BestRunExplainModel\"]}]}, {\"name\": \"experiment_status_description\", \"run_id\": \"AutoML_0bf03af8-8d8d-4440-8bab-bd567c1496ea\", \"categories\": [0, 1, 2, 3, 4, 5, 6, 7, 8, 9, 10, 11, 12, 13], \"series\": [{\"data\": [\"Gathering dataset statistics.\", \"Generating features for the dataset.\", \"Beginning to fit featurizers and featurize the dataset.\", \"Completed fit featurizers and featurizing the dataset.\", \"Generating individually featurized CV splits.\", \"Beginning model selection.\", \"Best run model explanations started\", \"Model explanations data setup completed\", \"Choosing LightGBM as the surrogate model for explanations\", \"Computation of engineered features started\", \"Computation of engineered features completed\", \"Computation of raw features started\", \"Computation of raw features completed\", \"Best run model explanations completed\"]}]}, {\"name\": \"weighted_accuracy\", \"run_id\": \"AutoML_0bf03af8-8d8d-4440-8bab-bd567c1496ea\", \"categories\": [0], \"series\": [{\"data\": [0.9419024012264892]}]}, {\"name\": \"AUC_macro\", \"run_id\": \"AutoML_0bf03af8-8d8d-4440-8bab-bd567c1496ea\", \"categories\": [0], \"series\": [{\"data\": [0.9845387514206118]}]}, {\"name\": \"average_precision_score_micro\", \"run_id\": \"AutoML_0bf03af8-8d8d-4440-8bab-bd567c1496ea\", \"categories\": [0], \"series\": [{\"data\": [0.9857556854619602]}]}, {\"name\": \"accuracy\", \"run_id\": \"AutoML_0bf03af8-8d8d-4440-8bab-bd567c1496ea\", \"categories\": [0], \"series\": [{\"data\": [0.9309730196255019]}]}, {\"name\": \"norm_macro_recall\", \"run_id\": \"AutoML_0bf03af8-8d8d-4440-8bab-bd567c1496ea\", \"categories\": [0], \"series\": [{\"data\": [0.8366620964284911]}]}, {\"name\": \"precision_score_macro\", \"run_id\": \"AutoML_0bf03af8-8d8d-4440-8bab-bd567c1496ea\", \"categories\": [0], \"series\": [{\"data\": [0.9336952217821498]}]}, {\"name\": \"AUC_weighted\", \"run_id\": \"AutoML_0bf03af8-8d8d-4440-8bab-bd567c1496ea\", \"categories\": [0], \"series\": [{\"data\": [0.984538751420612]}]}, {\"name\": \"f1_score_macro\", \"run_id\": \"AutoML_0bf03af8-8d8d-4440-8bab-bd567c1496ea\", \"categories\": [0], \"series\": [{\"data\": [0.9248325952726821]}]}, {\"name\": \"precision_score_weighted\", \"run_id\": \"AutoML_0bf03af8-8d8d-4440-8bab-bd567c1496ea\", \"categories\": [0], \"series\": [{\"data\": [0.9317414017189338]}]}, {\"name\": \"f1_score_micro\", \"run_id\": \"AutoML_0bf03af8-8d8d-4440-8bab-bd567c1496ea\", \"categories\": [0], \"series\": [{\"data\": [0.9309730196255019]}]}, {\"name\": \"precision_score_micro\", \"run_id\": \"AutoML_0bf03af8-8d8d-4440-8bab-bd567c1496ea\", \"categories\": [0], \"series\": [{\"data\": [0.9309730196255019]}]}, {\"name\": \"recall_score_micro\", \"run_id\": \"AutoML_0bf03af8-8d8d-4440-8bab-bd567c1496ea\", \"categories\": [0], \"series\": [{\"data\": [0.9309730196255019]}]}, {\"name\": \"recall_score_weighted\", \"run_id\": \"AutoML_0bf03af8-8d8d-4440-8bab-bd567c1496ea\", \"categories\": [0], \"series\": [{\"data\": [0.9309730196255019]}]}, {\"name\": \"balanced_accuracy\", \"run_id\": \"AutoML_0bf03af8-8d8d-4440-8bab-bd567c1496ea\", \"categories\": [0], \"series\": [{\"data\": [0.9183310482142456]}]}, {\"name\": \"average_precision_score_weighted\", \"run_id\": \"AutoML_0bf03af8-8d8d-4440-8bab-bd567c1496ea\", \"categories\": [0], \"series\": [{\"data\": [0.9857922050150059]}]}, {\"name\": \"recall_score_macro\", \"run_id\": \"AutoML_0bf03af8-8d8d-4440-8bab-bd567c1496ea\", \"categories\": [0], \"series\": [{\"data\": [0.9183310482142456]}]}, {\"name\": \"matthews_correlation\", \"run_id\": \"AutoML_0bf03af8-8d8d-4440-8bab-bd567c1496ea\", \"categories\": [0], \"series\": [{\"data\": [0.8518200535328018]}]}, {\"name\": \"log_loss\", \"run_id\": \"AutoML_0bf03af8-8d8d-4440-8bab-bd567c1496ea\", \"categories\": [0], \"series\": [{\"data\": [0.20905847967963495]}]}, {\"name\": \"AUC_micro\", \"run_id\": \"AutoML_0bf03af8-8d8d-4440-8bab-bd567c1496ea\", \"categories\": [0], \"series\": [{\"data\": [0.9851434550947248]}]}, {\"name\": \"f1_score_weighted\", \"run_id\": \"AutoML_0bf03af8-8d8d-4440-8bab-bd567c1496ea\", \"categories\": [0], \"series\": [{\"data\": [0.9303616073360775]}]}, {\"name\": \"average_precision_score_macro\", \"run_id\": \"AutoML_0bf03af8-8d8d-4440-8bab-bd567c1496ea\", \"categories\": [0], \"series\": [{\"data\": [0.9840128681092706]}]}], \"run_logs\": \"\\nRun is completed.\", \"graph\": {}, \"widget_settings\": {\"childWidgetDisplay\": \"popup\", \"send_telemetry\": false, \"log_level\": \"INFO\", \"sdk_version\": \"1.34.0\"}, \"loading\": false}"
          },
          "metadata": {}
        }
      ],
      "execution_count": 10,
      "metadata": {
        "gather": {
          "logged": 1635981546359
        },
        "jupyter": {
          "outputs_hidden": false,
          "source_hidden": false
        },
        "nteract": {
          "transient": {
            "deleting": false
          }
        },
        "id": "_lbzZ9SZDIzN",
        "colab": {
          "referenced_widgets": [
            "449ed08cc2fa462b992870f28c583a38",
            "01149ec309b34419ace638e5e4051cd1"
          ]
        },
        "outputId": "bf8a6dd5-f863-4971-d75d-7d4c1ea6ef3b"
      }
    },
    {
      "cell_type": "code",
      "source": [
        "automl_run.wait_for_completion(show_output=True)"
      ],
      "outputs": [
        {
          "output_type": "display_data",
          "data": {
            "text/plain": "<IPython.core.display.HTML object>",
            "text/html": "<table style=\"width:100%\"><tr><th>Experiment</th><th>Id</th><th>Type</th><th>Status</th><th>Details Page</th><th>Docs Page</th></tr><tr><td>experiment-capstone-automl</td><td>AutoML_0bf03af8-8d8d-4440-8bab-bd567c1496ea</td><td>automl</td><td>NotStarted</td><td><a href=\"https://ml.azure.com/runs/AutoML_0bf03af8-8d8d-4440-8bab-bd567c1496ea?wsid=/subscriptions/9e65f93e-bdd8-437b-b1e8-0647cd6098f7/resourcegroups/aml-quickstarts-162691/workspaces/quick-starts-ws-162691&amp;tid=660b3398-b80e-49d2-bc5b-ac1dc93b5254\" target=\"_blank\" rel=\"noopener\">Link to Azure Machine Learning studio</a></td><td><a href=\"https://docs.microsoft.com/en-us/python/api/overview/azure/ml/intro?view=azure-ml-py\" target=\"_blank\" rel=\"noopener\">Link to Documentation</a></td></tr></table>"
          },
          "metadata": {}
        },
        {
          "output_type": "stream",
          "name": "stdout",
          "text": "\nCurrent status: FeaturesGeneration. Generating features for the dataset.\nCurrent status: DatasetCrossValidationSplit. Beginning model selection.\nCurrent status: ModelSelection. Beginning model selection.\n\n****************************************************************************************************\nDATA GUARDRAILS: \n\nTYPE:         Class balancing detection\nSTATUS:       PASSED\nDESCRIPTION:  Your inputs were analyzed, and all classes are balanced in your training data.\n              Learn more about imbalanced data: https://aka.ms/AutomatedMLImbalancedData\n\n****************************************************************************************************\n\nTYPE:         Missing feature values imputation\nSTATUS:       PASSED\nDESCRIPTION:  No feature missing values were detected in the training data.\n              Learn more about missing value imputation: https://aka.ms/AutomatedMLFeaturization\n\n****************************************************************************************************\n\nTYPE:         High cardinality feature detection\nSTATUS:       PASSED\nDESCRIPTION:  Your inputs were analyzed, and no high cardinality features were detected.\n              Learn more about high cardinality feature handling: https://aka.ms/AutomatedMLFeaturization\n\n****************************************************************************************************\n\n****************************************************************************************************\nITERATION: The iteration being evaluated.\nPIPELINE: A summary description of the pipeline being evaluated.\nDURATION: Time taken for the current iteration.\nMETRIC: The result of computing score on the fitted pipeline.\nBEST: The best observed score thus far.\n****************************************************************************************************\n\n ITERATION   PIPELINE                                       DURATION      METRIC      BEST\n         1   MaxAbsScaler XGBoostClassifier                 0:00:34       0.9779    0.9779\n         3   MaxAbsScaler RandomForest                      0:01:14       0.9721    0.9779\n         4   StandardScalerWrapper LightGBM                 0:01:49       0.9694    0.9779\n         0   MaxAbsScaler LightGBM                          0:02:26       0.9749    0.9779\n         6   SparseNormalizer XGBoostClassifier             0:01:44       0.9508    0.9779\n         5   StandardScalerWrapper KNN                      0:02:41       0.9354    0.9779\n         2   MaxAbsScaler ExtremeRandomTrees                0:03:31       0.9619    0.9779\n         7   SparseNormalizer RandomForest                  0:02:03       0.9599    0.9779\n         8   RobustScaler KNN                               0:02:08       0.9765    0.9779\n         9   MinMaxScaler RandomForest                      0:01:31       0.9672    0.9779\n        10   StandardScalerWrapper LogisticRegression       0:01:21       0.9815    0.9815\n        11   StandardScalerWrapper SVM                      0:02:23       0.9571    0.9815\n        12   StandardScalerWrapper XGBoostClassifier        0:02:39       0.9694    0.9815\n        13   SparseNormalizer KNN                           0:01:58       0.9320    0.9815\n        14   RobustScaler ExtremeRandomTrees                0:01:58       0.9562    0.9815\n        15   SparseNormalizer XGBoostClassifier             0:03:11       0.9297    0.9815\n        16   MinMaxScaler ExtremeRandomTrees                0:02:44       0.9708    0.9815\n        17   MinMaxScaler ExtremeRandomTrees                0:02:03       0.9717    0.9815\n        18    VotingEnsemble                                0:00:43       0.9845    0.9845\n        19    StackEnsemble                                 0:01:17       0.9830    0.9845\n"
        },
        {
          "output_type": "execute_result",
          "execution_count": 11,
          "data": {
            "text/plain": "{'runId': 'AutoML_0bf03af8-8d8d-4440-8bab-bd567c1496ea',\n 'target': 'COMPUTE-AUTOML',\n 'status': 'Completed',\n 'startTimeUtc': '2021-11-03T23:19:19.336307Z',\n 'endTimeUtc': '2021-11-03T23:31:33.128161Z',\n 'services': {},\n 'properties': {'num_iterations': '20',\n  'training_type': 'TrainFull',\n  'acquisition_function': 'EI',\n  'primary_metric': 'AUC_weighted',\n  'train_split': '0',\n  'acquisition_parameter': '0',\n  'num_cross_validation': '3',\n  'target': 'COMPUTE-AUTOML',\n  'AMLSettingsJsonString': '{\"path\":null,\"name\":\"experiment-capstone-automl\",\"subscription_id\":\"9e65f93e-bdd8-437b-b1e8-0647cd6098f7\",\"resource_group\":\"aml-quickstarts-162691\",\"workspace_name\":\"quick-starts-ws-162691\",\"region\":\"southcentralus\",\"compute_target\":\"COMPUTE-AUTOML\",\"spark_service\":null,\"azure_service\":\"remote\",\"many_models\":false,\"pipeline_fetch_max_batch_size\":1,\"enable_batch_run\":false,\"enable_run_restructure\":false,\"start_auxiliary_runs_before_parent_complete\":false,\"enable_code_generation\":false,\"iterations\":20,\"primary_metric\":\"AUC_weighted\",\"task_type\":\"classification\",\"data_script\":null,\"test_size\":0.0,\"test_include_predictions_only\":false,\"validation_size\":0.0,\"n_cross_validations\":3,\"y_min\":null,\"y_max\":null,\"num_classes\":null,\"featurization\":\"auto\",\"_ignore_package_version_incompatibilities\":false,\"is_timeseries\":false,\"max_cores_per_iteration\":-1,\"max_concurrent_iterations\":5,\"iteration_timeout_minutes\":5,\"mem_in_mb\":null,\"enforce_time_on_windows\":false,\"experiment_timeout_minutes\":30,\"experiment_exit_score\":null,\"whitelist_models\":null,\"blacklist_algos\":[\"TensorFlowLinearClassifier\",\"TensorFlowDNN\"],\"supported_models\":[\"SVM\",\"LinearSVM\",\"DecisionTree\",\"ExtremeRandomTrees\",\"KNN\",\"RandomForest\",\"AveragedPerceptronClassifier\",\"GradientBoosting\",\"TensorFlowDNN\",\"BernoulliNaiveBayes\",\"LightGBM\",\"SGD\",\"MultinomialNaiveBayes\",\"TensorFlowLinearClassifier\",\"XGBoostClassifier\",\"LogisticRegression\"],\"private_models\":[],\"auto_blacklist\":true,\"blacklist_samples_reached\":false,\"exclude_nan_labels\":true,\"verbosity\":20,\"_debug_log\":\"azureml_automl.log\",\"show_warnings\":false,\"model_explainability\":true,\"service_url\":null,\"sdk_url\":null,\"sdk_packages\":null,\"enable_onnx_compatible_models\":false,\"enable_split_onnx_featurizer_estimator_models\":false,\"vm_type\":\"STANDARD_DS3_V2\",\"telemetry_verbosity\":20,\"send_telemetry\":true,\"enable_dnn\":false,\"scenario\":\"SDK-1.13.0\",\"environment_label\":null,\"save_mlflow\":false,\"force_text_dnn\":false,\"enable_feature_sweeping\":true,\"enable_early_stopping\":true,\"early_stopping_n_iters\":10,\"metrics\":null,\"enable_metric_confidence\":false,\"enable_ensembling\":true,\"enable_stack_ensembling\":true,\"ensemble_iterations\":15,\"enable_tf\":false,\"enable_subsampling\":false,\"subsample_seed\":null,\"enable_nimbusml\":false,\"enable_streaming\":false,\"force_streaming\":false,\"track_child_runs\":true,\"allowed_private_models\":[],\"label_column_name\":\"diagnosis\",\"weight_column_name\":null,\"cv_split_column_names\":null,\"positive_label\":null,\"enable_local_managed\":false,\"_local_managed_run_id\":null,\"cost_mode\":1,\"lag_length\":0,\"metric_operation\":\"maximize\",\"preprocess\":true}',\n  'DataPrepJsonString': '{\\\\\"training_data\\\\\": {\\\\\"datasetId\\\\\": \\\\\"9be33acf-4421-4aa4-8b66-4f563a35eb4e\\\\\"}, \\\\\"datasets\\\\\": 0}',\n  'EnableSubsampling': 'False',\n  'runTemplate': 'AutoML',\n  'azureml.runsource': 'automl',\n  'display_task_type': 'classification',\n  'dependencies_versions': '{\"azureml-widgets\": \"1.34.0\", \"azureml-train\": \"1.34.0\", \"azureml-train-restclients-hyperdrive\": \"1.34.0\", \"azureml-train-core\": \"1.34.0\", \"azureml-train-automl\": \"1.34.0\", \"azureml-train-automl-runtime\": \"1.34.0\", \"azureml-train-automl-client\": \"1.34.0\", \"azureml-tensorboard\": \"1.34.0\", \"azureml-telemetry\": \"1.34.0\", \"azureml-sdk\": \"1.34.0\", \"azureml-samples\": \"0+unknown\", \"azureml-responsibleai\": \"1.34.0\", \"azureml-pipeline\": \"1.34.0\", \"azureml-pipeline-steps\": \"1.34.0\", \"azureml-pipeline-core\": \"1.34.0\", \"azureml-opendatasets\": \"1.34.0\", \"azureml-mlflow\": \"1.34.0\", \"azureml-interpret\": \"1.34.0\", \"azureml-inference-server-http\": \"0.3.1\", \"azureml-explain-model\": \"1.34.0\", \"azureml-defaults\": \"1.34.0\", \"azureml-dataset-runtime\": \"1.34.0\", \"azureml-dataprep\": \"2.22.2\", \"azureml-dataprep-rslex\": \"1.20.1\", \"azureml-dataprep-native\": \"38.0.0\", \"azureml-datadrift\": \"1.34.0\", \"azureml-core\": \"1.34.0\", \"azureml-contrib-services\": \"1.34.0\", \"azureml-contrib-server\": \"1.34.0\", \"azureml-contrib-reinforcementlearning\": \"1.34.0\", \"azureml-contrib-pipeline-steps\": \"1.34.0\", \"azureml-contrib-notebook\": \"1.34.0\", \"azureml-contrib-fairness\": \"1.34.0\", \"azureml-contrib-dataset\": \"1.34.0\", \"azureml-contrib-automl-pipeline-steps\": \"1.34.0\", \"azureml-cli-common\": \"1.34.0\", \"azureml-automl-runtime\": \"1.34.0\", \"azureml-automl-dnn-nlp\": \"1.34.0\", \"azureml-automl-core\": \"1.34.0\", \"azureml-accel-models\": \"1.34.0\"}',\n  '_aml_system_scenario_identification': 'Remote.Parent',\n  'ClientType': 'SDK',\n  'environment_cpu_name': 'AzureML-AutoML',\n  'environment_cpu_label': 'prod',\n  'environment_gpu_name': 'AzureML-AutoML-GPU',\n  'environment_gpu_label': 'prod',\n  'root_attribution': 'automl',\n  'attribution': 'AutoML',\n  'Orchestrator': 'AutoML',\n  'CancelUri': 'https://southcentralus.api.azureml.ms/jasmine/v1.0/subscriptions/9e65f93e-bdd8-437b-b1e8-0647cd6098f7/resourceGroups/aml-quickstarts-162691/providers/Microsoft.MachineLearningServices/workspaces/quick-starts-ws-162691/experimentids/917db7dd-5d9d-4e24-b291-2f0faa25f1b0/cancel/AutoML_0bf03af8-8d8d-4440-8bab-bd567c1496ea',\n  'ClientSdkVersion': '1.35.1',\n  'snapshotId': '00000000-0000-0000-0000-000000000000',\n  'SetupRunId': 'AutoML_0bf03af8-8d8d-4440-8bab-bd567c1496ea_setup',\n  'SetupRunContainerId': 'dcid.AutoML_0bf03af8-8d8d-4440-8bab-bd567c1496ea_setup',\n  'FeaturizationRunJsonPath': 'featurizer_container.json',\n  'FeaturizationRunId': 'AutoML_0bf03af8-8d8d-4440-8bab-bd567c1496ea_featurize',\n  'ProblemInfoJsonString': '{\"dataset_num_categorical\": 0, \"is_sparse\": false, \"subsampling\": false, \"has_extra_col\": true, \"dataset_classes\": 2, \"dataset_features\": 5, \"dataset_samples\": 565, \"single_frequency_class_detected\": false}',\n  'ModelExplainRunId': 'AutoML_0bf03af8-8d8d-4440-8bab-bd567c1496ea_ModelExplain'},\n 'inputDatasets': [{'dataset': {'id': '9be33acf-4421-4aa4-8b66-4f563a35eb4e'}, 'consumptionDetails': {'type': 'RunInput', 'inputName': 'training_data', 'mechanism': 'Direct'}}],\n 'outputDatasets': [],\n 'logFiles': {},\n 'submittedBy': 'ODL_User 162691'}"
          },
          "metadata": {}
        }
      ],
      "execution_count": 11,
      "metadata": {
        "jupyter": {
          "source_hidden": false,
          "outputs_hidden": false
        },
        "nteract": {
          "transient": {
            "deleting": false
          }
        },
        "gather": {
          "logged": 1635982307514
        },
        "id": "ah8Hq8NCNMY4",
        "outputId": "cf632881-67fe-4813-9153-f4d6538a9663"
      }
    },
    {
      "cell_type": "markdown",
      "source": [
        "## Best Model\n",
        "\n",
        "TODO: In the cell below, get the best model from the automl experiments and display all the properties of the model.\n",
        "\n"
      ],
      "metadata": {
        "id": "Skd-RNClDIzO"
      }
    },
    {
      "cell_type": "code",
      "source": [
        "def print_model(model, prefix=\"\"):\n",
        "    for step in model.steps:\n",
        "        print(prefix + step[0])\n",
        "        if hasattr(step[1], 'estimators') and hasattr(step[1], 'weights'):\n",
        "            pprint({'estimators': list(e[0] for e in step[1].estimators), 'weights': step[1].weights})\n",
        "            print()\n",
        "            for estimator in step[1].estimators:\n",
        "                print_model(estimator[1], estimator[0]+ ' - ')\n",
        "        elif hasattr(step[1], '_base_learners') and hasattr(step[1], '_meta_learner'):\n",
        "            print(\"\\nMeta Learner\")\n",
        "            pprint(step[1]._meta_learner)\n",
        "            print()\n",
        "            for estimator in step[1]._base_learners:\n",
        "                print_model(estimator[1], estimator[0]+ ' - ')\n",
        "        else:\n",
        "            pprint(step[1].get_params())\n",
        "            print()"
      ],
      "outputs": [],
      "execution_count": 14,
      "metadata": {
        "id": "gzVGP_K4Imqr",
        "gather": {
          "logged": 1635982468783
        }
      }
    },
    {
      "cell_type": "code",
      "source": [
        "automl_best_run, automl_best_model = automl_run.get_output()\n",
        "\n",
        "automl_best_run_metrics = automl_best_run.get_metrics()\n",
        "\n",
        "print(f'********** Best AutoML accuracy: {automl_best_run_metrics.get(\"accuracy\")}')\n",
        "print(f'********** printing Best AutoML run:\\n{automl_best_run}\\n\\nPrinting model:')\n",
        "\n",
        "print_model(automl_best_model)"
      ],
      "outputs": [
        {
          "output_type": "stream",
          "name": "stderr",
          "text": "WARNING:root:The version of the SDK does not match the version the model was trained on.\nWARNING:root:The consistency in the result may not be guaranteed.\nWARNING:root:Package:azureml-automl-core, training version:1.35.1, current version:1.34.0\nPackage:azureml-automl-runtime, training version:1.35.1, current version:1.34.0\nPackage:azureml-core, training version:1.35.0.post1, current version:1.34.0\nPackage:azureml-dataprep, training version:2.23.2, current version:2.22.2\nPackage:azureml-dataprep-rslex, training version:1.21.2, current version:1.20.1\nPackage:azureml-dataset-runtime, training version:1.35.0, current version:1.34.0\nPackage:azureml-defaults, training version:1.35.0, current version:1.34.0\nPackage:azureml-interpret, training version:1.35.0, current version:1.34.0\nPackage:azureml-mlflow, training version:1.35.0, current version:1.34.0\nPackage:azureml-pipeline-core, training version:1.35.0, current version:1.34.0\nPackage:azureml-responsibleai, training version:1.35.0, current version:1.34.0\nPackage:azureml-telemetry, training version:1.35.0, current version:1.34.0\nPackage:azureml-train-automl-client, training version:1.35.0, current version:1.34.0\nPackage:azureml-train-automl-runtime, training version:1.35.1, current version:1.34.0\nPackage:azureml-train-core, training version:1.35.0, current version:1.34.0\nPackage:azureml-train-restclients-hyperdrive, training version:1.35.0, current version:1.34.0\nWARNING:root:Please ensure the version of your local conda dependencies match the version on which your model was trained in order to properly retrieve your model.\n"
        },
        {
          "output_type": "stream",
          "name": "stdout",
          "text": "********** Best AutoML accuracy: 0.9309730196255019\n********** printing Best AutoML run:\nRun(Experiment: experiment-capstone-automl,\nId: AutoML_0bf03af8-8d8d-4440-8bab-bd567c1496ea_18,\nType: azureml.scriptrun,\nStatus: Completed)\n\nPrinting model:\ndatatransformer\n{'enable_dnn': False,\n 'enable_feature_sweeping': True,\n 'feature_sweeping_config': {},\n 'feature_sweeping_timeout': 86400,\n 'featurization_config': None,\n 'force_text_dnn': False,\n 'is_cross_validation': True,\n 'is_onnx_compatible': False,\n 'observer': None,\n 'task': 'classification',\n 'working_dir': '/mnt/batch/tasks/shared/LS_root/mounts/clusters/notebook162691/code/Users/odl_user_162691'}\n\nprefittedsoftvotingclassifier\n{'estimators': ['10', '1', '8', '0', '3', '11', '6'],\n 'weights': [0.2857142857142857,\n             0.07142857142857142,\n             0.07142857142857142,\n             0.07142857142857142,\n             0.07142857142857142,\n             0.14285714285714285,\n             0.2857142857142857]}\n\n10 - standardscalerwrapper\n{'class_name': 'StandardScaler',\n 'copy': True,\n 'module_name': 'sklearn.preprocessing._data',\n 'with_mean': True,\n 'with_std': True}\n\n10 - logisticregression\n{'C': 2222.996482526191,\n 'class_weight': None,\n 'dual': False,\n 'fit_intercept': True,\n 'intercept_scaling': 1,\n 'l1_ratio': None,\n 'max_iter': 100,\n 'multi_class': 'multinomial',\n 'n_jobs': -1,\n 'penalty': 'l2',\n 'random_state': None,\n 'solver': 'lbfgs',\n 'tol': 0.0001,\n 'verbose': 0,\n 'warm_start': False}\n\n1 - maxabsscaler\n{'copy': True}\n\n1 - xgboostclassifier\n{'base_score': 0.5,\n 'booster': 'gbtree',\n 'colsample_bylevel': 1,\n 'colsample_bynode': 1,\n 'colsample_bytree': 1,\n 'gamma': 0,\n 'learning_rate': 0.1,\n 'max_delta_step': 0,\n 'max_depth': 3,\n 'min_child_weight': 1,\n 'missing': nan,\n 'n_estimators': 100,\n 'n_jobs': -1,\n 'nthread': None,\n 'objective': 'binary:logistic',\n 'random_state': 0,\n 'reg_alpha': 0,\n 'reg_lambda': 1,\n 'scale_pos_weight': 1,\n 'seed': None,\n 'silent': None,\n 'subsample': 1,\n 'tree_method': 'auto',\n 'verbose': -10,\n 'verbosity': 0}\n\n8 - robustscaler\n{'copy': True,\n 'quantile_range': [25, 75],\n 'with_centering': False,\n 'with_scaling': True}\n\n8 - kneighborsclassifier\n{'algorithm': 'auto',\n 'leaf_size': 30,\n 'metric': 'manhattan',\n 'metric_params': None,\n 'n_jobs': 1,\n 'n_neighbors': 22,\n 'p': 2,\n 'weights': 'distance'}\n\n0 - maxabsscaler\n{'copy': True}\n\n0 - lightgbmclassifier\n{'min_data_in_leaf': 20,\n 'n_jobs': -1,\n 'problem_info': ProblemInfo(\n    gpu_training_param_dict={'processing_unit_type': 'cpu'}\n),\n 'random_state': None}\n\n3 - maxabsscaler\n{'copy': True}\n\n3 - randomforestclassifier\n{'bootstrap': True,\n 'ccp_alpha': 0.0,\n 'class_weight': None,\n 'criterion': 'gini',\n 'max_depth': None,\n 'max_features': 'log2',\n 'max_leaf_nodes': None,\n 'max_samples': None,\n 'min_impurity_decrease': 0.0,\n 'min_impurity_split': None,\n 'min_samples_leaf': 0.01,\n 'min_samples_split': 0.01,\n 'min_weight_fraction_leaf': 0.0,\n 'n_estimators': 10,\n 'n_jobs': -1,\n 'oob_score': False,\n 'random_state': None,\n 'verbose': 0,\n 'warm_start': False}\n\n11 - standardscalerwrapper\n{'class_name': 'StandardScaler',\n 'copy': True,\n 'module_name': 'sklearn.preprocessing._data',\n 'with_mean': True,\n 'with_std': True}\n\n11 - svcwrapper\n{'C': 2222.996482526191,\n 'break_ties': False,\n 'cache_size': 200,\n 'class_weight': 'balanced',\n 'coef0': 0.0,\n 'decision_function_shape': 'ovr',\n 'degree': 3,\n 'gamma': 'scale',\n 'kernel': 'rbf',\n 'max_iter': -1,\n 'probability': True,\n 'random_state': None,\n 'shrinking': True,\n 'tol': 0.001,\n 'verbose': False}\n\n6 - sparsenormalizer\n{'copy': True, 'norm': 'max'}\n\n6 - xgboostclassifier\n{'base_score': 0.5,\n 'booster': 'gbtree',\n 'colsample_bylevel': 1,\n 'colsample_bynode': 1,\n 'colsample_bytree': 0.8,\n 'eta': 0.3,\n 'gamma': 0,\n 'learning_rate': 0.1,\n 'max_delta_step': 0,\n 'max_depth': 6,\n 'max_leaves': 0,\n 'min_child_weight': 1,\n 'missing': nan,\n 'n_estimators': 10,\n 'n_jobs': -1,\n 'nthread': None,\n 'objective': 'reg:logistic',\n 'random_state': 0,\n 'reg_alpha': 0,\n 'reg_lambda': 0.625,\n 'scale_pos_weight': 1,\n 'seed': None,\n 'silent': None,\n 'subsample': 0.8,\n 'tree_method': 'auto',\n 'verbose': -10,\n 'verbosity': 0}\n\n"
        }
      ],
      "execution_count": 15,
      "metadata": {
        "gather": {
          "logged": 1635982476242
        },
        "jupyter": {
          "outputs_hidden": false,
          "source_hidden": false
        },
        "nteract": {
          "transient": {
            "deleting": false
          }
        },
        "id": "bPGTZ5shDIzP",
        "outputId": "b97fdfe1-5623-432e-88d8-2ced42de99d8"
      }
    },
    {
      "cell_type": "code",
      "source": [
        "print(automl_run.get_metrics())"
      ],
      "outputs": [
        {
          "output_type": "stream",
          "name": "stdout",
          "text": "{'experiment_status': ['DatasetEvaluation', 'FeaturesGeneration', 'DatasetFeaturization', 'DatasetFeaturizationCompleted', 'DatasetCrossValidationSplit', 'ModelSelection', 'BestRunExplainModel', 'ModelExplanationDataSetSetup', 'PickSurrogateModel', 'EngineeredFeatureExplanations', 'EngineeredFeatureExplanations', 'RawFeaturesExplanations', 'RawFeaturesExplanations', 'BestRunExplainModel'], 'experiment_status_description': ['Gathering dataset statistics.', 'Generating features for the dataset.', 'Beginning to fit featurizers and featurize the dataset.', 'Completed fit featurizers and featurizing the dataset.', 'Generating individually featurized CV splits.', 'Beginning model selection.', 'Best run model explanations started', 'Model explanations data setup completed', 'Choosing LightGBM as the surrogate model for explanations', 'Computation of engineered features started', 'Computation of engineered features completed', 'Computation of raw features started', 'Computation of raw features completed', 'Best run model explanations completed'], 'weighted_accuracy': 0.9419024012264892, 'AUC_macro': 0.9845387514206118, 'average_precision_score_micro': 0.9857556854619602, 'accuracy': 0.9309730196255019, 'norm_macro_recall': 0.8366620964284911, 'precision_score_macro': 0.9336952217821498, 'AUC_weighted': 0.984538751420612, 'f1_score_macro': 0.9248325952726821, 'precision_score_weighted': 0.9317414017189338, 'f1_score_micro': 0.9309730196255019, 'precision_score_micro': 0.9309730196255019, 'recall_score_micro': 0.9309730196255019, 'recall_score_weighted': 0.9309730196255019, 'balanced_accuracy': 0.9183310482142456, 'average_precision_score_weighted': 0.9857922050150059, 'recall_score_macro': 0.9183310482142456, 'matthews_correlation': 0.8518200535328018, 'log_loss': 0.20905847967963495, 'AUC_micro': 0.9851434550947248, 'f1_score_weighted': 0.9303616073360775, 'average_precision_score_macro': 0.9840128681092706}\n"
        }
      ],
      "execution_count": 16,
      "metadata": {
        "jupyter": {
          "source_hidden": false,
          "outputs_hidden": false
        },
        "nteract": {
          "transient": {
            "deleting": false
          }
        },
        "gather": {
          "logged": 1635982480594
        },
        "id": "vm6pVYDewoKt",
        "outputId": "854fa371-ee54-4836-c72b-09d8810d9bd3"
      }
    },
    {
      "cell_type": "code",
      "source": [
        "# Create the outputs directory\n",
        "if 'outputs' not in os.listdir():\n",
        "    os.mkdir('outputs')"
      ],
      "outputs": [],
      "execution_count": 17,
      "metadata": {
        "jupyter": {
          "source_hidden": false,
          "outputs_hidden": false
        },
        "nteract": {
          "transient": {
            "deleting": false
          }
        },
        "gather": {
          "logged": 1635982480795
        },
        "id": "GO9oXlW-NMY6"
      }
    },
    {
      "cell_type": "code",
      "source": [
        "#TODO: Save the best model\n",
        "joblib.dump(automl_best_model, os.path.join('outputs','best_automl.pkl'))"
      ],
      "outputs": [
        {
          "output_type": "execute_result",
          "execution_count": 18,
          "data": {
            "text/plain": "['outputs/best_automl.pkl']"
          },
          "metadata": {}
        }
      ],
      "execution_count": 18,
      "metadata": {
        "gather": {
          "logged": 1635982481099
        },
        "jupyter": {
          "outputs_hidden": false,
          "source_hidden": false
        },
        "nteract": {
          "transient": {
            "deleting": false
          }
        },
        "id": "fNc1risDDIzP",
        "outputId": "d2ce0f1d-39ba-4068-f33c-29d7d24c444e"
      }
    },
    {
      "cell_type": "markdown",
      "source": [
        "## Model Deployment\n",
        "\n",
        "Remember you have to deploy only one of the two models you trained but you still need to register both the models. Perform the steps in the rest of this notebook only if you wish to deploy this model.\n",
        "\n",
        "TODO: In the cell below, register the model, create an inference config and deploy the model as a web service."
      ],
      "metadata": {
        "id": "otKptwQ9DIzQ"
      }
    },
    {
      "cell_type": "code",
      "source": [
        "# Refer - https://docs.microsoft.com/en-us/azure/machine-learning/how-to-deploy-and-where?tabs=python\n",
        "\n",
        "# Tutorial: Deploy an image classification model in Azure Container Instances -\n",
        "# https://docs.microsoft.com/en-us/azure/machine-learning/tutorial-deploy-models-with-aml\n",
        "\n",
        "# Register the model\n",
        "# registered_model = automl_run.register_model(model_name='wine-taste-automl', description=c_constants.DEPLOYED_AUTOML_MODEL_DESCRIPTION)\n",
        "registered_model = automl_best_run.register_model(model_path=constants.MODEL_PATH, \n",
        "                                                model_name='breast-cancer-automl', \n",
        "                                                description='Breast Cancer detection using Azure AutoML',\n",
        "                                                tags={'Method of execution':'AutoML'},\n",
        "                                                properties={'Accuracy':automl_best_run_metrics['accuracy']})\n",
        "print(f'{automl_run.model_id}')\n",
        "print(f'{registered_model.name}  {registered_model.id}  {registered_model.version}')\n"
      ],
      "outputs": [
        {
          "output_type": "stream",
          "name": "stdout",
          "text": "None\nbreast-cancer-automl  breast-cancer-automl:1  1\n"
        }
      ],
      "execution_count": 19,
      "metadata": {
        "jupyter": {
          "source_hidden": false,
          "outputs_hidden": false
        },
        "nteract": {
          "transient": {
            "deleting": false
          }
        },
        "gather": {
          "logged": 1635982485248
        },
        "id": "yI5F2zyXNMY9",
        "outputId": "b65dd417-b4a7-40fc-ca41-17d364a11124"
      }
    },
    {
      "cell_type": "code",
      "source": [
        "# download the scoring file and the environmrnt file\n",
        "\n",
        "automl_best_run.download_file(constants.SCORING_FILE_PATH, os.path.join('outputs', 'scoring.py'))\n",
        "automl_best_run.download_file(constants.CONDA_ENV_FILE_PATH, os.path.join('outputs', 'best_run_environment.yml'))"
      ],
      "outputs": [],
      "execution_count": null,
      "metadata": {
        "id": "Zhf4ImWV83Gg",
        "gather": {
          "logged": 1635709061386
        }
      }
    },
    {
      "cell_type": "code",
      "source": [
        "# Create an inference config\n",
        "\n",
        "inference_config = InferenceConfig(\n",
        "    environment=Environment.from_conda_specification(name='myenv', file_path=os.path.join('outputs', 'best_run_environment.yml')),\n",
        "    source_directory='outputs',\n",
        "    entry_script='scoring.py',\n",
        ")\n",
        "\n",
        "aci_config = AciWebservice.deploy_configuration(cpu_cores=1, memory_gb=1)\n"
      ],
      "outputs": [],
      "execution_count": null,
      "metadata": {
        "jupyter": {
          "source_hidden": false,
          "outputs_hidden": false
        },
        "nteract": {
          "transient": {
            "deleting": false
          }
        },
        "gather": {
          "logged": 1635709061693
        },
        "id": "t3QpRDuCNMZA"
      }
    },
    {
      "cell_type": "code",
      "source": [
        "\n",
        "service = Model.deploy(workspace=ws,\n",
        "                       name='breast-cancer-service',\n",
        "                       models=[registered_model],\n",
        "                       inference_config=inference_config,\n",
        "                       deployment_config=aci_config,\n",
        "                       overwrite=True)\n",
        "service.wait_for_deployment(show_output=True)"
      ],
      "outputs": [
        {
          "output_type": "stream",
          "name": "stdout",
          "text": "Tips: You can try get_logs(): https://aka.ms/debugimage#dockerlog or local deployment: https://aka.ms/debugimage#debug-locally to debug if deployment takes longer than 10 minutes.\nRunning\n2021-10-31 19:38:14+00:00 Creating Container Registry if not exists..\n2021-10-31 19:48:15+00:00 Registering the environment.\n2021-10-31 19:48:16+00:00 Building image..\n2021-10-31 19:59:21+00:00 Generating deployment configuration..\n2021-10-31 19:59:23+00:00 Submitting deployment to compute..\n2021-10-31 19:59:28+00:00 Checking the status of deployment breast-cancer-service..\n2021-10-31 20:02:36+00:00 Checking the status of inference endpoint breast-cancer-service.\nSucceeded\nACI service creation operation finished, operation \"Succeeded\"\n"
        }
      ],
      "execution_count": null,
      "metadata": {
        "gather": {
          "logged": 1635710562374
        },
        "jupyter": {
          "outputs_hidden": false,
          "source_hidden": false
        },
        "nteract": {
          "transient": {
            "deleting": false
          }
        },
        "id": "Jnovv2OXDIzQ",
        "outputId": "3dc79e54-71f6-4ebf-e1f4-d61765a281cd"
      }
    },
    {
      "cell_type": "code",
      "source": [
        "logs = service.get_logs()\n",
        "\n",
        "for line in logs.split('\\n'):\n",
        "    print(line)\n"
      ],
      "outputs": [
        {
          "output_type": "stream",
          "name": "stdout",
          "text": "2021-10-31T20:01:47,419255300+00:00 - iot-server/run \n2021-10-31T20:01:47,425648700+00:00 - gunicorn/run \nDynamic Python package installation is disabled.\nStarting HTTP server\n2021-10-31T20:01:47,445270800+00:00 - rsyslog/run \n2021-10-31T20:01:47,448327200+00:00 - nginx/run \nrsyslogd: /azureml-envs/azureml_50e1173ccd55f57fca3555fc5c69dc71/lib/libuuid.so.1: no version information available (required by rsyslogd)\nEdgeHubConnectionString and IOTEDGE_IOTHUBHOSTNAME are not set. Exiting...\n2021-10-31T20:01:47,763428400+00:00 - iot-server/finish 1 0\n2021-10-31T20:01:47,769369700+00:00 - Exit code 1 is normal. Not restarting iot-server.\nStarting gunicorn 20.1.0\nListening at: http://127.0.0.1:31311 (71)\nUsing worker: sync\nworker timeout is set to 300\nBooting worker with pid: 98\nSPARK_HOME not set. Skipping PySpark Initialization.\nGenerating new fontManager, this may take some time...\nInitializing logger\n2021-10-31 20:01:50,243 | root | INFO | Starting up app insights client\nlogging socket was found. logging is available.\nlogging socket was found. logging is available.\n2021-10-31 20:01:50,243 | root | INFO | Starting up request id generator\n2021-10-31 20:01:50,243 | root | INFO | Starting up app insight hooks\n2021-10-31 20:01:50,243 | root | INFO | Invoking user's init function\n2021-10-31 20:01:53,746 | azureml.core | WARNING | Failure while loading azureml_run_type_providers. Failed to load entrypoint hyperdrive = azureml.train.hyperdrive:HyperDriveRun._from_run_dto with exception (cryptography 35.0.0 (/azureml-envs/azureml_50e1173ccd55f57fca3555fc5c69dc71/lib/python3.6/site-packages), Requirement.parse('cryptography!=1.9,!=2.0.*,!=2.1.*,!=2.2.*,<4.0.0'), {'azureml-core'}).\nFailure while loading azureml_run_type_providers. Failed to load entrypoint hyperdrive = azureml.train.hyperdrive:HyperDriveRun._from_run_dto with exception (cryptography 35.0.0 (/azureml-envs/azureml_50e1173ccd55f57fca3555fc5c69dc71/lib/python3.6/site-packages), Requirement.parse('cryptography!=1.9,!=2.0.*,!=2.1.*,!=2.2.*,<4.0.0'), {'azureml-core'}).\n2021-10-31 20:01:53,798 | azureml.core | WARNING | Failure while loading azureml_run_type_providers. Failed to load entrypoint automl = azureml.train.automl.run:AutoMLRun._from_run_dto with exception (cryptography 35.0.0 (/azureml-envs/azureml_50e1173ccd55f57fca3555fc5c69dc71/lib/python3.6/site-packages), Requirement.parse('cryptography!=1.9,!=2.0.*,!=2.1.*,!=2.2.*,<4.0.0'), {'azureml-core'}).\nFailure while loading azureml_run_type_providers. Failed to load entrypoint automl = azureml.train.automl.run:AutoMLRun._from_run_dto with exception (cryptography 35.0.0 (/azureml-envs/azureml_50e1173ccd55f57fca3555fc5c69dc71/lib/python3.6/site-packages), Requirement.parse('cryptography!=1.9,!=2.0.*,!=2.1.*,!=2.2.*,<4.0.0'), {'azureml-core'}).\n2021-10-31 20:01:53,800 | azureml.core | WARNING | Failure while loading azureml_run_type_providers. Failed to load entrypoint azureml.scriptrun = azureml.core.script_run:ScriptRun._from_run_dto with exception (cryptography 35.0.0 (/azureml-envs/azureml_50e1173ccd55f57fca3555fc5c69dc71/lib/python3.6/site-packages), Requirement.parse('cryptography!=1.9,!=2.0.*,!=2.1.*,!=2.2.*,<4.0.0')).\nFailure while loading azureml_run_type_providers. Failed to load entrypoint azureml.scriptrun = azureml.core.script_run:ScriptRun._from_run_dto with exception (cryptography 35.0.0 (/azureml-envs/azureml_50e1173ccd55f57fca3555fc5c69dc71/lib/python3.6/site-packages), Requirement.parse('cryptography!=1.9,!=2.0.*,!=2.1.*,!=2.2.*,<4.0.0')).\n2021-10-31 20:01:53,965 | root | INFO | Users's init has completed successfully\n2021-10-31 20:01:53,969 | root | INFO | Skipping middleware: dbg_model_info as it's not enabled.\n2021-10-31 20:01:53,969 | root | INFO | Skipping middleware: dbg_resource_usage as it's not enabled.\nGenerating swagger file: /tmp/tmpwbuni8qv\n2021-10-31 20:01:53,975 | root | INFO | Scoring timeout is found from os.environ: 60000 ms\n2021-10-31 20:02:36,444 | root | INFO | 200\n127.0.0.1 - - [31/Oct/2021:20:02:36 +0000] \"GET /swagger.json HTTP/1.0\" 200 2511 \"-\" \"Go-http-client/1.1\"\n2021-10-31 20:02:42,084 | root | INFO | 200\n127.0.0.1 - - [31/Oct/2021:20:02:42 +0000] \"GET /swagger.json HTTP/1.0\" 200 2511 \"-\" \"Go-http-client/1.1\"\n\n"
        }
      ],
      "execution_count": null,
      "metadata": {
        "jupyter": {
          "source_hidden": false,
          "outputs_hidden": false
        },
        "nteract": {
          "transient": {
            "deleting": false
          }
        },
        "gather": {
          "logged": 1635710562875
        },
        "id": "CN5yjDX1NMZB",
        "outputId": "85b12a5a-1a3b-441c-9b72-f375e40462c8"
      }
    },
    {
      "cell_type": "markdown",
      "source": [
        "TODO: In the cell below, send a request to the web service you deployed to test it."
      ],
      "metadata": {
        "collapsed": true,
        "gather": {
          "logged": 1598431657736
        },
        "jupyter": {
          "outputs_hidden": false,
          "source_hidden": false
        },
        "nteract": {
          "transient": {
            "deleting": false
          }
        },
        "id": "8KBf-4m2DIzR"
      }
    },
    {
      "cell_type": "code",
      "source": [
        "# To enable ApplicationInsights on the service (webservice), \n",
        "# * first access the endpoint using the name assigned at the time of deployment\n",
        "# * next update webservice parameters such as enabling application insights (enable_app_insights)\n",
        "\n",
        "webservice = Webservice(\n",
        "    workspace = ws,\n",
        "    name='breast-cancer-service'\n",
        ")\n",
        "\n",
        "webservice.update(\n",
        "    enable_app_insights=True\n",
        ")\n",
        "\n",
        "# At this point application insights (logging is enabled) and can be\n",
        "# checked in the GUI in AutoML studio"
      ],
      "outputs": [],
      "execution_count": null,
      "metadata": {
        "gather": {
          "logged": 1635710642788
        },
        "jupyter": {
          "outputs_hidden": false,
          "source_hidden": false
        },
        "nteract": {
          "transient": {
            "deleting": false
          }
        },
        "id": "dJNveHvSDIzR"
      }
    },
    {
      "cell_type": "code",
      "source": [
        "# URL for the web service, should be similar to:\n",
        "# 'http://8530a665-66f3-49c8-a953-b82a2d312917.eastus.azurecontainer.io/score'\n",
        "\n",
        "# From the tail end of the code at\n",
        "# https://docs.microsoft.com/en-us/azure/machine-learning/how-to-deploy-and-where?tabs=python\n",
        "# - Deploy machine learning models to Azure\n",
        "\n",
        "scoring_uri = webservice.scoring_uri\n",
        "\n",
        "# If the service is authenticated, set the key or token\n",
        "# key, _ = webservice.get_keys()\n",
        "\n",
        "# Set the appropriate headers\n",
        "headers = {\"Content-Type\": \"application/json\"}\n",
        "# headers[\"Authorization\"] = f\"Bearer {key}\"\n"
      ],
      "outputs": [],
      "execution_count": null,
      "metadata": {
        "id": "la5hi2gjwGg9",
        "gather": {
          "logged": 1635710665835
        }
      }
    },
    {
      "cell_type": "code",
      "source": [
        "predict_data = predict_ds.to_pandas_dataframe()\n",
        "predict_label = predict_data.pop('diagnosis')"
      ],
      "outputs": [],
      "execution_count": null,
      "metadata": {
        "jupyter": {
          "source_hidden": false,
          "outputs_hidden": false
        },
        "nteract": {
          "transient": {
            "deleting": false
          }
        },
        "gather": {
          "logged": 1635710667153
        },
        "id": "-r5Tv1V7qhHT"
      }
    },
    {
      "cell_type": "code",
      "source": [
        "# Convert to JSON string\n",
        "score_data = json.dumps({'data': predict_data.to_dict(orient='records')})\n",
        "\n",
        "score_data"
      ],
      "outputs": [
        {
          "output_type": "execute_result",
          "execution_count": 26,
          "data": {
            "text/plain": "'{\"data\": [{\"mean_radius\": 9.504, \"mean_texture\": 12.44, \"mean_perimeter\": 60.34, \"mean_area\": 273.9, \"mean_smoothness\": 0.1024}, {\"mean_radius\": 15.37, \"mean_texture\": 22.76, \"mean_perimeter\": 100.2, \"mean_area\": 728.2, \"mean_smoothness\": 0.092}, {\"mean_radius\": 21.09, \"mean_texture\": 26.57, \"mean_perimeter\": 142.7, \"mean_area\": 1311.0, \"mean_smoothness\": 0.1141}, {\"mean_radius\": 11.04, \"mean_texture\": 14.93, \"mean_perimeter\": 70.67, \"mean_area\": 372.7, \"mean_smoothness\": 0.07987}]}'"
          },
          "metadata": {}
        }
      ],
      "execution_count": null,
      "metadata": {
        "jupyter": {
          "source_hidden": false,
          "outputs_hidden": false
        },
        "nteract": {
          "transient": {
            "deleting": false
          }
        },
        "gather": {
          "logged": 1635710667586
        },
        "id": "cHyFy-0sqhHT",
        "outputId": "413bcd8b-d9b1-4b74-e2ac-64c9a8accc6d"
      }
    },
    {
      "cell_type": "code",
      "source": [
        "# Set the content type\n",
        "headers = {'Content-Type': 'application/json'}\n",
        "# If authentication is enabled, set the authorization header\n",
        "# headers['Authorization'] = f'Bearer {key}'\n",
        "\n",
        "# Make the request and display the predictions\n",
        "resp = requests.post(scoring_uri, score_data, headers=headers)\n",
        "print(f'{resp.json()}')\n",
        "\n",
        "# Print the actual diagnosis\n",
        "print(f'{json.dumps({\"labels\": predict_label.tolist()})}')"
      ],
      "outputs": [
        {
          "output_type": "stream",
          "name": "stdout",
          "text": "{\"result\": [1, 0, 0, 1]}\n{\"labels\": [1, 0, 0, 1]}\n"
        }
      ],
      "execution_count": null,
      "metadata": {
        "jupyter": {
          "source_hidden": false,
          "outputs_hidden": false
        },
        "nteract": {
          "transient": {
            "deleting": false
          }
        },
        "gather": {
          "logged": 1635711085279
        },
        "id": "1Yq2NyaDqhHU",
        "outputId": "89cfe380-21ac-42a5-cee8-292e411995db"
      }
    },
    {
      "cell_type": "markdown",
      "source": [
        "TODO: In the cell below, print the logs of the web service and delete the service"
      ],
      "metadata": {
        "collapsed": true,
        "gather": {
          "logged": 1598432765711
        },
        "jupyter": {
          "outputs_hidden": false,
          "source_hidden": false
        },
        "nteract": {
          "transient": {
            "deleting": false
          }
        },
        "id": "QkENqomcDIzR"
      }
    },
    {
      "cell_type": "code",
      "source": [
        "logs = webservice.get_logs()\n",
        "\n",
        "for line in logs.split('\\n'):\n",
        "    print(line)\n",
        "\n"
      ],
      "outputs": [
        {
          "output_type": "stream",
          "name": "stdout",
          "text": "2021-10-31T20:01:47,419255300+00:00 - iot-server/run \n2021-10-31T20:01:47,425648700+00:00 - gunicorn/run \nDynamic Python package installation is disabled.\nStarting HTTP server\n2021-10-31T20:01:47,445270800+00:00 - rsyslog/run \n2021-10-31T20:01:47,448327200+00:00 - nginx/run \nrsyslogd: /azureml-envs/azureml_50e1173ccd55f57fca3555fc5c69dc71/lib/libuuid.so.1: no version information available (required by rsyslogd)\nEdgeHubConnectionString and IOTEDGE_IOTHUBHOSTNAME are not set. Exiting...\n2021-10-31T20:01:47,763428400+00:00 - iot-server/finish 1 0\n2021-10-31T20:01:47,769369700+00:00 - Exit code 1 is normal. Not restarting iot-server.\nStarting gunicorn 20.1.0\nListening at: http://127.0.0.1:31311 (71)\nUsing worker: sync\nworker timeout is set to 300\nBooting worker with pid: 98\nSPARK_HOME not set. Skipping PySpark Initialization.\nGenerating new fontManager, this may take some time...\nInitializing logger\n2021-10-31 20:01:50,243 | root | INFO | Starting up app insights client\nlogging socket was found. logging is available.\nlogging socket was found. logging is available.\n2021-10-31 20:01:50,243 | root | INFO | Starting up request id generator\n2021-10-31 20:01:50,243 | root | INFO | Starting up app insight hooks\n2021-10-31 20:01:50,243 | root | INFO | Invoking user's init function\n2021-10-31 20:01:53,746 | azureml.core | WARNING | Failure while loading azureml_run_type_providers. Failed to load entrypoint hyperdrive = azureml.train.hyperdrive:HyperDriveRun._from_run_dto with exception (cryptography 35.0.0 (/azureml-envs/azureml_50e1173ccd55f57fca3555fc5c69dc71/lib/python3.6/site-packages), Requirement.parse('cryptography!=1.9,!=2.0.*,!=2.1.*,!=2.2.*,<4.0.0'), {'azureml-core'}).\nFailure while loading azureml_run_type_providers. Failed to load entrypoint hyperdrive = azureml.train.hyperdrive:HyperDriveRun._from_run_dto with exception (cryptography 35.0.0 (/azureml-envs/azureml_50e1173ccd55f57fca3555fc5c69dc71/lib/python3.6/site-packages), Requirement.parse('cryptography!=1.9,!=2.0.*,!=2.1.*,!=2.2.*,<4.0.0'), {'azureml-core'}).\n2021-10-31 20:01:53,798 | azureml.core | WARNING | Failure while loading azureml_run_type_providers. Failed to load entrypoint automl = azureml.train.automl.run:AutoMLRun._from_run_dto with exception (cryptography 35.0.0 (/azureml-envs/azureml_50e1173ccd55f57fca3555fc5c69dc71/lib/python3.6/site-packages), Requirement.parse('cryptography!=1.9,!=2.0.*,!=2.1.*,!=2.2.*,<4.0.0'), {'azureml-core'}).\nFailure while loading azureml_run_type_providers. Failed to load entrypoint automl = azureml.train.automl.run:AutoMLRun._from_run_dto with exception (cryptography 35.0.0 (/azureml-envs/azureml_50e1173ccd55f57fca3555fc5c69dc71/lib/python3.6/site-packages), Requirement.parse('cryptography!=1.9,!=2.0.*,!=2.1.*,!=2.2.*,<4.0.0'), {'azureml-core'}).\n2021-10-31 20:01:53,800 | azureml.core | WARNING | Failure while loading azureml_run_type_providers. Failed to load entrypoint azureml.scriptrun = azureml.core.script_run:ScriptRun._from_run_dto with exception (cryptography 35.0.0 (/azureml-envs/azureml_50e1173ccd55f57fca3555fc5c69dc71/lib/python3.6/site-packages), Requirement.parse('cryptography!=1.9,!=2.0.*,!=2.1.*,!=2.2.*,<4.0.0')).\nFailure while loading azureml_run_type_providers. Failed to load entrypoint azureml.scriptrun = azureml.core.script_run:ScriptRun._from_run_dto with exception (cryptography 35.0.0 (/azureml-envs/azureml_50e1173ccd55f57fca3555fc5c69dc71/lib/python3.6/site-packages), Requirement.parse('cryptography!=1.9,!=2.0.*,!=2.1.*,!=2.2.*,<4.0.0')).\n2021-10-31 20:01:53,965 | root | INFO | Users's init has completed successfully\n2021-10-31 20:01:53,969 | root | INFO | Skipping middleware: dbg_model_info as it's not enabled.\n2021-10-31 20:01:53,969 | root | INFO | Skipping middleware: dbg_resource_usage as it's not enabled.\nGenerating swagger file: /tmp/tmpwbuni8qv\n2021-10-31 20:01:53,975 | root | INFO | Scoring timeout is found from os.environ: 60000 ms\n2021-10-31 20:02:36,444 | root | INFO | 200\n127.0.0.1 - - [31/Oct/2021:20:02:36 +0000] \"GET /swagger.json HTTP/1.0\" 200 2511 \"-\" \"Go-http-client/1.1\"\n2021-10-31 20:02:42,084 | root | INFO | 200\n127.0.0.1 - - [31/Oct/2021:20:02:42 +0000] \"GET /swagger.json HTTP/1.0\" 200 2511 \"-\" \"Go-http-client/1.1\"\n2021-10-31 20:04:01,399 | root | INFO | 200\n127.0.0.1 - - [31/Oct/2021:20:04:01 +0000] \"GET /swagger.json HTTP/1.0\" 200 2511 \"-\" \"Go-http-client/1.1\"\n2021-10-31 20:04:02,494 | root | INFO | 200\n127.0.0.1 - - [31/Oct/2021:20:04:02 +0000] \"GET /swagger.json HTTP/1.0\" 200 2511 \"-\" \"Go-http-client/1.1\"\n2021-10-31 20:04:26,979 | root | INFO | Validation Request Content-Type\n2021-10-31 20:04:26,980 | root | INFO | Scoring Timer is set to 60.0 seconds\n2021-10-31 20:04:27,150 | root | INFO | 200\n127.0.0.1 - - [31/Oct/2021:20:04:27 +0000] \"POST /score HTTP/1.0\" 200 28 \"-\" \"python-requests/2.26.0\"\n\n"
        }
      ],
      "execution_count": null,
      "metadata": {
        "jupyter": {
          "outputs_hidden": false,
          "source_hidden": false
        },
        "nteract": {
          "transient": {
            "deleting": false
          }
        },
        "id": "1trRJIbbDIzS",
        "gather": {
          "logged": 1635710668205
        },
        "outputId": "af89da4a-a317-40b8-ecb0-5a95ab97bf8a"
      }
    },
    {
      "cell_type": "code",
      "source": [
        "# Clean up any resources\n",
        "# Delete the Webservice\n",
        "# delete the compute cluster\n",
        "\n",
        "webservice.delete()\n",
        "cc.delete()"
      ],
      "outputs": [
        {
          "output_type": "error",
          "ename": "WebserviceException",
          "evalue": "WebserviceException:\n\tMessage: There is a deployment operation in flight for the Service: breast-cancer-service\n\tInnerException None\n\tErrorResponse \n{\n    \"error\": {\n        \"message\": \"There is a deployment operation in flight for the Service: breast-cancer-service\"\n    }\n}",
          "traceback": [
            "\u001b[0;31m---------------------------------------------------------------------------\u001b[0m",
            "\u001b[0;31mWebserviceException\u001b[0m                       Traceback (most recent call last)",
            "\u001b[0;32m<ipython-input-29-81055d4a5665>\u001b[0m in \u001b[0;36m<module>\u001b[0;34m\u001b[0m\n\u001b[1;32m      3\u001b[0m \u001b[0;31m# delete the compute cluster\u001b[0m\u001b[0;34m\u001b[0m\u001b[0;34m\u001b[0m\u001b[0;34m\u001b[0m\u001b[0m\n\u001b[1;32m      4\u001b[0m \u001b[0;34m\u001b[0m\u001b[0m\n\u001b[0;32m----> 5\u001b[0;31m \u001b[0mwebservice\u001b[0m\u001b[0;34m.\u001b[0m\u001b[0mdelete\u001b[0m\u001b[0;34m(\u001b[0m\u001b[0;34m)\u001b[0m\u001b[0;34m\u001b[0m\u001b[0;34m\u001b[0m\u001b[0m\n\u001b[0m\u001b[1;32m      6\u001b[0m \u001b[0mcc\u001b[0m\u001b[0;34m.\u001b[0m\u001b[0mdelete\u001b[0m\u001b[0;34m(\u001b[0m\u001b[0;34m)\u001b[0m\u001b[0;34m\u001b[0m\u001b[0;34m\u001b[0m\u001b[0m\n",
            "\u001b[0;32m/anaconda/envs/azureml_py36/lib/python3.6/site-packages/azureml/core/webservice/webservice.py\u001b[0m in \u001b[0;36mdelete\u001b[0;34m(self)\u001b[0m\n\u001b[1;32m   1419\u001b[0m         \"\"\"\n\u001b[1;32m   1420\u001b[0m         Webservice._check_for_webservice(self.workspace, self.name, self.compute_type,\n\u001b[0;32m-> 1421\u001b[0;31m                                          None, SERVICE_REQUEST_OPERATION_DELETE)\n\u001b[0m\u001b[1;32m   1422\u001b[0m \u001b[0;34m\u001b[0m\u001b[0m\n\u001b[1;32m   1423\u001b[0m         \u001b[0mheaders\u001b[0m \u001b[0;34m=\u001b[0m \u001b[0mself\u001b[0m\u001b[0;34m.\u001b[0m\u001b[0m_auth\u001b[0m\u001b[0;34m.\u001b[0m\u001b[0mget_authentication_header\u001b[0m\u001b[0;34m(\u001b[0m\u001b[0;34m)\u001b[0m\u001b[0;34m\u001b[0m\u001b[0;34m\u001b[0m\u001b[0m\n",
            "\u001b[0;32m/anaconda/envs/azureml_py36/lib/python3.6/site-packages/azureml/core/webservice/webservice.py\u001b[0m in \u001b[0;36m_check_for_webservice\u001b[0;34m(workspace, name, compute_type, payload, action, request_func, check_func)\u001b[0m\n\u001b[1;32m    743\u001b[0m                 \u001b[0;32mreturn\u001b[0m \u001b[0mWebservice\u001b[0m\u001b[0;34m.\u001b[0m\u001b[0m_check_validate_error\u001b[0m\u001b[0;34m(\u001b[0m\u001b[0mcontent\u001b[0m\u001b[0;34m)\u001b[0m\u001b[0;34m\u001b[0m\u001b[0;34m\u001b[0m\u001b[0m\n\u001b[1;32m    744\u001b[0m \u001b[0;34m\u001b[0m\u001b[0m\n\u001b[0;32m--> 745\u001b[0;31m         \u001b[0mWebservice\u001b[0m\u001b[0;34m.\u001b[0m\u001b[0m_run_validate_framework\u001b[0m\u001b[0;34m(\u001b[0m\u001b[0mrequest_func\u001b[0m\u001b[0;34m,\u001b[0m \u001b[0mcheck_func\u001b[0m\u001b[0;34m)\u001b[0m\u001b[0;34m\u001b[0m\u001b[0;34m\u001b[0m\u001b[0m\n\u001b[0m\u001b[1;32m    746\u001b[0m \u001b[0;34m\u001b[0m\u001b[0m\n\u001b[1;32m    747\u001b[0m     \u001b[0;34m@\u001b[0m\u001b[0mstaticmethod\u001b[0m\u001b[0;34m\u001b[0m\u001b[0;34m\u001b[0m\u001b[0m\n",
            "\u001b[0;32m/anaconda/envs/azureml_py36/lib/python3.6/site-packages/azureml/core/webservice/webservice.py\u001b[0m in \u001b[0;36m_run_validate_framework\u001b[0;34m(request_func, check_func)\u001b[0m\n\u001b[1;32m    637\u001b[0m             \u001b[0;32mreturn\u001b[0m\u001b[0;34m\u001b[0m\u001b[0;34m\u001b[0m\u001b[0m\n\u001b[1;32m    638\u001b[0m \u001b[0;34m\u001b[0m\u001b[0m\n\u001b[0;32m--> 639\u001b[0;31m         \u001b[0;32mraise\u001b[0m \u001b[0mWebserviceException\u001b[0m\u001b[0;34m(\u001b[0m\u001b[0merror\u001b[0m\u001b[0;34m)\u001b[0m\u001b[0;34m\u001b[0m\u001b[0;34m\u001b[0m\u001b[0m\n\u001b[0m\u001b[1;32m    640\u001b[0m \u001b[0;34m\u001b[0m\u001b[0m\n\u001b[1;32m    641\u001b[0m     \u001b[0;34m@\u001b[0m\u001b[0mstaticmethod\u001b[0m\u001b[0;34m\u001b[0m\u001b[0;34m\u001b[0m\u001b[0m\n",
            "\u001b[0;31mWebserviceException\u001b[0m: WebserviceException:\n\tMessage: There is a deployment operation in flight for the Service: breast-cancer-service\n\tInnerException None\n\tErrorResponse \n{\n    \"error\": {\n        \"message\": \"There is a deployment operation in flight for the Service: breast-cancer-service\"\n    }\n}"
          ]
        }
      ],
      "execution_count": null,
      "metadata": {
        "id": "PhRicHU1gkEM",
        "gather": {
          "logged": 1635669503357
        },
        "outputId": "de822b19-0a8c-460f-f3d3-bfd8545bf83c"
      }
    },
    {
      "cell_type": "markdown",
      "source": [
        "**Submission Checklist**\n",
        "- I have registered the model.\n",
        "- I have deployed the model with the best accuracy as a webservice.\n",
        "- I have tested the webservice by sending a request to the model endpoint.\n",
        "- I have deleted the webservice and shutdown all the computes that I have used.\n",
        "- I have taken a screenshot showing the model endpoint as active.\n",
        "- The project includes a file containing the environment details.\n"
      ],
      "metadata": {
        "id": "MLk4oZDIDIzS"
      }
    },
    {
      "cell_type": "markdown",
      "source": [],
      "metadata": {
        "id": "UqcD2kWygoY1"
      }
    },
    {
      "cell_type": "markdown",
      "source": [],
      "metadata": {
        "id": "KaRTmB9VDIzT"
      }
    }
  ],
  "metadata": {
    "kernel_info": {
      "name": "python3-azureml"
    },
    "kernelspec": {
      "name": "python3-azureml",
      "language": "python",
      "display_name": "Python 3.6 - AzureML"
    },
    "language_info": {
      "name": "python",
      "version": "3.6.9",
      "mimetype": "text/x-python",
      "codemirror_mode": {
        "name": "ipython",
        "version": 3
      },
      "pygments_lexer": "ipython3",
      "nbconvert_exporter": "python",
      "file_extension": ".py"
    },
    "nteract": {
      "version": "nteract-front-end@1.0.0"
    },
    "colab": {
      "name": "current automl.ipynb",
      "provenance": [],
      "collapsed_sections": []
    },
    "microsoft": {
      "host": {
        "AzureML": {
          "notebookHasBeenCompleted": true
        }
      }
    }
  },
  "nbformat": 4,
  "nbformat_minor": 0
}