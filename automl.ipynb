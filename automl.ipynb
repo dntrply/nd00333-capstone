{
  "cells": [
    {
      "cell_type": "markdown",
      "source": [
        "# Automated ML\n",
        "\n",
        "TODO: Import Dependencies. In the cell below, import all the dependencies that you will need to complete the project."
      ],
      "metadata": {
        "id": "dIFBchG8DIzE"
      }
    },
    {
      "cell_type": "code",
      "source": [
        "from azureml.data.dataset_factory import TabularDatasetFactory\n",
        "from azureml.core.workspace import Workspace\n",
        "from azureml.core.compute import ComputeTarget\n",
        "from azureml.core.compute.amlcompute import AmlCompute\n",
        "from azureml.exceptions import ComputeTargetException\n",
        "from azureml.core.experiment import Experiment\n",
        "from azureml.core.model import Model\n",
        "\n",
        "from azureml.core import Environment\n",
        "from azureml.core.model import InferenceConfig\n",
        "from azureml.core.webservice import AciWebservice\n",
        "from azureml.core.webservice import Webservice\n",
        "\n",
        "from azureml.train.automl.automlconfig import AutoMLConfig\n",
        "from azureml.widgets.run_details import RunDetails\n",
        "\n",
        "from azureml.automl.core.shared import constants\n",
        "\n",
        "from pprint import pprint\n",
        "import pandas as pd\n",
        "\n",
        "import logging\n",
        "import joblib\n",
        "\n",
        "import json\n",
        "import requests"
      ],
      "outputs": [],
      "execution_count": 7,
      "metadata": {
        "gather": {
          "logged": 1635647656592
        },
        "jupyter": {
          "outputs_hidden": false,
          "source_hidden": false
        },
        "nteract": {
          "transient": {
            "deleting": false
          }
        },
        "id": "T1gyC_4iDIzI"
      }
    },
    {
      "cell_type": "markdown",
      "source": [
        "## Dataset\n",
        "\n",
        "### Overview\n",
        "TODO: In this markdown cell, give an overview of the dataset you are using. Also mention the task you will be performing.\n",
        "\n",
        "Dat:[ Breast Cancer Prediction Dataset](https://www.kaggle.com/merishnasuwal/breast-cancer-prediction-dataset)\n",
        "\n",
        "This machine learning program detects the presence (or absence) of breast cancer from pertinent data regarding physical characteristics.\n",
        "An understanding of the data can be had at https://www.kaggle.com/merishnasuwal/breast-cancer-prediction-dataset/discussion/66975#509394\n",
        "\n",
        "\n",
        "TODO: Get data. In the cell below, write code to access the data you will be using in this project. Remember that the dataset needs to be external.\n",
        "\n",
        "The dataset is external. It is manually downloaded as a csv and then uploaded to a publicly acccessible github account:\n",
        "'https://github.com/dntrply/nd00333-capstone/blob/master/dataset/Breast_cancer_data.csv'"
      ],
      "metadata": {
        "id": "nXX3ww9_DIzJ"
      }
    },
    {
      "cell_type": "code",
      "source": [
        "ds = TabularDatasetFactory.from_delimited_files('https://github.com/dntrply/nd00333-capstone/raw/master/dataset/Breast_cancer_data.csv')\n",
        "df = ds.to_pandas_dataframe()\n",
        "df"
      ],
      "outputs": [
        {
          "output_type": "execute_result",
          "execution_count": 9,
          "data": {
            "text/plain": "     mean_radius  mean_texture  mean_perimeter  mean_area  mean_smoothness  \\\n0          17.99         10.38          122.80     1001.0          0.11840   \n1          20.57         17.77          132.90     1326.0          0.08474   \n2          19.69         21.25          130.00     1203.0          0.10960   \n3          11.42         20.38           77.58      386.1          0.14250   \n4          20.29         14.34          135.10     1297.0          0.10030   \n..           ...           ...             ...        ...              ...   \n564        21.56         22.39          142.00     1479.0          0.11100   \n565        20.13         28.25          131.20     1261.0          0.09780   \n566        16.60         28.08          108.30      858.1          0.08455   \n567        20.60         29.33          140.10     1265.0          0.11780   \n568         7.76         24.54           47.92      181.0          0.05263   \n\n     diagnosis  \n0            0  \n1            0  \n2            0  \n3            0  \n4            0  \n..         ...  \n564          0  \n565          0  \n566          0  \n567          0  \n568          1  \n\n[569 rows x 6 columns]",
            "text/html": "<div>\n<style scoped>\n    .dataframe tbody tr th:only-of-type {\n        vertical-align: middle;\n    }\n\n    .dataframe tbody tr th {\n        vertical-align: top;\n    }\n\n    .dataframe thead th {\n        text-align: right;\n    }\n</style>\n<table border=\"1\" class=\"dataframe\">\n  <thead>\n    <tr style=\"text-align: right;\">\n      <th></th>\n      <th>mean_radius</th>\n      <th>mean_texture</th>\n      <th>mean_perimeter</th>\n      <th>mean_area</th>\n      <th>mean_smoothness</th>\n      <th>diagnosis</th>\n    </tr>\n  </thead>\n  <tbody>\n    <tr>\n      <th>0</th>\n      <td>17.99</td>\n      <td>10.38</td>\n      <td>122.80</td>\n      <td>1001.0</td>\n      <td>0.11840</td>\n      <td>0</td>\n    </tr>\n    <tr>\n      <th>1</th>\n      <td>20.57</td>\n      <td>17.77</td>\n      <td>132.90</td>\n      <td>1326.0</td>\n      <td>0.08474</td>\n      <td>0</td>\n    </tr>\n    <tr>\n      <th>2</th>\n      <td>19.69</td>\n      <td>21.25</td>\n      <td>130.00</td>\n      <td>1203.0</td>\n      <td>0.10960</td>\n      <td>0</td>\n    </tr>\n    <tr>\n      <th>3</th>\n      <td>11.42</td>\n      <td>20.38</td>\n      <td>77.58</td>\n      <td>386.1</td>\n      <td>0.14250</td>\n      <td>0</td>\n    </tr>\n    <tr>\n      <th>4</th>\n      <td>20.29</td>\n      <td>14.34</td>\n      <td>135.10</td>\n      <td>1297.0</td>\n      <td>0.10030</td>\n      <td>0</td>\n    </tr>\n    <tr>\n      <th>...</th>\n      <td>...</td>\n      <td>...</td>\n      <td>...</td>\n      <td>...</td>\n      <td>...</td>\n      <td>...</td>\n    </tr>\n    <tr>\n      <th>564</th>\n      <td>21.56</td>\n      <td>22.39</td>\n      <td>142.00</td>\n      <td>1479.0</td>\n      <td>0.11100</td>\n      <td>0</td>\n    </tr>\n    <tr>\n      <th>565</th>\n      <td>20.13</td>\n      <td>28.25</td>\n      <td>131.20</td>\n      <td>1261.0</td>\n      <td>0.09780</td>\n      <td>0</td>\n    </tr>\n    <tr>\n      <th>566</th>\n      <td>16.60</td>\n      <td>28.08</td>\n      <td>108.30</td>\n      <td>858.1</td>\n      <td>0.08455</td>\n      <td>0</td>\n    </tr>\n    <tr>\n      <th>567</th>\n      <td>20.60</td>\n      <td>29.33</td>\n      <td>140.10</td>\n      <td>1265.0</td>\n      <td>0.11780</td>\n      <td>0</td>\n    </tr>\n    <tr>\n      <th>568</th>\n      <td>7.76</td>\n      <td>24.54</td>\n      <td>47.92</td>\n      <td>181.0</td>\n      <td>0.05263</td>\n      <td>1</td>\n    </tr>\n  </tbody>\n</table>\n<p>569 rows × 6 columns</p>\n</div>"
          },
          "metadata": {}
        }
      ],
      "execution_count": 9,
      "metadata": {
        "id": "lg7_8cowjtZX",
        "gather": {
          "logged": 1635647742946
        }
      }
    },
    {
      "cell_type": "code",
      "source": [
        "df.describe()"
      ],
      "outputs": [
        {
          "output_type": "execute_result",
          "execution_count": 10,
          "data": {
            "text/plain": "       mean_radius  mean_texture  mean_perimeter    mean_area  \\\ncount   569.000000    569.000000      569.000000   569.000000   \nmean     14.127292     19.289649       91.969033   654.889104   \nstd       3.524049      4.301036       24.298981   351.914129   \nmin       6.981000      9.710000       43.790000   143.500000   \n25%      11.700000     16.170000       75.170000   420.300000   \n50%      13.370000     18.840000       86.240000   551.100000   \n75%      15.780000     21.800000      104.100000   782.700000   \nmax      28.110000     39.280000      188.500000  2501.000000   \n\n       mean_smoothness   diagnosis  \ncount       569.000000  569.000000  \nmean          0.096360    0.627417  \nstd           0.014064    0.483918  \nmin           0.052630    0.000000  \n25%           0.086370    0.000000  \n50%           0.095870    1.000000  \n75%           0.105300    1.000000  \nmax           0.163400    1.000000  ",
            "text/html": "<div>\n<style scoped>\n    .dataframe tbody tr th:only-of-type {\n        vertical-align: middle;\n    }\n\n    .dataframe tbody tr th {\n        vertical-align: top;\n    }\n\n    .dataframe thead th {\n        text-align: right;\n    }\n</style>\n<table border=\"1\" class=\"dataframe\">\n  <thead>\n    <tr style=\"text-align: right;\">\n      <th></th>\n      <th>mean_radius</th>\n      <th>mean_texture</th>\n      <th>mean_perimeter</th>\n      <th>mean_area</th>\n      <th>mean_smoothness</th>\n      <th>diagnosis</th>\n    </tr>\n  </thead>\n  <tbody>\n    <tr>\n      <th>count</th>\n      <td>569.000000</td>\n      <td>569.000000</td>\n      <td>569.000000</td>\n      <td>569.000000</td>\n      <td>569.000000</td>\n      <td>569.000000</td>\n    </tr>\n    <tr>\n      <th>mean</th>\n      <td>14.127292</td>\n      <td>19.289649</td>\n      <td>91.969033</td>\n      <td>654.889104</td>\n      <td>0.096360</td>\n      <td>0.627417</td>\n    </tr>\n    <tr>\n      <th>std</th>\n      <td>3.524049</td>\n      <td>4.301036</td>\n      <td>24.298981</td>\n      <td>351.914129</td>\n      <td>0.014064</td>\n      <td>0.483918</td>\n    </tr>\n    <tr>\n      <th>min</th>\n      <td>6.981000</td>\n      <td>9.710000</td>\n      <td>43.790000</td>\n      <td>143.500000</td>\n      <td>0.052630</td>\n      <td>0.000000</td>\n    </tr>\n    <tr>\n      <th>25%</th>\n      <td>11.700000</td>\n      <td>16.170000</td>\n      <td>75.170000</td>\n      <td>420.300000</td>\n      <td>0.086370</td>\n      <td>0.000000</td>\n    </tr>\n    <tr>\n      <th>50%</th>\n      <td>13.370000</td>\n      <td>18.840000</td>\n      <td>86.240000</td>\n      <td>551.100000</td>\n      <td>0.095870</td>\n      <td>1.000000</td>\n    </tr>\n    <tr>\n      <th>75%</th>\n      <td>15.780000</td>\n      <td>21.800000</td>\n      <td>104.100000</td>\n      <td>782.700000</td>\n      <td>0.105300</td>\n      <td>1.000000</td>\n    </tr>\n    <tr>\n      <th>max</th>\n      <td>28.110000</td>\n      <td>39.280000</td>\n      <td>188.500000</td>\n      <td>2501.000000</td>\n      <td>0.163400</td>\n      <td>1.000000</td>\n    </tr>\n  </tbody>\n</table>\n</div>"
          },
          "metadata": {}
        }
      ],
      "execution_count": 10,
      "metadata": {
        "id": "QQo3pTJGlxVI",
        "gather": {
          "logged": 1635647757510
        }
      }
    },
    {
      "cell_type": "code",
      "source": [
        "# Split the dtaaset so that a small fraction may be used for prediction\n",
        "train_ds, _ = ds.random_split(percentage=0.99, seed=42)"
      ],
      "outputs": [],
      "execution_count": 12,
      "metadata": {
        "id": "TOPDxM9pASpB",
        "gather": {
          "logged": 1635647788863
        }
      }
    },
    {
      "cell_type": "code",
      "source": [
        "train_df = train_ds.to_pandas_dataframe()\r\n",
        "train_df"
      ],
      "outputs": [
        {
          "output_type": "execute_result",
          "execution_count": 14,
          "data": {
            "text/plain": "     mean_radius  mean_texture  mean_perimeter  mean_area  mean_smoothness  \\\n0          17.99         10.38          122.80     1001.0          0.11840   \n1          20.57         17.77          132.90     1326.0          0.08474   \n2          19.69         21.25          130.00     1203.0          0.10960   \n3          11.42         20.38           77.58      386.1          0.14250   \n4          20.29         14.34          135.10     1297.0          0.10030   \n..           ...           ...             ...        ...              ...   \n560        21.56         22.39          142.00     1479.0          0.11100   \n561        20.13         28.25          131.20     1261.0          0.09780   \n562        16.60         28.08          108.30      858.1          0.08455   \n563        20.60         29.33          140.10     1265.0          0.11780   \n564         7.76         24.54           47.92      181.0          0.05263   \n\n     diagnosis  \n0            0  \n1            0  \n2            0  \n3            0  \n4            0  \n..         ...  \n560          0  \n561          0  \n562          0  \n563          0  \n564          1  \n\n[565 rows x 6 columns]",
            "text/html": "<div>\n<style scoped>\n    .dataframe tbody tr th:only-of-type {\n        vertical-align: middle;\n    }\n\n    .dataframe tbody tr th {\n        vertical-align: top;\n    }\n\n    .dataframe thead th {\n        text-align: right;\n    }\n</style>\n<table border=\"1\" class=\"dataframe\">\n  <thead>\n    <tr style=\"text-align: right;\">\n      <th></th>\n      <th>mean_radius</th>\n      <th>mean_texture</th>\n      <th>mean_perimeter</th>\n      <th>mean_area</th>\n      <th>mean_smoothness</th>\n      <th>diagnosis</th>\n    </tr>\n  </thead>\n  <tbody>\n    <tr>\n      <th>0</th>\n      <td>17.99</td>\n      <td>10.38</td>\n      <td>122.80</td>\n      <td>1001.0</td>\n      <td>0.11840</td>\n      <td>0</td>\n    </tr>\n    <tr>\n      <th>1</th>\n      <td>20.57</td>\n      <td>17.77</td>\n      <td>132.90</td>\n      <td>1326.0</td>\n      <td>0.08474</td>\n      <td>0</td>\n    </tr>\n    <tr>\n      <th>2</th>\n      <td>19.69</td>\n      <td>21.25</td>\n      <td>130.00</td>\n      <td>1203.0</td>\n      <td>0.10960</td>\n      <td>0</td>\n    </tr>\n    <tr>\n      <th>3</th>\n      <td>11.42</td>\n      <td>20.38</td>\n      <td>77.58</td>\n      <td>386.1</td>\n      <td>0.14250</td>\n      <td>0</td>\n    </tr>\n    <tr>\n      <th>4</th>\n      <td>20.29</td>\n      <td>14.34</td>\n      <td>135.10</td>\n      <td>1297.0</td>\n      <td>0.10030</td>\n      <td>0</td>\n    </tr>\n    <tr>\n      <th>...</th>\n      <td>...</td>\n      <td>...</td>\n      <td>...</td>\n      <td>...</td>\n      <td>...</td>\n      <td>...</td>\n    </tr>\n    <tr>\n      <th>560</th>\n      <td>21.56</td>\n      <td>22.39</td>\n      <td>142.00</td>\n      <td>1479.0</td>\n      <td>0.11100</td>\n      <td>0</td>\n    </tr>\n    <tr>\n      <th>561</th>\n      <td>20.13</td>\n      <td>28.25</td>\n      <td>131.20</td>\n      <td>1261.0</td>\n      <td>0.09780</td>\n      <td>0</td>\n    </tr>\n    <tr>\n      <th>562</th>\n      <td>16.60</td>\n      <td>28.08</td>\n      <td>108.30</td>\n      <td>858.1</td>\n      <td>0.08455</td>\n      <td>0</td>\n    </tr>\n    <tr>\n      <th>563</th>\n      <td>20.60</td>\n      <td>29.33</td>\n      <td>140.10</td>\n      <td>1265.0</td>\n      <td>0.11780</td>\n      <td>0</td>\n    </tr>\n    <tr>\n      <th>564</th>\n      <td>7.76</td>\n      <td>24.54</td>\n      <td>47.92</td>\n      <td>181.0</td>\n      <td>0.05263</td>\n      <td>1</td>\n    </tr>\n  </tbody>\n</table>\n<p>565 rows × 6 columns</p>\n</div>"
          },
          "metadata": {}
        }
      ],
      "execution_count": 14,
      "metadata": {
        "jupyter": {
          "source_hidden": false,
          "outputs_hidden": false
        },
        "nteract": {
          "transient": {
            "deleting": false
          }
        },
        "gather": {
          "logged": 1635647877226
        }
      }
    },
    {
      "cell_type": "code",
      "source": [
        "ws = Workspace.from_config()\n",
        "\n",
        "# choose a name for experiment\n",
        "experiment=Experiment(ws, 'experiment-capstone-automl')  # Experiment name in Azure ML"
      ],
      "outputs": [],
      "execution_count": 15,
      "metadata": {
        "gather": {
          "logged": 1635647963007
        },
        "jupyter": {
          "outputs_hidden": false,
          "source_hidden": false
        },
        "nteract": {
          "transient": {
            "deleting": false
          }
        },
        "id": "axbCq54eDIzK"
      }
    },
    {
      "cell_type": "code",
      "source": [
        "# Next, let's use if it exists, or create if required, a compute cluster to be used by the ML\n",
        "\n",
        "# Access the compute cluster. If it exists, we will have the compute object. \n",
        "# If it does not exist, an exception will be thrown upon which the compute cluster is created\n",
        "try:\n",
        "    cc = ComputeTarget(workspace=ws, name='COMPUTE-AUTOML')\n",
        "except ComputeTargetException:\n",
        "    # Failed to obtain the compute cluster object\n",
        "    # In all likelihood, a compute cluster of that name has not been created\n",
        "    # Attempt to create the compute cluster\n",
        "    # First set up the configuration\n",
        "\n",
        "    # Specify the configuration of the compute cluster\n",
        "    cc_cfg = AmlCompute.provisioning_configuration(vm_size='Standard_DS3_v2', min_nodes=1, max_nodes=4)\n",
        "    cc = ComputeTarget.create(workspace=ws, name='COMPUTE-AUTOML', provisioning_configuration=cc_cfg)\n",
        "\n",
        "# At this point - we have access to the compute cluster object. Wait for the compute target to complete provisioing\n",
        "cc.wait_for_completion(show_output='True')"
      ],
      "outputs": [
        {
          "output_type": "stream",
          "name": "stdout",
          "text": "InProgress....\nSucceededProvisioning operation finished, operation \"Succeeded\"\nSucceeded................\nAmlCompute wait for completion finished\n\nMinimum number of nodes requested have been provisioned\n"
        }
      ],
      "execution_count": 20,
      "metadata": {
        "id": "SCvxfM_3ElcZ",
        "gather": {
          "logged": 1635648576039
        }
      }
    },
    {
      "cell_type": "markdown",
      "source": [
        "## AutoML Configuration\n",
        "\n",
        "TODO: Explain why you chose the automl settings and cofiguration you used below.\n",
        "\n",
        "This project is a classification issue. More so, it is a binary classification issue as teh outcome is whether the wine is of a good quality or not.\n",
        "\n",
        "AUC_weighted is an apporpriate metric to target for a binary classification.\n",
        "[Set up AutoML training with Python](https://docs.microsoft.com/en-us/azure/machine-learning/how-to-configure-auto-train)\n",
        "\n",
        "It is generally recommended to enable early stopping as it is possible that after a while no further improvement in the model is feasible.\n",
        "\n",
        "There is enrally limited to no benefit to using a large number of cross validations. In this instance, we have set it to 3."
      ],
      "metadata": {
        "id": "scO2RZk_DIzL"
      }
    },
    {
      "cell_type": "code",
      "source": [
        "# TODO: Put your automl settings here\n",
        "\n",
        "automl_settings = {\n",
        "    \"iterations\" : 20,\n",
        "    \"experiment_timeout_minutes\" : 30,\n",
        "    \"enable_early_stopping\" : True,\n",
        "    \"iteration_timeout_minutes\" : 5,\n",
        "    \"max_concurrent_iterations\" : 5,\n",
        "    \"max_cores_per_iteration\" : -1,\n",
        "    \"n_cross_validations\" : 3,\n",
        "    \"primary_metric\" : 'AUC_weighted',\n",
        "    \"verbosity\" : logging.INFO,\n",
        "}\n",
        "\n",
        "# Provide the remainder of the settings/configuration\n",
        "# Note that we are not providing a validation data set\n",
        "# \n",
        "\n",
        "\n",
        "# TODO: Put your automl config here\n",
        "automl_config = AutoMLConfig(\n",
        "    compute_target = cc,\n",
        "    task='classification',\n",
        "    training_data=train_ds,\n",
        "    label_column_name='diagnosis',\n",
        "    featurization='auto',\n",
        "    model_explainability=True,\n",
        "    debug_log='capstone_automl.log',\n",
        "    **automl_settings)"
      ],
      "outputs": [],
      "execution_count": 21,
      "metadata": {
        "gather": {
          "logged": 1635648673411
        },
        "jupyter": {
          "outputs_hidden": false,
          "source_hidden": false
        },
        "nteract": {
          "transient": {
            "deleting": false
          }
        },
        "id": "uJJWKay5DIzL"
      }
    },
    {
      "cell_type": "code",
      "source": [
        "# TODO: Submit your experiment\n",
        "automl_run = experiment.submit(automl_config)"
      ],
      "outputs": [
        {
          "output_type": "stream",
          "name": "stdout",
          "text": "Submitting remote run.\n"
        },
        {
          "output_type": "display_data",
          "data": {
            "text/plain": "<IPython.core.display.HTML object>",
            "text/html": "<table style=\"width:100%\"><tr><th>Experiment</th><th>Id</th><th>Type</th><th>Status</th><th>Details Page</th><th>Docs Page</th></tr><tr><td>experiment-capstone-automl</td><td>AutoML_69568f8b-37e3-42cf-9297-0b0453bf1bd4</td><td>automl</td><td>NotStarted</td><td><a href=\"https://ml.azure.com/runs/AutoML_69568f8b-37e3-42cf-9297-0b0453bf1bd4?wsid=/subscriptions/61c5c3f0-6dc7-4ed9-a7f3-c704b20e3b30/resourcegroups/aml-quickstarts-162430/workspaces/quick-starts-ws-162430&amp;tid=660b3398-b80e-49d2-bc5b-ac1dc93b5254\" target=\"_blank\" rel=\"noopener\">Link to Azure Machine Learning studio</a></td><td><a href=\"https://docs.microsoft.com/en-us/python/api/overview/azure/ml/intro?view=azure-ml-py\" target=\"_blank\" rel=\"noopener\">Link to Documentation</a></td></tr></table>"
          },
          "metadata": {}
        }
      ],
      "execution_count": 22,
      "metadata": {
        "gather": {
          "logged": 1635648683793
        },
        "jupyter": {
          "outputs_hidden": false,
          "source_hidden": false
        },
        "nteract": {
          "transient": {
            "deleting": false
          }
        },
        "id": "qm0n8PgRDIzM"
      }
    },
    {
      "cell_type": "markdown",
      "source": [
        "## Run Details\n",
        "\n",
        "OPTIONAL: Write about the different models trained and their performance. Why do you think some models did better than others?\n",
        "\n",
        "TODO: In the cell below, use the `RunDetails` widget to show the different experiments."
      ],
      "metadata": {
        "id": "MR49YIwPDIzN"
      }
    },
    {
      "cell_type": "code",
      "source": [
        "RunDetails(automl_run).show()"
      ],
      "outputs": [
        {
          "output_type": "display_data",
          "data": {
            "text/plain": "_AutoMLWidget(widget_settings={'childWidgetDisplay': 'popup', 'send_telemetry': False, 'log_level': 'INFO', 's…",
            "application/vnd.jupyter.widget-view+json": {
              "version_major": 2,
              "version_minor": 0,
              "model_id": "5fb82bd261b64ae9afd8b46cc070f12c"
            }
          },
          "metadata": {}
        },
        {
          "output_type": "display_data",
          "data": {
            "application/aml.mini.widget.v1": "{\"status\": \"Completed\", \"workbench_run_details_uri\": \"https://ml.azure.com/runs/AutoML_69568f8b-37e3-42cf-9297-0b0453bf1bd4?wsid=/subscriptions/61c5c3f0-6dc7-4ed9-a7f3-c704b20e3b30/resourcegroups/aml-quickstarts-162430/workspaces/quick-starts-ws-162430&tid=660b3398-b80e-49d2-bc5b-ac1dc93b5254\", \"run_id\": \"AutoML_69568f8b-37e3-42cf-9297-0b0453bf1bd4\", \"run_properties\": {\"run_id\": \"AutoML_69568f8b-37e3-42cf-9297-0b0453bf1bd4\", \"created_utc\": \"2021-10-31T02:51:22.031438Z\", \"properties\": {\"num_iterations\": \"20\", \"training_type\": \"TrainFull\", \"acquisition_function\": \"EI\", \"primary_metric\": \"AUC_weighted\", \"train_split\": \"0\", \"acquisition_parameter\": \"0\", \"num_cross_validation\": \"3\", \"target\": \"COMPUTE-AUTOML\", \"AMLSettingsJsonString\": \"{\\\"path\\\":null,\\\"name\\\":\\\"experiment-capstone-automl\\\",\\\"subscription_id\\\":\\\"61c5c3f0-6dc7-4ed9-a7f3-c704b20e3b30\\\",\\\"resource_group\\\":\\\"aml-quickstarts-162430\\\",\\\"workspace_name\\\":\\\"quick-starts-ws-162430\\\",\\\"region\\\":\\\"southcentralus\\\",\\\"compute_target\\\":\\\"COMPUTE-AUTOML\\\",\\\"spark_service\\\":null,\\\"azure_service\\\":\\\"remote\\\",\\\"many_models\\\":false,\\\"pipeline_fetch_max_batch_size\\\":1,\\\"enable_batch_run\\\":false,\\\"enable_run_restructure\\\":false,\\\"start_auxiliary_runs_before_parent_complete\\\":false,\\\"enable_code_generation\\\":false,\\\"iterations\\\":20,\\\"primary_metric\\\":\\\"AUC_weighted\\\",\\\"task_type\\\":\\\"classification\\\",\\\"data_script\\\":null,\\\"test_size\\\":0.0,\\\"test_include_predictions_only\\\":false,\\\"validation_size\\\":0.0,\\\"n_cross_validations\\\":3,\\\"y_min\\\":null,\\\"y_max\\\":null,\\\"num_classes\\\":null,\\\"featurization\\\":\\\"auto\\\",\\\"_ignore_package_version_incompatibilities\\\":false,\\\"is_timeseries\\\":false,\\\"max_cores_per_iteration\\\":-1,\\\"max_concurrent_iterations\\\":5,\\\"iteration_timeout_minutes\\\":5,\\\"mem_in_mb\\\":null,\\\"enforce_time_on_windows\\\":false,\\\"experiment_timeout_minutes\\\":30,\\\"experiment_exit_score\\\":null,\\\"whitelist_models\\\":null,\\\"blacklist_algos\\\":[\\\"TensorFlowLinearClassifier\\\",\\\"TensorFlowDNN\\\"],\\\"supported_models\\\":[\\\"SVM\\\",\\\"LinearSVM\\\",\\\"SGD\\\",\\\"RandomForest\\\",\\\"ExtremeRandomTrees\\\",\\\"KNN\\\",\\\"GradientBoosting\\\",\\\"DecisionTree\\\",\\\"XGBoostClassifier\\\",\\\"MultinomialNaiveBayes\\\",\\\"TensorFlowLinearClassifier\\\",\\\"LightGBM\\\",\\\"AveragedPerceptronClassifier\\\",\\\"TensorFlowDNN\\\",\\\"BernoulliNaiveBayes\\\",\\\"LogisticRegression\\\"],\\\"private_models\\\":[],\\\"auto_blacklist\\\":true,\\\"blacklist_samples_reached\\\":false,\\\"exclude_nan_labels\\\":true,\\\"verbosity\\\":20,\\\"_debug_log\\\":\\\"azureml_automl.log\\\",\\\"show_warnings\\\":false,\\\"model_explainability\\\":true,\\\"service_url\\\":null,\\\"sdk_url\\\":null,\\\"sdk_packages\\\":null,\\\"enable_onnx_compatible_models\\\":false,\\\"enable_split_onnx_featurizer_estimator_models\\\":false,\\\"vm_type\\\":\\\"STANDARD_DS3_V2\\\",\\\"telemetry_verbosity\\\":20,\\\"send_telemetry\\\":true,\\\"enable_dnn\\\":false,\\\"scenario\\\":\\\"SDK-1.13.0\\\",\\\"environment_label\\\":null,\\\"save_mlflow\\\":false,\\\"force_text_dnn\\\":false,\\\"enable_feature_sweeping\\\":true,\\\"enable_early_stopping\\\":true,\\\"early_stopping_n_iters\\\":10,\\\"metrics\\\":null,\\\"enable_metric_confidence\\\":false,\\\"enable_ensembling\\\":true,\\\"enable_stack_ensembling\\\":true,\\\"ensemble_iterations\\\":15,\\\"enable_tf\\\":false,\\\"enable_subsampling\\\":false,\\\"subsample_seed\\\":null,\\\"enable_nimbusml\\\":false,\\\"enable_streaming\\\":false,\\\"force_streaming\\\":false,\\\"track_child_runs\\\":true,\\\"allowed_private_models\\\":[],\\\"label_column_name\\\":\\\"diagnosis\\\",\\\"weight_column_name\\\":null,\\\"cv_split_column_names\\\":null,\\\"positive_label\\\":null,\\\"enable_local_managed\\\":false,\\\"_local_managed_run_id\\\":null,\\\"cost_mode\\\":1,\\\"lag_length\\\":0,\\\"metric_operation\\\":\\\"maximize\\\",\\\"preprocess\\\":true}\", \"DataPrepJsonString\": \"{\\\\\\\"training_data\\\\\\\": {\\\\\\\"datasetId\\\\\\\": \\\\\\\"5799d6d2-3e75-42e2-82b7-58996853d5d2\\\\\\\"}, \\\\\\\"datasets\\\\\\\": 0}\", \"EnableSubsampling\": \"False\", \"runTemplate\": \"AutoML\", \"azureml.runsource\": \"automl\", \"display_task_type\": \"classification\", \"dependencies_versions\": \"{\\\"azureml-widgets\\\": \\\"1.34.0\\\", \\\"azureml-train\\\": \\\"1.34.0\\\", \\\"azureml-train-restclients-hyperdrive\\\": \\\"1.34.0\\\", \\\"azureml-train-core\\\": \\\"1.34.0\\\", \\\"azureml-train-automl\\\": \\\"1.34.0\\\", \\\"azureml-train-automl-runtime\\\": \\\"1.34.0\\\", \\\"azureml-train-automl-client\\\": \\\"1.34.0\\\", \\\"azureml-tensorboard\\\": \\\"1.34.0\\\", \\\"azureml-telemetry\\\": \\\"1.34.0\\\", \\\"azureml-sdk\\\": \\\"1.34.0\\\", \\\"azureml-samples\\\": \\\"0+unknown\\\", \\\"azureml-responsibleai\\\": \\\"1.34.0\\\", \\\"azureml-pipeline\\\": \\\"1.34.0\\\", \\\"azureml-pipeline-steps\\\": \\\"1.34.0\\\", \\\"azureml-pipeline-core\\\": \\\"1.34.0\\\", \\\"azureml-opendatasets\\\": \\\"1.34.0\\\", \\\"azureml-mlflow\\\": \\\"1.34.0\\\", \\\"azureml-interpret\\\": \\\"1.34.0\\\", \\\"azureml-inference-server-http\\\": \\\"0.3.1\\\", \\\"azureml-explain-model\\\": \\\"1.34.0\\\", \\\"azureml-defaults\\\": \\\"1.34.0\\\", \\\"azureml-dataset-runtime\\\": \\\"1.34.0\\\", \\\"azureml-dataprep\\\": \\\"2.22.2\\\", \\\"azureml-dataprep-rslex\\\": \\\"1.20.1\\\", \\\"azureml-dataprep-native\\\": \\\"38.0.0\\\", \\\"azureml-datadrift\\\": \\\"1.34.0\\\", \\\"azureml-core\\\": \\\"1.34.0\\\", \\\"azureml-contrib-services\\\": \\\"1.34.0\\\", \\\"azureml-contrib-server\\\": \\\"1.34.0\\\", \\\"azureml-contrib-reinforcementlearning\\\": \\\"1.34.0\\\", \\\"azureml-contrib-pipeline-steps\\\": \\\"1.34.0\\\", \\\"azureml-contrib-notebook\\\": \\\"1.34.0\\\", \\\"azureml-contrib-fairness\\\": \\\"1.34.0\\\", \\\"azureml-contrib-dataset\\\": \\\"1.34.0\\\", \\\"azureml-contrib-automl-pipeline-steps\\\": \\\"1.34.0\\\", \\\"azureml-cli-common\\\": \\\"1.34.0\\\", \\\"azureml-automl-runtime\\\": \\\"1.34.0\\\", \\\"azureml-automl-dnn-nlp\\\": \\\"1.34.0\\\", \\\"azureml-automl-core\\\": \\\"1.34.0\\\", \\\"azureml-accel-models\\\": \\\"1.34.0\\\"}\", \"_aml_system_scenario_identification\": \"Remote.Parent\", \"ClientType\": \"SDK\", \"environment_cpu_name\": \"AzureML-AutoML\", \"environment_cpu_label\": \"prod\", \"environment_gpu_name\": \"AzureML-AutoML-GPU\", \"environment_gpu_label\": \"prod\", \"root_attribution\": \"automl\", \"attribution\": \"AutoML\", \"Orchestrator\": \"AutoML\", \"CancelUri\": \"https://southcentralus.api.azureml.ms/jasmine/v1.0/subscriptions/61c5c3f0-6dc7-4ed9-a7f3-c704b20e3b30/resourceGroups/aml-quickstarts-162430/providers/Microsoft.MachineLearningServices/workspaces/quick-starts-ws-162430/experimentids/2b49be2d-4198-4961-bc87-d63dd3938a54/cancel/AutoML_69568f8b-37e3-42cf-9297-0b0453bf1bd4\", \"ClientSdkVersion\": \"1.35.0\", \"snapshotId\": \"00000000-0000-0000-0000-000000000000\", \"SetupRunId\": \"AutoML_69568f8b-37e3-42cf-9297-0b0453bf1bd4_setup\", \"SetupRunContainerId\": \"dcid.AutoML_69568f8b-37e3-42cf-9297-0b0453bf1bd4_setup\", \"FeaturizationRunJsonPath\": \"featurizer_container.json\", \"FeaturizationRunId\": \"AutoML_69568f8b-37e3-42cf-9297-0b0453bf1bd4_featurize\", \"ProblemInfoJsonString\": \"{\\\"dataset_num_categorical\\\": 0, \\\"is_sparse\\\": false, \\\"subsampling\\\": false, \\\"has_extra_col\\\": true, \\\"dataset_classes\\\": 2, \\\"dataset_features\\\": 5, \\\"dataset_samples\\\": 565, \\\"single_frequency_class_detected\\\": false}\", \"ModelExplainRunId\": \"AutoML_69568f8b-37e3-42cf-9297-0b0453bf1bd4_ModelExplain\"}, \"tags\": {\"model_explain_run\": \"best_run\", \"_aml_system_azureml.automlComponent\": \"AutoML\", \"pipeline_id\": \"\", \"score\": \"\", \"predicted_cost\": \"\", \"fit_time\": \"\", \"training_percent\": \"\", \"iteration\": \"\", \"run_preprocessor\": \"\", \"run_algorithm\": \"\", \"automl_best_child_run_id\": \"AutoML_69568f8b-37e3-42cf-9297-0b0453bf1bd4_18\", \"model_explain_best_run_child_id\": \"AutoML_69568f8b-37e3-42cf-9297-0b0453bf1bd4_18\"}, \"end_time_utc\": \"2021-10-31T03:03:52.258747Z\", \"status\": \"Completed\", \"log_files\": {}, \"log_groups\": [], \"run_duration\": \"0:12:30\", \"run_number\": \"1\", \"run_queued_details\": {\"status\": \"Completed\", \"details\": null}}, \"child_runs\": [{\"run_id\": \"AutoML_69568f8b-37e3-42cf-9297-0b0453bf1bd4_setup\", \"run_number\": 2, \"metric\": null, \"status\": \"Completed\", \"run_type\": \"azureml.scriptrun\", \"training_percent\": null, \"start_time\": \"2021-10-31T02:51:36.761677Z\", \"end_time\": \"2021-10-31T02:52:56.613805Z\", \"created_time\": \"2021-10-31T02:51:36.761677Z\", \"created_time_dt\": \"2021-10-31T02:51:36.761677Z\", \"duration\": \"0:01:19\", \"iteration\": null, \"goal\": null, \"run_name\": \"Completed\", \"run_properties\": null}, {\"run_id\": \"AutoML_69568f8b-37e3-42cf-9297-0b0453bf1bd4_featurize\", \"run_number\": 3, \"metric\": null, \"status\": \"Completed\", \"run_type\": \"automl.featurization\", \"training_percent\": null, \"start_time\": \"2021-10-31T02:52:57.497656Z\", \"end_time\": \"2021-10-31T02:53:38.589776Z\", \"created_time\": \"2021-10-31T02:52:57.057251Z\", \"created_time_dt\": \"2021-10-31T02:52:57.057251Z\", \"duration\": \"0:00:41\", \"iteration\": null, \"goal\": null, \"run_name\": \"Completed\", \"run_properties\": null}, {\"run_id\": \"AutoML_69568f8b-37e3-42cf-9297-0b0453bf1bd4_0\", \"run_number\": 5, \"metric\": null, \"status\": \"Completed\", \"run_type\": \"azureml.scriptrun\", \"training_percent\": \"100\", \"start_time\": \"2021-10-31T02:53:39.445785Z\", \"end_time\": \"2021-10-31T02:54:46.191571Z\", \"created_time\": \"2021-10-31T02:53:39.445785Z\", \"created_time_dt\": \"2021-10-31T02:53:39.445785Z\", \"duration\": \"0:01:06\", \"iteration\": \"0\", \"goal\": \"AUC_weighted_max\", \"run_name\": \"MaxAbsScaler, LightGBM\", \"run_properties\": \"copy=True\", \"primary_metric\": 0.9695928, \"best_metric\": 0.9695928}, {\"run_id\": \"AutoML_69568f8b-37e3-42cf-9297-0b0453bf1bd4_1\", \"run_number\": 6, \"metric\": null, \"status\": \"Completed\", \"run_type\": \"azureml.scriptrun\", \"training_percent\": \"100\", \"start_time\": \"2021-10-31T02:53:39.467227Z\", \"end_time\": \"2021-10-31T02:56:58.550254Z\", \"created_time\": \"2021-10-31T02:53:39.467227Z\", \"created_time_dt\": \"2021-10-31T02:53:39.467227Z\", \"duration\": \"0:03:19\", \"iteration\": \"1\", \"goal\": \"AUC_weighted_max\", \"run_name\": \"MaxAbsScaler, XGBoostClassifier\", \"run_properties\": \"copy=True\", \"primary_metric\": 0.97466636, \"best_metric\": 0.97466636}, {\"run_id\": \"AutoML_69568f8b-37e3-42cf-9297-0b0453bf1bd4_4\", \"run_number\": 7, \"metric\": null, \"status\": \"Completed\", \"run_type\": \"azureml.scriptrun\", \"training_percent\": \"100\", \"start_time\": \"2021-10-31T02:53:39.467251Z\", \"end_time\": \"2021-10-31T02:55:56.619877Z\", \"created_time\": \"2021-10-31T02:53:39.467251Z\", \"created_time_dt\": \"2021-10-31T02:53:39.467251Z\", \"duration\": \"0:02:17\", \"iteration\": \"4\", \"goal\": \"AUC_weighted_max\", \"run_name\": \"StandardScalerWrapper, LightGBM\", \"run_properties\": \"\\n    copy=True,\\n    with_mean=False,\\n    with_std=True\\n\", \"primary_metric\": 0.96402754, \"best_metric\": 0.97466636}, {\"run_id\": \"AutoML_69568f8b-37e3-42cf-9297-0b0453bf1bd4_2\", \"run_number\": 8, \"metric\": null, \"status\": \"Completed\", \"run_type\": \"azureml.scriptrun\", \"training_percent\": \"100\", \"start_time\": \"2021-10-31T02:53:39.477922Z\", \"end_time\": \"2021-10-31T02:54:13.226907Z\", \"created_time\": \"2021-10-31T02:53:39.477922Z\", \"created_time_dt\": \"2021-10-31T02:53:39.477922Z\", \"duration\": \"0:00:33\", \"iteration\": \"2\", \"goal\": \"AUC_weighted_max\", \"run_name\": \"MaxAbsScaler, ExtremeRandomTrees\", \"run_properties\": \"copy=True\", \"primary_metric\": 0.96515857, \"best_metric\": 0.97466636}, {\"run_id\": \"AutoML_69568f8b-37e3-42cf-9297-0b0453bf1bd4_3\", \"run_number\": 9, \"metric\": null, \"status\": \"Completed\", \"run_type\": \"azureml.scriptrun\", \"training_percent\": \"100\", \"start_time\": \"2021-10-31T02:53:39.466564Z\", \"end_time\": \"2021-10-31T02:55:19.844535Z\", \"created_time\": \"2021-10-31T02:53:39.466564Z\", \"created_time_dt\": \"2021-10-31T02:53:39.466564Z\", \"duration\": \"0:01:40\", \"iteration\": \"3\", \"goal\": \"AUC_weighted_max\", \"run_name\": \"MaxAbsScaler, RandomForest\", \"run_properties\": \"copy=True\", \"primary_metric\": 0.95991306, \"best_metric\": 0.97466636}, {\"run_id\": \"AutoML_69568f8b-37e3-42cf-9297-0b0453bf1bd4_5\", \"run_number\": 10, \"metric\": null, \"status\": \"Completed\", \"run_type\": \"azureml.scriptrun\", \"training_percent\": \"100\", \"start_time\": \"2021-10-31T02:54:16.200556Z\", \"end_time\": \"2021-10-31T02:57:05.56677Z\", \"created_time\": \"2021-10-31T02:54:16.200556Z\", \"created_time_dt\": \"2021-10-31T02:54:16.200556Z\", \"duration\": \"0:02:49\", \"iteration\": \"5\", \"goal\": \"AUC_weighted_max\", \"run_name\": \"StandardScalerWrapper, KNN\", \"run_properties\": \"\\n    copy=True,\\n    with_mean=True,\\n    with_std=False\\n\", \"primary_metric\": 0.92837638, \"best_metric\": 0.97466636}, {\"run_id\": \"AutoML_69568f8b-37e3-42cf-9297-0b0453bf1bd4_6\", \"run_number\": 11, \"metric\": null, \"status\": \"Completed\", \"run_type\": \"azureml.scriptrun\", \"training_percent\": \"100\", \"start_time\": \"2021-10-31T02:54:48.899632Z\", \"end_time\": \"2021-10-31T02:56:32.157281Z\", \"created_time\": \"2021-10-31T02:54:48.899632Z\", \"created_time_dt\": \"2021-10-31T02:54:48.899632Z\", \"duration\": \"0:01:43\", \"iteration\": \"6\", \"goal\": \"AUC_weighted_max\", \"run_name\": \"SparseNormalizer, XGBoostClassifier\", \"run_properties\": \"copy=True, norm='max'\", \"primary_metric\": 0.94737562, \"best_metric\": 0.97466636}, {\"run_id\": \"AutoML_69568f8b-37e3-42cf-9297-0b0453bf1bd4_7\", \"run_number\": 12, \"metric\": null, \"status\": \"Completed\", \"run_type\": \"azureml.scriptrun\", \"training_percent\": \"100\", \"start_time\": \"2021-10-31T02:55:23.174Z\", \"end_time\": \"2021-10-31T02:57:36.271942Z\", \"created_time\": \"2021-10-31T02:55:23.174Z\", \"created_time_dt\": \"2021-10-31T02:55:23.174Z\", \"duration\": \"0:02:13\", \"iteration\": \"7\", \"goal\": \"AUC_weighted_max\", \"run_name\": \"SparseNormalizer, RandomForest\", \"run_properties\": \"copy=True, norm='l2'\", \"primary_metric\": 0.96062056, \"best_metric\": 0.97466636}, {\"run_id\": \"AutoML_69568f8b-37e3-42cf-9297-0b0453bf1bd4_8\", \"run_number\": 13, \"metric\": null, \"status\": \"Completed\", \"run_type\": \"azureml.scriptrun\", \"training_percent\": \"100\", \"start_time\": \"2021-10-31T02:55:59.51799Z\", \"end_time\": \"2021-10-31T02:58:23.38574Z\", \"created_time\": \"2021-10-31T02:55:59.51799Z\", \"created_time_dt\": \"2021-10-31T02:55:59.51799Z\", \"duration\": \"0:02:23\", \"iteration\": \"8\", \"goal\": \"AUC_weighted_max\", \"run_name\": \"RobustScaler, KNN\", \"run_properties\": \"copy=True, quantile_range=[25, 75], with_centering=False,\\n             with_scaling=True\", \"primary_metric\": 0.97832465, \"best_metric\": 0.97832465}, {\"run_id\": \"AutoML_69568f8b-37e3-42cf-9297-0b0453bf1bd4_9\", \"run_number\": 14, \"metric\": null, \"status\": \"Completed\", \"run_type\": \"azureml.scriptrun\", \"training_percent\": \"100\", \"start_time\": \"2021-10-31T02:56:34.776171Z\", \"end_time\": \"2021-10-31T02:58:25.013353Z\", \"created_time\": \"2021-10-31T02:56:34.776171Z\", \"created_time_dt\": \"2021-10-31T02:56:34.776171Z\", \"duration\": \"0:01:50\", \"iteration\": \"9\", \"goal\": \"AUC_weighted_max\", \"run_name\": \"MinMaxScaler, RandomForest\", \"run_properties\": \"copy=True, feature_range=(0, 1\", \"primary_metric\": 0.95539537, \"best_metric\": 0.97832465}, {\"run_id\": \"AutoML_69568f8b-37e3-42cf-9297-0b0453bf1bd4_10\", \"run_number\": 15, \"metric\": null, \"status\": \"Completed\", \"run_type\": \"azureml.scriptrun\", \"training_percent\": \"100\", \"start_time\": \"2021-10-31T02:57:01.502251Z\", \"end_time\": \"2021-10-31T02:58:23.08237Z\", \"created_time\": \"2021-10-31T02:57:01.502251Z\", \"created_time_dt\": \"2021-10-31T02:57:01.502251Z\", \"duration\": \"0:01:21\", \"iteration\": \"10\", \"goal\": \"AUC_weighted_max\", \"run_name\": \"StandardScalerWrapper, LogisticRegression\", \"run_properties\": \"\\n    copy=True,\\n    with_mean=True,\\n    with_std=True\\n\", \"primary_metric\": 0.98182652, \"best_metric\": 0.98182652}, {\"run_id\": \"AutoML_69568f8b-37e3-42cf-9297-0b0453bf1bd4_11\", \"run_number\": 16, \"metric\": null, \"status\": \"Completed\", \"run_type\": \"azureml.scriptrun\", \"training_percent\": \"100\", \"start_time\": \"2021-10-31T02:57:08.198658Z\", \"end_time\": \"2021-10-31T02:59:38.523617Z\", \"created_time\": \"2021-10-31T02:57:08.198658Z\", \"created_time_dt\": \"2021-10-31T02:57:08.198658Z\", \"duration\": \"0:02:30\", \"iteration\": \"11\", \"goal\": \"AUC_weighted_max\", \"run_name\": \"StandardScalerWrapper, SVM\", \"run_properties\": \"\\n    copy=True,\\n    with_mean=True,\\n    with_std=True\\n\", \"primary_metric\": 0.94831823, \"best_metric\": 0.98182652}, {\"run_id\": \"AutoML_69568f8b-37e3-42cf-9297-0b0453bf1bd4_12\", \"run_number\": 17, \"metric\": null, \"status\": \"Completed\", \"run_type\": \"azureml.scriptrun\", \"training_percent\": \"100\", \"start_time\": \"2021-10-31T02:57:39.013581Z\", \"end_time\": \"2021-10-31T03:00:20.932623Z\", \"created_time\": \"2021-10-31T02:57:39.013581Z\", \"created_time_dt\": \"2021-10-31T02:57:39.013581Z\", \"duration\": \"0:02:41\", \"iteration\": \"12\", \"goal\": \"AUC_weighted_max\", \"run_name\": \"StandardScalerWrapper, XGBoostClassifier\", \"run_properties\": \"\\n    copy=True,\\n    with_mean=False,\\n    with_std=False\\n\", \"primary_metric\": 0.95828952, \"best_metric\": 0.98182652}, {\"run_id\": \"AutoML_69568f8b-37e3-42cf-9297-0b0453bf1bd4_13\", \"run_number\": 18, \"metric\": null, \"status\": \"Completed\", \"run_type\": \"azureml.scriptrun\", \"training_percent\": \"100\", \"start_time\": \"2021-10-31T02:58:25.752917Z\", \"end_time\": \"2021-10-31T03:00:18.992671Z\", \"created_time\": \"2021-10-31T02:58:25.752917Z\", \"created_time_dt\": \"2021-10-31T02:58:25.752917Z\", \"duration\": \"0:01:53\", \"iteration\": \"13\", \"goal\": \"AUC_weighted_max\", \"run_name\": \"SparseNormalizer, KNN\", \"run_properties\": \"copy=True, norm='max'\", \"primary_metric\": 0.92746879, \"best_metric\": 0.98182652}, {\"run_id\": \"AutoML_69568f8b-37e3-42cf-9297-0b0453bf1bd4_15\", \"run_number\": 19, \"metric\": null, \"status\": \"Completed\", \"run_type\": \"azureml.scriptrun\", \"training_percent\": \"100\", \"start_time\": \"2021-10-31T02:58:29.926667Z\", \"end_time\": \"2021-10-31T03:00:17.811442Z\", \"created_time\": \"2021-10-31T02:58:29.926667Z\", \"created_time_dt\": \"2021-10-31T02:58:29.926667Z\", \"duration\": \"0:01:47\", \"iteration\": \"15\", \"goal\": \"AUC_weighted_max\", \"run_name\": \"SparseNormalizer, XGBoostClassifier\", \"run_properties\": \"copy=True, norm='max'\", \"primary_metric\": 0.92363327, \"best_metric\": 0.98182652}, {\"run_id\": \"AutoML_69568f8b-37e3-42cf-9297-0b0453bf1bd4_14\", \"run_number\": 20, \"metric\": null, \"status\": \"Completed\", \"run_type\": \"azureml.scriptrun\", \"training_percent\": \"100\", \"start_time\": \"2021-10-31T02:58:29.949802Z\", \"end_time\": \"2021-10-31T03:01:39.697947Z\", \"created_time\": \"2021-10-31T02:58:29.949802Z\", \"created_time_dt\": \"2021-10-31T02:58:29.949802Z\", \"duration\": \"0:03:09\", \"iteration\": \"14\", \"goal\": \"AUC_weighted_max\", \"run_name\": \"RobustScaler, ExtremeRandomTrees\", \"run_properties\": \"copy=True, quantile_range=[10, 90], with_centering=True,\\n             with_scaling=False\", \"primary_metric\": 0.95523715, \"best_metric\": 0.98182652}, {\"run_id\": \"AutoML_69568f8b-37e3-42cf-9297-0b0453bf1bd4_16\", \"run_number\": 21, \"metric\": null, \"status\": \"Completed\", \"run_type\": \"azureml.scriptrun\", \"training_percent\": \"100\", \"start_time\": \"2021-10-31T02:59:41.845225Z\", \"end_time\": \"2021-10-31T03:02:20.947173Z\", \"created_time\": \"2021-10-31T02:59:41.845225Z\", \"created_time_dt\": \"2021-10-31T02:59:41.845225Z\", \"duration\": \"0:02:39\", \"iteration\": \"16\", \"goal\": \"AUC_weighted_max\", \"run_name\": \"MinMaxScaler, ExtremeRandomTrees\", \"run_properties\": \"copy=True, feature_range=(0, 1\", \"primary_metric\": 0.96770811, \"best_metric\": 0.98182652}, {\"run_id\": \"AutoML_69568f8b-37e3-42cf-9297-0b0453bf1bd4_17\", \"run_number\": 22, \"metric\": null, \"status\": \"Completed\", \"run_type\": \"azureml.scriptrun\", \"training_percent\": \"100\", \"start_time\": \"2021-10-31T03:00:21.450455Z\", \"end_time\": \"2021-10-31T03:02:22.604178Z\", \"created_time\": \"2021-10-31T03:00:21.450455Z\", \"created_time_dt\": \"2021-10-31T03:00:21.450455Z\", \"duration\": \"0:02:01\", \"iteration\": \"17\", \"goal\": \"AUC_weighted_max\", \"run_name\": \"MinMaxScaler, ExtremeRandomTrees\", \"run_properties\": \"copy=True, feature_range=(0, 1\", \"primary_metric\": 0.96777843, \"best_metric\": 0.98182652}, {\"run_id\": \"AutoML_69568f8b-37e3-42cf-9297-0b0453bf1bd4_18\", \"run_number\": 23, \"metric\": null, \"status\": \"Completed\", \"run_type\": \"azureml.scriptrun\", \"training_percent\": \"100\", \"start_time\": \"2021-10-31T03:02:23.414298Z\", \"end_time\": \"2021-10-31T03:03:50.402262Z\", \"created_time\": \"2021-10-31T03:02:23.414298Z\", \"created_time_dt\": \"2021-10-31T03:02:23.414298Z\", \"duration\": \"0:01:26\", \"iteration\": \"18\", \"goal\": \"AUC_weighted_max\", \"run_name\": \"VotingEnsemble\", \"run_properties\": \"\\n    estimators=[('10', Pipeline(\\n        memory=None,\\n        steps=[('standardscalerwrapper', StandardScalerWrapper(\\n            copy=True,\\n            with_mean=True,\\n            with_std=True\\n        \", \"primary_metric\": 0.98368575, \"best_metric\": 0.98368575}, {\"run_id\": \"AutoML_69568f8b-37e3-42cf-9297-0b0453bf1bd4_19\", \"run_number\": 24, \"metric\": null, \"status\": \"Completed\", \"run_type\": \"azureml.scriptrun\", \"training_percent\": \"100\", \"start_time\": \"2021-10-31T03:02:23.459856Z\", \"end_time\": \"2021-10-31T03:03:03.656792Z\", \"created_time\": \"2021-10-31T03:02:23.459856Z\", \"created_time_dt\": \"2021-10-31T03:02:23.459856Z\", \"duration\": \"0:00:40\", \"iteration\": \"19\", \"goal\": \"AUC_weighted_max\", \"run_name\": \"StackEnsemble\", \"run_properties\": \"\\n    base_learners=[('10', Pipeline(\\n        memory=None,\\n        steps=[('standardscalerwrapper', StandardScalerWrapper(\\n            copy=True,\\n            with_mean=True,\\n            with_std=True\\n        \", \"primary_metric\": 0.9774847, \"best_metric\": 0.98368575}], \"children_metrics\": {\"categories\": [0], \"series\": {\"average_precision_score_macro\": [{\"categories\": [\"0\", \"1\", \"2\", \"3\", \"4\", \"5\", \"6\", \"7\", \"8\", \"9\", \"10\", \"11\", \"12\", \"13\", \"14\", \"15\", \"16\", \"17\", \"18\", \"19\"], \"mode\": \"markers\", \"name\": \"average_precision_score_macro\", \"stepped\": false, \"type\": \"scatter\", \"data\": [0.9684761506106319, 0.9741743725924268, 0.9649650086270048, 0.9566025326772314, 0.964138034618241, 0.9273633781786838, 0.9393250069628127, 0.9560129453956661, 0.977570066605443, 0.9554181843817183, 0.9811183968541913, 0.9387621938658596, 0.9587797692473051, 0.9232451459901845, 0.954961783745583, 0.909612445737177, 0.9668395925530128, 0.9665453901041562, 0.982555991651244, 0.9740900528922442]}, {\"categories\": [\"0\", \"1\", \"2\", \"3\", \"4\", \"5\", \"6\", \"7\", \"8\", \"9\", \"10\", \"11\", \"12\", \"13\", \"14\", \"15\", \"16\", \"17\", \"18\", \"19\"], \"mode\": \"lines\", \"name\": \"average_precision_score_macro_max\", \"stepped\": true, \"type\": \"scatter\", \"data\": [0.9684761506106319, 0.9741743725924268, 0.9741743725924268, 0.9741743725924268, 0.9741743725924268, 0.9741743725924268, 0.9741743725924268, 0.9741743725924268, 0.977570066605443, 0.977570066605443, 0.9811183968541913, 0.9811183968541913, 0.9811183968541913, 0.9811183968541913, 0.9811183968541913, 0.9811183968541913, 0.9811183968541913, 0.9811183968541913, 0.982555991651244, 0.982555991651244]}], \"f1_score_macro\": [{\"categories\": [\"0\", \"1\", \"2\", \"3\", \"4\", \"5\", \"6\", \"7\", \"8\", \"9\", \"10\", \"11\", \"12\", \"13\", \"14\", \"15\", \"16\", \"17\", \"18\", \"19\"], \"mode\": \"markers\", \"name\": \"f1_score_macro\", \"stepped\": false, \"type\": \"scatter\", \"data\": [0.9023511517191928, 0.9079528521962598, 0.8780445696555245, 0.8939102383641009, 0.9044200354688786, 0.8824786963962885, 0.8938567602107156, 0.9110456830820312, 0.9132762210683049, 0.9004855953767995, 0.9237800663736286, 0.8900440860424575, 0.9050644421260459, 0.8644409250200688, 0.8753292457964316, 0.8882884617431582, 0.9124951475703528, 0.9064445743059945, 0.925263236017181, 0.9272624247007705]}, {\"categories\": [\"0\", \"1\", \"2\", \"3\", \"4\", \"5\", \"6\", \"7\", \"8\", \"9\", \"10\", \"11\", \"12\", \"13\", \"14\", \"15\", \"16\", \"17\", \"18\", \"19\"], \"mode\": \"lines\", \"name\": \"f1_score_macro_max\", \"stepped\": true, \"type\": \"scatter\", \"data\": [0.9023511517191928, 0.9079528521962598, 0.9079528521962598, 0.9079528521962598, 0.9079528521962598, 0.9079528521962598, 0.9079528521962598, 0.9110456830820312, 0.9132762210683049, 0.9132762210683049, 0.9237800663736286, 0.9237800663736286, 0.9237800663736286, 0.9237800663736286, 0.9237800663736286, 0.9237800663736286, 0.9237800663736286, 0.9237800663736286, 0.925263236017181, 0.9272624247007705]}], \"recall_score_macro\": [{\"categories\": [\"0\", \"1\", \"2\", \"3\", \"4\", \"5\", \"6\", \"7\", \"8\", \"9\", \"10\", \"11\", \"12\", \"13\", \"14\", \"15\", \"16\", \"17\", \"18\", \"19\"], \"mode\": \"markers\", \"name\": \"recall_score_macro\", \"stepped\": false, \"type\": \"scatter\", \"data\": [0.8976906136172259, 0.9029506281201982, 0.864383054135278, 0.8882995033290161, 0.8964440994444701, 0.8695553679325917, 0.8846937729239434, 0.9045748501165939, 0.9069512811612516, 0.893890891570747, 0.9221102114071442, 0.8793025379748878, 0.8978165931788059, 0.8592450634418296, 0.8781102720876164, 0.8797157079529208, 0.90498559355458, 0.9042800347028942, 0.9212928635503227, 0.9233310841017012]}, {\"categories\": [\"0\", \"1\", \"2\", \"3\", \"4\", \"5\", \"6\", \"7\", \"8\", \"9\", \"10\", \"11\", \"12\", \"13\", \"14\", \"15\", \"16\", \"17\", \"18\", \"19\"], \"mode\": \"lines\", \"name\": \"recall_score_macro_max\", \"stepped\": true, \"type\": \"scatter\", \"data\": [0.8976906136172259, 0.9029506281201982, 0.9029506281201982, 0.9029506281201982, 0.9029506281201982, 0.9029506281201982, 0.9029506281201982, 0.9045748501165939, 0.9069512811612516, 0.9069512811612516, 0.9221102114071442, 0.9221102114071442, 0.9221102114071442, 0.9221102114071442, 0.9221102114071442, 0.9221102114071442, 0.9221102114071442, 0.9221102114071442, 0.9221102114071442, 0.9233310841017012]}], \"precision_score_weighted\": [{\"categories\": [\"0\", \"1\", \"2\", \"3\", \"4\", \"5\", \"6\", \"7\", \"8\", \"9\", \"10\", \"11\", \"12\", \"13\", \"14\", \"15\", \"16\", \"17\", \"18\", \"19\"], \"mode\": \"markers\", \"name\": \"precision_score_weighted\", \"stepped\": false, \"type\": \"scatter\", \"data\": [0.9096199583060972, 0.9151685324908269, 0.8970831491436847, 0.902432963364303, 0.913923884134047, 0.8990637326065835, 0.9053849554901623, 0.9192410417957894, 0.9207745847747825, 0.9099323586198866, 0.929268164607798, 0.9047070226097952, 0.9136353204133844, 0.8753337400984046, 0.8843289384308877, 0.9001749239405075, 0.9210544326754534, 0.9130910242967764, 0.931360963220508, 0.9328097335716197]}, {\"categories\": [\"0\", \"1\", \"2\", \"3\", \"4\", \"5\", \"6\", \"7\", \"8\", \"9\", \"10\", \"11\", \"12\", \"13\", \"14\", \"15\", \"16\", \"17\", \"18\", \"19\"], \"mode\": \"lines\", \"name\": \"precision_score_weighted_max\", \"stepped\": true, \"type\": \"scatter\", \"data\": [0.9096199583060972, 0.9151685324908269, 0.9151685324908269, 0.9151685324908269, 0.9151685324908269, 0.9151685324908269, 0.9151685324908269, 0.9192410417957894, 0.9207745847747825, 0.9207745847747825, 0.929268164607798, 0.929268164607798, 0.929268164607798, 0.929268164607798, 0.929268164607798, 0.929268164607798, 0.929268164607798, 0.929268164607798, 0.931360963220508, 0.9328097335716197]}], \"average_precision_score_weighted\": [{\"categories\": [\"0\", \"1\", \"2\", \"3\", \"4\", \"5\", \"6\", \"7\", \"8\", \"9\", \"10\", \"11\", \"12\", \"13\", \"14\", \"15\", \"16\", \"17\", \"18\", \"19\"], \"mode\": \"markers\", \"name\": \"average_precision_score_weighted\", \"stepped\": false, \"type\": \"scatter\", \"data\": [0.9708784392861194, 0.9765616567620965, 0.9687456660135676, 0.9603521224860841, 0.9674161206115213, 0.9304370393033191, 0.9438055360191898, 0.9610562821436807, 0.9800375949264136, 0.9597033505631581, 0.9831868539552575, 0.9432042221679809, 0.9621788555064009, 0.9271754715441697, 0.9598285387968367, 0.9140963794398527, 0.9704281871197523, 0.9693926841135186, 0.9845834406181905, 0.9748151517998709]}, {\"categories\": [\"0\", \"1\", \"2\", \"3\", \"4\", \"5\", \"6\", \"7\", \"8\", \"9\", \"10\", \"11\", \"12\", \"13\", \"14\", \"15\", \"16\", \"17\", \"18\", \"19\"], \"mode\": \"lines\", \"name\": \"average_precision_score_weighted_max\", \"stepped\": true, \"type\": \"scatter\", \"data\": [0.9708784392861194, 0.9765616567620965, 0.9765616567620965, 0.9765616567620965, 0.9765616567620965, 0.9765616567620965, 0.9765616567620965, 0.9765616567620965, 0.9800375949264136, 0.9800375949264136, 0.9831868539552575, 0.9831868539552575, 0.9831868539552575, 0.9831868539552575, 0.9831868539552575, 0.9831868539552575, 0.9831868539552575, 0.9831868539552575, 0.9845834406181905, 0.9845834406181905]}], \"precision_score_macro\": [{\"categories\": [\"0\", \"1\", \"2\", \"3\", \"4\", \"5\", \"6\", \"7\", \"8\", \"9\", \"10\", \"11\", \"12\", \"13\", \"14\", \"15\", \"16\", \"17\", \"18\", \"19\"], \"mode\": \"markers\", \"name\": \"precision_score_macro\", \"stepped\": false, \"type\": \"scatter\", \"data\": [0.9082578411871814, 0.9144736632975768, 0.9050530835284935, 0.9011132241207888, 0.91561403742172, 0.9060263045821166, 0.9077499163165732, 0.9198339518873911, 0.9217370984232574, 0.9099944631685964, 0.9257486382055965, 0.9094505555763415, 0.9149337556104534, 0.8715347309733836, 0.8730091350653763, 0.9013073597424569, 0.9227583273223532, 0.9089015160734858, 0.9304235736105134, 0.9320049354237013]}, {\"categories\": [\"0\", \"1\", \"2\", \"3\", \"4\", \"5\", \"6\", \"7\", \"8\", \"9\", \"10\", \"11\", \"12\", \"13\", \"14\", \"15\", \"16\", \"17\", \"18\", \"19\"], \"mode\": \"lines\", \"name\": \"precision_score_macro_max\", \"stepped\": true, \"type\": \"scatter\", \"data\": [0.9082578411871814, 0.9144736632975768, 0.9144736632975768, 0.9144736632975768, 0.91561403742172, 0.91561403742172, 0.91561403742172, 0.9198339518873911, 0.9217370984232574, 0.9217370984232574, 0.9257486382055965, 0.9257486382055965, 0.9257486382055965, 0.9257486382055965, 0.9257486382055965, 0.9257486382055965, 0.9257486382055965, 0.9257486382055965, 0.9304235736105134, 0.9320049354237013]}], \"matthews_correlation\": [{\"categories\": [\"0\", \"1\", \"2\", \"3\", \"4\", \"5\", \"6\", \"7\", \"8\", \"9\", \"10\", \"11\", \"12\", \"13\", \"14\", \"15\", \"16\", \"17\", \"18\", \"19\"], \"mode\": \"markers\", \"name\": \"matthews_correlation\", \"stepped\": false, \"type\": \"scatter\", \"data\": [0.8058784448288699, 0.8173399858673968, 0.7678452314458005, 0.7893033039184053, 0.8118204151732319, 0.7744489906993662, 0.7920116845527998, 0.8242271454709201, 0.8285559912637552, 0.8036879196772317, 0.8478417029665062, 0.7880842212613368, 0.8125613313613128, 0.7306587722646004, 0.7511017383013615, 0.7806515017836283, 0.8275354080233241, 0.8131584496228865, 0.8516553321567174, 0.8552882858721332]}, {\"categories\": [\"0\", \"1\", \"2\", \"3\", \"4\", \"5\", \"6\", \"7\", \"8\", \"9\", \"10\", \"11\", \"12\", \"13\", \"14\", \"15\", \"16\", \"17\", \"18\", \"19\"], \"mode\": \"lines\", \"name\": \"matthews_correlation_max\", \"stepped\": true, \"type\": \"scatter\", \"data\": [0.8058784448288699, 0.8173399858673968, 0.8173399858673968, 0.8173399858673968, 0.8173399858673968, 0.8173399858673968, 0.8173399858673968, 0.8242271454709201, 0.8285559912637552, 0.8285559912637552, 0.8478417029665062, 0.8478417029665062, 0.8478417029665062, 0.8478417029665062, 0.8478417029665062, 0.8478417029665062, 0.8478417029665062, 0.8478417029665062, 0.8516553321567174, 0.8552882858721332]}], \"AUC_macro\": [{\"categories\": [\"0\", \"1\", \"2\", \"3\", \"4\", \"5\", \"6\", \"7\", \"8\", \"9\", \"10\", \"11\", \"12\", \"13\", \"14\", \"15\", \"16\", \"17\", \"18\", \"19\"], \"mode\": \"markers\", \"name\": \"AUC_macro\", \"stepped\": false, \"type\": \"scatter\", \"data\": [0.9695927953762461, 0.9746663638677168, 0.9651585688218379, 0.9599130609870046, 0.9640275421271065, 0.9283763826775316, 0.9473756155730303, 0.9606205553157, 0.9783246515379577, 0.9553875456121795, 0.9818265153222528, 0.9483182263471367, 0.9582895158663783, 0.9274687906453568, 0.9552371470915763, 0.9236332748892515, 0.9677081100714348, 0.9677784342130155, 0.9836857502791528, 0.9774846967922395]}, {\"categories\": [\"0\", \"1\", \"2\", \"3\", \"4\", \"5\", \"6\", \"7\", \"8\", \"9\", \"10\", \"11\", \"12\", \"13\", \"14\", \"15\", \"16\", \"17\", \"18\", \"19\"], \"mode\": \"lines\", \"name\": \"AUC_macro_max\", \"stepped\": true, \"type\": \"scatter\", \"data\": [0.9695927953762461, 0.9746663638677168, 0.9746663638677168, 0.9746663638677168, 0.9746663638677168, 0.9746663638677168, 0.9746663638677168, 0.9746663638677168, 0.9783246515379577, 0.9783246515379577, 0.9818265153222528, 0.9818265153222528, 0.9818265153222528, 0.9818265153222528, 0.9818265153222528, 0.9818265153222528, 0.9818265153222528, 0.9818265153222528, 0.9836857502791528, 0.9836857502791528]}], \"f1_score_weighted\": [{\"categories\": [\"0\", \"1\", \"2\", \"3\", \"4\", \"5\", \"6\", \"7\", \"8\", \"9\", \"10\", \"11\", \"12\", \"13\", \"14\", \"15\", \"16\", \"17\", \"18\", \"19\"], \"mode\": \"markers\", \"name\": \"f1_score_weighted\", \"stepped\": false, \"type\": \"scatter\", \"data\": [0.9091017863636366, 0.9144111660082285, 0.8891669139808768, 0.9018467425931909, 0.9122126892455094, 0.8929596211651979, 0.9029436124418657, 0.9179187509097685, 0.9196045321211653, 0.9085528558226871, 0.9290969030878434, 0.8990037640129006, 0.9123094019746371, 0.8748822500971428, 0.8835374812615088, 0.8977699436179174, 0.9195194124253488, 0.9130529735245133, 0.93062195973347, 0.9324083248206341]}, {\"categories\": [\"0\", \"1\", \"2\", \"3\", \"4\", \"5\", \"6\", \"7\", \"8\", \"9\", \"10\", \"11\", \"12\", \"13\", \"14\", \"15\", \"16\", \"17\", \"18\", \"19\"], \"mode\": \"lines\", \"name\": \"f1_score_weighted_max\", \"stepped\": true, \"type\": \"scatter\", \"data\": [0.9091017863636366, 0.9144111660082285, 0.9144111660082285, 0.9144111660082285, 0.9144111660082285, 0.9144111660082285, 0.9144111660082285, 0.9179187509097685, 0.9196045321211653, 0.9196045321211653, 0.9290969030878434, 0.9290969030878434, 0.9290969030878434, 0.9290969030878434, 0.9290969030878434, 0.9290969030878434, 0.9290969030878434, 0.9290969030878434, 0.93062195973347, 0.9324083248206341]}], \"f1_score_micro\": [{\"categories\": [\"0\", \"1\", \"2\", \"3\", \"4\", \"5\", \"6\", \"7\", \"8\", \"9\", \"10\", \"11\", \"12\", \"13\", \"14\", \"15\", \"16\", \"17\", \"18\", \"19\"], \"mode\": \"markers\", \"name\": \"f1_score_micro\", \"stepped\": false, \"type\": \"scatter\", \"data\": [0.9096964238808211, 0.9150155728169912, 0.8920409771473601, 0.9026417501594807, 0.9132800480318211, 0.8955776952230853, 0.9044523246650905, 0.9185804345378813, 0.9203253405381066, 0.909724567525986, 0.9291905887650569, 0.9008874629442006, 0.9132519043866562, 0.8760929115539046, 0.8831663477053547, 0.8991425569439754, 0.9203534841832713, 0.913261285601711, 0.9309636384104469, 0.932727306840782]}, {\"categories\": [\"0\", \"1\", \"2\", \"3\", \"4\", \"5\", \"6\", \"7\", \"8\", \"9\", \"10\", \"11\", \"12\", \"13\", \"14\", \"15\", \"16\", \"17\", \"18\", \"19\"], \"mode\": \"lines\", \"name\": \"f1_score_micro_max\", \"stepped\": true, \"type\": \"scatter\", \"data\": [0.9096964238808211, 0.9150155728169912, 0.9150155728169912, 0.9150155728169912, 0.9150155728169912, 0.9150155728169912, 0.9150155728169912, 0.9185804345378813, 0.9203253405381066, 0.9203253405381066, 0.9291905887650569, 0.9291905887650569, 0.9291905887650569, 0.9291905887650569, 0.9291905887650569, 0.9291905887650569, 0.9291905887650569, 0.9291905887650569, 0.9309636384104469, 0.932727306840782]}], \"norm_macro_recall\": [{\"categories\": [\"0\", \"1\", \"2\", \"3\", \"4\", \"5\", \"6\", \"7\", \"8\", \"9\", \"10\", \"11\", \"12\", \"13\", \"14\", \"15\", \"16\", \"17\", \"18\", \"19\"], \"mode\": \"markers\", \"name\": \"norm_macro_recall\", \"stepped\": false, \"type\": \"scatter\", \"data\": [0.7953812272344519, 0.8059012562403963, 0.728766108270556, 0.7765990066580319, 0.7928881988889401, 0.7391107358651836, 0.7693875458478868, 0.809149700233188, 0.813902562322503, 0.787781783141494, 0.8442204228142886, 0.7586050759497757, 0.7956331863576119, 0.7184901268836592, 0.7562205441752328, 0.7594314159058414, 0.8099711871091597, 0.8085600694057885, 0.8425857271006455, 0.8466621682034025]}, {\"categories\": [\"0\", \"1\", \"2\", \"3\", \"4\", \"5\", \"6\", \"7\", \"8\", \"9\", \"10\", \"11\", \"12\", \"13\", \"14\", \"15\", \"16\", \"17\", \"18\", \"19\"], \"mode\": \"lines\", \"name\": \"norm_macro_recall_max\", \"stepped\": true, \"type\": \"scatter\", \"data\": [0.7953812272344519, 0.8059012562403963, 0.8059012562403963, 0.8059012562403963, 0.8059012562403963, 0.8059012562403963, 0.8059012562403963, 0.809149700233188, 0.813902562322503, 0.813902562322503, 0.8442204228142886, 0.8442204228142886, 0.8442204228142886, 0.8442204228142886, 0.8442204228142886, 0.8442204228142886, 0.8442204228142886, 0.8442204228142886, 0.8442204228142886, 0.8466621682034025]}], \"log_loss\": [{\"categories\": [\"0\", \"1\", \"2\", \"3\", \"4\", \"5\", \"6\", \"7\", \"8\", \"9\", \"10\", \"11\", \"12\", \"13\", \"14\", \"15\", \"16\", \"17\", \"18\", \"19\"], \"mode\": \"markers\", \"name\": \"log_loss\", \"stepped\": false, \"type\": \"scatter\", \"data\": [0.29517073221148926, 0.2179164154744797, 0.29598091830035583, 0.3990837291416325, 0.2624264637113017, 0.5733666278592391, 0.354551235565361, 0.3516604167569057, 0.1811820719813959, 0.2568753983490875, 0.16603134589058968, 0.3210003714092627, 0.357011125729745, 0.7852550415395646, 0.29217031526539344, 0.371557541898198, 0.23277405711496027, 0.27415762880287886, 0.1753733995368497, 0.1888711191989736]}, {\"categories\": [\"0\", \"1\", \"2\", \"3\", \"4\", \"5\", \"6\", \"7\", \"8\", \"9\", \"10\", \"11\", \"12\", \"13\", \"14\", \"15\", \"16\", \"17\", \"18\", \"19\"], \"mode\": \"lines\", \"name\": \"log_loss_min\", \"stepped\": true, \"type\": \"scatter\", \"data\": [0.29517073221148926, 0.2179164154744797, 0.2179164154744797, 0.2179164154744797, 0.2179164154744797, 0.2179164154744797, 0.2179164154744797, 0.2179164154744797, 0.1811820719813959, 0.1811820719813959, 0.16603134589058968, 0.16603134589058968, 0.16603134589058968, 0.16603134589058968, 0.16603134589058968, 0.16603134589058968, 0.16603134589058968, 0.16603134589058968, 0.16603134589058968, 0.16603134589058968]}], \"recall_score_micro\": [{\"categories\": [\"0\", \"1\", \"2\", \"3\", \"4\", \"5\", \"6\", \"7\", \"8\", \"9\", \"10\", \"11\", \"12\", \"13\", \"14\", \"15\", \"16\", \"17\", \"18\", \"19\"], \"mode\": \"markers\", \"name\": \"recall_score_micro\", \"stepped\": false, \"type\": \"scatter\", \"data\": [0.9096964238808211, 0.9150155728169912, 0.8920409771473601, 0.9026417501594807, 0.9132800480318211, 0.8955776952230853, 0.9044523246650905, 0.9185804345378813, 0.9203253405381066, 0.909724567525986, 0.9291905887650569, 0.9008874629442006, 0.9132519043866562, 0.8760929115539046, 0.8831663477053547, 0.8991425569439754, 0.9203534841832713, 0.913261285601711, 0.9309636384104469, 0.932727306840782]}, {\"categories\": [\"0\", \"1\", \"2\", \"3\", \"4\", \"5\", \"6\", \"7\", \"8\", \"9\", \"10\", \"11\", \"12\", \"13\", \"14\", \"15\", \"16\", \"17\", \"18\", \"19\"], \"mode\": \"lines\", \"name\": \"recall_score_micro_max\", \"stepped\": true, \"type\": \"scatter\", \"data\": [0.9096964238808211, 0.9150155728169912, 0.9150155728169912, 0.9150155728169912, 0.9150155728169912, 0.9150155728169912, 0.9150155728169912, 0.9185804345378813, 0.9203253405381066, 0.9203253405381066, 0.9291905887650569, 0.9291905887650569, 0.9291905887650569, 0.9291905887650569, 0.9291905887650569, 0.9291905887650569, 0.9291905887650569, 0.9291905887650569, 0.9309636384104469, 0.932727306840782]}], \"AUC_micro\": [{\"categories\": [\"0\", \"1\", \"2\", \"3\", \"4\", \"5\", \"6\", \"7\", \"8\", \"9\", \"10\", \"11\", \"12\", \"13\", \"14\", \"15\", \"16\", \"17\", \"18\", \"19\"], \"mode\": \"markers\", \"name\": \"AUC_micro\", \"stepped\": false, \"type\": \"scatter\", \"data\": [0.9725387571757, 0.976294008295778, 0.9662290670959411, 0.9638532100940126, 0.9666773810323267, 0.9415425129440385, 0.9528544766826631, 0.9617276880647209, 0.9799226982915864, 0.9599532072903144, 0.9833340496767051, 0.9528307868176614, 0.9633102490388062, 0.9408159936521944, 0.9573046938746362, 0.9348587140432748, 0.9693083886286417, 0.9696663728592196, 0.9840751263268315, 0.9796467571852641]}, {\"categories\": [\"0\", \"1\", \"2\", \"3\", \"4\", \"5\", \"6\", \"7\", \"8\", \"9\", \"10\", \"11\", \"12\", \"13\", \"14\", \"15\", \"16\", \"17\", \"18\", \"19\"], \"mode\": \"lines\", \"name\": \"AUC_micro_max\", \"stepped\": true, \"type\": \"scatter\", \"data\": [0.9725387571757, 0.976294008295778, 0.976294008295778, 0.976294008295778, 0.976294008295778, 0.976294008295778, 0.976294008295778, 0.976294008295778, 0.9799226982915864, 0.9799226982915864, 0.9833340496767051, 0.9833340496767051, 0.9833340496767051, 0.9833340496767051, 0.9833340496767051, 0.9833340496767051, 0.9833340496767051, 0.9833340496767051, 0.9840751263268315, 0.9840751263268315]}], \"accuracy\": [{\"categories\": [\"0\", \"1\", \"2\", \"3\", \"4\", \"5\", \"6\", \"7\", \"8\", \"9\", \"10\", \"11\", \"12\", \"13\", \"14\", \"15\", \"16\", \"17\", \"18\", \"19\"], \"mode\": \"markers\", \"name\": \"accuracy\", \"stepped\": false, \"type\": \"scatter\", \"data\": [0.9096964238808211, 0.9150155728169912, 0.8920409771473601, 0.9026417501594807, 0.9132800480318211, 0.8955776952230853, 0.9044523246650905, 0.9185804345378813, 0.9203253405381066, 0.909724567525986, 0.9291905887650569, 0.9008874629442006, 0.9132519043866562, 0.8760929115539046, 0.8831663477053547, 0.8991425569439754, 0.9203534841832713, 0.913261285601711, 0.9309636384104469, 0.932727306840782]}, {\"categories\": [\"0\", \"1\", \"2\", \"3\", \"4\", \"5\", \"6\", \"7\", \"8\", \"9\", \"10\", \"11\", \"12\", \"13\", \"14\", \"15\", \"16\", \"17\", \"18\", \"19\"], \"mode\": \"lines\", \"name\": \"accuracy_max\", \"stepped\": true, \"type\": \"scatter\", \"data\": [0.9096964238808211, 0.9150155728169912, 0.9150155728169912, 0.9150155728169912, 0.9150155728169912, 0.9150155728169912, 0.9150155728169912, 0.9185804345378813, 0.9203253405381066, 0.9203253405381066, 0.9291905887650569, 0.9291905887650569, 0.9291905887650569, 0.9291905887650569, 0.9291905887650569, 0.9291905887650569, 0.9291905887650569, 0.9291905887650569, 0.9309636384104469, 0.932727306840782]}], \"precision_score_micro\": [{\"categories\": [\"0\", \"1\", \"2\", \"3\", \"4\", \"5\", \"6\", \"7\", \"8\", \"9\", \"10\", \"11\", \"12\", \"13\", \"14\", \"15\", \"16\", \"17\", \"18\", \"19\"], \"mode\": \"markers\", \"name\": \"precision_score_micro\", \"stepped\": false, \"type\": \"scatter\", \"data\": [0.9096964238808211, 0.9150155728169912, 0.8920409771473601, 0.9026417501594807, 0.9132800480318211, 0.8955776952230853, 0.9044523246650905, 0.9185804345378813, 0.9203253405381066, 0.909724567525986, 0.9291905887650569, 0.9008874629442006, 0.9132519043866562, 0.8760929115539046, 0.8831663477053547, 0.8991425569439754, 0.9203534841832713, 0.913261285601711, 0.9309636384104469, 0.932727306840782]}, {\"categories\": [\"0\", \"1\", \"2\", \"3\", \"4\", \"5\", \"6\", \"7\", \"8\", \"9\", \"10\", \"11\", \"12\", \"13\", \"14\", \"15\", \"16\", \"17\", \"18\", \"19\"], \"mode\": \"lines\", \"name\": \"precision_score_micro_max\", \"stepped\": true, \"type\": \"scatter\", \"data\": [0.9096964238808211, 0.9150155728169912, 0.9150155728169912, 0.9150155728169912, 0.9150155728169912, 0.9150155728169912, 0.9150155728169912, 0.9185804345378813, 0.9203253405381066, 0.9203253405381066, 0.9291905887650569, 0.9291905887650569, 0.9291905887650569, 0.9291905887650569, 0.9291905887650569, 0.9291905887650569, 0.9291905887650569, 0.9291905887650569, 0.9309636384104469, 0.932727306840782]}], \"average_precision_score_micro\": [{\"categories\": [\"0\", \"1\", \"2\", \"3\", \"4\", \"5\", \"6\", \"7\", \"8\", \"9\", \"10\", \"11\", \"12\", \"13\", \"14\", \"15\", \"16\", \"17\", \"18\", \"19\"], \"mode\": \"markers\", \"name\": \"average_precision_score_micro\", \"stepped\": false, \"type\": \"scatter\", \"data\": [0.9713707665589159, 0.9764044232219563, 0.9675353216792207, 0.9615008259983919, 0.9668993383948531, 0.9351027481555203, 0.9445228153981334, 0.9579198565548133, 0.9808778897743925, 0.9603504483443214, 0.9840731144144365, 0.9441942423060917, 0.9633545426337234, 0.9326579994228593, 0.9587716624097564, 0.9163495097240505, 0.9704280728878518, 0.9688705519272989, 0.98471766181326, 0.9794227878733658]}, {\"categories\": [\"0\", \"1\", \"2\", \"3\", \"4\", \"5\", \"6\", \"7\", \"8\", \"9\", \"10\", \"11\", \"12\", \"13\", \"14\", \"15\", \"16\", \"17\", \"18\", \"19\"], \"mode\": \"lines\", \"name\": \"average_precision_score_micro_max\", \"stepped\": true, \"type\": \"scatter\", \"data\": [0.9713707665589159, 0.9764044232219563, 0.9764044232219563, 0.9764044232219563, 0.9764044232219563, 0.9764044232219563, 0.9764044232219563, 0.9764044232219563, 0.9808778897743925, 0.9808778897743925, 0.9840731144144365, 0.9840731144144365, 0.9840731144144365, 0.9840731144144365, 0.9840731144144365, 0.9840731144144365, 0.9840731144144365, 0.9840731144144365, 0.98471766181326, 0.98471766181326]}], \"balanced_accuracy\": [{\"categories\": [\"0\", \"1\", \"2\", \"3\", \"4\", \"5\", \"6\", \"7\", \"8\", \"9\", \"10\", \"11\", \"12\", \"13\", \"14\", \"15\", \"16\", \"17\", \"18\", \"19\"], \"mode\": \"markers\", \"name\": \"balanced_accuracy\", \"stepped\": false, \"type\": \"scatter\", \"data\": [0.8976906136172259, 0.9029506281201982, 0.864383054135278, 0.8882995033290161, 0.8964440994444701, 0.8695553679325917, 0.8846937729239434, 0.9045748501165939, 0.9069512811612516, 0.893890891570747, 0.9221102114071442, 0.8793025379748878, 0.8978165931788059, 0.8592450634418296, 0.8781102720876164, 0.8797157079529208, 0.90498559355458, 0.9042800347028942, 0.9212928635503227, 0.9233310841017012]}, {\"categories\": [\"0\", \"1\", \"2\", \"3\", \"4\", \"5\", \"6\", \"7\", \"8\", \"9\", \"10\", \"11\", \"12\", \"13\", \"14\", \"15\", \"16\", \"17\", \"18\", \"19\"], \"mode\": \"lines\", \"name\": \"balanced_accuracy_max\", \"stepped\": true, \"type\": \"scatter\", \"data\": [0.8976906136172259, 0.9029506281201982, 0.9029506281201982, 0.9029506281201982, 0.9029506281201982, 0.9029506281201982, 0.9029506281201982, 0.9045748501165939, 0.9069512811612516, 0.9069512811612516, 0.9221102114071442, 0.9221102114071442, 0.9221102114071442, 0.9221102114071442, 0.9221102114071442, 0.9221102114071442, 0.9221102114071442, 0.9221102114071442, 0.9221102114071442, 0.9233310841017012]}], \"AUC_weighted\": [{\"categories\": [\"0\", \"1\", \"2\", \"3\", \"4\", \"5\", \"6\", \"7\", \"8\", \"9\", \"10\", \"11\", \"12\", \"13\", \"14\", \"15\", \"16\", \"17\", \"18\", \"19\"], \"mode\": \"markers\", \"name\": \"AUC_weighted\", \"stepped\": false, \"type\": \"scatter\", \"data\": [0.9695927953762461, 0.9746663638677165, 0.9651585688218379, 0.9599130609870046, 0.9640275421271065, 0.9283763826775316, 0.9473756155730303, 0.9606205553157, 0.9783246515379577, 0.9553953694838168, 0.9818265153222531, 0.9483182263471367, 0.9582895158663783, 0.9274687906453566, 0.9552371470915763, 0.9236332748892515, 0.9677081100714348, 0.9677784342130155, 0.9836857502791528, 0.9774846967922395]}, {\"categories\": [\"0\", \"1\", \"2\", \"3\", \"4\", \"5\", \"6\", \"7\", \"8\", \"9\", \"10\", \"11\", \"12\", \"13\", \"14\", \"15\", \"16\", \"17\", \"18\", \"19\"], \"mode\": \"lines\", \"name\": \"AUC_weighted_max\", \"stepped\": true, \"type\": \"scatter\", \"data\": [0.9695927953762461, 0.9746663638677165, 0.9746663638677165, 0.9746663638677165, 0.9746663638677165, 0.9746663638677165, 0.9746663638677165, 0.9746663638677165, 0.9783246515379577, 0.9783246515379577, 0.9818265153222531, 0.9818265153222531, 0.9818265153222531, 0.9818265153222531, 0.9818265153222531, 0.9818265153222531, 0.9818265153222531, 0.9818265153222531, 0.9836857502791528, 0.9836857502791528]}], \"weighted_accuracy\": [{\"categories\": [\"0\", \"1\", \"2\", \"3\", \"4\", \"5\", \"6\", \"7\", \"8\", \"9\", \"10\", \"11\", \"12\", \"13\", \"14\", \"15\", \"16\", \"17\", \"18\", \"19\"], \"mode\": \"markers\", \"name\": \"weighted_accuracy\", \"stepped\": false, \"type\": \"scatter\", \"data\": [0.92014033826326, 0.9255239750352541, 0.9155115487353909, 0.9149763920879511, 0.9277431234726913, 0.9177332277985499, 0.9212589952077984, 0.9305639556620857, 0.9319509811213506, 0.9234229774274959, 0.9352588438111437, 0.9197282371298158, 0.9265609295383405, 0.890608527761938, 0.8874172697115443, 0.9157116464913096, 0.933539706215223, 0.9209146460815285, 0.9393948810087057, 0.9408526661655002]}, {\"categories\": [\"0\", \"1\", \"2\", \"3\", \"4\", \"5\", \"6\", \"7\", \"8\", \"9\", \"10\", \"11\", \"12\", \"13\", \"14\", \"15\", \"16\", \"17\", \"18\", \"19\"], \"mode\": \"lines\", \"name\": \"weighted_accuracy_max\", \"stepped\": true, \"type\": \"scatter\", \"data\": [0.92014033826326, 0.9255239750352541, 0.9255239750352541, 0.9255239750352541, 0.9277431234726913, 0.9277431234726913, 0.9277431234726913, 0.9305639556620857, 0.9319509811213506, 0.9319509811213506, 0.9352588438111437, 0.9352588438111437, 0.9352588438111437, 0.9352588438111437, 0.9352588438111437, 0.9352588438111437, 0.9352588438111437, 0.9352588438111437, 0.9393948810087057, 0.9408526661655002]}], \"recall_score_weighted\": [{\"categories\": [\"0\", \"1\", \"2\", \"3\", \"4\", \"5\", \"6\", \"7\", \"8\", \"9\", \"10\", \"11\", \"12\", \"13\", \"14\", \"15\", \"16\", \"17\", \"18\", \"19\"], \"mode\": \"markers\", \"name\": \"recall_score_weighted\", \"stepped\": false, \"type\": \"scatter\", \"data\": [0.9096964238808211, 0.9150155728169912, 0.8920409771473601, 0.9026417501594807, 0.9132800480318211, 0.8955776952230853, 0.9044523246650905, 0.9185804345378813, 0.9203253405381066, 0.909724567525986, 0.9291905887650569, 0.9008874629442006, 0.9132519043866562, 0.8760929115539046, 0.8831663477053547, 0.8991425569439754, 0.9203534841832713, 0.913261285601711, 0.9309636384104469, 0.932727306840782]}, {\"categories\": [\"0\", \"1\", \"2\", \"3\", \"4\", \"5\", \"6\", \"7\", \"8\", \"9\", \"10\", \"11\", \"12\", \"13\", \"14\", \"15\", \"16\", \"17\", \"18\", \"19\"], \"mode\": \"lines\", \"name\": \"recall_score_weighted_max\", \"stepped\": true, \"type\": \"scatter\", \"data\": [0.9096964238808211, 0.9150155728169912, 0.9150155728169912, 0.9150155728169912, 0.9150155728169912, 0.9150155728169912, 0.9150155728169912, 0.9185804345378813, 0.9203253405381066, 0.9203253405381066, 0.9291905887650569, 0.9291905887650569, 0.9291905887650569, 0.9291905887650569, 0.9291905887650569, 0.9291905887650569, 0.9291905887650569, 0.9291905887650569, 0.9309636384104469, 0.932727306840782]}]}, \"metricName\": null, \"primaryMetricName\": \"AUC_weighted\", \"showLegend\": false}, \"run_metrics\": [{\"name\": \"experiment_status\", \"run_id\": \"AutoML_69568f8b-37e3-42cf-9297-0b0453bf1bd4\", \"categories\": [0, 1, 2, 3, 4, 5, 6, 7, 8, 9, 10, 11, 12, 13], \"series\": [{\"data\": [\"DatasetEvaluation\", \"FeaturesGeneration\", \"DatasetFeaturization\", \"DatasetFeaturizationCompleted\", \"DatasetCrossValidationSplit\", \"ModelSelection\", \"BestRunExplainModel\", \"ModelExplanationDataSetSetup\", \"PickSurrogateModel\", \"EngineeredFeatureExplanations\", \"EngineeredFeatureExplanations\", \"RawFeaturesExplanations\", \"RawFeaturesExplanations\", \"BestRunExplainModel\"]}]}, {\"name\": \"experiment_status_description\", \"run_id\": \"AutoML_69568f8b-37e3-42cf-9297-0b0453bf1bd4\", \"categories\": [0, 1, 2, 3, 4, 5, 6, 7, 8, 9, 10, 11, 12, 13], \"series\": [{\"data\": [\"Gathering dataset statistics.\", \"Generating features for the dataset.\", \"Beginning to fit featurizers and featurize the dataset.\", \"Completed fit featurizers and featurizing the dataset.\", \"Generating individually featurized CV splits.\", \"Beginning model selection.\", \"Best run model explanations started\", \"Model explanations data setup completed\", \"Choosing LightGBM as the surrogate model for explanations\", \"Computation of engineered features started\", \"Computation of engineered features completed\", \"Computation of raw features started\", \"Computation of raw features completed\", \"Best run model explanations completed\"]}]}, {\"name\": \"average_precision_score_micro\", \"run_id\": \"AutoML_69568f8b-37e3-42cf-9297-0b0453bf1bd4\", \"categories\": [0], \"series\": [{\"data\": [0.98471766181326]}]}, {\"name\": \"AUC_micro\", \"run_id\": \"AutoML_69568f8b-37e3-42cf-9297-0b0453bf1bd4\", \"categories\": [0], \"series\": [{\"data\": [0.9840751263268315]}]}, {\"name\": \"log_loss\", \"run_id\": \"AutoML_69568f8b-37e3-42cf-9297-0b0453bf1bd4\", \"categories\": [0], \"series\": [{\"data\": [0.1753733995368497]}]}, {\"name\": \"recall_score_weighted\", \"run_id\": \"AutoML_69568f8b-37e3-42cf-9297-0b0453bf1bd4\", \"categories\": [0], \"series\": [{\"data\": [0.9309636384104469]}]}, {\"name\": \"f1_score_micro\", \"run_id\": \"AutoML_69568f8b-37e3-42cf-9297-0b0453bf1bd4\", \"categories\": [0], \"series\": [{\"data\": [0.9309636384104469]}]}, {\"name\": \"weighted_accuracy\", \"run_id\": \"AutoML_69568f8b-37e3-42cf-9297-0b0453bf1bd4\", \"categories\": [0], \"series\": [{\"data\": [0.9393948810087057]}]}, {\"name\": \"recall_score_macro\", \"run_id\": \"AutoML_69568f8b-37e3-42cf-9297-0b0453bf1bd4\", \"categories\": [0], \"series\": [{\"data\": [0.9212928635503227]}]}, {\"name\": \"f1_score_weighted\", \"run_id\": \"AutoML_69568f8b-37e3-42cf-9297-0b0453bf1bd4\", \"categories\": [0], \"series\": [{\"data\": [0.93062195973347]}]}, {\"name\": \"balanced_accuracy\", \"run_id\": \"AutoML_69568f8b-37e3-42cf-9297-0b0453bf1bd4\", \"categories\": [0], \"series\": [{\"data\": [0.9212928635503227]}]}, {\"name\": \"AUC_macro\", \"run_id\": \"AutoML_69568f8b-37e3-42cf-9297-0b0453bf1bd4\", \"categories\": [0], \"series\": [{\"data\": [0.9836857502791528]}]}, {\"name\": \"average_precision_score_weighted\", \"run_id\": \"AutoML_69568f8b-37e3-42cf-9297-0b0453bf1bd4\", \"categories\": [0], \"series\": [{\"data\": [0.9845834406181905]}]}, {\"name\": \"precision_score_micro\", \"run_id\": \"AutoML_69568f8b-37e3-42cf-9297-0b0453bf1bd4\", \"categories\": [0], \"series\": [{\"data\": [0.9309636384104469]}]}, {\"name\": \"norm_macro_recall\", \"run_id\": \"AutoML_69568f8b-37e3-42cf-9297-0b0453bf1bd4\", \"categories\": [0], \"series\": [{\"data\": [0.8425857271006455]}]}, {\"name\": \"f1_score_macro\", \"run_id\": \"AutoML_69568f8b-37e3-42cf-9297-0b0453bf1bd4\", \"categories\": [0], \"series\": [{\"data\": [0.925263236017181]}]}, {\"name\": \"average_precision_score_macro\", \"run_id\": \"AutoML_69568f8b-37e3-42cf-9297-0b0453bf1bd4\", \"categories\": [0], \"series\": [{\"data\": [0.982555991651244]}]}, {\"name\": \"recall_score_micro\", \"run_id\": \"AutoML_69568f8b-37e3-42cf-9297-0b0453bf1bd4\", \"categories\": [0], \"series\": [{\"data\": [0.9309636384104469]}]}, {\"name\": \"accuracy\", \"run_id\": \"AutoML_69568f8b-37e3-42cf-9297-0b0453bf1bd4\", \"categories\": [0], \"series\": [{\"data\": [0.9309636384104469]}]}, {\"name\": \"AUC_weighted\", \"run_id\": \"AutoML_69568f8b-37e3-42cf-9297-0b0453bf1bd4\", \"categories\": [0], \"series\": [{\"data\": [0.9836857502791528]}]}, {\"name\": \"matthews_correlation\", \"run_id\": \"AutoML_69568f8b-37e3-42cf-9297-0b0453bf1bd4\", \"categories\": [0], \"series\": [{\"data\": [0.8516553321567174]}]}, {\"name\": \"precision_score_weighted\", \"run_id\": \"AutoML_69568f8b-37e3-42cf-9297-0b0453bf1bd4\", \"categories\": [0], \"series\": [{\"data\": [0.931360963220508]}]}, {\"name\": \"precision_score_macro\", \"run_id\": \"AutoML_69568f8b-37e3-42cf-9297-0b0453bf1bd4\", \"categories\": [0], \"series\": [{\"data\": [0.9304235736105134]}]}], \"run_logs\": \"\\nRun is completed.\", \"graph\": {}, \"widget_settings\": {\"childWidgetDisplay\": \"popup\", \"send_telemetry\": false, \"log_level\": \"INFO\", \"sdk_version\": \"1.34.0\"}, \"loading\": false}"
          },
          "metadata": {}
        }
      ],
      "execution_count": 23,
      "metadata": {
        "gather": {
          "logged": 1635648692855
        },
        "jupyter": {
          "outputs_hidden": false,
          "source_hidden": false
        },
        "nteract": {
          "transient": {
            "deleting": false
          }
        },
        "id": "_lbzZ9SZDIzN"
      }
    },
    {
      "cell_type": "code",
      "source": [
        "automl_run.wait_for_completion(show_output=True)"
      ],
      "outputs": [
        {
          "output_type": "display_data",
          "data": {
            "text/plain": "<IPython.core.display.HTML object>",
            "text/html": "<table style=\"width:100%\"><tr><th>Experiment</th><th>Id</th><th>Type</th><th>Status</th><th>Details Page</th><th>Docs Page</th></tr><tr><td>experiment-capstone-automl</td><td>AutoML_69568f8b-37e3-42cf-9297-0b0453bf1bd4</td><td>automl</td><td>NotStarted</td><td><a href=\"https://ml.azure.com/runs/AutoML_69568f8b-37e3-42cf-9297-0b0453bf1bd4?wsid=/subscriptions/61c5c3f0-6dc7-4ed9-a7f3-c704b20e3b30/resourcegroups/aml-quickstarts-162430/workspaces/quick-starts-ws-162430&amp;tid=660b3398-b80e-49d2-bc5b-ac1dc93b5254\" target=\"_blank\" rel=\"noopener\">Link to Azure Machine Learning studio</a></td><td><a href=\"https://docs.microsoft.com/en-us/python/api/overview/azure/ml/intro?view=azure-ml-py\" target=\"_blank\" rel=\"noopener\">Link to Documentation</a></td></tr></table>"
          },
          "metadata": {}
        },
        {
          "output_type": "stream",
          "name": "stdout",
          "text": "\nCurrent status: FeaturesGeneration. Generating features for the dataset.\nCurrent status: DatasetCrossValidationSplit. Generating individually featurized CV splits.\nCurrent status: ModelSelection. Beginning model selection.\n\n****************************************************************************************************\nDATA GUARDRAILS: \n\nTYPE:         Class balancing detection\nSTATUS:       PASSED\nDESCRIPTION:  Your inputs were analyzed, and all classes are balanced in your training data.\n              Learn more about imbalanced data: https://aka.ms/AutomatedMLImbalancedData\n\n****************************************************************************************************\n\nTYPE:         Missing feature values imputation\nSTATUS:       PASSED\nDESCRIPTION:  No feature missing values were detected in the training data.\n              Learn more about missing value imputation: https://aka.ms/AutomatedMLFeaturization\n\n****************************************************************************************************\n\nTYPE:         High cardinality feature detection\nSTATUS:       PASSED\nDESCRIPTION:  Your inputs were analyzed, and no high cardinality features were detected.\n              Learn more about high cardinality feature handling: https://aka.ms/AutomatedMLFeaturization\n\n****************************************************************************************************\n\n****************************************************************************************************\nITERATION: The iteration being evaluated.\nPIPELINE: A summary description of the pipeline being evaluated.\nDURATION: Time taken for the current iteration.\nMETRIC: The result of computing score on the fitted pipeline.\nBEST: The best observed score thus far.\n****************************************************************************************************\n\n ITERATION   PIPELINE                                       DURATION      METRIC      BEST\n         2   MaxAbsScaler ExtremeRandomTrees                0:00:34       0.9652    0.9652\n         0   MaxAbsScaler LightGBM                          0:01:07       0.9696    0.9696\n         3   MaxAbsScaler RandomForest                      0:01:40       0.9599    0.9696\n         4   StandardScalerWrapper LightGBM                 0:02:17       0.9640    0.9696\n         6   SparseNormalizer XGBoostClassifier             0:01:43       0.9474    0.9696\n         1   MaxAbsScaler XGBoostClassifier                 0:03:19       0.9747    0.9747\n         5   StandardScalerWrapper KNN                      0:02:49       0.9284    0.9747\n         7   SparseNormalizer RandomForest                  0:02:13       0.9606    0.9747\n        10   StandardScalerWrapper LogisticRegression       0:01:22       0.9818    0.9818\n         8   RobustScaler KNN                               0:02:24       0.9783    0.9818\n         9   MinMaxScaler RandomForest                      0:01:50       0.9554    0.9818\n        11   StandardScalerWrapper SVM                      0:02:30       0.9483    0.9818\n        13   SparseNormalizer KNN                           0:01:53       0.9275    0.9818\n        15   SparseNormalizer XGBoostClassifier             0:01:48       0.9236    0.9818\n        12   StandardScalerWrapper XGBoostClassifier        0:02:42       0.9583    0.9818\n        14   RobustScaler ExtremeRandomTrees                0:03:10       0.9552    0.9818\n        16   MinMaxScaler ExtremeRandomTrees                0:02:39       0.9677    0.9818\n        17   MinMaxScaler ExtremeRandomTrees                0:02:01       0.9678    0.9818\n        19    StackEnsemble                                 0:00:40       0.9775    0.9818\n        18    VotingEnsemble                                0:01:27       0.9837    0.9837\n"
        },
        {
          "output_type": "execute_result",
          "execution_count": 24,
          "data": {
            "text/plain": "{'runId': 'AutoML_69568f8b-37e3-42cf-9297-0b0453bf1bd4',\n 'target': 'COMPUTE-AUTOML',\n 'status': 'Completed',\n 'startTimeUtc': '2021-10-31T02:51:38.402583Z',\n 'endTimeUtc': '2021-10-31T03:03:52.258747Z',\n 'services': {},\n 'properties': {'num_iterations': '20',\n  'training_type': 'TrainFull',\n  'acquisition_function': 'EI',\n  'primary_metric': 'AUC_weighted',\n  'train_split': '0',\n  'acquisition_parameter': '0',\n  'num_cross_validation': '3',\n  'target': 'COMPUTE-AUTOML',\n  'AMLSettingsJsonString': '{\"path\":null,\"name\":\"experiment-capstone-automl\",\"subscription_id\":\"61c5c3f0-6dc7-4ed9-a7f3-c704b20e3b30\",\"resource_group\":\"aml-quickstarts-162430\",\"workspace_name\":\"quick-starts-ws-162430\",\"region\":\"southcentralus\",\"compute_target\":\"COMPUTE-AUTOML\",\"spark_service\":null,\"azure_service\":\"remote\",\"many_models\":false,\"pipeline_fetch_max_batch_size\":1,\"enable_batch_run\":false,\"enable_run_restructure\":false,\"start_auxiliary_runs_before_parent_complete\":false,\"enable_code_generation\":false,\"iterations\":20,\"primary_metric\":\"AUC_weighted\",\"task_type\":\"classification\",\"data_script\":null,\"test_size\":0.0,\"test_include_predictions_only\":false,\"validation_size\":0.0,\"n_cross_validations\":3,\"y_min\":null,\"y_max\":null,\"num_classes\":null,\"featurization\":\"auto\",\"_ignore_package_version_incompatibilities\":false,\"is_timeseries\":false,\"max_cores_per_iteration\":-1,\"max_concurrent_iterations\":5,\"iteration_timeout_minutes\":5,\"mem_in_mb\":null,\"enforce_time_on_windows\":false,\"experiment_timeout_minutes\":30,\"experiment_exit_score\":null,\"whitelist_models\":null,\"blacklist_algos\":[\"TensorFlowLinearClassifier\",\"TensorFlowDNN\"],\"supported_models\":[\"SVM\",\"LinearSVM\",\"SGD\",\"RandomForest\",\"ExtremeRandomTrees\",\"KNN\",\"GradientBoosting\",\"DecisionTree\",\"XGBoostClassifier\",\"MultinomialNaiveBayes\",\"TensorFlowLinearClassifier\",\"LightGBM\",\"AveragedPerceptronClassifier\",\"TensorFlowDNN\",\"BernoulliNaiveBayes\",\"LogisticRegression\"],\"private_models\":[],\"auto_blacklist\":true,\"blacklist_samples_reached\":false,\"exclude_nan_labels\":true,\"verbosity\":20,\"_debug_log\":\"azureml_automl.log\",\"show_warnings\":false,\"model_explainability\":true,\"service_url\":null,\"sdk_url\":null,\"sdk_packages\":null,\"enable_onnx_compatible_models\":false,\"enable_split_onnx_featurizer_estimator_models\":false,\"vm_type\":\"STANDARD_DS3_V2\",\"telemetry_verbosity\":20,\"send_telemetry\":true,\"enable_dnn\":false,\"scenario\":\"SDK-1.13.0\",\"environment_label\":null,\"save_mlflow\":false,\"force_text_dnn\":false,\"enable_feature_sweeping\":true,\"enable_early_stopping\":true,\"early_stopping_n_iters\":10,\"metrics\":null,\"enable_metric_confidence\":false,\"enable_ensembling\":true,\"enable_stack_ensembling\":true,\"ensemble_iterations\":15,\"enable_tf\":false,\"enable_subsampling\":false,\"subsample_seed\":null,\"enable_nimbusml\":false,\"enable_streaming\":false,\"force_streaming\":false,\"track_child_runs\":true,\"allowed_private_models\":[],\"label_column_name\":\"diagnosis\",\"weight_column_name\":null,\"cv_split_column_names\":null,\"positive_label\":null,\"enable_local_managed\":false,\"_local_managed_run_id\":null,\"cost_mode\":1,\"lag_length\":0,\"metric_operation\":\"maximize\",\"preprocess\":true}',\n  'DataPrepJsonString': '{\\\\\"training_data\\\\\": {\\\\\"datasetId\\\\\": \\\\\"5799d6d2-3e75-42e2-82b7-58996853d5d2\\\\\"}, \\\\\"datasets\\\\\": 0}',\n  'EnableSubsampling': 'False',\n  'runTemplate': 'AutoML',\n  'azureml.runsource': 'automl',\n  'display_task_type': 'classification',\n  'dependencies_versions': '{\"azureml-widgets\": \"1.34.0\", \"azureml-train\": \"1.34.0\", \"azureml-train-restclients-hyperdrive\": \"1.34.0\", \"azureml-train-core\": \"1.34.0\", \"azureml-train-automl\": \"1.34.0\", \"azureml-train-automl-runtime\": \"1.34.0\", \"azureml-train-automl-client\": \"1.34.0\", \"azureml-tensorboard\": \"1.34.0\", \"azureml-telemetry\": \"1.34.0\", \"azureml-sdk\": \"1.34.0\", \"azureml-samples\": \"0+unknown\", \"azureml-responsibleai\": \"1.34.0\", \"azureml-pipeline\": \"1.34.0\", \"azureml-pipeline-steps\": \"1.34.0\", \"azureml-pipeline-core\": \"1.34.0\", \"azureml-opendatasets\": \"1.34.0\", \"azureml-mlflow\": \"1.34.0\", \"azureml-interpret\": \"1.34.0\", \"azureml-inference-server-http\": \"0.3.1\", \"azureml-explain-model\": \"1.34.0\", \"azureml-defaults\": \"1.34.0\", \"azureml-dataset-runtime\": \"1.34.0\", \"azureml-dataprep\": \"2.22.2\", \"azureml-dataprep-rslex\": \"1.20.1\", \"azureml-dataprep-native\": \"38.0.0\", \"azureml-datadrift\": \"1.34.0\", \"azureml-core\": \"1.34.0\", \"azureml-contrib-services\": \"1.34.0\", \"azureml-contrib-server\": \"1.34.0\", \"azureml-contrib-reinforcementlearning\": \"1.34.0\", \"azureml-contrib-pipeline-steps\": \"1.34.0\", \"azureml-contrib-notebook\": \"1.34.0\", \"azureml-contrib-fairness\": \"1.34.0\", \"azureml-contrib-dataset\": \"1.34.0\", \"azureml-contrib-automl-pipeline-steps\": \"1.34.0\", \"azureml-cli-common\": \"1.34.0\", \"azureml-automl-runtime\": \"1.34.0\", \"azureml-automl-dnn-nlp\": \"1.34.0\", \"azureml-automl-core\": \"1.34.0\", \"azureml-accel-models\": \"1.34.0\"}',\n  '_aml_system_scenario_identification': 'Remote.Parent',\n  'ClientType': 'SDK',\n  'environment_cpu_name': 'AzureML-AutoML',\n  'environment_cpu_label': 'prod',\n  'environment_gpu_name': 'AzureML-AutoML-GPU',\n  'environment_gpu_label': 'prod',\n  'root_attribution': 'automl',\n  'attribution': 'AutoML',\n  'Orchestrator': 'AutoML',\n  'CancelUri': 'https://southcentralus.api.azureml.ms/jasmine/v1.0/subscriptions/61c5c3f0-6dc7-4ed9-a7f3-c704b20e3b30/resourceGroups/aml-quickstarts-162430/providers/Microsoft.MachineLearningServices/workspaces/quick-starts-ws-162430/experimentids/2b49be2d-4198-4961-bc87-d63dd3938a54/cancel/AutoML_69568f8b-37e3-42cf-9297-0b0453bf1bd4',\n  'ClientSdkVersion': '1.35.0',\n  'snapshotId': '00000000-0000-0000-0000-000000000000',\n  'SetupRunId': 'AutoML_69568f8b-37e3-42cf-9297-0b0453bf1bd4_setup',\n  'SetupRunContainerId': 'dcid.AutoML_69568f8b-37e3-42cf-9297-0b0453bf1bd4_setup',\n  'FeaturizationRunJsonPath': 'featurizer_container.json',\n  'FeaturizationRunId': 'AutoML_69568f8b-37e3-42cf-9297-0b0453bf1bd4_featurize',\n  'ProblemInfoJsonString': '{\"dataset_num_categorical\": 0, \"is_sparse\": false, \"subsampling\": false, \"has_extra_col\": true, \"dataset_classes\": 2, \"dataset_features\": 5, \"dataset_samples\": 565, \"single_frequency_class_detected\": false}',\n  'ModelExplainRunId': 'AutoML_69568f8b-37e3-42cf-9297-0b0453bf1bd4_ModelExplain'},\n 'inputDatasets': [{'dataset': {'id': '5799d6d2-3e75-42e2-82b7-58996853d5d2'}, 'consumptionDetails': {'type': 'RunInput', 'inputName': 'training_data', 'mechanism': 'Direct'}}],\n 'outputDatasets': [],\n 'logFiles': {},\n 'submittedBy': 'ODL_User 162430'}"
          },
          "metadata": {}
        }
      ],
      "execution_count": 24,
      "metadata": {
        "jupyter": {
          "source_hidden": false,
          "outputs_hidden": false
        },
        "nteract": {
          "transient": {
            "deleting": false
          }
        },
        "gather": {
          "logged": 1635649443840
        },
        "id": "ah8Hq8NCNMY4"
      }
    },
    {
      "cell_type": "markdown",
      "source": [
        "## Best Model\n",
        "\n",
        "TODO: In the cell below, get the best model from the automl experiments and display all the properties of the model.\n",
        "\n"
      ],
      "metadata": {
        "id": "Skd-RNClDIzO"
      }
    },
    {
      "cell_type": "code",
      "source": [
        "def print_model(model, prefix=\"\"):\n",
        "    for step in model.steps:\n",
        "        print(prefix + step[0])\n",
        "        if hasattr(step[1], 'estimators') and hasattr(step[1], 'weights'):\n",
        "            pprint({'estimators': list(e[0] for e in step[1].estimators), 'weights': step[1].weights})\n",
        "            print()\n",
        "            for estimator in step[1].estimators:\n",
        "                print_model(estimator[1], estimator[0]+ ' - ')\n",
        "        elif hasattr(step[1], '_base_learners') and hasattr(step[1], '_meta_learner'):\n",
        "            print(\"\\nMeta Learner\")\n",
        "            pprint(step[1]._meta_learner)\n",
        "            print()\n",
        "            for estimator in step[1]._base_learners:\n",
        "                print_model(estimator[1], estimator[0]+ ' - ')\n",
        "        else:\n",
        "            pprint(step[1].get_params())\n",
        "            print()"
      ],
      "outputs": [],
      "execution_count": 25,
      "metadata": {
        "id": "gzVGP_K4Imqr",
        "gather": {
          "logged": 1635649525536
        }
      }
    },
    {
      "cell_type": "code",
      "source": [
        "automl_best_run, automl_best_model = automl_run.get_output()\n",
        "\n",
        "automl_best_run_metrics = automl_best_run.get_metrics()\n",
        "\n",
        "print(f'********** Best AutoML accuracy: {automl_best_run_metrics.get(\"accuracy\")}')\n",
        "print(f'********** printing Best AutoML run:\\n{automl_best_run}\\n\\nPrinting model:')\n",
        "\n",
        "print_model(automl_best_model)"
      ],
      "outputs": [
        {
          "output_type": "stream",
          "name": "stderr",
          "text": "WARNING:root:The version of the SDK does not match the version the model was trained on.\nWARNING:root:The consistency in the result may not be guaranteed.\nWARNING:root:Package:azureml-automl-core, training version:1.35.0, current version:1.34.0\nPackage:azureml-automl-runtime, training version:1.35.0, current version:1.34.0\nPackage:azureml-core, training version:1.35.0, current version:1.34.0\nPackage:azureml-dataprep, training version:2.23.2, current version:2.22.2\nPackage:azureml-dataprep-rslex, training version:1.21.2, current version:1.20.1\nPackage:azureml-dataset-runtime, training version:1.35.0, current version:1.34.0\nPackage:azureml-defaults, training version:1.35.0, current version:1.34.0\nPackage:azureml-interpret, training version:1.35.0, current version:1.34.0\nPackage:azureml-mlflow, training version:1.35.0, current version:1.34.0\nPackage:azureml-pipeline-core, training version:1.35.0, current version:1.34.0\nPackage:azureml-responsibleai, training version:1.35.0, current version:1.34.0\nPackage:azureml-telemetry, training version:1.35.0, current version:1.34.0\nPackage:azureml-train-automl-client, training version:1.35.0, current version:1.34.0\nPackage:azureml-train-automl-runtime, training version:1.35.0, current version:1.34.0\nPackage:azureml-train-core, training version:1.35.0, current version:1.34.0\nPackage:azureml-train-restclients-hyperdrive, training version:1.35.0, current version:1.34.0\nWARNING:root:Please ensure the version of your local conda dependencies match the version on which your model was trained in order to properly retrieve your model.\n"
        },
        {
          "output_type": "stream",
          "name": "stdout",
          "text": "********** Best AutoML accuracy: 0.9309636384104469\n********** printing Best AutoML run:\nRun(Experiment: experiment-capstone-automl,\nId: AutoML_69568f8b-37e3-42cf-9297-0b0453bf1bd4_18,\nType: azureml.scriptrun,\nStatus: Completed)\n\nPrinting model:\ndatatransformer\n{'enable_dnn': False,\n 'enable_feature_sweeping': True,\n 'feature_sweeping_config': {},\n 'feature_sweeping_timeout': 86400,\n 'featurization_config': None,\n 'force_text_dnn': False,\n 'is_cross_validation': True,\n 'is_onnx_compatible': False,\n 'observer': None,\n 'task': 'classification',\n 'working_dir': '/mnt/batch/tasks/shared/LS_root/mounts/clusters/nb-compute/code/Users/odl_user_162430'}\n\nprefittedsoftvotingclassifier\n{'estimators': ['10', '8', '1', '0', '17', '11'],\n 'weights': [0.4,\n             0.06666666666666667,\n             0.13333333333333333,\n             0.06666666666666667,\n             0.06666666666666667,\n             0.26666666666666666]}\n\n10 - standardscalerwrapper\n{'class_name': 'StandardScaler',\n 'copy': True,\n 'module_name': 'sklearn.preprocessing._data',\n 'with_mean': True,\n 'with_std': True}\n\n10 - logisticregression\n{'C': 2222.996482526191,\n 'class_weight': None,\n 'dual': False,\n 'fit_intercept': True,\n 'intercept_scaling': 1,\n 'l1_ratio': None,\n 'max_iter': 100,\n 'multi_class': 'multinomial',\n 'n_jobs': -1,\n 'penalty': 'l2',\n 'random_state': None,\n 'solver': 'lbfgs',\n 'tol': 0.0001,\n 'verbose': 0,\n 'warm_start': False}\n\n8 - robustscaler\n{'copy': True,\n 'quantile_range': [25, 75],\n 'with_centering': False,\n 'with_scaling': True}\n\n8 - kneighborsclassifier\n{'algorithm': 'auto',\n 'leaf_size': 30,\n 'metric': 'manhattan',\n 'metric_params': None,\n 'n_jobs': 1,\n 'n_neighbors': 22,\n 'p': 2,\n 'weights': 'distance'}\n\n1 - maxabsscaler\n{'copy': True}\n\n1 - xgboostclassifier\n{'base_score': 0.5,\n 'booster': 'gbtree',\n 'colsample_bylevel': 1,\n 'colsample_bynode': 1,\n 'colsample_bytree': 1,\n 'gamma': 0,\n 'learning_rate': 0.1,\n 'max_delta_step': 0,\n 'max_depth': 3,\n 'min_child_weight': 1,\n 'missing': nan,\n 'n_estimators': 100,\n 'n_jobs': -1,\n 'nthread': None,\n 'objective': 'binary:logistic',\n 'random_state': 0,\n 'reg_alpha': 0,\n 'reg_lambda': 1,\n 'scale_pos_weight': 1,\n 'seed': None,\n 'silent': None,\n 'subsample': 1,\n 'tree_method': 'auto',\n 'verbose': -10,\n 'verbosity': 0}\n\n0 - maxabsscaler\n{'copy': True}\n\n0 - lightgbmclassifier\n{'min_data_in_leaf': 20,\n 'n_jobs': -1,\n 'problem_info': ProblemInfo(\n    gpu_training_param_dict={'processing_unit_type': 'cpu'}\n),\n 'random_state': None}\n\n17 - minmaxscaler\n{'copy': True, 'feature_range': (0, 1)}\n\n17 - extratreesclassifier\n{'bootstrap': False,\n 'ccp_alpha': 0.0,\n 'class_weight': 'balanced',\n 'criterion': 'gini',\n 'max_depth': None,\n 'max_features': 0.9,\n 'max_leaf_nodes': None,\n 'max_samples': None,\n 'min_impurity_decrease': 0.0,\n 'min_impurity_split': None,\n 'min_samples_leaf': 0.01,\n 'min_samples_split': 0.01,\n 'min_weight_fraction_leaf': 0.0,\n 'n_estimators': 25,\n 'n_jobs': -1,\n 'oob_score': False,\n 'random_state': None,\n 'verbose': 0,\n 'warm_start': False}\n\n11 - standardscalerwrapper\n{'class_name': 'StandardScaler',\n 'copy': True,\n 'module_name': 'sklearn.preprocessing._data',\n 'with_mean': True,\n 'with_std': True}\n\n11 - svcwrapper\n{'C': 2222.996482526191,\n 'break_ties': False,\n 'cache_size': 200,\n 'class_weight': 'balanced',\n 'coef0': 0.0,\n 'decision_function_shape': 'ovr',\n 'degree': 3,\n 'gamma': 'scale',\n 'kernel': 'rbf',\n 'max_iter': -1,\n 'probability': True,\n 'random_state': None,\n 'shrinking': True,\n 'tol': 0.001,\n 'verbose': False}\n\n"
        }
      ],
      "execution_count": 26,
      "metadata": {
        "gather": {
          "logged": 1635649553530
        },
        "jupyter": {
          "outputs_hidden": false,
          "source_hidden": false
        },
        "nteract": {
          "transient": {
            "deleting": false
          }
        },
        "id": "bPGTZ5shDIzP"
      }
    },
    {
      "cell_type": "code",
      "source": [
        "print(automl_run.get_metrics())"
      ],
      "outputs": [
        {
          "output_type": "stream",
          "name": "stdout",
          "text": "{'experiment_status': ['DatasetEvaluation', 'FeaturesGeneration', 'DatasetFeaturization', 'DatasetFeaturizationCompleted', 'DatasetCrossValidationSplit', 'ModelSelection', 'BestRunExplainModel', 'ModelExplanationDataSetSetup', 'PickSurrogateModel', 'EngineeredFeatureExplanations', 'EngineeredFeatureExplanations', 'RawFeaturesExplanations', 'RawFeaturesExplanations', 'BestRunExplainModel'], 'experiment_status_description': ['Gathering dataset statistics.', 'Generating features for the dataset.', 'Beginning to fit featurizers and featurize the dataset.', 'Completed fit featurizers and featurizing the dataset.', 'Generating individually featurized CV splits.', 'Beginning model selection.', 'Best run model explanations started', 'Model explanations data setup completed', 'Choosing LightGBM as the surrogate model for explanations', 'Computation of engineered features started', 'Computation of engineered features completed', 'Computation of raw features started', 'Computation of raw features completed', 'Best run model explanations completed'], 'average_precision_score_micro': 0.98471766181326, 'AUC_micro': 0.9840751263268315, 'log_loss': 0.1753733995368497, 'recall_score_weighted': 0.9309636384104469, 'f1_score_micro': 0.9309636384104469, 'weighted_accuracy': 0.9393948810087057, 'recall_score_macro': 0.9212928635503227, 'f1_score_weighted': 0.93062195973347, 'balanced_accuracy': 0.9212928635503227, 'AUC_macro': 0.9836857502791528, 'average_precision_score_weighted': 0.9845834406181905, 'precision_score_micro': 0.9309636384104469, 'norm_macro_recall': 0.8425857271006455, 'f1_score_macro': 0.925263236017181, 'average_precision_score_macro': 0.982555991651244, 'recall_score_micro': 0.9309636384104469, 'accuracy': 0.9309636384104469, 'AUC_weighted': 0.9836857502791528, 'matthews_correlation': 0.8516553321567174, 'precision_score_weighted': 0.931360963220508, 'precision_score_macro': 0.9304235736105134}\n"
        }
      ],
      "execution_count": 27,
      "metadata": {
        "jupyter": {
          "source_hidden": false,
          "outputs_hidden": false
        },
        "nteract": {
          "transient": {
            "deleting": false
          }
        },
        "gather": {
          "logged": 1635649635214
        },
        "id": "vm6pVYDewoKt"
      }
    },
    {
      "cell_type": "code",
      "source": [
        "# Create the outputs directory\n",
        "if 'outputs' not in os.listdir():\n",
        "    os.mkdir('outputs')"
      ],
      "outputs": [],
      "execution_count": 29,
      "metadata": {
        "jupyter": {
          "source_hidden": false,
          "outputs_hidden": false
        },
        "nteract": {
          "transient": {
            "deleting": false
          }
        },
        "gather": {
          "logged": 1635649657109
        },
        "id": "GO9oXlW-NMY6"
      }
    },
    {
      "cell_type": "code",
      "source": [
        "#TODO: Save the best model\n",
        "joblib.dump(automl_best_model, os.path.join('outputs','best_automl.pkl'))"
      ],
      "outputs": [
        {
          "output_type": "execute_result",
          "execution_count": 30,
          "data": {
            "text/plain": "['outputs/best_automl.pkl']"
          },
          "metadata": {}
        }
      ],
      "execution_count": 30,
      "metadata": {
        "gather": {
          "logged": 1635649674246
        },
        "jupyter": {
          "outputs_hidden": false,
          "source_hidden": false
        },
        "nteract": {
          "transient": {
            "deleting": false
          }
        },
        "id": "fNc1risDDIzP"
      }
    },
    {
      "cell_type": "code",
      "source": [
        "# download the scoring file and the environmrnt file\n",
        "\n",
        "automl_best_run.download_file(constants.SCORING_FILE_PATH, os.path.join('outputs', 'scoring.py'))\n",
        "automl_best_run.download_file(constants.CONDA_ENV_FILE_PATH, os.path.join('outputs', 'best_run_environment.yml'))"
      ],
      "outputs": [],
      "execution_count": 31,
      "metadata": {
        "id": "Zhf4ImWV83Gg",
        "gather": {
          "logged": 1635649685886
        }
      }
    },
    {
      "cell_type": "markdown",
      "source": [
        "## Model Deployment\n",
        "\n",
        "Remember you have to deploy only one of the two models you trained but you still need to register both the models. Perform the steps in the rest of this notebook only if you wish to deploy this model.\n",
        "\n",
        "TODO: In the cell below, register the model, create an inference config and deploy the model as a web service."
      ],
      "metadata": {
        "id": "otKptwQ9DIzQ"
      }
    },
    {
      "cell_type": "code",
      "source": [
        "# Refer - https://docs.microsoft.com/en-us/azure/machine-learning/how-to-deploy-and-where?tabs=python\n",
        "\n",
        "# Tutorial: Deploy an image classification model in Azure Container Instances -\n",
        "# https://docs.microsoft.com/en-us/azure/machine-learning/tutorial-deploy-models-with-aml\n",
        "\n",
        "# Register the model\n",
        "# registered_model = automl_run.register_model(model_name='wine-taste-automl', description=c_constants.DEPLOYED_AUTOML_MODEL_DESCRIPTION)\n",
        "registered_model = automl_best_run.register_model(model_path=constants.MODEL_PATH, \n",
        "                                                model_name='breast-cancer-automl', \n",
        "                                                description='Breast Cancer detection using Azure AutoML',\n",
        "                                                tags={'Method of execution':'AutoML'},\n",
        "                                                properties={'Accuracy':automl_best_run_metrics['accuracy']})\n",
        "print(f'{automl_run.model_id}')\n",
        "print(f'{registered_model.name}  {registered_model.id}  {registered_model.version}')\n"
      ],
      "outputs": [
        {
          "output_type": "stream",
          "name": "stdout",
          "text": "None\nbreast-cancer-automl  breast-cancer-automl:1  1\n"
        }
      ],
      "execution_count": 32,
      "metadata": {
        "jupyter": {
          "source_hidden": false,
          "outputs_hidden": false
        },
        "nteract": {
          "transient": {
            "deleting": false
          }
        },
        "gather": {
          "logged": 1635649703649
        },
        "id": "yI5F2zyXNMY9"
      }
    },
    {
      "cell_type": "code",
      "source": [
        "# Anytime as necessary, access the registered model\n",
        "retrieved_model = Model(workspace=ws, name='breast-cancer-automl')"
      ],
      "outputs": [],
      "execution_count": 33,
      "metadata": {
        "jupyter": {
          "source_hidden": false,
          "outputs_hidden": false
        },
        "nteract": {
          "transient": {
            "deleting": false
          }
        },
        "gather": {
          "logged": 1635649708440
        },
        "id": "gxaQkASwNMY_"
      }
    },
    {
      "cell_type": "code",
      "source": [
        "# Create an inference config\n",
        "\n",
        "inference_config = InferenceConfig(\n",
        "    environment=Environment.from_conda_specification(name='myenv', file_path=os.path.join('outputs', 'best_run_environment.yml')),\n",
        "    source_directory='outputs',\n",
        "    entry_script='scoring.py',\n",
        ")\n",
        "\n",
        "aci_config = AciWebservice.deploy_configuration(cpu_cores=1, memory_gb=1)\n"
      ],
      "outputs": [],
      "execution_count": 36,
      "metadata": {
        "jupyter": {
          "source_hidden": false,
          "outputs_hidden": false
        },
        "nteract": {
          "transient": {
            "deleting": false
          }
        },
        "gather": {
          "logged": 1635649821761
        },
        "id": "t3QpRDuCNMZA"
      }
    },
    {
      "cell_type": "code",
      "source": [
        "\n",
        "service = Model.deploy(workspace=ws,\n",
        "                       name='breast-cancer-service',\n",
        "                       models=[retrieved_model],\n",
        "                       inference_config=inference_config,\n",
        "                       deployment_config=aci_config,\n",
        "                       overwrite=True)\n",
        "service.wait_for_deployment(show_output=True)"
      ],
      "outputs": [
        {
          "output_type": "stream",
          "name": "stdout",
          "text": "Tips: You can try get_logs(): https://aka.ms/debugimage#dockerlog or local deployment: https://aka.ms/debugimage#debug-locally to debug if deployment takes longer than 10 minutes.\nRunning\n2021-10-31 03:10:29+00:00 Creating Container Registry if not exists..\n2021-10-31 03:20:29+00:00 Registering the environment..\n2021-10-31 03:20:32+00:00 Building image..\n2021-10-31 03:32:05+00:00 Generating deployment configuration.\n2021-10-31 03:32:06+00:00 Submitting deployment to compute..\n2021-10-31 03:32:10+00:00 Checking the status of deployment breast-cancer-service."
        }
      ],
      "execution_count": 37,
      "metadata": {
        "gather": {
          "logged": 1635122866252
        },
        "jupyter": {
          "outputs_hidden": false,
          "source_hidden": false
        },
        "nteract": {
          "transient": {
            "deleting": false
          }
        },
        "id": "Jnovv2OXDIzQ"
      }
    },
    {
      "cell_type": "code",
      "source": [
        "logs = service.get_logs()\n",
        "\n",
        "for line in logs.split('\\n'):\n",
        "    print(line)\n"
      ],
      "outputs": [],
      "execution_count": null,
      "metadata": {
        "jupyter": {
          "source_hidden": false,
          "outputs_hidden": false
        },
        "nteract": {
          "transient": {
            "deleting": false
          }
        },
        "gather": {
          "logged": 1635120119986
        },
        "id": "CN5yjDX1NMZB"
      }
    },
    {
      "cell_type": "markdown",
      "source": [
        "TODO: In the cell below, send a request to the web service you deployed to test it."
      ],
      "metadata": {
        "collapsed": true,
        "gather": {
          "logged": 1598431657736
        },
        "jupyter": {
          "outputs_hidden": false,
          "source_hidden": false
        },
        "nteract": {
          "transient": {
            "deleting": false
          }
        },
        "id": "8KBf-4m2DIzR"
      }
    },
    {
      "cell_type": "code",
      "source": [
        "# To enable ApplicationInsights on the service (webservice), \n",
        "# * first access the endpoint using the name assigned at the time of deployment\n",
        "# * next update webservice parameters such as enabling application insights (enable_app_insights)\n",
        "\n",
        "webservice = Webservice(\n",
        "    workspace = ws,\n",
        "    name='breast-cancer-service'\n",
        ")\n",
        "\n",
        "webservice.update(\n",
        "    enable_app_insights=True\n",
        ")\n",
        "\n",
        "# At this point application insights (logging is enabled) and can be\n",
        "# checked in the GUI in AutoML studio"
      ],
      "outputs": [],
      "execution_count": null,
      "metadata": {
        "gather": {
          "logged": 1598432707604
        },
        "jupyter": {
          "outputs_hidden": false,
          "source_hidden": false
        },
        "nteract": {
          "transient": {
            "deleting": false
          }
        },
        "id": "dJNveHvSDIzR"
      }
    },
    {
      "cell_type": "code",
      "source": [
        "# URL for the web service, should be similar to:\n",
        "# 'http://8530a665-66f3-49c8-a953-b82a2d312917.eastus.azurecontainer.io/score'\n",
        "\n",
        "# From the tail end of the code at\n",
        "# https://docs.microsoft.com/en-us/azure/machine-learning/how-to-deploy-and-where?tabs=python\n",
        "# - Deploy machine learning models to Azure\n",
        "\n",
        "\n",
        "scoring_uri = webservice.scoring_uri\n",
        "\n",
        "# If the service is authenticated, set the key or token\n",
        "key, _ = webservice.get_keys()\n",
        "\n",
        "# Set the appropriate headers\n",
        "headers = {\"Content-Type\": \"application/json\"}\n",
        "headers[\"Authorization\"] = f\"Bearer {key}\"\n",
        "\n",
        "# retrieve the data for predictions\n",
        "all_ds = TabularDatasetFactory.from_delimited_files(https://github.com/dntrply/nd00333-capstone/blob/master/dataset/Breast_cancer_data.csv)\n",
        ")\n",
        "_, predict_ds = all_ds.random_split(percentage=99, seed=42)\n",
        "\n",
        "predict_data = predict_ds.to_pandas_dataframe()\n",
        "predict_label = predict_data.pop('diagnosis')\n",
        "\n",
        "\n",
        "# Convert to JSON string\n",
        "tstdatahomic2018 = json.dumps({'data': tsthomic2018.to_dict(orient='records')})\n",
        "\n",
        "score_data = json.dumps({'data': predict_data.to_dict(orient='records')})\n",
        "\n",
        "# Set the content type\n",
        "headers = {'Content-Type': 'application/json'}\n",
        "# If authentication is enabled, set the authorization header\n",
        "headers['Authorization'] = f'Bearer {key}'\n",
        "\n",
        "# Make the request and display the predictions\n",
        "resp = requests.post(scoring_uri, score_data, headers=headers)\n",
        "print(f'{resp.json()}')\n",
        "\n",
        "# Print the actual diagnosis\n",
        "print(f'{predict_label}')"
      ],
      "outputs": [],
      "execution_count": null,
      "metadata": {
        "id": "la5hi2gjwGg9"
      }
    },
    {
      "cell_type": "markdown",
      "source": [
        "TODO: In the cell below, print the logs of the web service and delete the service"
      ],
      "metadata": {
        "collapsed": true,
        "gather": {
          "logged": 1598432765711
        },
        "jupyter": {
          "outputs_hidden": false,
          "source_hidden": false
        },
        "nteract": {
          "transient": {
            "deleting": false
          }
        },
        "id": "QkENqomcDIzR"
      }
    },
    {
      "cell_type": "code",
      "source": [
        "logs = webservice.get_logs()\n",
        "\n",
        "for line in logs.split('\\n'):\n",
        "    print(line)\n",
        "\n"
      ],
      "outputs": [],
      "execution_count": null,
      "metadata": {
        "jupyter": {
          "outputs_hidden": false,
          "source_hidden": false
        },
        "nteract": {
          "transient": {
            "deleting": false
          }
        },
        "id": "1trRJIbbDIzS"
      }
    },
    {
      "cell_type": "code",
      "source": [
        "# Clean up any resources\n",
        "# Delete the Webservice\n",
        "# delete the compute cluster\n",
        "\n",
        "webservice.delete()\n",
        "cc.delete()"
      ],
      "outputs": [],
      "execution_count": null,
      "metadata": {
        "id": "PhRicHU1gkEM"
      }
    },
    {
      "cell_type": "markdown",
      "source": [
        "**Submission Checklist**\n",
        "- I have registered the model.\n",
        "- I have deployed the model with the best accuracy as a webservice.\n",
        "- I have tested the webservice by sending a request to the model endpoint.\n",
        "- I have deleted the webservice and shutdown all the computes that I have used.\n",
        "- I have taken a screenshot showing the model endpoint as active.\n",
        "- The project includes a file containing the environment details.\n"
      ],
      "metadata": {
        "id": "MLk4oZDIDIzS"
      }
    },
    {
      "cell_type": "markdown",
      "source": [],
      "metadata": {
        "id": "UqcD2kWygoY1"
      }
    },
    {
      "cell_type": "markdown",
      "source": [],
      "metadata": {
        "id": "KaRTmB9VDIzT"
      }
    }
  ],
  "metadata": {
    "kernel_info": {
      "name": "python3-azureml"
    },
    "kernelspec": {
      "name": "python3-azureml",
      "language": "python",
      "display_name": "Python 3.6 - AzureML"
    },
    "language_info": {
      "name": "python",
      "version": "3.6.9",
      "mimetype": "text/x-python",
      "codemirror_mode": {
        "name": "ipython",
        "version": 3
      },
      "pygments_lexer": "ipython3",
      "nbconvert_exporter": "python",
      "file_extension": ".py"
    },
    "nteract": {
      "version": "nteract-front-end@1.0.0"
    },
    "colab": {
      "name": "current automl.ipynb",
      "provenance": [],
      "collapsed_sections": []
    },
    "microsoft": {
      "host": {
        "AzureML": {
          "notebookHasBeenCompleted": true
        }
      }
    }
  },
  "nbformat": 4,
  "nbformat_minor": 0
}