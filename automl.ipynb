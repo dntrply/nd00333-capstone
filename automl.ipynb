{
  "nbformat": 4,
  "nbformat_minor": 0,
  "metadata": {
    "kernel_info": {
      "name": "python3-azureml"
    },
    "kernelspec": {
      "name": "python3-azureml",
      "language": "python",
      "display_name": "Python 3.6 - AzureML"
    },
    "language_info": {
      "name": "python",
      "version": "3.6.9",
      "mimetype": "text/x-python",
      "codemirror_mode": {
        "name": "ipython",
        "version": 3
      },
      "pygments_lexer": "ipython3",
      "nbconvert_exporter": "python",
      "file_extension": ".py"
    },
    "nteract": {
      "version": "nteract-front-end@1.0.0"
    },
    "colab": {
      "name": "current automl.ipynb",
      "provenance": [],
      "collapsed_sections": []
    },
    "microsoft": {
      "host": {
        "AzureML": {
          "notebookHasBeenCompleted": true
        }
      }
    }
  },
  "cells": [
    {
      "cell_type": "markdown",
      "metadata": {
        "id": "dIFBchG8DIzE"
      },
      "source": [
        "# Automated ML\n",
        "\n",
        "TODO: Import Dependencies. In the cell below, import all the dependencies that you will need to complete the project."
      ]
    },
    {
      "cell_type": "code",
      "metadata": {
        "gather": {
          "logged": 1635708421202
        },
        "jupyter": {
          "outputs_hidden": false,
          "source_hidden": false
        },
        "nteract": {
          "transient": {
            "deleting": false
          }
        },
        "id": "T1gyC_4iDIzI"
      },
      "source": [
        "from azureml.data.dataset_factory import TabularDatasetFactory\n",
        "from azureml.core.workspace import Workspace\n",
        "from azureml.core.compute import ComputeTarget\n",
        "from azureml.core.compute.amlcompute import AmlCompute\n",
        "from azureml.exceptions import ComputeTargetException\n",
        "from azureml.core.experiment import Experiment\n",
        "from azureml.core.model import Model\n",
        "\n",
        "from azureml.core import Environment\n",
        "from azureml.core.model import InferenceConfig\n",
        "from azureml.core.webservice import AciWebservice\n",
        "from azureml.core.webservice import Webservice\n",
        "\n",
        "from azureml.train.automl.automlconfig import AutoMLConfig\n",
        "from azureml.widgets.run_details import RunDetails\n",
        "\n",
        "from azureml.automl.core.shared import constants\n",
        "\n",
        "from pprint import pprint\n",
        "import pandas as pd\n",
        "\n",
        "import logging\n",
        "import joblib\n",
        "\n",
        "import json\n",
        "import requests"
      ],
      "execution_count": null,
      "outputs": []
    },
    {
      "cell_type": "markdown",
      "metadata": {
        "id": "nXX3ww9_DIzJ"
      },
      "source": [
        "## Dataset\n",
        "\n",
        "### Overview\n",
        "TODO: In this markdown cell, give an overview of the dataset you are using. Also mention the task you will be performing.\n",
        "\n",
        "Dat:[ Breast Cancer Prediction Dataset](https://www.kaggle.com/merishnasuwal/breast-cancer-prediction-dataset)\n",
        "\n",
        "This machine learning program detects the presence (or absence) of breast cancer from pertinent data regarding physical characteristics.\n",
        "An understanding of the data can be had at https://www.kaggle.com/merishnasuwal/breast-cancer-prediction-dataset/discussion/66975#509394\n",
        "\n",
        "\n",
        "TODO: Get data. In the cell below, write code to access the data you will be using in this project. Remember that the dataset needs to be external.\n",
        "\n",
        "The dataset is external. It is manually downloaded as a csv and then uploaded to a publicly acccessible github account:\n",
        "'https://github.com/dntrply/nd00333-capstone/blob/master/dataset/Breast_cancer_data.csv'"
      ]
    },
    {
      "cell_type": "code",
      "metadata": {
        "id": "lg7_8cowjtZX",
        "gather": {
          "logged": 1635708429140
        },
        "outputId": "f89bc6c5-01d3-48ea-afce-93e80bae1155"
      },
      "source": [
        "ds = TabularDatasetFactory.from_delimited_files('https://github.com/dntrply/nd00333-capstone/raw/master/dataset/Breast_cancer_data.csv')\n",
        "df = ds.to_pandas_dataframe()\n",
        "df"
      ],
      "execution_count": null,
      "outputs": [
        {
          "output_type": "execute_result",
          "execution_count": 2,
          "data": {
            "text/plain": "     mean_radius  mean_texture  mean_perimeter  mean_area  mean_smoothness  \\\n0          17.99         10.38          122.80     1001.0          0.11840   \n1          20.57         17.77          132.90     1326.0          0.08474   \n2          19.69         21.25          130.00     1203.0          0.10960   \n3          11.42         20.38           77.58      386.1          0.14250   \n4          20.29         14.34          135.10     1297.0          0.10030   \n..           ...           ...             ...        ...              ...   \n564        21.56         22.39          142.00     1479.0          0.11100   \n565        20.13         28.25          131.20     1261.0          0.09780   \n566        16.60         28.08          108.30      858.1          0.08455   \n567        20.60         29.33          140.10     1265.0          0.11780   \n568         7.76         24.54           47.92      181.0          0.05263   \n\n     diagnosis  \n0            0  \n1            0  \n2            0  \n3            0  \n4            0  \n..         ...  \n564          0  \n565          0  \n566          0  \n567          0  \n568          1  \n\n[569 rows x 6 columns]",
            "text/html": "<div>\n<style scoped>\n    .dataframe tbody tr th:only-of-type {\n        vertical-align: middle;\n    }\n\n    .dataframe tbody tr th {\n        vertical-align: top;\n    }\n\n    .dataframe thead th {\n        text-align: right;\n    }\n</style>\n<table border=\"1\" class=\"dataframe\">\n  <thead>\n    <tr style=\"text-align: right;\">\n      <th></th>\n      <th>mean_radius</th>\n      <th>mean_texture</th>\n      <th>mean_perimeter</th>\n      <th>mean_area</th>\n      <th>mean_smoothness</th>\n      <th>diagnosis</th>\n    </tr>\n  </thead>\n  <tbody>\n    <tr>\n      <th>0</th>\n      <td>17.99</td>\n      <td>10.38</td>\n      <td>122.80</td>\n      <td>1001.0</td>\n      <td>0.11840</td>\n      <td>0</td>\n    </tr>\n    <tr>\n      <th>1</th>\n      <td>20.57</td>\n      <td>17.77</td>\n      <td>132.90</td>\n      <td>1326.0</td>\n      <td>0.08474</td>\n      <td>0</td>\n    </tr>\n    <tr>\n      <th>2</th>\n      <td>19.69</td>\n      <td>21.25</td>\n      <td>130.00</td>\n      <td>1203.0</td>\n      <td>0.10960</td>\n      <td>0</td>\n    </tr>\n    <tr>\n      <th>3</th>\n      <td>11.42</td>\n      <td>20.38</td>\n      <td>77.58</td>\n      <td>386.1</td>\n      <td>0.14250</td>\n      <td>0</td>\n    </tr>\n    <tr>\n      <th>4</th>\n      <td>20.29</td>\n      <td>14.34</td>\n      <td>135.10</td>\n      <td>1297.0</td>\n      <td>0.10030</td>\n      <td>0</td>\n    </tr>\n    <tr>\n      <th>...</th>\n      <td>...</td>\n      <td>...</td>\n      <td>...</td>\n      <td>...</td>\n      <td>...</td>\n      <td>...</td>\n    </tr>\n    <tr>\n      <th>564</th>\n      <td>21.56</td>\n      <td>22.39</td>\n      <td>142.00</td>\n      <td>1479.0</td>\n      <td>0.11100</td>\n      <td>0</td>\n    </tr>\n    <tr>\n      <th>565</th>\n      <td>20.13</td>\n      <td>28.25</td>\n      <td>131.20</td>\n      <td>1261.0</td>\n      <td>0.09780</td>\n      <td>0</td>\n    </tr>\n    <tr>\n      <th>566</th>\n      <td>16.60</td>\n      <td>28.08</td>\n      <td>108.30</td>\n      <td>858.1</td>\n      <td>0.08455</td>\n      <td>0</td>\n    </tr>\n    <tr>\n      <th>567</th>\n      <td>20.60</td>\n      <td>29.33</td>\n      <td>140.10</td>\n      <td>1265.0</td>\n      <td>0.11780</td>\n      <td>0</td>\n    </tr>\n    <tr>\n      <th>568</th>\n      <td>7.76</td>\n      <td>24.54</td>\n      <td>47.92</td>\n      <td>181.0</td>\n      <td>0.05263</td>\n      <td>1</td>\n    </tr>\n  </tbody>\n</table>\n<p>569 rows × 6 columns</p>\n</div>"
          },
          "metadata": {}
        }
      ]
    },
    {
      "cell_type": "code",
      "metadata": {
        "id": "QQo3pTJGlxVI",
        "gather": {
          "logged": 1635708429425
        },
        "outputId": "36060724-a986-47fc-fc89-9ff3c0868cdc"
      },
      "source": [
        "df.describe()"
      ],
      "execution_count": null,
      "outputs": [
        {
          "output_type": "execute_result",
          "execution_count": 3,
          "data": {
            "text/plain": "       mean_radius  mean_texture  mean_perimeter    mean_area  \\\ncount   569.000000    569.000000      569.000000   569.000000   \nmean     14.127292     19.289649       91.969033   654.889104   \nstd       3.524049      4.301036       24.298981   351.914129   \nmin       6.981000      9.710000       43.790000   143.500000   \n25%      11.700000     16.170000       75.170000   420.300000   \n50%      13.370000     18.840000       86.240000   551.100000   \n75%      15.780000     21.800000      104.100000   782.700000   \nmax      28.110000     39.280000      188.500000  2501.000000   \n\n       mean_smoothness   diagnosis  \ncount       569.000000  569.000000  \nmean          0.096360    0.627417  \nstd           0.014064    0.483918  \nmin           0.052630    0.000000  \n25%           0.086370    0.000000  \n50%           0.095870    1.000000  \n75%           0.105300    1.000000  \nmax           0.163400    1.000000  ",
            "text/html": "<div>\n<style scoped>\n    .dataframe tbody tr th:only-of-type {\n        vertical-align: middle;\n    }\n\n    .dataframe tbody tr th {\n        vertical-align: top;\n    }\n\n    .dataframe thead th {\n        text-align: right;\n    }\n</style>\n<table border=\"1\" class=\"dataframe\">\n  <thead>\n    <tr style=\"text-align: right;\">\n      <th></th>\n      <th>mean_radius</th>\n      <th>mean_texture</th>\n      <th>mean_perimeter</th>\n      <th>mean_area</th>\n      <th>mean_smoothness</th>\n      <th>diagnosis</th>\n    </tr>\n  </thead>\n  <tbody>\n    <tr>\n      <th>count</th>\n      <td>569.000000</td>\n      <td>569.000000</td>\n      <td>569.000000</td>\n      <td>569.000000</td>\n      <td>569.000000</td>\n      <td>569.000000</td>\n    </tr>\n    <tr>\n      <th>mean</th>\n      <td>14.127292</td>\n      <td>19.289649</td>\n      <td>91.969033</td>\n      <td>654.889104</td>\n      <td>0.096360</td>\n      <td>0.627417</td>\n    </tr>\n    <tr>\n      <th>std</th>\n      <td>3.524049</td>\n      <td>4.301036</td>\n      <td>24.298981</td>\n      <td>351.914129</td>\n      <td>0.014064</td>\n      <td>0.483918</td>\n    </tr>\n    <tr>\n      <th>min</th>\n      <td>6.981000</td>\n      <td>9.710000</td>\n      <td>43.790000</td>\n      <td>143.500000</td>\n      <td>0.052630</td>\n      <td>0.000000</td>\n    </tr>\n    <tr>\n      <th>25%</th>\n      <td>11.700000</td>\n      <td>16.170000</td>\n      <td>75.170000</td>\n      <td>420.300000</td>\n      <td>0.086370</td>\n      <td>0.000000</td>\n    </tr>\n    <tr>\n      <th>50%</th>\n      <td>13.370000</td>\n      <td>18.840000</td>\n      <td>86.240000</td>\n      <td>551.100000</td>\n      <td>0.095870</td>\n      <td>1.000000</td>\n    </tr>\n    <tr>\n      <th>75%</th>\n      <td>15.780000</td>\n      <td>21.800000</td>\n      <td>104.100000</td>\n      <td>782.700000</td>\n      <td>0.105300</td>\n      <td>1.000000</td>\n    </tr>\n    <tr>\n      <th>max</th>\n      <td>28.110000</td>\n      <td>39.280000</td>\n      <td>188.500000</td>\n      <td>2501.000000</td>\n      <td>0.163400</td>\n      <td>1.000000</td>\n    </tr>\n  </tbody>\n</table>\n</div>"
          },
          "metadata": {}
        }
      ]
    },
    {
      "cell_type": "code",
      "metadata": {
        "id": "TOPDxM9pASpB",
        "gather": {
          "logged": 1635708429612
        }
      },
      "source": [
        "# Split the dtaaset so that a small fraction may be used for prediction\n",
        "train_ds, predict_ds = ds.random_split(percentage=0.99, seed=44)"
      ],
      "execution_count": null,
      "outputs": []
    },
    {
      "cell_type": "code",
      "metadata": {
        "jupyter": {
          "source_hidden": false,
          "outputs_hidden": false
        },
        "nteract": {
          "transient": {
            "deleting": false
          }
        },
        "gather": {
          "logged": 1635708430263
        },
        "id": "eI1JkFcsqhHD",
        "outputId": "0e5a1138-cec5-49da-e348-97780d76af0f"
      },
      "source": [
        "train_df = train_ds.to_pandas_dataframe()\n",
        "train_df"
      ],
      "execution_count": null,
      "outputs": [
        {
          "output_type": "execute_result",
          "execution_count": 5,
          "data": {
            "text/plain": "     mean_radius  mean_texture  mean_perimeter  mean_area  mean_smoothness  \\\n0          17.99         10.38          122.80     1001.0          0.11840   \n1          20.57         17.77          132.90     1326.0          0.08474   \n2          19.69         21.25          130.00     1203.0          0.10960   \n3          11.42         20.38           77.58      386.1          0.14250   \n4          20.29         14.34          135.10     1297.0          0.10030   \n..           ...           ...             ...        ...              ...   \n560        21.56         22.39          142.00     1479.0          0.11100   \n561        20.13         28.25          131.20     1261.0          0.09780   \n562        16.60         28.08          108.30      858.1          0.08455   \n563        20.60         29.33          140.10     1265.0          0.11780   \n564         7.76         24.54           47.92      181.0          0.05263   \n\n     diagnosis  \n0            0  \n1            0  \n2            0  \n3            0  \n4            0  \n..         ...  \n560          0  \n561          0  \n562          0  \n563          0  \n564          1  \n\n[565 rows x 6 columns]",
            "text/html": "<div>\n<style scoped>\n    .dataframe tbody tr th:only-of-type {\n        vertical-align: middle;\n    }\n\n    .dataframe tbody tr th {\n        vertical-align: top;\n    }\n\n    .dataframe thead th {\n        text-align: right;\n    }\n</style>\n<table border=\"1\" class=\"dataframe\">\n  <thead>\n    <tr style=\"text-align: right;\">\n      <th></th>\n      <th>mean_radius</th>\n      <th>mean_texture</th>\n      <th>mean_perimeter</th>\n      <th>mean_area</th>\n      <th>mean_smoothness</th>\n      <th>diagnosis</th>\n    </tr>\n  </thead>\n  <tbody>\n    <tr>\n      <th>0</th>\n      <td>17.99</td>\n      <td>10.38</td>\n      <td>122.80</td>\n      <td>1001.0</td>\n      <td>0.11840</td>\n      <td>0</td>\n    </tr>\n    <tr>\n      <th>1</th>\n      <td>20.57</td>\n      <td>17.77</td>\n      <td>132.90</td>\n      <td>1326.0</td>\n      <td>0.08474</td>\n      <td>0</td>\n    </tr>\n    <tr>\n      <th>2</th>\n      <td>19.69</td>\n      <td>21.25</td>\n      <td>130.00</td>\n      <td>1203.0</td>\n      <td>0.10960</td>\n      <td>0</td>\n    </tr>\n    <tr>\n      <th>3</th>\n      <td>11.42</td>\n      <td>20.38</td>\n      <td>77.58</td>\n      <td>386.1</td>\n      <td>0.14250</td>\n      <td>0</td>\n    </tr>\n    <tr>\n      <th>4</th>\n      <td>20.29</td>\n      <td>14.34</td>\n      <td>135.10</td>\n      <td>1297.0</td>\n      <td>0.10030</td>\n      <td>0</td>\n    </tr>\n    <tr>\n      <th>...</th>\n      <td>...</td>\n      <td>...</td>\n      <td>...</td>\n      <td>...</td>\n      <td>...</td>\n      <td>...</td>\n    </tr>\n    <tr>\n      <th>560</th>\n      <td>21.56</td>\n      <td>22.39</td>\n      <td>142.00</td>\n      <td>1479.0</td>\n      <td>0.11100</td>\n      <td>0</td>\n    </tr>\n    <tr>\n      <th>561</th>\n      <td>20.13</td>\n      <td>28.25</td>\n      <td>131.20</td>\n      <td>1261.0</td>\n      <td>0.09780</td>\n      <td>0</td>\n    </tr>\n    <tr>\n      <th>562</th>\n      <td>16.60</td>\n      <td>28.08</td>\n      <td>108.30</td>\n      <td>858.1</td>\n      <td>0.08455</td>\n      <td>0</td>\n    </tr>\n    <tr>\n      <th>563</th>\n      <td>20.60</td>\n      <td>29.33</td>\n      <td>140.10</td>\n      <td>1265.0</td>\n      <td>0.11780</td>\n      <td>0</td>\n    </tr>\n    <tr>\n      <th>564</th>\n      <td>7.76</td>\n      <td>24.54</td>\n      <td>47.92</td>\n      <td>181.0</td>\n      <td>0.05263</td>\n      <td>1</td>\n    </tr>\n  </tbody>\n</table>\n<p>565 rows × 6 columns</p>\n</div>"
          },
          "metadata": {}
        }
      ]
    },
    {
      "cell_type": "code",
      "metadata": {
        "gather": {
          "logged": 1635708431617
        },
        "jupyter": {
          "outputs_hidden": false,
          "source_hidden": false
        },
        "nteract": {
          "transient": {
            "deleting": false
          }
        },
        "id": "axbCq54eDIzK"
      },
      "source": [
        "ws = Workspace.from_config()\n",
        "\n",
        "# choose a name for experiment\n",
        "experiment=Experiment(ws, 'experiment-capstone-automl')  # Experiment name in Azure ML"
      ],
      "execution_count": null,
      "outputs": []
    },
    {
      "cell_type": "code",
      "metadata": {
        "id": "SCvxfM_3ElcZ",
        "gather": {
          "logged": 1635708534861
        },
        "outputId": "c900471e-2809-47de-acbf-0373b0c845d8"
      },
      "source": [
        "# Next, let's use if it exists, or create if required, a compute cluster to be used by the ML\n",
        "\n",
        "# Access the compute cluster. If it exists, we will have the compute object. \n",
        "# If it does not exist, an exception will be thrown upon which the compute cluster is created\n",
        "try:\n",
        "    cc = ComputeTarget(workspace=ws, name='COMPUTE-AUTOML')\n",
        "except ComputeTargetException:\n",
        "    # Failed to obtain the compute cluster object\n",
        "    # In all likelihood, a compute cluster of that name has not been created\n",
        "    # Attempt to create the compute cluster\n",
        "    # First set up the configuration\n",
        "\n",
        "    # Specify the configuration of the compute cluster\n",
        "    cc_cfg = AmlCompute.provisioning_configuration(vm_size='Standard_DS3_v2', min_nodes=1, max_nodes=4)\n",
        "    cc = ComputeTarget.create(workspace=ws, name='COMPUTE-AUTOML', provisioning_configuration=cc_cfg)\n",
        "\n",
        "# At this point - we have access to the compute cluster object. Wait for the compute target to complete provisioing\n",
        "cc.wait_for_completion(show_output='True')"
      ],
      "execution_count": null,
      "outputs": [
        {
          "output_type": "stream",
          "name": "stdout",
          "text": "InProgress....\nSucceededProvisioning operation finished, operation \"Succeeded\"\nSucceeded................\nAmlCompute wait for completion finished\n\nMinimum number of nodes requested have been provisioned\n"
        }
      ]
    },
    {
      "cell_type": "markdown",
      "metadata": {
        "id": "scO2RZk_DIzL"
      },
      "source": [
        "## AutoML Configuration\n",
        "\n",
        "TODO: Explain why you chose the automl settings and cofiguration you used below.\n",
        "\n",
        "This project is a classification issue. More so, it is a binary classification issue as teh outcome is whether the wine is of a good quality or not.\n",
        "\n",
        "AUC_weighted is an apporpriate metric to target for a binary classification.\n",
        "[Set up AutoML training with Python](https://docs.microsoft.com/en-us/azure/machine-learning/how-to-configure-auto-train)\n",
        "\n",
        "It is generally recommended to enable early stopping as it is possible that after a while no further improvement in the model is feasible.\n",
        "\n",
        "There is enrally limited to no benefit to using a large number of cross validations. In this instance, we have set it to 3."
      ]
    },
    {
      "cell_type": "code",
      "metadata": {
        "gather": {
          "logged": 1635708535161
        },
        "jupyter": {
          "outputs_hidden": false,
          "source_hidden": false
        },
        "nteract": {
          "transient": {
            "deleting": false
          }
        },
        "id": "uJJWKay5DIzL"
      },
      "source": [
        "# TODO: Put your automl settings here\n",
        "\n",
        "automl_settings = {\n",
        "    \"iterations\" : 20,\n",
        "    \"experiment_timeout_minutes\" : 30,\n",
        "    \"enable_early_stopping\" : True,\n",
        "    \"iteration_timeout_minutes\" : 5,\n",
        "    \"max_concurrent_iterations\" : 5,\n",
        "    \"max_cores_per_iteration\" : -1,\n",
        "    \"n_cross_validations\" : 3,\n",
        "    \"primary_metric\" : 'AUC_weighted',\n",
        "    \"verbosity\" : logging.INFO,\n",
        "}\n",
        "\n",
        "# Provide the remainder of the settings/configuration\n",
        "# Note that we are not providing a validation data set\n",
        "# \n",
        "\n",
        "\n",
        "# TODO: Put your automl config here\n",
        "automl_config = AutoMLConfig(\n",
        "    compute_target = cc,\n",
        "    task='classification',\n",
        "    training_data=train_ds,\n",
        "    label_column_name='diagnosis',\n",
        "    featurization='auto',\n",
        "    model_explainability=True,\n",
        "    debug_log='capstone_automl.log',\n",
        "    **automl_settings)"
      ],
      "execution_count": null,
      "outputs": []
    },
    {
      "cell_type": "code",
      "metadata": {
        "gather": {
          "logged": 1635708544138
        },
        "jupyter": {
          "outputs_hidden": false,
          "source_hidden": false
        },
        "nteract": {
          "transient": {
            "deleting": false
          }
        },
        "id": "qm0n8PgRDIzM",
        "outputId": "1464418e-f660-4e99-c0fd-6bcf3d74c985"
      },
      "source": [
        "# TODO: Submit your experiment\n",
        "automl_run = experiment.submit(automl_config)"
      ],
      "execution_count": null,
      "outputs": [
        {
          "output_type": "stream",
          "name": "stdout",
          "text": "Submitting remote run.\n"
        },
        {
          "output_type": "display_data",
          "data": {
            "text/plain": "<IPython.core.display.HTML object>",
            "text/html": "<table style=\"width:100%\"><tr><th>Experiment</th><th>Id</th><th>Type</th><th>Status</th><th>Details Page</th><th>Docs Page</th></tr><tr><td>experiment-capstone-automl</td><td>AutoML_0718fc0e-7a3e-43a4-8c96-5af1f09abcc4</td><td>automl</td><td>NotStarted</td><td><a href=\"https://ml.azure.com/runs/AutoML_0718fc0e-7a3e-43a4-8c96-5af1f09abcc4?wsid=/subscriptions/f5091c60-1c3c-430f-8d81-d802f6bf2414/resourcegroups/aml-quickstarts-162497/workspaces/quick-starts-ws-162497&amp;tid=660b3398-b80e-49d2-bc5b-ac1dc93b5254\" target=\"_blank\" rel=\"noopener\">Link to Azure Machine Learning studio</a></td><td><a href=\"https://docs.microsoft.com/en-us/python/api/overview/azure/ml/intro?view=azure-ml-py\" target=\"_blank\" rel=\"noopener\">Link to Documentation</a></td></tr></table>"
          },
          "metadata": {}
        }
      ]
    },
    {
      "cell_type": "markdown",
      "metadata": {
        "id": "MR49YIwPDIzN"
      },
      "source": [
        "## Run Details\n",
        "\n",
        "OPTIONAL: Write about the different models trained and their performance. Why do you think some models did better than others?\n",
        "\n",
        "TODO: In the cell below, use the `RunDetails` widget to show the different experiments."
      ]
    },
    {
      "cell_type": "code",
      "metadata": {
        "gather": {
          "logged": 1635708544548
        },
        "jupyter": {
          "outputs_hidden": false,
          "source_hidden": false
        },
        "nteract": {
          "transient": {
            "deleting": false
          }
        },
        "id": "_lbzZ9SZDIzN",
        "colab": {
          "referenced_widgets": [
            "449ed08cc2fa462b992870f28c583a38",
            "01149ec309b34419ace638e5e4051cd1"
          ]
        },
        "outputId": "bf8a6dd5-f863-4971-d75d-7d4c1ea6ef3b"
      },
      "source": [
        "RunDetails(automl_run).show()"
      ],
      "execution_count": null,
      "outputs": [
        {
          "output_type": "display_data",
          "data": {
            "text/plain": "_AutoMLWidget(widget_settings={'childWidgetDisplay': 'popup', 'send_telemetry': False, 'log_level': 'INFO', 's…",
            "application/vnd.jupyter.widget-view+json": {
              "version_major": 2,
              "version_minor": 0,
              "model_id": "01149ec309b34419ace638e5e4051cd1"
            }
          },
          "metadata": {}
        },
        {
          "output_type": "display_data",
          "data": {
            "application/aml.mini.widget.v1": "{\"status\": \"Completed\", \"workbench_run_details_uri\": \"https://ml.azure.com/runs/AutoML_0718fc0e-7a3e-43a4-8c96-5af1f09abcc4?wsid=/subscriptions/f5091c60-1c3c-430f-8d81-d802f6bf2414/resourcegroups/aml-quickstarts-162497/workspaces/quick-starts-ws-162497&tid=660b3398-b80e-49d2-bc5b-ac1dc93b5254\", \"run_id\": \"AutoML_0718fc0e-7a3e-43a4-8c96-5af1f09abcc4\", \"run_properties\": {\"run_id\": \"AutoML_0718fc0e-7a3e-43a4-8c96-5af1f09abcc4\", \"created_utc\": \"2021-10-31T19:29:02.286758Z\", \"properties\": {\"num_iterations\": \"5\", \"training_type\": \"TrainFull\", \"acquisition_function\": \"EI\", \"primary_metric\": \"AUC_weighted\", \"train_split\": \"0\", \"acquisition_parameter\": \"0\", \"num_cross_validation\": \"3\", \"target\": \"COMPUTE-AUTOML\", \"AMLSettingsJsonString\": \"{\\\"path\\\":null,\\\"name\\\":\\\"experiment-capstone-automl\\\",\\\"subscription_id\\\":\\\"f5091c60-1c3c-430f-8d81-d802f6bf2414\\\",\\\"resource_group\\\":\\\"aml-quickstarts-162497\\\",\\\"workspace_name\\\":\\\"quick-starts-ws-162497\\\",\\\"region\\\":\\\"southcentralus\\\",\\\"compute_target\\\":\\\"COMPUTE-AUTOML\\\",\\\"spark_service\\\":null,\\\"azure_service\\\":\\\"remote\\\",\\\"many_models\\\":false,\\\"pipeline_fetch_max_batch_size\\\":1,\\\"enable_batch_run\\\":false,\\\"enable_run_restructure\\\":false,\\\"start_auxiliary_runs_before_parent_complete\\\":false,\\\"enable_code_generation\\\":false,\\\"iterations\\\":5,\\\"primary_metric\\\":\\\"AUC_weighted\\\",\\\"task_type\\\":\\\"classification\\\",\\\"data_script\\\":null,\\\"test_size\\\":0.0,\\\"test_include_predictions_only\\\":false,\\\"validation_size\\\":0.0,\\\"n_cross_validations\\\":3,\\\"y_min\\\":null,\\\"y_max\\\":null,\\\"num_classes\\\":null,\\\"featurization\\\":\\\"auto\\\",\\\"_ignore_package_version_incompatibilities\\\":false,\\\"is_timeseries\\\":false,\\\"max_cores_per_iteration\\\":-1,\\\"max_concurrent_iterations\\\":5,\\\"iteration_timeout_minutes\\\":5,\\\"mem_in_mb\\\":null,\\\"enforce_time_on_windows\\\":false,\\\"experiment_timeout_minutes\\\":30,\\\"experiment_exit_score\\\":null,\\\"whitelist_models\\\":null,\\\"blacklist_algos\\\":[\\\"TensorFlowLinearClassifier\\\",\\\"TensorFlowDNN\\\"],\\\"supported_models\\\":[\\\"MultinomialNaiveBayes\\\",\\\"TensorFlowLinearClassifier\\\",\\\"SVM\\\",\\\"BernoulliNaiveBayes\\\",\\\"SGD\\\",\\\"ExtremeRandomTrees\\\",\\\"AveragedPerceptronClassifier\\\",\\\"GradientBoosting\\\",\\\"LogisticRegression\\\",\\\"TensorFlowDNN\\\",\\\"DecisionTree\\\",\\\"LightGBM\\\",\\\"LinearSVM\\\",\\\"RandomForest\\\",\\\"XGBoostClassifier\\\",\\\"KNN\\\"],\\\"private_models\\\":[],\\\"auto_blacklist\\\":true,\\\"blacklist_samples_reached\\\":false,\\\"exclude_nan_labels\\\":true,\\\"verbosity\\\":20,\\\"_debug_log\\\":\\\"azureml_automl.log\\\",\\\"show_warnings\\\":false,\\\"model_explainability\\\":true,\\\"service_url\\\":null,\\\"sdk_url\\\":null,\\\"sdk_packages\\\":null,\\\"enable_onnx_compatible_models\\\":false,\\\"enable_split_onnx_featurizer_estimator_models\\\":false,\\\"vm_type\\\":\\\"STANDARD_DS3_V2\\\",\\\"telemetry_verbosity\\\":20,\\\"send_telemetry\\\":true,\\\"enable_dnn\\\":false,\\\"scenario\\\":\\\"SDK-1.13.0\\\",\\\"environment_label\\\":null,\\\"save_mlflow\\\":false,\\\"force_text_dnn\\\":false,\\\"enable_feature_sweeping\\\":true,\\\"enable_early_stopping\\\":true,\\\"early_stopping_n_iters\\\":10,\\\"metrics\\\":null,\\\"enable_metric_confidence\\\":false,\\\"enable_ensembling\\\":true,\\\"enable_stack_ensembling\\\":true,\\\"ensemble_iterations\\\":5,\\\"enable_tf\\\":false,\\\"enable_subsampling\\\":false,\\\"subsample_seed\\\":null,\\\"enable_nimbusml\\\":false,\\\"enable_streaming\\\":false,\\\"force_streaming\\\":false,\\\"track_child_runs\\\":true,\\\"allowed_private_models\\\":[],\\\"label_column_name\\\":\\\"diagnosis\\\",\\\"weight_column_name\\\":null,\\\"cv_split_column_names\\\":null,\\\"positive_label\\\":null,\\\"enable_local_managed\\\":false,\\\"_local_managed_run_id\\\":null,\\\"cost_mode\\\":1,\\\"lag_length\\\":0,\\\"metric_operation\\\":\\\"maximize\\\",\\\"preprocess\\\":true}\", \"DataPrepJsonString\": \"{\\\\\\\"training_data\\\\\\\": {\\\\\\\"datasetId\\\\\\\": \\\\\\\"2f0f16fe-75a7-4a98-876f-25e652184197\\\\\\\"}, \\\\\\\"datasets\\\\\\\": 0}\", \"EnableSubsampling\": \"False\", \"runTemplate\": \"AutoML\", \"azureml.runsource\": \"automl\", \"display_task_type\": \"classification\", \"dependencies_versions\": \"{\\\"azureml-widgets\\\": \\\"1.34.0\\\", \\\"azureml-train\\\": \\\"1.34.0\\\", \\\"azureml-train-restclients-hyperdrive\\\": \\\"1.34.0\\\", \\\"azureml-train-core\\\": \\\"1.34.0\\\", \\\"azureml-train-automl\\\": \\\"1.34.0\\\", \\\"azureml-train-automl-runtime\\\": \\\"1.34.0\\\", \\\"azureml-train-automl-client\\\": \\\"1.34.0\\\", \\\"azureml-tensorboard\\\": \\\"1.34.0\\\", \\\"azureml-telemetry\\\": \\\"1.34.0\\\", \\\"azureml-sdk\\\": \\\"1.34.0\\\", \\\"azureml-samples\\\": \\\"0+unknown\\\", \\\"azureml-responsibleai\\\": \\\"1.34.0\\\", \\\"azureml-pipeline\\\": \\\"1.34.0\\\", \\\"azureml-pipeline-steps\\\": \\\"1.34.0\\\", \\\"azureml-pipeline-core\\\": \\\"1.34.0\\\", \\\"azureml-opendatasets\\\": \\\"1.34.0\\\", \\\"azureml-mlflow\\\": \\\"1.34.0\\\", \\\"azureml-interpret\\\": \\\"1.34.0\\\", \\\"azureml-inference-server-http\\\": \\\"0.3.1\\\", \\\"azureml-explain-model\\\": \\\"1.34.0\\\", \\\"azureml-defaults\\\": \\\"1.34.0\\\", \\\"azureml-dataset-runtime\\\": \\\"1.34.0\\\", \\\"azureml-dataprep\\\": \\\"2.22.2\\\", \\\"azureml-dataprep-rslex\\\": \\\"1.20.1\\\", \\\"azureml-dataprep-native\\\": \\\"38.0.0\\\", \\\"azureml-datadrift\\\": \\\"1.34.0\\\", \\\"azureml-core\\\": \\\"1.34.0\\\", \\\"azureml-contrib-services\\\": \\\"1.34.0\\\", \\\"azureml-contrib-server\\\": \\\"1.34.0\\\", \\\"azureml-contrib-reinforcementlearning\\\": \\\"1.34.0\\\", \\\"azureml-contrib-pipeline-steps\\\": \\\"1.34.0\\\", \\\"azureml-contrib-notebook\\\": \\\"1.34.0\\\", \\\"azureml-contrib-fairness\\\": \\\"1.34.0\\\", \\\"azureml-contrib-dataset\\\": \\\"1.34.0\\\", \\\"azureml-contrib-automl-pipeline-steps\\\": \\\"1.34.0\\\", \\\"azureml-cli-common\\\": \\\"1.34.0\\\", \\\"azureml-automl-runtime\\\": \\\"1.34.0\\\", \\\"azureml-automl-dnn-nlp\\\": \\\"1.34.0\\\", \\\"azureml-automl-core\\\": \\\"1.34.0\\\", \\\"azureml-accel-models\\\": \\\"1.34.0\\\"}\", \"_aml_system_scenario_identification\": \"Remote.Parent\", \"ClientType\": \"SDK\", \"environment_cpu_name\": \"AzureML-AutoML\", \"environment_cpu_label\": \"prod\", \"environment_gpu_name\": \"AzureML-AutoML-GPU\", \"environment_gpu_label\": \"prod\", \"root_attribution\": \"automl\", \"attribution\": \"AutoML\", \"Orchestrator\": \"AutoML\", \"CancelUri\": \"https://southcentralus.api.azureml.ms/jasmine/v1.0/subscriptions/f5091c60-1c3c-430f-8d81-d802f6bf2414/resourceGroups/aml-quickstarts-162497/providers/Microsoft.MachineLearningServices/workspaces/quick-starts-ws-162497/experimentids/f480e57f-a250-4ab7-a18c-7b36f8e1a67f/cancel/AutoML_0718fc0e-7a3e-43a4-8c96-5af1f09abcc4\", \"ClientSdkVersion\": \"1.35.0\", \"snapshotId\": \"00000000-0000-0000-0000-000000000000\", \"SetupRunId\": \"AutoML_0718fc0e-7a3e-43a4-8c96-5af1f09abcc4_setup\", \"SetupRunContainerId\": \"dcid.AutoML_0718fc0e-7a3e-43a4-8c96-5af1f09abcc4_setup\", \"FeaturizationRunJsonPath\": \"featurizer_container.json\", \"FeaturizationRunId\": \"AutoML_0718fc0e-7a3e-43a4-8c96-5af1f09abcc4_featurize\", \"ProblemInfoJsonString\": \"{\\\"dataset_num_categorical\\\": 0, \\\"is_sparse\\\": false, \\\"subsampling\\\": false, \\\"has_extra_col\\\": true, \\\"dataset_classes\\\": 2, \\\"dataset_features\\\": 5, \\\"dataset_samples\\\": 565, \\\"single_frequency_class_detected\\\": false}\", \"ModelExplainRunId\": \"AutoML_0718fc0e-7a3e-43a4-8c96-5af1f09abcc4_ModelExplain\"}, \"tags\": {\"model_explain_run\": \"best_run\", \"_aml_system_azureml.automlComponent\": \"AutoML\", \"pipeline_id\": \"\", \"score\": \"\", \"predicted_cost\": \"\", \"fit_time\": \"\", \"training_percent\": \"\", \"iteration\": \"\", \"run_preprocessor\": \"\", \"run_algorithm\": \"\", \"automl_best_child_run_id\": \"AutoML_0718fc0e-7a3e-43a4-8c96-5af1f09abcc4_3\", \"model_explain_best_run_child_id\": \"AutoML_0718fc0e-7a3e-43a4-8c96-5af1f09abcc4_3\"}, \"end_time_utc\": \"2021-10-31T19:36:56.860987Z\", \"status\": \"Completed\", \"log_files\": {}, \"log_groups\": [], \"run_duration\": \"0:07:54\", \"run_number\": \"1\", \"run_queued_details\": {\"status\": \"Completed\", \"details\": null}}, \"child_runs\": [{\"run_id\": \"AutoML_0718fc0e-7a3e-43a4-8c96-5af1f09abcc4_setup\", \"run_number\": 2, \"metric\": null, \"status\": \"Completed\", \"run_type\": \"azureml.scriptrun\", \"training_percent\": null, \"start_time\": \"2021-10-31T19:29:27.88935Z\", \"end_time\": \"2021-10-31T19:31:06.6519Z\", \"created_time\": \"2021-10-31T19:29:15.90985Z\", \"created_time_dt\": \"2021-10-31T19:29:15.90985Z\", \"duration\": \"0:01:50\", \"iteration\": null, \"goal\": null, \"run_name\": \"Completed\", \"run_properties\": null}, {\"run_id\": \"AutoML_0718fc0e-7a3e-43a4-8c96-5af1f09abcc4_featurize\", \"run_number\": 3, \"metric\": null, \"status\": \"Completed\", \"run_type\": \"automl.featurization\", \"training_percent\": null, \"start_time\": \"2021-10-31T19:31:07.513245Z\", \"end_time\": \"2021-10-31T19:32:06.171157Z\", \"created_time\": \"2021-10-31T19:31:07.05967Z\", \"created_time_dt\": \"2021-10-31T19:31:07.05967Z\", \"duration\": \"0:00:59\", \"iteration\": null, \"goal\": null, \"run_name\": \"Completed\", \"run_properties\": null}, {\"run_id\": \"AutoML_0718fc0e-7a3e-43a4-8c96-5af1f09abcc4_0\", \"run_number\": 5, \"metric\": null, \"status\": \"Completed\", \"run_type\": \"azureml.scriptrun\", \"training_percent\": \"100\", \"start_time\": \"2021-10-31T19:32:12.187943Z\", \"end_time\": \"2021-10-31T19:32:56.896315Z\", \"created_time\": \"2021-10-31T19:32:07.093603Z\", \"created_time_dt\": \"2021-10-31T19:32:07.093603Z\", \"duration\": \"0:00:49\", \"iteration\": \"0\", \"goal\": \"AUC_weighted_max\", \"run_name\": \"MaxAbsScaler, LightGBM\", \"run_properties\": \"copy=True\", \"primary_metric\": 0.9748803, \"best_metric\": 0.9748803}, {\"run_id\": \"AutoML_0718fc0e-7a3e-43a4-8c96-5af1f09abcc4_1\", \"run_number\": 6, \"metric\": null, \"status\": \"Completed\", \"run_type\": \"azureml.scriptrun\", \"training_percent\": \"100\", \"start_time\": \"2021-10-31T19:33:03.209Z\", \"end_time\": \"2021-10-31T19:33:49.538807Z\", \"created_time\": \"2021-10-31T19:32:07.107025Z\", \"created_time_dt\": \"2021-10-31T19:32:07.107025Z\", \"duration\": \"0:01:42\", \"iteration\": \"1\", \"goal\": \"AUC_weighted_max\", \"run_name\": \"MaxAbsScaler, XGBoostClassifier\", \"run_properties\": \"copy=True\", \"primary_metric\": 0.97788361, \"best_metric\": 0.97788361}, {\"run_id\": \"AutoML_0718fc0e-7a3e-43a4-8c96-5af1f09abcc4_2\", \"run_number\": 7, \"metric\": null, \"status\": \"Completed\", \"run_type\": \"azureml.scriptrun\", \"training_percent\": \"100\", \"start_time\": \"2021-10-31T19:33:45.436859Z\", \"end_time\": \"2021-10-31T19:35:16.590863Z\", \"created_time\": \"2021-10-31T19:32:07.099784Z\", \"created_time_dt\": \"2021-10-31T19:32:07.099784Z\", \"duration\": \"0:03:09\", \"iteration\": \"2\", \"goal\": \"AUC_weighted_max\", \"run_name\": \"MaxAbsScaler, ExtremeRandomTrees\", \"run_properties\": \"copy=True\", \"primary_metric\": 0.97089354, \"best_metric\": 0.97788361}, {\"run_id\": \"AutoML_0718fc0e-7a3e-43a4-8c96-5af1f09abcc4_3\", \"run_number\": 8, \"metric\": null, \"status\": \"Completed\", \"run_type\": \"azureml.scriptrun\", \"training_percent\": \"100\", \"start_time\": \"2021-10-31T19:35:30.180748Z\", \"end_time\": \"2021-10-31T19:36:12.289215Z\", \"created_time\": \"2021-10-31T19:35:17.627985Z\", \"created_time_dt\": \"2021-10-31T19:35:17.627985Z\", \"duration\": \"0:00:54\", \"iteration\": \"3\", \"goal\": \"AUC_weighted_max\", \"run_name\": \"VotingEnsemble\", \"run_properties\": \"\\n    estimators=[('1', Pipeline(\\n        memory=None,\\n        steps=[('maxabsscaler', MaxAbsScaler(\\n            copy=True\\n        \", \"primary_metric\": 0.97920355, \"best_metric\": 0.97920355}, {\"run_id\": \"AutoML_0718fc0e-7a3e-43a4-8c96-5af1f09abcc4_4\", \"run_number\": 9, \"metric\": null, \"status\": \"Completed\", \"run_type\": \"azureml.scriptrun\", \"training_percent\": \"100\", \"start_time\": \"2021-10-31T19:35:33.007995Z\", \"end_time\": \"2021-10-31T19:36:55.189139Z\", \"created_time\": \"2021-10-31T19:35:17.666887Z\", \"created_time_dt\": \"2021-10-31T19:35:17.666887Z\", \"duration\": \"0:01:37\", \"iteration\": \"4\", \"goal\": \"AUC_weighted_max\", \"run_name\": \"StackEnsemble\", \"run_properties\": \"\\n    base_learners=[('1', Pipeline(\\n        memory=None,\\n        steps=[('maxabsscaler', MaxAbsScaler(\\n            copy=True\\n        \", \"primary_metric\": 0.97912686, \"best_metric\": 0.97920355}], \"children_metrics\": {\"categories\": [0], \"series\": {\"precision_score_macro\": [{\"categories\": [\"0\", \"1\", \"2\", \"3\", \"4\"], \"mode\": \"markers\", \"name\": \"precision_score_macro\", \"stepped\": false, \"type\": \"scatter\", \"data\": [0.9099756045730576, 0.9228290169555414, 0.9014064973208885, 0.9205222779170148, 0.7145241034132015]}, {\"categories\": [\"0\", \"1\", \"2\", \"3\", \"4\"], \"mode\": \"lines\", \"name\": \"precision_score_macro_max\", \"stepped\": true, \"type\": \"scatter\", \"data\": [0.9099756045730576, 0.9228290169555414, 0.9228290169555414, 0.9228290169555414, 0.9228290169555414]}], \"log_loss\": [{\"categories\": [\"0\", \"1\", \"2\", \"3\", \"4\"], \"mode\": \"markers\", \"name\": \"log_loss\", \"stepped\": false, \"type\": \"scatter\", \"data\": [0.2376382420609557, 0.18864125983126337, 0.25890776241311925, 0.18978280794867705, 0.3637150093050339]}, {\"categories\": [\"0\", \"1\", \"2\", \"3\", \"4\"], \"mode\": \"lines\", \"name\": \"log_loss_min\", \"stepped\": true, \"type\": \"scatter\", \"data\": [0.2376382420609557, 0.18864125983126337, 0.18864125983126337, 0.18864125983126337, 0.18864125983126337]}], \"average_precision_score_weighted\": [{\"categories\": [\"0\", \"1\", \"2\", \"3\", \"4\"], \"mode\": \"markers\", \"name\": \"average_precision_score_weighted\", \"stepped\": false, \"type\": \"scatter\", \"data\": [0.9766781568597988, 0.979291124574947, 0.9730611156062139, 0.9809146381665507, 0.9808437086004402]}, {\"categories\": [\"0\", \"1\", \"2\", \"3\", \"4\"], \"mode\": \"lines\", \"name\": \"average_precision_score_weighted_max\", \"stepped\": true, \"type\": \"scatter\", \"data\": [0.9766781568597988, 0.979291124574947, 0.979291124574947, 0.9809146381665507, 0.9809146381665507]}], \"norm_macro_recall\": [{\"categories\": [\"0\", \"1\", \"2\", \"3\", \"4\"], \"mode\": \"markers\", \"name\": \"norm_macro_recall\", \"stepped\": false, \"type\": \"scatter\", \"data\": [0.806162109068104, 0.8356608565938709, 0.7485539418342683, 0.8239019076902556, 0.5412928280223525]}, {\"categories\": [\"0\", \"1\", \"2\", \"3\", \"4\"], \"mode\": \"lines\", \"name\": \"norm_macro_recall_max\", \"stepped\": true, \"type\": \"scatter\", \"data\": [0.806162109068104, 0.8356608565938709, 0.8356608565938709, 0.8356608565938709, 0.8356608565938709]}], \"AUC_micro\": [{\"categories\": [\"0\", \"1\", \"2\", \"3\", \"4\"], \"mode\": \"markers\", \"name\": \"AUC_micro\", \"stepped\": false, \"type\": \"scatter\", \"data\": [0.9777441851494769, 0.9799308602549494, 0.9717373859155854, 0.9808654364785667, 0.9398490438935552]}, {\"categories\": [\"0\", \"1\", \"2\", \"3\", \"4\"], \"mode\": \"lines\", \"name\": \"AUC_micro_max\", \"stepped\": true, \"type\": \"scatter\", \"data\": [0.9777441851494769, 0.9799308602549494, 0.9799308602549494, 0.9808654364785667, 0.9808654364785667]}], \"matthews_correlation\": [{\"categories\": [\"0\", \"1\", \"2\", \"3\", \"4\"], \"mode\": \"markers\", \"name\": \"matthews_correlation\", \"stepped\": false, \"type\": \"scatter\", \"data\": [0.8129988879472573, 0.8406111617625852, 0.7748782610989893, 0.8323826002210106, 0.5454103922782333]}, {\"categories\": [\"0\", \"1\", \"2\", \"3\", \"4\"], \"mode\": \"lines\", \"name\": \"matthews_correlation_max\", \"stepped\": true, \"type\": \"scatter\", \"data\": [0.8129988879472573, 0.8406111617625852, 0.8406111617625852, 0.8406111617625852, 0.8406111617625852]}], \"recall_score_macro\": [{\"categories\": [\"0\", \"1\", \"2\", \"3\", \"4\"], \"mode\": \"markers\", \"name\": \"recall_score_macro\", \"stepped\": false, \"type\": \"scatter\", \"data\": [0.9030810545340519, 0.9178304282969355, 0.8742769709171342, 0.9119509538451279, 0.7706464140111762]}, {\"categories\": [\"0\", \"1\", \"2\", \"3\", \"4\"], \"mode\": \"lines\", \"name\": \"recall_score_macro_max\", \"stepped\": true, \"type\": \"scatter\", \"data\": [0.9030810545340519, 0.9178304282969355, 0.9178304282969355, 0.9178304282969355, 0.9178304282969355]}], \"recall_score_weighted\": [{\"categories\": [\"0\", \"1\", \"2\", \"3\", \"4\"], \"mode\": \"markers\", \"name\": \"recall_score_weighted\", \"stepped\": false, \"type\": \"scatter\", \"data\": [0.9132800480318211, 0.9256632519043867, 0.8955683140080303, 0.9221452962587714, 0.8228545161169274]}, {\"categories\": [\"0\", \"1\", \"2\", \"3\", \"4\"], \"mode\": \"lines\", \"name\": \"recall_score_weighted_max\", \"stepped\": true, \"type\": \"scatter\", \"data\": [0.9132800480318211, 0.9256632519043867, 0.9256632519043867, 0.9256632519043867, 0.9256632519043867]}], \"weighted_accuracy\": [{\"categories\": [\"0\", \"1\", \"2\", \"3\", \"4\"], \"mode\": \"markers\", \"name\": \"weighted_accuracy\", \"stepped\": false, \"type\": \"scatter\", \"data\": [0.9220582170102481, 0.9323713245945594, 0.9138413902005452, 0.9308928705514491, 0.8676707765841197]}, {\"categories\": [\"0\", \"1\", \"2\", \"3\", \"4\"], \"mode\": \"lines\", \"name\": \"weighted_accuracy_max\", \"stepped\": true, \"type\": \"scatter\", \"data\": [0.9220582170102481, 0.9323713245945594, 0.9323713245945594, 0.9323713245945594, 0.9323713245945594]}], \"precision_score_weighted\": [{\"categories\": [\"0\", \"1\", \"2\", \"3\", \"4\"], \"mode\": \"markers\", \"name\": \"precision_score_weighted\", \"stepped\": false, \"type\": \"scatter\", \"data\": [0.9131489712601973, 0.9258910347741865, 0.8982408840268145, 0.9223340383900324, 0.7459059201341399]}, {\"categories\": [\"0\", \"1\", \"2\", \"3\", \"4\"], \"mode\": \"lines\", \"name\": \"precision_score_weighted_max\", \"stepped\": true, \"type\": \"scatter\", \"data\": [0.9131489712601973, 0.9258910347741865, 0.9258910347741865, 0.9258910347741865, 0.9258910347741865]}], \"f1_score_micro\": [{\"categories\": [\"0\", \"1\", \"2\", \"3\", \"4\"], \"mode\": \"markers\", \"name\": \"f1_score_micro\", \"stepped\": false, \"type\": \"scatter\", \"data\": [0.9132800480318211, 0.9256632519043867, 0.8955683140080303, 0.9221452962587714, 0.8228545161169274]}, {\"categories\": [\"0\", \"1\", \"2\", \"3\", \"4\"], \"mode\": \"lines\", \"name\": \"f1_score_micro_max\", \"stepped\": true, \"type\": \"scatter\", \"data\": [0.9132800480318211, 0.9256632519043867, 0.9256632519043867, 0.9256632519043867, 0.9256632519043867]}], \"AUC_weighted\": [{\"categories\": [\"0\", \"1\", \"2\", \"3\", \"4\"], \"mode\": \"markers\", \"name\": \"AUC_weighted\", \"stepped\": false, \"type\": \"scatter\", \"data\": [0.9748803006560536, 0.9778836148470965, 0.9708935350127653, 0.979203554935331, 0.9791268638914993]}, {\"categories\": [\"0\", \"1\", \"2\", \"3\", \"4\"], \"mode\": \"lines\", \"name\": \"AUC_weighted_max\", \"stepped\": true, \"type\": \"scatter\", \"data\": [0.9748803006560536, 0.9778836148470965, 0.9778836148470965, 0.979203554935331, 0.979203554935331]}], \"f1_score_macro\": [{\"categories\": [\"0\", \"1\", \"2\", \"3\", \"4\"], \"mode\": \"markers\", \"name\": \"f1_score_macro\", \"stepped\": false, \"type\": \"scatter\", \"data\": [0.9061457106666376, 0.9199636844222631, 0.8837822026337993, 0.915637499167174, 0.7356455733049018]}, {\"categories\": [\"0\", \"1\", \"2\", \"3\", \"4\"], \"mode\": \"lines\", \"name\": \"f1_score_macro_max\", \"stepped\": true, \"type\": \"scatter\", \"data\": [0.9061457106666376, 0.9199636844222631, 0.9199636844222631, 0.9199636844222631, 0.9199636844222631]}], \"average_precision_score_micro\": [{\"categories\": [\"0\", \"1\", \"2\", \"3\", \"4\"], \"mode\": \"markers\", \"name\": \"average_precision_score_micro\", \"stepped\": false, \"type\": \"scatter\", \"data\": [0.9775566060444704, 0.9798335612644692, 0.9730237283320272, 0.981537693096887, 0.9464743563549303]}, {\"categories\": [\"0\", \"1\", \"2\", \"3\", \"4\"], \"mode\": \"lines\", \"name\": \"average_precision_score_micro_max\", \"stepped\": true, \"type\": \"scatter\", \"data\": [0.9775566060444704, 0.9798335612644692, 0.9798335612644692, 0.981537693096887, 0.981537693096887]}], \"recall_score_micro\": [{\"categories\": [\"0\", \"1\", \"2\", \"3\", \"4\"], \"mode\": \"markers\", \"name\": \"recall_score_micro\", \"stepped\": false, \"type\": \"scatter\", \"data\": [0.9132800480318211, 0.9256632519043867, 0.8955683140080303, 0.9221452962587714, 0.8228545161169274]}, {\"categories\": [\"0\", \"1\", \"2\", \"3\", \"4\"], \"mode\": \"lines\", \"name\": \"recall_score_micro_max\", \"stepped\": true, \"type\": \"scatter\", \"data\": [0.9132800480318211, 0.9256632519043867, 0.9256632519043867, 0.9256632519043867, 0.9256632519043867]}], \"accuracy\": [{\"categories\": [\"0\", \"1\", \"2\", \"3\", \"4\"], \"mode\": \"markers\", \"name\": \"accuracy\", \"stepped\": false, \"type\": \"scatter\", \"data\": [0.9132800480318211, 0.9256632519043867, 0.8955683140080303, 0.9221452962587714, 0.8228545161169274]}, {\"categories\": [\"0\", \"1\", \"2\", \"3\", \"4\"], \"mode\": \"lines\", \"name\": \"accuracy_max\", \"stepped\": true, \"type\": \"scatter\", \"data\": [0.9132800480318211, 0.9256632519043867, 0.9256632519043867, 0.9256632519043867, 0.9256632519043867]}], \"average_precision_score_macro\": [{\"categories\": [\"0\", \"1\", \"2\", \"3\", \"4\"], \"mode\": \"markers\", \"name\": \"average_precision_score_macro\", \"stepped\": false, \"type\": \"scatter\", \"data\": [0.9744378062775789, 0.9771916590541748, 0.9695415985591529, 0.9786207181741281, 0.978528980880557]}, {\"categories\": [\"0\", \"1\", \"2\", \"3\", \"4\"], \"mode\": \"lines\", \"name\": \"average_precision_score_macro_max\", \"stepped\": true, \"type\": \"scatter\", \"data\": [0.9744378062775789, 0.9771916590541748, 0.9771916590541748, 0.9786207181741281, 0.9786207181741281]}], \"balanced_accuracy\": [{\"categories\": [\"0\", \"1\", \"2\", \"3\", \"4\"], \"mode\": \"markers\", \"name\": \"balanced_accuracy\", \"stepped\": false, \"type\": \"scatter\", \"data\": [0.9030810545340519, 0.9178304282969355, 0.8742769709171342, 0.9119509538451279, 0.7706464140111762]}, {\"categories\": [\"0\", \"1\", \"2\", \"3\", \"4\"], \"mode\": \"lines\", \"name\": \"balanced_accuracy_max\", \"stepped\": true, \"type\": \"scatter\", \"data\": [0.9030810545340519, 0.9178304282969355, 0.9178304282969355, 0.9178304282969355, 0.9178304282969355]}], \"precision_score_micro\": [{\"categories\": [\"0\", \"1\", \"2\", \"3\", \"4\"], \"mode\": \"markers\", \"name\": \"precision_score_micro\", \"stepped\": false, \"type\": \"scatter\", \"data\": [0.9132800480318211, 0.9256632519043867, 0.8955683140080303, 0.9221452962587714, 0.8228545161169274]}, {\"categories\": [\"0\", \"1\", \"2\", \"3\", \"4\"], \"mode\": \"lines\", \"name\": \"precision_score_micro_max\", \"stepped\": true, \"type\": \"scatter\", \"data\": [0.9132800480318211, 0.9256632519043867, 0.9256632519043867, 0.9256632519043867, 0.9256632519043867]}], \"f1_score_weighted\": [{\"categories\": [\"0\", \"1\", \"2\", \"3\", \"4\"], \"mode\": \"markers\", \"name\": \"f1_score_weighted\", \"stepped\": false, \"type\": \"scatter\", \"data\": [0.9128881124280482, 0.9254590976970193, 0.8935207800710995, 0.9217275504026229, 0.7756421630631491]}, {\"categories\": [\"0\", \"1\", \"2\", \"3\", \"4\"], \"mode\": \"lines\", \"name\": \"f1_score_weighted_max\", \"stepped\": true, \"type\": \"scatter\", \"data\": [0.9128881124280482, 0.9254590976970193, 0.9254590976970193, 0.9254590976970193, 0.9254590976970193]}], \"AUC_macro\": [{\"categories\": [\"0\", \"1\", \"2\", \"3\", \"4\"], \"mode\": \"markers\", \"name\": \"AUC_macro\", \"stepped\": false, \"type\": \"scatter\", \"data\": [0.9748803006560536, 0.9778836148470965, 0.9708935350127653, 0.979203554935331, 0.9791268638914993]}, {\"categories\": [\"0\", \"1\", \"2\", \"3\", \"4\"], \"mode\": \"lines\", \"name\": \"AUC_macro_max\", \"stepped\": true, \"type\": \"scatter\", \"data\": [0.9748803006560536, 0.9778836148470965, 0.9778836148470965, 0.979203554935331, 0.979203554935331]}]}, \"metricName\": null, \"primaryMetricName\": \"AUC_weighted\", \"showLegend\": false}, \"run_metrics\": [{\"name\": \"experiment_status\", \"run_id\": \"AutoML_0718fc0e-7a3e-43a4-8c96-5af1f09abcc4\", \"categories\": [0, 1, 2, 3, 4, 5, 6, 7, 8, 9, 10, 11, 12, 13], \"series\": [{\"data\": [\"DatasetEvaluation\", \"FeaturesGeneration\", \"DatasetFeaturization\", \"DatasetFeaturizationCompleted\", \"DatasetCrossValidationSplit\", \"ModelSelection\", \"BestRunExplainModel\", \"ModelExplanationDataSetSetup\", \"PickSurrogateModel\", \"EngineeredFeatureExplanations\", \"EngineeredFeatureExplanations\", \"RawFeaturesExplanations\", \"RawFeaturesExplanations\", \"BestRunExplainModel\"]}]}, {\"name\": \"experiment_status_description\", \"run_id\": \"AutoML_0718fc0e-7a3e-43a4-8c96-5af1f09abcc4\", \"categories\": [0, 1, 2, 3, 4, 5, 6, 7, 8, 9, 10, 11, 12, 13], \"series\": [{\"data\": [\"Gathering dataset statistics.\", \"Generating features for the dataset.\", \"Beginning to fit featurizers and featurize the dataset.\", \"Completed fit featurizers and featurizing the dataset.\", \"Generating individually featurized CV splits.\", \"Beginning model selection.\", \"Best run model explanations started\", \"Model explanations data setup completed\", \"Choosing LightGBM as the surrogate model for explanations\", \"Computation of engineered features started\", \"Computation of engineered features completed\", \"Computation of raw features started\", \"Computation of raw features completed\", \"Best run model explanations completed\"]}]}, {\"name\": \"recall_score_macro\", \"run_id\": \"AutoML_0718fc0e-7a3e-43a4-8c96-5af1f09abcc4\", \"categories\": [0], \"series\": [{\"data\": [0.9119509538451279]}]}, {\"name\": \"recall_score_weighted\", \"run_id\": \"AutoML_0718fc0e-7a3e-43a4-8c96-5af1f09abcc4\", \"categories\": [0], \"series\": [{\"data\": [0.9221452962587714]}]}, {\"name\": \"recall_score_micro\", \"run_id\": \"AutoML_0718fc0e-7a3e-43a4-8c96-5af1f09abcc4\", \"categories\": [0], \"series\": [{\"data\": [0.9221452962587714]}]}, {\"name\": \"f1_score_weighted\", \"run_id\": \"AutoML_0718fc0e-7a3e-43a4-8c96-5af1f09abcc4\", \"categories\": [0], \"series\": [{\"data\": [0.9217275504026229]}]}, {\"name\": \"average_precision_score_micro\", \"run_id\": \"AutoML_0718fc0e-7a3e-43a4-8c96-5af1f09abcc4\", \"categories\": [0], \"series\": [{\"data\": [0.981537693096887]}]}, {\"name\": \"norm_macro_recall\", \"run_id\": \"AutoML_0718fc0e-7a3e-43a4-8c96-5af1f09abcc4\", \"categories\": [0], \"series\": [{\"data\": [0.8239019076902556]}]}, {\"name\": \"accuracy\", \"run_id\": \"AutoML_0718fc0e-7a3e-43a4-8c96-5af1f09abcc4\", \"categories\": [0], \"series\": [{\"data\": [0.9221452962587714]}]}, {\"name\": \"f1_score_macro\", \"run_id\": \"AutoML_0718fc0e-7a3e-43a4-8c96-5af1f09abcc4\", \"categories\": [0], \"series\": [{\"data\": [0.915637499167174]}]}, {\"name\": \"weighted_accuracy\", \"run_id\": \"AutoML_0718fc0e-7a3e-43a4-8c96-5af1f09abcc4\", \"categories\": [0], \"series\": [{\"data\": [0.9308928705514491]}]}, {\"name\": \"precision_score_macro\", \"run_id\": \"AutoML_0718fc0e-7a3e-43a4-8c96-5af1f09abcc4\", \"categories\": [0], \"series\": [{\"data\": [0.9205222779170148]}]}, {\"name\": \"average_precision_score_weighted\", \"run_id\": \"AutoML_0718fc0e-7a3e-43a4-8c96-5af1f09abcc4\", \"categories\": [0], \"series\": [{\"data\": [0.9809146381665507]}]}, {\"name\": \"log_loss\", \"run_id\": \"AutoML_0718fc0e-7a3e-43a4-8c96-5af1f09abcc4\", \"categories\": [0], \"series\": [{\"data\": [0.18978280794867705]}]}, {\"name\": \"AUC_macro\", \"run_id\": \"AutoML_0718fc0e-7a3e-43a4-8c96-5af1f09abcc4\", \"categories\": [0], \"series\": [{\"data\": [0.979203554935331]}]}, {\"name\": \"precision_score_micro\", \"run_id\": \"AutoML_0718fc0e-7a3e-43a4-8c96-5af1f09abcc4\", \"categories\": [0], \"series\": [{\"data\": [0.9221452962587714]}]}, {\"name\": \"AUC_micro\", \"run_id\": \"AutoML_0718fc0e-7a3e-43a4-8c96-5af1f09abcc4\", \"categories\": [0], \"series\": [{\"data\": [0.9808654364785667]}]}, {\"name\": \"AUC_weighted\", \"run_id\": \"AutoML_0718fc0e-7a3e-43a4-8c96-5af1f09abcc4\", \"categories\": [0], \"series\": [{\"data\": [0.979203554935331]}]}, {\"name\": \"precision_score_weighted\", \"run_id\": \"AutoML_0718fc0e-7a3e-43a4-8c96-5af1f09abcc4\", \"categories\": [0], \"series\": [{\"data\": [0.9223340383900324]}]}, {\"name\": \"f1_score_micro\", \"run_id\": \"AutoML_0718fc0e-7a3e-43a4-8c96-5af1f09abcc4\", \"categories\": [0], \"series\": [{\"data\": [0.9221452962587714]}]}, {\"name\": \"matthews_correlation\", \"run_id\": \"AutoML_0718fc0e-7a3e-43a4-8c96-5af1f09abcc4\", \"categories\": [0], \"series\": [{\"data\": [0.8323826002210106]}]}, {\"name\": \"balanced_accuracy\", \"run_id\": \"AutoML_0718fc0e-7a3e-43a4-8c96-5af1f09abcc4\", \"categories\": [0], \"series\": [{\"data\": [0.9119509538451279]}]}, {\"name\": \"average_precision_score_macro\", \"run_id\": \"AutoML_0718fc0e-7a3e-43a4-8c96-5af1f09abcc4\", \"categories\": [0], \"series\": [{\"data\": [0.9786207181741281]}]}], \"run_logs\": \"\\nRun is completed.\", \"graph\": {}, \"widget_settings\": {\"childWidgetDisplay\": \"popup\", \"send_telemetry\": false, \"log_level\": \"INFO\", \"sdk_version\": \"1.34.0\"}, \"loading\": false}"
          },
          "metadata": {}
        }
      ]
    },
    {
      "cell_type": "code",
      "metadata": {
        "jupyter": {
          "source_hidden": false,
          "outputs_hidden": false
        },
        "nteract": {
          "transient": {
            "deleting": false
          }
        },
        "gather": {
          "logged": 1635709030332
        },
        "id": "ah8Hq8NCNMY4",
        "outputId": "cf632881-67fe-4813-9153-f4d6538a9663"
      },
      "source": [
        "automl_run.wait_for_completion(show_output=True)"
      ],
      "execution_count": null,
      "outputs": [
        {
          "output_type": "display_data",
          "data": {
            "text/plain": "<IPython.core.display.HTML object>",
            "text/html": "<table style=\"width:100%\"><tr><th>Experiment</th><th>Id</th><th>Type</th><th>Status</th><th>Details Page</th><th>Docs Page</th></tr><tr><td>experiment-capstone-automl</td><td>AutoML_0718fc0e-7a3e-43a4-8c96-5af1f09abcc4</td><td>automl</td><td>NotStarted</td><td><a href=\"https://ml.azure.com/runs/AutoML_0718fc0e-7a3e-43a4-8c96-5af1f09abcc4?wsid=/subscriptions/f5091c60-1c3c-430f-8d81-d802f6bf2414/resourcegroups/aml-quickstarts-162497/workspaces/quick-starts-ws-162497&amp;tid=660b3398-b80e-49d2-bc5b-ac1dc93b5254\" target=\"_blank\" rel=\"noopener\">Link to Azure Machine Learning studio</a></td><td><a href=\"https://docs.microsoft.com/en-us/python/api/overview/azure/ml/intro?view=azure-ml-py\" target=\"_blank\" rel=\"noopener\">Link to Documentation</a></td></tr></table>"
          },
          "metadata": {}
        },
        {
          "output_type": "stream",
          "name": "stdout",
          "text": "\nCurrent status: FeaturesGeneration. Generating features for the dataset.\nCurrent status: ModelSelection. Beginning model selection.\n\n****************************************************************************************************\nDATA GUARDRAILS: \n\nTYPE:         Class balancing detection\nSTATUS:       PASSED\nDESCRIPTION:  Your inputs were analyzed, and all classes are balanced in your training data.\n              Learn more about imbalanced data: https://aka.ms/AutomatedMLImbalancedData\n\n****************************************************************************************************\n\nTYPE:         Missing feature values imputation\nSTATUS:       PASSED\nDESCRIPTION:  No feature missing values were detected in the training data.\n              Learn more about missing value imputation: https://aka.ms/AutomatedMLFeaturization\n\n****************************************************************************************************\n\nTYPE:         High cardinality feature detection\nSTATUS:       PASSED\nDESCRIPTION:  Your inputs were analyzed, and no high cardinality features were detected.\n              Learn more about high cardinality feature handling: https://aka.ms/AutomatedMLFeaturization\n\n****************************************************************************************************\n\n****************************************************************************************************\nITERATION: The iteration being evaluated.\nPIPELINE: A summary description of the pipeline being evaluated.\nDURATION: Time taken for the current iteration.\nMETRIC: The result of computing score on the fitted pipeline.\nBEST: The best observed score thus far.\n****************************************************************************************************\n\n ITERATION   PIPELINE                                       DURATION      METRIC      BEST\n         0   MaxAbsScaler LightGBM                          0:00:45       0.9749    0.9749\n         1   MaxAbsScaler XGBoostClassifier                 0:00:46       0.9779    0.9779\n         2   MaxAbsScaler ExtremeRandomTrees                0:01:31       0.9709    0.9779\n         3    VotingEnsemble                                0:00:42       0.9792    0.9792\n         4    StackEnsemble                                 0:01:22       0.9791    0.9792\n"
        },
        {
          "output_type": "execute_result",
          "execution_count": 11,
          "data": {
            "text/plain": "{'runId': 'AutoML_0718fc0e-7a3e-43a4-8c96-5af1f09abcc4',\n 'target': 'COMPUTE-AUTOML',\n 'status': 'Completed',\n 'startTimeUtc': '2021-10-31T19:29:17.760704Z',\n 'endTimeUtc': '2021-10-31T19:36:56.860987Z',\n 'services': {},\n 'properties': {'num_iterations': '5',\n  'training_type': 'TrainFull',\n  'acquisition_function': 'EI',\n  'primary_metric': 'AUC_weighted',\n  'train_split': '0',\n  'acquisition_parameter': '0',\n  'num_cross_validation': '3',\n  'target': 'COMPUTE-AUTOML',\n  'AMLSettingsJsonString': '{\"path\":null,\"name\":\"experiment-capstone-automl\",\"subscription_id\":\"f5091c60-1c3c-430f-8d81-d802f6bf2414\",\"resource_group\":\"aml-quickstarts-162497\",\"workspace_name\":\"quick-starts-ws-162497\",\"region\":\"southcentralus\",\"compute_target\":\"COMPUTE-AUTOML\",\"spark_service\":null,\"azure_service\":\"remote\",\"many_models\":false,\"pipeline_fetch_max_batch_size\":1,\"enable_batch_run\":false,\"enable_run_restructure\":false,\"start_auxiliary_runs_before_parent_complete\":false,\"enable_code_generation\":false,\"iterations\":5,\"primary_metric\":\"AUC_weighted\",\"task_type\":\"classification\",\"data_script\":null,\"test_size\":0.0,\"test_include_predictions_only\":false,\"validation_size\":0.0,\"n_cross_validations\":3,\"y_min\":null,\"y_max\":null,\"num_classes\":null,\"featurization\":\"auto\",\"_ignore_package_version_incompatibilities\":false,\"is_timeseries\":false,\"max_cores_per_iteration\":-1,\"max_concurrent_iterations\":5,\"iteration_timeout_minutes\":5,\"mem_in_mb\":null,\"enforce_time_on_windows\":false,\"experiment_timeout_minutes\":30,\"experiment_exit_score\":null,\"whitelist_models\":null,\"blacklist_algos\":[\"TensorFlowLinearClassifier\",\"TensorFlowDNN\"],\"supported_models\":[\"MultinomialNaiveBayes\",\"TensorFlowLinearClassifier\",\"SVM\",\"BernoulliNaiveBayes\",\"SGD\",\"ExtremeRandomTrees\",\"AveragedPerceptronClassifier\",\"GradientBoosting\",\"LogisticRegression\",\"TensorFlowDNN\",\"DecisionTree\",\"LightGBM\",\"LinearSVM\",\"RandomForest\",\"XGBoostClassifier\",\"KNN\"],\"private_models\":[],\"auto_blacklist\":true,\"blacklist_samples_reached\":false,\"exclude_nan_labels\":true,\"verbosity\":20,\"_debug_log\":\"azureml_automl.log\",\"show_warnings\":false,\"model_explainability\":true,\"service_url\":null,\"sdk_url\":null,\"sdk_packages\":null,\"enable_onnx_compatible_models\":false,\"enable_split_onnx_featurizer_estimator_models\":false,\"vm_type\":\"STANDARD_DS3_V2\",\"telemetry_verbosity\":20,\"send_telemetry\":true,\"enable_dnn\":false,\"scenario\":\"SDK-1.13.0\",\"environment_label\":null,\"save_mlflow\":false,\"force_text_dnn\":false,\"enable_feature_sweeping\":true,\"enable_early_stopping\":true,\"early_stopping_n_iters\":10,\"metrics\":null,\"enable_metric_confidence\":false,\"enable_ensembling\":true,\"enable_stack_ensembling\":true,\"ensemble_iterations\":5,\"enable_tf\":false,\"enable_subsampling\":false,\"subsample_seed\":null,\"enable_nimbusml\":false,\"enable_streaming\":false,\"force_streaming\":false,\"track_child_runs\":true,\"allowed_private_models\":[],\"label_column_name\":\"diagnosis\",\"weight_column_name\":null,\"cv_split_column_names\":null,\"positive_label\":null,\"enable_local_managed\":false,\"_local_managed_run_id\":null,\"cost_mode\":1,\"lag_length\":0,\"metric_operation\":\"maximize\",\"preprocess\":true}',\n  'DataPrepJsonString': '{\\\\\"training_data\\\\\": {\\\\\"datasetId\\\\\": \\\\\"2f0f16fe-75a7-4a98-876f-25e652184197\\\\\"}, \\\\\"datasets\\\\\": 0}',\n  'EnableSubsampling': 'False',\n  'runTemplate': 'AutoML',\n  'azureml.runsource': 'automl',\n  'display_task_type': 'classification',\n  'dependencies_versions': '{\"azureml-widgets\": \"1.34.0\", \"azureml-train\": \"1.34.0\", \"azureml-train-restclients-hyperdrive\": \"1.34.0\", \"azureml-train-core\": \"1.34.0\", \"azureml-train-automl\": \"1.34.0\", \"azureml-train-automl-runtime\": \"1.34.0\", \"azureml-train-automl-client\": \"1.34.0\", \"azureml-tensorboard\": \"1.34.0\", \"azureml-telemetry\": \"1.34.0\", \"azureml-sdk\": \"1.34.0\", \"azureml-samples\": \"0+unknown\", \"azureml-responsibleai\": \"1.34.0\", \"azureml-pipeline\": \"1.34.0\", \"azureml-pipeline-steps\": \"1.34.0\", \"azureml-pipeline-core\": \"1.34.0\", \"azureml-opendatasets\": \"1.34.0\", \"azureml-mlflow\": \"1.34.0\", \"azureml-interpret\": \"1.34.0\", \"azureml-inference-server-http\": \"0.3.1\", \"azureml-explain-model\": \"1.34.0\", \"azureml-defaults\": \"1.34.0\", \"azureml-dataset-runtime\": \"1.34.0\", \"azureml-dataprep\": \"2.22.2\", \"azureml-dataprep-rslex\": \"1.20.1\", \"azureml-dataprep-native\": \"38.0.0\", \"azureml-datadrift\": \"1.34.0\", \"azureml-core\": \"1.34.0\", \"azureml-contrib-services\": \"1.34.0\", \"azureml-contrib-server\": \"1.34.0\", \"azureml-contrib-reinforcementlearning\": \"1.34.0\", \"azureml-contrib-pipeline-steps\": \"1.34.0\", \"azureml-contrib-notebook\": \"1.34.0\", \"azureml-contrib-fairness\": \"1.34.0\", \"azureml-contrib-dataset\": \"1.34.0\", \"azureml-contrib-automl-pipeline-steps\": \"1.34.0\", \"azureml-cli-common\": \"1.34.0\", \"azureml-automl-runtime\": \"1.34.0\", \"azureml-automl-dnn-nlp\": \"1.34.0\", \"azureml-automl-core\": \"1.34.0\", \"azureml-accel-models\": \"1.34.0\"}',\n  '_aml_system_scenario_identification': 'Remote.Parent',\n  'ClientType': 'SDK',\n  'environment_cpu_name': 'AzureML-AutoML',\n  'environment_cpu_label': 'prod',\n  'environment_gpu_name': 'AzureML-AutoML-GPU',\n  'environment_gpu_label': 'prod',\n  'root_attribution': 'automl',\n  'attribution': 'AutoML',\n  'Orchestrator': 'AutoML',\n  'CancelUri': 'https://southcentralus.api.azureml.ms/jasmine/v1.0/subscriptions/f5091c60-1c3c-430f-8d81-d802f6bf2414/resourceGroups/aml-quickstarts-162497/providers/Microsoft.MachineLearningServices/workspaces/quick-starts-ws-162497/experimentids/f480e57f-a250-4ab7-a18c-7b36f8e1a67f/cancel/AutoML_0718fc0e-7a3e-43a4-8c96-5af1f09abcc4',\n  'ClientSdkVersion': '1.35.0',\n  'snapshotId': '00000000-0000-0000-0000-000000000000',\n  'SetupRunId': 'AutoML_0718fc0e-7a3e-43a4-8c96-5af1f09abcc4_setup',\n  'SetupRunContainerId': 'dcid.AutoML_0718fc0e-7a3e-43a4-8c96-5af1f09abcc4_setup',\n  'FeaturizationRunJsonPath': 'featurizer_container.json',\n  'FeaturizationRunId': 'AutoML_0718fc0e-7a3e-43a4-8c96-5af1f09abcc4_featurize',\n  'ProblemInfoJsonString': '{\"dataset_num_categorical\": 0, \"is_sparse\": false, \"subsampling\": false, \"has_extra_col\": true, \"dataset_classes\": 2, \"dataset_features\": 5, \"dataset_samples\": 565, \"single_frequency_class_detected\": false}',\n  'ModelExplainRunId': 'AutoML_0718fc0e-7a3e-43a4-8c96-5af1f09abcc4_ModelExplain'},\n 'inputDatasets': [{'dataset': {'id': '2f0f16fe-75a7-4a98-876f-25e652184197'}, 'consumptionDetails': {'type': 'RunInput', 'inputName': 'training_data', 'mechanism': 'Direct'}}],\n 'outputDatasets': [],\n 'logFiles': {},\n 'submittedBy': 'ODL_User 162497'}"
          },
          "metadata": {}
        }
      ]
    },
    {
      "cell_type": "markdown",
      "metadata": {
        "id": "Skd-RNClDIzO"
      },
      "source": [
        "## Best Model\n",
        "\n",
        "TODO: In the cell below, get the best model from the automl experiments and display all the properties of the model.\n",
        "\n"
      ]
    },
    {
      "cell_type": "code",
      "metadata": {
        "id": "gzVGP_K4Imqr",
        "gather": {
          "logged": 1635709030562
        }
      },
      "source": [
        "def print_model(model, prefix=\"\"):\n",
        "    for step in model.steps:\n",
        "        print(prefix + step[0])\n",
        "        if hasattr(step[1], 'estimators') and hasattr(step[1], 'weights'):\n",
        "            pprint({'estimators': list(e[0] for e in step[1].estimators), 'weights': step[1].weights})\n",
        "            print()\n",
        "            for estimator in step[1].estimators:\n",
        "                print_model(estimator[1], estimator[0]+ ' - ')\n",
        "        elif hasattr(step[1], '_base_learners') and hasattr(step[1], '_meta_learner'):\n",
        "            print(\"\\nMeta Learner\")\n",
        "            pprint(step[1]._meta_learner)\n",
        "            print()\n",
        "            for estimator in step[1]._base_learners:\n",
        "                print_model(estimator[1], estimator[0]+ ' - ')\n",
        "        else:\n",
        "            pprint(step[1].get_params())\n",
        "            print()"
      ],
      "execution_count": null,
      "outputs": []
    },
    {
      "cell_type": "code",
      "metadata": {
        "gather": {
          "logged": 1635709057490
        },
        "jupyter": {
          "outputs_hidden": false,
          "source_hidden": false
        },
        "nteract": {
          "transient": {
            "deleting": false
          }
        },
        "id": "bPGTZ5shDIzP",
        "outputId": "b97fdfe1-5623-432e-88d8-2ced42de99d8"
      },
      "source": [
        "automl_best_run, automl_best_model = automl_run.get_output()\n",
        "\n",
        "automl_best_run_metrics = automl_best_run.get_metrics()\n",
        "\n",
        "print(f'********** Best AutoML accuracy: {automl_best_run_metrics.get(\"accuracy\")}')\n",
        "print(f'********** printing Best AutoML run:\\n{automl_best_run}\\n\\nPrinting model:')\n",
        "\n",
        "print_model(automl_best_model)"
      ],
      "execution_count": null,
      "outputs": [
        {
          "output_type": "stream",
          "name": "stderr",
          "text": "WARNING:root:The version of the SDK does not match the version the model was trained on.\nWARNING:root:The consistency in the result may not be guaranteed.\nWARNING:root:Package:azureml-automl-core, training version:1.35.0, current version:1.34.0\nPackage:azureml-automl-runtime, training version:1.35.0, current version:1.34.0\nPackage:azureml-core, training version:1.35.0, current version:1.34.0\nPackage:azureml-dataprep, training version:2.23.2, current version:2.22.2\nPackage:azureml-dataprep-rslex, training version:1.21.2, current version:1.20.1\nPackage:azureml-dataset-runtime, training version:1.35.0, current version:1.34.0\nPackage:azureml-defaults, training version:1.35.0, current version:1.34.0\nPackage:azureml-interpret, training version:1.35.0, current version:1.34.0\nPackage:azureml-mlflow, training version:1.35.0, current version:1.34.0\nPackage:azureml-pipeline-core, training version:1.35.0, current version:1.34.0\nPackage:azureml-responsibleai, training version:1.35.0, current version:1.34.0\nPackage:azureml-telemetry, training version:1.35.0, current version:1.34.0\nPackage:azureml-train-automl-client, training version:1.35.0, current version:1.34.0\nPackage:azureml-train-automl-runtime, training version:1.35.0, current version:1.34.0\nPackage:azureml-train-core, training version:1.35.0, current version:1.34.0\nPackage:azureml-train-restclients-hyperdrive, training version:1.35.0, current version:1.34.0\nWARNING:root:Please ensure the version of your local conda dependencies match the version on which your model was trained in order to properly retrieve your model.\n"
        },
        {
          "output_type": "stream",
          "name": "stdout",
          "text": "********** Best AutoML accuracy: 0.9221452962587714\n********** printing Best AutoML run:\nRun(Experiment: experiment-capstone-automl,\nId: AutoML_0718fc0e-7a3e-43a4-8c96-5af1f09abcc4_3,\nType: azureml.scriptrun,\nStatus: Completed)\n\nPrinting model:\ndatatransformer\n{'enable_dnn': False,\n 'enable_feature_sweeping': True,\n 'feature_sweeping_config': {},\n 'feature_sweeping_timeout': 86400,\n 'featurization_config': None,\n 'force_text_dnn': False,\n 'is_cross_validation': True,\n 'is_onnx_compatible': False,\n 'observer': None,\n 'task': 'classification',\n 'working_dir': '/mnt/batch/tasks/shared/LS_root/mounts/clusters/nb-compute/code/Users/odl_user_162497'}\n\nprefittedsoftvotingclassifier\n{'estimators': ['1', '0', '2'], 'weights': [0.5, 0.25, 0.25]}\n\n1 - maxabsscaler\n{'copy': True}\n\n1 - xgboostclassifier\n{'base_score': 0.5,\n 'booster': 'gbtree',\n 'colsample_bylevel': 1,\n 'colsample_bynode': 1,\n 'colsample_bytree': 1,\n 'gamma': 0,\n 'learning_rate': 0.1,\n 'max_delta_step': 0,\n 'max_depth': 3,\n 'min_child_weight': 1,\n 'missing': nan,\n 'n_estimators': 100,\n 'n_jobs': -1,\n 'nthread': None,\n 'objective': 'binary:logistic',\n 'random_state': 0,\n 'reg_alpha': 0,\n 'reg_lambda': 1,\n 'scale_pos_weight': 1,\n 'seed': None,\n 'silent': None,\n 'subsample': 1,\n 'tree_method': 'auto',\n 'verbose': -10,\n 'verbosity': 0}\n\n0 - maxabsscaler\n{'copy': True}\n\n0 - lightgbmclassifier\n{'min_data_in_leaf': 20,\n 'n_jobs': -1,\n 'problem_info': ProblemInfo(\n    gpu_training_param_dict={'processing_unit_type': 'cpu'}\n),\n 'random_state': None}\n\n2 - maxabsscaler\n{'copy': True}\n\n2 - extratreesclassifier\n{'bootstrap': False,\n 'ccp_alpha': 0.0,\n 'class_weight': None,\n 'criterion': 'gini',\n 'max_depth': None,\n 'max_features': 0.7,\n 'max_leaf_nodes': None,\n 'max_samples': None,\n 'min_impurity_decrease': 0.0,\n 'min_impurity_split': None,\n 'min_samples_leaf': 0.035789473684210524,\n 'min_samples_split': 0.01,\n 'min_weight_fraction_leaf': 0.0,\n 'n_estimators': 10,\n 'n_jobs': -1,\n 'oob_score': False,\n 'random_state': None,\n 'verbose': 0,\n 'warm_start': False}\n\n"
        }
      ]
    },
    {
      "cell_type": "code",
      "metadata": {
        "jupyter": {
          "source_hidden": false,
          "outputs_hidden": false
        },
        "nteract": {
          "transient": {
            "deleting": false
          }
        },
        "gather": {
          "logged": 1635709060092
        },
        "id": "vm6pVYDewoKt",
        "outputId": "854fa371-ee54-4836-c72b-09d8810d9bd3"
      },
      "source": [
        "print(automl_run.get_metrics())"
      ],
      "execution_count": null,
      "outputs": [
        {
          "output_type": "stream",
          "name": "stdout",
          "text": "{'experiment_status': ['DatasetEvaluation', 'FeaturesGeneration', 'DatasetFeaturization', 'DatasetFeaturizationCompleted', 'DatasetCrossValidationSplit', 'ModelSelection'], 'experiment_status_description': ['Gathering dataset statistics.', 'Generating features for the dataset.', 'Beginning to fit featurizers and featurize the dataset.', 'Completed fit featurizers and featurizing the dataset.', 'Generating individually featurized CV splits.', 'Beginning model selection.'], 'recall_score_macro': 0.9119509538451279, 'recall_score_weighted': 0.9221452962587714, 'recall_score_micro': 0.9221452962587714, 'f1_score_weighted': 0.9217275504026229, 'average_precision_score_micro': 0.981537693096887, 'norm_macro_recall': 0.8239019076902556, 'accuracy': 0.9221452962587714, 'f1_score_macro': 0.915637499167174, 'weighted_accuracy': 0.9308928705514491, 'precision_score_macro': 0.9205222779170148, 'average_precision_score_weighted': 0.9809146381665507, 'log_loss': 0.18978280794867705, 'AUC_macro': 0.979203554935331, 'precision_score_micro': 0.9221452962587714, 'AUC_micro': 0.9808654364785667, 'AUC_weighted': 0.979203554935331, 'precision_score_weighted': 0.9223340383900324, 'f1_score_micro': 0.9221452962587714, 'matthews_correlation': 0.8323826002210106, 'balanced_accuracy': 0.9119509538451279, 'average_precision_score_macro': 0.9786207181741281}\n"
        }
      ]
    },
    {
      "cell_type": "code",
      "metadata": {
        "jupyter": {
          "source_hidden": false,
          "outputs_hidden": false
        },
        "nteract": {
          "transient": {
            "deleting": false
          }
        },
        "gather": {
          "logged": 1635709060321
        },
        "id": "GO9oXlW-NMY6"
      },
      "source": [
        "# Create the outputs directory\n",
        "if 'outputs' not in os.listdir():\n",
        "    os.mkdir('outputs')"
      ],
      "execution_count": null,
      "outputs": []
    },
    {
      "cell_type": "code",
      "metadata": {
        "gather": {
          "logged": 1635709060775
        },
        "jupyter": {
          "outputs_hidden": false,
          "source_hidden": false
        },
        "nteract": {
          "transient": {
            "deleting": false
          }
        },
        "id": "fNc1risDDIzP",
        "outputId": "d2ce0f1d-39ba-4068-f33c-29d7d24c444e"
      },
      "source": [
        "#TODO: Save the best model\n",
        "joblib.dump(automl_best_model, os.path.join('outputs','best_automl.pkl'))"
      ],
      "execution_count": null,
      "outputs": [
        {
          "output_type": "execute_result",
          "execution_count": 16,
          "data": {
            "text/plain": "['outputs/best_automl.pkl']"
          },
          "metadata": {}
        }
      ]
    },
    {
      "cell_type": "markdown",
      "metadata": {
        "id": "otKptwQ9DIzQ"
      },
      "source": [
        "## Model Deployment\n",
        "\n",
        "Remember you have to deploy only one of the two models you trained but you still need to register both the models. Perform the steps in the rest of this notebook only if you wish to deploy this model.\n",
        "\n",
        "TODO: In the cell below, register the model, create an inference config and deploy the model as a web service."
      ]
    },
    {
      "cell_type": "code",
      "metadata": {
        "jupyter": {
          "source_hidden": false,
          "outputs_hidden": false
        },
        "nteract": {
          "transient": {
            "deleting": false
          }
        },
        "gather": {
          "logged": 1635709061107
        },
        "id": "yI5F2zyXNMY9",
        "outputId": "b65dd417-b4a7-40fc-ca41-17d364a11124"
      },
      "source": [
        "# Refer - https://docs.microsoft.com/en-us/azure/machine-learning/how-to-deploy-and-where?tabs=python\n",
        "\n",
        "# Tutorial: Deploy an image classification model in Azure Container Instances -\n",
        "# https://docs.microsoft.com/en-us/azure/machine-learning/tutorial-deploy-models-with-aml\n",
        "\n",
        "# Register the model\n",
        "# registered_model = automl_run.register_model(model_name='wine-taste-automl', description=c_constants.DEPLOYED_AUTOML_MODEL_DESCRIPTION)\n",
        "registered_model = automl_best_run.register_model(model_path=constants.MODEL_PATH, \n",
        "                                                model_name='breast-cancer-automl', \n",
        "                                                description='Breast Cancer detection using Azure AutoML',\n",
        "                                                tags={'Method of execution':'AutoML'},\n",
        "                                                properties={'Accuracy':automl_best_run_metrics['accuracy']})\n",
        "print(f'{automl_run.model_id}')\n",
        "print(f'{registered_model.name}  {registered_model.id}  {registered_model.version}')\n"
      ],
      "execution_count": null,
      "outputs": [
        {
          "output_type": "stream",
          "name": "stdout",
          "text": "None\nbreast-cancer-automl  breast-cancer-automl:1  1\n"
        }
      ]
    },
    {
      "cell_type": "code",
      "metadata": {
        "id": "Zhf4ImWV83Gg",
        "gather": {
          "logged": 1635709061386
        }
      },
      "source": [
        "# download the scoring file and the environmrnt file\n",
        "\n",
        "automl_best_run.download_file(constants.SCORING_FILE_PATH, os.path.join('outputs', 'scoring.py'))\n",
        "automl_best_run.download_file(constants.CONDA_ENV_FILE_PATH, os.path.join('outputs', 'best_run_environment.yml'))"
      ],
      "execution_count": null,
      "outputs": []
    },
    {
      "cell_type": "code",
      "metadata": {
        "jupyter": {
          "source_hidden": false,
          "outputs_hidden": false
        },
        "nteract": {
          "transient": {
            "deleting": false
          }
        },
        "gather": {
          "logged": 1635709061693
        },
        "id": "t3QpRDuCNMZA"
      },
      "source": [
        "# Create an inference config\n",
        "\n",
        "inference_config = InferenceConfig(\n",
        "    environment=Environment.from_conda_specification(name='myenv', file_path=os.path.join('outputs', 'best_run_environment.yml')),\n",
        "    source_directory='outputs',\n",
        "    entry_script='scoring.py',\n",
        ")\n",
        "\n",
        "aci_config = AciWebservice.deploy_configuration(cpu_cores=1, memory_gb=1)\n"
      ],
      "execution_count": null,
      "outputs": []
    },
    {
      "cell_type": "code",
      "metadata": {
        "gather": {
          "logged": 1635710562374
        },
        "jupyter": {
          "outputs_hidden": false,
          "source_hidden": false
        },
        "nteract": {
          "transient": {
            "deleting": false
          }
        },
        "id": "Jnovv2OXDIzQ",
        "outputId": "3dc79e54-71f6-4ebf-e1f4-d61765a281cd"
      },
      "source": [
        "\n",
        "service = Model.deploy(workspace=ws,\n",
        "                       name='breast-cancer-service',\n",
        "                       models=[registered_model],\n",
        "                       inference_config=inference_config,\n",
        "                       deployment_config=aci_config,\n",
        "                       overwrite=True)\n",
        "service.wait_for_deployment(show_output=True)"
      ],
      "execution_count": null,
      "outputs": [
        {
          "output_type": "stream",
          "name": "stdout",
          "text": "Tips: You can try get_logs(): https://aka.ms/debugimage#dockerlog or local deployment: https://aka.ms/debugimage#debug-locally to debug if deployment takes longer than 10 minutes.\nRunning\n2021-10-31 19:38:14+00:00 Creating Container Registry if not exists..\n2021-10-31 19:48:15+00:00 Registering the environment.\n2021-10-31 19:48:16+00:00 Building image..\n2021-10-31 19:59:21+00:00 Generating deployment configuration..\n2021-10-31 19:59:23+00:00 Submitting deployment to compute..\n2021-10-31 19:59:28+00:00 Checking the status of deployment breast-cancer-service..\n2021-10-31 20:02:36+00:00 Checking the status of inference endpoint breast-cancer-service.\nSucceeded\nACI service creation operation finished, operation \"Succeeded\"\n"
        }
      ]
    },
    {
      "cell_type": "code",
      "metadata": {
        "jupyter": {
          "source_hidden": false,
          "outputs_hidden": false
        },
        "nteract": {
          "transient": {
            "deleting": false
          }
        },
        "gather": {
          "logged": 1635710562875
        },
        "id": "CN5yjDX1NMZB",
        "outputId": "85b12a5a-1a3b-441c-9b72-f375e40462c8"
      },
      "source": [
        "logs = service.get_logs()\n",
        "\n",
        "for line in logs.split('\\n'):\n",
        "    print(line)\n"
      ],
      "execution_count": null,
      "outputs": [
        {
          "output_type": "stream",
          "name": "stdout",
          "text": "2021-10-31T20:01:47,419255300+00:00 - iot-server/run \n2021-10-31T20:01:47,425648700+00:00 - gunicorn/run \nDynamic Python package installation is disabled.\nStarting HTTP server\n2021-10-31T20:01:47,445270800+00:00 - rsyslog/run \n2021-10-31T20:01:47,448327200+00:00 - nginx/run \nrsyslogd: /azureml-envs/azureml_50e1173ccd55f57fca3555fc5c69dc71/lib/libuuid.so.1: no version information available (required by rsyslogd)\nEdgeHubConnectionString and IOTEDGE_IOTHUBHOSTNAME are not set. Exiting...\n2021-10-31T20:01:47,763428400+00:00 - iot-server/finish 1 0\n2021-10-31T20:01:47,769369700+00:00 - Exit code 1 is normal. Not restarting iot-server.\nStarting gunicorn 20.1.0\nListening at: http://127.0.0.1:31311 (71)\nUsing worker: sync\nworker timeout is set to 300\nBooting worker with pid: 98\nSPARK_HOME not set. Skipping PySpark Initialization.\nGenerating new fontManager, this may take some time...\nInitializing logger\n2021-10-31 20:01:50,243 | root | INFO | Starting up app insights client\nlogging socket was found. logging is available.\nlogging socket was found. logging is available.\n2021-10-31 20:01:50,243 | root | INFO | Starting up request id generator\n2021-10-31 20:01:50,243 | root | INFO | Starting up app insight hooks\n2021-10-31 20:01:50,243 | root | INFO | Invoking user's init function\n2021-10-31 20:01:53,746 | azureml.core | WARNING | Failure while loading azureml_run_type_providers. Failed to load entrypoint hyperdrive = azureml.train.hyperdrive:HyperDriveRun._from_run_dto with exception (cryptography 35.0.0 (/azureml-envs/azureml_50e1173ccd55f57fca3555fc5c69dc71/lib/python3.6/site-packages), Requirement.parse('cryptography!=1.9,!=2.0.*,!=2.1.*,!=2.2.*,<4.0.0'), {'azureml-core'}).\nFailure while loading azureml_run_type_providers. Failed to load entrypoint hyperdrive = azureml.train.hyperdrive:HyperDriveRun._from_run_dto with exception (cryptography 35.0.0 (/azureml-envs/azureml_50e1173ccd55f57fca3555fc5c69dc71/lib/python3.6/site-packages), Requirement.parse('cryptography!=1.9,!=2.0.*,!=2.1.*,!=2.2.*,<4.0.0'), {'azureml-core'}).\n2021-10-31 20:01:53,798 | azureml.core | WARNING | Failure while loading azureml_run_type_providers. Failed to load entrypoint automl = azureml.train.automl.run:AutoMLRun._from_run_dto with exception (cryptography 35.0.0 (/azureml-envs/azureml_50e1173ccd55f57fca3555fc5c69dc71/lib/python3.6/site-packages), Requirement.parse('cryptography!=1.9,!=2.0.*,!=2.1.*,!=2.2.*,<4.0.0'), {'azureml-core'}).\nFailure while loading azureml_run_type_providers. Failed to load entrypoint automl = azureml.train.automl.run:AutoMLRun._from_run_dto with exception (cryptography 35.0.0 (/azureml-envs/azureml_50e1173ccd55f57fca3555fc5c69dc71/lib/python3.6/site-packages), Requirement.parse('cryptography!=1.9,!=2.0.*,!=2.1.*,!=2.2.*,<4.0.0'), {'azureml-core'}).\n2021-10-31 20:01:53,800 | azureml.core | WARNING | Failure while loading azureml_run_type_providers. Failed to load entrypoint azureml.scriptrun = azureml.core.script_run:ScriptRun._from_run_dto with exception (cryptography 35.0.0 (/azureml-envs/azureml_50e1173ccd55f57fca3555fc5c69dc71/lib/python3.6/site-packages), Requirement.parse('cryptography!=1.9,!=2.0.*,!=2.1.*,!=2.2.*,<4.0.0')).\nFailure while loading azureml_run_type_providers. Failed to load entrypoint azureml.scriptrun = azureml.core.script_run:ScriptRun._from_run_dto with exception (cryptography 35.0.0 (/azureml-envs/azureml_50e1173ccd55f57fca3555fc5c69dc71/lib/python3.6/site-packages), Requirement.parse('cryptography!=1.9,!=2.0.*,!=2.1.*,!=2.2.*,<4.0.0')).\n2021-10-31 20:01:53,965 | root | INFO | Users's init has completed successfully\n2021-10-31 20:01:53,969 | root | INFO | Skipping middleware: dbg_model_info as it's not enabled.\n2021-10-31 20:01:53,969 | root | INFO | Skipping middleware: dbg_resource_usage as it's not enabled.\nGenerating swagger file: /tmp/tmpwbuni8qv\n2021-10-31 20:01:53,975 | root | INFO | Scoring timeout is found from os.environ: 60000 ms\n2021-10-31 20:02:36,444 | root | INFO | 200\n127.0.0.1 - - [31/Oct/2021:20:02:36 +0000] \"GET /swagger.json HTTP/1.0\" 200 2511 \"-\" \"Go-http-client/1.1\"\n2021-10-31 20:02:42,084 | root | INFO | 200\n127.0.0.1 - - [31/Oct/2021:20:02:42 +0000] \"GET /swagger.json HTTP/1.0\" 200 2511 \"-\" \"Go-http-client/1.1\"\n\n"
        }
      ]
    },
    {
      "cell_type": "markdown",
      "metadata": {
        "collapsed": true,
        "gather": {
          "logged": 1598431657736
        },
        "jupyter": {
          "outputs_hidden": false,
          "source_hidden": false
        },
        "nteract": {
          "transient": {
            "deleting": false
          }
        },
        "id": "8KBf-4m2DIzR"
      },
      "source": [
        "TODO: In the cell below, send a request to the web service you deployed to test it."
      ]
    },
    {
      "cell_type": "code",
      "metadata": {
        "gather": {
          "logged": 1635710642788
        },
        "jupyter": {
          "outputs_hidden": false,
          "source_hidden": false
        },
        "nteract": {
          "transient": {
            "deleting": false
          }
        },
        "id": "dJNveHvSDIzR"
      },
      "source": [
        "# To enable ApplicationInsights on the service (webservice), \n",
        "# * first access the endpoint using the name assigned at the time of deployment\n",
        "# * next update webservice parameters such as enabling application insights (enable_app_insights)\n",
        "\n",
        "webservice = Webservice(\n",
        "    workspace = ws,\n",
        "    name='breast-cancer-service'\n",
        ")\n",
        "\n",
        "webservice.update(\n",
        "    enable_app_insights=True\n",
        ")\n",
        "\n",
        "# At this point application insights (logging is enabled) and can be\n",
        "# checked in the GUI in AutoML studio"
      ],
      "execution_count": null,
      "outputs": []
    },
    {
      "cell_type": "code",
      "metadata": {
        "id": "la5hi2gjwGg9",
        "gather": {
          "logged": 1635710665835
        }
      },
      "source": [
        "# URL for the web service, should be similar to:\n",
        "# 'http://8530a665-66f3-49c8-a953-b82a2d312917.eastus.azurecontainer.io/score'\n",
        "\n",
        "# From the tail end of the code at\n",
        "# https://docs.microsoft.com/en-us/azure/machine-learning/how-to-deploy-and-where?tabs=python\n",
        "# - Deploy machine learning models to Azure\n",
        "\n",
        "scoring_uri = webservice.scoring_uri\n",
        "\n",
        "# If the service is authenticated, set the key or token\n",
        "# key, _ = webservice.get_keys()\n",
        "\n",
        "# Set the appropriate headers\n",
        "headers = {\"Content-Type\": \"application/json\"}\n",
        "# headers[\"Authorization\"] = f\"Bearer {key}\"\n"
      ],
      "execution_count": null,
      "outputs": []
    },
    {
      "cell_type": "code",
      "metadata": {
        "jupyter": {
          "source_hidden": false,
          "outputs_hidden": false
        },
        "nteract": {
          "transient": {
            "deleting": false
          }
        },
        "gather": {
          "logged": 1635710667153
        },
        "id": "-r5Tv1V7qhHT"
      },
      "source": [
        "predict_data = predict_ds.to_pandas_dataframe()\n",
        "predict_label = predict_data.pop('diagnosis')"
      ],
      "execution_count": null,
      "outputs": []
    },
    {
      "cell_type": "code",
      "metadata": {
        "jupyter": {
          "source_hidden": false,
          "outputs_hidden": false
        },
        "nteract": {
          "transient": {
            "deleting": false
          }
        },
        "gather": {
          "logged": 1635710667586
        },
        "id": "cHyFy-0sqhHT",
        "outputId": "413bcd8b-d9b1-4b74-e2ac-64c9a8accc6d"
      },
      "source": [
        "# Convert to JSON string\n",
        "score_data = json.dumps({'data': predict_data.to_dict(orient='records')})\n",
        "\n",
        "score_data"
      ],
      "execution_count": null,
      "outputs": [
        {
          "output_type": "execute_result",
          "execution_count": 26,
          "data": {
            "text/plain": "'{\"data\": [{\"mean_radius\": 9.504, \"mean_texture\": 12.44, \"mean_perimeter\": 60.34, \"mean_area\": 273.9, \"mean_smoothness\": 0.1024}, {\"mean_radius\": 15.37, \"mean_texture\": 22.76, \"mean_perimeter\": 100.2, \"mean_area\": 728.2, \"mean_smoothness\": 0.092}, {\"mean_radius\": 21.09, \"mean_texture\": 26.57, \"mean_perimeter\": 142.7, \"mean_area\": 1311.0, \"mean_smoothness\": 0.1141}, {\"mean_radius\": 11.04, \"mean_texture\": 14.93, \"mean_perimeter\": 70.67, \"mean_area\": 372.7, \"mean_smoothness\": 0.07987}]}'"
          },
          "metadata": {}
        }
      ]
    },
    {
      "cell_type": "code",
      "metadata": {
        "jupyter": {
          "source_hidden": false,
          "outputs_hidden": false
        },
        "nteract": {
          "transient": {
            "deleting": false
          }
        },
        "gather": {
          "logged": 1635711085279
        },
        "id": "1Yq2NyaDqhHU",
        "outputId": "89cfe380-21ac-42a5-cee8-292e411995db"
      },
      "source": [
        "# Set the content type\n",
        "headers = {'Content-Type': 'application/json'}\n",
        "# If authentication is enabled, set the authorization header\n",
        "# headers['Authorization'] = f'Bearer {key}'\n",
        "\n",
        "# Make the request and display the predictions\n",
        "resp = requests.post(scoring_uri, score_data, headers=headers)\n",
        "print(f'{resp.json()}')\n",
        "\n",
        "# Print the actual diagnosis\n",
        "print(f'{json.dumps({\"labels\": predict_label.tolist()})}')"
      ],
      "execution_count": null,
      "outputs": [
        {
          "output_type": "stream",
          "name": "stdout",
          "text": "{\"result\": [1, 0, 0, 1]}\n{\"labels\": [1, 0, 0, 1]}\n"
        }
      ]
    },
    {
      "cell_type": "markdown",
      "metadata": {
        "collapsed": true,
        "gather": {
          "logged": 1598432765711
        },
        "jupyter": {
          "outputs_hidden": false,
          "source_hidden": false
        },
        "nteract": {
          "transient": {
            "deleting": false
          }
        },
        "id": "QkENqomcDIzR"
      },
      "source": [
        "TODO: In the cell below, print the logs of the web service and delete the service"
      ]
    },
    {
      "cell_type": "code",
      "metadata": {
        "jupyter": {
          "outputs_hidden": false,
          "source_hidden": false
        },
        "nteract": {
          "transient": {
            "deleting": false
          }
        },
        "id": "1trRJIbbDIzS",
        "gather": {
          "logged": 1635710668205
        },
        "outputId": "af89da4a-a317-40b8-ecb0-5a95ab97bf8a"
      },
      "source": [
        "logs = webservice.get_logs()\n",
        "\n",
        "for line in logs.split('\\n'):\n",
        "    print(line)\n",
        "\n"
      ],
      "execution_count": null,
      "outputs": [
        {
          "output_type": "stream",
          "name": "stdout",
          "text": "2021-10-31T20:01:47,419255300+00:00 - iot-server/run \n2021-10-31T20:01:47,425648700+00:00 - gunicorn/run \nDynamic Python package installation is disabled.\nStarting HTTP server\n2021-10-31T20:01:47,445270800+00:00 - rsyslog/run \n2021-10-31T20:01:47,448327200+00:00 - nginx/run \nrsyslogd: /azureml-envs/azureml_50e1173ccd55f57fca3555fc5c69dc71/lib/libuuid.so.1: no version information available (required by rsyslogd)\nEdgeHubConnectionString and IOTEDGE_IOTHUBHOSTNAME are not set. Exiting...\n2021-10-31T20:01:47,763428400+00:00 - iot-server/finish 1 0\n2021-10-31T20:01:47,769369700+00:00 - Exit code 1 is normal. Not restarting iot-server.\nStarting gunicorn 20.1.0\nListening at: http://127.0.0.1:31311 (71)\nUsing worker: sync\nworker timeout is set to 300\nBooting worker with pid: 98\nSPARK_HOME not set. Skipping PySpark Initialization.\nGenerating new fontManager, this may take some time...\nInitializing logger\n2021-10-31 20:01:50,243 | root | INFO | Starting up app insights client\nlogging socket was found. logging is available.\nlogging socket was found. logging is available.\n2021-10-31 20:01:50,243 | root | INFO | Starting up request id generator\n2021-10-31 20:01:50,243 | root | INFO | Starting up app insight hooks\n2021-10-31 20:01:50,243 | root | INFO | Invoking user's init function\n2021-10-31 20:01:53,746 | azureml.core | WARNING | Failure while loading azureml_run_type_providers. Failed to load entrypoint hyperdrive = azureml.train.hyperdrive:HyperDriveRun._from_run_dto with exception (cryptography 35.0.0 (/azureml-envs/azureml_50e1173ccd55f57fca3555fc5c69dc71/lib/python3.6/site-packages), Requirement.parse('cryptography!=1.9,!=2.0.*,!=2.1.*,!=2.2.*,<4.0.0'), {'azureml-core'}).\nFailure while loading azureml_run_type_providers. Failed to load entrypoint hyperdrive = azureml.train.hyperdrive:HyperDriveRun._from_run_dto with exception (cryptography 35.0.0 (/azureml-envs/azureml_50e1173ccd55f57fca3555fc5c69dc71/lib/python3.6/site-packages), Requirement.parse('cryptography!=1.9,!=2.0.*,!=2.1.*,!=2.2.*,<4.0.0'), {'azureml-core'}).\n2021-10-31 20:01:53,798 | azureml.core | WARNING | Failure while loading azureml_run_type_providers. Failed to load entrypoint automl = azureml.train.automl.run:AutoMLRun._from_run_dto with exception (cryptography 35.0.0 (/azureml-envs/azureml_50e1173ccd55f57fca3555fc5c69dc71/lib/python3.6/site-packages), Requirement.parse('cryptography!=1.9,!=2.0.*,!=2.1.*,!=2.2.*,<4.0.0'), {'azureml-core'}).\nFailure while loading azureml_run_type_providers. Failed to load entrypoint automl = azureml.train.automl.run:AutoMLRun._from_run_dto with exception (cryptography 35.0.0 (/azureml-envs/azureml_50e1173ccd55f57fca3555fc5c69dc71/lib/python3.6/site-packages), Requirement.parse('cryptography!=1.9,!=2.0.*,!=2.1.*,!=2.2.*,<4.0.0'), {'azureml-core'}).\n2021-10-31 20:01:53,800 | azureml.core | WARNING | Failure while loading azureml_run_type_providers. Failed to load entrypoint azureml.scriptrun = azureml.core.script_run:ScriptRun._from_run_dto with exception (cryptography 35.0.0 (/azureml-envs/azureml_50e1173ccd55f57fca3555fc5c69dc71/lib/python3.6/site-packages), Requirement.parse('cryptography!=1.9,!=2.0.*,!=2.1.*,!=2.2.*,<4.0.0')).\nFailure while loading azureml_run_type_providers. Failed to load entrypoint azureml.scriptrun = azureml.core.script_run:ScriptRun._from_run_dto with exception (cryptography 35.0.0 (/azureml-envs/azureml_50e1173ccd55f57fca3555fc5c69dc71/lib/python3.6/site-packages), Requirement.parse('cryptography!=1.9,!=2.0.*,!=2.1.*,!=2.2.*,<4.0.0')).\n2021-10-31 20:01:53,965 | root | INFO | Users's init has completed successfully\n2021-10-31 20:01:53,969 | root | INFO | Skipping middleware: dbg_model_info as it's not enabled.\n2021-10-31 20:01:53,969 | root | INFO | Skipping middleware: dbg_resource_usage as it's not enabled.\nGenerating swagger file: /tmp/tmpwbuni8qv\n2021-10-31 20:01:53,975 | root | INFO | Scoring timeout is found from os.environ: 60000 ms\n2021-10-31 20:02:36,444 | root | INFO | 200\n127.0.0.1 - - [31/Oct/2021:20:02:36 +0000] \"GET /swagger.json HTTP/1.0\" 200 2511 \"-\" \"Go-http-client/1.1\"\n2021-10-31 20:02:42,084 | root | INFO | 200\n127.0.0.1 - - [31/Oct/2021:20:02:42 +0000] \"GET /swagger.json HTTP/1.0\" 200 2511 \"-\" \"Go-http-client/1.1\"\n2021-10-31 20:04:01,399 | root | INFO | 200\n127.0.0.1 - - [31/Oct/2021:20:04:01 +0000] \"GET /swagger.json HTTP/1.0\" 200 2511 \"-\" \"Go-http-client/1.1\"\n2021-10-31 20:04:02,494 | root | INFO | 200\n127.0.0.1 - - [31/Oct/2021:20:04:02 +0000] \"GET /swagger.json HTTP/1.0\" 200 2511 \"-\" \"Go-http-client/1.1\"\n2021-10-31 20:04:26,979 | root | INFO | Validation Request Content-Type\n2021-10-31 20:04:26,980 | root | INFO | Scoring Timer is set to 60.0 seconds\n2021-10-31 20:04:27,150 | root | INFO | 200\n127.0.0.1 - - [31/Oct/2021:20:04:27 +0000] \"POST /score HTTP/1.0\" 200 28 \"-\" \"python-requests/2.26.0\"\n\n"
        }
      ]
    },
    {
      "cell_type": "code",
      "metadata": {
        "id": "PhRicHU1gkEM",
        "gather": {
          "logged": 1635669503357
        },
        "outputId": "de822b19-0a8c-460f-f3d3-bfd8545bf83c"
      },
      "source": [
        "# Clean up any resources\n",
        "# Delete the Webservice\n",
        "# delete the compute cluster\n",
        "\n",
        "webservice.delete()\n",
        "cc.delete()"
      ],
      "execution_count": null,
      "outputs": [
        {
          "output_type": "error",
          "ename": "WebserviceException",
          "evalue": "WebserviceException:\n\tMessage: There is a deployment operation in flight for the Service: breast-cancer-service\n\tInnerException None\n\tErrorResponse \n{\n    \"error\": {\n        \"message\": \"There is a deployment operation in flight for the Service: breast-cancer-service\"\n    }\n}",
          "traceback": [
            "\u001b[0;31m---------------------------------------------------------------------------\u001b[0m",
            "\u001b[0;31mWebserviceException\u001b[0m                       Traceback (most recent call last)",
            "\u001b[0;32m<ipython-input-29-81055d4a5665>\u001b[0m in \u001b[0;36m<module>\u001b[0;34m\u001b[0m\n\u001b[1;32m      3\u001b[0m \u001b[0;31m# delete the compute cluster\u001b[0m\u001b[0;34m\u001b[0m\u001b[0;34m\u001b[0m\u001b[0;34m\u001b[0m\u001b[0m\n\u001b[1;32m      4\u001b[0m \u001b[0;34m\u001b[0m\u001b[0m\n\u001b[0;32m----> 5\u001b[0;31m \u001b[0mwebservice\u001b[0m\u001b[0;34m.\u001b[0m\u001b[0mdelete\u001b[0m\u001b[0;34m(\u001b[0m\u001b[0;34m)\u001b[0m\u001b[0;34m\u001b[0m\u001b[0;34m\u001b[0m\u001b[0m\n\u001b[0m\u001b[1;32m      6\u001b[0m \u001b[0mcc\u001b[0m\u001b[0;34m.\u001b[0m\u001b[0mdelete\u001b[0m\u001b[0;34m(\u001b[0m\u001b[0;34m)\u001b[0m\u001b[0;34m\u001b[0m\u001b[0;34m\u001b[0m\u001b[0m\n",
            "\u001b[0;32m/anaconda/envs/azureml_py36/lib/python3.6/site-packages/azureml/core/webservice/webservice.py\u001b[0m in \u001b[0;36mdelete\u001b[0;34m(self)\u001b[0m\n\u001b[1;32m   1419\u001b[0m         \"\"\"\n\u001b[1;32m   1420\u001b[0m         Webservice._check_for_webservice(self.workspace, self.name, self.compute_type,\n\u001b[0;32m-> 1421\u001b[0;31m                                          None, SERVICE_REQUEST_OPERATION_DELETE)\n\u001b[0m\u001b[1;32m   1422\u001b[0m \u001b[0;34m\u001b[0m\u001b[0m\n\u001b[1;32m   1423\u001b[0m         \u001b[0mheaders\u001b[0m \u001b[0;34m=\u001b[0m \u001b[0mself\u001b[0m\u001b[0;34m.\u001b[0m\u001b[0m_auth\u001b[0m\u001b[0;34m.\u001b[0m\u001b[0mget_authentication_header\u001b[0m\u001b[0;34m(\u001b[0m\u001b[0;34m)\u001b[0m\u001b[0;34m\u001b[0m\u001b[0;34m\u001b[0m\u001b[0m\n",
            "\u001b[0;32m/anaconda/envs/azureml_py36/lib/python3.6/site-packages/azureml/core/webservice/webservice.py\u001b[0m in \u001b[0;36m_check_for_webservice\u001b[0;34m(workspace, name, compute_type, payload, action, request_func, check_func)\u001b[0m\n\u001b[1;32m    743\u001b[0m                 \u001b[0;32mreturn\u001b[0m \u001b[0mWebservice\u001b[0m\u001b[0;34m.\u001b[0m\u001b[0m_check_validate_error\u001b[0m\u001b[0;34m(\u001b[0m\u001b[0mcontent\u001b[0m\u001b[0;34m)\u001b[0m\u001b[0;34m\u001b[0m\u001b[0;34m\u001b[0m\u001b[0m\n\u001b[1;32m    744\u001b[0m \u001b[0;34m\u001b[0m\u001b[0m\n\u001b[0;32m--> 745\u001b[0;31m         \u001b[0mWebservice\u001b[0m\u001b[0;34m.\u001b[0m\u001b[0m_run_validate_framework\u001b[0m\u001b[0;34m(\u001b[0m\u001b[0mrequest_func\u001b[0m\u001b[0;34m,\u001b[0m \u001b[0mcheck_func\u001b[0m\u001b[0;34m)\u001b[0m\u001b[0;34m\u001b[0m\u001b[0;34m\u001b[0m\u001b[0m\n\u001b[0m\u001b[1;32m    746\u001b[0m \u001b[0;34m\u001b[0m\u001b[0m\n\u001b[1;32m    747\u001b[0m     \u001b[0;34m@\u001b[0m\u001b[0mstaticmethod\u001b[0m\u001b[0;34m\u001b[0m\u001b[0;34m\u001b[0m\u001b[0m\n",
            "\u001b[0;32m/anaconda/envs/azureml_py36/lib/python3.6/site-packages/azureml/core/webservice/webservice.py\u001b[0m in \u001b[0;36m_run_validate_framework\u001b[0;34m(request_func, check_func)\u001b[0m\n\u001b[1;32m    637\u001b[0m             \u001b[0;32mreturn\u001b[0m\u001b[0;34m\u001b[0m\u001b[0;34m\u001b[0m\u001b[0m\n\u001b[1;32m    638\u001b[0m \u001b[0;34m\u001b[0m\u001b[0m\n\u001b[0;32m--> 639\u001b[0;31m         \u001b[0;32mraise\u001b[0m \u001b[0mWebserviceException\u001b[0m\u001b[0;34m(\u001b[0m\u001b[0merror\u001b[0m\u001b[0;34m)\u001b[0m\u001b[0;34m\u001b[0m\u001b[0;34m\u001b[0m\u001b[0m\n\u001b[0m\u001b[1;32m    640\u001b[0m \u001b[0;34m\u001b[0m\u001b[0m\n\u001b[1;32m    641\u001b[0m     \u001b[0;34m@\u001b[0m\u001b[0mstaticmethod\u001b[0m\u001b[0;34m\u001b[0m\u001b[0;34m\u001b[0m\u001b[0m\n",
            "\u001b[0;31mWebserviceException\u001b[0m: WebserviceException:\n\tMessage: There is a deployment operation in flight for the Service: breast-cancer-service\n\tInnerException None\n\tErrorResponse \n{\n    \"error\": {\n        \"message\": \"There is a deployment operation in flight for the Service: breast-cancer-service\"\n    }\n}"
          ]
        }
      ]
    },
    {
      "cell_type": "markdown",
      "metadata": {
        "id": "MLk4oZDIDIzS"
      },
      "source": [
        "**Submission Checklist**\n",
        "- I have registered the model.\n",
        "- I have deployed the model with the best accuracy as a webservice.\n",
        "- I have tested the webservice by sending a request to the model endpoint.\n",
        "- I have deleted the webservice and shutdown all the computes that I have used.\n",
        "- I have taken a screenshot showing the model endpoint as active.\n",
        "- The project includes a file containing the environment details.\n"
      ]
    },
    {
      "cell_type": "markdown",
      "metadata": {
        "id": "UqcD2kWygoY1"
      },
      "source": [
        ""
      ]
    },
    {
      "cell_type": "markdown",
      "metadata": {
        "id": "KaRTmB9VDIzT"
      },
      "source": [
        ""
      ]
    }
  ]
}