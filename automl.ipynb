{
  "nbformat": 4,
  "nbformat_minor": 0,
  "metadata": {
    "kernel_info": {
      "name": "python3"
    },
    "kernelspec": {
      "name": "python3",
      "language": "python",
      "display_name": "Python 3"
    },
    "language_info": {
      "name": "python",
      "version": "3.6.9",
      "mimetype": "text/x-python",
      "codemirror_mode": {
        "name": "ipython",
        "version": 3
      },
      "pygments_lexer": "ipython3",
      "nbconvert_exporter": "python",
      "file_extension": ".py"
    },
    "nteract": {
      "version": "nteract-front-end@1.0.0"
    },
    "colab": {
      "name": "Copy of automl.ipynb",
      "provenance": []
    },
    "microsoft": {
      "host": {
        "AzureML": {
          "notebookHasBeenCompleted": true
        }
      }
    }
  },
  "cells": [
    {
      "cell_type": "markdown",
      "metadata": {
        "id": "dIFBchG8DIzE"
      },
      "source": [
        "# Automated ML\n",
        "\n",
        "TODO: Import Dependencies. In the cell below, import all the dependencies that you will need to complete the project."
      ]
    },
    {
      "cell_type": "markdown",
      "metadata": {
        "id": "ZrM_0OmdCtYp"
      },
      "source": [
        "[Wine Quality Data Set](https://archive.ics.uci.edu/ml/datasets/Wine+Quality)"
      ]
    },
    {
      "cell_type": "code",
      "metadata": {
        "gather": {
          "logged": 1634518402831
        },
        "jupyter": {
          "outputs_hidden": false,
          "source_hidden": false
        },
        "nteract": {
          "transient": {
            "deleting": false
          }
        },
        "id": "T1gyC_4iDIzI"
      },
      "source": [
        "from azureml.core.workspace import Workspace\n",
        "from azureml.core.datastore import Datastore\n",
        "from azureml.core.compute import ComputeTarget\n",
        "from azureml.core.compute.amlcompute import AmlCompute\n",
        "from azureml.exceptions import ComputeTargetException\n",
        "from azureml.core.experiment import Experiment\n",
        "from azureml.core.run import Run\n",
        "from azureml.core.dataset import Dataset\n",
        "\n",
        "from azureml.core import Environment\n",
        "from azureml.core.model import InferenceConfig\n",
        "from azureml.core.webservice import AciWebservice\n",
        "\n",
        "\n",
        "from azureml.core.webservice import Webservice\n",
        "from azureml.core.authentication import InteractiveLoginAuthentication\n",
        "\n",
        "import pandas as pd\n",
        "\n",
        "from azureml.pipeline.core.pipeline import Pipeline\n",
        "from azureml.pipeline.core import PipelineData\n",
        "from azureml.pipeline.core import TrainingOutput\n",
        "from azureml.pipeline.core.run import PipelineRun\n",
        "from azureml.pipeline.steps.automl_step import AutoMLStep\n",
        "\n",
        "from azureml.train.automl.automlconfig import AutoMLConfig\n",
        "from azureml.data import TabularDataset\n",
        "from azureml.widgets.run_details import RunDetails\n",
        "\n",
        "import json\n",
        "import pickle\n",
        "import requests\n",
        "\n",
        "from pprint import pprint\n",
        "\n",
        "import logging\n",
        "import joblib"
      ],
      "execution_count": null,
      "outputs": []
    },
    {
      "cell_type": "code",
      "metadata": {
        "id": "W17Lc6bYDaPo",
        "gather": {
          "logged": 1634521570260
        }
      },
      "source": [
        "CAPSTONE_FOLDER = 'capstone-ml'\n",
        "CAPSTONE_DEBUG_LOG = 'capstone-ml.log'\n",
        "CAPSTONE_LABEL_COLUMN_NAME = 'quality'\n",
        "\n",
        "CAPSTONE_AUTOMLSTEP_NAME = 'AutoML Training Step'\n",
        "\n",
        "CAPSTONE_EXPERIMENT_NAME_AUTOML = 'exp-capstone-automl'\n",
        "CAPSTONE_EXPERIMENT_NAME_STEP7 = 'exp-capstone-step7'\n",
        "CAPSTONE_TABULAR_WINE_DATA = 'https://archive.ics.uci.edu/ml/machine-learning-databases/wine-quality/winequality-white.csv'\n",
        "CAPSTONE_DATASET_NAME = 'White Wine Data'\n",
        "CAPSTONE_DATASET_DESCRIPTION = 'Wine data - does the wine taste good?'\n",
        "\n",
        "CAPSTONE_DEPLOYED_MODEL_NAME = 'wine-taste-automl'\n",
        "CAPSTONE_DEPLOYED_MODEL_PATH = './outputs/best_automl.pkl'\n",
        "CAPSTONE_MODEL_DESCRIPTION = 'AutoML Registered Model'\n",
        "CAPSTONE_SOURCE_DIRECTORY = './source_dir'\n",
        "CAPSTONE_SCORING_SCRIPT = 'score.py'\n",
        "\n",
        "CAPSTONE_PIPELINEDATA_METRICS_NAME = 'PipelineData_Metrics' \n",
        "CAPSTONE_PIPELINEDATA_MODEL_NAME = 'PipelineData_Model' \n",
        "CAPSTONE_PIPELINE_OUTPUT_METRICS_NAME = 'Pipeline Metrics Output' \n",
        "CAPSTONE_PIPELINE_OUTPUT_MODEL_NAME = 'Pipeline Model Output' \n",
        "CAPSTONE_PIPELINE_DESCRIPTION = 'AutoML Pipeline to train model on the wine data'\n",
        "CAPSTONE_EXPERIMENT_NAME = 'AutoML Train Wine Data Experiment'\n",
        "CAPSTONE_ENV_SERVICE = 'capstone-env-service'\n",
        "\n",
        "CAPSTONE_PUBLISHED_PIPELINE_NAME = 'Wine Data Training Pipeline'\n",
        "CAPSTONE_PUBLISHED_PIPELINE_DESCRIPTION = 'This pipeline trains on the Wine Data'\n",
        "CAPSTONE_PUBLISHED_PIPELINE_VERSION='1.0'\n",
        "\n",
        "CAPSTONE_CONSUME_PIPELINE_ENDPOINT_EXPERIMENT = 'exp-run-pipeline' #\n",
        "\n",
        "CC_AUTOML = \"CPU-CC-AUTOML\"  # CPU Compute Cluster for AUTOML\n",
        "CURATED_ENV_NAME = 'AzureML-Tutorial'\n",
        "\n",
        "TRAIN_DATA_DIR = 'train_norm_data'\n",
        "TRAIN_DATA_FILE = 'train_norm.csv'\n",
        "TRAIN_NORM_INFO_FILE = 'norm.csv'\n",
        "\n",
        "\n",
        "# constants for HyperML\n",
        "\n",
        "CAPSTONE_EXPERIMENT_NAME_HYPER = 'exp-capstone-hyper'\n",
        "CAPSTONE_DEPLOYED_HYPER_MODEL_NAME = 'wine-taste-hyper'\n",
        "CAPSTONE_DEPLOYED_HYPER_MODEL_PATH = 'outputs/best_run_hyperdrive.pkl' \n",
        "\n",
        "CC_HYPERML = \"CPU-CC-HyperML\"  # CPU Compute Cluster for HYPERML"
      ],
      "execution_count": null,
      "outputs": []
    },
    {
      "cell_type": "markdown",
      "metadata": {
        "id": "nXX3ww9_DIzJ"
      },
      "source": [
        "## Dataset\n",
        "\n",
        "### Overview\n",
        "This machine learning program detects the wine quality of white wine.\n",
        "The task is to determine if the wine is tasty or not.\n",
        "\n",
        "\n",
        "TODO: Get data. In the cell below, write code to access the data you will be using in this project. Remember that the dataset needs to be external."
      ]
    },
    {
      "cell_type": "code",
      "metadata": {
        "gather": {
          "logged": 1634508375799
        },
        "jupyter": {
          "outputs_hidden": false,
          "source_hidden": false
        },
        "nteract": {
          "transient": {
            "deleting": false
          }
        },
        "id": "axbCq54eDIzK"
      },
      "source": [
        "ws = Workspace.from_config()\n",
        "\n",
        "# choose a name for experiment\n",
        "experiment_name = CAPSTONE_EXPERIMENT_NAME_AUTOML\n",
        "\n",
        "experiment=Experiment(ws, experiment_name)"
      ],
      "execution_count": null,
      "outputs": []
    },
    {
      "cell_type": "code",
      "metadata": {
        "id": "SCvxfM_3ElcZ",
        "gather": {
          "logged": 1634508531465
        },
        "outputId": "f4c3ad7a-373d-4421-85ea-ef2c869aa6f0"
      },
      "source": [
        "# Next, let's use if it exists, or create if required, a compute cluster to be used by the ML\n",
        "\n",
        "# Access the compute cluster. If it exists, we will have the compute object. \n",
        "# If it does not exist, an exception will be thrown upon which the compute cluster is created\n",
        "try:\n",
        "    cc = ComputeTarget(workspace=ws, name=CC_AUTOML)\n",
        "    print(f'Compute Cluster target exists and we have a handle to the same')\n",
        "except ComputeTargetException:\n",
        "    # Failed to obtain the compute cluster object\n",
        "    # In all likelihood, a compute cluster of that name has not been created\n",
        "    # Attempt to create the compute cluster\n",
        "    # First set up the configuration\n",
        "\n",
        "    # Specify the configuration of the compute cluster\n",
        "    cc_cfg = AmlCompute.provisioning_configuration(vm_size='Standard_DS12_v2', min_nodes=1, max_nodes=6)\n",
        "    cc = ComputeTarget.create(workspace=ws, name=CC_AUTOML, provisioning_configuration=cc_cfg)\n",
        "\n",
        "# At this point - we have access to the compute cluster object. Wait for the compute target to complete provisioing\n",
        "cc.wait_for_completion(show_output='True')"
      ],
      "execution_count": null,
      "outputs": [
        {
          "output_type": "stream",
          "name": "stdout",
          "text": "InProgress....\nSucceededProvisioning operation finished, operation \"Succeeded\"\nSucceeded......................\nAmlCompute wait for completion finished\n\nMinimum number of nodes requested have been provisioned\n"
        }
      ]
    },
    {
      "cell_type": "code",
      "metadata": {
        "jupyter": {
          "source_hidden": false,
          "outputs_hidden": false
        },
        "nteract": {
          "transient": {
            "deleting": false
          }
        },
        "gather": {
          "logged": 1634514087751
        },
        "id": "O9Wm6UXxwoKn",
        "outputId": "cbe40bd8-1296-4026-9df2-b83c6b716c2b"
      },
      "source": [
        "dsets"
      ],
      "execution_count": null,
      "outputs": [
        {
          "output_type": "execute_result",
          "execution_count": 8,
          "data": {
            "text/plain": "KeysView({'White Wine Data': DatasetRegistration(id='c7751451-9733-4eba-baaa-cef06b1f2e62', name='White Wine Data', version=1, description='Wine data - does the wine taste good?', tags={})})"
          },
          "metadata": {}
        }
      ]
    },
    {
      "cell_type": "code",
      "metadata": {
        "id": "ifhLxyqqFCtQ",
        "gather": {
          "logged": 1634515847108
        },
        "outputId": "d93174eb-bcd7-4ba2-9603-48fab34aae78"
      },
      "source": [
        "# grab the data and create a dataset\n",
        "# See if the dataset already exists - if so, skip the Dataset creation pieces\n",
        "data_uri = CAPSTONE_TABULAR_WINE_DATA\n",
        "\n",
        "ds_name = CAPSTONE_DATASET_NAME\n",
        "dsets = ws.datasets.keys()\n",
        "\n",
        "if ds_name in dsets:\n",
        "    # dataset exists\n",
        "    proj_ds = ws.datasets[ds_name]\n",
        "else:\n",
        "    print(f'STOP!!!!')\n",
        "    # Data set not found. Must create it\n",
        "    proj_ds = Dataset.Tabular.from_delimited_files(data_uri)\n",
        "    # Register the dataset so that on repeated runs, the data does not have to be fetched evey time\n",
        "    proj_ds = proj_ds.register(workspace=ws, name=ds_name, description=CAPSTONE_DATASET_DESCRIPTION)\n",
        "\n",
        "# Take a peek at the data by converting the same to a Pandas dataframe\n",
        "proj_df = proj_ds.to_pandas_dataframe()\n",
        "\n",
        "# print the data\n",
        "proj_df"
      ],
      "execution_count": null,
      "outputs": [
        {
          "output_type": "execute_result",
          "execution_count": 10,
          "data": {
            "text/plain": "      fixed acidity  volatile acidity  citric acid  residual sugar  chlorides  \\\n0          2.186612          0.315085     3.270609        1.569104  -0.081122   \n1         -0.538932         -0.478608    -0.034635       -1.033390  -0.081122   \n2          1.357099          0.513509     0.130627        0.711464  -0.493060   \n3         -1.842453          1.902473    -1.935150       -1.003816  -0.447289   \n4         -0.301928         -0.180973     1.865881        1.776120   0.330815   \n...             ...               ...          ...             ...        ...   \n3913       0.764589          1.406414    -1.191470        0.100272  -0.218435   \n3914       1.475600         -1.569937     0.378521       -1.082680  -0.538831   \n3915       2.068110          0.910356     3.022716        1.135355  -0.309976   \n3916      -1.486947          0.414297    -0.034635        0.198851  -0.401518   \n3917      -0.064924          1.108779     0.047996        0.198851  -1.179623   \n\n      free sulfur dioxide  total sulfur dioxide   density        pH  \\\n0               -0.488506              1.238629  2.040392 -1.511694   \n1               -1.164692              1.862187 -0.677847  0.938628   \n2               -0.782500             -0.714401  0.181424 -0.452095   \n3               -1.429287             -1.514437 -1.072376  1.932001   \n4               -0.194512              0.062105  1.361668 -0.518320   \n...                   ...                   ...       ...       ...   \n3913             1.569454              0.273879  0.351941  0.276379   \n3914             0.040684             -1.232072 -1.259610 -2.571292   \n3915            -0.841299              0.462123  1.428538 -1.246794   \n3916            -0.606103             -1.020297 -0.450491  0.408829   \n3917             0.158281             -0.126139 -0.637725 -0.054746   \n\n      sulphates   alcohol  quality  \n0      3.418622 -1.474270        0  \n1     -0.436771  0.394706        0  \n2     -1.137752  0.882265        0  \n3      0.439455  0.557225        0  \n4      0.001342 -0.986711        0  \n...         ...       ...      ...  \n3913  -1.050129 -0.417892        0  \n3914   0.527077  1.207304        0  \n3915   2.104284 -0.986711        0  \n3916   0.001342  0.475966        0  \n3917  -0.436771  1.207304        1  \n\n[3918 rows x 12 columns]",
            "text/html": "<div>\n<style scoped>\n    .dataframe tbody tr th:only-of-type {\n        vertical-align: middle;\n    }\n\n    .dataframe tbody tr th {\n        vertical-align: top;\n    }\n\n    .dataframe thead th {\n        text-align: right;\n    }\n</style>\n<table border=\"1\" class=\"dataframe\">\n  <thead>\n    <tr style=\"text-align: right;\">\n      <th></th>\n      <th>fixed acidity</th>\n      <th>volatile acidity</th>\n      <th>citric acid</th>\n      <th>residual sugar</th>\n      <th>chlorides</th>\n      <th>free sulfur dioxide</th>\n      <th>total sulfur dioxide</th>\n      <th>density</th>\n      <th>pH</th>\n      <th>sulphates</th>\n      <th>alcohol</th>\n      <th>quality</th>\n    </tr>\n  </thead>\n  <tbody>\n    <tr>\n      <th>0</th>\n      <td>2.186612</td>\n      <td>0.315085</td>\n      <td>3.270609</td>\n      <td>1.569104</td>\n      <td>-0.081122</td>\n      <td>-0.488506</td>\n      <td>1.238629</td>\n      <td>2.040392</td>\n      <td>-1.511694</td>\n      <td>3.418622</td>\n      <td>-1.474270</td>\n      <td>0</td>\n    </tr>\n    <tr>\n      <th>1</th>\n      <td>-0.538932</td>\n      <td>-0.478608</td>\n      <td>-0.034635</td>\n      <td>-1.033390</td>\n      <td>-0.081122</td>\n      <td>-1.164692</td>\n      <td>1.862187</td>\n      <td>-0.677847</td>\n      <td>0.938628</td>\n      <td>-0.436771</td>\n      <td>0.394706</td>\n      <td>0</td>\n    </tr>\n    <tr>\n      <th>2</th>\n      <td>1.357099</td>\n      <td>0.513509</td>\n      <td>0.130627</td>\n      <td>0.711464</td>\n      <td>-0.493060</td>\n      <td>-0.782500</td>\n      <td>-0.714401</td>\n      <td>0.181424</td>\n      <td>-0.452095</td>\n      <td>-1.137752</td>\n      <td>0.882265</td>\n      <td>0</td>\n    </tr>\n    <tr>\n      <th>3</th>\n      <td>-1.842453</td>\n      <td>1.902473</td>\n      <td>-1.935150</td>\n      <td>-1.003816</td>\n      <td>-0.447289</td>\n      <td>-1.429287</td>\n      <td>-1.514437</td>\n      <td>-1.072376</td>\n      <td>1.932001</td>\n      <td>0.439455</td>\n      <td>0.557225</td>\n      <td>0</td>\n    </tr>\n    <tr>\n      <th>4</th>\n      <td>-0.301928</td>\n      <td>-0.180973</td>\n      <td>1.865881</td>\n      <td>1.776120</td>\n      <td>0.330815</td>\n      <td>-0.194512</td>\n      <td>0.062105</td>\n      <td>1.361668</td>\n      <td>-0.518320</td>\n      <td>0.001342</td>\n      <td>-0.986711</td>\n      <td>0</td>\n    </tr>\n    <tr>\n      <th>...</th>\n      <td>...</td>\n      <td>...</td>\n      <td>...</td>\n      <td>...</td>\n      <td>...</td>\n      <td>...</td>\n      <td>...</td>\n      <td>...</td>\n      <td>...</td>\n      <td>...</td>\n      <td>...</td>\n      <td>...</td>\n    </tr>\n    <tr>\n      <th>3913</th>\n      <td>0.764589</td>\n      <td>1.406414</td>\n      <td>-1.191470</td>\n      <td>0.100272</td>\n      <td>-0.218435</td>\n      <td>1.569454</td>\n      <td>0.273879</td>\n      <td>0.351941</td>\n      <td>0.276379</td>\n      <td>-1.050129</td>\n      <td>-0.417892</td>\n      <td>0</td>\n    </tr>\n    <tr>\n      <th>3914</th>\n      <td>1.475600</td>\n      <td>-1.569937</td>\n      <td>0.378521</td>\n      <td>-1.082680</td>\n      <td>-0.538831</td>\n      <td>0.040684</td>\n      <td>-1.232072</td>\n      <td>-1.259610</td>\n      <td>-2.571292</td>\n      <td>0.527077</td>\n      <td>1.207304</td>\n      <td>0</td>\n    </tr>\n    <tr>\n      <th>3915</th>\n      <td>2.068110</td>\n      <td>0.910356</td>\n      <td>3.022716</td>\n      <td>1.135355</td>\n      <td>-0.309976</td>\n      <td>-0.841299</td>\n      <td>0.462123</td>\n      <td>1.428538</td>\n      <td>-1.246794</td>\n      <td>2.104284</td>\n      <td>-0.986711</td>\n      <td>0</td>\n    </tr>\n    <tr>\n      <th>3916</th>\n      <td>-1.486947</td>\n      <td>0.414297</td>\n      <td>-0.034635</td>\n      <td>0.198851</td>\n      <td>-0.401518</td>\n      <td>-0.606103</td>\n      <td>-1.020297</td>\n      <td>-0.450491</td>\n      <td>0.408829</td>\n      <td>0.001342</td>\n      <td>0.475966</td>\n      <td>0</td>\n    </tr>\n    <tr>\n      <th>3917</th>\n      <td>-0.064924</td>\n      <td>1.108779</td>\n      <td>0.047996</td>\n      <td>0.198851</td>\n      <td>-1.179623</td>\n      <td>0.158281</td>\n      <td>-0.126139</td>\n      <td>-0.637725</td>\n      <td>-0.054746</td>\n      <td>-0.436771</td>\n      <td>1.207304</td>\n      <td>1</td>\n    </tr>\n  </tbody>\n</table>\n<p>3918 rows × 12 columns</p>\n</div>"
          },
          "metadata": {}
        }
      ]
    },
    {
      "cell_type": "code",
      "metadata": {
        "id": "KaXlY6KqFVQT",
        "gather": {
          "logged": 1634515871168
        },
        "outputId": "50b4fce2-7875-43f2-dbcb-294310d8ee4e"
      },
      "source": [
        "proj_df.describe()"
      ],
      "execution_count": null,
      "outputs": [
        {
          "output_type": "execute_result",
          "execution_count": 11,
          "data": {
            "text/plain": "       fixed acidity  volatile acidity  citric acid  residual sugar  \\\ncount    3918.000000       3918.000000  3918.000000     3918.000000   \nmean       -0.006188         -0.005162    -0.003316        0.009996   \nstd         1.000857          1.002506     0.991018        1.002611   \nmin        -3.619982         -1.966784    -2.761461       -1.141827   \n25%        -0.657434         -0.677032    -0.530422       -0.924953   \n50%        -0.064924         -0.180973    -0.117266       -0.215182   \n75%         0.527585          0.414297     0.378521        0.706535   \nmax         8.704217          8.152811    10.955302       11.712916   \n\n         chlorides  free sulfur dioxide  total sulfur dioxide      density  \\\ncount  3918.000000          3918.000000           3918.000000  3918.000000   \nmean      0.006599            -0.008600             -0.003108     0.005267   \nstd       1.034684             0.999488              0.993988     1.007274   \nmin      -1.683102            -1.899678             -3.043919    -2.312802   \n25%      -0.447289            -0.723701             -0.714401    -0.768120   \n50%      -0.126893            -0.076914             -0.102608    -0.079366   \n75%       0.193503             0.569873              0.673898     0.726410   \nmax      13.741673            14.916791              7.097720    15.029763   \n\n                pH    sulphates      alcohol      quality  \ncount  3918.000000  3918.000000  3918.000000  3918.000000  \nmean     -0.003091     0.001632     0.003660     0.215926  \nstd       0.998251     0.998550     1.005135     0.411516  \nmin      -3.101091    -2.364468    -2.043089     0.000000  \n25%      -0.650770    -0.699639    -0.824192     0.000000  \n50%      -0.054746    -0.086281    -0.092853     0.000000  \n75%       0.607503     0.527077     0.719745     0.000000  \nmax       4.183648     4.995829     2.873130     1.000000  ",
            "text/html": "<div>\n<style scoped>\n    .dataframe tbody tr th:only-of-type {\n        vertical-align: middle;\n    }\n\n    .dataframe tbody tr th {\n        vertical-align: top;\n    }\n\n    .dataframe thead th {\n        text-align: right;\n    }\n</style>\n<table border=\"1\" class=\"dataframe\">\n  <thead>\n    <tr style=\"text-align: right;\">\n      <th></th>\n      <th>fixed acidity</th>\n      <th>volatile acidity</th>\n      <th>citric acid</th>\n      <th>residual sugar</th>\n      <th>chlorides</th>\n      <th>free sulfur dioxide</th>\n      <th>total sulfur dioxide</th>\n      <th>density</th>\n      <th>pH</th>\n      <th>sulphates</th>\n      <th>alcohol</th>\n      <th>quality</th>\n    </tr>\n  </thead>\n  <tbody>\n    <tr>\n      <th>count</th>\n      <td>3918.000000</td>\n      <td>3918.000000</td>\n      <td>3918.000000</td>\n      <td>3918.000000</td>\n      <td>3918.000000</td>\n      <td>3918.000000</td>\n      <td>3918.000000</td>\n      <td>3918.000000</td>\n      <td>3918.000000</td>\n      <td>3918.000000</td>\n      <td>3918.000000</td>\n      <td>3918.000000</td>\n    </tr>\n    <tr>\n      <th>mean</th>\n      <td>-0.006188</td>\n      <td>-0.005162</td>\n      <td>-0.003316</td>\n      <td>0.009996</td>\n      <td>0.006599</td>\n      <td>-0.008600</td>\n      <td>-0.003108</td>\n      <td>0.005267</td>\n      <td>-0.003091</td>\n      <td>0.001632</td>\n      <td>0.003660</td>\n      <td>0.215926</td>\n    </tr>\n    <tr>\n      <th>std</th>\n      <td>1.000857</td>\n      <td>1.002506</td>\n      <td>0.991018</td>\n      <td>1.002611</td>\n      <td>1.034684</td>\n      <td>0.999488</td>\n      <td>0.993988</td>\n      <td>1.007274</td>\n      <td>0.998251</td>\n      <td>0.998550</td>\n      <td>1.005135</td>\n      <td>0.411516</td>\n    </tr>\n    <tr>\n      <th>min</th>\n      <td>-3.619982</td>\n      <td>-1.966784</td>\n      <td>-2.761461</td>\n      <td>-1.141827</td>\n      <td>-1.683102</td>\n      <td>-1.899678</td>\n      <td>-3.043919</td>\n      <td>-2.312802</td>\n      <td>-3.101091</td>\n      <td>-2.364468</td>\n      <td>-2.043089</td>\n      <td>0.000000</td>\n    </tr>\n    <tr>\n      <th>25%</th>\n      <td>-0.657434</td>\n      <td>-0.677032</td>\n      <td>-0.530422</td>\n      <td>-0.924953</td>\n      <td>-0.447289</td>\n      <td>-0.723701</td>\n      <td>-0.714401</td>\n      <td>-0.768120</td>\n      <td>-0.650770</td>\n      <td>-0.699639</td>\n      <td>-0.824192</td>\n      <td>0.000000</td>\n    </tr>\n    <tr>\n      <th>50%</th>\n      <td>-0.064924</td>\n      <td>-0.180973</td>\n      <td>-0.117266</td>\n      <td>-0.215182</td>\n      <td>-0.126893</td>\n      <td>-0.076914</td>\n      <td>-0.102608</td>\n      <td>-0.079366</td>\n      <td>-0.054746</td>\n      <td>-0.086281</td>\n      <td>-0.092853</td>\n      <td>0.000000</td>\n    </tr>\n    <tr>\n      <th>75%</th>\n      <td>0.527585</td>\n      <td>0.414297</td>\n      <td>0.378521</td>\n      <td>0.706535</td>\n      <td>0.193503</td>\n      <td>0.569873</td>\n      <td>0.673898</td>\n      <td>0.726410</td>\n      <td>0.607503</td>\n      <td>0.527077</td>\n      <td>0.719745</td>\n      <td>0.000000</td>\n    </tr>\n    <tr>\n      <th>max</th>\n      <td>8.704217</td>\n      <td>8.152811</td>\n      <td>10.955302</td>\n      <td>11.712916</td>\n      <td>13.741673</td>\n      <td>14.916791</td>\n      <td>7.097720</td>\n      <td>15.029763</td>\n      <td>4.183648</td>\n      <td>4.995829</td>\n      <td>2.873130</td>\n      <td>1.000000</td>\n    </tr>\n  </tbody>\n</table>\n</div>"
          },
          "metadata": {}
        }
      ]
    },
    {
      "cell_type": "markdown",
      "metadata": {
        "id": "scO2RZk_DIzL"
      },
      "source": [
        "## AutoML Configuration\n",
        "\n",
        "TODO: Explain why you chose the automl settings and cofiguration you used below."
      ]
    },
    {
      "cell_type": "code",
      "metadata": {
        "gather": {
          "logged": 1634516729455
        },
        "jupyter": {
          "outputs_hidden": false,
          "source_hidden": false
        },
        "nteract": {
          "transient": {
            "deleting": false
          }
        },
        "id": "uJJWKay5DIzL"
      },
      "source": [
        "# TODO: Put your automl settings here\n",
        "\n",
        "automl_settings = {\n",
        "    \"iterations\" : 20,\n",
        "    \"experiment_timeout_minutes\" : 30,\n",
        "    \"enable_early_stopping\" : True,\n",
        "    \"iteration_timeout_minutes\" : 5,\n",
        "    \"max_concurrent_iterations\" : 5,\n",
        "    \"max_cores_per_iteration\" : -1,\n",
        "    \"n_cross_validations\" : 3,\n",
        "    \"primary_metric\" : 'AUC_weighted',\n",
        "    \"verbosity\" : logging.INFO,\n",
        "}\n",
        "\n",
        "# Provide the remainder of the settings/configuration\n",
        "# Note that we are not providing a validation data set - and we may need to\n",
        "# \n",
        "\n",
        "\n",
        "# TODO: Put your automl config here\n",
        "automl_config = AutoMLConfig(\n",
        "    compute_target = cc,\n",
        "    task='classification',\n",
        "    training_data=proj_ds,\n",
        "    label_column_name=CAPSTONE_LABEL_COLUMN_NAME,\n",
        "    path=CAPSTONE_FOLDER,\n",
        "    featurization='auto',\n",
        "    model_explainability=True,\n",
        "    debug_log=CAPSTONE_DEBUG_LOG,\n",
        "    **automl_settings)"
      ],
      "execution_count": null,
      "outputs": []
    },
    {
      "cell_type": "code",
      "metadata": {
        "gather": {
          "logged": 1634516736692
        },
        "jupyter": {
          "outputs_hidden": false,
          "source_hidden": false
        },
        "nteract": {
          "transient": {
            "deleting": false
          }
        },
        "id": "qm0n8PgRDIzM",
        "outputId": "8df43128-0651-417b-debf-f57a333306c6"
      },
      "source": [
        "# TODO: Submit your experiment\n",
        "remote_run = experiment.submit(automl_config)"
      ],
      "execution_count": null,
      "outputs": [
        {
          "output_type": "stream",
          "name": "stdout",
          "text": "Submitting remote run.\n"
        },
        {
          "output_type": "display_data",
          "data": {
            "text/plain": "<IPython.core.display.HTML object>",
            "text/html": "<table style=\"width:100%\"><tr><th>Experiment</th><th>Id</th><th>Type</th><th>Status</th><th>Details Page</th><th>Docs Page</th></tr><tr><td>exp-capstone-automl</td><td>AutoML_f270b76e-c5be-4fc5-b8e0-7ae67ebd55e6</td><td>automl</td><td>NotStarted</td><td><a href=\"https://ml.azure.com/runs/AutoML_f270b76e-c5be-4fc5-b8e0-7ae67ebd55e6?wsid=/subscriptions/f9d5a085-54dc-4215-9ba6-dad5d86e60a0/resourcegroups/aml-quickstarts-161266/workspaces/quick-starts-ws-161266&amp;tid=660b3398-b80e-49d2-bc5b-ac1dc93b5254\" target=\"_blank\" rel=\"noopener\">Link to Azure Machine Learning studio</a></td><td><a href=\"https://docs.microsoft.com/en-us/python/api/overview/azure/ml/intro?view=azure-ml-py\" target=\"_blank\" rel=\"noopener\">Link to Documentation</a></td></tr></table>"
          },
          "metadata": {}
        }
      ]
    },
    {
      "cell_type": "markdown",
      "metadata": {
        "id": "MR49YIwPDIzN"
      },
      "source": [
        "## Run Details\n",
        "\n",
        "OPTIONAL: Write about the different models trained and their performance. Why do you think some models did better than others?\n",
        "\n",
        "TODO: In the cell below, use the `RunDetails` widget to show the different experiments."
      ]
    },
    {
      "cell_type": "code",
      "metadata": {
        "gather": {
          "logged": 1634517843524
        },
        "jupyter": {
          "outputs_hidden": false,
          "source_hidden": false
        },
        "nteract": {
          "transient": {
            "deleting": false
          }
        },
        "id": "_lbzZ9SZDIzN",
        "colab": {
          "referenced_widgets": [
            "401c9e759cb246af80dc60f91bf851c3"
          ]
        },
        "outputId": "8f9c36fd-4a8c-4c84-cdd5-3572d2677200"
      },
      "source": [
        "RunDetails(remote_run).show()"
      ],
      "execution_count": null,
      "outputs": [
        {
          "output_type": "display_data",
          "data": {
            "text/plain": "_AutoMLWidget(widget_settings={'childWidgetDisplay': 'popup', 'send_telemetry': False, 'log_level': 'INFO', 's…",
            "application/vnd.jupyter.widget-view+json": {
              "version_major": 2,
              "version_minor": 0,
              "model_id": "401c9e759cb246af80dc60f91bf851c3"
            }
          },
          "metadata": {}
        },
        {
          "output_type": "display_data",
          "data": {
            "application/aml.mini.widget.v1": "{\"status\": \"Completed\", \"workbench_run_details_uri\": \"https://ml.azure.com/runs/AutoML_f270b76e-c5be-4fc5-b8e0-7ae67ebd55e6?wsid=/subscriptions/f9d5a085-54dc-4215-9ba6-dad5d86e60a0/resourcegroups/aml-quickstarts-161266/workspaces/quick-starts-ws-161266&tid=660b3398-b80e-49d2-bc5b-ac1dc93b5254\", \"run_id\": \"AutoML_f270b76e-c5be-4fc5-b8e0-7ae67ebd55e6\", \"run_properties\": {\"run_id\": \"AutoML_f270b76e-c5be-4fc5-b8e0-7ae67ebd55e6\", \"created_utc\": \"2021-10-18T00:25:35.28112Z\", \"properties\": {\"num_iterations\": \"20\", \"training_type\": \"TrainFull\", \"acquisition_function\": \"EI\", \"primary_metric\": \"AUC_weighted\", \"train_split\": \"0\", \"acquisition_parameter\": \"0\", \"num_cross_validation\": \"3\", \"target\": \"CPU-CC\", \"AMLSettingsJsonString\": \"{\\\"path\\\":null,\\\"name\\\":\\\"exp-capstone-automl\\\",\\\"subscription_id\\\":\\\"f9d5a085-54dc-4215-9ba6-dad5d86e60a0\\\",\\\"resource_group\\\":\\\"aml-quickstarts-161266\\\",\\\"workspace_name\\\":\\\"quick-starts-ws-161266\\\",\\\"region\\\":\\\"southcentralus\\\",\\\"compute_target\\\":\\\"CPU-CC\\\",\\\"spark_service\\\":null,\\\"azure_service\\\":\\\"remote\\\",\\\"many_models\\\":false,\\\"pipeline_fetch_max_batch_size\\\":1,\\\"enable_batch_run\\\":false,\\\"enable_run_restructure\\\":false,\\\"start_auxiliary_runs_before_parent_complete\\\":false,\\\"enable_code_generation\\\":false,\\\"iterations\\\":20,\\\"primary_metric\\\":\\\"AUC_weighted\\\",\\\"task_type\\\":\\\"classification\\\",\\\"data_script\\\":null,\\\"test_size\\\":0.0,\\\"test_include_predictions_only\\\":false,\\\"validation_size\\\":0.0,\\\"n_cross_validations\\\":3,\\\"y_min\\\":null,\\\"y_max\\\":null,\\\"num_classes\\\":null,\\\"featurization\\\":\\\"auto\\\",\\\"_ignore_package_version_incompatibilities\\\":false,\\\"is_timeseries\\\":false,\\\"max_cores_per_iteration\\\":-1,\\\"max_concurrent_iterations\\\":5,\\\"iteration_timeout_minutes\\\":5,\\\"mem_in_mb\\\":null,\\\"enforce_time_on_windows\\\":false,\\\"experiment_timeout_minutes\\\":30,\\\"experiment_exit_score\\\":null,\\\"whitelist_models\\\":null,\\\"blacklist_algos\\\":[\\\"TensorFlowLinearClassifier\\\",\\\"TensorFlowDNN\\\"],\\\"supported_models\\\":[\\\"TensorFlowDNN\\\",\\\"SGD\\\",\\\"TensorFlowLinearClassifier\\\",\\\"LogisticRegression\\\",\\\"MultinomialNaiveBayes\\\",\\\"SVM\\\",\\\"DecisionTree\\\",\\\"RandomForest\\\",\\\"LinearSVM\\\",\\\"LightGBM\\\",\\\"GradientBoosting\\\",\\\"ExtremeRandomTrees\\\",\\\"AveragedPerceptronClassifier\\\",\\\"KNN\\\",\\\"BernoulliNaiveBayes\\\",\\\"XGBoostClassifier\\\"],\\\"private_models\\\":[],\\\"auto_blacklist\\\":true,\\\"blacklist_samples_reached\\\":false,\\\"exclude_nan_labels\\\":true,\\\"verbosity\\\":20,\\\"_debug_log\\\":\\\"azureml_automl.log\\\",\\\"show_warnings\\\":false,\\\"model_explainability\\\":true,\\\"service_url\\\":null,\\\"sdk_url\\\":null,\\\"sdk_packages\\\":null,\\\"enable_onnx_compatible_models\\\":false,\\\"enable_split_onnx_featurizer_estimator_models\\\":false,\\\"vm_type\\\":\\\"STANDARD_DS12_V2\\\",\\\"telemetry_verbosity\\\":20,\\\"send_telemetry\\\":true,\\\"enable_dnn\\\":false,\\\"scenario\\\":\\\"SDK-1.13.0\\\",\\\"environment_label\\\":null,\\\"save_mlflow\\\":false,\\\"force_text_dnn\\\":false,\\\"enable_feature_sweeping\\\":true,\\\"enable_early_stopping\\\":true,\\\"early_stopping_n_iters\\\":10,\\\"metrics\\\":null,\\\"enable_metric_confidence\\\":false,\\\"enable_ensembling\\\":true,\\\"enable_stack_ensembling\\\":true,\\\"ensemble_iterations\\\":15,\\\"enable_tf\\\":false,\\\"enable_subsampling\\\":false,\\\"subsample_seed\\\":null,\\\"enable_nimbusml\\\":false,\\\"enable_streaming\\\":false,\\\"force_streaming\\\":false,\\\"track_child_runs\\\":true,\\\"allowed_private_models\\\":[],\\\"label_column_name\\\":\\\"quality\\\",\\\"weight_column_name\\\":null,\\\"cv_split_column_names\\\":null,\\\"positive_label\\\":null,\\\"enable_local_managed\\\":false,\\\"_local_managed_run_id\\\":null,\\\"cost_mode\\\":1,\\\"lag_length\\\":0,\\\"metric_operation\\\":\\\"maximize\\\",\\\"preprocess\\\":true}\", \"DataPrepJsonString\": \"{\\\\\\\"training_data\\\\\\\": {\\\\\\\"datasetId\\\\\\\": \\\\\\\"f2c53eb5-9f7e-42eb-b2d8-8270a50a9b7d\\\\\\\"}, \\\\\\\"datasets\\\\\\\": 0}\", \"EnableSubsampling\": \"False\", \"runTemplate\": \"AutoML\", \"azureml.runsource\": \"automl\", \"display_task_type\": \"classification\", \"dependencies_versions\": \"{\\\"azureml-widgets\\\": \\\"1.34.0\\\", \\\"azureml-train\\\": \\\"1.34.0\\\", \\\"azureml-train-restclients-hyperdrive\\\": \\\"1.34.0\\\", \\\"azureml-train-core\\\": \\\"1.34.0\\\", \\\"azureml-train-automl\\\": \\\"1.34.0\\\", \\\"azureml-train-automl-runtime\\\": \\\"1.34.0.post1\\\", \\\"azureml-train-automl-client\\\": \\\"1.34.0\\\", \\\"azureml-tensorboard\\\": \\\"1.34.0\\\", \\\"azureml-telemetry\\\": \\\"1.34.0\\\", \\\"azureml-sdk\\\": \\\"1.34.0\\\", \\\"azureml-samples\\\": \\\"0+unknown\\\", \\\"azureml-responsibleai\\\": \\\"1.34.0\\\", \\\"azureml-pipeline\\\": \\\"1.34.0\\\", \\\"azureml-pipeline-steps\\\": \\\"1.34.0\\\", \\\"azureml-pipeline-core\\\": \\\"1.34.0\\\", \\\"azureml-opendatasets\\\": \\\"1.34.0\\\", \\\"azureml-mlflow\\\": \\\"1.34.0\\\", \\\"azureml-interpret\\\": \\\"1.34.0\\\", \\\"azureml-inference-server-http\\\": \\\"0.3.1\\\", \\\"azureml-explain-model\\\": \\\"1.34.0\\\", \\\"azureml-defaults\\\": \\\"1.34.0\\\", \\\"azureml-dataset-runtime\\\": \\\"1.34.0\\\", \\\"azureml-dataprep\\\": \\\"2.22.2\\\", \\\"azureml-dataprep-rslex\\\": \\\"1.20.2\\\", \\\"azureml-dataprep-native\\\": \\\"38.0.0\\\", \\\"azureml-datadrift\\\": \\\"1.34.0\\\", \\\"azureml-core\\\": \\\"1.34.0\\\", \\\"azureml-contrib-services\\\": \\\"1.34.0\\\", \\\"azureml-contrib-server\\\": \\\"1.34.0\\\", \\\"azureml-contrib-reinforcementlearning\\\": \\\"1.34.0\\\", \\\"azureml-contrib-pipeline-steps\\\": \\\"1.34.0\\\", \\\"azureml-contrib-notebook\\\": \\\"1.34.0\\\", \\\"azureml-contrib-fairness\\\": \\\"1.34.0\\\", \\\"azureml-contrib-dataset\\\": \\\"1.34.0\\\", \\\"azureml-contrib-automl-pipeline-steps\\\": \\\"1.34.0\\\", \\\"azureml-cli-common\\\": \\\"1.34.0\\\", \\\"azureml-automl-runtime\\\": \\\"1.34.0.post1\\\", \\\"azureml-automl-dnn-nlp\\\": \\\"1.34.0\\\", \\\"azureml-automl-core\\\": \\\"1.34.0.post1\\\", \\\"azureml-accel-models\\\": \\\"1.34.0\\\"}\", \"_aml_system_scenario_identification\": \"Remote.Parent\", \"ClientType\": \"SDK\", \"environment_cpu_name\": \"AzureML-AutoML\", \"environment_cpu_label\": \"prod\", \"environment_gpu_name\": \"AzureML-AutoML-GPU\", \"environment_gpu_label\": \"prod\", \"root_attribution\": \"automl\", \"attribution\": \"AutoML\", \"Orchestrator\": \"AutoML\", \"CancelUri\": \"https://southcentralus.api.azureml.ms/jasmine/v1.0/subscriptions/f9d5a085-54dc-4215-9ba6-dad5d86e60a0/resourceGroups/aml-quickstarts-161266/providers/Microsoft.MachineLearningServices/workspaces/quick-starts-ws-161266/experimentids/2d6afcab-db30-4687-8b6a-bd647984e0d3/cancel/AutoML_f270b76e-c5be-4fc5-b8e0-7ae67ebd55e6\", \"ClientSdkVersion\": \"1.34.1\", \"snapshotId\": \"00000000-0000-0000-0000-000000000000\", \"SetupRunId\": \"AutoML_f270b76e-c5be-4fc5-b8e0-7ae67ebd55e6_setup\", \"SetupRunContainerId\": \"dcid.AutoML_f270b76e-c5be-4fc5-b8e0-7ae67ebd55e6_setup\", \"FeaturizationRunJsonPath\": \"featurizer_container.json\", \"FeaturizationRunId\": \"AutoML_f270b76e-c5be-4fc5-b8e0-7ae67ebd55e6_featurize\", \"ProblemInfoJsonString\": \"{\\\"dataset_num_categorical\\\": 0, \\\"is_sparse\\\": false, \\\"subsampling\\\": false, \\\"has_extra_col\\\": true, \\\"dataset_classes\\\": 2, \\\"dataset_features\\\": 11, \\\"dataset_samples\\\": 3918, \\\"single_frequency_class_detected\\\": false}\", \"ModelExplainRunId\": \"AutoML_f270b76e-c5be-4fc5-b8e0-7ae67ebd55e6_ModelExplain\"}, \"tags\": {\"model_explain_run\": \"best_run\", \"_aml_system_azureml.automlComponent\": \"AutoML\", \"pipeline_id\": \"\", \"score\": \"\", \"predicted_cost\": \"\", \"fit_time\": \"\", \"training_percent\": \"\", \"iteration\": \"\", \"run_preprocessor\": \"\", \"run_algorithm\": \"\", \"automl_best_child_run_id\": \"AutoML_f270b76e-c5be-4fc5-b8e0-7ae67ebd55e6_18\", \"model_explain_best_run_child_id\": \"AutoML_f270b76e-c5be-4fc5-b8e0-7ae67ebd55e6_18\"}, \"end_time_utc\": \"2021-10-18T00:35:13.937329Z\", \"status\": \"Completed\", \"log_files\": {}, \"log_groups\": [], \"run_duration\": \"0:09:38\", \"run_number\": \"1\", \"run_queued_details\": {\"status\": \"Completed\", \"details\": null}}, \"child_runs\": [{\"run_id\": \"AutoML_f270b76e-c5be-4fc5-b8e0-7ae67ebd55e6_0\", \"run_number\": 5, \"metric\": null, \"status\": \"Completed\", \"run_type\": \"azureml.scriptrun\", \"training_percent\": \"100\", \"start_time\": \"2021-10-18T00:29:46.676194Z\", \"end_time\": \"2021-10-18T00:29:56.667984Z\", \"created_time\": \"2021-10-18T00:27:42.385171Z\", \"created_time_dt\": \"2021-10-18T00:27:42.385171Z\", \"duration\": \"0:02:14\", \"iteration\": \"0\", \"goal\": \"AUC_weighted_max\", \"run_name\": \"MaxAbsScaler, LightGBM\", \"run_properties\": \"copy=True\", \"primary_metric\": 0.88806528, \"best_metric\": 0.88806528}, {\"run_id\": \"AutoML_f270b76e-c5be-4fc5-b8e0-7ae67ebd55e6_1\", \"run_number\": 6, \"metric\": null, \"status\": \"Completed\", \"run_type\": \"azureml.scriptrun\", \"training_percent\": \"100\", \"start_time\": \"2021-10-18T00:27:42.390409Z\", \"end_time\": \"2021-10-18T00:28:49.749378Z\", \"created_time\": \"2021-10-18T00:27:42.390409Z\", \"created_time_dt\": \"2021-10-18T00:27:42.390409Z\", \"duration\": \"0:01:07\", \"iteration\": \"1\", \"goal\": \"AUC_weighted_max\", \"run_name\": \"MaxAbsScaler, XGBoostClassifier\", \"run_properties\": \"copy=True\", \"primary_metric\": 0.86038838, \"best_metric\": 0.88806528}, {\"run_id\": \"AutoML_f270b76e-c5be-4fc5-b8e0-7ae67ebd55e6_2\", \"run_number\": 7, \"metric\": null, \"status\": \"Completed\", \"run_type\": \"azureml.scriptrun\", \"training_percent\": \"100\", \"start_time\": \"2021-10-18T00:27:42.38636Z\", \"end_time\": \"2021-10-18T00:29:24.27283Z\", \"created_time\": \"2021-10-18T00:27:42.38636Z\", \"created_time_dt\": \"2021-10-18T00:27:42.38636Z\", \"duration\": \"0:01:41\", \"iteration\": \"2\", \"goal\": \"AUC_weighted_max\", \"run_name\": \"MaxAbsScaler, ExtremeRandomTrees\", \"run_properties\": \"copy=True\", \"primary_metric\": 0.80637472, \"best_metric\": 0.88806528}, {\"run_id\": \"AutoML_f270b76e-c5be-4fc5-b8e0-7ae67ebd55e6_4\", \"run_number\": 8, \"metric\": null, \"status\": \"Completed\", \"run_type\": \"azureml.scriptrun\", \"training_percent\": \"100\", \"start_time\": \"2021-10-18T00:27:42.396729Z\", \"end_time\": \"2021-10-18T00:28:16.312325Z\", \"created_time\": \"2021-10-18T00:27:42.396729Z\", \"created_time_dt\": \"2021-10-18T00:27:42.396729Z\", \"duration\": \"0:00:33\", \"iteration\": \"4\", \"goal\": \"AUC_weighted_max\", \"run_name\": \"StandardScalerWrapper, LightGBM\", \"run_properties\": \"\\n    copy=True,\\n    with_mean=False,\\n    with_std=True\\n\", \"primary_metric\": 0.83460318, \"best_metric\": 0.88806528}, {\"run_id\": \"AutoML_f270b76e-c5be-4fc5-b8e0-7ae67ebd55e6_3\", \"run_number\": 9, \"metric\": null, \"status\": \"Completed\", \"run_type\": \"azureml.scriptrun\", \"training_percent\": \"100\", \"start_time\": \"2021-10-18T00:27:42.459055Z\", \"end_time\": \"2021-10-18T00:30:30.105603Z\", \"created_time\": \"2021-10-18T00:27:42.459055Z\", \"created_time_dt\": \"2021-10-18T00:27:42.459055Z\", \"duration\": \"0:02:47\", \"iteration\": \"3\", \"goal\": \"AUC_weighted_max\", \"run_name\": \"MaxAbsScaler, RandomForest\", \"run_properties\": \"copy=True\", \"primary_metric\": 0.84222448, \"best_metric\": 0.88806528}, {\"run_id\": \"AutoML_f270b76e-c5be-4fc5-b8e0-7ae67ebd55e6_5\", \"run_number\": 10, \"metric\": null, \"status\": \"Completed\", \"run_type\": \"azureml.scriptrun\", \"training_percent\": \"100\", \"start_time\": \"2021-10-18T00:31:13.60727Z\", \"end_time\": \"2021-10-18T00:31:21.512487Z\", \"created_time\": \"2021-10-18T00:28:19.380543Z\", \"created_time_dt\": \"2021-10-18T00:28:19.380543Z\", \"duration\": \"0:03:02\", \"iteration\": \"5\", \"goal\": \"AUC_weighted_max\", \"run_name\": \"StandardScalerWrapper, KNN\", \"run_properties\": \"\\n    copy=True,\\n    with_mean=True,\\n    with_std=False\\n\", \"primary_metric\": 0.90188054, \"best_metric\": 0.90188054}, {\"run_id\": \"AutoML_f270b76e-c5be-4fc5-b8e0-7ae67ebd55e6_6\", \"run_number\": 11, \"metric\": null, \"status\": \"Completed\", \"run_type\": \"azureml.scriptrun\", \"training_percent\": \"100\", \"start_time\": \"2021-10-18T00:28:52.705618Z\", \"end_time\": \"2021-10-18T00:31:29.684002Z\", \"created_time\": \"2021-10-18T00:28:52.705618Z\", \"created_time_dt\": \"2021-10-18T00:28:52.705618Z\", \"duration\": \"0:02:36\", \"iteration\": \"6\", \"goal\": \"AUC_weighted_max\", \"run_name\": \"SparseNormalizer, XGBoostClassifier\", \"run_properties\": \"copy=True, norm='max'\", \"primary_metric\": 0.85213274, \"best_metric\": 0.90188054}, {\"run_id\": \"AutoML_f270b76e-c5be-4fc5-b8e0-7ae67ebd55e6_7\", \"run_number\": 12, \"metric\": null, \"status\": \"Completed\", \"run_type\": \"azureml.scriptrun\", \"training_percent\": \"100\", \"start_time\": \"2021-10-18T00:29:27.520488Z\", \"end_time\": \"2021-10-18T00:31:31.977698Z\", \"created_time\": \"2021-10-18T00:29:27.520488Z\", \"created_time_dt\": \"2021-10-18T00:29:27.520488Z\", \"duration\": \"0:02:04\", \"iteration\": \"7\", \"goal\": \"AUC_weighted_max\", \"run_name\": \"SparseNormalizer, RandomForest\", \"run_properties\": \"copy=True, norm='l2'\", \"primary_metric\": 0.85784759, \"best_metric\": 0.90188054}, {\"run_id\": \"AutoML_f270b76e-c5be-4fc5-b8e0-7ae67ebd55e6_8\", \"run_number\": 13, \"metric\": null, \"status\": \"Completed\", \"run_type\": \"azureml.scriptrun\", \"training_percent\": \"100\", \"start_time\": \"2021-10-18T00:29:59.651038Z\", \"end_time\": \"2021-10-18T00:31:05.911034Z\", \"created_time\": \"2021-10-18T00:29:59.651038Z\", \"created_time_dt\": \"2021-10-18T00:29:59.651038Z\", \"duration\": \"0:01:06\", \"iteration\": \"8\", \"goal\": \"AUC_weighted_max\", \"run_name\": \"RobustScaler, KNN\", \"run_properties\": \"copy=True, quantile_range=[25, 75], with_centering=False,\\n             with_scaling=True\", \"primary_metric\": 0.90104041, \"best_metric\": 0.90188054}, {\"run_id\": \"AutoML_f270b76e-c5be-4fc5-b8e0-7ae67ebd55e6_9\", \"run_number\": 14, \"metric\": null, \"status\": \"Completed\", \"run_type\": \"azureml.scriptrun\", \"training_percent\": \"100\", \"start_time\": \"2021-10-18T00:30:33.305852Z\", \"end_time\": \"2021-10-18T00:32:17.001276Z\", \"created_time\": \"2021-10-18T00:30:33.305852Z\", \"created_time_dt\": \"2021-10-18T00:30:33.305852Z\", \"duration\": \"0:01:43\", \"iteration\": \"9\", \"goal\": \"AUC_weighted_max\", \"run_name\": \"MinMaxScaler, RandomForest\", \"run_properties\": \"copy=True, feature_range=(0, 1\", \"primary_metric\": 0.81522841, \"best_metric\": 0.90188054}, {\"run_id\": \"AutoML_f270b76e-c5be-4fc5-b8e0-7ae67ebd55e6_10\", \"run_number\": 15, \"metric\": null, \"status\": \"Completed\", \"run_type\": \"azureml.scriptrun\", \"training_percent\": \"100\", \"start_time\": \"2021-10-18T00:31:09.13298Z\", \"end_time\": \"2021-10-18T00:32:19.72195Z\", \"created_time\": \"2021-10-18T00:31:09.13298Z\", \"created_time_dt\": \"2021-10-18T00:31:09.13298Z\", \"duration\": \"0:01:10\", \"iteration\": \"10\", \"goal\": \"AUC_weighted_max\", \"run_name\": \"StandardScalerWrapper, LogisticRegression\", \"run_properties\": \"\\n    copy=True,\\n    with_mean=True,\\n    with_std=True\\n\", \"primary_metric\": 0.79180169, \"best_metric\": 0.90188054}, {\"run_id\": \"AutoML_f270b76e-c5be-4fc5-b8e0-7ae67ebd55e6_11\", \"run_number\": 16, \"metric\": null, \"status\": \"Completed\", \"run_type\": \"azureml.scriptrun\", \"training_percent\": \"100\", \"start_time\": \"2021-10-18T00:31:28.823292Z\", \"end_time\": \"2021-10-18T00:32:49.713028Z\", \"created_time\": \"2021-10-18T00:31:28.823292Z\", \"created_time_dt\": \"2021-10-18T00:31:28.823292Z\", \"duration\": \"0:01:20\", \"iteration\": \"11\", \"goal\": \"AUC_weighted_max\", \"run_name\": \"StandardScalerWrapper, SVM\", \"run_properties\": \"\\n    copy=True,\\n    with_mean=True,\\n    with_std=True\\n\", \"primary_metric\": 0.82972993, \"best_metric\": 0.90188054}, {\"run_id\": \"AutoML_f270b76e-c5be-4fc5-b8e0-7ae67ebd55e6_12\", \"run_number\": 17, \"metric\": null, \"status\": \"Completed\", \"run_type\": \"azureml.scriptrun\", \"training_percent\": \"100\", \"start_time\": \"2021-10-18T00:31:32.770779Z\", \"end_time\": \"2021-10-18T00:32:26.014838Z\", \"created_time\": \"2021-10-18T00:31:32.770779Z\", \"created_time_dt\": \"2021-10-18T00:31:32.770779Z\", \"duration\": \"0:00:53\", \"iteration\": \"12\", \"goal\": \"AUC_weighted_max\", \"run_name\": \"StandardScalerWrapper, XGBoostClassifier\", \"run_properties\": \"\\n    copy=True,\\n    with_mean=False,\\n    with_std=False\\n\", \"primary_metric\": 0.87024023, \"best_metric\": 0.90188054}, {\"run_id\": \"AutoML_f270b76e-c5be-4fc5-b8e0-7ae67ebd55e6_13\", \"run_number\": 18, \"metric\": null, \"status\": \"Completed\", \"run_type\": \"azureml.scriptrun\", \"training_percent\": \"100\", \"start_time\": \"2021-10-18T00:31:37.913636Z\", \"end_time\": \"2021-10-18T00:32:49.390593Z\", \"created_time\": \"2021-10-18T00:31:37.913636Z\", \"created_time_dt\": \"2021-10-18T00:31:37.913636Z\", \"duration\": \"0:01:11\", \"iteration\": \"13\", \"goal\": \"AUC_weighted_max\", \"run_name\": \"SparseNormalizer, KNN\", \"run_properties\": \"copy=True, norm='max'\", \"primary_metric\": 0.88911572, \"best_metric\": 0.90188054}, {\"run_id\": \"AutoML_f270b76e-c5be-4fc5-b8e0-7ae67ebd55e6_14\", \"run_number\": 19, \"metric\": null, \"status\": \"Completed\", \"run_type\": \"azureml.scriptrun\", \"training_percent\": \"100\", \"start_time\": \"2021-10-18T00:32:20.399875Z\", \"end_time\": \"2021-10-18T00:33:51.08876Z\", \"created_time\": \"2021-10-18T00:32:20.399875Z\", \"created_time_dt\": \"2021-10-18T00:32:20.399875Z\", \"duration\": \"0:01:30\", \"iteration\": \"14\", \"goal\": \"AUC_weighted_max\", \"run_name\": \"RobustScaler, ExtremeRandomTrees\", \"run_properties\": \"copy=True, quantile_range=[10, 90], with_centering=True,\\n             with_scaling=False\", \"primary_metric\": 0.79931935, \"best_metric\": 0.90188054}, {\"run_id\": \"AutoML_f270b76e-c5be-4fc5-b8e0-7ae67ebd55e6_15\", \"run_number\": 20, \"metric\": null, \"status\": \"Completed\", \"run_type\": \"azureml.scriptrun\", \"training_percent\": \"100\", \"start_time\": \"2021-10-18T00:32:24.949267Z\", \"end_time\": \"2021-10-18T00:34:24.034571Z\", \"created_time\": \"2021-10-18T00:32:24.949267Z\", \"created_time_dt\": \"2021-10-18T00:32:24.949267Z\", \"duration\": \"0:01:59\", \"iteration\": \"15\", \"goal\": \"AUC_weighted_max\", \"run_name\": \"SparseNormalizer, XGBoostClassifier\", \"run_properties\": \"copy=True, norm='max'\", \"primary_metric\": 0.85917743, \"best_metric\": 0.90188054}, {\"run_id\": \"AutoML_f270b76e-c5be-4fc5-b8e0-7ae67ebd55e6_16\", \"run_number\": 21, \"metric\": null, \"status\": \"Completed\", \"run_type\": \"azureml.scriptrun\", \"training_percent\": \"100\", \"start_time\": \"2021-10-18T00:32:29.252763Z\", \"end_time\": \"2021-10-18T00:34:24.682224Z\", \"created_time\": \"2021-10-18T00:32:29.252763Z\", \"created_time_dt\": \"2021-10-18T00:32:29.252763Z\", \"duration\": \"0:01:55\", \"iteration\": \"16\", \"goal\": \"AUC_weighted_max\", \"run_name\": \"MinMaxScaler, ExtremeRandomTrees\", \"run_properties\": \"copy=True, feature_range=(0, 1\", \"primary_metric\": 0.82011372, \"best_metric\": 0.90188054}, {\"run_id\": \"AutoML_f270b76e-c5be-4fc5-b8e0-7ae67ebd55e6_17\", \"run_number\": 22, \"metric\": null, \"status\": \"Completed\", \"run_type\": \"azureml.scriptrun\", \"training_percent\": \"100\", \"start_time\": \"2021-10-18T00:32:52.191458Z\", \"end_time\": \"2021-10-18T00:34:23.992126Z\", \"created_time\": \"2021-10-18T00:32:52.191458Z\", \"created_time_dt\": \"2021-10-18T00:32:52.191458Z\", \"duration\": \"0:01:31\", \"iteration\": \"17\", \"goal\": \"AUC_weighted_max\", \"run_name\": \"MinMaxScaler, ExtremeRandomTrees\", \"run_properties\": \"copy=True, feature_range=(0, 1\", \"primary_metric\": 0.84529729, \"best_metric\": 0.90188054}, {\"run_id\": \"AutoML_f270b76e-c5be-4fc5-b8e0-7ae67ebd55e6_19\", \"run_number\": 23, \"metric\": null, \"status\": \"Completed\", \"run_type\": \"azureml.scriptrun\", \"training_percent\": \"100\", \"start_time\": \"2021-10-18T00:34:25.727332Z\", \"end_time\": \"2021-10-18T00:35:12.322927Z\", \"created_time\": \"2021-10-18T00:34:25.727332Z\", \"created_time_dt\": \"2021-10-18T00:34:25.727332Z\", \"duration\": \"0:00:46\", \"iteration\": \"19\", \"goal\": \"AUC_weighted_max\", \"run_name\": \"StackEnsemble\", \"run_properties\": \"\\n    base_learners=[('5', Pipeline(\\n        memory=None,\\n        steps=[('standardscalerwrapper', StandardScalerWrapper(\\n            copy=True,\\n            with_mean=True,\\n            with_std=False\\n        \", \"primary_metric\": 0.91007272, \"best_metric\": 0.91051566}, {\"run_id\": \"AutoML_f270b76e-c5be-4fc5-b8e0-7ae67ebd55e6_18\", \"run_number\": 24, \"metric\": null, \"status\": \"Completed\", \"run_type\": \"azureml.scriptrun\", \"training_percent\": \"100\", \"start_time\": \"2021-10-18T00:34:25.749762Z\", \"end_time\": \"2021-10-18T00:35:11.530171Z\", \"created_time\": \"2021-10-18T00:34:25.749762Z\", \"created_time_dt\": \"2021-10-18T00:34:25.749762Z\", \"duration\": \"0:00:45\", \"iteration\": \"18\", \"goal\": \"AUC_weighted_max\", \"run_name\": \"VotingEnsemble\", \"run_properties\": \"\\n    estimators=[('5', Pipeline(\\n        memory=None,\\n        steps=[('standardscalerwrapper', StandardScalerWrapper(\\n            copy=True,\\n            with_mean=True,\\n            with_std=False\\n        \", \"primary_metric\": 0.91051566, \"best_metric\": 0.91051566}], \"children_metrics\": {\"categories\": [0], \"series\": {\"AUC_weighted\": [{\"categories\": [\"0\", \"1\", \"2\", \"3\", \"4\", \"5\", \"6\", \"7\", \"8\", \"9\", \"10\", \"11\", \"12\", \"13\", \"14\", \"15\", \"16\", \"17\", \"18\", \"19\"], \"mode\": \"markers\", \"name\": \"AUC_weighted\", \"stepped\": false, \"type\": \"scatter\", \"data\": [0.8880652779903979, 0.8603883787694592, 0.8063747169198069, 0.8422244754351128, 0.8346031795640946, 0.9018805404295342, 0.8521327424574788, 0.8578475881369277, 0.9010404067147686, 0.8152284148177902, 0.7918016867367514, 0.829729929654096, 0.870240229372079, 0.8891157214407385, 0.7993193508925497, 0.8591774260847423, 0.820113719762482, 0.8452972862728281, 0.9105156555541365, 0.9100727185289316]}, {\"categories\": [\"0\", \"1\", \"2\", \"3\", \"4\", \"5\", \"6\", \"7\", \"8\", \"9\", \"10\", \"11\", \"12\", \"13\", \"14\", \"15\", \"16\", \"17\", \"18\", \"19\"], \"mode\": \"lines\", \"name\": \"AUC_weighted_max\", \"stepped\": true, \"type\": \"scatter\", \"data\": [0.8880652779903979, 0.8880652779903979, 0.8880652779903979, 0.8880652779903979, 0.8880652779903979, 0.9018805404295342, 0.9018805404295342, 0.9018805404295342, 0.9018805404295342, 0.9018805404295342, 0.9018805404295342, 0.9018805404295342, 0.9018805404295342, 0.9018805404295342, 0.9018805404295342, 0.9018805404295342, 0.9018805404295342, 0.9018805404295342, 0.9105156555541365, 0.9105156555541365]}], \"precision_score_micro\": [{\"categories\": [\"0\", \"1\", \"2\", \"3\", \"4\", \"5\", \"6\", \"7\", \"8\", \"9\", \"10\", \"11\", \"12\", \"13\", \"14\", \"15\", \"16\", \"17\", \"18\", \"19\"], \"mode\": \"markers\", \"name\": \"precision_score_micro\", \"stepped\": false, \"type\": \"scatter\", \"data\": [0.864726901480347, 0.821337417049515, 0.7914752424706483, 0.8177641653905053, 0.810617662072486, 0.8608984175599795, 0.8297600816743237, 0.7718223583460949, 0.8639612046962736, 0.8006636038795304, 0.8019397651863195, 0.8024502297090352, 0.8432873915262888, 0.8552833078101072, 0.7115875446656457, 0.8394589076059215, 0.8065339458907607, 0.7491066870852476, 0.8705972434915773, 0.8330781010719756]}, {\"categories\": [\"0\", \"1\", \"2\", \"3\", \"4\", \"5\", \"6\", \"7\", \"8\", \"9\", \"10\", \"11\", \"12\", \"13\", \"14\", \"15\", \"16\", \"17\", \"18\", \"19\"], \"mode\": \"lines\", \"name\": \"precision_score_micro_max\", \"stepped\": true, \"type\": \"scatter\", \"data\": [0.864726901480347, 0.864726901480347, 0.864726901480347, 0.864726901480347, 0.864726901480347, 0.864726901480347, 0.864726901480347, 0.864726901480347, 0.864726901480347, 0.864726901480347, 0.864726901480347, 0.864726901480347, 0.864726901480347, 0.864726901480347, 0.864726901480347, 0.864726901480347, 0.864726901480347, 0.864726901480347, 0.8705972434915773, 0.8705972434915773]}], \"precision_score_weighted\": [{\"categories\": [\"0\", \"1\", \"2\", \"3\", \"4\", \"5\", \"6\", \"7\", \"8\", \"9\", \"10\", \"11\", \"12\", \"13\", \"14\", \"15\", \"16\", \"17\", \"18\", \"19\"], \"mode\": \"markers\", \"name\": \"precision_score_weighted\", \"stepped\": false, \"type\": \"scatter\", \"data\": [0.8576651449466891, 0.8050045644419015, 0.7660922901746838, 0.7983162988853341, 0.7919422663016472, 0.853748525799416, 0.8153300586477125, 0.8242232656292424, 0.8571231275149751, 0.7725254391271862, 0.775286752760243, 0.7809945257752235, 0.8321166995723349, 0.8487855521115164, 0.7968163505654383, 0.8273300571462707, 0.7833257644723547, 0.8290566860009548, 0.8663922340392869, 0.7881299383111537]}, {\"categories\": [\"0\", \"1\", \"2\", \"3\", \"4\", \"5\", \"6\", \"7\", \"8\", \"9\", \"10\", \"11\", \"12\", \"13\", \"14\", \"15\", \"16\", \"17\", \"18\", \"19\"], \"mode\": \"lines\", \"name\": \"precision_score_weighted_max\", \"stepped\": true, \"type\": \"scatter\", \"data\": [0.8576651449466891, 0.8576651449466891, 0.8576651449466891, 0.8576651449466891, 0.8576651449466891, 0.8576651449466891, 0.8576651449466891, 0.8576651449466891, 0.8576651449466891, 0.8576651449466891, 0.8576651449466891, 0.8576651449466891, 0.8576651449466891, 0.8576651449466891, 0.8576651449466891, 0.8576651449466891, 0.8576651449466891, 0.8576651449466891, 0.8663922340392869, 0.8663922340392869]}], \"AUC_micro\": [{\"categories\": [\"0\", \"1\", \"2\", \"3\", \"4\", \"5\", \"6\", \"7\", \"8\", \"9\", \"10\", \"11\", \"12\", \"13\", \"14\", \"15\", \"16\", \"17\", \"18\", \"19\"], \"mode\": \"markers\", \"name\": \"AUC_micro\", \"stepped\": false, \"type\": \"scatter\", \"data\": [0.9342677257437498, 0.9161083216661313, 0.888001699463817, 0.9061059921343123, 0.9008190102303969, 0.9450306708660777, 0.9134625832631738, 0.8719844093346998, 0.9442618471936567, 0.8930901239576713, 0.885364364573293, 0.8973712249663274, 0.9234678442528184, 0.9363902966400802, 0.7929349130373264, 0.9183623195883138, 0.8950428657306325, 0.8410463897338003, 0.9458546059456219, 0.9291701160153748]}, {\"categories\": [\"0\", \"1\", \"2\", \"3\", \"4\", \"5\", \"6\", \"7\", \"8\", \"9\", \"10\", \"11\", \"12\", \"13\", \"14\", \"15\", \"16\", \"17\", \"18\", \"19\"], \"mode\": \"lines\", \"name\": \"AUC_micro_max\", \"stepped\": true, \"type\": \"scatter\", \"data\": [0.9342677257437498, 0.9342677257437498, 0.9342677257437498, 0.9342677257437498, 0.9342677257437498, 0.9450306708660777, 0.9450306708660777, 0.9450306708660777, 0.9450306708660777, 0.9450306708660777, 0.9450306708660777, 0.9450306708660777, 0.9450306708660777, 0.9450306708660777, 0.9450306708660777, 0.9450306708660777, 0.9450306708660777, 0.9450306708660777, 0.9458546059456219, 0.9458546059456219]}], \"matthews_correlation\": [{\"categories\": [\"0\", \"1\", \"2\", \"3\", \"4\", \"5\", \"6\", \"7\", \"8\", \"9\", \"10\", \"11\", \"12\", \"13\", \"14\", \"15\", \"16\", \"17\", \"18\", \"19\"], \"mode\": \"markers\", \"name\": \"matthews_correlation\", \"stepped\": false, \"type\": \"scatter\", \"data\": [0.571896830515847, 0.4090598090860504, 0.16777190971852107, 0.3677852980003165, 0.31602036858502364, 0.5528205756247916, 0.4385510020192682, 0.45915025568800844, 0.5637421901829526, 0.27635764134546714, 0.3065029982595846, 0.26486132575366156, 0.48080016911447077, 0.5501359884116064, 0.3679227479312008, 0.46569228281457437, 0.30521006545923796, 0.45652420030754876, 0.5807427476600674, 0.35158284890927166]}, {\"categories\": [\"0\", \"1\", \"2\", \"3\", \"4\", \"5\", \"6\", \"7\", \"8\", \"9\", \"10\", \"11\", \"12\", \"13\", \"14\", \"15\", \"16\", \"17\", \"18\", \"19\"], \"mode\": \"lines\", \"name\": \"matthews_correlation_max\", \"stepped\": true, \"type\": \"scatter\", \"data\": [0.571896830515847, 0.571896830515847, 0.571896830515847, 0.571896830515847, 0.571896830515847, 0.571896830515847, 0.571896830515847, 0.571896830515847, 0.571896830515847, 0.571896830515847, 0.571896830515847, 0.571896830515847, 0.571896830515847, 0.571896830515847, 0.571896830515847, 0.571896830515847, 0.571896830515847, 0.571896830515847, 0.5807427476600674, 0.5807427476600674]}], \"recall_score_micro\": [{\"categories\": [\"0\", \"1\", \"2\", \"3\", \"4\", \"5\", \"6\", \"7\", \"8\", \"9\", \"10\", \"11\", \"12\", \"13\", \"14\", \"15\", \"16\", \"17\", \"18\", \"19\"], \"mode\": \"markers\", \"name\": \"recall_score_micro\", \"stepped\": false, \"type\": \"scatter\", \"data\": [0.864726901480347, 0.821337417049515, 0.7914752424706483, 0.8177641653905053, 0.810617662072486, 0.8608984175599795, 0.8297600816743237, 0.7718223583460949, 0.8639612046962736, 0.8006636038795304, 0.8019397651863195, 0.8024502297090352, 0.8432873915262888, 0.8552833078101072, 0.7115875446656457, 0.8394589076059215, 0.8065339458907607, 0.7491066870852476, 0.8705972434915773, 0.8330781010719756]}, {\"categories\": [\"0\", \"1\", \"2\", \"3\", \"4\", \"5\", \"6\", \"7\", \"8\", \"9\", \"10\", \"11\", \"12\", \"13\", \"14\", \"15\", \"16\", \"17\", \"18\", \"19\"], \"mode\": \"lines\", \"name\": \"recall_score_micro_max\", \"stepped\": true, \"type\": \"scatter\", \"data\": [0.864726901480347, 0.864726901480347, 0.864726901480347, 0.864726901480347, 0.864726901480347, 0.864726901480347, 0.864726901480347, 0.864726901480347, 0.864726901480347, 0.864726901480347, 0.864726901480347, 0.864726901480347, 0.864726901480347, 0.864726901480347, 0.864726901480347, 0.864726901480347, 0.864726901480347, 0.864726901480347, 0.8705972434915773, 0.8705972434915773]}], \"f1_score_micro\": [{\"categories\": [\"0\", \"1\", \"2\", \"3\", \"4\", \"5\", \"6\", \"7\", \"8\", \"9\", \"10\", \"11\", \"12\", \"13\", \"14\", \"15\", \"16\", \"17\", \"18\", \"19\"], \"mode\": \"markers\", \"name\": \"f1_score_micro\", \"stepped\": false, \"type\": \"scatter\", \"data\": [0.864726901480347, 0.821337417049515, 0.7914752424706483, 0.8177641653905052, 0.810617662072486, 0.8608984175599795, 0.8297600816743237, 0.7718223583460949, 0.8639612046962736, 0.8006636038795302, 0.8019397651863195, 0.8024502297090352, 0.8432873915262888, 0.8552833078101072, 0.7115875446656457, 0.8394589076059215, 0.8065339458907607, 0.7491066870852476, 0.8705972434915773, 0.8330781010719756]}, {\"categories\": [\"0\", \"1\", \"2\", \"3\", \"4\", \"5\", \"6\", \"7\", \"8\", \"9\", \"10\", \"11\", \"12\", \"13\", \"14\", \"15\", \"16\", \"17\", \"18\", \"19\"], \"mode\": \"lines\", \"name\": \"f1_score_micro_max\", \"stepped\": true, \"type\": \"scatter\", \"data\": [0.864726901480347, 0.864726901480347, 0.864726901480347, 0.864726901480347, 0.864726901480347, 0.864726901480347, 0.864726901480347, 0.864726901480347, 0.864726901480347, 0.864726901480347, 0.864726901480347, 0.864726901480347, 0.864726901480347, 0.864726901480347, 0.864726901480347, 0.864726901480347, 0.864726901480347, 0.864726901480347, 0.8705972434915773, 0.8705972434915773]}], \"precision_score_macro\": [{\"categories\": [\"0\", \"1\", \"2\", \"3\", \"4\", \"5\", \"6\", \"7\", \"8\", \"9\", \"10\", \"11\", \"12\", \"13\", \"14\", \"15\", \"16\", \"17\", \"18\", \"19\"], \"mode\": \"markers\", \"name\": \"precision_score_macro\", \"stepped\": false, \"type\": \"scatter\", \"data\": [0.8159146985102765, 0.7435302790177074, 0.7289826297339511, 0.7499840033972115, 0.7558385857293661, 0.8186281875562775, 0.7598837811815763, 0.7002671689716523, 0.8240422839449062, 0.7140986552180131, 0.7071212636539143, 0.7442494827853761, 0.7943628518418153, 0.7934271668019893, 0.6552914694401685, 0.7878011951642098, 0.7342919090112536, 0.6932552171030064, 0.8507028126317918, 0.7314176720417693]}, {\"categories\": [\"0\", \"1\", \"2\", \"3\", \"4\", \"5\", \"6\", \"7\", \"8\", \"9\", \"10\", \"11\", \"12\", \"13\", \"14\", \"15\", \"16\", \"17\", \"18\", \"19\"], \"mode\": \"lines\", \"name\": \"precision_score_macro_max\", \"stepped\": true, \"type\": \"scatter\", \"data\": [0.8159146985102765, 0.8159146985102765, 0.8159146985102765, 0.8159146985102765, 0.8159146985102765, 0.8186281875562775, 0.8186281875562775, 0.8186281875562775, 0.8240422839449062, 0.8240422839449062, 0.8240422839449062, 0.8240422839449062, 0.8240422839449062, 0.8240422839449062, 0.8240422839449062, 0.8240422839449062, 0.8240422839449062, 0.8240422839449062, 0.8507028126317918, 0.8507028126317918]}], \"log_loss\": [{\"categories\": [\"0\", \"1\", \"2\", \"3\", \"4\", \"5\", \"6\", \"7\", \"8\", \"9\", \"10\", \"11\", \"12\", \"13\", \"14\", \"15\", \"16\", \"17\", \"18\", \"19\"], \"mode\": \"markers\", \"name\": \"log_loss\", \"stepped\": false, \"type\": \"scatter\", \"data\": [0.3387836050329999, 0.36573698846692765, 0.4281995459283377, 0.3870787287648783, 0.4045095793643771, 0.3207874395953904, 0.44794536258628365, 0.44710118868331805, 0.3363156585137872, 0.41158309657279607, 0.42799911989945927, 0.41223859852760586, 0.43600125660067784, 0.5753517075890133, 0.5652231067009285, 0.443044924462275, 0.4112098214972202, 0.49185451523948015, 0.3297385236892279, 0.4052834686125783]}, {\"categories\": [\"0\", \"1\", \"2\", \"3\", \"4\", \"5\", \"6\", \"7\", \"8\", \"9\", \"10\", \"11\", \"12\", \"13\", \"14\", \"15\", \"16\", \"17\", \"18\", \"19\"], \"mode\": \"lines\", \"name\": \"log_loss_min\", \"stepped\": true, \"type\": \"scatter\", \"data\": [0.3387836050329999, 0.3387836050329999, 0.3387836050329999, 0.3387836050329999, 0.3387836050329999, 0.3207874395953904, 0.3207874395953904, 0.3207874395953904, 0.3207874395953904, 0.3207874395953904, 0.3207874395953904, 0.3207874395953904, 0.3207874395953904, 0.3207874395953904, 0.3207874395953904, 0.3207874395953904, 0.3207874395953904, 0.3207874395953904, 0.3207874395953904, 0.3207874395953904]}], \"balanced_accuracy\": [{\"categories\": [\"0\", \"1\", \"2\", \"3\", \"4\", \"5\", \"6\", \"7\", \"8\", \"9\", \"10\", \"11\", \"12\", \"13\", \"14\", \"15\", \"16\", \"17\", \"18\", \"19\"], \"mode\": \"markers\", \"name\": \"balanced_accuracy\", \"stepped\": false, \"type\": \"scatter\", \"data\": [0.758871163697581, 0.6720129660381646, 0.5310384467711294, 0.6355435602337002, 0.5977188562810901, 0.7401467744438591, 0.6850900776190875, 0.7633023453614983, 0.7454377119385738, 0.5894670537632593, 0.6135226124499508, 0.5720832855579954, 0.6963703912883469, 0.7579658697592201, 0.7179639981064195, 0.6884320606932729, 0.6002693295847065, 0.7697015854205026, 0.7405329914966988, 0.6161581404238595]}, {\"categories\": [\"0\", \"1\", \"2\", \"3\", \"4\", \"5\", \"6\", \"7\", \"8\", \"9\", \"10\", \"11\", \"12\", \"13\", \"14\", \"15\", \"16\", \"17\", \"18\", \"19\"], \"mode\": \"lines\", \"name\": \"balanced_accuracy_max\", \"stepped\": true, \"type\": \"scatter\", \"data\": [0.758871163697581, 0.758871163697581, 0.758871163697581, 0.758871163697581, 0.758871163697581, 0.758871163697581, 0.758871163697581, 0.7633023453614983, 0.7633023453614983, 0.7633023453614983, 0.7633023453614983, 0.7633023453614983, 0.7633023453614983, 0.7633023453614983, 0.7633023453614983, 0.7633023453614983, 0.7633023453614983, 0.7697015854205026, 0.7697015854205026, 0.7697015854205026]}], \"recall_score_weighted\": [{\"categories\": [\"0\", \"1\", \"2\", \"3\", \"4\", \"5\", \"6\", \"7\", \"8\", \"9\", \"10\", \"11\", \"12\", \"13\", \"14\", \"15\", \"16\", \"17\", \"18\", \"19\"], \"mode\": \"markers\", \"name\": \"recall_score_weighted\", \"stepped\": false, \"type\": \"scatter\", \"data\": [0.864726901480347, 0.821337417049515, 0.7914752424706483, 0.8177641653905053, 0.810617662072486, 0.8608984175599795, 0.8297600816743237, 0.7718223583460949, 0.8639612046962736, 0.8006636038795304, 0.8019397651863195, 0.8024502297090352, 0.8432873915262888, 0.8552833078101072, 0.7115875446656457, 0.8394589076059215, 0.8065339458907607, 0.7491066870852476, 0.8705972434915773, 0.8330781010719756]}, {\"categories\": [\"0\", \"1\", \"2\", \"3\", \"4\", \"5\", \"6\", \"7\", \"8\", \"9\", \"10\", \"11\", \"12\", \"13\", \"14\", \"15\", \"16\", \"17\", \"18\", \"19\"], \"mode\": \"lines\", \"name\": \"recall_score_weighted_max\", \"stepped\": true, \"type\": \"scatter\", \"data\": [0.864726901480347, 0.864726901480347, 0.864726901480347, 0.864726901480347, 0.864726901480347, 0.864726901480347, 0.864726901480347, 0.864726901480347, 0.864726901480347, 0.864726901480347, 0.864726901480347, 0.864726901480347, 0.864726901480347, 0.864726901480347, 0.864726901480347, 0.864726901480347, 0.864726901480347, 0.864726901480347, 0.8705972434915773, 0.8705972434915773]}], \"recall_score_macro\": [{\"categories\": [\"0\", \"1\", \"2\", \"3\", \"4\", \"5\", \"6\", \"7\", \"8\", \"9\", \"10\", \"11\", \"12\", \"13\", \"14\", \"15\", \"16\", \"17\", \"18\", \"19\"], \"mode\": \"markers\", \"name\": \"recall_score_macro\", \"stepped\": false, \"type\": \"scatter\", \"data\": [0.758871163697581, 0.6720129660381646, 0.5310384467711294, 0.6355435602337002, 0.5977188562810901, 0.7401467744438591, 0.6850900776190875, 0.7633023453614983, 0.7454377119385738, 0.5894670537632593, 0.6135226124499508, 0.5720832855579954, 0.6963703912883469, 0.7579658697592201, 0.7179639981064195, 0.6884320606932729, 0.6002693295847065, 0.7697015854205026, 0.7405329914966988, 0.6161581404238595]}, {\"categories\": [\"0\", \"1\", \"2\", \"3\", \"4\", \"5\", \"6\", \"7\", \"8\", \"9\", \"10\", \"11\", \"12\", \"13\", \"14\", \"15\", \"16\", \"17\", \"18\", \"19\"], \"mode\": \"lines\", \"name\": \"recall_score_macro_max\", \"stepped\": true, \"type\": \"scatter\", \"data\": [0.758871163697581, 0.758871163697581, 0.758871163697581, 0.758871163697581, 0.758871163697581, 0.758871163697581, 0.758871163697581, 0.7633023453614983, 0.7633023453614983, 0.7633023453614983, 0.7633023453614983, 0.7633023453614983, 0.7633023453614983, 0.7633023453614983, 0.7633023453614983, 0.7633023453614983, 0.7633023453614983, 0.7697015854205026, 0.7697015854205026, 0.7697015854205026]}], \"weighted_accuracy\": [{\"categories\": [\"0\", \"1\", \"2\", \"3\", \"4\", \"5\", \"6\", \"7\", \"8\", \"9\", \"10\", \"11\", \"12\", \"13\", \"14\", \"15\", \"16\", \"17\", \"18\", \"19\"], \"mode\": \"markers\", \"name\": \"weighted_accuracy\", \"stepped\": false, \"type\": \"scatter\", \"data\": [0.9188899667277295, 0.8978219295064628, 0.9245081809243468, 0.9110828898972793, 0.9195202777978028, 0.9228473983357063, 0.9037517137287988, 0.776377541741888, 0.9247177729124969, 0.9087916362156944, 0.8983146903944933, 0.9203127097934818, 0.9184452080938567, 0.9052111505314283, 0.7084255844281708, 0.916734576378705, 0.9121931571114672, 0.73874019226607, 0.9371981394011728, 0.9434609520285185]}, {\"categories\": [\"0\", \"1\", \"2\", \"3\", \"4\", \"5\", \"6\", \"7\", \"8\", \"9\", \"10\", \"11\", \"12\", \"13\", \"14\", \"15\", \"16\", \"17\", \"18\", \"19\"], \"mode\": \"lines\", \"name\": \"weighted_accuracy_max\", \"stepped\": true, \"type\": \"scatter\", \"data\": [0.9188899667277295, 0.9188899667277295, 0.9245081809243468, 0.9245081809243468, 0.9245081809243468, 0.9245081809243468, 0.9245081809243468, 0.9245081809243468, 0.9247177729124969, 0.9247177729124969, 0.9247177729124969, 0.9247177729124969, 0.9247177729124969, 0.9247177729124969, 0.9247177729124969, 0.9247177729124969, 0.9247177729124969, 0.9247177729124969, 0.9371981394011728, 0.9434609520285185]}], \"norm_macro_recall\": [{\"categories\": [\"0\", \"1\", \"2\", \"3\", \"4\", \"5\", \"6\", \"7\", \"8\", \"9\", \"10\", \"11\", \"12\", \"13\", \"14\", \"15\", \"16\", \"17\", \"18\", \"19\"], \"mode\": \"markers\", \"name\": \"norm_macro_recall\", \"stepped\": false, \"type\": \"scatter\", \"data\": [0.517742327395162, 0.3440259320763294, 0.06207689354225895, 0.2710871204674004, 0.19543771256218023, 0.4802935488877182, 0.3701801552381751, 0.5266046907229968, 0.4908754238771477, 0.1789341075265186, 0.22704522489990145, 0.14416657111599074, 0.3927407825766936, 0.5159317395184403, 0.435927996212839, 0.37686412138654596, 0.20053865916941307, 0.5394031708410051, 0.4810659829933976, 0.2323162808477192]}, {\"categories\": [\"0\", \"1\", \"2\", \"3\", \"4\", \"5\", \"6\", \"7\", \"8\", \"9\", \"10\", \"11\", \"12\", \"13\", \"14\", \"15\", \"16\", \"17\", \"18\", \"19\"], \"mode\": \"lines\", \"name\": \"norm_macro_recall_max\", \"stepped\": true, \"type\": \"scatter\", \"data\": [0.517742327395162, 0.517742327395162, 0.517742327395162, 0.517742327395162, 0.517742327395162, 0.517742327395162, 0.517742327395162, 0.5266046907229968, 0.5266046907229968, 0.5266046907229968, 0.5266046907229968, 0.5266046907229968, 0.5266046907229968, 0.5266046907229968, 0.5266046907229968, 0.5266046907229968, 0.5266046907229968, 0.5394031708410051, 0.5394031708410051, 0.5394031708410051]}], \"average_precision_score_weighted\": [{\"categories\": [\"0\", \"1\", \"2\", \"3\", \"4\", \"5\", \"6\", \"7\", \"8\", \"9\", \"10\", \"11\", \"12\", \"13\", \"14\", \"15\", \"16\", \"17\", \"18\", \"19\"], \"mode\": \"markers\", \"name\": \"average_precision_score_weighted\", \"stepped\": false, \"type\": \"scatter\", \"data\": [0.9119681242671919, 0.886803926094927, 0.8462702848229267, 0.8704311346152857, 0.8658633011885842, 0.9265589865328664, 0.8811286144246909, 0.8833423148892604, 0.9254034848666634, 0.8530857570154908, 0.8368264702643101, 0.8603988829100736, 0.8973970756539721, 0.9143596133722744, 0.8429071565427878, 0.8899329104664884, 0.8569708465884719, 0.8723761484090651, 0.9323624537755308, 0.9319663144362558]}, {\"categories\": [\"0\", \"1\", \"2\", \"3\", \"4\", \"5\", \"6\", \"7\", \"8\", \"9\", \"10\", \"11\", \"12\", \"13\", \"14\", \"15\", \"16\", \"17\", \"18\", \"19\"], \"mode\": \"lines\", \"name\": \"average_precision_score_weighted_max\", \"stepped\": true, \"type\": \"scatter\", \"data\": [0.9119681242671919, 0.9119681242671919, 0.9119681242671919, 0.9119681242671919, 0.9119681242671919, 0.9265589865328664, 0.9265589865328664, 0.9265589865328664, 0.9265589865328664, 0.9265589865328664, 0.9265589865328664, 0.9265589865328664, 0.9265589865328664, 0.9265589865328664, 0.9265589865328664, 0.9265589865328664, 0.9265589865328664, 0.9265589865328664, 0.9323624537755308, 0.9323624537755308]}], \"average_precision_score_macro\": [{\"categories\": [\"0\", \"1\", \"2\", \"3\", \"4\", \"5\", \"6\", \"7\", \"8\", \"9\", \"10\", \"11\", \"12\", \"13\", \"14\", \"15\", \"16\", \"17\", \"18\", \"19\"], \"mode\": \"markers\", \"name\": \"average_precision_score_macro\", \"stepped\": false, \"type\": \"scatter\", \"data\": [0.8443326524009723, 0.7942530089754606, 0.7247209294883818, 0.765440280775011, 0.7563168714425763, 0.8702819121568401, 0.7875751986643748, 0.7863524178064741, 0.8685766199615866, 0.7351338754263019, 0.7180331632810043, 0.757594367439182, 0.8189613611763757, 0.8545930562549725, 0.7203898845132223, 0.8047141958475974, 0.7415557968779966, 0.7665730220426829, 0.880113252968945, 0.8795805230599864]}, {\"categories\": [\"0\", \"1\", \"2\", \"3\", \"4\", \"5\", \"6\", \"7\", \"8\", \"9\", \"10\", \"11\", \"12\", \"13\", \"14\", \"15\", \"16\", \"17\", \"18\", \"19\"], \"mode\": \"lines\", \"name\": \"average_precision_score_macro_max\", \"stepped\": true, \"type\": \"scatter\", \"data\": [0.8443326524009723, 0.8443326524009723, 0.8443326524009723, 0.8443326524009723, 0.8443326524009723, 0.8702819121568401, 0.8702819121568401, 0.8702819121568401, 0.8702819121568401, 0.8702819121568401, 0.8702819121568401, 0.8702819121568401, 0.8702819121568401, 0.8702819121568401, 0.8702819121568401, 0.8702819121568401, 0.8702819121568401, 0.8702819121568401, 0.880113252968945, 0.880113252968945]}], \"f1_score_weighted\": [{\"categories\": [\"0\", \"1\", \"2\", \"3\", \"4\", \"5\", \"6\", \"7\", \"8\", \"9\", \"10\", \"11\", \"12\", \"13\", \"14\", \"15\", \"16\", \"17\", \"18\", \"19\"], \"mode\": \"markers\", \"name\": \"f1_score_weighted\", \"stepped\": false, \"type\": \"scatter\", \"data\": [0.8580600948265239, 0.8060028358915038, 0.7195675164304812, 0.7909145916646813, 0.7700430409535236, 0.8511948940014377, 0.8155571880929461, 0.7871532712925507, 0.8546941139766089, 0.7613238917565232, 0.7737190036143611, 0.7518873140910912, 0.8278259734384174, 0.8505146079783956, 0.7348462625519446, 0.8229233096002054, 0.7689840807966214, 0.7691851809359872, 0.8586408537588966, 0.7838726953592626]}, {\"categories\": [\"0\", \"1\", \"2\", \"3\", \"4\", \"5\", \"6\", \"7\", \"8\", \"9\", \"10\", \"11\", \"12\", \"13\", \"14\", \"15\", \"16\", \"17\", \"18\", \"19\"], \"mode\": \"lines\", \"name\": \"f1_score_weighted_max\", \"stepped\": true, \"type\": \"scatter\", \"data\": [0.8580600948265239, 0.8580600948265239, 0.8580600948265239, 0.8580600948265239, 0.8580600948265239, 0.8580600948265239, 0.8580600948265239, 0.8580600948265239, 0.8580600948265239, 0.8580600948265239, 0.8580600948265239, 0.8580600948265239, 0.8580600948265239, 0.8580600948265239, 0.8580600948265239, 0.8580600948265239, 0.8580600948265239, 0.8580600948265239, 0.8586408537588966, 0.8586408537588966]}], \"f1_score_macro\": [{\"categories\": [\"0\", \"1\", \"2\", \"3\", \"4\", \"5\", \"6\", \"7\", \"8\", \"9\", \"10\", \"11\", \"12\", \"13\", \"14\", \"15\", \"16\", \"17\", \"18\", \"19\"], \"mode\": \"markers\", \"name\": \"f1_score_macro\", \"stepped\": false, \"type\": \"scatter\", \"data\": [0.7813343407862018, 0.693944532217213, 0.5061411110842993, 0.6587764733356126, 0.61309683097321, 0.7675204130570079, 0.7089754331894667, 0.7141951943332562, 0.7733271659229498, 0.6013913827059056, 0.6311825863346648, 0.5761372835292903, 0.7258970006370382, 0.772855264147311, 0.6576050877536345, 0.7174623882787499, 0.6150552992412323, 0.7008779220150156, 0.7759769965383629, 0.6236208639211077]}, {\"categories\": [\"0\", \"1\", \"2\", \"3\", \"4\", \"5\", \"6\", \"7\", \"8\", \"9\", \"10\", \"11\", \"12\", \"13\", \"14\", \"15\", \"16\", \"17\", \"18\", \"19\"], \"mode\": \"lines\", \"name\": \"f1_score_macro_max\", \"stepped\": true, \"type\": \"scatter\", \"data\": [0.7813343407862018, 0.7813343407862018, 0.7813343407862018, 0.7813343407862018, 0.7813343407862018, 0.7813343407862018, 0.7813343407862018, 0.7813343407862018, 0.7813343407862018, 0.7813343407862018, 0.7813343407862018, 0.7813343407862018, 0.7813343407862018, 0.7813343407862018, 0.7813343407862018, 0.7813343407862018, 0.7813343407862018, 0.7813343407862018, 0.7813343407862018, 0.7813343407862018]}], \"average_precision_score_micro\": [{\"categories\": [\"0\", \"1\", \"2\", \"3\", \"4\", \"5\", \"6\", \"7\", \"8\", \"9\", \"10\", \"11\", \"12\", \"13\", \"14\", \"15\", \"16\", \"17\", \"18\", \"19\"], \"mode\": \"markers\", \"name\": \"average_precision_score_micro\", \"stepped\": false, \"type\": \"scatter\", \"data\": [0.9344573209395394, 0.9188115905496425, 0.8914132578318307, 0.9085247403966211, 0.9045523729914077, 0.9467830780696551, 0.9144290381762694, 0.8781000900005583, 0.9457033231954476, 0.8966976745630989, 0.8830812430137391, 0.8934867267840151, 0.9234175839056623, 0.9336839490670646, 0.7883590201179779, 0.9194795800026939, 0.8990078315556583, 0.8475284356504692, 0.9470268303986199, 0.9320678746220431]}, {\"categories\": [\"0\", \"1\", \"2\", \"3\", \"4\", \"5\", \"6\", \"7\", \"8\", \"9\", \"10\", \"11\", \"12\", \"13\", \"14\", \"15\", \"16\", \"17\", \"18\", \"19\"], \"mode\": \"lines\", \"name\": \"average_precision_score_micro_max\", \"stepped\": true, \"type\": \"scatter\", \"data\": [0.9344573209395394, 0.9344573209395394, 0.9344573209395394, 0.9344573209395394, 0.9344573209395394, 0.9467830780696551, 0.9467830780696551, 0.9467830780696551, 0.9467830780696551, 0.9467830780696551, 0.9467830780696551, 0.9467830780696551, 0.9467830780696551, 0.9467830780696551, 0.9467830780696551, 0.9467830780696551, 0.9467830780696551, 0.9467830780696551, 0.9470268303986199, 0.9470268303986199]}], \"AUC_macro\": [{\"categories\": [\"0\", \"1\", \"2\", \"3\", \"4\", \"5\", \"6\", \"7\", \"8\", \"9\", \"10\", \"11\", \"12\", \"13\", \"14\", \"15\", \"16\", \"17\", \"18\", \"19\"], \"mode\": \"markers\", \"name\": \"AUC_macro\", \"stepped\": false, \"type\": \"scatter\", \"data\": [0.8880652779903979, 0.8603883787694592, 0.8063747169198067, 0.8422244754351128, 0.8346031795640946, 0.9018805404295342, 0.8521327424574787, 0.8578475881369277, 0.9010404067147685, 0.8152284148177902, 0.7918016867367514, 0.8297299296540962, 0.870240229372079, 0.8891157214407385, 0.7993193508925498, 0.8591774260847423, 0.820113719762482, 0.8452972862728281, 0.9105156555541365, 0.9100727185289316]}, {\"categories\": [\"0\", \"1\", \"2\", \"3\", \"4\", \"5\", \"6\", \"7\", \"8\", \"9\", \"10\", \"11\", \"12\", \"13\", \"14\", \"15\", \"16\", \"17\", \"18\", \"19\"], \"mode\": \"lines\", \"name\": \"AUC_macro_max\", \"stepped\": true, \"type\": \"scatter\", \"data\": [0.8880652779903979, 0.8880652779903979, 0.8880652779903979, 0.8880652779903979, 0.8880652779903979, 0.9018805404295342, 0.9018805404295342, 0.9018805404295342, 0.9018805404295342, 0.9018805404295342, 0.9018805404295342, 0.9018805404295342, 0.9018805404295342, 0.9018805404295342, 0.9018805404295342, 0.9018805404295342, 0.9018805404295342, 0.9018805404295342, 0.9105156555541365, 0.9105156555541365]}], \"accuracy\": [{\"categories\": [\"0\", \"1\", \"2\", \"3\", \"4\", \"5\", \"6\", \"7\", \"8\", \"9\", \"10\", \"11\", \"12\", \"13\", \"14\", \"15\", \"16\", \"17\", \"18\", \"19\"], \"mode\": \"markers\", \"name\": \"accuracy\", \"stepped\": false, \"type\": \"scatter\", \"data\": [0.864726901480347, 0.821337417049515, 0.7914752424706483, 0.8177641653905053, 0.810617662072486, 0.8608984175599795, 0.8297600816743237, 0.7718223583460949, 0.8639612046962736, 0.8006636038795304, 0.8019397651863195, 0.8024502297090352, 0.8432873915262888, 0.8552833078101072, 0.7115875446656457, 0.8394589076059215, 0.8065339458907607, 0.7491066870852476, 0.8705972434915773, 0.8330781010719756]}, {\"categories\": [\"0\", \"1\", \"2\", \"3\", \"4\", \"5\", \"6\", \"7\", \"8\", \"9\", \"10\", \"11\", \"12\", \"13\", \"14\", \"15\", \"16\", \"17\", \"18\", \"19\"], \"mode\": \"lines\", \"name\": \"accuracy_max\", \"stepped\": true, \"type\": \"scatter\", \"data\": [0.864726901480347, 0.864726901480347, 0.864726901480347, 0.864726901480347, 0.864726901480347, 0.864726901480347, 0.864726901480347, 0.864726901480347, 0.864726901480347, 0.864726901480347, 0.864726901480347, 0.864726901480347, 0.864726901480347, 0.864726901480347, 0.864726901480347, 0.864726901480347, 0.864726901480347, 0.864726901480347, 0.8705972434915773, 0.8705972434915773]}]}, \"metricName\": null, \"primaryMetricName\": \"AUC_weighted\", \"showLegend\": false}, \"run_metrics\": [{\"name\": \"experiment_status\", \"run_id\": \"AutoML_f270b76e-c5be-4fc5-b8e0-7ae67ebd55e6\", \"categories\": [0, 1, 2, 3, 4, 5, 6, 7, 8, 9, 10, 11], \"series\": [{\"data\": [\"DatasetEvaluation\", \"FeaturesGeneration\", \"DatasetFeaturization\", \"DatasetFeaturizationCompleted\", \"DatasetCrossValidationSplit\", \"ModelSelection\", \"BestRunExplainModel\", \"ModelExplanationDataSetSetup\", \"PickSurrogateModel\", \"EngineeredFeatureExplanations\", \"EngineeredFeatureExplanations\", \"RawFeaturesExplanations\"]}]}, {\"name\": \"experiment_status_description\", \"run_id\": \"AutoML_f270b76e-c5be-4fc5-b8e0-7ae67ebd55e6\", \"categories\": [0, 1, 2, 3, 4, 5, 6, 7, 8, 9, 10, 11], \"series\": [{\"data\": [\"Gathering dataset statistics.\", \"Generating features for the dataset.\", \"Beginning to fit featurizers and featurize the dataset.\", \"Completed fit featurizers and featurizing the dataset.\", \"Generating individually featurized CV splits.\", \"Beginning model selection.\", \"Best run model explanations started\", \"Model explanations data setup completed\", \"Choosing LightGBM as the surrogate model for explanations\", \"Computation of engineered features started\", \"Computation of engineered features completed\", \"Computation of raw features started\"]}]}, {\"name\": \"precision_score_weighted\", \"run_id\": \"AutoML_f270b76e-c5be-4fc5-b8e0-7ae67ebd55e6\", \"categories\": [0], \"series\": [{\"data\": [0.8663922340392869]}]}, {\"name\": \"weighted_accuracy\", \"run_id\": \"AutoML_f270b76e-c5be-4fc5-b8e0-7ae67ebd55e6\", \"categories\": [0], \"series\": [{\"data\": [0.9371981394011728]}]}, {\"name\": \"recall_score_macro\", \"run_id\": \"AutoML_f270b76e-c5be-4fc5-b8e0-7ae67ebd55e6\", \"categories\": [0], \"series\": [{\"data\": [0.7405329914966988]}]}, {\"name\": \"matthews_correlation\", \"run_id\": \"AutoML_f270b76e-c5be-4fc5-b8e0-7ae67ebd55e6\", \"categories\": [0], \"series\": [{\"data\": [0.5807427476600674]}]}, {\"name\": \"accuracy\", \"run_id\": \"AutoML_f270b76e-c5be-4fc5-b8e0-7ae67ebd55e6\", \"categories\": [0], \"series\": [{\"data\": [0.8705972434915773]}]}, {\"name\": \"balanced_accuracy\", \"run_id\": \"AutoML_f270b76e-c5be-4fc5-b8e0-7ae67ebd55e6\", \"categories\": [0], \"series\": [{\"data\": [0.7405329914966988]}]}, {\"name\": \"average_precision_score_weighted\", \"run_id\": \"AutoML_f270b76e-c5be-4fc5-b8e0-7ae67ebd55e6\", \"categories\": [0], \"series\": [{\"data\": [0.9323624537755308]}]}, {\"name\": \"AUC_macro\", \"run_id\": \"AutoML_f270b76e-c5be-4fc5-b8e0-7ae67ebd55e6\", \"categories\": [0], \"series\": [{\"data\": [0.9105156555541365]}]}, {\"name\": \"AUC_weighted\", \"run_id\": \"AutoML_f270b76e-c5be-4fc5-b8e0-7ae67ebd55e6\", \"categories\": [0], \"series\": [{\"data\": [0.9105156555541365]}]}, {\"name\": \"recall_score_micro\", \"run_id\": \"AutoML_f270b76e-c5be-4fc5-b8e0-7ae67ebd55e6\", \"categories\": [0], \"series\": [{\"data\": [0.8705972434915773]}]}, {\"name\": \"norm_macro_recall\", \"run_id\": \"AutoML_f270b76e-c5be-4fc5-b8e0-7ae67ebd55e6\", \"categories\": [0], \"series\": [{\"data\": [0.4810659829933976]}]}, {\"name\": \"average_precision_score_micro\", \"run_id\": \"AutoML_f270b76e-c5be-4fc5-b8e0-7ae67ebd55e6\", \"categories\": [0], \"series\": [{\"data\": [0.9470268303986199]}]}, {\"name\": \"precision_score_micro\", \"run_id\": \"AutoML_f270b76e-c5be-4fc5-b8e0-7ae67ebd55e6\", \"categories\": [0], \"series\": [{\"data\": [0.8705972434915773]}]}, {\"name\": \"log_loss\", \"run_id\": \"AutoML_f270b76e-c5be-4fc5-b8e0-7ae67ebd55e6\", \"categories\": [0], \"series\": [{\"data\": [0.3297385236892279]}]}, {\"name\": \"f1_score_macro\", \"run_id\": \"AutoML_f270b76e-c5be-4fc5-b8e0-7ae67ebd55e6\", \"categories\": [0], \"series\": [{\"data\": [0.7759769965383629]}]}, {\"name\": \"precision_score_macro\", \"run_id\": \"AutoML_f270b76e-c5be-4fc5-b8e0-7ae67ebd55e6\", \"categories\": [0], \"series\": [{\"data\": [0.8507028126317918]}]}, {\"name\": \"AUC_micro\", \"run_id\": \"AutoML_f270b76e-c5be-4fc5-b8e0-7ae67ebd55e6\", \"categories\": [0], \"series\": [{\"data\": [0.9458546059456219]}]}, {\"name\": \"f1_score_weighted\", \"run_id\": \"AutoML_f270b76e-c5be-4fc5-b8e0-7ae67ebd55e6\", \"categories\": [0], \"series\": [{\"data\": [0.8586408537588966]}]}, {\"name\": \"f1_score_micro\", \"run_id\": \"AutoML_f270b76e-c5be-4fc5-b8e0-7ae67ebd55e6\", \"categories\": [0], \"series\": [{\"data\": [0.8705972434915773]}]}, {\"name\": \"recall_score_weighted\", \"run_id\": \"AutoML_f270b76e-c5be-4fc5-b8e0-7ae67ebd55e6\", \"categories\": [0], \"series\": [{\"data\": [0.8705972434915773]}]}, {\"name\": \"average_precision_score_macro\", \"run_id\": \"AutoML_f270b76e-c5be-4fc5-b8e0-7ae67ebd55e6\", \"categories\": [0], \"series\": [{\"data\": [0.880113252968945]}]}], \"run_logs\": \"\\nRun is completed.\", \"graph\": {}, \"widget_settings\": {\"childWidgetDisplay\": \"popup\", \"send_telemetry\": false, \"log_level\": \"INFO\", \"sdk_version\": \"1.34.0\"}, \"loading\": false}"
          },
          "metadata": {}
        }
      ]
    },
    {
      "cell_type": "markdown",
      "metadata": {
        "id": "Skd-RNClDIzO"
      },
      "source": [
        "## Best Model\n",
        "\n",
        "TODO: In the cell below, get the best model from the automl experiments and display all the properties of the model.\n",
        "\n"
      ]
    },
    {
      "cell_type": "code",
      "metadata": {
        "id": "gzVGP_K4Imqr",
        "gather": {
          "logged": 1634517866854
        }
      },
      "source": [
        "def print_model(model, prefix=\"\"):\n",
        "    for step in model.steps:\n",
        "        print(prefix + step[0])\n",
        "        if hasattr(step[1], 'estimators') and hasattr(step[1], 'weights'):\n",
        "            pprint({'estimators': list(e[0] for e in step[1].estimators), 'weights': step[1].weights})\n",
        "            print()\n",
        "            for estimator in step[1].estimators:\n",
        "                print_model(estimator[1], estimator[0]+ ' - ')\n",
        "        elif hasattr(step[1], '_base_learners') and hasattr(step[1], '_meta_learner'):\n",
        "            print(\"\\nMeta Learner\")\n",
        "            pprint(step[1]._meta_learner)\n",
        "            print()\n",
        "            for estimator in step[1]._base_learners:\n",
        "                print_model(estimator[1], estimator[0]+ ' - ')\n",
        "        else:\n",
        "            pprint(step[1].get_params())\n",
        "            print()"
      ],
      "execution_count": null,
      "outputs": []
    },
    {
      "cell_type": "code",
      "metadata": {
        "gather": {
          "logged": 1634518267769
        },
        "jupyter": {
          "outputs_hidden": false,
          "source_hidden": false
        },
        "nteract": {
          "transient": {
            "deleting": false
          }
        },
        "id": "bPGTZ5shDIzP",
        "outputId": "7fc34fad-5f5f-4939-8dc6-85359c724c0d"
      },
      "source": [
        "automl_best_run, automl_best_model = remote_run.get_output()\n",
        "\n",
        "automl_best_run_metrics = automl_best_run.get_metrics()\n",
        "\n",
        "print(f'********** Best AutoML accuracy: {automl_best_run_metrics.get(\"accuracy\")}')\n",
        "print(f'********** printing Best AutoML run:\\n{automl_best_run}\\n\\nPrinting model:')\n",
        "\n",
        "print_model(automl_best_model)"
      ],
      "execution_count": null,
      "outputs": [
        {
          "output_type": "stream",
          "name": "stdout",
          "text": "********** Best AutoML accuracy: 0.8705972434915773\n********** printing Best AutoML run:\nRun(Experiment: exp-capstone-automl,\nId: AutoML_f270b76e-c5be-4fc5-b8e0-7ae67ebd55e6_18,\nType: azureml.scriptrun,\nStatus: Completed)\n\nPrinting model:\ndatatransformer\n{'enable_dnn': False,\n 'enable_feature_sweeping': True,\n 'feature_sweeping_config': {},\n 'feature_sweeping_timeout': 86400,\n 'featurization_config': None,\n 'force_text_dnn': False,\n 'is_cross_validation': True,\n 'is_onnx_compatible': False,\n 'observer': None,\n 'task': 'classification',\n 'working_dir': '/mnt/batch/tasks/shared/LS_root/mounts/clusters/notebook161266/code/Users/odl_user_161266'}\n\nprefittedsoftvotingclassifier\n{'estimators': ['5', '8', '13', '0', '12', '11', '10'],\n 'weights': [0.2857142857142857,\n             0.07142857142857142,\n             0.14285714285714285,\n             0.07142857142857142,\n             0.21428571428571427,\n             0.14285714285714285,\n             0.07142857142857142]}\n\n5 - standardscalerwrapper\n{'class_name': 'StandardScaler',\n 'copy': True,\n 'module_name': 'sklearn.preprocessing._data',\n 'with_mean': True,\n 'with_std': False}\n\n5 - kneighborsclassifier\n{'algorithm': 'auto',\n 'leaf_size': 30,\n 'metric': 'cityblock',\n 'metric_params': None,\n 'n_jobs': 1,\n 'n_neighbors': 29,\n 'p': 2,\n 'weights': 'distance'}\n\n8 - robustscaler\n{'copy': True,\n 'quantile_range': [25, 75],\n 'with_centering': False,\n 'with_scaling': True}\n\n8 - kneighborsclassifier\n{'algorithm': 'auto',\n 'leaf_size': 30,\n 'metric': 'manhattan',\n 'metric_params': None,\n 'n_jobs': 1,\n 'n_neighbors': 22,\n 'p': 2,\n 'weights': 'distance'}\n\n13 - sparsenormalizer\n{'copy': True, 'norm': 'max'}\n\n13 - kneighborsclassifier\n{'algorithm': 'auto',\n 'leaf_size': 30,\n 'metric': 'cityblock',\n 'metric_params': None,\n 'n_jobs': 1,\n 'n_neighbors': 10,\n 'p': 2,\n 'weights': 'distance'}\n\n0 - maxabsscaler\n{'copy': True}\n\n0 - lightgbmclassifier\n{'min_data_in_leaf': 20,\n 'n_jobs': -1,\n 'problem_info': ProblemInfo(\n    gpu_training_param_dict={'processing_unit_type': 'cpu'}\n),\n 'random_state': None}\n\n12 - standardscalerwrapper\n{'class_name': 'StandardScaler',\n 'copy': True,\n 'module_name': 'sklearn.preprocessing._data',\n 'with_mean': False,\n 'with_std': False}\n\n12 - xgboostclassifier\n{'base_score': 0.5,\n 'booster': 'gbtree',\n 'colsample_bylevel': 1,\n 'colsample_bynode': 1,\n 'colsample_bytree': 0.5,\n 'eta': 0.3,\n 'gamma': 0,\n 'learning_rate': 0.1,\n 'max_delta_step': 0,\n 'max_depth': 10,\n 'max_leaves': 255,\n 'min_child_weight': 1,\n 'missing': nan,\n 'n_estimators': 10,\n 'n_jobs': -1,\n 'nthread': None,\n 'objective': 'reg:logistic',\n 'random_state': 0,\n 'reg_alpha': 0,\n 'reg_lambda': 0.10416666666666667,\n 'scale_pos_weight': 1,\n 'seed': None,\n 'silent': None,\n 'subsample': 0.7,\n 'tree_method': 'auto',\n 'verbose': -10,\n 'verbosity': 0}\n\n11 - standardscalerwrapper\n{'class_name': 'StandardScaler',\n 'copy': True,\n 'module_name': 'sklearn.preprocessing._data',\n 'with_mean': True,\n 'with_std': True}\n\n11 - svcwrapper\n{'C': 2222.996482526191,\n 'break_ties': False,\n 'cache_size': 200,\n 'class_weight': 'balanced',\n 'coef0': 0.0,\n 'decision_function_shape': 'ovr',\n 'degree': 3,\n 'gamma': 'scale',\n 'kernel': 'rbf',\n 'max_iter': -1,\n 'probability': True,\n 'random_state': None,\n 'shrinking': True,\n 'tol': 0.001,\n 'verbose': False}\n\n10 - standardscalerwrapper\n{'class_name': 'StandardScaler',\n 'copy': True,\n 'module_name': 'sklearn.preprocessing._data',\n 'with_mean': True,\n 'with_std': True}\n\n10 - logisticregression\n{'C': 2222.996482526191,\n 'class_weight': None,\n 'dual': False,\n 'fit_intercept': True,\n 'intercept_scaling': 1,\n 'l1_ratio': None,\n 'max_iter': 100,\n 'multi_class': 'multinomial',\n 'n_jobs': -1,\n 'penalty': 'l2',\n 'random_state': None,\n 'solver': 'lbfgs',\n 'tol': 0.0001,\n 'verbose': 0,\n 'warm_start': False}\n\n"
        }
      ]
    },
    {
      "cell_type": "code",
      "metadata": {
        "jupyter": {
          "source_hidden": false,
          "outputs_hidden": false
        },
        "nteract": {
          "transient": {
            "deleting": false
          }
        },
        "gather": {
          "logged": 1634520538232
        },
        "id": "vm6pVYDewoKt",
        "outputId": "42c81aac-c1bd-4158-da81-f921f24057e1"
      },
      "source": [
        "print(remote_run.get_metrics())"
      ],
      "execution_count": null,
      "outputs": [
        {
          "output_type": "stream",
          "name": "stdout",
          "text": "{'experiment_status': ['DatasetEvaluation', 'FeaturesGeneration', 'DatasetFeaturization', 'DatasetFeaturizationCompleted', 'DatasetCrossValidationSplit', 'ModelSelection', 'BestRunExplainModel', 'ModelExplanationDataSetSetup', 'PickSurrogateModel', 'EngineeredFeatureExplanations', 'EngineeredFeatureExplanations', 'RawFeaturesExplanations'], 'experiment_status_description': ['Gathering dataset statistics.', 'Generating features for the dataset.', 'Beginning to fit featurizers and featurize the dataset.', 'Completed fit featurizers and featurizing the dataset.', 'Generating individually featurized CV splits.', 'Beginning model selection.', 'Best run model explanations started', 'Model explanations data setup completed', 'Choosing LightGBM as the surrogate model for explanations', 'Computation of engineered features started', 'Computation of engineered features completed', 'Computation of raw features started'], 'precision_score_weighted': 0.8663922340392869, 'weighted_accuracy': 0.9371981394011728, 'recall_score_macro': 0.7405329914966988, 'matthews_correlation': 0.5807427476600674, 'accuracy': 0.8705972434915773, 'balanced_accuracy': 0.7405329914966988, 'average_precision_score_weighted': 0.9323624537755308, 'AUC_macro': 0.9105156555541365, 'AUC_weighted': 0.9105156555541365, 'recall_score_micro': 0.8705972434915773, 'norm_macro_recall': 0.4810659829933976, 'average_precision_score_micro': 0.9470268303986199, 'precision_score_micro': 0.8705972434915773, 'log_loss': 0.3297385236892279, 'f1_score_macro': 0.7759769965383629, 'precision_score_macro': 0.8507028126317918, 'AUC_micro': 0.9458546059456219, 'f1_score_weighted': 0.8586408537588966, 'f1_score_micro': 0.8705972434915773, 'recall_score_weighted': 0.8705972434915773, 'average_precision_score_macro': 0.880113252968945}\n"
        }
      ]
    },
    {
      "cell_type": "code",
      "metadata": {
        "gather": {
          "logged": 1634518413863
        },
        "jupyter": {
          "outputs_hidden": false,
          "source_hidden": false
        },
        "nteract": {
          "transient": {
            "deleting": false
          }
        },
        "id": "fNc1risDDIzP",
        "outputId": "6dad2359-5192-494b-8694-6ba69b588de9"
      },
      "source": [
        "#TODO: Save the best model\n",
        "joblib.dump(automl_best_model, CAPSTONE_DEPLOYED_MODEL_PATH)"
      ],
      "execution_count": null,
      "outputs": [
        {
          "output_type": "execute_result",
          "execution_count": 29,
          "data": {
            "text/plain": "['./outputs/automl_model.joblib']"
          },
          "metadata": {}
        }
      ]
    },
    {
      "cell_type": "markdown",
      "metadata": {
        "id": "otKptwQ9DIzQ"
      },
      "source": [
        "## Model Deployment\n",
        "\n",
        "Remember you have to deploy only one of the two models you trained but you still need to register both the models. Perform the steps in the rest of this notebook only if you wish to deploy this model.\n",
        "\n",
        "TODO: In the cell below, register the model, create an inference config and deploy the model as a web service."
      ]
    },
    {
      "cell_type": "code",
      "metadata": {
        "gather": {
          "logged": 1598431435189
        },
        "jupyter": {
          "outputs_hidden": false,
          "source_hidden": false
        },
        "nteract": {
          "transient": {
            "deleting": false
          }
        },
        "id": "Jnovv2OXDIzQ",
        "outputId": "9e1a087f-2c31-4ec0-9ef3-a02a68f245a0"
      },
      "source": [
        "# Refer - https://docs.microsoft.com/en-us/azure/machine-learning/how-to-deploy-and-where?tabs=python\n",
        "\n",
        "# Tutorial: Deploy an image classification model in Azure Container Instances -\n",
        "# https://docs.microsoft.com/en-us/azure/machine-learning/tutorial-deploy-models-with-aml\n",
        "\n",
        "# Register the model\n",
        "registered_model = remote_run.register_model(description=CAPSTONE_MODEL_DESCRIPTION)\n",
        "print(f'{remote_run.model_id}')\n",
        "print(f'{registered_model.name}  {registered_model.id}  {registered_model.version}')\n",
        "\n",
        "curated_env = Environment.get(workspace=ws, name=CURATED_ENV_NAME)\n",
        "\n",
        "\n",
        "# Possibly create an inference config\n",
        "\n",
        "env = Environment(name=\"capstone_environment\")\n",
        "inference_config = InferenceConfig(\n",
        "    environment=curated_env,\n",
        "    source_directory=CAPSTONE_SOURCE_DIRECTORY,\n",
        "    entry_script=CAPSTONE_SCORING_SCRIPT,\n",
        ")\n",
        "\n",
        "aci_config = AciWebservice.deploy_configuration(cpu_cores=1, memory_gb=1)\n",
        "\n",
        "service = Model.deploy(workspace=ws,\n",
        "                       name=CAPSTONE_ENV_SERVICE,\n",
        "                       models=[registered_model],\n",
        "                       inference_config=inference_config,\n",
        "                       deployment_config=aci_config,\n",
        "                       overwrite=True)\n",
        "service.wait_for_deployment(show_output=True)\n",
        "\n"
      ],
      "execution_count": null,
      "outputs": [
        {
          "output_type": "stream",
          "name": "stderr",
          "text": "ERROR:azureml._model_management._util:entry_script score.py doesn't exist. entry_script should be path relative to current working directory\n\n"
        },
        {
          "output_type": "stream",
          "name": "stdout",
          "text": "AutoMLf270b76ec18\nAutoMLf270b76ec18  AutoMLf270b76ec18:1  1\n"
        },
        {
          "output_type": "error",
          "ename": "WebserviceException",
          "evalue": "WebserviceException:\n\tMessage: entry_script score.py doesn't exist. entry_script should be path relative to current working directory\n\tInnerException None\n\tErrorResponse \n{\n    \"error\": {\n        \"message\": \"entry_script score.py doesn't exist. entry_script should be path relative to current working directory\"\n    }\n}",
          "traceback": [
            "\u001b[0;31m---------------------------------------------------------------------------\u001b[0m",
            "\u001b[0;31mWebserviceException\u001b[0m                       Traceback (most recent call last)",
            "\u001b[0;32m<ipython-input-39-e18a728217fe>\u001b[0m in \u001b[0;36m<module>\u001b[0;34m\u001b[0m\n\u001b[1;32m     18\u001b[0m inference_config = InferenceConfig(\n\u001b[1;32m     19\u001b[0m     \u001b[0menvironment\u001b[0m\u001b[0;34m=\u001b[0m\u001b[0mcurated_env\u001b[0m\u001b[0;34m,\u001b[0m\u001b[0;34m\u001b[0m\u001b[0;34m\u001b[0m\u001b[0m\n\u001b[0;32m---> 20\u001b[0;31m     \u001b[0mentry_script\u001b[0m\u001b[0;34m=\u001b[0m\u001b[0;34m\"score.py\"\u001b[0m\u001b[0;34m,\u001b[0m\u001b[0;34m\u001b[0m\u001b[0;34m\u001b[0m\u001b[0m\n\u001b[0m\u001b[1;32m     21\u001b[0m )\n\u001b[1;32m     22\u001b[0m \u001b[0;34m\u001b[0m\u001b[0m\n",
            "\u001b[0;32m/anaconda/envs/azureml_py36/lib/python3.6/site-packages/azureml/core/model.py\u001b[0m in \u001b[0;36m__init__\u001b[0;34m(self, entry_script, runtime, conda_file, extra_docker_file_steps, source_directory, enable_gpu, description, base_image, base_image_registry, cuda_version, environment)\u001b[0m\n\u001b[1;32m   2122\u001b[0m         \u001b[0mself\u001b[0m\u001b[0;34m.\u001b[0m\u001b[0menvironment\u001b[0m \u001b[0;34m=\u001b[0m \u001b[0menvironment\u001b[0m\u001b[0;34m\u001b[0m\u001b[0;34m\u001b[0m\u001b[0m\n\u001b[1;32m   2123\u001b[0m \u001b[0;34m\u001b[0m\u001b[0m\n\u001b[0;32m-> 2124\u001b[0;31m         \u001b[0mself\u001b[0m\u001b[0;34m.\u001b[0m\u001b[0mvalidate_configuration\u001b[0m\u001b[0;34m(\u001b[0m\u001b[0;34m)\u001b[0m\u001b[0;34m\u001b[0m\u001b[0;34m\u001b[0m\u001b[0m\n\u001b[0m\u001b[1;32m   2125\u001b[0m \u001b[0;34m\u001b[0m\u001b[0m\n\u001b[1;32m   2126\u001b[0m     \u001b[0;32mdef\u001b[0m \u001b[0m__repr__\u001b[0m\u001b[0;34m(\u001b[0m\u001b[0mself\u001b[0m\u001b[0;34m)\u001b[0m\u001b[0;34m:\u001b[0m\u001b[0;34m\u001b[0m\u001b[0;34m\u001b[0m\u001b[0m\n",
            "\u001b[0;32m/anaconda/envs/azureml_py36/lib/python3.6/site-packages/azureml/core/model.py\u001b[0m in \u001b[0;36mvalidate_configuration\u001b[0;34m(self)\u001b[0m\n\u001b[1;32m   2231\u001b[0m         validate_path_exists_or_throw(joinPath(self.source_directory, self.entry_script),\n\u001b[1;32m   2232\u001b[0m                                       \u001b[0;34m'entry_script'\u001b[0m\u001b[0;34m,\u001b[0m\u001b[0;34m\u001b[0m\u001b[0;34m\u001b[0m\u001b[0m\n\u001b[0;32m-> 2233\u001b[0;31m                                       \u001b[0mextra_message\u001b[0m\u001b[0;34m=\u001b[0m\u001b[0;34m'entry_script should be path relative to '\u001b[0m\u001b[0;34m\u001b[0m\u001b[0;34m\u001b[0m\u001b[0m\n\u001b[0m\u001b[1;32m   2234\u001b[0m                                                     'current working directory')\n\u001b[1;32m   2235\u001b[0m \u001b[0;34m\u001b[0m\u001b[0m\n",
            "\u001b[0;32m/anaconda/envs/azureml_py36/lib/python3.6/site-packages/azureml/_model_management/_util.py\u001b[0m in \u001b[0;36mvalidate_path_exists_or_throw\u001b[0;34m(member, name, extra_message)\u001b[0m\n\u001b[1;32m    884\u001b[0m     \u001b[0;32mif\u001b[0m \u001b[0;32mnot\u001b[0m \u001b[0mos\u001b[0m\u001b[0;34m.\u001b[0m\u001b[0mpath\u001b[0m\u001b[0;34m.\u001b[0m\u001b[0mexists\u001b[0m\u001b[0;34m(\u001b[0m\u001b[0mmember\u001b[0m\u001b[0;34m)\u001b[0m\u001b[0;34m:\u001b[0m\u001b[0;34m\u001b[0m\u001b[0;34m\u001b[0m\u001b[0m\n\u001b[1;32m    885\u001b[0m         raise WebserviceException(\"{0} {1} doesn't exist. {2}\".format(name, member, extra_message),\n\u001b[0;32m--> 886\u001b[0;31m                                   logger=module_logger)\n\u001b[0m\u001b[1;32m    887\u001b[0m \u001b[0;34m\u001b[0m\u001b[0m\n\u001b[1;32m    888\u001b[0m \u001b[0;34m\u001b[0m\u001b[0m\n",
            "\u001b[0;31mWebserviceException\u001b[0m: WebserviceException:\n\tMessage: entry_script score.py doesn't exist. entry_script should be path relative to current working directory\n\tInnerException None\n\tErrorResponse \n{\n    \"error\": {\n        \"message\": \"entry_script score.py doesn't exist. entry_script should be path relative to current working directory\"\n    }\n}"
          ]
        }
      ]
    },
    {
      "cell_type": "markdown",
      "metadata": {
        "collapsed": true,
        "gather": {
          "logged": 1598431657736
        },
        "jupyter": {
          "outputs_hidden": false,
          "source_hidden": false
        },
        "nteract": {
          "transient": {
            "deleting": false
          }
        },
        "id": "8KBf-4m2DIzR"
      },
      "source": [
        "TODO: In the cell below, send a request to the web service you deployed to test it."
      ]
    },
    {
      "cell_type": "code",
      "metadata": {
        "gather": {
          "logged": 1598432707604
        },
        "jupyter": {
          "outputs_hidden": false,
          "source_hidden": false
        },
        "nteract": {
          "transient": {
            "deleting": false
          }
        },
        "id": "dJNveHvSDIzR"
      },
      "source": [
        "# To enable ApplicationInsights on the service (webservice), \n",
        "# * first access the endpoint using the name assigned at the time of deployment\n",
        "# * next update webservice parameters such as enabling application insights (enable_app_insights)\n",
        "\n",
        "proj_webservice = Webservice(\n",
        "    workspace = ws,\n",
        "    name=CAPSTONE_DEPLOYED_MODEL_NAME\n",
        ")\n",
        "\n",
        "proj_webservice.update(\n",
        "    enable_app_insights=True\n",
        ")\n",
        "\n",
        "# At this point application insights (logging is enabled) and can be\n",
        "# checked in the GUI in AutoML studio"
      ],
      "execution_count": null,
      "outputs": []
    },
    {
      "cell_type": "code",
      "metadata": {
        "id": "la5hi2gjwGg9"
      },
      "source": [
        "# URL for the web service, should be similar to:\n",
        "# 'http://8530a665-66f3-49c8-a953-b82a2d312917.eastus.azurecontainer.io/score'\n",
        "\n",
        "# From the tail end of the code at\n",
        "# https://docs.microsoft.com/en-us/azure/machine-learning/how-to-deploy-and-where?tabs=python\n",
        "# - Deploy machine learning models to Azure\n",
        "\n",
        "\n",
        "\n",
        "\n",
        "\n",
        "\n",
        "\n",
        "\n",
        "service = Webservice(workspace=ws, name=\"CAPSTONE_ENV_SERVICE\")\n",
        "scoring_uri = service.scoring_uri\n",
        "\n",
        "# If the service is authenticated, set the key or token\n",
        "key, _ = service.get_keys()\n",
        "\n",
        "# Set the appropriate headers\n",
        "headers = {\"Content-Type\": \"application/json\"}\n",
        "headers[\"Authorization\"] = f\"Bearer {key}\"\n",
        "\n",
        "\n",
        "\n",
        "# fixed ac\t   volatile ac\tcitric acid\t  residual sugar\tchlorides\t  free sulfurdi\ttotal sulfurdi\tdensity\t       pH\t        sulphates\t    alcohol\tquality\t\t\n",
        "# 0.883090875\t0.3150853064\t-0.5304215055\t-0.1166025484\t-0.447289012\t-0.7237011554\t-0.6908704601\t-0.01249670459\t1.004852702\t0.4394546089\t0.3947056997\t0\t\t\n",
        "# 0.7645889612\t1.307202455\t-0.8609459206\t1.657825186\t0.3765862299\t-0.4297069397\t0.8386109571\t1.655893566\t-0.05474573919\t0.001341709573\t-0.6616718988\t0\t\t\n",
        "\n",
        "\n",
        "\n",
        "\n",
        "# Two sets of data to score, so we get two results back\n",
        "# data = {\"data\":\n",
        "#         [\n",
        "#           {\n",
        "#             \"fixed acidity\": 0.883090875,\n",
        "#             \"volatile acidity\": \"0.3150853064\",\n",
        "#             \"citric acid\": \"-0.5304215055\",\n",
        "#             \"residual sugar\": \"-0.1166025484\",\n",
        "#             \"chlorides\": \"-0.447289012\",\n",
        "#             \"free sulfur dioxide\": \"-0.7237011554\",\n",
        "#             \"total sulfur dioxide\": \"-0.6908704601\",\n",
        "#             \"density\": \"-0.01249670459\",\n",
        "#             \"pH\": \"1.004852702\",\n",
        "#             \"sulphates\": \"0.4394546089\",\n",
        "#             \"alcohol\": 0.3947056997,\n",
        "#           },\n",
        "#           {\n",
        "#             \"fixed acidity\": 0.7645889612,\n",
        "#             \"volatile acidity\": \"1.307202455\",\n",
        "#             \"citric acid\": \"-0.8609459206\",\n",
        "#             \"residual sugar\": \"1.657825186\",\n",
        "#             \"chlorides\": \"0.3765862299\",\n",
        "#             \"free sulfur dioxide\": \"-0.4297069397\",\n",
        "#             \"total sulfur dioxide\": \"0.8386109571\",\n",
        "#             \"density\": \"1.655893566\",\n",
        "#             \"pH\": \"-0.05474573919\",\n",
        "#             \"sulphates\": \"0.001341709573\",\n",
        "#             \"alcohol\": 0.3947056997,\n",
        "#           },\n",
        "#       ]\n",
        "#     }\n",
        "\n",
        "\n",
        "data = {\"data\":\n",
        "        [\n",
        "          [\n",
        "           0.883090875,\n",
        "           0.3150853064,\n",
        "          -0.5304215055,\n",
        "          -0.1166025484,\n",
        "          -0.447289012,\n",
        "          -0.7237011554,\n",
        "          -0.6908704601,\n",
        "          -0.01249670459,\n",
        "          1.004852702,\n",
        "          0.4394546089,\n",
        "          0.3947056997\n",
        "          ],\n",
        "          [\n",
        "          0.7645889612,\n",
        "          1.307202455,\n",
        "          -0.8609459206,\n",
        "          1.657825186,\n",
        "          0.3765862299,\n",
        "          -0.4297069397,\n",
        "          0.8386109571,\n",
        "          1.655893566,\n",
        "          -0.05474573919,\n",
        "          0.001341709573,\n",
        "          0.3947056997\n",
        "          ]\n",
        "        ]\n",
        "    }\n",
        "\n",
        "# Convert to JSON string\n",
        "input_data = json.dumps(data)\n",
        "\n",
        "# Set the content type\n",
        "headers = {'Content-Type': 'application/json'}\n",
        "# If authentication is enabled, set the authorization header\n",
        "headers['Authorization'] = f'Bearer {key}'\n",
        "\n",
        "# Make the request and display the response\n",
        "resp = requests.post(scoring_uri, input_data, headers=headers)\n",
        "print(resp.json())"
      ],
      "execution_count": null,
      "outputs": []
    },
    {
      "cell_type": "markdown",
      "metadata": {
        "collapsed": true,
        "gather": {
          "logged": 1598432765711
        },
        "jupyter": {
          "outputs_hidden": false,
          "source_hidden": false
        },
        "nteract": {
          "transient": {
            "deleting": false
          }
        },
        "id": "QkENqomcDIzR"
      },
      "source": [
        "TODO: In the cell below, print the logs of the web service and delete the service"
      ]
    },
    {
      "cell_type": "code",
      "metadata": {
        "jupyter": {
          "outputs_hidden": false,
          "source_hidden": false
        },
        "nteract": {
          "transient": {
            "deleting": false
          }
        },
        "id": "1trRJIbbDIzS"
      },
      "source": [
        "logs = proj_webservice.get_logs()\n",
        "\n",
        "for line in logs.split('\\n'):\n",
        "    print(line)\n",
        "\n"
      ],
      "execution_count": null,
      "outputs": []
    },
    {
      "cell_type": "code",
      "metadata": {
        "id": "PhRicHU1gkEM"
      },
      "source": [
        "# Clean up any resources\n",
        "# Delete the Webservice\n",
        "# delete the compute cluster\n",
        "\n",
        "proj_webservice.delete()\n",
        "cc.delete()"
      ],
      "execution_count": null,
      "outputs": []
    },
    {
      "cell_type": "markdown",
      "metadata": {
        "id": "MLk4oZDIDIzS"
      },
      "source": [
        "**Submission Checklist**\n",
        "- I have registered the model.\n",
        "- I have deployed the model with the best accuracy as a webservice.\n",
        "- I have tested the webservice by sending a request to the model endpoint.\n",
        "- I have deleted the webservice and shutdown all the computes that I have used.\n",
        "- I have taken a screenshot showing the model endpoint as active.\n",
        "- The project includes a file containing the environment details.\n"
      ]
    },
    {
      "cell_type": "markdown",
      "metadata": {
        "id": "UqcD2kWygoY1"
      },
      "source": [
        ""
      ]
    },
    {
      "cell_type": "markdown",
      "metadata": {
        "id": "KaRTmB9VDIzT"
      },
      "source": [
        ""
      ]
    }
  ]
}