{
  "cells": [
    {
      "cell_type": "markdown",
      "source": [
        "# Automated ML\n",
        "\n",
        "TODO: Import Dependencies. In the cell below, import all the dependencies that you will need to complete the project."
      ],
      "metadata": {
        "id": "dIFBchG8DIzE"
      }
    },
    {
      "cell_type": "markdown",
      "source": [
        "[Wine Quality Data Set](https://archive.ics.uci.edu/ml/datasets/Wine+Quality)"
      ],
      "metadata": {
        "id": "ZrM_0OmdCtYp"
      }
    },
    {
      "cell_type": "code",
      "source": [
        "from azureml.core.workspace import Workspace\n",
        "from azureml.core.datastore import Datastore\n",
        "from azureml.core.compute import ComputeTarget\n",
        "from azureml.core.compute.amlcompute import AmlCompute\n",
        "from azureml.exceptions import ComputeTargetException\n",
        "from azureml.core.experiment import Experiment\n",
        "from azureml.core.run import Run\n",
        "from azureml.core.dataset import Dataset\n",
        "from azureml.core.model import Model\n",
        "\n",
        "from azureml.core import Environment\n",
        "from azureml.core.model import InferenceConfig\n",
        "from azureml.core.webservice import AciWebservice\n",
        "\n",
        "\n",
        "from azureml.core.webservice import Webservice\n",
        "from azureml.core.authentication import InteractiveLoginAuthentication\n",
        "\n",
        "import pandas as pd\n",
        "\n",
        "from azureml.pipeline.core.pipeline import Pipeline\n",
        "from azureml.pipeline.core import PipelineData\n",
        "from azureml.pipeline.core import TrainingOutput\n",
        "from azureml.pipeline.core.run import PipelineRun\n",
        "from azureml.pipeline.steps.automl_step import AutoMLStep\n",
        "\n",
        "from azureml.train.automl.automlconfig import AutoMLConfig\n",
        "from azureml.data import TabularDataset\n",
        "from azureml.widgets.run_details import RunDetails\n",
        "\n",
        "from azureml.automl.core.shared import constants\n",
        "\n",
        "import json\n",
        "import pickle\n",
        "import requests\n",
        "\n",
        "from pprint import pprint\n",
        "\n",
        "import logging\n",
        "import joblib\n",
        "\n",
        "from train import clean_data, get_dataset\n",
        "import capstone_constants as c_constants\n",
        "\n"
      ],
      "outputs": [],
      "execution_count": 1,
      "metadata": {
        "gather": {
          "logged": 1635117324691
        },
        "jupyter": {
          "outputs_hidden": false,
          "source_hidden": false
        },
        "nteract": {
          "transient": {
            "deleting": false
          }
        },
        "id": "T1gyC_4iDIzI"
      }
    },
    {
      "cell_type": "markdown",
      "source": [
        "## Dataset\n",
        "\n",
        "### Overview\n",
        "Overview¶\n",
        "TODO: In this markdown cell, give an overview of the dataset you are using. Also mention the task you will be performing.\n",
        "\n",
        "This machine learning program detects the wine quality of white wine.\n",
        "The task is to determine if the wine quality is \"good'\" (1) or \"not good\" (0).\n",
        "More information about the dataset is provided in the README for this Capstone Project.\n",
        "\n",
        "\n",
        "TODO: Get data. In the cell below, write code to access the data you will be using in this project. Remember that the dataset needs to be external.\n",
        "\n",
        "The dataset is external and the URI as defined in capstone_constants.py is:\n",
        "TABULAR_WINE_DATA_URI = 'https://archive.ics.uci.edu/ml/machine-learning-databases/wine-quality/winequality-white.csv'\n",
        "\n",
        "Note that the oriignal data above qualifies quality as a classfification between 1 and 10. However, this Capstone project transforms quality > 7 as \"good\" (1) and otherwise \"not good\" (0). The project is thus framed as a binary classification challenge."
      ],
      "metadata": {
        "id": "nXX3ww9_DIzJ"
      }
    },
    {
      "cell_type": "code",
      "source": [
        "ws = Workspace.from_config()\n",
        "\n",
        "# choose a name for experiment\n",
        "experiment=Experiment(ws, c_constants.AUTOML_EXPERIMENT_NAME)"
      ],
      "outputs": [],
      "execution_count": 2,
      "metadata": {
        "gather": {
          "logged": 1635117325002
        },
        "jupyter": {
          "outputs_hidden": false,
          "source_hidden": false
        },
        "nteract": {
          "transient": {
            "deleting": false
          }
        },
        "id": "axbCq54eDIzK"
      }
    },
    {
      "cell_type": "code",
      "source": [
        "# Next, let's use if it exists, or create if required, a compute cluster to be used by the ML\n",
        "\n",
        "# Access the compute cluster. If it exists, we will have the compute object. \n",
        "# If it does not exist, an exception will be thrown upon which the compute cluster is created\n",
        "try:\n",
        "    cc = ComputeTarget(workspace=ws, name=c_constants.COMPUTE_CLUSTER_AUTOML)\n",
        "    print(f'Compute Cluster target exists and we have a handle to the same')\n",
        "except ComputeTargetException:\n",
        "    # Failed to obtain the compute cluster object\n",
        "    # In all likelihood, a compute cluster of that name has not been created\n",
        "    # Attempt to create the compute cluster\n",
        "    # First set up the configuration\n",
        "\n",
        "    # Specify the configuration of the compute cluster\n",
        "    cc_cfg = AmlCompute.provisioning_configuration(vm_size='Standard_DS12_v2', min_nodes=1, max_nodes=6)\n",
        "    cc = ComputeTarget.create(workspace=ws, name=c_constants.COMPUTE_CLUSTER_AUTOML, provisioning_configuration=cc_cfg)\n",
        "\n",
        "# At this point - we have access to the compute cluster object. Wait for the compute target to complete provisioing\n",
        "cc.wait_for_completion(show_output='True')"
      ],
      "outputs": [
        {
          "output_type": "stream",
          "name": "stdout",
          "text": "Compute Cluster target exists and we have a handle to the same\nSucceeded\nAmlCompute wait for completion finished\n\nMinimum number of nodes requested have been provisioned\n"
        }
      ],
      "execution_count": 3,
      "metadata": {
        "id": "SCvxfM_3ElcZ",
        "gather": {
          "logged": 1635117325263
        },
        "outputId": "f4c3ad7a-373d-4421-85ea-ef2c869aa6f0"
      }
    },
    {
      "cell_type": "code",
      "source": [
        "# grab the data and create a dataset\n",
        "train_ds = get_dataset(ws)\n",
        "\n",
        "# Take a peek at the data by converting the same to a Pandas dataframe\n",
        "proj_df = train_ds.to_pandas_dataframe()\n",
        "\n",
        "# print the data\n",
        "proj_df"
      ],
      "outputs": [
        {
          "output_type": "execute_result",
          "execution_count": 4,
          "data": {
            "text/plain": "      fixed acidity  volatile acidity  citric acid  residual sugar  chlorides  \\\n0          1.712604         -1.371514     0.213258        0.474873  -0.904997   \n1          0.172079         -0.577820    -0.613053       -1.043248  -0.401518   \n2          0.764589          0.215874     3.105347       -1.003816   5.228296   \n3         -0.183426          0.017450     0.047996        0.494589   0.101961   \n4         -0.657434         -0.081762    -1.274101        0.257999   0.101961   \n...             ...               ...          ...             ...        ...   \n3913       1.120095         -0.875455    -0.117266        0.198851  -1.408477   \n3914      -0.183426          0.315085    -1.274101        0.257999  -0.126893   \n3915      -0.538932         -1.272302    -0.365159       -0.905237  -0.081122   \n3916       0.527585         -0.379397     0.626414        1.421235   0.193503   \n3917       0.764589         -0.180973    -0.613053        2.357738   1.749712   \n\n      free sulfur dioxide  total sulfur dioxide   density        pH  \\\n0               -1.311690             -1.843864  0.525802 -0.385870   \n1               -0.900098             -1.585029 -1.279671 -0.584545   \n2                0.511075              0.250349  0.258324 -0.716995   \n3               -0.194512             -0.643809  0.174737  0.408829   \n4                0.569873              1.120977  0.726410  0.276379   \n...                   ...                   ...       ...       ...   \n3913             0.687471             -0.337913 -0.417056 -1.313019   \n3914             1.275460              1.450404  0.545862 -0.120971   \n3915            -0.841299             -0.549688 -0.791525 -0.584545   \n3916             0.334678              0.932733  1.595711  1.203527   \n3917            -0.135713              0.015044  2.364709 -0.120971   \n\n      sulphates   alcohol  quality  \n0     -1.225374  0.435336        0  \n1     -0.962507  0.963524        0  \n2     -0.612016 -1.311750        0  \n3      0.439455  0.394706        1  \n4     -0.173903 -1.230491        0  \n...         ...       ...      ...  \n3913  -0.874884  0.394706        0  \n3914  -0.436771 -0.905451        0  \n3915  -0.962507 -0.255373        0  \n3916  -0.524394 -0.661672        0  \n3917  -0.874884 -1.393010        0  \n\n[3918 rows x 12 columns]",
            "text/html": "<div>\n<style scoped>\n    .dataframe tbody tr th:only-of-type {\n        vertical-align: middle;\n    }\n\n    .dataframe tbody tr th {\n        vertical-align: top;\n    }\n\n    .dataframe thead th {\n        text-align: right;\n    }\n</style>\n<table border=\"1\" class=\"dataframe\">\n  <thead>\n    <tr style=\"text-align: right;\">\n      <th></th>\n      <th>fixed acidity</th>\n      <th>volatile acidity</th>\n      <th>citric acid</th>\n      <th>residual sugar</th>\n      <th>chlorides</th>\n      <th>free sulfur dioxide</th>\n      <th>total sulfur dioxide</th>\n      <th>density</th>\n      <th>pH</th>\n      <th>sulphates</th>\n      <th>alcohol</th>\n      <th>quality</th>\n    </tr>\n  </thead>\n  <tbody>\n    <tr>\n      <th>0</th>\n      <td>1.712604</td>\n      <td>-1.371514</td>\n      <td>0.213258</td>\n      <td>0.474873</td>\n      <td>-0.904997</td>\n      <td>-1.311690</td>\n      <td>-1.843864</td>\n      <td>0.525802</td>\n      <td>-0.385870</td>\n      <td>-1.225374</td>\n      <td>0.435336</td>\n      <td>0</td>\n    </tr>\n    <tr>\n      <th>1</th>\n      <td>0.172079</td>\n      <td>-0.577820</td>\n      <td>-0.613053</td>\n      <td>-1.043248</td>\n      <td>-0.401518</td>\n      <td>-0.900098</td>\n      <td>-1.585029</td>\n      <td>-1.279671</td>\n      <td>-0.584545</td>\n      <td>-0.962507</td>\n      <td>0.963524</td>\n      <td>0</td>\n    </tr>\n    <tr>\n      <th>2</th>\n      <td>0.764589</td>\n      <td>0.215874</td>\n      <td>3.105347</td>\n      <td>-1.003816</td>\n      <td>5.228296</td>\n      <td>0.511075</td>\n      <td>0.250349</td>\n      <td>0.258324</td>\n      <td>-0.716995</td>\n      <td>-0.612016</td>\n      <td>-1.311750</td>\n      <td>0</td>\n    </tr>\n    <tr>\n      <th>3</th>\n      <td>-0.183426</td>\n      <td>0.017450</td>\n      <td>0.047996</td>\n      <td>0.494589</td>\n      <td>0.101961</td>\n      <td>-0.194512</td>\n      <td>-0.643809</td>\n      <td>0.174737</td>\n      <td>0.408829</td>\n      <td>0.439455</td>\n      <td>0.394706</td>\n      <td>1</td>\n    </tr>\n    <tr>\n      <th>4</th>\n      <td>-0.657434</td>\n      <td>-0.081762</td>\n      <td>-1.274101</td>\n      <td>0.257999</td>\n      <td>0.101961</td>\n      <td>0.569873</td>\n      <td>1.120977</td>\n      <td>0.726410</td>\n      <td>0.276379</td>\n      <td>-0.173903</td>\n      <td>-1.230491</td>\n      <td>0</td>\n    </tr>\n    <tr>\n      <th>...</th>\n      <td>...</td>\n      <td>...</td>\n      <td>...</td>\n      <td>...</td>\n      <td>...</td>\n      <td>...</td>\n      <td>...</td>\n      <td>...</td>\n      <td>...</td>\n      <td>...</td>\n      <td>...</td>\n      <td>...</td>\n    </tr>\n    <tr>\n      <th>3913</th>\n      <td>1.120095</td>\n      <td>-0.875455</td>\n      <td>-0.117266</td>\n      <td>0.198851</td>\n      <td>-1.408477</td>\n      <td>0.687471</td>\n      <td>-0.337913</td>\n      <td>-0.417056</td>\n      <td>-1.313019</td>\n      <td>-0.874884</td>\n      <td>0.394706</td>\n      <td>0</td>\n    </tr>\n    <tr>\n      <th>3914</th>\n      <td>-0.183426</td>\n      <td>0.315085</td>\n      <td>-1.274101</td>\n      <td>0.257999</td>\n      <td>-0.126893</td>\n      <td>1.275460</td>\n      <td>1.450404</td>\n      <td>0.545862</td>\n      <td>-0.120971</td>\n      <td>-0.436771</td>\n      <td>-0.905451</td>\n      <td>0</td>\n    </tr>\n    <tr>\n      <th>3915</th>\n      <td>-0.538932</td>\n      <td>-1.272302</td>\n      <td>-0.365159</td>\n      <td>-0.905237</td>\n      <td>-0.081122</td>\n      <td>-0.841299</td>\n      <td>-0.549688</td>\n      <td>-0.791525</td>\n      <td>-0.584545</td>\n      <td>-0.962507</td>\n      <td>-0.255373</td>\n      <td>0</td>\n    </tr>\n    <tr>\n      <th>3916</th>\n      <td>0.527585</td>\n      <td>-0.379397</td>\n      <td>0.626414</td>\n      <td>1.421235</td>\n      <td>0.193503</td>\n      <td>0.334678</td>\n      <td>0.932733</td>\n      <td>1.595711</td>\n      <td>1.203527</td>\n      <td>-0.524394</td>\n      <td>-0.661672</td>\n      <td>0</td>\n    </tr>\n    <tr>\n      <th>3917</th>\n      <td>0.764589</td>\n      <td>-0.180973</td>\n      <td>-0.613053</td>\n      <td>2.357738</td>\n      <td>1.749712</td>\n      <td>-0.135713</td>\n      <td>0.015044</td>\n      <td>2.364709</td>\n      <td>-0.120971</td>\n      <td>-0.874884</td>\n      <td>-1.393010</td>\n      <td>0</td>\n    </tr>\n  </tbody>\n</table>\n<p>3918 rows × 12 columns</p>\n</div>"
          },
          "metadata": {}
        }
      ],
      "execution_count": 4,
      "metadata": {
        "id": "ifhLxyqqFCtQ",
        "gather": {
          "logged": 1635117326712
        },
        "outputId": "d93174eb-bcd7-4ba2-9603-48fab34aae78"
      }
    },
    {
      "cell_type": "code",
      "source": [
        "proj_df.describe()"
      ],
      "outputs": [
        {
          "output_type": "execute_result",
          "execution_count": 5,
          "data": {
            "text/plain": "       fixed acidity  volatile acidity  citric acid  residual sugar  \\\ncount    3918.000000       3918.000000  3918.000000     3918.000000   \nmean        0.006576          0.009056    -0.002346        0.006893   \nstd         1.009986          1.007306     1.009177        1.003865   \nmin        -3.619982         -1.966784    -2.761461       -1.141827   \n25%        -0.657434         -0.677032    -0.613053       -0.924953   \n50%        -0.064924         -0.180973    -0.117266       -0.215182   \n75%         0.527585          0.414297     0.461152        0.691748   \nmax         8.704217          8.152811    10.955302       11.712916   \n\n         chlorides  free sulfur dioxide  total sulfur dioxide      density  \\\ncount  3918.000000          3918.000000           3918.000000  3918.000000   \nmean      0.012078             0.013468              0.010146     0.006848   \nstd       1.033014             1.013921              1.007248     1.007763   \nmin      -1.500018            -1.958477             -3.043919    -2.306115   \n25%      -0.447289            -0.723701             -0.690870    -0.761433   \n50%      -0.126893            -0.076914             -0.079078    -0.076023   \n75%       0.193503             0.628672              0.697428     0.699662   \nmax      13.741673            14.916791              7.097720    15.029763   \n\n                pH    sulphates      alcohol      quality  \ncount  3918.000000  3918.000000  3918.000000  3918.000000  \nmean     -0.010731    -0.002125    -0.005237     0.204696  \nstd       0.988684     0.999605     0.994886     0.403531  \nmin      -3.101091    -2.364468    -2.043089     0.000000  \n25%      -0.650770    -0.699639    -0.824192     0.000000  \n50%      -0.054746    -0.086281    -0.092853     0.000000  \n75%       0.607503     0.527077     0.719745     0.000000  \nmax       4.183648     5.171074     2.995020     1.000000  ",
            "text/html": "<div>\n<style scoped>\n    .dataframe tbody tr th:only-of-type {\n        vertical-align: middle;\n    }\n\n    .dataframe tbody tr th {\n        vertical-align: top;\n    }\n\n    .dataframe thead th {\n        text-align: right;\n    }\n</style>\n<table border=\"1\" class=\"dataframe\">\n  <thead>\n    <tr style=\"text-align: right;\">\n      <th></th>\n      <th>fixed acidity</th>\n      <th>volatile acidity</th>\n      <th>citric acid</th>\n      <th>residual sugar</th>\n      <th>chlorides</th>\n      <th>free sulfur dioxide</th>\n      <th>total sulfur dioxide</th>\n      <th>density</th>\n      <th>pH</th>\n      <th>sulphates</th>\n      <th>alcohol</th>\n      <th>quality</th>\n    </tr>\n  </thead>\n  <tbody>\n    <tr>\n      <th>count</th>\n      <td>3918.000000</td>\n      <td>3918.000000</td>\n      <td>3918.000000</td>\n      <td>3918.000000</td>\n      <td>3918.000000</td>\n      <td>3918.000000</td>\n      <td>3918.000000</td>\n      <td>3918.000000</td>\n      <td>3918.000000</td>\n      <td>3918.000000</td>\n      <td>3918.000000</td>\n      <td>3918.000000</td>\n    </tr>\n    <tr>\n      <th>mean</th>\n      <td>0.006576</td>\n      <td>0.009056</td>\n      <td>-0.002346</td>\n      <td>0.006893</td>\n      <td>0.012078</td>\n      <td>0.013468</td>\n      <td>0.010146</td>\n      <td>0.006848</td>\n      <td>-0.010731</td>\n      <td>-0.002125</td>\n      <td>-0.005237</td>\n      <td>0.204696</td>\n    </tr>\n    <tr>\n      <th>std</th>\n      <td>1.009986</td>\n      <td>1.007306</td>\n      <td>1.009177</td>\n      <td>1.003865</td>\n      <td>1.033014</td>\n      <td>1.013921</td>\n      <td>1.007248</td>\n      <td>1.007763</td>\n      <td>0.988684</td>\n      <td>0.999605</td>\n      <td>0.994886</td>\n      <td>0.403531</td>\n    </tr>\n    <tr>\n      <th>min</th>\n      <td>-3.619982</td>\n      <td>-1.966784</td>\n      <td>-2.761461</td>\n      <td>-1.141827</td>\n      <td>-1.500018</td>\n      <td>-1.958477</td>\n      <td>-3.043919</td>\n      <td>-2.306115</td>\n      <td>-3.101091</td>\n      <td>-2.364468</td>\n      <td>-2.043089</td>\n      <td>0.000000</td>\n    </tr>\n    <tr>\n      <th>25%</th>\n      <td>-0.657434</td>\n      <td>-0.677032</td>\n      <td>-0.613053</td>\n      <td>-0.924953</td>\n      <td>-0.447289</td>\n      <td>-0.723701</td>\n      <td>-0.690870</td>\n      <td>-0.761433</td>\n      <td>-0.650770</td>\n      <td>-0.699639</td>\n      <td>-0.824192</td>\n      <td>0.000000</td>\n    </tr>\n    <tr>\n      <th>50%</th>\n      <td>-0.064924</td>\n      <td>-0.180973</td>\n      <td>-0.117266</td>\n      <td>-0.215182</td>\n      <td>-0.126893</td>\n      <td>-0.076914</td>\n      <td>-0.079078</td>\n      <td>-0.076023</td>\n      <td>-0.054746</td>\n      <td>-0.086281</td>\n      <td>-0.092853</td>\n      <td>0.000000</td>\n    </tr>\n    <tr>\n      <th>75%</th>\n      <td>0.527585</td>\n      <td>0.414297</td>\n      <td>0.461152</td>\n      <td>0.691748</td>\n      <td>0.193503</td>\n      <td>0.628672</td>\n      <td>0.697428</td>\n      <td>0.699662</td>\n      <td>0.607503</td>\n      <td>0.527077</td>\n      <td>0.719745</td>\n      <td>0.000000</td>\n    </tr>\n    <tr>\n      <th>max</th>\n      <td>8.704217</td>\n      <td>8.152811</td>\n      <td>10.955302</td>\n      <td>11.712916</td>\n      <td>13.741673</td>\n      <td>14.916791</td>\n      <td>7.097720</td>\n      <td>15.029763</td>\n      <td>4.183648</td>\n      <td>5.171074</td>\n      <td>2.995020</td>\n      <td>1.000000</td>\n    </tr>\n  </tbody>\n</table>\n</div>"
          },
          "metadata": {}
        }
      ],
      "execution_count": 5,
      "metadata": {
        "id": "KaXlY6KqFVQT",
        "gather": {
          "logged": 1635117326914
        },
        "outputId": "50b4fce2-7875-43f2-dbcb-294310d8ee4e"
      }
    },
    {
      "cell_type": "markdown",
      "source": [
        "## AutoML Configuration\n",
        "\n",
        "TODO: Explain why you chose the automl settings and cofiguration you used below.\n",
        "\n",
        "This project is a classification issue. More so, it is a binary classification issue as teh outcome is whether the wine is of a good quality or not.\n",
        "\n",
        "AUC_weighted is an apporpriate metric to target for a binary classification.\n",
        "[Set up AutoML training with Python](https://docs.microsoft.com/en-us/azure/machine-learning/how-to-configure-auto-train)\n",
        "\n",
        "It is generally recommended to enable early stopping as it is possible that after a while no further improvement in the model is feasible.\n",
        "\n",
        "There is enrally limited to no benefit to using a large number of cross validations. In this instance, we have set it to 3."
      ],
      "metadata": {
        "id": "scO2RZk_DIzL"
      }
    },
    {
      "cell_type": "code",
      "source": [
        "# TODO: Put your automl settings here\n",
        "\n",
        "automl_settings = {\n",
        "    \"iterations\" : 20,\n",
        "    \"experiment_timeout_minutes\" : 30,\n",
        "    \"enable_early_stopping\" : True,\n",
        "    \"iteration_timeout_minutes\" : 5,\n",
        "    \"max_concurrent_iterations\" : 5,\n",
        "    \"max_cores_per_iteration\" : -1,\n",
        "    \"n_cross_validations\" : 3,\n",
        "    \"primary_metric\" : 'AUC_weighted',\n",
        "    \"verbosity\" : logging.INFO,\n",
        "}\n",
        "\n",
        "# Provide the remainder of the settings/configuration\n",
        "# Note that we are not providing a validation data set - and we may need to\n",
        "# \n",
        "\n",
        "\n",
        "# TODO: Put your automl config here\n",
        "automl_config = AutoMLConfig(\n",
        "    compute_target = cc,\n",
        "    task='classification',\n",
        "    training_data=train_ds,\n",
        "    label_column_name=c_constants.LABEL_COLUMN_NAME,\n",
        "    featurization='auto',\n",
        "    model_explainability=True,\n",
        "    debug_log=c_constants.DEBUG_LOG,\n",
        "    **automl_settings)"
      ],
      "outputs": [],
      "execution_count": 6,
      "metadata": {
        "gather": {
          "logged": 1635117327088
        },
        "jupyter": {
          "outputs_hidden": false,
          "source_hidden": false
        },
        "nteract": {
          "transient": {
            "deleting": false
          }
        },
        "id": "uJJWKay5DIzL"
      }
    },
    {
      "cell_type": "code",
      "source": [
        "# TODO: Submit your experiment\n",
        "automl_run = experiment.submit(automl_config)"
      ],
      "outputs": [
        {
          "output_type": "stream",
          "name": "stdout",
          "text": "Submitting remote run.\n"
        },
        {
          "output_type": "display_data",
          "data": {
            "text/plain": "<IPython.core.display.HTML object>",
            "text/html": "<table style=\"width:100%\"><tr><th>Experiment</th><th>Id</th><th>Type</th><th>Status</th><th>Details Page</th><th>Docs Page</th></tr><tr><td>exp-capstone-automl</td><td>AutoML_f180290c-756b-4a06-82d2-d40dfe4f15f5</td><td>automl</td><td>NotStarted</td><td><a href=\"https://ml.azure.com/runs/AutoML_f180290c-756b-4a06-82d2-d40dfe4f15f5?wsid=/subscriptions/d4ad7261-832d-46b2-b093-22156001df5b/resourcegroups/aml-quickstarts-161910/workspaces/quick-starts-ws-161910&amp;tid=660b3398-b80e-49d2-bc5b-ac1dc93b5254\" target=\"_blank\" rel=\"noopener\">Link to Azure Machine Learning studio</a></td><td><a href=\"https://docs.microsoft.com/en-us/python/api/overview/azure/ml/intro?view=azure-ml-py\" target=\"_blank\" rel=\"noopener\">Link to Documentation</a></td></tr></table>"
          },
          "metadata": {}
        }
      ],
      "execution_count": 7,
      "metadata": {
        "gather": {
          "logged": 1635117329013
        },
        "jupyter": {
          "outputs_hidden": false,
          "source_hidden": false
        },
        "nteract": {
          "transient": {
            "deleting": false
          }
        },
        "id": "qm0n8PgRDIzM",
        "outputId": "8df43128-0651-417b-debf-f57a333306c6"
      }
    },
    {
      "cell_type": "markdown",
      "source": [
        "## Run Details\n",
        "\n",
        "OPTIONAL: Write about the different models trained and their performance. Why do you think some models did better than others?\n",
        "\n",
        "TODO: In the cell below, use the `RunDetails` widget to show the different experiments."
      ],
      "metadata": {
        "id": "MR49YIwPDIzN"
      }
    },
    {
      "cell_type": "code",
      "source": [
        "RunDetails(automl_run).show()"
      ],
      "outputs": [
        {
          "output_type": "display_data",
          "data": {
            "text/plain": "_AutoMLWidget(widget_settings={'childWidgetDisplay': 'popup', 'send_telemetry': False, 'log_level': 'INFO', 's…",
            "application/vnd.jupyter.widget-view+json": {
              "version_major": 2,
              "version_minor": 0,
              "model_id": "1b0b5dce8ae043b791036672a402c6b6"
            }
          },
          "metadata": {}
        },
        {
          "output_type": "display_data",
          "data": {
            "application/aml.mini.widget.v1": "{\"status\": \"Completed\", \"workbench_run_details_uri\": \"https://ml.azure.com/runs/AutoML_f180290c-756b-4a06-82d2-d40dfe4f15f5?wsid=/subscriptions/d4ad7261-832d-46b2-b093-22156001df5b/resourcegroups/aml-quickstarts-161910/workspaces/quick-starts-ws-161910&tid=660b3398-b80e-49d2-bc5b-ac1dc93b5254\", \"run_id\": \"AutoML_f180290c-756b-4a06-82d2-d40dfe4f15f5\", \"run_properties\": {\"run_id\": \"AutoML_f180290c-756b-4a06-82d2-d40dfe4f15f5\", \"created_utc\": \"2021-10-24T23:15:28.141752Z\", \"properties\": {\"num_iterations\": \"20\", \"training_type\": \"TrainFull\", \"acquisition_function\": \"EI\", \"primary_metric\": \"AUC_weighted\", \"train_split\": \"0\", \"acquisition_parameter\": \"0\", \"num_cross_validation\": \"3\", \"target\": \"CPU-CC-AUTOML\", \"AMLSettingsJsonString\": \"{\\\"path\\\":null,\\\"name\\\":\\\"exp-capstone-automl\\\",\\\"subscription_id\\\":\\\"d4ad7261-832d-46b2-b093-22156001df5b\\\",\\\"resource_group\\\":\\\"aml-quickstarts-161910\\\",\\\"workspace_name\\\":\\\"quick-starts-ws-161910\\\",\\\"region\\\":\\\"southcentralus\\\",\\\"compute_target\\\":\\\"CPU-CC-AUTOML\\\",\\\"spark_service\\\":null,\\\"azure_service\\\":\\\"remote\\\",\\\"many_models\\\":false,\\\"pipeline_fetch_max_batch_size\\\":1,\\\"enable_batch_run\\\":false,\\\"enable_run_restructure\\\":false,\\\"start_auxiliary_runs_before_parent_complete\\\":false,\\\"enable_code_generation\\\":false,\\\"iterations\\\":20,\\\"primary_metric\\\":\\\"AUC_weighted\\\",\\\"task_type\\\":\\\"classification\\\",\\\"data_script\\\":null,\\\"test_size\\\":0.0,\\\"test_include_predictions_only\\\":false,\\\"validation_size\\\":0.0,\\\"n_cross_validations\\\":3,\\\"y_min\\\":null,\\\"y_max\\\":null,\\\"num_classes\\\":null,\\\"featurization\\\":\\\"auto\\\",\\\"_ignore_package_version_incompatibilities\\\":false,\\\"is_timeseries\\\":false,\\\"max_cores_per_iteration\\\":-1,\\\"max_concurrent_iterations\\\":5,\\\"iteration_timeout_minutes\\\":5,\\\"mem_in_mb\\\":null,\\\"enforce_time_on_windows\\\":false,\\\"experiment_timeout_minutes\\\":30,\\\"experiment_exit_score\\\":null,\\\"whitelist_models\\\":null,\\\"blacklist_algos\\\":[\\\"TensorFlowLinearClassifier\\\",\\\"TensorFlowDNN\\\"],\\\"supported_models\\\":[\\\"SGD\\\",\\\"BernoulliNaiveBayes\\\",\\\"LinearSVM\\\",\\\"TensorFlowDNN\\\",\\\"AveragedPerceptronClassifier\\\",\\\"GradientBoosting\\\",\\\"MultinomialNaiveBayes\\\",\\\"XGBoostClassifier\\\",\\\"RandomForest\\\",\\\"ExtremeRandomTrees\\\",\\\"DecisionTree\\\",\\\"LogisticRegression\\\",\\\"LightGBM\\\",\\\"TensorFlowLinearClassifier\\\",\\\"KNN\\\",\\\"SVM\\\"],\\\"private_models\\\":[],\\\"auto_blacklist\\\":true,\\\"blacklist_samples_reached\\\":false,\\\"exclude_nan_labels\\\":true,\\\"verbosity\\\":20,\\\"_debug_log\\\":\\\"azureml_automl.log\\\",\\\"show_warnings\\\":false,\\\"model_explainability\\\":true,\\\"service_url\\\":null,\\\"sdk_url\\\":null,\\\"sdk_packages\\\":null,\\\"enable_onnx_compatible_models\\\":false,\\\"enable_split_onnx_featurizer_estimator_models\\\":false,\\\"vm_type\\\":\\\"STANDARD_DS12_V2\\\",\\\"telemetry_verbosity\\\":20,\\\"send_telemetry\\\":true,\\\"enable_dnn\\\":false,\\\"scenario\\\":\\\"SDK-1.13.0\\\",\\\"environment_label\\\":null,\\\"save_mlflow\\\":false,\\\"force_text_dnn\\\":false,\\\"enable_feature_sweeping\\\":true,\\\"enable_early_stopping\\\":true,\\\"early_stopping_n_iters\\\":10,\\\"metrics\\\":null,\\\"enable_metric_confidence\\\":false,\\\"enable_ensembling\\\":true,\\\"enable_stack_ensembling\\\":true,\\\"ensemble_iterations\\\":15,\\\"enable_tf\\\":false,\\\"enable_subsampling\\\":false,\\\"subsample_seed\\\":null,\\\"enable_nimbusml\\\":false,\\\"enable_streaming\\\":false,\\\"force_streaming\\\":false,\\\"track_child_runs\\\":true,\\\"allowed_private_models\\\":[],\\\"label_column_name\\\":\\\"quality\\\",\\\"weight_column_name\\\":null,\\\"cv_split_column_names\\\":null,\\\"positive_label\\\":null,\\\"enable_local_managed\\\":false,\\\"_local_managed_run_id\\\":null,\\\"cost_mode\\\":1,\\\"lag_length\\\":0,\\\"metric_operation\\\":\\\"maximize\\\",\\\"preprocess\\\":true}\", \"DataPrepJsonString\": \"{\\\\\\\"training_data\\\\\\\": {\\\\\\\"datasetId\\\\\\\": \\\\\\\"d606f9ee-8aed-47e2-aeb7-6b1cfd49bc46\\\\\\\"}, \\\\\\\"datasets\\\\\\\": 0}\", \"EnableSubsampling\": \"False\", \"runTemplate\": \"AutoML\", \"azureml.runsource\": \"automl\", \"display_task_type\": \"classification\", \"dependencies_versions\": \"{\\\"azureml-widgets\\\": \\\"1.34.0\\\", \\\"azureml-train\\\": \\\"1.34.0\\\", \\\"azureml-train-restclients-hyperdrive\\\": \\\"1.34.0\\\", \\\"azureml-train-core\\\": \\\"1.34.0\\\", \\\"azureml-train-automl\\\": \\\"1.34.0\\\", \\\"azureml-train-automl-runtime\\\": \\\"1.34.0\\\", \\\"azureml-train-automl-client\\\": \\\"1.34.0\\\", \\\"azureml-tensorboard\\\": \\\"1.34.0\\\", \\\"azureml-telemetry\\\": \\\"1.34.0\\\", \\\"azureml-sdk\\\": \\\"1.34.0\\\", \\\"azureml-samples\\\": \\\"0+unknown\\\", \\\"azureml-responsibleai\\\": \\\"1.34.0\\\", \\\"azureml-pipeline\\\": \\\"1.34.0\\\", \\\"azureml-pipeline-steps\\\": \\\"1.34.0\\\", \\\"azureml-pipeline-core\\\": \\\"1.34.0\\\", \\\"azureml-opendatasets\\\": \\\"1.34.0\\\", \\\"azureml-mlflow\\\": \\\"1.34.0\\\", \\\"azureml-interpret\\\": \\\"1.34.0\\\", \\\"azureml-inference-server-http\\\": \\\"0.3.1\\\", \\\"azureml-explain-model\\\": \\\"1.34.0\\\", \\\"azureml-defaults\\\": \\\"1.34.0\\\", \\\"azureml-dataset-runtime\\\": \\\"1.34.0\\\", \\\"azureml-dataprep\\\": \\\"2.22.2\\\", \\\"azureml-dataprep-rslex\\\": \\\"1.20.1\\\", \\\"azureml-dataprep-native\\\": \\\"38.0.0\\\", \\\"azureml-datadrift\\\": \\\"1.34.0\\\", \\\"azureml-core\\\": \\\"1.34.0\\\", \\\"azureml-contrib-services\\\": \\\"1.34.0\\\", \\\"azureml-contrib-server\\\": \\\"1.34.0\\\", \\\"azureml-contrib-reinforcementlearning\\\": \\\"1.34.0\\\", \\\"azureml-contrib-pipeline-steps\\\": \\\"1.34.0\\\", \\\"azureml-contrib-notebook\\\": \\\"1.34.0\\\", \\\"azureml-contrib-fairness\\\": \\\"1.34.0\\\", \\\"azureml-contrib-dataset\\\": \\\"1.34.0\\\", \\\"azureml-contrib-automl-pipeline-steps\\\": \\\"1.34.0\\\", \\\"azureml-cli-common\\\": \\\"1.34.0\\\", \\\"azureml-automl-runtime\\\": \\\"1.34.0\\\", \\\"azureml-automl-dnn-nlp\\\": \\\"1.34.0\\\", \\\"azureml-automl-core\\\": \\\"1.34.0\\\", \\\"azureml-accel-models\\\": \\\"1.34.0\\\"}\", \"_aml_system_scenario_identification\": \"Remote.Parent\", \"ClientType\": \"SDK\", \"environment_cpu_name\": \"AzureML-AutoML\", \"environment_cpu_label\": \"prod\", \"environment_gpu_name\": \"AzureML-AutoML-GPU\", \"environment_gpu_label\": \"prod\", \"root_attribution\": \"automl\", \"attribution\": \"AutoML\", \"Orchestrator\": \"AutoML\", \"CancelUri\": \"https://southcentralus.api.azureml.ms/jasmine/v1.0/subscriptions/d4ad7261-832d-46b2-b093-22156001df5b/resourceGroups/aml-quickstarts-161910/providers/Microsoft.MachineLearningServices/workspaces/quick-starts-ws-161910/experimentids/dbae5b3d-c119-4302-be44-cbfffc0a685b/cancel/AutoML_f180290c-756b-4a06-82d2-d40dfe4f15f5\", \"ClientSdkVersion\": \"1.34.1\", \"snapshotId\": \"00000000-0000-0000-0000-000000000000\", \"SetupRunId\": \"AutoML_f180290c-756b-4a06-82d2-d40dfe4f15f5_setup\", \"SetupRunContainerId\": \"dcid.AutoML_f180290c-756b-4a06-82d2-d40dfe4f15f5_setup\", \"FeaturizationRunJsonPath\": \"featurizer_container.json\", \"FeaturizationRunId\": \"AutoML_f180290c-756b-4a06-82d2-d40dfe4f15f5_featurize\", \"ProblemInfoJsonString\": \"{\\\"dataset_num_categorical\\\": 0, \\\"is_sparse\\\": false, \\\"subsampling\\\": false, \\\"has_extra_col\\\": true, \\\"dataset_classes\\\": 2, \\\"dataset_features\\\": 11, \\\"dataset_samples\\\": 3918, \\\"single_frequency_class_detected\\\": false}\", \"ModelExplainRunId\": \"AutoML_f180290c-756b-4a06-82d2-d40dfe4f15f5_ModelExplain\"}, \"tags\": {\"model_explain_run\": \"best_run\", \"_aml_system_azureml.automlComponent\": \"AutoML\", \"pipeline_id\": \"\", \"score\": \"\", \"predicted_cost\": \"\", \"fit_time\": \"\", \"training_percent\": \"\", \"iteration\": \"\", \"run_preprocessor\": \"\", \"run_algorithm\": \"\", \"automl_best_child_run_id\": \"AutoML_f180290c-756b-4a06-82d2-d40dfe4f15f5_18\", \"model_explain_best_run_child_id\": \"AutoML_f180290c-756b-4a06-82d2-d40dfe4f15f5_18\"}, \"end_time_utc\": \"2021-10-24T23:23:42.908123Z\", \"status\": \"Completed\", \"log_files\": {}, \"log_groups\": [], \"run_duration\": \"0:08:14\", \"run_number\": \"26\", \"run_queued_details\": {\"status\": \"Completed\", \"details\": null}}, \"child_runs\": [{\"run_id\": \"AutoML_f180290c-756b-4a06-82d2-d40dfe4f15f5_setup\", \"run_number\": 27, \"metric\": null, \"status\": \"Completed\", \"run_type\": \"azureml.scriptrun\", \"training_percent\": null, \"start_time\": \"2021-10-24T23:15:40.422568Z\", \"end_time\": \"2021-10-24T23:16:12.495437Z\", \"created_time\": \"2021-10-24T23:15:40.422568Z\", \"created_time_dt\": \"2021-10-24T23:15:40.422568Z\", \"duration\": \"0:00:32\", \"iteration\": null, \"goal\": null, \"run_name\": \"Completed\", \"run_properties\": null}, {\"run_id\": \"AutoML_f180290c-756b-4a06-82d2-d40dfe4f15f5_featurize\", \"run_number\": 28, \"metric\": null, \"status\": \"Completed\", \"run_type\": \"automl.featurization\", \"training_percent\": null, \"start_time\": \"2021-10-24T23:16:13.344958Z\", \"end_time\": \"2021-10-24T23:16:54.193059Z\", \"created_time\": \"2021-10-24T23:16:12.882602Z\", \"created_time_dt\": \"2021-10-24T23:16:12.882602Z\", \"duration\": \"0:00:41\", \"iteration\": null, \"goal\": null, \"run_name\": \"Completed\", \"run_properties\": null}, {\"run_id\": \"AutoML_f180290c-756b-4a06-82d2-d40dfe4f15f5_0\", \"run_number\": 30, \"metric\": null, \"status\": \"Completed\", \"run_type\": \"azureml.scriptrun\", \"training_percent\": \"100\", \"start_time\": \"2021-10-24T23:16:55.073722Z\", \"end_time\": \"2021-10-24T23:17:34.076693Z\", \"created_time\": \"2021-10-24T23:16:55.073722Z\", \"created_time_dt\": \"2021-10-24T23:16:55.073722Z\", \"duration\": \"0:00:39\", \"iteration\": \"0\", \"goal\": \"AUC_weighted_max\", \"run_name\": \"MaxAbsScaler, LightGBM\", \"run_properties\": \"copy=True\", \"primary_metric\": 0.87477201, \"best_metric\": 0.87477201}, {\"run_id\": \"AutoML_f180290c-756b-4a06-82d2-d40dfe4f15f5_2\", \"run_number\": 31, \"metric\": null, \"status\": \"Completed\", \"run_type\": \"azureml.scriptrun\", \"training_percent\": \"100\", \"start_time\": \"2021-10-24T23:16:55.085811Z\", \"end_time\": \"2021-10-24T23:17:34.88257Z\", \"created_time\": \"2021-10-24T23:16:55.085811Z\", \"created_time_dt\": \"2021-10-24T23:16:55.085811Z\", \"duration\": \"0:00:39\", \"iteration\": \"2\", \"goal\": \"AUC_weighted_max\", \"run_name\": \"MaxAbsScaler, ExtremeRandomTrees\", \"run_properties\": \"copy=True\", \"primary_metric\": 0.80391733, \"best_metric\": 0.87477201}, {\"run_id\": \"AutoML_f180290c-756b-4a06-82d2-d40dfe4f15f5_3\", \"run_number\": 32, \"metric\": null, \"status\": \"Completed\", \"run_type\": \"azureml.scriptrun\", \"training_percent\": \"100\", \"start_time\": \"2021-10-24T23:16:55.089467Z\", \"end_time\": \"2021-10-24T23:17:35.722701Z\", \"created_time\": \"2021-10-24T23:16:55.089467Z\", \"created_time_dt\": \"2021-10-24T23:16:55.089467Z\", \"duration\": \"0:00:40\", \"iteration\": \"3\", \"goal\": \"AUC_weighted_max\", \"run_name\": \"MaxAbsScaler, RandomForest\", \"run_properties\": \"copy=True\", \"primary_metric\": 0.83599975, \"best_metric\": 0.87477201}, {\"run_id\": \"AutoML_f180290c-756b-4a06-82d2-d40dfe4f15f5_1\", \"run_number\": 33, \"metric\": null, \"status\": \"Completed\", \"run_type\": \"azureml.scriptrun\", \"training_percent\": \"100\", \"start_time\": \"2021-10-24T23:16:55.11134Z\", \"end_time\": \"2021-10-24T23:18:15.14614Z\", \"created_time\": \"2021-10-24T23:16:55.11134Z\", \"created_time_dt\": \"2021-10-24T23:16:55.11134Z\", \"duration\": \"0:01:20\", \"iteration\": \"1\", \"goal\": \"AUC_weighted_max\", \"run_name\": \"MaxAbsScaler, XGBoostClassifier\", \"run_properties\": \"copy=True\", \"primary_metric\": 0.85616783, \"best_metric\": 0.87477201}, {\"run_id\": \"AutoML_f180290c-756b-4a06-82d2-d40dfe4f15f5_4\", \"run_number\": 34, \"metric\": null, \"status\": \"Completed\", \"run_type\": \"azureml.scriptrun\", \"training_percent\": \"100\", \"start_time\": \"2021-10-24T23:16:55.085819Z\", \"end_time\": \"2021-10-24T23:18:07.317773Z\", \"created_time\": \"2021-10-24T23:16:55.085819Z\", \"created_time_dt\": \"2021-10-24T23:16:55.085819Z\", \"duration\": \"0:01:12\", \"iteration\": \"4\", \"goal\": \"AUC_weighted_max\", \"run_name\": \"StandardScalerWrapper, LightGBM\", \"run_properties\": \"\\n    copy=True,\\n    with_mean=False,\\n    with_std=True\\n\", \"primary_metric\": 0.82708627, \"best_metric\": 0.87477201}, {\"run_id\": \"AutoML_f180290c-756b-4a06-82d2-d40dfe4f15f5_5\", \"run_number\": 35, \"metric\": null, \"status\": \"Completed\", \"run_type\": \"azureml.scriptrun\", \"training_percent\": \"100\", \"start_time\": \"2021-10-24T23:17:35.690985Z\", \"end_time\": \"2021-10-24T23:18:54.58031Z\", \"created_time\": \"2021-10-24T23:17:35.690985Z\", \"created_time_dt\": \"2021-10-24T23:17:35.690985Z\", \"duration\": \"0:01:18\", \"iteration\": \"5\", \"goal\": \"AUC_weighted_max\", \"run_name\": \"StandardScalerWrapper, KNN\", \"run_properties\": \"\\n    copy=True,\\n    with_mean=True,\\n    with_std=False\\n\", \"primary_metric\": 0.89068455, \"best_metric\": 0.89068455}, {\"run_id\": \"AutoML_f180290c-756b-4a06-82d2-d40dfe4f15f5_6\", \"run_number\": 36, \"metric\": null, \"status\": \"Completed\", \"run_type\": \"azureml.scriptrun\", \"training_percent\": \"100\", \"start_time\": \"2021-10-24T23:17:39.408532Z\", \"end_time\": \"2021-10-24T23:19:35.54399Z\", \"created_time\": \"2021-10-24T23:17:39.408532Z\", \"created_time_dt\": \"2021-10-24T23:17:39.408532Z\", \"duration\": \"0:01:56\", \"iteration\": \"6\", \"goal\": \"AUC_weighted_max\", \"run_name\": \"SparseNormalizer, XGBoostClassifier\", \"run_properties\": \"copy=True, norm='max'\", \"primary_metric\": 0.84735927, \"best_metric\": 0.89068455}, {\"run_id\": \"AutoML_f180290c-756b-4a06-82d2-d40dfe4f15f5_7\", \"run_number\": 37, \"metric\": null, \"status\": \"Completed\", \"run_type\": \"azureml.scriptrun\", \"training_percent\": \"100\", \"start_time\": \"2021-10-24T23:17:39.425369Z\", \"end_time\": \"2021-10-24T23:19:30.883096Z\", \"created_time\": \"2021-10-24T23:17:39.425369Z\", \"created_time_dt\": \"2021-10-24T23:17:39.425369Z\", \"duration\": \"0:01:51\", \"iteration\": \"7\", \"goal\": \"AUC_weighted_max\", \"run_name\": \"SparseNormalizer, RandomForest\", \"run_properties\": \"copy=True, norm='l2'\", \"primary_metric\": 0.85459918, \"best_metric\": 0.89068455}, {\"run_id\": \"AutoML_f180290c-756b-4a06-82d2-d40dfe4f15f5_8\", \"run_number\": 38, \"metric\": null, \"status\": \"Completed\", \"run_type\": \"azureml.scriptrun\", \"training_percent\": \"100\", \"start_time\": \"2021-10-24T23:18:10.400523Z\", \"end_time\": \"2021-10-24T23:19:29.463507Z\", \"created_time\": \"2021-10-24T23:18:10.400523Z\", \"created_time_dt\": \"2021-10-24T23:18:10.400523Z\", \"duration\": \"0:01:19\", \"iteration\": \"8\", \"goal\": \"AUC_weighted_max\", \"run_name\": \"RobustScaler, KNN\", \"run_properties\": \"copy=True, quantile_range=[25, 75], with_centering=False,\\n             with_scaling=True\", \"primary_metric\": 0.88795529, \"best_metric\": 0.89068455}, {\"run_id\": \"AutoML_f180290c-756b-4a06-82d2-d40dfe4f15f5_9\", \"run_number\": 39, \"metric\": null, \"status\": \"Completed\", \"run_type\": \"azureml.scriptrun\", \"training_percent\": \"100\", \"start_time\": \"2021-10-24T23:18:17.991613Z\", \"end_time\": \"2021-10-24T23:20:03.591325Z\", \"created_time\": \"2021-10-24T23:18:17.991613Z\", \"created_time_dt\": \"2021-10-24T23:18:17.991613Z\", \"duration\": \"0:01:45\", \"iteration\": \"9\", \"goal\": \"AUC_weighted_max\", \"run_name\": \"MinMaxScaler, RandomForest\", \"run_properties\": \"copy=True, feature_range=(0, 1\", \"primary_metric\": 0.80599156, \"best_metric\": 0.89068455}, {\"run_id\": \"AutoML_f180290c-756b-4a06-82d2-d40dfe4f15f5_10\", \"run_number\": 40, \"metric\": null, \"status\": \"Completed\", \"run_type\": \"azureml.scriptrun\", \"training_percent\": \"100\", \"start_time\": \"2021-10-24T23:18:57.355815Z\", \"end_time\": \"2021-10-24T23:20:19.213915Z\", \"created_time\": \"2021-10-24T23:18:57.355815Z\", \"created_time_dt\": \"2021-10-24T23:18:57.355815Z\", \"duration\": \"0:01:21\", \"iteration\": \"10\", \"goal\": \"AUC_weighted_max\", \"run_name\": \"StandardScalerWrapper, LogisticRegression\", \"run_properties\": \"\\n    copy=True,\\n    with_mean=True,\\n    with_std=True\\n\", \"primary_metric\": 0.78328745, \"best_metric\": 0.89068455}, {\"run_id\": \"AutoML_f180290c-756b-4a06-82d2-d40dfe4f15f5_11\", \"run_number\": 41, \"metric\": null, \"status\": \"Completed\", \"run_type\": \"azureml.scriptrun\", \"training_percent\": \"100\", \"start_time\": \"2021-10-24T23:19:32.440933Z\", \"end_time\": \"2021-10-24T23:21:20.026696Z\", \"created_time\": \"2021-10-24T23:19:32.440933Z\", \"created_time_dt\": \"2021-10-24T23:19:32.440933Z\", \"duration\": \"0:01:47\", \"iteration\": \"11\", \"goal\": \"AUC_weighted_max\", \"run_name\": \"StandardScalerWrapper, SVM\", \"run_properties\": \"\\n    copy=True,\\n    with_mean=True,\\n    with_std=True\\n\", \"primary_metric\": 0.8134393, \"best_metric\": 0.89068455}, {\"run_id\": \"AutoML_f180290c-756b-4a06-82d2-d40dfe4f15f5_12\", \"run_number\": 42, \"metric\": null, \"status\": \"Completed\", \"run_type\": \"azureml.scriptrun\", \"training_percent\": \"100\", \"start_time\": \"2021-10-24T23:19:36.01927Z\", \"end_time\": \"2021-10-24T23:21:38.180057Z\", \"created_time\": \"2021-10-24T23:19:36.01927Z\", \"created_time_dt\": \"2021-10-24T23:19:36.01927Z\", \"duration\": \"0:02:02\", \"iteration\": \"12\", \"goal\": \"AUC_weighted_max\", \"run_name\": \"StandardScalerWrapper, XGBoostClassifier\", \"run_properties\": \"\\n    copy=True,\\n    with_mean=False,\\n    with_std=False\\n\", \"primary_metric\": 0.86359944, \"best_metric\": 0.89068455}, {\"run_id\": \"AutoML_f180290c-756b-4a06-82d2-d40dfe4f15f5_13\", \"run_number\": 43, \"metric\": null, \"status\": \"Completed\", \"run_type\": \"azureml.scriptrun\", \"training_percent\": \"100\", \"start_time\": \"2021-10-24T23:19:39.678647Z\", \"end_time\": \"2021-10-24T23:21:38.569162Z\", \"created_time\": \"2021-10-24T23:19:39.678647Z\", \"created_time_dt\": \"2021-10-24T23:19:39.678647Z\", \"duration\": \"0:01:58\", \"iteration\": \"13\", \"goal\": \"AUC_weighted_max\", \"run_name\": \"SparseNormalizer, KNN\", \"run_properties\": \"copy=True, norm='max'\", \"primary_metric\": 0.88147794, \"best_metric\": 0.89068455}, {\"run_id\": \"AutoML_f180290c-756b-4a06-82d2-d40dfe4f15f5_14\", \"run_number\": 44, \"metric\": null, \"status\": \"Completed\", \"run_type\": \"azureml.scriptrun\", \"training_percent\": \"100\", \"start_time\": \"2021-10-24T23:20:06.405839Z\", \"end_time\": \"2021-10-24T23:21:54.814588Z\", \"created_time\": \"2021-10-24T23:20:06.405839Z\", \"created_time_dt\": \"2021-10-24T23:20:06.405839Z\", \"duration\": \"0:01:48\", \"iteration\": \"14\", \"goal\": \"AUC_weighted_max\", \"run_name\": \"RobustScaler, ExtremeRandomTrees\", \"run_properties\": \"copy=True, quantile_range=[10, 90], with_centering=True,\\n             with_scaling=False\", \"primary_metric\": 0.78694156, \"best_metric\": 0.89068455}, {\"run_id\": \"AutoML_f180290c-756b-4a06-82d2-d40dfe4f15f5_15\", \"run_number\": 45, \"metric\": null, \"status\": \"Completed\", \"run_type\": \"azureml.scriptrun\", \"training_percent\": \"100\", \"start_time\": \"2021-10-24T23:20:21.936867Z\", \"end_time\": \"2021-10-24T23:22:11.904861Z\", \"created_time\": \"2021-10-24T23:20:21.936867Z\", \"created_time_dt\": \"2021-10-24T23:20:21.936867Z\", \"duration\": \"0:01:49\", \"iteration\": \"15\", \"goal\": \"AUC_weighted_max\", \"run_name\": \"SparseNormalizer, XGBoostClassifier\", \"run_properties\": \"copy=True, norm='max'\", \"primary_metric\": 0.85193891, \"best_metric\": 0.89068455}, {\"run_id\": \"AutoML_f180290c-756b-4a06-82d2-d40dfe4f15f5_16\", \"run_number\": 46, \"metric\": null, \"status\": \"Completed\", \"run_type\": \"azureml.scriptrun\", \"training_percent\": \"100\", \"start_time\": \"2021-10-24T23:21:23.06703Z\", \"end_time\": \"2021-10-24T23:22:18.416259Z\", \"created_time\": \"2021-10-24T23:21:23.06703Z\", \"created_time_dt\": \"2021-10-24T23:21:23.06703Z\", \"duration\": \"0:00:55\", \"iteration\": \"16\", \"goal\": \"AUC_weighted_max\", \"run_name\": \"MinMaxScaler, ExtremeRandomTrees\", \"run_properties\": \"copy=True, feature_range=(0, 1\", \"primary_metric\": 0.81415387, \"best_metric\": 0.89068455}, {\"run_id\": \"AutoML_f180290c-756b-4a06-82d2-d40dfe4f15f5_17\", \"run_number\": 47, \"metric\": null, \"status\": \"Completed\", \"run_type\": \"azureml.scriptrun\", \"training_percent\": \"100\", \"start_time\": \"2021-10-24T23:21:40.831289Z\", \"end_time\": \"2021-10-24T23:22:50.842634Z\", \"created_time\": \"2021-10-24T23:21:40.831289Z\", \"created_time_dt\": \"2021-10-24T23:21:40.831289Z\", \"duration\": \"0:01:10\", \"iteration\": \"17\", \"goal\": \"AUC_weighted_max\", \"run_name\": \"MinMaxScaler, ExtremeRandomTrees\", \"run_properties\": \"copy=True, feature_range=(0, 1\", \"primary_metric\": 0.8352766, \"best_metric\": 0.89068455}, {\"run_id\": \"AutoML_f180290c-756b-4a06-82d2-d40dfe4f15f5_18\", \"run_number\": 48, \"metric\": null, \"status\": \"Completed\", \"run_type\": \"azureml.scriptrun\", \"training_percent\": \"100\", \"start_time\": \"2021-10-24T23:22:51.81728Z\", \"end_time\": \"2021-10-24T23:23:41.100704Z\", \"created_time\": \"2021-10-24T23:22:51.81728Z\", \"created_time_dt\": \"2021-10-24T23:22:51.81728Z\", \"duration\": \"0:00:49\", \"iteration\": \"18\", \"goal\": \"AUC_weighted_max\", \"run_name\": \"VotingEnsemble\", \"run_properties\": \"\\n    estimators=[('5', Pipeline(\\n        memory=None,\\n        steps=[('standardscalerwrapper', StandardScalerWrapper(\\n            copy=True,\\n            with_mean=True,\\n            with_std=False\\n        \", \"primary_metric\": 0.90084171, \"best_metric\": 0.90084171}, {\"run_id\": \"AutoML_f180290c-756b-4a06-82d2-d40dfe4f15f5_19\", \"run_number\": 49, \"metric\": null, \"status\": \"Completed\", \"run_type\": \"azureml.scriptrun\", \"training_percent\": \"100\", \"start_time\": \"2021-10-24T23:22:51.841315Z\", \"end_time\": \"2021-10-24T23:23:41.335985Z\", \"created_time\": \"2021-10-24T23:22:51.841315Z\", \"created_time_dt\": \"2021-10-24T23:22:51.841315Z\", \"duration\": \"0:00:49\", \"iteration\": \"19\", \"goal\": \"AUC_weighted_max\", \"run_name\": \"StackEnsemble\", \"run_properties\": \"\\n    base_learners=[('5', Pipeline(\\n        memory=None,\\n        steps=[('standardscalerwrapper', StandardScalerWrapper(\\n            copy=True,\\n            with_mean=True,\\n            with_std=False\\n        \", \"primary_metric\": 0.8998608, \"best_metric\": 0.90084171}], \"children_metrics\": {\"categories\": [0], \"series\": {\"recall_score_macro\": [{\"categories\": [\"0\", \"1\", \"2\", \"3\", \"4\", \"5\", \"6\", \"7\", \"8\", \"9\", \"10\", \"11\", \"12\", \"13\", \"14\", \"15\", \"16\", \"17\", \"18\", \"19\"], \"mode\": \"markers\", \"name\": \"recall_score_macro\", \"stepped\": false, \"type\": \"scatter\", \"data\": [0.7463034425720866, 0.6624738700401603, 0.5049378748299017, 0.5997251327511116, 0.5634297117930308, 0.7170064492418965, 0.6670673262695382, 0.7740248839637719, 0.7254569382104489, 0.5646226628170212, 0.5997660067578833, 0.5719636628589059, 0.6626313870271868, 0.7527222711488383, 0.714996603022107, 0.6738954011993551, 0.5833616772182677, 0.7493510152518778, 0.7350760051513773, 0.5596843036722796]}, {\"categories\": [\"0\", \"1\", \"2\", \"3\", \"4\", \"5\", \"6\", \"7\", \"8\", \"9\", \"10\", \"11\", \"12\", \"13\", \"14\", \"15\", \"16\", \"17\", \"18\", \"19\"], \"mode\": \"lines\", \"name\": \"recall_score_macro_max\", \"stepped\": true, \"type\": \"scatter\", \"data\": [0.7463034425720866, 0.7463034425720866, 0.7463034425720866, 0.7463034425720866, 0.7463034425720866, 0.7463034425720866, 0.7463034425720866, 0.7740248839637719, 0.7740248839637719, 0.7740248839637719, 0.7740248839637719, 0.7740248839637719, 0.7740248839637719, 0.7740248839637719, 0.7740248839637719, 0.7740248839637719, 0.7740248839637719, 0.7740248839637719, 0.7740248839637719, 0.7740248839637719]}], \"AUC_macro\": [{\"categories\": [\"0\", \"1\", \"2\", \"3\", \"4\", \"5\", \"6\", \"7\", \"8\", \"9\", \"10\", \"11\", \"12\", \"13\", \"14\", \"15\", \"16\", \"17\", \"18\", \"19\"], \"mode\": \"markers\", \"name\": \"AUC_macro\", \"stepped\": false, \"type\": \"scatter\", \"data\": [0.8747720080428237, 0.856167833445954, 0.8039173254516041, 0.8359997522681586, 0.8270862682003958, 0.8906845482668623, 0.8473592651015087, 0.854599183445421, 0.8879552900464768, 0.8059915586755521, 0.7832874471797459, 0.8134392953530213, 0.8635994433261658, 0.8814779425707989, 0.7869415566685894, 0.8519389058233221, 0.8141538655011539, 0.8352766037601995, 0.9008417094606811, 0.8998608047244678]}, {\"categories\": [\"0\", \"1\", \"2\", \"3\", \"4\", \"5\", \"6\", \"7\", \"8\", \"9\", \"10\", \"11\", \"12\", \"13\", \"14\", \"15\", \"16\", \"17\", \"18\", \"19\"], \"mode\": \"lines\", \"name\": \"AUC_macro_max\", \"stepped\": true, \"type\": \"scatter\", \"data\": [0.8747720080428237, 0.8747720080428237, 0.8747720080428237, 0.8747720080428237, 0.8747720080428237, 0.8906845482668623, 0.8906845482668623, 0.8906845482668623, 0.8906845482668623, 0.8906845482668623, 0.8906845482668623, 0.8906845482668623, 0.8906845482668623, 0.8906845482668623, 0.8906845482668623, 0.8906845482668623, 0.8906845482668623, 0.8906845482668623, 0.9008417094606811, 0.9008417094606811]}], \"log_loss\": [{\"categories\": [\"0\", \"1\", \"2\", \"3\", \"4\", \"5\", \"6\", \"7\", \"8\", \"9\", \"10\", \"11\", \"12\", \"13\", \"14\", \"15\", \"16\", \"17\", \"18\", \"19\"], \"mode\": \"markers\", \"name\": \"log_loss\", \"stepped\": false, \"type\": \"scatter\", \"data\": [0.35553689064858185, 0.3650022372882698, 0.4232486905397079, 0.3881025156494613, 0.4040269148556607, 0.3526749409095127, 0.44688531308441065, 0.45228980168986394, 0.38465110534638375, 0.4099505148469542, 0.42395569255832505, 0.4106374098901186, 0.43611625816221405, 0.6649678072454004, 0.5745093708556775, 0.4422978300099259, 0.4079282176629373, 0.49948391215592713, 0.3292963478381196, 0.4152944585705616]}, {\"categories\": [\"0\", \"1\", \"2\", \"3\", \"4\", \"5\", \"6\", \"7\", \"8\", \"9\", \"10\", \"11\", \"12\", \"13\", \"14\", \"15\", \"16\", \"17\", \"18\", \"19\"], \"mode\": \"lines\", \"name\": \"log_loss_min\", \"stepped\": true, \"type\": \"scatter\", \"data\": [0.35553689064858185, 0.35553689064858185, 0.35553689064858185, 0.35553689064858185, 0.35553689064858185, 0.3526749409095127, 0.3526749409095127, 0.3526749409095127, 0.3526749409095127, 0.3526749409095127, 0.3526749409095127, 0.3526749409095127, 0.3526749409095127, 0.3526749409095127, 0.3526749409095127, 0.3526749409095127, 0.3526749409095127, 0.3526749409095127, 0.3292963478381196, 0.3292963478381196]}], \"matthews_correlation\": [{\"categories\": [\"0\", \"1\", \"2\", \"3\", \"4\", \"5\", \"6\", \"7\", \"8\", \"9\", \"10\", \"11\", \"12\", \"13\", \"14\", \"15\", \"16\", \"17\", \"18\", \"19\"], \"mode\": \"markers\", \"name\": \"matthews_correlation\", \"stepped\": false, \"type\": \"scatter\", \"data\": [0.5458415684249177, 0.40456120411707586, 0.05282663515519822, 0.2962348908062309, 0.23073574263524935, 0.5214068255954161, 0.40609149965519603, 0.4703981563863488, 0.5352337737980291, 0.23568085321300405, 0.2826797451515438, 0.23793565910162365, 0.4225142054884648, 0.5410683286847212, 0.35472244629753025, 0.43399083143096345, 0.2850796651551732, 0.4133445604414543, 0.5534033792044833, 0.1716344567423258]}, {\"categories\": [\"0\", \"1\", \"2\", \"3\", \"4\", \"5\", \"6\", \"7\", \"8\", \"9\", \"10\", \"11\", \"12\", \"13\", \"14\", \"15\", \"16\", \"17\", \"18\", \"19\"], \"mode\": \"lines\", \"name\": \"matthews_correlation_max\", \"stepped\": true, \"type\": \"scatter\", \"data\": [0.5458415684249177, 0.5458415684249177, 0.5458415684249177, 0.5458415684249177, 0.5458415684249177, 0.5458415684249177, 0.5458415684249177, 0.5458415684249177, 0.5458415684249177, 0.5458415684249177, 0.5458415684249177, 0.5458415684249177, 0.5458415684249177, 0.5458415684249177, 0.5458415684249177, 0.5458415684249177, 0.5458415684249177, 0.5458415684249177, 0.5534033792044833, 0.5534033792044833]}], \"precision_score_macro\": [{\"categories\": [\"0\", \"1\", \"2\", \"3\", \"4\", \"5\", \"6\", \"7\", \"8\", \"9\", \"10\", \"11\", \"12\", \"13\", \"14\", \"15\", \"16\", \"17\", \"18\", \"19\"], \"mode\": \"markers\", \"name\": \"precision_score_macro\", \"stepped\": false, \"type\": \"scatter\", \"data\": [0.8039357167855107, 0.7545833968733633, 0.6206129431783921, 0.7276287470194935, 0.7292594302026082, 0.8162920874616844, 0.750982751160208, 0.7024623372053501, 0.8202787926731285, 0.727935564903035, 0.7054364668262002, 0.7006023734875081, 0.7786836683953906, 0.7921414518492997, 0.6466324078017128, 0.773795429330996, 0.7557404370805395, 0.6716925892244309, 0.8285915911940213, 0.5603501522947626]}, {\"categories\": [\"0\", \"1\", \"2\", \"3\", \"4\", \"5\", \"6\", \"7\", \"8\", \"9\", \"10\", \"11\", \"12\", \"13\", \"14\", \"15\", \"16\", \"17\", \"18\", \"19\"], \"mode\": \"lines\", \"name\": \"precision_score_macro_max\", \"stepped\": true, \"type\": \"scatter\", \"data\": [0.8039357167855107, 0.8039357167855107, 0.8039357167855107, 0.8039357167855107, 0.8039357167855107, 0.8162920874616844, 0.8162920874616844, 0.8162920874616844, 0.8202787926731285, 0.8202787926731285, 0.8202787926731285, 0.8202787926731285, 0.8202787926731285, 0.8202787926731285, 0.8202787926731285, 0.8202787926731285, 0.8202787926731285, 0.8202787926731285, 0.8285915911940213, 0.8285915911940213]}], \"recall_score_weighted\": [{\"categories\": [\"0\", \"1\", \"2\", \"3\", \"4\", \"5\", \"6\", \"7\", \"8\", \"9\", \"10\", \"11\", \"12\", \"13\", \"14\", \"15\", \"16\", \"17\", \"18\", \"19\"], \"mode\": \"markers\", \"name\": \"recall_score_weighted\", \"stepped\": false, \"type\": \"scatter\", \"data\": [0.8621745788667687, 0.8292496171516079, 0.7963246554364473, 0.8103624298111282, 0.8052577845839713, 0.8583460949464014, 0.8272077590607453, 0.781010719754977, 0.8621745788667687, 0.8050025523226135, 0.8052577845839713, 0.8037263910158243, 0.8358856559469118, 0.8568147013782542, 0.7062276671771311, 0.8371618172537009, 0.8118938233792751, 0.7325165900969882, 0.866513527309852, 0.821337417049515]}, {\"categories\": [\"0\", \"1\", \"2\", \"3\", \"4\", \"5\", \"6\", \"7\", \"8\", \"9\", \"10\", \"11\", \"12\", \"13\", \"14\", \"15\", \"16\", \"17\", \"18\", \"19\"], \"mode\": \"lines\", \"name\": \"recall_score_weighted_max\", \"stepped\": true, \"type\": \"scatter\", \"data\": [0.8621745788667687, 0.8621745788667687, 0.8621745788667687, 0.8621745788667687, 0.8621745788667687, 0.8621745788667687, 0.8621745788667687, 0.8621745788667687, 0.8621745788667687, 0.8621745788667687, 0.8621745788667687, 0.8621745788667687, 0.8621745788667687, 0.8621745788667687, 0.8621745788667687, 0.8621745788667687, 0.8621745788667687, 0.8621745788667687, 0.866513527309852, 0.866513527309852]}], \"AUC_weighted\": [{\"categories\": [\"0\", \"1\", \"2\", \"3\", \"4\", \"5\", \"6\", \"7\", \"8\", \"9\", \"10\", \"11\", \"12\", \"13\", \"14\", \"15\", \"16\", \"17\", \"18\", \"19\"], \"mode\": \"markers\", \"name\": \"AUC_weighted\", \"stepped\": false, \"type\": \"scatter\", \"data\": [0.8747720080428237, 0.856167833445954, 0.8039173254516041, 0.8359997522681586, 0.8270862682003958, 0.8906845482668624, 0.8473592651015087, 0.854599183445421, 0.8879552900464768, 0.8059915586755521, 0.7832874471797459, 0.8134392953530214, 0.8635994433261658, 0.881477942570799, 0.7869415566685894, 0.8519389058233221, 0.8141538655011539, 0.8352766037601994, 0.9008417094606811, 0.8998608047244678]}, {\"categories\": [\"0\", \"1\", \"2\", \"3\", \"4\", \"5\", \"6\", \"7\", \"8\", \"9\", \"10\", \"11\", \"12\", \"13\", \"14\", \"15\", \"16\", \"17\", \"18\", \"19\"], \"mode\": \"lines\", \"name\": \"AUC_weighted_max\", \"stepped\": true, \"type\": \"scatter\", \"data\": [0.8747720080428237, 0.8747720080428237, 0.8747720080428237, 0.8747720080428237, 0.8747720080428237, 0.8906845482668624, 0.8906845482668624, 0.8906845482668624, 0.8906845482668624, 0.8906845482668624, 0.8906845482668624, 0.8906845482668624, 0.8906845482668624, 0.8906845482668624, 0.8906845482668624, 0.8906845482668624, 0.8906845482668624, 0.8906845482668624, 0.9008417094606811, 0.9008417094606811]}], \"accuracy\": [{\"categories\": [\"0\", \"1\", \"2\", \"3\", \"4\", \"5\", \"6\", \"7\", \"8\", \"9\", \"10\", \"11\", \"12\", \"13\", \"14\", \"15\", \"16\", \"17\", \"18\", \"19\"], \"mode\": \"markers\", \"name\": \"accuracy\", \"stepped\": false, \"type\": \"scatter\", \"data\": [0.8621745788667687, 0.8292496171516079, 0.7963246554364473, 0.8103624298111282, 0.8052577845839713, 0.8583460949464014, 0.8272077590607453, 0.781010719754977, 0.8621745788667687, 0.8050025523226135, 0.8052577845839713, 0.8037263910158243, 0.8358856559469118, 0.8568147013782542, 0.7062276671771311, 0.8371618172537009, 0.8118938233792751, 0.7325165900969882, 0.866513527309852, 0.821337417049515]}, {\"categories\": [\"0\", \"1\", \"2\", \"3\", \"4\", \"5\", \"6\", \"7\", \"8\", \"9\", \"10\", \"11\", \"12\", \"13\", \"14\", \"15\", \"16\", \"17\", \"18\", \"19\"], \"mode\": \"lines\", \"name\": \"accuracy_max\", \"stepped\": true, \"type\": \"scatter\", \"data\": [0.8621745788667687, 0.8621745788667687, 0.8621745788667687, 0.8621745788667687, 0.8621745788667687, 0.8621745788667687, 0.8621745788667687, 0.8621745788667687, 0.8621745788667687, 0.8621745788667687, 0.8621745788667687, 0.8621745788667687, 0.8621745788667687, 0.8621745788667687, 0.8621745788667687, 0.8621745788667687, 0.8621745788667687, 0.8621745788667687, 0.866513527309852, 0.866513527309852]}], \"precision_score_micro\": [{\"categories\": [\"0\", \"1\", \"2\", \"3\", \"4\", \"5\", \"6\", \"7\", \"8\", \"9\", \"10\", \"11\", \"12\", \"13\", \"14\", \"15\", \"16\", \"17\", \"18\", \"19\"], \"mode\": \"markers\", \"name\": \"precision_score_micro\", \"stepped\": false, \"type\": \"scatter\", \"data\": [0.8621745788667687, 0.8292496171516079, 0.7963246554364473, 0.8103624298111282, 0.8052577845839713, 0.8583460949464014, 0.8272077590607453, 0.781010719754977, 0.8621745788667687, 0.8050025523226135, 0.8052577845839713, 0.8037263910158243, 0.8358856559469118, 0.8568147013782542, 0.7062276671771311, 0.8371618172537009, 0.8118938233792751, 0.7325165900969882, 0.866513527309852, 0.821337417049515]}, {\"categories\": [\"0\", \"1\", \"2\", \"3\", \"4\", \"5\", \"6\", \"7\", \"8\", \"9\", \"10\", \"11\", \"12\", \"13\", \"14\", \"15\", \"16\", \"17\", \"18\", \"19\"], \"mode\": \"lines\", \"name\": \"precision_score_micro_max\", \"stepped\": true, \"type\": \"scatter\", \"data\": [0.8621745788667687, 0.8621745788667687, 0.8621745788667687, 0.8621745788667687, 0.8621745788667687, 0.8621745788667687, 0.8621745788667687, 0.8621745788667687, 0.8621745788667687, 0.8621745788667687, 0.8621745788667687, 0.8621745788667687, 0.8621745788667687, 0.8621745788667687, 0.8621745788667687, 0.8621745788667687, 0.8621745788667687, 0.8621745788667687, 0.866513527309852, 0.866513527309852]}], \"precision_score_weighted\": [{\"categories\": [\"0\", \"1\", \"2\", \"3\", \"4\", \"5\", \"6\", \"7\", \"8\", \"9\", \"10\", \"11\", \"12\", \"13\", \"14\", \"15\", \"16\", \"17\", \"18\", \"19\"], \"mode\": \"markers\", \"name\": \"precision_score_weighted\", \"stepped\": false, \"type\": \"scatter\", \"data\": [0.8573347046925147, 0.8170806573349325, 0.7247740468491582, 0.7912937488273625, 0.7833302120735247, 0.8546150241623968, 0.8167941700017979, 0.8364167080251638, 0.8581149553720385, 0.7840828971855305, 0.782530209816538, 0.7736680532446968, 0.8263390162437082, 0.8550534971866527, 0.8030569854311468, 0.8268706701617924, 0.7993443470987587, 0.8236057326917856, 0.8642666851625199, 0.7225368998109509]}, {\"categories\": [\"0\", \"1\", \"2\", \"3\", \"4\", \"5\", \"6\", \"7\", \"8\", \"9\", \"10\", \"11\", \"12\", \"13\", \"14\", \"15\", \"16\", \"17\", \"18\", \"19\"], \"mode\": \"lines\", \"name\": \"precision_score_weighted_max\", \"stepped\": true, \"type\": \"scatter\", \"data\": [0.8573347046925147, 0.8573347046925147, 0.8573347046925147, 0.8573347046925147, 0.8573347046925147, 0.8573347046925147, 0.8573347046925147, 0.8573347046925147, 0.8581149553720385, 0.8581149553720385, 0.8581149553720385, 0.8581149553720385, 0.8581149553720385, 0.8581149553720385, 0.8581149553720385, 0.8581149553720385, 0.8581149553720385, 0.8581149553720385, 0.8642666851625199, 0.8642666851625199]}], \"AUC_micro\": [{\"categories\": [\"0\", \"1\", \"2\", \"3\", \"4\", \"5\", \"6\", \"7\", \"8\", \"9\", \"10\", \"11\", \"12\", \"13\", \"14\", \"15\", \"16\", \"17\", \"18\", \"19\"], \"mode\": \"markers\", \"name\": \"AUC_micro\", \"stepped\": false, \"type\": \"scatter\", \"data\": [0.9297306107516493, 0.9171886615901634, 0.8942498086735192, 0.9062687857588996, 0.9025151517283484, 0.9408263740524552, 0.913322655009627, 0.8723092148617876, 0.9400667356145548, 0.8954636276438818, 0.8874271337299792, 0.897503140568484, 0.9216382237085364, 0.9346945460031723, 0.7836890950550606, 0.9172846179763248, 0.8982696190746443, 0.8353916075880199, 0.9433996077318568, 0.9313444759999593]}, {\"categories\": [\"0\", \"1\", \"2\", \"3\", \"4\", \"5\", \"6\", \"7\", \"8\", \"9\", \"10\", \"11\", \"12\", \"13\", \"14\", \"15\", \"16\", \"17\", \"18\", \"19\"], \"mode\": \"lines\", \"name\": \"AUC_micro_max\", \"stepped\": true, \"type\": \"scatter\", \"data\": [0.9297306107516493, 0.9297306107516493, 0.9297306107516493, 0.9297306107516493, 0.9297306107516493, 0.9408263740524552, 0.9408263740524552, 0.9408263740524552, 0.9408263740524552, 0.9408263740524552, 0.9408263740524552, 0.9408263740524552, 0.9408263740524552, 0.9408263740524552, 0.9408263740524552, 0.9408263740524552, 0.9408263740524552, 0.9408263740524552, 0.9433996077318568, 0.9433996077318568]}], \"average_precision_score_micro\": [{\"categories\": [\"0\", \"1\", \"2\", \"3\", \"4\", \"5\", \"6\", \"7\", \"8\", \"9\", \"10\", \"11\", \"12\", \"13\", \"14\", \"15\", \"16\", \"17\", \"18\", \"19\"], \"mode\": \"markers\", \"name\": \"average_precision_score_micro\", \"stepped\": false, \"type\": \"scatter\", \"data\": [0.9286119475470093, 0.9196305245690191, 0.8973377394086258, 0.9086503300967554, 0.9059576203556149, 0.9422039251012301, 0.9148150889278432, 0.8765877690198649, 0.9407147302382524, 0.8989442304770877, 0.8841210589068305, 0.8939713674720305, 0.9219930827509507, 0.9303055251327855, 0.7833905491782488, 0.9172868316384504, 0.9012611595871567, 0.8425281936270247, 0.9445614606320567, 0.9336606589975389]}, {\"categories\": [\"0\", \"1\", \"2\", \"3\", \"4\", \"5\", \"6\", \"7\", \"8\", \"9\", \"10\", \"11\", \"12\", \"13\", \"14\", \"15\", \"16\", \"17\", \"18\", \"19\"], \"mode\": \"lines\", \"name\": \"average_precision_score_micro_max\", \"stepped\": true, \"type\": \"scatter\", \"data\": [0.9286119475470093, 0.9286119475470093, 0.9286119475470093, 0.9286119475470093, 0.9286119475470093, 0.9422039251012301, 0.9422039251012301, 0.9422039251012301, 0.9422039251012301, 0.9422039251012301, 0.9422039251012301, 0.9422039251012301, 0.9422039251012301, 0.9422039251012301, 0.9422039251012301, 0.9422039251012301, 0.9422039251012301, 0.9422039251012301, 0.9445614606320567, 0.9445614606320567]}], \"norm_macro_recall\": [{\"categories\": [\"0\", \"1\", \"2\", \"3\", \"4\", \"5\", \"6\", \"7\", \"8\", \"9\", \"10\", \"11\", \"12\", \"13\", \"14\", \"15\", \"16\", \"17\", \"18\", \"19\"], \"mode\": \"markers\", \"name\": \"norm_macro_recall\", \"stepped\": false, \"type\": \"scatter\", \"data\": [0.492606885144173, 0.32494774008032085, 0.009875749659803349, 0.1994502655022233, 0.12685942358606148, 0.43401289848379293, 0.33413465253907654, 0.5480497679275437, 0.45091387642089775, 0.12924532563404237, 0.19953201351576655, 0.14392732571781175, 0.3252627740543735, 0.5054445422976765, 0.4299932060442139, 0.34779080239871024, 0.16672335443653533, 0.49870203050375533, 0.47015201030275455, 0.11936860734455923]}, {\"categories\": [\"0\", \"1\", \"2\", \"3\", \"4\", \"5\", \"6\", \"7\", \"8\", \"9\", \"10\", \"11\", \"12\", \"13\", \"14\", \"15\", \"16\", \"17\", \"18\", \"19\"], \"mode\": \"lines\", \"name\": \"norm_macro_recall_max\", \"stepped\": true, \"type\": \"scatter\", \"data\": [0.492606885144173, 0.492606885144173, 0.492606885144173, 0.492606885144173, 0.492606885144173, 0.492606885144173, 0.492606885144173, 0.5480497679275437, 0.5480497679275437, 0.5480497679275437, 0.5480497679275437, 0.5480497679275437, 0.5480497679275437, 0.5480497679275437, 0.5480497679275437, 0.5480497679275437, 0.5480497679275437, 0.5480497679275437, 0.5480497679275437, 0.5480497679275437]}], \"f1_score_weighted\": [{\"categories\": [\"0\", \"1\", \"2\", \"3\", \"4\", \"5\", \"6\", \"7\", \"8\", \"9\", \"10\", \"11\", \"12\", \"13\", \"14\", \"15\", \"16\", \"17\", \"18\", \"19\"], \"mode\": \"markers\", \"name\": \"f1_score_weighted\", \"stepped\": false, \"type\": \"scatter\", \"data\": [0.8549653501942341, 0.8108640925403264, 0.7091421797647861, 0.7744890660690396, 0.7512388072899148, 0.8452741924852206, 0.8101466616607551, 0.7973008757616352, 0.8500950942846481, 0.7536969599879422, 0.7729605861452536, 0.7593188483481002, 0.8141737889474373, 0.8516918279977989, 0.7329837878466132, 0.8189119923989899, 0.7667036403792465, 0.7567405944935565, 0.8556140915060618, 0.756127401679182]}, {\"categories\": [\"0\", \"1\", \"2\", \"3\", \"4\", \"5\", \"6\", \"7\", \"8\", \"9\", \"10\", \"11\", \"12\", \"13\", \"14\", \"15\", \"16\", \"17\", \"18\", \"19\"], \"mode\": \"lines\", \"name\": \"f1_score_weighted_max\", \"stepped\": true, \"type\": \"scatter\", \"data\": [0.8549653501942341, 0.8549653501942341, 0.8549653501942341, 0.8549653501942341, 0.8549653501942341, 0.8549653501942341, 0.8549653501942341, 0.8549653501942341, 0.8549653501942341, 0.8549653501942341, 0.8549653501942341, 0.8549653501942341, 0.8549653501942341, 0.8549653501942341, 0.8549653501942341, 0.8549653501942341, 0.8549653501942341, 0.8549653501942341, 0.8556140915060618, 0.8556140915060618]}], \"average_precision_score_macro\": [{\"categories\": [\"0\", \"1\", \"2\", \"3\", \"4\", \"5\", \"6\", \"7\", \"8\", \"9\", \"10\", \"11\", \"12\", \"13\", \"14\", \"15\", \"16\", \"17\", \"18\", \"19\"], \"mode\": \"markers\", \"name\": \"average_precision_score_macro\", \"stepped\": false, \"type\": \"scatter\", \"data\": [0.8187631205177531, 0.7787607309515954, 0.7198045022689662, 0.7445616550930333, 0.7340204477772548, 0.8509218753228551, 0.7674778322042567, 0.7702119458748969, 0.8495775911668518, 0.7204702258310448, 0.7060111690913606, 0.7302738117695474, 0.7951656385947347, 0.8424423901488799, 0.7063446065878214, 0.7855235126261793, 0.7300018644511143, 0.7521892485217885, 0.8624638144067115, 0.8601470427594902]}, {\"categories\": [\"0\", \"1\", \"2\", \"3\", \"4\", \"5\", \"6\", \"7\", \"8\", \"9\", \"10\", \"11\", \"12\", \"13\", \"14\", \"15\", \"16\", \"17\", \"18\", \"19\"], \"mode\": \"lines\", \"name\": \"average_precision_score_macro_max\", \"stepped\": true, \"type\": \"scatter\", \"data\": [0.8187631205177531, 0.8187631205177531, 0.8187631205177531, 0.8187631205177531, 0.8187631205177531, 0.8509218753228551, 0.8509218753228551, 0.8509218753228551, 0.8509218753228551, 0.8509218753228551, 0.8509218753228551, 0.8509218753228551, 0.8509218753228551, 0.8509218753228551, 0.8509218753228551, 0.8509218753228551, 0.8509218753228551, 0.8509218753228551, 0.8624638144067115, 0.8624638144067115]}], \"balanced_accuracy\": [{\"categories\": [\"0\", \"1\", \"2\", \"3\", \"4\", \"5\", \"6\", \"7\", \"8\", \"9\", \"10\", \"11\", \"12\", \"13\", \"14\", \"15\", \"16\", \"17\", \"18\", \"19\"], \"mode\": \"markers\", \"name\": \"balanced_accuracy\", \"stepped\": false, \"type\": \"scatter\", \"data\": [0.7463034425720866, 0.6624738700401603, 0.5049378748299017, 0.5997251327511116, 0.5634297117930308, 0.7170064492418965, 0.6670673262695382, 0.7740248839637719, 0.7254569382104489, 0.5646226628170212, 0.5997660067578833, 0.5719636628589059, 0.6626313870271868, 0.7527222711488383, 0.714996603022107, 0.6738954011993551, 0.5833616772182677, 0.7493510152518778, 0.7350760051513773, 0.5596843036722796]}, {\"categories\": [\"0\", \"1\", \"2\", \"3\", \"4\", \"5\", \"6\", \"7\", \"8\", \"9\", \"10\", \"11\", \"12\", \"13\", \"14\", \"15\", \"16\", \"17\", \"18\", \"19\"], \"mode\": \"lines\", \"name\": \"balanced_accuracy_max\", \"stepped\": true, \"type\": \"scatter\", \"data\": [0.7463034425720866, 0.7463034425720866, 0.7463034425720866, 0.7463034425720866, 0.7463034425720866, 0.7463034425720866, 0.7463034425720866, 0.7740248839637719, 0.7740248839637719, 0.7740248839637719, 0.7740248839637719, 0.7740248839637719, 0.7740248839637719, 0.7740248839637719, 0.7740248839637719, 0.7740248839637719, 0.7740248839637719, 0.7740248839637719, 0.7740248839637719, 0.7740248839637719]}], \"f1_score_macro\": [{\"categories\": [\"0\", \"1\", \"2\", \"3\", \"4\", \"5\", \"6\", \"7\", \"8\", \"9\", \"10\", \"11\", \"12\", \"13\", \"14\", \"15\", \"16\", \"17\", \"18\", \"19\"], \"mode\": \"markers\", \"name\": \"f1_score_macro\", \"stepped\": false, \"type\": \"scatter\", \"data\": [0.7661891449141285, 0.6848145978798535, 0.4538276921251337, 0.6111913279964355, 0.5582258895416593, 0.7449376800403699, 0.6864539832865167, 0.7177926812472477, 0.7534704687653555, 0.5628649148989179, 0.6116594045436884, 0.576924591395045, 0.6874345347022413, 0.7645526422802966, 0.6465607036981161, 0.6984144269323355, 0.5897351381461707, 0.676006760032386, 0.7630065131819332, 0.5369427410605471]}, {\"categories\": [\"0\", \"1\", \"2\", \"3\", \"4\", \"5\", \"6\", \"7\", \"8\", \"9\", \"10\", \"11\", \"12\", \"13\", \"14\", \"15\", \"16\", \"17\", \"18\", \"19\"], \"mode\": \"lines\", \"name\": \"f1_score_macro_max\", \"stepped\": true, \"type\": \"scatter\", \"data\": [0.7661891449141285, 0.7661891449141285, 0.7661891449141285, 0.7661891449141285, 0.7661891449141285, 0.7661891449141285, 0.7661891449141285, 0.7661891449141285, 0.7661891449141285, 0.7661891449141285, 0.7661891449141285, 0.7661891449141285, 0.7661891449141285, 0.7661891449141285, 0.7661891449141285, 0.7661891449141285, 0.7661891449141285, 0.7661891449141285, 0.7661891449141285, 0.7661891449141285]}], \"recall_score_micro\": [{\"categories\": [\"0\", \"1\", \"2\", \"3\", \"4\", \"5\", \"6\", \"7\", \"8\", \"9\", \"10\", \"11\", \"12\", \"13\", \"14\", \"15\", \"16\", \"17\", \"18\", \"19\"], \"mode\": \"markers\", \"name\": \"recall_score_micro\", \"stepped\": false, \"type\": \"scatter\", \"data\": [0.8621745788667687, 0.8292496171516079, 0.7963246554364473, 0.8103624298111282, 0.8052577845839713, 0.8583460949464014, 0.8272077590607453, 0.781010719754977, 0.8621745788667687, 0.8050025523226135, 0.8052577845839713, 0.8037263910158243, 0.8358856559469118, 0.8568147013782542, 0.7062276671771311, 0.8371618172537009, 0.8118938233792751, 0.7325165900969882, 0.866513527309852, 0.821337417049515]}, {\"categories\": [\"0\", \"1\", \"2\", \"3\", \"4\", \"5\", \"6\", \"7\", \"8\", \"9\", \"10\", \"11\", \"12\", \"13\", \"14\", \"15\", \"16\", \"17\", \"18\", \"19\"], \"mode\": \"lines\", \"name\": \"recall_score_micro_max\", \"stepped\": true, \"type\": \"scatter\", \"data\": [0.8621745788667687, 0.8621745788667687, 0.8621745788667687, 0.8621745788667687, 0.8621745788667687, 0.8621745788667687, 0.8621745788667687, 0.8621745788667687, 0.8621745788667687, 0.8621745788667687, 0.8621745788667687, 0.8621745788667687, 0.8621745788667687, 0.8621745788667687, 0.8621745788667687, 0.8621745788667687, 0.8621745788667687, 0.8621745788667687, 0.866513527309852, 0.866513527309852]}], \"weighted_accuracy\": [{\"categories\": [\"0\", \"1\", \"2\", \"3\", \"4\", \"5\", \"6\", \"7\", \"8\", \"9\", \"10\", \"11\", \"12\", \"13\", \"14\", \"15\", \"16\", \"17\", \"18\", \"19\"], \"mode\": \"markers\", \"name\": \"weighted_accuracy\", \"stepped\": false, \"type\": \"scatter\", \"data\": [0.9183742344045208, 0.9098587050397747, 0.9354304397257777, 0.9125504520836157, 0.9224447158278487, 0.9271826731433195, 0.9052693664783867, 0.7853760846384938, 0.9286057841246963, 0.9210535552684395, 0.9046927230109452, 0.9150633678500935, 0.9198793529294287, 0.9081354317156668, 0.7023106080775495, 0.9163402714506809, 0.9224956303127433, 0.7248165811952078, 0.9304711252342154, 0.9431377790709538]}, {\"categories\": [\"0\", \"1\", \"2\", \"3\", \"4\", \"5\", \"6\", \"7\", \"8\", \"9\", \"10\", \"11\", \"12\", \"13\", \"14\", \"15\", \"16\", \"17\", \"18\", \"19\"], \"mode\": \"lines\", \"name\": \"weighted_accuracy_max\", \"stepped\": true, \"type\": \"scatter\", \"data\": [0.9183742344045208, 0.9183742344045208, 0.9354304397257777, 0.9354304397257777, 0.9354304397257777, 0.9354304397257777, 0.9354304397257777, 0.9354304397257777, 0.9354304397257777, 0.9354304397257777, 0.9354304397257777, 0.9354304397257777, 0.9354304397257777, 0.9354304397257777, 0.9354304397257777, 0.9354304397257777, 0.9354304397257777, 0.9354304397257777, 0.9354304397257777, 0.9431377790709538]}], \"average_precision_score_weighted\": [{\"categories\": [\"0\", \"1\", \"2\", \"3\", \"4\", \"5\", \"6\", \"7\", \"8\", \"9\", \"10\", \"11\", \"12\", \"13\", \"14\", \"15\", \"16\", \"17\", \"18\", \"19\"], \"mode\": \"markers\", \"name\": \"average_precision_score_weighted\", \"stepped\": false, \"type\": \"scatter\", \"data\": [0.9039984406141189, 0.8868683085803478, 0.8528295029440193, 0.868938980511243, 0.8631172627099479, 0.9207296918310087, 0.8792932469672531, 0.8830623672022747, 0.9189909747490449, 0.8539736976596436, 0.8383223686528792, 0.852947194338363, 0.892935948375753, 0.9115754545180419, 0.8422753379600839, 0.8866182890539523, 0.8591785469626739, 0.8717245663572178, 0.9276425965281959, 0.9265685997363288]}, {\"categories\": [\"0\", \"1\", \"2\", \"3\", \"4\", \"5\", \"6\", \"7\", \"8\", \"9\", \"10\", \"11\", \"12\", \"13\", \"14\", \"15\", \"16\", \"17\", \"18\", \"19\"], \"mode\": \"lines\", \"name\": \"average_precision_score_weighted_max\", \"stepped\": true, \"type\": \"scatter\", \"data\": [0.9039984406141189, 0.9039984406141189, 0.9039984406141189, 0.9039984406141189, 0.9039984406141189, 0.9207296918310087, 0.9207296918310087, 0.9207296918310087, 0.9207296918310087, 0.9207296918310087, 0.9207296918310087, 0.9207296918310087, 0.9207296918310087, 0.9207296918310087, 0.9207296918310087, 0.9207296918310087, 0.9207296918310087, 0.9207296918310087, 0.9276425965281959, 0.9276425965281959]}], \"f1_score_micro\": [{\"categories\": [\"0\", \"1\", \"2\", \"3\", \"4\", \"5\", \"6\", \"7\", \"8\", \"9\", \"10\", \"11\", \"12\", \"13\", \"14\", \"15\", \"16\", \"17\", \"18\", \"19\"], \"mode\": \"markers\", \"name\": \"f1_score_micro\", \"stepped\": false, \"type\": \"scatter\", \"data\": [0.8621745788667687, 0.8292496171516079, 0.7963246554364471, 0.8103624298111282, 0.8052577845839713, 0.8583460949464011, 0.8272077590607453, 0.781010719754977, 0.8621745788667687, 0.8050025523226135, 0.8052577845839713, 0.8037263910158243, 0.8358856559469117, 0.8568147013782541, 0.7062276671771311, 0.8371618172537009, 0.8118938233792751, 0.7325165900969882, 0.866513527309852, 0.821337417049515]}, {\"categories\": [\"0\", \"1\", \"2\", \"3\", \"4\", \"5\", \"6\", \"7\", \"8\", \"9\", \"10\", \"11\", \"12\", \"13\", \"14\", \"15\", \"16\", \"17\", \"18\", \"19\"], \"mode\": \"lines\", \"name\": \"f1_score_micro_max\", \"stepped\": true, \"type\": \"scatter\", \"data\": [0.8621745788667687, 0.8621745788667687, 0.8621745788667687, 0.8621745788667687, 0.8621745788667687, 0.8621745788667687, 0.8621745788667687, 0.8621745788667687, 0.8621745788667687, 0.8621745788667687, 0.8621745788667687, 0.8621745788667687, 0.8621745788667687, 0.8621745788667687, 0.8621745788667687, 0.8621745788667687, 0.8621745788667687, 0.8621745788667687, 0.866513527309852, 0.866513527309852]}]}, \"metricName\": null, \"primaryMetricName\": \"AUC_weighted\", \"showLegend\": false}, \"run_metrics\": [{\"name\": \"experiment_status\", \"run_id\": \"AutoML_f180290c-756b-4a06-82d2-d40dfe4f15f5\", \"categories\": [0, 1, 2, 3, 4, 5, 6, 7, 8, 9, 10, 11], \"series\": [{\"data\": [\"DatasetEvaluation\", \"FeaturesGeneration\", \"DatasetFeaturization\", \"DatasetFeaturizationCompleted\", \"DatasetCrossValidationSplit\", \"ModelSelection\", \"BestRunExplainModel\", \"ModelExplanationDataSetSetup\", \"PickSurrogateModel\", \"EngineeredFeatureExplanations\", \"EngineeredFeatureExplanations\", \"RawFeaturesExplanations\"]}]}, {\"name\": \"experiment_status_description\", \"run_id\": \"AutoML_f180290c-756b-4a06-82d2-d40dfe4f15f5\", \"categories\": [0, 1, 2, 3, 4, 5, 6, 7, 8, 9, 10, 11], \"series\": [{\"data\": [\"Gathering dataset statistics.\", \"Generating features for the dataset.\", \"Beginning to fit featurizers and featurize the dataset.\", \"Completed fit featurizers and featurizing the dataset.\", \"Generating individually featurized CV splits.\", \"Beginning model selection.\", \"Best run model explanations started\", \"Model explanations data setup completed\", \"Choosing LightGBM as the surrogate model for explanations\", \"Computation of engineered features started\", \"Computation of engineered features completed\", \"Computation of raw features started\"]}]}, {\"name\": \"AUC_weighted\", \"run_id\": \"AutoML_f180290c-756b-4a06-82d2-d40dfe4f15f5\", \"categories\": [0], \"series\": [{\"data\": [0.9008417094606811]}]}, {\"name\": \"average_precision_score_micro\", \"run_id\": \"AutoML_f180290c-756b-4a06-82d2-d40dfe4f15f5\", \"categories\": [0], \"series\": [{\"data\": [0.9445614606320567]}]}, {\"name\": \"recall_score_micro\", \"run_id\": \"AutoML_f180290c-756b-4a06-82d2-d40dfe4f15f5\", \"categories\": [0], \"series\": [{\"data\": [0.866513527309852]}]}, {\"name\": \"precision_score_micro\", \"run_id\": \"AutoML_f180290c-756b-4a06-82d2-d40dfe4f15f5\", \"categories\": [0], \"series\": [{\"data\": [0.866513527309852]}]}, {\"name\": \"norm_macro_recall\", \"run_id\": \"AutoML_f180290c-756b-4a06-82d2-d40dfe4f15f5\", \"categories\": [0], \"series\": [{\"data\": [0.47015201030275455]}]}, {\"name\": \"recall_score_macro\", \"run_id\": \"AutoML_f180290c-756b-4a06-82d2-d40dfe4f15f5\", \"categories\": [0], \"series\": [{\"data\": [0.7350760051513773]}]}, {\"name\": \"matthews_correlation\", \"run_id\": \"AutoML_f180290c-756b-4a06-82d2-d40dfe4f15f5\", \"categories\": [0], \"series\": [{\"data\": [0.5534033792044833]}]}, {\"name\": \"f1_score_weighted\", \"run_id\": \"AutoML_f180290c-756b-4a06-82d2-d40dfe4f15f5\", \"categories\": [0], \"series\": [{\"data\": [0.8556140915060618]}]}, {\"name\": \"f1_score_macro\", \"run_id\": \"AutoML_f180290c-756b-4a06-82d2-d40dfe4f15f5\", \"categories\": [0], \"series\": [{\"data\": [0.7630065131819332]}]}, {\"name\": \"average_precision_score_macro\", \"run_id\": \"AutoML_f180290c-756b-4a06-82d2-d40dfe4f15f5\", \"categories\": [0], \"series\": [{\"data\": [0.8624638144067115]}]}, {\"name\": \"weighted_accuracy\", \"run_id\": \"AutoML_f180290c-756b-4a06-82d2-d40dfe4f15f5\", \"categories\": [0], \"series\": [{\"data\": [0.9304711252342154]}]}, {\"name\": \"precision_score_macro\", \"run_id\": \"AutoML_f180290c-756b-4a06-82d2-d40dfe4f15f5\", \"categories\": [0], \"series\": [{\"data\": [0.8285915911940213]}]}, {\"name\": \"AUC_micro\", \"run_id\": \"AutoML_f180290c-756b-4a06-82d2-d40dfe4f15f5\", \"categories\": [0], \"series\": [{\"data\": [0.9433996077318568]}]}, {\"name\": \"precision_score_weighted\", \"run_id\": \"AutoML_f180290c-756b-4a06-82d2-d40dfe4f15f5\", \"categories\": [0], \"series\": [{\"data\": [0.8642666851625199]}]}, {\"name\": \"AUC_macro\", \"run_id\": \"AutoML_f180290c-756b-4a06-82d2-d40dfe4f15f5\", \"categories\": [0], \"series\": [{\"data\": [0.9008417094606811]}]}, {\"name\": \"recall_score_weighted\", \"run_id\": \"AutoML_f180290c-756b-4a06-82d2-d40dfe4f15f5\", \"categories\": [0], \"series\": [{\"data\": [0.866513527309852]}]}, {\"name\": \"average_precision_score_weighted\", \"run_id\": \"AutoML_f180290c-756b-4a06-82d2-d40dfe4f15f5\", \"categories\": [0], \"series\": [{\"data\": [0.9276425965281959]}]}, {\"name\": \"log_loss\", \"run_id\": \"AutoML_f180290c-756b-4a06-82d2-d40dfe4f15f5\", \"categories\": [0], \"series\": [{\"data\": [0.3292963478381196]}]}, {\"name\": \"balanced_accuracy\", \"run_id\": \"AutoML_f180290c-756b-4a06-82d2-d40dfe4f15f5\", \"categories\": [0], \"series\": [{\"data\": [0.7350760051513773]}]}, {\"name\": \"accuracy\", \"run_id\": \"AutoML_f180290c-756b-4a06-82d2-d40dfe4f15f5\", \"categories\": [0], \"series\": [{\"data\": [0.866513527309852]}]}, {\"name\": \"f1_score_micro\", \"run_id\": \"AutoML_f180290c-756b-4a06-82d2-d40dfe4f15f5\", \"categories\": [0], \"series\": [{\"data\": [0.866513527309852]}]}], \"run_logs\": \"\\nRun is completed.\", \"graph\": {}, \"widget_settings\": {\"childWidgetDisplay\": \"popup\", \"send_telemetry\": false, \"log_level\": \"INFO\", \"sdk_version\": \"1.34.0\"}, \"loading\": false}"
          },
          "metadata": {}
        }
      ],
      "execution_count": 8,
      "metadata": {
        "gather": {
          "logged": 1635117329354
        },
        "jupyter": {
          "outputs_hidden": false,
          "source_hidden": false
        },
        "nteract": {
          "transient": {
            "deleting": false
          }
        },
        "id": "_lbzZ9SZDIzN",
        "colab": {
          "referenced_widgets": [
            "401c9e759cb246af80dc60f91bf851c3"
          ]
        },
        "outputId": "8f9c36fd-4a8c-4c84-cdd5-3572d2677200"
      }
    },
    {
      "cell_type": "code",
      "source": [
        "automl_run.wait_for_completion()"
      ],
      "outputs": [
        {
          "output_type": "execute_result",
          "execution_count": 9,
          "data": {
            "text/plain": "{'runId': 'AutoML_f180290c-756b-4a06-82d2-d40dfe4f15f5',\n 'target': 'CPU-CC-AUTOML',\n 'status': 'Completed',\n 'startTimeUtc': '2021-10-24T23:15:41.722188Z',\n 'endTimeUtc': '2021-10-24T23:23:42.908123Z',\n 'services': {},\n 'properties': {'num_iterations': '20',\n  'training_type': 'TrainFull',\n  'acquisition_function': 'EI',\n  'primary_metric': 'AUC_weighted',\n  'train_split': '0',\n  'acquisition_parameter': '0',\n  'num_cross_validation': '3',\n  'target': 'CPU-CC-AUTOML',\n  'AMLSettingsJsonString': '{\"path\":null,\"name\":\"exp-capstone-automl\",\"subscription_id\":\"d4ad7261-832d-46b2-b093-22156001df5b\",\"resource_group\":\"aml-quickstarts-161910\",\"workspace_name\":\"quick-starts-ws-161910\",\"region\":\"southcentralus\",\"compute_target\":\"CPU-CC-AUTOML\",\"spark_service\":null,\"azure_service\":\"remote\",\"many_models\":false,\"pipeline_fetch_max_batch_size\":1,\"enable_batch_run\":false,\"enable_run_restructure\":false,\"start_auxiliary_runs_before_parent_complete\":false,\"enable_code_generation\":false,\"iterations\":20,\"primary_metric\":\"AUC_weighted\",\"task_type\":\"classification\",\"data_script\":null,\"test_size\":0.0,\"test_include_predictions_only\":false,\"validation_size\":0.0,\"n_cross_validations\":3,\"y_min\":null,\"y_max\":null,\"num_classes\":null,\"featurization\":\"auto\",\"_ignore_package_version_incompatibilities\":false,\"is_timeseries\":false,\"max_cores_per_iteration\":-1,\"max_concurrent_iterations\":5,\"iteration_timeout_minutes\":5,\"mem_in_mb\":null,\"enforce_time_on_windows\":false,\"experiment_timeout_minutes\":30,\"experiment_exit_score\":null,\"whitelist_models\":null,\"blacklist_algos\":[\"TensorFlowLinearClassifier\",\"TensorFlowDNN\"],\"supported_models\":[\"SGD\",\"BernoulliNaiveBayes\",\"LinearSVM\",\"TensorFlowDNN\",\"AveragedPerceptronClassifier\",\"GradientBoosting\",\"MultinomialNaiveBayes\",\"XGBoostClassifier\",\"RandomForest\",\"ExtremeRandomTrees\",\"DecisionTree\",\"LogisticRegression\",\"LightGBM\",\"TensorFlowLinearClassifier\",\"KNN\",\"SVM\"],\"private_models\":[],\"auto_blacklist\":true,\"blacklist_samples_reached\":false,\"exclude_nan_labels\":true,\"verbosity\":20,\"_debug_log\":\"azureml_automl.log\",\"show_warnings\":false,\"model_explainability\":true,\"service_url\":null,\"sdk_url\":null,\"sdk_packages\":null,\"enable_onnx_compatible_models\":false,\"enable_split_onnx_featurizer_estimator_models\":false,\"vm_type\":\"STANDARD_DS12_V2\",\"telemetry_verbosity\":20,\"send_telemetry\":true,\"enable_dnn\":false,\"scenario\":\"SDK-1.13.0\",\"environment_label\":null,\"save_mlflow\":false,\"force_text_dnn\":false,\"enable_feature_sweeping\":true,\"enable_early_stopping\":true,\"early_stopping_n_iters\":10,\"metrics\":null,\"enable_metric_confidence\":false,\"enable_ensembling\":true,\"enable_stack_ensembling\":true,\"ensemble_iterations\":15,\"enable_tf\":false,\"enable_subsampling\":false,\"subsample_seed\":null,\"enable_nimbusml\":false,\"enable_streaming\":false,\"force_streaming\":false,\"track_child_runs\":true,\"allowed_private_models\":[],\"label_column_name\":\"quality\",\"weight_column_name\":null,\"cv_split_column_names\":null,\"positive_label\":null,\"enable_local_managed\":false,\"_local_managed_run_id\":null,\"cost_mode\":1,\"lag_length\":0,\"metric_operation\":\"maximize\",\"preprocess\":true}',\n  'DataPrepJsonString': '{\\\\\"training_data\\\\\": {\\\\\"datasetId\\\\\": \\\\\"d606f9ee-8aed-47e2-aeb7-6b1cfd49bc46\\\\\"}, \\\\\"datasets\\\\\": 0}',\n  'EnableSubsampling': 'False',\n  'runTemplate': 'AutoML',\n  'azureml.runsource': 'automl',\n  'display_task_type': 'classification',\n  'dependencies_versions': '{\"azureml-widgets\": \"1.34.0\", \"azureml-train\": \"1.34.0\", \"azureml-train-restclients-hyperdrive\": \"1.34.0\", \"azureml-train-core\": \"1.34.0\", \"azureml-train-automl\": \"1.34.0\", \"azureml-train-automl-runtime\": \"1.34.0\", \"azureml-train-automl-client\": \"1.34.0\", \"azureml-tensorboard\": \"1.34.0\", \"azureml-telemetry\": \"1.34.0\", \"azureml-sdk\": \"1.34.0\", \"azureml-samples\": \"0+unknown\", \"azureml-responsibleai\": \"1.34.0\", \"azureml-pipeline\": \"1.34.0\", \"azureml-pipeline-steps\": \"1.34.0\", \"azureml-pipeline-core\": \"1.34.0\", \"azureml-opendatasets\": \"1.34.0\", \"azureml-mlflow\": \"1.34.0\", \"azureml-interpret\": \"1.34.0\", \"azureml-inference-server-http\": \"0.3.1\", \"azureml-explain-model\": \"1.34.0\", \"azureml-defaults\": \"1.34.0\", \"azureml-dataset-runtime\": \"1.34.0\", \"azureml-dataprep\": \"2.22.2\", \"azureml-dataprep-rslex\": \"1.20.1\", \"azureml-dataprep-native\": \"38.0.0\", \"azureml-datadrift\": \"1.34.0\", \"azureml-core\": \"1.34.0\", \"azureml-contrib-services\": \"1.34.0\", \"azureml-contrib-server\": \"1.34.0\", \"azureml-contrib-reinforcementlearning\": \"1.34.0\", \"azureml-contrib-pipeline-steps\": \"1.34.0\", \"azureml-contrib-notebook\": \"1.34.0\", \"azureml-contrib-fairness\": \"1.34.0\", \"azureml-contrib-dataset\": \"1.34.0\", \"azureml-contrib-automl-pipeline-steps\": \"1.34.0\", \"azureml-cli-common\": \"1.34.0\", \"azureml-automl-runtime\": \"1.34.0\", \"azureml-automl-dnn-nlp\": \"1.34.0\", \"azureml-automl-core\": \"1.34.0\", \"azureml-accel-models\": \"1.34.0\"}',\n  '_aml_system_scenario_identification': 'Remote.Parent',\n  'ClientType': 'SDK',\n  'environment_cpu_name': 'AzureML-AutoML',\n  'environment_cpu_label': 'prod',\n  'environment_gpu_name': 'AzureML-AutoML-GPU',\n  'environment_gpu_label': 'prod',\n  'root_attribution': 'automl',\n  'attribution': 'AutoML',\n  'Orchestrator': 'AutoML',\n  'CancelUri': 'https://southcentralus.api.azureml.ms/jasmine/v1.0/subscriptions/d4ad7261-832d-46b2-b093-22156001df5b/resourceGroups/aml-quickstarts-161910/providers/Microsoft.MachineLearningServices/workspaces/quick-starts-ws-161910/experimentids/dbae5b3d-c119-4302-be44-cbfffc0a685b/cancel/AutoML_f180290c-756b-4a06-82d2-d40dfe4f15f5',\n  'ClientSdkVersion': '1.34.1',\n  'snapshotId': '00000000-0000-0000-0000-000000000000',\n  'SetupRunId': 'AutoML_f180290c-756b-4a06-82d2-d40dfe4f15f5_setup',\n  'SetupRunContainerId': 'dcid.AutoML_f180290c-756b-4a06-82d2-d40dfe4f15f5_setup',\n  'FeaturizationRunJsonPath': 'featurizer_container.json',\n  'FeaturizationRunId': 'AutoML_f180290c-756b-4a06-82d2-d40dfe4f15f5_featurize',\n  'ProblemInfoJsonString': '{\"dataset_num_categorical\": 0, \"is_sparse\": false, \"subsampling\": false, \"has_extra_col\": true, \"dataset_classes\": 2, \"dataset_features\": 11, \"dataset_samples\": 3918, \"single_frequency_class_detected\": false}',\n  'ModelExplainRunId': 'AutoML_f180290c-756b-4a06-82d2-d40dfe4f15f5_ModelExplain'},\n 'inputDatasets': [{'dataset': {'id': 'd606f9ee-8aed-47e2-aeb7-6b1cfd49bc46'}, 'consumptionDetails': {'type': 'RunInput', 'inputName': 'training_data', 'mechanism': 'Direct'}}],\n 'outputDatasets': [],\n 'logFiles': {},\n 'submittedBy': 'ODL_User 161910'}"
          },
          "metadata": {}
        }
      ],
      "execution_count": 9,
      "metadata": {
        "jupyter": {
          "source_hidden": false,
          "outputs_hidden": false
        },
        "nteract": {
          "transient": {
            "deleting": false
          }
        },
        "gather": {
          "logged": 1635117827699
        }
      }
    },
    {
      "cell_type": "markdown",
      "source": [
        "## Best Model\n",
        "\n",
        "TODO: In the cell below, get the best model from the automl experiments and display all the properties of the model.\n",
        "\n"
      ],
      "metadata": {
        "id": "Skd-RNClDIzO"
      }
    },
    {
      "cell_type": "code",
      "source": [
        "def print_model(model, prefix=\"\"):\n",
        "    for step in model.steps:\n",
        "        print(prefix + step[0])\n",
        "        if hasattr(step[1], 'estimators') and hasattr(step[1], 'weights'):\n",
        "            pprint({'estimators': list(e[0] for e in step[1].estimators), 'weights': step[1].weights})\n",
        "            print()\n",
        "            for estimator in step[1].estimators:\n",
        "                print_model(estimator[1], estimator[0]+ ' - ')\n",
        "        elif hasattr(step[1], '_base_learners') and hasattr(step[1], '_meta_learner'):\n",
        "            print(\"\\nMeta Learner\")\n",
        "            pprint(step[1]._meta_learner)\n",
        "            print()\n",
        "            for estimator in step[1]._base_learners:\n",
        "                print_model(estimator[1], estimator[0]+ ' - ')\n",
        "        else:\n",
        "            pprint(step[1].get_params())\n",
        "            print()"
      ],
      "outputs": [],
      "execution_count": 10,
      "metadata": {
        "id": "gzVGP_K4Imqr",
        "gather": {
          "logged": 1635117827855
        }
      }
    },
    {
      "cell_type": "code",
      "source": [
        "automl_best_run, automl_best_model = automl_run.get_output()\n",
        "\n",
        "automl_best_run_metrics = automl_best_run.get_metrics()\n",
        "\n",
        "print(f'********** Best AutoML accuracy: {automl_best_run_metrics.get(\"accuracy\")}')\n",
        "print(f'********** printing Best AutoML run:\\n{automl_best_run}\\n\\nPrinting model:')\n",
        "\n",
        "print_model(automl_best_model)"
      ],
      "outputs": [
        {
          "output_type": "stream",
          "name": "stdout",
          "text": "********** Best AutoML accuracy: 0.866513527309852\n********** printing Best AutoML run:\nRun(Experiment: exp-capstone-automl,\nId: AutoML_f180290c-756b-4a06-82d2-d40dfe4f15f5_18,\nType: azureml.scriptrun,\nStatus: Completed)\n\nPrinting model:\ndatatransformer\n{'enable_dnn': False,\n 'enable_feature_sweeping': True,\n 'feature_sweeping_config': {},\n 'feature_sweeping_timeout': 86400,\n 'featurization_config': None,\n 'force_text_dnn': False,\n 'is_cross_validation': True,\n 'is_onnx_compatible': False,\n 'observer': None,\n 'task': 'classification',\n 'working_dir': '/mnt/batch/tasks/shared/LS_root/mounts/clusters/notebook161910/code/Users/odl_user_161910'}\n\nprefittedsoftvotingclassifier\n{'estimators': ['5', '8', '13', '0', '12', '1', '7', '11'],\n 'weights': [0.26666666666666666,\n             0.06666666666666667,\n             0.2,\n             0.06666666666666667,\n             0.2,\n             0.06666666666666667,\n             0.06666666666666667,\n             0.06666666666666667]}\n\n5 - standardscalerwrapper\n{'class_name': 'StandardScaler',\n 'copy': True,\n 'module_name': 'sklearn.preprocessing._data',\n 'with_mean': True,\n 'with_std': False}\n\n5 - kneighborsclassifier\n{'algorithm': 'auto',\n 'leaf_size': 30,\n 'metric': 'cityblock',\n 'metric_params': None,\n 'n_jobs': 1,\n 'n_neighbors': 29,\n 'p': 2,\n 'weights': 'distance'}\n\n8 - robustscaler\n{'copy': True,\n 'quantile_range': [25, 75],\n 'with_centering': False,\n 'with_scaling': True}\n\n8 - kneighborsclassifier\n{'algorithm': 'auto',\n 'leaf_size': 30,\n 'metric': 'manhattan',\n 'metric_params': None,\n 'n_jobs': 1,\n 'n_neighbors': 22,\n 'p': 2,\n 'weights': 'distance'}\n\n13 - sparsenormalizer\n{'copy': True, 'norm': 'max'}\n\n13 - kneighborsclassifier\n{'algorithm': 'auto',\n 'leaf_size': 30,\n 'metric': 'cityblock',\n 'metric_params': None,\n 'n_jobs': 1,\n 'n_neighbors': 10,\n 'p': 2,\n 'weights': 'distance'}\n\n0 - maxabsscaler\n{'copy': True}\n\n0 - lightgbmclassifier\n{'min_data_in_leaf': 20,\n 'n_jobs': -1,\n 'problem_info': ProblemInfo(\n    gpu_training_param_dict={'processing_unit_type': 'cpu'}\n),\n 'random_state': None}\n\n12 - standardscalerwrapper\n{'class_name': 'StandardScaler',\n 'copy': True,\n 'module_name': 'sklearn.preprocessing._data',\n 'with_mean': False,\n 'with_std': False}\n\n12 - xgboostclassifier\n{'base_score': 0.5,\n 'booster': 'gbtree',\n 'colsample_bylevel': 1,\n 'colsample_bynode': 1,\n 'colsample_bytree': 0.5,\n 'eta': 0.3,\n 'gamma': 0,\n 'learning_rate': 0.1,\n 'max_delta_step': 0,\n 'max_depth': 10,\n 'max_leaves': 255,\n 'min_child_weight': 1,\n 'missing': nan,\n 'n_estimators': 10,\n 'n_jobs': -1,\n 'nthread': None,\n 'objective': 'reg:logistic',\n 'random_state': 0,\n 'reg_alpha': 0,\n 'reg_lambda': 0.10416666666666667,\n 'scale_pos_weight': 1,\n 'seed': None,\n 'silent': None,\n 'subsample': 0.7,\n 'tree_method': 'auto',\n 'verbose': -10,\n 'verbosity': 0}\n\n1 - maxabsscaler\n{'copy': True}\n\n1 - xgboostclassifier\n{'base_score': 0.5,\n 'booster': 'gbtree',\n 'colsample_bylevel': 1,\n 'colsample_bynode': 1,\n 'colsample_bytree': 1,\n 'gamma': 0,\n 'learning_rate': 0.1,\n 'max_delta_step': 0,\n 'max_depth': 3,\n 'min_child_weight': 1,\n 'missing': nan,\n 'n_estimators': 100,\n 'n_jobs': -1,\n 'nthread': None,\n 'objective': 'binary:logistic',\n 'random_state': 0,\n 'reg_alpha': 0,\n 'reg_lambda': 1,\n 'scale_pos_weight': 1,\n 'seed': None,\n 'silent': None,\n 'subsample': 1,\n 'tree_method': 'auto',\n 'verbose': -10,\n 'verbosity': 0}\n\n7 - sparsenormalizer\n{'copy': True, 'norm': 'l2'}\n\n7 - randomforestclassifier\n{'bootstrap': True,\n 'ccp_alpha': 0.0,\n 'class_weight': 'balanced',\n 'criterion': 'gini',\n 'max_depth': None,\n 'max_features': 'sqrt',\n 'max_leaf_nodes': None,\n 'max_samples': None,\n 'min_impurity_decrease': 0.0,\n 'min_impurity_split': None,\n 'min_samples_leaf': 0.01,\n 'min_samples_split': 0.01,\n 'min_weight_fraction_leaf': 0.0,\n 'n_estimators': 100,\n 'n_jobs': -1,\n 'oob_score': True,\n 'random_state': None,\n 'verbose': 0,\n 'warm_start': False}\n\n11 - standardscalerwrapper\n{'class_name': 'StandardScaler',\n 'copy': True,\n 'module_name': 'sklearn.preprocessing._data',\n 'with_mean': True,\n 'with_std': True}\n\n11 - svcwrapper\n{'C': 2222.996482526191,\n 'break_ties': False,\n 'cache_size': 200,\n 'class_weight': 'balanced',\n 'coef0': 0.0,\n 'decision_function_shape': 'ovr',\n 'degree': 3,\n 'gamma': 'scale',\n 'kernel': 'rbf',\n 'max_iter': -1,\n 'probability': True,\n 'random_state': None,\n 'shrinking': True,\n 'tol': 0.001,\n 'verbose': False}\n\n"
        }
      ],
      "execution_count": 11,
      "metadata": {
        "gather": {
          "logged": 1635117833163
        },
        "jupyter": {
          "outputs_hidden": false,
          "source_hidden": false
        },
        "nteract": {
          "transient": {
            "deleting": false
          }
        },
        "id": "bPGTZ5shDIzP",
        "outputId": "7fc34fad-5f5f-4939-8dc6-85359c724c0d"
      }
    },
    {
      "cell_type": "code",
      "source": [
        "print(automl_run.get_metrics())"
      ],
      "outputs": [
        {
          "output_type": "stream",
          "name": "stdout",
          "text": "{'experiment_status': ['DatasetEvaluation', 'FeaturesGeneration', 'DatasetFeaturization', 'DatasetFeaturizationCompleted', 'DatasetCrossValidationSplit', 'ModelSelection'], 'experiment_status_description': ['Gathering dataset statistics.', 'Generating features for the dataset.', 'Beginning to fit featurizers and featurize the dataset.', 'Completed fit featurizers and featurizing the dataset.', 'Generating individually featurized CV splits.', 'Beginning model selection.'], 'AUC_weighted': 0.9008417094606811, 'average_precision_score_micro': 0.9445614606320567, 'recall_score_micro': 0.866513527309852, 'precision_score_micro': 0.866513527309852, 'norm_macro_recall': 0.47015201030275455, 'recall_score_macro': 0.7350760051513773, 'matthews_correlation': 0.5534033792044833, 'f1_score_weighted': 0.8556140915060618, 'f1_score_macro': 0.7630065131819332, 'average_precision_score_macro': 0.8624638144067115, 'weighted_accuracy': 0.9304711252342154, 'precision_score_macro': 0.8285915911940213, 'AUC_micro': 0.9433996077318568, 'precision_score_weighted': 0.8642666851625199, 'AUC_macro': 0.9008417094606811, 'recall_score_weighted': 0.866513527309852, 'average_precision_score_weighted': 0.9276425965281959, 'log_loss': 0.3292963478381196, 'balanced_accuracy': 0.7350760051513773, 'accuracy': 0.866513527309852, 'f1_score_micro': 0.866513527309852}\n"
        }
      ],
      "execution_count": 12,
      "metadata": {
        "jupyter": {
          "source_hidden": false,
          "outputs_hidden": false
        },
        "nteract": {
          "transient": {
            "deleting": false
          }
        },
        "gather": {
          "logged": 1635117835979
        },
        "id": "vm6pVYDewoKt",
        "outputId": "42c81aac-c1bd-4158-da81-f921f24057e1"
      }
    },
    {
      "cell_type": "code",
      "source": [
        "#TODO: Save the best model\n",
        "joblib.dump(automl_best_model, c_constants.DEPLOYED_AUTOML_MODEL_PATH)"
      ],
      "outputs": [
        {
          "output_type": "execute_result",
          "execution_count": 13,
          "data": {
            "text/plain": "['outputs/best_automl.pkl']"
          },
          "metadata": {}
        }
      ],
      "execution_count": 13,
      "metadata": {
        "gather": {
          "logged": 1635117836309
        },
        "jupyter": {
          "outputs_hidden": false,
          "source_hidden": false
        },
        "nteract": {
          "transient": {
            "deleting": false
          }
        },
        "id": "fNc1risDDIzP",
        "outputId": "6dad2359-5192-494b-8694-6ba69b588de9"
      }
    },
    {
      "cell_type": "code",
      "source": [
        "automl_best_run.download_file(constants.CONDA_ENV_FILE_PATH, c_constants.BEST_RUN_ENV)"
      ],
      "outputs": [],
      "execution_count": 14,
      "metadata": {
        "id": "Zhf4ImWV83Gg",
        "gather": {
          "logged": 1635118271649
        }
      }
    },
    {
      "cell_type": "markdown",
      "source": [
        "## Model Deployment\n",
        "\n",
        "Remember you have to deploy only one of the two models you trained but you still need to register both the models. Perform the steps in the rest of this notebook only if you wish to deploy this model.\n",
        "\n",
        "TODO: In the cell below, register the model, create an inference config and deploy the model as a web service."
      ],
      "metadata": {
        "id": "otKptwQ9DIzQ"
      }
    },
    {
      "cell_type": "code",
      "source": [
        "# Refer - https://docs.microsoft.com/en-us/azure/machine-learning/how-to-deploy-and-where?tabs=python\r\n",
        "\r\n",
        "# Tutorial: Deploy an image classification model in Azure Container Instances -\r\n",
        "# https://docs.microsoft.com/en-us/azure/machine-learning/tutorial-deploy-models-with-aml\r\n",
        "\r\n",
        "# Register the model\r\n",
        "registered_model = automl_run.register_model(description=c_constants.DEPLOYED_AUTOML_MODEL_DESCRIPTION)\r\n",
        "print(f'{automl_run.model_id}')\r\n",
        "print(f'{registered_model.name}  {registered_model.id}  {registered_model.version}')\r\n"
      ],
      "outputs": [
        {
          "output_type": "stream",
          "name": "stdout",
          "text": "AutoMLf180290c718\nAutoMLf180290c718  AutoMLf180290c718:1  1\n"
        }
      ],
      "execution_count": 15,
      "metadata": {
        "jupyter": {
          "source_hidden": false,
          "outputs_hidden": false
        },
        "nteract": {
          "transient": {
            "deleting": false
          }
        },
        "gather": {
          "logged": 1635118423907
        }
      }
    },
    {
      "cell_type": "code",
      "source": [
        "curated_env = Environment.get(workspace=ws, name=c_constants.CURATED_ENV_NAME)\r\n",
        "\r\n",
        "# Save the curated environment\r\n",
        "curated_env.save_to_directory(path=c_constants.ENV_DIR, overwrite=True)\r\n"
      ],
      "outputs": [],
      "execution_count": 17,
      "metadata": {
        "jupyter": {
          "source_hidden": false,
          "outputs_hidden": false
        },
        "nteract": {
          "transient": {
            "deleting": false
          }
        },
        "gather": {
          "logged": 1635118477857
        }
      }
    },
    {
      "cell_type": "code",
      "source": [
        "# Create an inference config\r\n",
        "\r\n",
        "inference_config = InferenceConfig(\r\n",
        "    environment=curated_env,\r\n",
        "    source_directory=c_constants.INFERENCE_SOURCE_DIRECTORY,\r\n",
        "    entry_script=c_constants.INFERENCE_SCORING_SCRIPT,\r\n",
        ")\r\n",
        "\r\n",
        "aci_config = AciWebservice.deploy_configuration(cpu_cores=1, memory_gb=1)\r\n"
      ],
      "outputs": [],
      "execution_count": 19,
      "metadata": {
        "jupyter": {
          "source_hidden": false,
          "outputs_hidden": false
        },
        "nteract": {
          "transient": {
            "deleting": false
          }
        },
        "gather": {
          "logged": 1635118984141
        }
      }
    },
    {
      "cell_type": "code",
      "source": [
        "\n",
        "service = Model.deploy(workspace=ws,\n",
        "                       name=c_constants.DEPLOYED_SERVICE,\n",
        "                       models=[registered_model],\n",
        "                       inference_config=inference_config,\n",
        "                       deployment_config=aci_config,\n",
        "                       overwrite=True)\n",
        "service.wait_for_deployment(show_output=True)\n",
        "\n"
      ],
      "outputs": [
        {
          "output_type": "stream",
          "name": "stdout",
          "text": "Tips: You can try get_logs(): https://aka.ms/debugimage#dockerlog or local deployment: https://aka.ms/debugimage#debug-locally to debug if deployment takes longer than 10 minutes.\nRunning\n2021-10-24 23:43:09+00:00 Creating Container Registry if not exists..\n2021-10-24 23:53:10+00:00 Registering the environment.\n2021-10-24 23:53:10+00:00 Use the existing image.\n2021-10-24 23:53:10+00:00 Generating deployment configuration.\n2021-10-24 23:53:12+00:00 Submitting deployment to compute..\n2021-10-24 23:53:15+00:00 Checking the status of deployment white-wine-service..\n2021-10-24 23:59:43+00:00 Checking the status of inference endpoint white-wine-service.\nFailed\n"
        },
        {
          "output_type": "stream",
          "name": "stderr",
          "text": "ERROR:azureml.core.webservice.webservice:Service deployment polling reached non-successful terminal state, current service state: Unhealthy\nOperation ID: efe423b4-7942-44c6-ace0-29ed59c24d1a\nMore information can be found using '.get_logs()'\nError:\n{\n  \"code\": \"AciDeploymentFailed\",\n  \"statusCode\": 400,\n  \"message\": \"Aci Deployment failed with exception: Error in entry script, ImportError: cannot import name 'ContextVar', please run print(service.get_logs()) to get details.\",\n  \"details\": [\n    {\n      \"code\": \"CrashLoopBackOff\",\n      \"message\": \"Error in entry script, ImportError: cannot import name 'ContextVar', please run print(service.get_logs()) to get details.\"\n    }\n  ]\n}\n\n"
        },
        {
          "output_type": "error",
          "ename": "WebserviceException",
          "evalue": "WebserviceException:\n\tMessage: Service deployment polling reached non-successful terminal state, current service state: Unhealthy\nOperation ID: efe423b4-7942-44c6-ace0-29ed59c24d1a\nMore information can be found using '.get_logs()'\nError:\n{\n  \"code\": \"AciDeploymentFailed\",\n  \"statusCode\": 400,\n  \"message\": \"Aci Deployment failed with exception: Error in entry script, ImportError: cannot import name 'ContextVar', please run print(service.get_logs()) to get details.\",\n  \"details\": [\n    {\n      \"code\": \"CrashLoopBackOff\",\n      \"message\": \"Error in entry script, ImportError: cannot import name 'ContextVar', please run print(service.get_logs()) to get details.\"\n    }\n  ]\n}\n\tInnerException None\n\tErrorResponse \n{\n    \"error\": {\n        \"message\": \"Service deployment polling reached non-successful terminal state, current service state: Unhealthy\\nOperation ID: efe423b4-7942-44c6-ace0-29ed59c24d1a\\nMore information can be found using '.get_logs()'\\nError:\\n{\\n  \\\"code\\\": \\\"AciDeploymentFailed\\\",\\n  \\\"statusCode\\\": 400,\\n  \\\"message\\\": \\\"Aci Deployment failed with exception: Error in entry script, ImportError: cannot import name 'ContextVar', please run print(service.get_logs()) to get details.\\\",\\n  \\\"details\\\": [\\n    {\\n      \\\"code\\\": \\\"CrashLoopBackOff\\\",\\n      \\\"message\\\": \\\"Error in entry script, ImportError: cannot import name 'ContextVar', please run print(service.get_logs()) to get details.\\\"\\n    }\\n  ]\\n}\"\n    }\n}",
          "traceback": [
            "\u001b[0;31m---------------------------------------------------------------------------\u001b[0m",
            "\u001b[0;31mWebserviceException\u001b[0m                       Traceback (most recent call last)",
            "\u001b[0;32m<ipython-input-20-3f79bb3d38e3>\u001b[0m in \u001b[0;36m<module>\u001b[0;34m\u001b[0m\n\u001b[1;32m      5\u001b[0m                        \u001b[0mdeployment_config\u001b[0m\u001b[0;34m=\u001b[0m\u001b[0maci_config\u001b[0m\u001b[0;34m,\u001b[0m\u001b[0;34m\u001b[0m\u001b[0;34m\u001b[0m\u001b[0m\n\u001b[1;32m      6\u001b[0m                        overwrite=True)\n\u001b[0;32m----> 7\u001b[0;31m \u001b[0mservice\u001b[0m\u001b[0;34m.\u001b[0m\u001b[0mwait_for_deployment\u001b[0m\u001b[0;34m(\u001b[0m\u001b[0mshow_output\u001b[0m\u001b[0;34m=\u001b[0m\u001b[0;32mTrue\u001b[0m\u001b[0;34m)\u001b[0m\u001b[0;34m\u001b[0m\u001b[0;34m\u001b[0m\u001b[0m\n\u001b[0m\u001b[1;32m      8\u001b[0m \u001b[0;34m\u001b[0m\u001b[0m\n",
            "\u001b[0;32m/anaconda/envs/azureml_py36/lib/python3.6/site-packages/azureml/core/webservice/webservice.py\u001b[0m in \u001b[0;36mwait_for_deployment\u001b[0;34m(self, show_output, timeout_sec)\u001b[0m\n\u001b[1;32m    923\u001b[0m                                           \u001b[0;34m'Error:\\n'\u001b[0m\u001b[0;34m\u001b[0m\u001b[0;34m\u001b[0m\u001b[0m\n\u001b[1;32m    924\u001b[0m                                           '{}'.format(self.state, self._operation_endpoint.split('/')[-1],\n\u001b[0;32m--> 925\u001b[0;31m                                                       logs_response, format_error_response), logger=module_logger)\n\u001b[0m\u001b[1;32m    926\u001b[0m             print('{} service creation operation finished, operation \"{}\"'.format(self._webservice_type,\n\u001b[1;32m    927\u001b[0m                                                                                   operation_state))\n",
            "\u001b[0;31mWebserviceException\u001b[0m: WebserviceException:\n\tMessage: Service deployment polling reached non-successful terminal state, current service state: Unhealthy\nOperation ID: efe423b4-7942-44c6-ace0-29ed59c24d1a\nMore information can be found using '.get_logs()'\nError:\n{\n  \"code\": \"AciDeploymentFailed\",\n  \"statusCode\": 400,\n  \"message\": \"Aci Deployment failed with exception: Error in entry script, ImportError: cannot import name 'ContextVar', please run print(service.get_logs()) to get details.\",\n  \"details\": [\n    {\n      \"code\": \"CrashLoopBackOff\",\n      \"message\": \"Error in entry script, ImportError: cannot import name 'ContextVar', please run print(service.get_logs()) to get details.\"\n    }\n  ]\n}\n\tInnerException None\n\tErrorResponse \n{\n    \"error\": {\n        \"message\": \"Service deployment polling reached non-successful terminal state, current service state: Unhealthy\\nOperation ID: efe423b4-7942-44c6-ace0-29ed59c24d1a\\nMore information can be found using '.get_logs()'\\nError:\\n{\\n  \\\"code\\\": \\\"AciDeploymentFailed\\\",\\n  \\\"statusCode\\\": 400,\\n  \\\"message\\\": \\\"Aci Deployment failed with exception: Error in entry script, ImportError: cannot import name 'ContextVar', please run print(service.get_logs()) to get details.\\\",\\n  \\\"details\\\": [\\n    {\\n      \\\"code\\\": \\\"CrashLoopBackOff\\\",\\n      \\\"message\\\": \\\"Error in entry script, ImportError: cannot import name 'ContextVar', please run print(service.get_logs()) to get details.\\\"\\n    }\\n  ]\\n}\"\n    }\n}"
          ]
        }
      ],
      "execution_count": 20,
      "metadata": {
        "gather": {
          "logged": 1598431435189
        },
        "jupyter": {
          "outputs_hidden": false,
          "source_hidden": false
        },
        "nteract": {
          "transient": {
            "deleting": false
          }
        },
        "id": "Jnovv2OXDIzQ",
        "outputId": "9e1a087f-2c31-4ec0-9ef3-a02a68f245a0"
      }
    },
    {
      "cell_type": "code",
      "source": [
        "logs = service.get_logs()\r\n",
        "\r\n",
        "for line in logs.split('\\n'):\r\n",
        "    print(line)\r\n"
      ],
      "outputs": [
        {
          "output_type": "stream",
          "name": "stdout",
          "text": "2021-10-25T00:01:58,206970200+00:00 - gunicorn/run \n2021-10-25T00:01:58,215733100+00:00 - iot-server/run \n2021-10-25T00:01:58,216439300+00:00 - rsyslog/run \n/usr/sbin/nginx: /azureml-envs/azureml_2dc5fa74cf7028a6dad039c363b70698/lib/libcrypto.so.1.0.0: no version information available (required by /usr/sbin/nginx)\n/usr/sbin/nginx: /azureml-envs/azureml_2dc5fa74cf7028a6dad039c363b70698/lib/libcrypto.so.1.0.0: no version information available (required by /usr/sbin/nginx)\n2021-10-25T00:01:58,260244800+00:00 - nginx/run \n/usr/sbin/nginx: /azureml-envs/azureml_2dc5fa74cf7028a6dad039c363b70698/lib/libssl.so.1.0.0: no version information available (required by /usr/sbin/nginx)\n/usr/sbin/nginx: /azureml-envs/azureml_2dc5fa74cf7028a6dad039c363b70698/lib/libssl.so.1.0.0: no version information available (required by /usr/sbin/nginx)\n/usr/sbin/nginx: /azureml-envs/azureml_2dc5fa74cf7028a6dad039c363b70698/lib/libssl.so.1.0.0: no version information available (required by /usr/sbin/nginx)\nrsyslogd: /azureml-envs/azureml_2dc5fa74cf7028a6dad039c363b70698/lib/libuuid.so.1: no version information available (required by rsyslogd)\nEdgeHubConnectionString and IOTEDGE_IOTHUBHOSTNAME are not set. Exiting...\n2021-10-25T00:01:58,629332700+00:00 - iot-server/finish 1 0\n2021-10-25T00:01:58,630659200+00:00 - Exit code 1 is normal. Not restarting iot-server.\nStarting gunicorn 20.1.0\nListening at: http://127.0.0.1:31311 (332)\nUsing worker: sync\nworker timeout is set to 300\nBooting worker with pid: 361\n\n"
        }
      ],
      "execution_count": 22,
      "metadata": {
        "jupyter": {
          "source_hidden": false,
          "outputs_hidden": false
        },
        "nteract": {
          "transient": {
            "deleting": false
          }
        },
        "gather": {
          "logged": 1635120119986
        }
      }
    },
    {
      "cell_type": "markdown",
      "source": [
        "TODO: In the cell below, send a request to the web service you deployed to test it."
      ],
      "metadata": {
        "collapsed": true,
        "gather": {
          "logged": 1598431657736
        },
        "jupyter": {
          "outputs_hidden": false,
          "source_hidden": false
        },
        "nteract": {
          "transient": {
            "deleting": false
          }
        },
        "id": "8KBf-4m2DIzR"
      }
    },
    {
      "cell_type": "code",
      "source": [
        "# To enable ApplicationInsights on the service (webservice), \n",
        "# * first access the endpoint using the name assigned at the time of deployment\n",
        "# * next update webservice parameters such as enabling application insights (enable_app_insights)\n",
        "\n",
        "webservice = Webservice(\n",
        "    workspace = ws,\n",
        "    name=c_constants.DEPLOYED_SERVICE\n",
        ")\n",
        "\n",
        "webservice.update(\n",
        "    enable_app_insights=True\n",
        ")\n",
        "\n",
        "# At this point application insights (logging is enabled) and can be\n",
        "# checked in the GUI in AutoML studio"
      ],
      "outputs": [],
      "execution_count": null,
      "metadata": {
        "gather": {
          "logged": 1598432707604
        },
        "jupyter": {
          "outputs_hidden": false,
          "source_hidden": false
        },
        "nteract": {
          "transient": {
            "deleting": false
          }
        },
        "id": "dJNveHvSDIzR"
      }
    },
    {
      "cell_type": "code",
      "source": [
        "# URL for the web service, should be similar to:\n",
        "# 'http://8530a665-66f3-49c8-a953-b82a2d312917.eastus.azurecontainer.io/score'\n",
        "\n",
        "# From the tail end of the code at\n",
        "# https://docs.microsoft.com/en-us/azure/machine-learning/how-to-deploy-and-where?tabs=python\n",
        "# - Deploy machine learning models to Azure\n",
        "\n",
        "\n",
        "scoring_uri = webservice.scoring_uri\n",
        "\n",
        "# If the service is authenticated, set the key or token\n",
        "key, _ = webservice.get_keys()\n",
        "\n",
        "# Set the appropriate headers\n",
        "headers = {\"Content-Type\": \"application/json\"}\n",
        "headers[\"Authorization\"] = f\"Bearer {key}\"\n",
        "\n",
        "\n",
        "\n",
        "# fixed ac\t   volatile ac\tcitric acid\t  residual sugar\tchlorides\t  free sulfurdi\ttotal sulfurdi\tdensity\t       pH\t        sulphates\t    alcohol\tquality\t\t\n",
        "# 0.883090875\t0.3150853064\t-0.5304215055\t-0.1166025484\t-0.447289012\t-0.7237011554\t-0.6908704601\t-0.01249670459\t1.004852702\t0.4394546089\t0.3947056997\t0\t\t\n",
        "# 0.7645889612\t1.307202455\t-0.8609459206\t1.657825186\t0.3765862299\t-0.4297069397\t0.8386109571\t1.655893566\t-0.05474573919\t0.001341709573\t-0.6616718988\t0\t\t\n",
        "\n",
        "\n",
        "\n",
        "\n",
        "# Two sets of data to score, so we get two results back\n",
        "# data = {\"data\":\n",
        "#         [\n",
        "#           {\n",
        "#             \"fixed acidity\": 0.883090875,\n",
        "#             \"volatile acidity\": \"0.3150853064\",\n",
        "#             \"citric acid\": \"-0.5304215055\",\n",
        "#             \"residual sugar\": \"-0.1166025484\",\n",
        "#             \"chlorides\": \"-0.447289012\",\n",
        "#             \"free sulfur dioxide\": \"-0.7237011554\",\n",
        "#             \"total sulfur dioxide\": \"-0.6908704601\",\n",
        "#             \"density\": \"-0.01249670459\",\n",
        "#             \"pH\": \"1.004852702\",\n",
        "#             \"sulphates\": \"0.4394546089\",\n",
        "#             \"alcohol\": 0.3947056997,\n",
        "#           },\n",
        "#           {\n",
        "#             \"fixed acidity\": 0.7645889612,\n",
        "#             \"volatile acidity\": \"1.307202455\",\n",
        "#             \"citric acid\": \"-0.8609459206\",\n",
        "#             \"residual sugar\": \"1.657825186\",\n",
        "#             \"chlorides\": \"0.3765862299\",\n",
        "#             \"free sulfur dioxide\": \"-0.4297069397\",\n",
        "#             \"total sulfur dioxide\": \"0.8386109571\",\n",
        "#             \"density\": \"1.655893566\",\n",
        "#             \"pH\": \"-0.05474573919\",\n",
        "#             \"sulphates\": \"0.001341709573\",\n",
        "#             \"alcohol\": 0.3947056997,\n",
        "#           },\n",
        "#       ]\n",
        "#     }\n",
        "\n",
        "\n",
        "data = {\"data\":\n",
        "        [\n",
        "          [\n",
        "           0.883090875,\n",
        "           0.3150853064,\n",
        "          -0.5304215055,\n",
        "          -0.1166025484,\n",
        "          -0.447289012,\n",
        "          -0.7237011554,\n",
        "          -0.6908704601,\n",
        "          -0.01249670459,\n",
        "          1.004852702,\n",
        "          0.4394546089,\n",
        "          0.3947056997\n",
        "          ],\n",
        "          [\n",
        "          0.7645889612,\n",
        "          1.307202455,\n",
        "          -0.8609459206,\n",
        "          1.657825186,\n",
        "          0.3765862299,\n",
        "          -0.4297069397,\n",
        "          0.8386109571,\n",
        "          1.655893566,\n",
        "          -0.05474573919,\n",
        "          0.001341709573,\n",
        "          0.3947056997\n",
        "          ]\n",
        "        ]\n",
        "    }\n",
        "\n",
        "# Convert to JSON string\n",
        "input_data = json.dumps(data)\n",
        "\n",
        "# Set the content type\n",
        "headers = {'Content-Type': 'application/json'}\n",
        "# If authentication is enabled, set the authorization header\n",
        "headers['Authorization'] = f'Bearer {key}'\n",
        "\n",
        "# Make the request and display the response\n",
        "resp = requests.post(scoring_uri, input_data, headers=headers)\n",
        "print(resp.json())"
      ],
      "outputs": [],
      "execution_count": null,
      "metadata": {
        "id": "la5hi2gjwGg9"
      }
    },
    {
      "cell_type": "markdown",
      "source": [
        "TODO: In the cell below, print the logs of the web service and delete the service"
      ],
      "metadata": {
        "collapsed": true,
        "gather": {
          "logged": 1598432765711
        },
        "jupyter": {
          "outputs_hidden": false,
          "source_hidden": false
        },
        "nteract": {
          "transient": {
            "deleting": false
          }
        },
        "id": "QkENqomcDIzR"
      }
    },
    {
      "cell_type": "code",
      "source": [
        "logs = webservice.get_logs()\n",
        "\n",
        "for line in logs.split('\\n'):\n",
        "    print(line)\n",
        "\n"
      ],
      "outputs": [
        {
          "output_type": "error",
          "ename": "NameError",
          "evalue": "name 'webservice' is not defined",
          "traceback": [
            "\u001b[0;31m---------------------------------------------------------------------------\u001b[0m",
            "\u001b[0;31mNameError\u001b[0m                                 Traceback (most recent call last)",
            "\u001b[0;32m<ipython-input-21-299feffede67>\u001b[0m in \u001b[0;36m<module>\u001b[0;34m\u001b[0m\n\u001b[0;32m----> 1\u001b[0;31m \u001b[0mlogs\u001b[0m \u001b[0;34m=\u001b[0m \u001b[0mwebservice\u001b[0m\u001b[0;34m.\u001b[0m\u001b[0mget_logs\u001b[0m\u001b[0;34m(\u001b[0m\u001b[0;34m)\u001b[0m\u001b[0;34m\u001b[0m\u001b[0;34m\u001b[0m\u001b[0m\n\u001b[0m\u001b[1;32m      2\u001b[0m \u001b[0;34m\u001b[0m\u001b[0m\n\u001b[1;32m      3\u001b[0m \u001b[0;32mfor\u001b[0m \u001b[0mline\u001b[0m \u001b[0;32min\u001b[0m \u001b[0mlogs\u001b[0m\u001b[0;34m.\u001b[0m\u001b[0msplit\u001b[0m\u001b[0;34m(\u001b[0m\u001b[0;34m'\\n'\u001b[0m\u001b[0;34m)\u001b[0m\u001b[0;34m:\u001b[0m\u001b[0;34m\u001b[0m\u001b[0;34m\u001b[0m\u001b[0m\n\u001b[1;32m      4\u001b[0m     \u001b[0mprint\u001b[0m\u001b[0;34m(\u001b[0m\u001b[0mline\u001b[0m\u001b[0;34m)\u001b[0m\u001b[0;34m\u001b[0m\u001b[0;34m\u001b[0m\u001b[0m\n\u001b[1;32m      5\u001b[0m \u001b[0;34m\u001b[0m\u001b[0m\n",
            "\u001b[0;31mNameError\u001b[0m: name 'webservice' is not defined"
          ]
        }
      ],
      "execution_count": 21,
      "metadata": {
        "jupyter": {
          "outputs_hidden": false,
          "source_hidden": false
        },
        "nteract": {
          "transient": {
            "deleting": false
          }
        },
        "id": "1trRJIbbDIzS"
      }
    },
    {
      "cell_type": "code",
      "source": [
        "# Clean up any resources\n",
        "# Delete the Webservice\n",
        "# delete the compute cluster\n",
        "\n",
        "webservice.delete()\n",
        "cc.delete()"
      ],
      "outputs": [],
      "execution_count": null,
      "metadata": {
        "id": "PhRicHU1gkEM"
      }
    },
    {
      "cell_type": "markdown",
      "source": [
        "**Submission Checklist**\n",
        "- I have registered the model.\n",
        "- I have deployed the model with the best accuracy as a webservice.\n",
        "- I have tested the webservice by sending a request to the model endpoint.\n",
        "- I have deleted the webservice and shutdown all the computes that I have used.\n",
        "- I have taken a screenshot showing the model endpoint as active.\n",
        "- The project includes a file containing the environment details.\n"
      ],
      "metadata": {
        "id": "MLk4oZDIDIzS"
      }
    },
    {
      "cell_type": "markdown",
      "source": [],
      "metadata": {
        "id": "UqcD2kWygoY1"
      }
    },
    {
      "cell_type": "markdown",
      "source": [],
      "metadata": {
        "id": "KaRTmB9VDIzT"
      }
    }
  ],
  "metadata": {
    "kernel_info": {
      "name": "python3"
    },
    "kernelspec": {
      "name": "python3",
      "language": "python",
      "display_name": "Python 3"
    },
    "language_info": {
      "name": "python",
      "version": "3.6.9",
      "mimetype": "text/x-python",
      "codemirror_mode": {
        "name": "ipython",
        "version": 3
      },
      "pygments_lexer": "ipython3",
      "nbconvert_exporter": "python",
      "file_extension": ".py"
    },
    "nteract": {
      "version": "nteract-front-end@1.0.0"
    },
    "colab": {
      "name": "current automl.ipynb",
      "provenance": [],
      "collapsed_sections": []
    },
    "microsoft": {
      "host": {
        "AzureML": {
          "notebookHasBeenCompleted": true
        }
      }
    }
  },
  "nbformat": 4,
  "nbformat_minor": 0
}