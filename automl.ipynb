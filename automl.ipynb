{
  "nbformat": 4,
  "nbformat_minor": 0,
  "metadata": {
    "kernel_info": {
      "name": "python3-azureml"
    },
    "kernelspec": {
      "name": "python3-azureml",
      "language": "python",
      "display_name": "Python 3.6 - AzureML"
    },
    "language_info": {
      "name": "python",
      "version": "3.6.9",
      "mimetype": "text/x-python",
      "codemirror_mode": {
        "name": "ipython",
        "version": 3
      },
      "pygments_lexer": "ipython3",
      "nbconvert_exporter": "python",
      "file_extension": ".py"
    },
    "nteract": {
      "version": "nteract-front-end@1.0.0"
    },
    "colab": {
      "name": "current automl.ipynb",
      "provenance": [],
      "collapsed_sections": []
    },
    "microsoft": {
      "host": {
        "AzureML": {
          "notebookHasBeenCompleted": true
        }
      }
    }
  },
  "cells": [
    {
      "cell_type": "markdown",
      "metadata": {
        "id": "dIFBchG8DIzE"
      },
      "source": [
        "# Automated ML\n",
        "\n",
        "TODO: Import Dependencies. In the cell below, import all the dependencies that you will need to complete the project."
      ]
    },
    {
      "cell_type": "markdown",
      "metadata": {
        "id": "ZrM_0OmdCtYp"
      },
      "source": [
        "[Wine Quality Data Set](https://archive.ics.uci.edu/ml/datasets/Wine+Quality)"
      ]
    },
    {
      "cell_type": "code",
      "metadata": {
        "gather": {
          "logged": 1635430269301
        },
        "jupyter": {
          "outputs_hidden": false,
          "source_hidden": false
        },
        "nteract": {
          "transient": {
            "deleting": false
          }
        },
        "id": "T1gyC_4iDIzI"
      },
      "source": [
        "from azureml.core.workspace import Workspace\n",
        "from azureml.core.datastore import Datastore\n",
        "from azureml.core.compute import ComputeTarget\n",
        "from azureml.core.compute.amlcompute import AmlCompute\n",
        "from azureml.exceptions import ComputeTargetException\n",
        "from azureml.core.experiment import Experiment\n",
        "from azureml.core.run import Run\n",
        "from azureml.core.dataset import Dataset\n",
        "from azureml.core.model import Model\n",
        "\n",
        "from azureml.core import Environment\n",
        "from azureml.core.model import InferenceConfig\n",
        "from azureml.core.webservice import AciWebservice\n",
        "\n",
        "\n",
        "from azureml.core.webservice import Webservice\n",
        "from azureml.core.authentication import InteractiveLoginAuthentication\n",
        "\n",
        "import pandas as pd\n",
        "\n",
        "from azureml.pipeline.core.pipeline import Pipeline\n",
        "from azureml.pipeline.core import PipelineData\n",
        "from azureml.pipeline.core import TrainingOutput\n",
        "from azureml.pipeline.core.run import PipelineRun\n",
        "from azureml.pipeline.steps.automl_step import AutoMLStep\n",
        "\n",
        "from azureml.train.automl.automlconfig import AutoMLConfig\n",
        "from azureml.data import TabularDataset\n",
        "from azureml.widgets.run_details import RunDetails\n",
        "\n",
        "from azureml.automl.core.shared import constants\n",
        "\n",
        "import json\n",
        "import pickle\n",
        "import requests\n",
        "\n",
        "from pprint import pprint\n",
        "\n",
        "import logging\n",
        "import joblib\n",
        "\n",
        "from train import clean_data, get_dataset\n",
        "import capstone_constants as c_constants\n",
        "\n"
      ],
      "execution_count": null,
      "outputs": []
    },
    {
      "cell_type": "markdown",
      "metadata": {
        "id": "nXX3ww9_DIzJ"
      },
      "source": [
        "## Dataset\n",
        "\n",
        "### Overview\n",
        "Overview¶\n",
        "TODO: In this markdown cell, give an overview of the dataset you are using. Also mention the task you will be performing.\n",
        "\n",
        "This machine learning program detects the wine quality of white wine.\n",
        "The task is to determine if the wine quality is \"good'\" (1) or \"not good\" (0).\n",
        "More information about the dataset is provided in the README for this Capstone Project.\n",
        "\n",
        "\n",
        "TODO: Get data. In the cell below, write code to access the data you will be using in this project. Remember that the dataset needs to be external.\n",
        "\n",
        "The dataset is external and the URI as defined in capstone_constants.py is:\n",
        "TABULAR_WINE_DATA_URI = 'https://archive.ics.uci.edu/ml/machine-learning-databases/wine-quality/winequality-white.csv'\n",
        "\n",
        "Note that the oriignal data above qualifies quality as a classfification between 1 and 10. However, this Capstone project transforms quality > 7 as \"good\" (1) and otherwise \"not good\" (0). The project is thus framed as a binary classification challenge."
      ]
    },
    {
      "cell_type": "code",
      "metadata": {
        "gather": {
          "logged": 1635430271016
        },
        "jupyter": {
          "outputs_hidden": false,
          "source_hidden": false
        },
        "nteract": {
          "transient": {
            "deleting": false
          }
        },
        "id": "axbCq54eDIzK"
      },
      "source": [
        "ws = Workspace.from_config()\n",
        "\n",
        "# choose a name for experiment\n",
        "experiment=Experiment(ws, c_constants.AUTOML_EXPERIMENT_NAME)"
      ],
      "execution_count": null,
      "outputs": []
    },
    {
      "cell_type": "code",
      "metadata": {
        "id": "SCvxfM_3ElcZ",
        "gather": {
          "logged": 1635430409044
        },
        "outputId": "f4c3ad7a-373d-4421-85ea-ef2c869aa6f0"
      },
      "source": [
        "# Next, let's use if it exists, or create if required, a compute cluster to be used by the ML\n",
        "\n",
        "# Access the compute cluster. If it exists, we will have the compute object. \n",
        "# If it does not exist, an exception will be thrown upon which the compute cluster is created\n",
        "try:\n",
        "    cc = ComputeTarget(workspace=ws, name=c_constants.COMPUTE_CLUSTER_AUTOML)\n",
        "    print(f'Compute Cluster target exists and we have a handle to the same')\n",
        "except ComputeTargetException:\n",
        "    # Failed to obtain the compute cluster object\n",
        "    # In all likelihood, a compute cluster of that name has not been created\n",
        "    # Attempt to create the compute cluster\n",
        "    # First set up the configuration\n",
        "\n",
        "    # Specify the configuration of the compute cluster\n",
        "    cc_cfg = AmlCompute.provisioning_configuration(vm_size='Standard_DS12_v2', min_nodes=1, max_nodes=6)\n",
        "    cc = ComputeTarget.create(workspace=ws, name=c_constants.COMPUTE_CLUSTER_AUTOML, provisioning_configuration=cc_cfg)\n",
        "\n",
        "# At this point - we have access to the compute cluster object. Wait for the compute target to complete provisioing\n",
        "cc.wait_for_completion(show_output='True')"
      ],
      "execution_count": null,
      "outputs": [
        {
          "output_type": "stream",
          "name": "stdout",
          "text": "InProgress....\nSucceededProvisioning operation finished, operation \"Succeeded\"\nSucceeded......................\nAmlCompute wait for completion finished\n\nMinimum number of nodes requested have been provisioned\n"
        }
      ]
    },
    {
      "cell_type": "code",
      "metadata": {
        "id": "ifhLxyqqFCtQ",
        "gather": {
          "logged": 1635430415803
        },
        "outputId": "d93174eb-bcd7-4ba2-9603-48fab34aae78"
      },
      "source": [
        "# grab the data and create a dataset\n",
        "train_ds = get_dataset(ws)\n",
        "\n",
        "# Take a peek at the data by converting the same to a Pandas dataframe\n",
        "proj_df = train_ds.to_pandas_dataframe()\n",
        "\n",
        "# print the data\n",
        "proj_df"
      ],
      "execution_count": null,
      "outputs": [
        {
          "output_type": "stream",
          "name": "stdout",
          "text": "Uploading an estimated of 2 files\nUploading train_normalized_data/normaliztion_parameters.csv\nUploaded train_normalized_data/normaliztion_parameters.csv, 1 files out of an estimated total of 2\nUploading train_normalized_data/train_normalized.csv\nUploaded train_normalized_data/train_normalized.csv, 2 files out of an estimated total of 2\nUploaded 2 files\n"
        },
        {
          "output_type": "execute_result",
          "execution_count": 4,
          "data": {
            "text/plain": "      fixed acidity  volatile acidity  citric acid  residual sugar  chlorides  \\\n0         -0.775936          0.215874    -0.117266       -0.924953  -0.630372   \n1          0.764589          0.414297     1.287463       -0.924953  -0.676143   \n2         -0.775936         -1.173090    -0.117266       -1.043248  -0.447289   \n3          2.542118          1.505626    -0.282528       -0.964385   0.193503   \n4         -0.301928         -0.280185     1.452725        0.317146   0.056190   \n...             ...               ...          ...             ...        ...   \n3913       0.409083          1.108779     2.444298        0.908622  -0.081122   \n3914      -1.960955          0.315085    -1.108839       -0.786942  -0.859227   \n3915      -0.420430          0.811144    -0.199897        1.411377   0.330815   \n3916      -0.894438          3.192225    -1.769888       -0.905237   0.193503   \n3917       0.527585          0.414297    -0.695684        0.159420   0.468128   \n\n      free sulfur dioxide  total sulfur dioxide   density        pH  \\\n0               -0.312109             -0.196730 -0.978759  0.607503   \n1                0.511075             -0.690870 -1.145932 -0.783220   \n2                2.275040              1.073916 -1.025567  0.210154   \n3               -1.664483              0.862141  0.358628 -0.518320   \n4                1.510655              1.191568  0.672914  0.210154   \n...                   ...                   ...       ...       ...   \n3913             1.157862              0.415062  1.127626 -0.650770   \n3914            -0.488506             -0.502627 -1.727696  2.461801   \n3915            -0.900098             -0.596749  0.472306  0.077704   \n3916            -1.429287             -1.467376 -0.450491  1.534652   \n3917             0.687471              0.979794  0.692975 -0.716995   \n\n      sulphates   alcohol  quality  \n0     -0.699639  0.557225        1  \n1     -0.261526  1.613603        0  \n2     -0.699639  0.394706        0  \n3     -0.349149 -0.661672        0  \n4      0.001342 -1.067971        0  \n...         ...       ...      ...  \n3913  -0.436771 -1.474270        0  \n3914  -0.349149  2.019902        1  \n3915   0.614700  0.394706        0  \n3916  -0.086281 -0.092853        0  \n3917  -0.173903 -1.393010        0  \n\n[3918 rows x 12 columns]",
            "text/html": "<div>\n<style scoped>\n    .dataframe tbody tr th:only-of-type {\n        vertical-align: middle;\n    }\n\n    .dataframe tbody tr th {\n        vertical-align: top;\n    }\n\n    .dataframe thead th {\n        text-align: right;\n    }\n</style>\n<table border=\"1\" class=\"dataframe\">\n  <thead>\n    <tr style=\"text-align: right;\">\n      <th></th>\n      <th>fixed acidity</th>\n      <th>volatile acidity</th>\n      <th>citric acid</th>\n      <th>residual sugar</th>\n      <th>chlorides</th>\n      <th>free sulfur dioxide</th>\n      <th>total sulfur dioxide</th>\n      <th>density</th>\n      <th>pH</th>\n      <th>sulphates</th>\n      <th>alcohol</th>\n      <th>quality</th>\n    </tr>\n  </thead>\n  <tbody>\n    <tr>\n      <th>0</th>\n      <td>-0.775936</td>\n      <td>0.215874</td>\n      <td>-0.117266</td>\n      <td>-0.924953</td>\n      <td>-0.630372</td>\n      <td>-0.312109</td>\n      <td>-0.196730</td>\n      <td>-0.978759</td>\n      <td>0.607503</td>\n      <td>-0.699639</td>\n      <td>0.557225</td>\n      <td>1</td>\n    </tr>\n    <tr>\n      <th>1</th>\n      <td>0.764589</td>\n      <td>0.414297</td>\n      <td>1.287463</td>\n      <td>-0.924953</td>\n      <td>-0.676143</td>\n      <td>0.511075</td>\n      <td>-0.690870</td>\n      <td>-1.145932</td>\n      <td>-0.783220</td>\n      <td>-0.261526</td>\n      <td>1.613603</td>\n      <td>0</td>\n    </tr>\n    <tr>\n      <th>2</th>\n      <td>-0.775936</td>\n      <td>-1.173090</td>\n      <td>-0.117266</td>\n      <td>-1.043248</td>\n      <td>-0.447289</td>\n      <td>2.275040</td>\n      <td>1.073916</td>\n      <td>-1.025567</td>\n      <td>0.210154</td>\n      <td>-0.699639</td>\n      <td>0.394706</td>\n      <td>0</td>\n    </tr>\n    <tr>\n      <th>3</th>\n      <td>2.542118</td>\n      <td>1.505626</td>\n      <td>-0.282528</td>\n      <td>-0.964385</td>\n      <td>0.193503</td>\n      <td>-1.664483</td>\n      <td>0.862141</td>\n      <td>0.358628</td>\n      <td>-0.518320</td>\n      <td>-0.349149</td>\n      <td>-0.661672</td>\n      <td>0</td>\n    </tr>\n    <tr>\n      <th>4</th>\n      <td>-0.301928</td>\n      <td>-0.280185</td>\n      <td>1.452725</td>\n      <td>0.317146</td>\n      <td>0.056190</td>\n      <td>1.510655</td>\n      <td>1.191568</td>\n      <td>0.672914</td>\n      <td>0.210154</td>\n      <td>0.001342</td>\n      <td>-1.067971</td>\n      <td>0</td>\n    </tr>\n    <tr>\n      <th>...</th>\n      <td>...</td>\n      <td>...</td>\n      <td>...</td>\n      <td>...</td>\n      <td>...</td>\n      <td>...</td>\n      <td>...</td>\n      <td>...</td>\n      <td>...</td>\n      <td>...</td>\n      <td>...</td>\n      <td>...</td>\n    </tr>\n    <tr>\n      <th>3913</th>\n      <td>0.409083</td>\n      <td>1.108779</td>\n      <td>2.444298</td>\n      <td>0.908622</td>\n      <td>-0.081122</td>\n      <td>1.157862</td>\n      <td>0.415062</td>\n      <td>1.127626</td>\n      <td>-0.650770</td>\n      <td>-0.436771</td>\n      <td>-1.474270</td>\n      <td>0</td>\n    </tr>\n    <tr>\n      <th>3914</th>\n      <td>-1.960955</td>\n      <td>0.315085</td>\n      <td>-1.108839</td>\n      <td>-0.786942</td>\n      <td>-0.859227</td>\n      <td>-0.488506</td>\n      <td>-0.502627</td>\n      <td>-1.727696</td>\n      <td>2.461801</td>\n      <td>-0.349149</td>\n      <td>2.019902</td>\n      <td>1</td>\n    </tr>\n    <tr>\n      <th>3915</th>\n      <td>-0.420430</td>\n      <td>0.811144</td>\n      <td>-0.199897</td>\n      <td>1.411377</td>\n      <td>0.330815</td>\n      <td>-0.900098</td>\n      <td>-0.596749</td>\n      <td>0.472306</td>\n      <td>0.077704</td>\n      <td>0.614700</td>\n      <td>0.394706</td>\n      <td>0</td>\n    </tr>\n    <tr>\n      <th>3916</th>\n      <td>-0.894438</td>\n      <td>3.192225</td>\n      <td>-1.769888</td>\n      <td>-0.905237</td>\n      <td>0.193503</td>\n      <td>-1.429287</td>\n      <td>-1.467376</td>\n      <td>-0.450491</td>\n      <td>1.534652</td>\n      <td>-0.086281</td>\n      <td>-0.092853</td>\n      <td>0</td>\n    </tr>\n    <tr>\n      <th>3917</th>\n      <td>0.527585</td>\n      <td>0.414297</td>\n      <td>-0.695684</td>\n      <td>0.159420</td>\n      <td>0.468128</td>\n      <td>0.687471</td>\n      <td>0.979794</td>\n      <td>0.692975</td>\n      <td>-0.716995</td>\n      <td>-0.173903</td>\n      <td>-1.393010</td>\n      <td>0</td>\n    </tr>\n  </tbody>\n</table>\n<p>3918 rows × 12 columns</p>\n</div>"
          },
          "metadata": {}
        }
      ]
    },
    {
      "cell_type": "code",
      "metadata": {
        "id": "KaXlY6KqFVQT",
        "gather": {
          "logged": 1635430416173
        },
        "outputId": "50b4fce2-7875-43f2-dbcb-294310d8ee4e"
      },
      "source": [
        "proj_df.describe()"
      ],
      "execution_count": null,
      "outputs": [
        {
          "output_type": "execute_result",
          "execution_count": 5,
          "data": {
            "text/plain": "       fixed acidity  volatile acidity  citric acid  residual sugar  \\\ncount    3918.000000       3918.000000  3918.000000     3918.000000   \nmean       -0.001076          0.004447     0.001914       -0.004852   \nstd         0.992282          0.991335     1.003364        0.987326   \nmin        -3.619982         -1.966784    -2.761461       -1.141827   \n25%        -0.657434         -0.677032    -0.530422       -0.924953   \n50%        -0.064924         -0.180973    -0.117266       -0.234898   \n75%         0.527585          0.414297     0.461152        0.681890   \nmax         5.860171          8.152811    10.955302        4.970090   \n\n         chlorides  free sulfur dioxide  total sulfur dioxide      density  \\\ncount  3918.000000          3918.000000           3918.000000  3918.000000   \nmean     -0.005363             0.003518             -0.000805    -0.005278   \nstd       0.998503             0.971193              0.992820     0.976292   \nmin      -1.683102            -1.958477             -3.020388    -2.312802   \n25%      -0.447289            -0.664902             -0.690870    -0.768120   \n50%      -0.126893            -0.076914             -0.102608    -0.109457   \n75%       0.193503             0.628672              0.673898     0.692975   \nmax      13.741673             6.537956              5.368229     5.440699   \n\n                pH    sulphates      alcohol      quality  \ncount  3918.000000  3918.000000  3918.000000  3918.000000  \nmean      0.003332     0.013083     0.005939     0.213629  \nstd       1.009029     0.998059     0.999789     0.409920  \nmin      -3.101091    -2.364468    -2.043089     0.000000  \n25%      -0.650770    -0.699639    -0.824192     0.000000  \n50%      -0.054746    -0.086281    -0.092853     0.000000  \n75%       0.607503     0.527077     0.719745     0.000000  \nmax       4.183648     5.171074     2.995020     1.000000  ",
            "text/html": "<div>\n<style scoped>\n    .dataframe tbody tr th:only-of-type {\n        vertical-align: middle;\n    }\n\n    .dataframe tbody tr th {\n        vertical-align: top;\n    }\n\n    .dataframe thead th {\n        text-align: right;\n    }\n</style>\n<table border=\"1\" class=\"dataframe\">\n  <thead>\n    <tr style=\"text-align: right;\">\n      <th></th>\n      <th>fixed acidity</th>\n      <th>volatile acidity</th>\n      <th>citric acid</th>\n      <th>residual sugar</th>\n      <th>chlorides</th>\n      <th>free sulfur dioxide</th>\n      <th>total sulfur dioxide</th>\n      <th>density</th>\n      <th>pH</th>\n      <th>sulphates</th>\n      <th>alcohol</th>\n      <th>quality</th>\n    </tr>\n  </thead>\n  <tbody>\n    <tr>\n      <th>count</th>\n      <td>3918.000000</td>\n      <td>3918.000000</td>\n      <td>3918.000000</td>\n      <td>3918.000000</td>\n      <td>3918.000000</td>\n      <td>3918.000000</td>\n      <td>3918.000000</td>\n      <td>3918.000000</td>\n      <td>3918.000000</td>\n      <td>3918.000000</td>\n      <td>3918.000000</td>\n      <td>3918.000000</td>\n    </tr>\n    <tr>\n      <th>mean</th>\n      <td>-0.001076</td>\n      <td>0.004447</td>\n      <td>0.001914</td>\n      <td>-0.004852</td>\n      <td>-0.005363</td>\n      <td>0.003518</td>\n      <td>-0.000805</td>\n      <td>-0.005278</td>\n      <td>0.003332</td>\n      <td>0.013083</td>\n      <td>0.005939</td>\n      <td>0.213629</td>\n    </tr>\n    <tr>\n      <th>std</th>\n      <td>0.992282</td>\n      <td>0.991335</td>\n      <td>1.003364</td>\n      <td>0.987326</td>\n      <td>0.998503</td>\n      <td>0.971193</td>\n      <td>0.992820</td>\n      <td>0.976292</td>\n      <td>1.009029</td>\n      <td>0.998059</td>\n      <td>0.999789</td>\n      <td>0.409920</td>\n    </tr>\n    <tr>\n      <th>min</th>\n      <td>-3.619982</td>\n      <td>-1.966784</td>\n      <td>-2.761461</td>\n      <td>-1.141827</td>\n      <td>-1.683102</td>\n      <td>-1.958477</td>\n      <td>-3.020388</td>\n      <td>-2.312802</td>\n      <td>-3.101091</td>\n      <td>-2.364468</td>\n      <td>-2.043089</td>\n      <td>0.000000</td>\n    </tr>\n    <tr>\n      <th>25%</th>\n      <td>-0.657434</td>\n      <td>-0.677032</td>\n      <td>-0.530422</td>\n      <td>-0.924953</td>\n      <td>-0.447289</td>\n      <td>-0.664902</td>\n      <td>-0.690870</td>\n      <td>-0.768120</td>\n      <td>-0.650770</td>\n      <td>-0.699639</td>\n      <td>-0.824192</td>\n      <td>0.000000</td>\n    </tr>\n    <tr>\n      <th>50%</th>\n      <td>-0.064924</td>\n      <td>-0.180973</td>\n      <td>-0.117266</td>\n      <td>-0.234898</td>\n      <td>-0.126893</td>\n      <td>-0.076914</td>\n      <td>-0.102608</td>\n      <td>-0.109457</td>\n      <td>-0.054746</td>\n      <td>-0.086281</td>\n      <td>-0.092853</td>\n      <td>0.000000</td>\n    </tr>\n    <tr>\n      <th>75%</th>\n      <td>0.527585</td>\n      <td>0.414297</td>\n      <td>0.461152</td>\n      <td>0.681890</td>\n      <td>0.193503</td>\n      <td>0.628672</td>\n      <td>0.673898</td>\n      <td>0.692975</td>\n      <td>0.607503</td>\n      <td>0.527077</td>\n      <td>0.719745</td>\n      <td>0.000000</td>\n    </tr>\n    <tr>\n      <th>max</th>\n      <td>5.860171</td>\n      <td>8.152811</td>\n      <td>10.955302</td>\n      <td>4.970090</td>\n      <td>13.741673</td>\n      <td>6.537956</td>\n      <td>5.368229</td>\n      <td>5.440699</td>\n      <td>4.183648</td>\n      <td>5.171074</td>\n      <td>2.995020</td>\n      <td>1.000000</td>\n    </tr>\n  </tbody>\n</table>\n</div>"
          },
          "metadata": {}
        }
      ]
    },
    {
      "cell_type": "markdown",
      "metadata": {
        "id": "scO2RZk_DIzL"
      },
      "source": [
        "## AutoML Configuration\n",
        "\n",
        "TODO: Explain why you chose the automl settings and cofiguration you used below.\n",
        "\n",
        "This project is a classification issue. More so, it is a binary classification issue as teh outcome is whether the wine is of a good quality or not.\n",
        "\n",
        "AUC_weighted is an apporpriate metric to target for a binary classification.\n",
        "[Set up AutoML training with Python](https://docs.microsoft.com/en-us/azure/machine-learning/how-to-configure-auto-train)\n",
        "\n",
        "It is generally recommended to enable early stopping as it is possible that after a while no further improvement in the model is feasible.\n",
        "\n",
        "There is enrally limited to no benefit to using a large number of cross validations. In this instance, we have set it to 3."
      ]
    },
    {
      "cell_type": "code",
      "metadata": {
        "gather": {
          "logged": 1635430416504
        },
        "jupyter": {
          "outputs_hidden": false,
          "source_hidden": false
        },
        "nteract": {
          "transient": {
            "deleting": false
          }
        },
        "id": "uJJWKay5DIzL"
      },
      "source": [
        "# TODO: Put your automl settings here\n",
        "\n",
        "automl_settings = {\n",
        "    \"iterations\" : 20,\n",
        "    \"experiment_timeout_minutes\" : 30,\n",
        "    \"enable_early_stopping\" : True,\n",
        "    \"iteration_timeout_minutes\" : 5,\n",
        "    \"max_concurrent_iterations\" : 5,\n",
        "    \"max_cores_per_iteration\" : -1,\n",
        "    \"n_cross_validations\" : 3,\n",
        "    \"primary_metric\" : 'AUC_weighted',\n",
        "    \"verbosity\" : logging.INFO,\n",
        "}\n",
        "\n",
        "# Provide the remainder of the settings/configuration\n",
        "# Note that we are not providing a validation data set - and we may need to\n",
        "# \n",
        "\n",
        "\n",
        "# TODO: Put your automl config here\n",
        "automl_config = AutoMLConfig(\n",
        "    compute_target = cc,\n",
        "    task='classification',\n",
        "    training_data=train_ds,\n",
        "    label_column_name=c_constants.LABEL_COLUMN_NAME,\n",
        "    featurization='auto',\n",
        "    model_explainability=True,\n",
        "    debug_log=c_constants.DEBUG_LOG,\n",
        "    **automl_settings)"
      ],
      "execution_count": null,
      "outputs": []
    },
    {
      "cell_type": "code",
      "metadata": {
        "gather": {
          "logged": 1635430423241
        },
        "jupyter": {
          "outputs_hidden": false,
          "source_hidden": false
        },
        "nteract": {
          "transient": {
            "deleting": false
          }
        },
        "id": "qm0n8PgRDIzM",
        "outputId": "8df43128-0651-417b-debf-f57a333306c6"
      },
      "source": [
        "# TODO: Submit your experiment\n",
        "automl_run = experiment.submit(automl_config)"
      ],
      "execution_count": null,
      "outputs": [
        {
          "output_type": "stream",
          "name": "stdout",
          "text": "Submitting remote run.\n"
        },
        {
          "output_type": "display_data",
          "data": {
            "text/plain": "<IPython.core.display.HTML object>",
            "text/html": "<table style=\"width:100%\"><tr><th>Experiment</th><th>Id</th><th>Type</th><th>Status</th><th>Details Page</th><th>Docs Page</th></tr><tr><td>exp-capstone-automl</td><td>AutoML_85bbf589-3fd5-4fb0-987e-c1d7e4e7134d</td><td>automl</td><td>NotStarted</td><td><a href=\"https://ml.azure.com/runs/AutoML_85bbf589-3fd5-4fb0-987e-c1d7e4e7134d?wsid=/subscriptions/9a7511b8-150f-4a58-8528-3e7d50216c31/resourcegroups/aml-quickstarts-162292/workspaces/quick-starts-ws-162292&amp;tid=660b3398-b80e-49d2-bc5b-ac1dc93b5254\" target=\"_blank\" rel=\"noopener\">Link to Azure Machine Learning studio</a></td><td><a href=\"https://docs.microsoft.com/en-us/python/api/overview/azure/ml/intro?view=azure-ml-py\" target=\"_blank\" rel=\"noopener\">Link to Documentation</a></td></tr></table>"
          },
          "metadata": {}
        }
      ]
    },
    {
      "cell_type": "markdown",
      "metadata": {
        "id": "MR49YIwPDIzN"
      },
      "source": [
        "## Run Details\n",
        "\n",
        "OPTIONAL: Write about the different models trained and their performance. Why do you think some models did better than others?\n",
        "\n",
        "TODO: In the cell below, use the `RunDetails` widget to show the different experiments."
      ]
    },
    {
      "cell_type": "code",
      "metadata": {
        "gather": {
          "logged": 1635430423742
        },
        "jupyter": {
          "outputs_hidden": false,
          "source_hidden": false
        },
        "nteract": {
          "transient": {
            "deleting": false
          }
        },
        "id": "_lbzZ9SZDIzN",
        "colab": {
          "referenced_widgets": [
            "401c9e759cb246af80dc60f91bf851c3",
            "0514f75c8c6a4c6c9b456cccde1b9e0c"
          ]
        },
        "outputId": "8f9c36fd-4a8c-4c84-cdd5-3572d2677200"
      },
      "source": [
        "RunDetails(automl_run).show()"
      ],
      "execution_count": null,
      "outputs": [
        {
          "output_type": "display_data",
          "data": {
            "text/plain": "_AutoMLWidget(widget_settings={'childWidgetDisplay': 'popup', 'send_telemetry': False, 'log_level': 'INFO', 's…",
            "application/vnd.jupyter.widget-view+json": {
              "version_major": 2,
              "version_minor": 0,
              "model_id": "0514f75c8c6a4c6c9b456cccde1b9e0c"
            }
          },
          "metadata": {}
        },
        {
          "output_type": "display_data",
          "data": {
            "application/aml.mini.widget.v1": "{\"status\": \"Completed\", \"workbench_run_details_uri\": \"https://ml.azure.com/runs/AutoML_85bbf589-3fd5-4fb0-987e-c1d7e4e7134d?wsid=/subscriptions/9a7511b8-150f-4a58-8528-3e7d50216c31/resourcegroups/aml-quickstarts-162292/workspaces/quick-starts-ws-162292&tid=660b3398-b80e-49d2-bc5b-ac1dc93b5254\", \"run_id\": \"AutoML_85bbf589-3fd5-4fb0-987e-c1d7e4e7134d\", \"run_properties\": {\"run_id\": \"AutoML_85bbf589-3fd5-4fb0-987e-c1d7e4e7134d\", \"created_utc\": \"2021-10-28T14:13:41.722016Z\", \"properties\": {\"num_iterations\": \"20\", \"training_type\": \"TrainFull\", \"acquisition_function\": \"EI\", \"primary_metric\": \"AUC_weighted\", \"train_split\": \"0\", \"acquisition_parameter\": \"0\", \"num_cross_validation\": \"3\", \"target\": \"CPU-CC-AUTOML\", \"AMLSettingsJsonString\": \"{\\\"path\\\":null,\\\"name\\\":\\\"exp-capstone-automl\\\",\\\"subscription_id\\\":\\\"9a7511b8-150f-4a58-8528-3e7d50216c31\\\",\\\"resource_group\\\":\\\"aml-quickstarts-162292\\\",\\\"workspace_name\\\":\\\"quick-starts-ws-162292\\\",\\\"region\\\":\\\"southcentralus\\\",\\\"compute_target\\\":\\\"CPU-CC-AUTOML\\\",\\\"spark_service\\\":null,\\\"azure_service\\\":\\\"remote\\\",\\\"many_models\\\":false,\\\"pipeline_fetch_max_batch_size\\\":1,\\\"enable_batch_run\\\":false,\\\"enable_run_restructure\\\":false,\\\"start_auxiliary_runs_before_parent_complete\\\":false,\\\"enable_code_generation\\\":false,\\\"iterations\\\":20,\\\"primary_metric\\\":\\\"AUC_weighted\\\",\\\"task_type\\\":\\\"classification\\\",\\\"data_script\\\":null,\\\"test_size\\\":0.0,\\\"test_include_predictions_only\\\":false,\\\"validation_size\\\":0.0,\\\"n_cross_validations\\\":3,\\\"y_min\\\":null,\\\"y_max\\\":null,\\\"num_classes\\\":null,\\\"featurization\\\":\\\"auto\\\",\\\"_ignore_package_version_incompatibilities\\\":false,\\\"is_timeseries\\\":false,\\\"max_cores_per_iteration\\\":-1,\\\"max_concurrent_iterations\\\":5,\\\"iteration_timeout_minutes\\\":5,\\\"mem_in_mb\\\":null,\\\"enforce_time_on_windows\\\":false,\\\"experiment_timeout_minutes\\\":30,\\\"experiment_exit_score\\\":null,\\\"whitelist_models\\\":null,\\\"blacklist_algos\\\":[\\\"TensorFlowLinearClassifier\\\",\\\"TensorFlowDNN\\\"],\\\"supported_models\\\":[\\\"SGD\\\",\\\"XGBoostClassifier\\\",\\\"BernoulliNaiveBayes\\\",\\\"KNN\\\",\\\"MultinomialNaiveBayes\\\",\\\"SVM\\\",\\\"AveragedPerceptronClassifier\\\",\\\"LogisticRegression\\\",\\\"LinearSVM\\\",\\\"RandomForest\\\",\\\"GradientBoosting\\\",\\\"ExtremeRandomTrees\\\",\\\"DecisionTree\\\",\\\"TensorFlowDNN\\\",\\\"LightGBM\\\",\\\"TensorFlowLinearClassifier\\\"],\\\"private_models\\\":[],\\\"auto_blacklist\\\":true,\\\"blacklist_samples_reached\\\":false,\\\"exclude_nan_labels\\\":true,\\\"verbosity\\\":20,\\\"_debug_log\\\":\\\"azureml_automl.log\\\",\\\"show_warnings\\\":false,\\\"model_explainability\\\":true,\\\"service_url\\\":null,\\\"sdk_url\\\":null,\\\"sdk_packages\\\":null,\\\"enable_onnx_compatible_models\\\":false,\\\"enable_split_onnx_featurizer_estimator_models\\\":false,\\\"vm_type\\\":\\\"STANDARD_DS12_V2\\\",\\\"telemetry_verbosity\\\":20,\\\"send_telemetry\\\":true,\\\"enable_dnn\\\":false,\\\"scenario\\\":\\\"SDK-1.13.0\\\",\\\"environment_label\\\":null,\\\"save_mlflow\\\":false,\\\"force_text_dnn\\\":false,\\\"enable_feature_sweeping\\\":true,\\\"enable_early_stopping\\\":true,\\\"early_stopping_n_iters\\\":10,\\\"metrics\\\":null,\\\"enable_metric_confidence\\\":false,\\\"enable_ensembling\\\":true,\\\"enable_stack_ensembling\\\":true,\\\"ensemble_iterations\\\":15,\\\"enable_tf\\\":false,\\\"enable_subsampling\\\":false,\\\"subsample_seed\\\":null,\\\"enable_nimbusml\\\":false,\\\"enable_streaming\\\":false,\\\"force_streaming\\\":false,\\\"track_child_runs\\\":true,\\\"allowed_private_models\\\":[],\\\"label_column_name\\\":\\\"quality\\\",\\\"weight_column_name\\\":null,\\\"cv_split_column_names\\\":null,\\\"positive_label\\\":null,\\\"enable_local_managed\\\":false,\\\"_local_managed_run_id\\\":null,\\\"cost_mode\\\":1,\\\"lag_length\\\":0,\\\"metric_operation\\\":\\\"maximize\\\",\\\"preprocess\\\":true}\", \"DataPrepJsonString\": \"{\\\\\\\"training_data\\\\\\\": {\\\\\\\"datasetId\\\\\\\": \\\\\\\"1f2a27ce-3403-473d-9b97-2a362d10318e\\\\\\\"}, \\\\\\\"datasets\\\\\\\": 0}\", \"EnableSubsampling\": \"False\", \"runTemplate\": \"AutoML\", \"azureml.runsource\": \"automl\", \"display_task_type\": \"classification\", \"dependencies_versions\": \"{\\\"azureml-widgets\\\": \\\"1.34.0\\\", \\\"azureml-train\\\": \\\"1.34.0\\\", \\\"azureml-train-restclients-hyperdrive\\\": \\\"1.34.0\\\", \\\"azureml-train-core\\\": \\\"1.34.0\\\", \\\"azureml-train-automl\\\": \\\"1.34.0\\\", \\\"azureml-train-automl-runtime\\\": \\\"1.34.0\\\", \\\"azureml-train-automl-client\\\": \\\"1.34.0\\\", \\\"azureml-tensorboard\\\": \\\"1.34.0\\\", \\\"azureml-telemetry\\\": \\\"1.34.0\\\", \\\"azureml-sdk\\\": \\\"1.34.0\\\", \\\"azureml-samples\\\": \\\"0+unknown\\\", \\\"azureml-responsibleai\\\": \\\"1.34.0\\\", \\\"azureml-pipeline\\\": \\\"1.34.0\\\", \\\"azureml-pipeline-steps\\\": \\\"1.34.0\\\", \\\"azureml-pipeline-core\\\": \\\"1.34.0\\\", \\\"azureml-opendatasets\\\": \\\"1.34.0\\\", \\\"azureml-mlflow\\\": \\\"1.34.0\\\", \\\"azureml-interpret\\\": \\\"1.34.0\\\", \\\"azureml-inference-server-http\\\": \\\"0.3.1\\\", \\\"azureml-explain-model\\\": \\\"1.34.0\\\", \\\"azureml-defaults\\\": \\\"1.34.0\\\", \\\"azureml-dataset-runtime\\\": \\\"1.34.0\\\", \\\"azureml-dataprep\\\": \\\"2.22.2\\\", \\\"azureml-dataprep-rslex\\\": \\\"1.20.1\\\", \\\"azureml-dataprep-native\\\": \\\"38.0.0\\\", \\\"azureml-datadrift\\\": \\\"1.34.0\\\", \\\"azureml-core\\\": \\\"1.34.0\\\", \\\"azureml-contrib-services\\\": \\\"1.34.0\\\", \\\"azureml-contrib-server\\\": \\\"1.34.0\\\", \\\"azureml-contrib-reinforcementlearning\\\": \\\"1.34.0\\\", \\\"azureml-contrib-pipeline-steps\\\": \\\"1.34.0\\\", \\\"azureml-contrib-notebook\\\": \\\"1.34.0\\\", \\\"azureml-contrib-fairness\\\": \\\"1.34.0\\\", \\\"azureml-contrib-dataset\\\": \\\"1.34.0\\\", \\\"azureml-contrib-automl-pipeline-steps\\\": \\\"1.34.0\\\", \\\"azureml-cli-common\\\": \\\"1.34.0\\\", \\\"azureml-automl-runtime\\\": \\\"1.34.0\\\", \\\"azureml-automl-dnn-nlp\\\": \\\"1.34.0\\\", \\\"azureml-automl-core\\\": \\\"1.34.0\\\", \\\"azureml-accel-models\\\": \\\"1.34.0\\\"}\", \"_aml_system_scenario_identification\": \"Remote.Parent\", \"ClientType\": \"SDK\", \"environment_cpu_name\": \"AzureML-AutoML\", \"environment_cpu_label\": \"prod\", \"environment_gpu_name\": \"AzureML-AutoML-GPU\", \"environment_gpu_label\": \"prod\", \"root_attribution\": \"automl\", \"attribution\": \"AutoML\", \"Orchestrator\": \"AutoML\", \"CancelUri\": \"https://southcentralus.api.azureml.ms/jasmine/v1.0/subscriptions/9a7511b8-150f-4a58-8528-3e7d50216c31/resourceGroups/aml-quickstarts-162292/providers/Microsoft.MachineLearningServices/workspaces/quick-starts-ws-162292/experimentids/d5e7239a-4e36-4df4-9dad-3d612f6ab0ee/cancel/AutoML_85bbf589-3fd5-4fb0-987e-c1d7e4e7134d\", \"ClientSdkVersion\": \"1.34.1\", \"snapshotId\": \"00000000-0000-0000-0000-000000000000\", \"SetupRunId\": \"AutoML_85bbf589-3fd5-4fb0-987e-c1d7e4e7134d_setup\", \"SetupRunContainerId\": \"dcid.AutoML_85bbf589-3fd5-4fb0-987e-c1d7e4e7134d_setup\", \"FeaturizationRunJsonPath\": \"featurizer_container.json\", \"FeaturizationRunId\": \"AutoML_85bbf589-3fd5-4fb0-987e-c1d7e4e7134d_featurize\", \"ProblemInfoJsonString\": \"{\\\"dataset_num_categorical\\\": 0, \\\"is_sparse\\\": false, \\\"subsampling\\\": false, \\\"has_extra_col\\\": true, \\\"dataset_classes\\\": 2, \\\"dataset_features\\\": 11, \\\"dataset_samples\\\": 3918, \\\"single_frequency_class_detected\\\": false}\", \"ModelExplainRunId\": \"AutoML_85bbf589-3fd5-4fb0-987e-c1d7e4e7134d_ModelExplain\"}, \"tags\": {\"model_explain_run\": \"best_run\", \"_aml_system_azureml.automlComponent\": \"AutoML\", \"pipeline_id\": \"\", \"score\": \"\", \"predicted_cost\": \"\", \"fit_time\": \"\", \"training_percent\": \"\", \"iteration\": \"\", \"run_preprocessor\": \"\", \"run_algorithm\": \"\", \"automl_best_child_run_id\": \"AutoML_85bbf589-3fd5-4fb0-987e-c1d7e4e7134d_18\", \"model_explain_best_run_child_id\": \"AutoML_85bbf589-3fd5-4fb0-987e-c1d7e4e7134d_18\"}, \"end_time_utc\": \"2021-10-28T14:24:45.17487Z\", \"status\": \"Completed\", \"log_files\": {}, \"log_groups\": [], \"run_duration\": \"0:11:03\", \"run_number\": \"1\", \"run_queued_details\": {\"status\": \"Completed\", \"details\": null}}, \"child_runs\": [{\"run_id\": \"AutoML_85bbf589-3fd5-4fb0-987e-c1d7e4e7134d_setup\", \"run_number\": 2, \"metric\": null, \"status\": \"Completed\", \"run_type\": \"azureml.scriptrun\", \"training_percent\": null, \"start_time\": \"2021-10-28T14:13:55.842018Z\", \"end_time\": \"2021-10-28T14:15:12.66663Z\", \"created_time\": \"2021-10-28T14:13:55.842018Z\", \"created_time_dt\": \"2021-10-28T14:13:55.842018Z\", \"duration\": \"0:01:16\", \"iteration\": null, \"goal\": null, \"run_name\": \"Completed\", \"run_properties\": null}, {\"run_id\": \"AutoML_85bbf589-3fd5-4fb0-987e-c1d7e4e7134d_featurize\", \"run_number\": 3, \"metric\": null, \"status\": \"Completed\", \"run_type\": \"automl.featurization\", \"training_percent\": null, \"start_time\": \"2021-10-28T14:15:13.532698Z\", \"end_time\": \"2021-10-28T14:15:49.567285Z\", \"created_time\": \"2021-10-28T14:15:13.038202Z\", \"created_time_dt\": \"2021-10-28T14:15:13.038202Z\", \"duration\": \"0:00:36\", \"iteration\": null, \"goal\": null, \"run_name\": \"Completed\", \"run_properties\": null}, {\"run_id\": \"AutoML_85bbf589-3fd5-4fb0-987e-c1d7e4e7134d_0\", \"run_number\": 5, \"metric\": null, \"status\": \"Completed\", \"run_type\": \"azureml.scriptrun\", \"training_percent\": \"100\", \"start_time\": \"2021-10-28T14:15:50.559191Z\", \"end_time\": \"2021-10-28T14:18:48.179228Z\", \"created_time\": \"2021-10-28T14:15:50.559191Z\", \"created_time_dt\": \"2021-10-28T14:15:50.559191Z\", \"duration\": \"0:02:57\", \"iteration\": \"0\", \"goal\": \"AUC_weighted_max\", \"run_name\": \"MaxAbsScaler, LightGBM\", \"run_properties\": \"copy=True\", \"primary_metric\": 0.87692543, \"best_metric\": 0.87692543}, {\"run_id\": \"AutoML_85bbf589-3fd5-4fb0-987e-c1d7e4e7134d_1\", \"run_number\": 6, \"metric\": null, \"status\": \"Completed\", \"run_type\": \"azureml.scriptrun\", \"training_percent\": \"100\", \"start_time\": \"2021-10-28T14:17:54.667557Z\", \"end_time\": \"2021-10-28T14:18:14.123011Z\", \"created_time\": \"2021-10-28T14:15:50.576193Z\", \"created_time_dt\": \"2021-10-28T14:15:50.576193Z\", \"duration\": \"0:02:23\", \"iteration\": \"1\", \"goal\": \"AUC_weighted_max\", \"run_name\": \"MaxAbsScaler, XGBoostClassifier\", \"run_properties\": \"copy=True\", \"primary_metric\": 0.85167087, \"best_metric\": 0.87692543}, {\"run_id\": \"AutoML_85bbf589-3fd5-4fb0-987e-c1d7e4e7134d_4\", \"run_number\": 7, \"metric\": null, \"status\": \"Completed\", \"run_type\": \"azureml.scriptrun\", \"training_percent\": \"100\", \"start_time\": \"2021-10-28T14:15:50.584961Z\", \"end_time\": \"2021-10-28T14:17:00.686101Z\", \"created_time\": \"2021-10-28T14:15:50.584961Z\", \"created_time_dt\": \"2021-10-28T14:15:50.584961Z\", \"duration\": \"0:01:10\", \"iteration\": \"4\", \"goal\": \"AUC_weighted_max\", \"run_name\": \"StandardScalerWrapper, LightGBM\", \"run_properties\": \"\\n    copy=True,\\n    with_mean=False,\\n    with_std=True\\n\", \"primary_metric\": 0.8266935, \"best_metric\": 0.87692543}, {\"run_id\": \"AutoML_85bbf589-3fd5-4fb0-987e-c1d7e4e7134d_2\", \"run_number\": 8, \"metric\": null, \"status\": \"Completed\", \"run_type\": \"azureml.scriptrun\", \"training_percent\": \"100\", \"start_time\": \"2021-10-28T14:15:50.591242Z\", \"end_time\": \"2021-10-28T14:16:22.860627Z\", \"created_time\": \"2021-10-28T14:15:50.591242Z\", \"created_time_dt\": \"2021-10-28T14:15:50.591242Z\", \"duration\": \"0:00:32\", \"iteration\": \"2\", \"goal\": \"AUC_weighted_max\", \"run_name\": \"MaxAbsScaler, ExtremeRandomTrees\", \"run_properties\": \"copy=True\", \"primary_metric\": 0.79961755, \"best_metric\": 0.87692543}, {\"run_id\": \"AutoML_85bbf589-3fd5-4fb0-987e-c1d7e4e7134d_3\", \"run_number\": 9, \"metric\": null, \"status\": \"Completed\", \"run_type\": \"azureml.scriptrun\", \"training_percent\": \"100\", \"start_time\": \"2021-10-28T14:15:50.603574Z\", \"end_time\": \"2021-10-28T14:17:35.510893Z\", \"created_time\": \"2021-10-28T14:15:50.603574Z\", \"created_time_dt\": \"2021-10-28T14:15:50.603574Z\", \"duration\": \"0:01:44\", \"iteration\": \"3\", \"goal\": \"AUC_weighted_max\", \"run_name\": \"MaxAbsScaler, RandomForest\", \"run_properties\": \"copy=True\", \"primary_metric\": 0.83392047, \"best_metric\": 0.87692543}, {\"run_id\": \"AutoML_85bbf589-3fd5-4fb0-987e-c1d7e4e7134d_5\", \"run_number\": 10, \"metric\": null, \"status\": \"Completed\", \"run_type\": \"azureml.scriptrun\", \"training_percent\": \"100\", \"start_time\": \"2021-10-28T14:19:20.26649Z\", \"end_time\": \"2021-10-28T14:20:08.817319Z\", \"created_time\": \"2021-10-28T14:16:26.026197Z\", \"created_time_dt\": \"2021-10-28T14:16:26.026197Z\", \"duration\": \"0:03:42\", \"iteration\": \"5\", \"goal\": \"AUC_weighted_max\", \"run_name\": \"StandardScalerWrapper, KNN\", \"run_properties\": \"\\n    copy=True,\\n    with_mean=True,\\n    with_std=False\\n\", \"primary_metric\": 0.88931987, \"best_metric\": 0.88931987}, {\"run_id\": \"AutoML_85bbf589-3fd5-4fb0-987e-c1d7e4e7134d_6\", \"run_number\": 11, \"metric\": null, \"status\": \"Completed\", \"run_type\": \"azureml.scriptrun\", \"training_percent\": \"100\", \"start_time\": \"2021-10-28T14:19:55.870679Z\", \"end_time\": \"2021-10-28T14:20:03.623397Z\", \"created_time\": \"2021-10-28T14:17:03.327692Z\", \"created_time_dt\": \"2021-10-28T14:17:03.327692Z\", \"duration\": \"0:03:00\", \"iteration\": \"6\", \"goal\": \"AUC_weighted_max\", \"run_name\": \"SparseNormalizer, XGBoostClassifier\", \"run_properties\": \"copy=True, norm='max'\", \"primary_metric\": 0.84355135, \"best_metric\": 0.88931987}, {\"run_id\": \"AutoML_85bbf589-3fd5-4fb0-987e-c1d7e4e7134d_7\", \"run_number\": 12, \"metric\": null, \"status\": \"Completed\", \"run_type\": \"azureml.scriptrun\", \"training_percent\": \"100\", \"start_time\": \"2021-10-28T14:19:55.805135Z\", \"end_time\": \"2021-10-28T14:20:20.592518Z\", \"created_time\": \"2021-10-28T14:17:38.320002Z\", \"created_time_dt\": \"2021-10-28T14:17:38.320002Z\", \"duration\": \"0:02:42\", \"iteration\": \"7\", \"goal\": \"AUC_weighted_max\", \"run_name\": \"SparseNormalizer, RandomForest\", \"run_properties\": \"copy=True, norm='l2'\", \"primary_metric\": 0.85645178, \"best_metric\": 0.88931987}, {\"run_id\": \"AutoML_85bbf589-3fd5-4fb0-987e-c1d7e4e7134d_8\", \"run_number\": 13, \"metric\": null, \"status\": \"Completed\", \"run_type\": \"azureml.scriptrun\", \"training_percent\": \"100\", \"start_time\": \"2021-10-28T14:18:16.976041Z\", \"end_time\": \"2021-10-28T14:19:21.840888Z\", \"created_time\": \"2021-10-28T14:18:16.976041Z\", \"created_time_dt\": \"2021-10-28T14:18:16.976041Z\", \"duration\": \"0:01:04\", \"iteration\": \"8\", \"goal\": \"AUC_weighted_max\", \"run_name\": \"RobustScaler, KNN\", \"run_properties\": \"copy=True, quantile_range=[25, 75], with_centering=False,\\n             with_scaling=True\", \"primary_metric\": 0.89033319, \"best_metric\": 0.89033319}, {\"run_id\": \"AutoML_85bbf589-3fd5-4fb0-987e-c1d7e4e7134d_9\", \"run_number\": 14, \"metric\": null, \"status\": \"Completed\", \"run_type\": \"azureml.scriptrun\", \"training_percent\": \"100\", \"start_time\": \"2021-10-28T14:18:51.147589Z\", \"end_time\": \"2021-10-28T14:20:25.234719Z\", \"created_time\": \"2021-10-28T14:18:51.147589Z\", \"created_time_dt\": \"2021-10-28T14:18:51.147589Z\", \"duration\": \"0:01:34\", \"iteration\": \"9\", \"goal\": \"AUC_weighted_max\", \"run_name\": \"MinMaxScaler, RandomForest\", \"run_properties\": \"copy=True, feature_range=(0, 1\", \"primary_metric\": 0.80945441, \"best_metric\": 0.89033319}, {\"run_id\": \"AutoML_85bbf589-3fd5-4fb0-987e-c1d7e4e7134d_10\", \"run_number\": 15, \"metric\": null, \"status\": \"Completed\", \"run_type\": \"azureml.scriptrun\", \"training_percent\": \"100\", \"start_time\": \"2021-10-28T14:19:24.657601Z\", \"end_time\": \"2021-10-28T14:20:40.156255Z\", \"created_time\": \"2021-10-28T14:19:24.657601Z\", \"created_time_dt\": \"2021-10-28T14:19:24.657601Z\", \"duration\": \"0:01:15\", \"iteration\": \"10\", \"goal\": \"AUC_weighted_max\", \"run_name\": \"StandardScalerWrapper, LogisticRegression\", \"run_properties\": \"\\n    copy=True,\\n    with_mean=True,\\n    with_std=True\\n\", \"primary_metric\": 0.7908574, \"best_metric\": 0.89033319}, {\"run_id\": \"AutoML_85bbf589-3fd5-4fb0-987e-c1d7e4e7134d_11\", \"run_number\": 16, \"metric\": null, \"status\": \"Completed\", \"run_type\": \"azureml.scriptrun\", \"training_percent\": \"100\", \"start_time\": \"2021-10-28T14:20:06.625388Z\", \"end_time\": \"2021-10-28T14:21:23.999437Z\", \"created_time\": \"2021-10-28T14:20:06.625388Z\", \"created_time_dt\": \"2021-10-28T14:20:06.625388Z\", \"duration\": \"0:01:17\", \"iteration\": \"11\", \"goal\": \"AUC_weighted_max\", \"run_name\": \"StandardScalerWrapper, SVM\", \"run_properties\": \"\\n    copy=True,\\n    with_mean=True,\\n    with_std=True\\n\", \"primary_metric\": 0.81354826, \"best_metric\": 0.89033319}, {\"run_id\": \"AutoML_85bbf589-3fd5-4fb0-987e-c1d7e4e7134d_12\", \"run_number\": 17, \"metric\": null, \"status\": \"Completed\", \"run_type\": \"azureml.scriptrun\", \"training_percent\": \"100\", \"start_time\": \"2021-10-28T14:20:11.553579Z\", \"end_time\": \"2021-10-28T14:21:51.902261Z\", \"created_time\": \"2021-10-28T14:20:11.553579Z\", \"created_time_dt\": \"2021-10-28T14:20:11.553579Z\", \"duration\": \"0:01:40\", \"iteration\": \"12\", \"goal\": \"AUC_weighted_max\", \"run_name\": \"StandardScalerWrapper, XGBoostClassifier\", \"run_properties\": \"\\n    copy=True,\\n    with_mean=False,\\n    with_std=False\\n\", \"primary_metric\": 0.8549237, \"best_metric\": 0.89033319}, {\"run_id\": \"AutoML_85bbf589-3fd5-4fb0-987e-c1d7e4e7134d_13\", \"run_number\": 18, \"metric\": null, \"status\": \"Completed\", \"run_type\": \"azureml.scriptrun\", \"training_percent\": \"100\", \"start_time\": \"2021-10-28T14:20:23.524688Z\", \"end_time\": \"2021-10-28T14:22:29.606554Z\", \"created_time\": \"2021-10-28T14:20:23.524688Z\", \"created_time_dt\": \"2021-10-28T14:20:23.524688Z\", \"duration\": \"0:02:06\", \"iteration\": \"13\", \"goal\": \"AUC_weighted_max\", \"run_name\": \"SparseNormalizer, KNN\", \"run_properties\": \"copy=True, norm='max'\", \"primary_metric\": 0.87578399, \"best_metric\": 0.89033319}, {\"run_id\": \"AutoML_85bbf589-3fd5-4fb0-987e-c1d7e4e7134d_14\", \"run_number\": 19, \"metric\": null, \"status\": \"Completed\", \"run_type\": \"azureml.scriptrun\", \"training_percent\": \"100\", \"start_time\": \"2021-10-28T14:20:27.923914Z\", \"end_time\": \"2021-10-28T14:22:30.712403Z\", \"created_time\": \"2021-10-28T14:20:27.923914Z\", \"created_time_dt\": \"2021-10-28T14:20:27.923914Z\", \"duration\": \"0:02:02\", \"iteration\": \"14\", \"goal\": \"AUC_weighted_max\", \"run_name\": \"RobustScaler, ExtremeRandomTrees\", \"run_properties\": \"copy=True, quantile_range=[10, 90], with_centering=True,\\n             with_scaling=False\", \"primary_metric\": 0.79050486, \"best_metric\": 0.89033319}, {\"run_id\": \"AutoML_85bbf589-3fd5-4fb0-987e-c1d7e4e7134d_15\", \"run_number\": 20, \"metric\": null, \"status\": \"Completed\", \"run_type\": \"azureml.scriptrun\", \"training_percent\": \"100\", \"start_time\": \"2021-10-28T14:20:43.178153Z\", \"end_time\": \"2021-10-28T14:22:28.90729Z\", \"created_time\": \"2021-10-28T14:20:43.178153Z\", \"created_time_dt\": \"2021-10-28T14:20:43.178153Z\", \"duration\": \"0:01:45\", \"iteration\": \"15\", \"goal\": \"AUC_weighted_max\", \"run_name\": \"SparseNormalizer, XGBoostClassifier\", \"run_properties\": \"copy=True, norm='max'\", \"primary_metric\": 0.85266015, \"best_metric\": 0.89033319}, {\"run_id\": \"AutoML_85bbf589-3fd5-4fb0-987e-c1d7e4e7134d_16\", \"run_number\": 21, \"metric\": null, \"status\": \"Completed\", \"run_type\": \"azureml.scriptrun\", \"training_percent\": \"100\", \"start_time\": \"2021-10-28T14:21:27.044998Z\", \"end_time\": \"2021-10-28T14:22:35.113593Z\", \"created_time\": \"2021-10-28T14:21:27.044998Z\", \"created_time_dt\": \"2021-10-28T14:21:27.044998Z\", \"duration\": \"0:01:08\", \"iteration\": \"16\", \"goal\": \"AUC_weighted_max\", \"run_name\": \"MinMaxScaler, ExtremeRandomTrees\", \"run_properties\": \"copy=True, feature_range=(0, 1\", \"primary_metric\": 0.81606064, \"best_metric\": 0.89033319}, {\"run_id\": \"AutoML_85bbf589-3fd5-4fb0-987e-c1d7e4e7134d_17\", \"run_number\": 22, \"metric\": null, \"status\": \"Completed\", \"run_type\": \"azureml.scriptrun\", \"training_percent\": \"100\", \"start_time\": \"2021-10-28T14:21:54.885457Z\", \"end_time\": \"2021-10-28T14:23:02.929841Z\", \"created_time\": \"2021-10-28T14:21:54.885457Z\", \"created_time_dt\": \"2021-10-28T14:21:54.885457Z\", \"duration\": \"0:01:08\", \"iteration\": \"17\", \"goal\": \"AUC_weighted_max\", \"run_name\": \"MinMaxScaler, ExtremeRandomTrees\", \"run_properties\": \"copy=True, feature_range=(0, 1\", \"primary_metric\": 0.83277358, \"best_metric\": 0.89033319}, {\"run_id\": \"AutoML_85bbf589-3fd5-4fb0-987e-c1d7e4e7134d_18\", \"run_number\": 23, \"metric\": null, \"status\": \"Completed\", \"run_type\": \"azureml.scriptrun\", \"training_percent\": \"100\", \"start_time\": \"2021-10-28T14:23:03.903146Z\", \"end_time\": \"2021-10-28T14:24:03.782455Z\", \"created_time\": \"2021-10-28T14:23:03.903146Z\", \"created_time_dt\": \"2021-10-28T14:23:03.903146Z\", \"duration\": \"0:00:59\", \"iteration\": \"18\", \"goal\": \"AUC_weighted_max\", \"run_name\": \"VotingEnsemble\", \"run_properties\": \"\\n    estimators=[('8', Pipeline(\\n        memory=None,\\n        steps=[('robustscaler', RobustScaler(\\n            copy=True,\\n            quantile_range=[25, 75],\\n            with_centering=False,\\n            with_scaling=True\\n        \", \"primary_metric\": 0.89921031, \"best_metric\": 0.89921031}, {\"run_id\": \"AutoML_85bbf589-3fd5-4fb0-987e-c1d7e4e7134d_19\", \"run_number\": 24, \"metric\": null, \"status\": \"Completed\", \"run_type\": \"azureml.scriptrun\", \"training_percent\": \"100\", \"start_time\": \"2021-10-28T14:23:03.932511Z\", \"end_time\": \"2021-10-28T14:24:43.52867Z\", \"created_time\": \"2021-10-28T14:23:03.932511Z\", \"created_time_dt\": \"2021-10-28T14:23:03.932511Z\", \"duration\": \"0:01:39\", \"iteration\": \"19\", \"goal\": \"AUC_weighted_max\", \"run_name\": \"StackEnsemble\", \"run_properties\": \"\\n    base_learners=[('8', Pipeline(\\n        memory=None,\\n        steps=[('robustscaler', RobustScaler(\\n            copy=True,\\n            quantile_range=[25, 75],\\n            with_centering=False,\\n            with_scaling=True\\n        \", \"primary_metric\": 0.89842903, \"best_metric\": 0.89921031}], \"children_metrics\": {\"categories\": [0], \"series\": {\"weighted_accuracy\": [{\"categories\": [\"0\", \"1\", \"2\", \"3\", \"4\", \"5\", \"6\", \"7\", \"8\", \"9\", \"10\", \"11\", \"12\", \"13\", \"14\", \"15\", \"16\", \"17\", \"18\", \"19\"], \"mode\": \"markers\", \"name\": \"weighted_accuracy\", \"stepped\": false, \"type\": \"scatter\", \"data\": [0.9107558521789535, 0.9050754981672311, 0.9213576786565011, 0.91373565118999, 0.9193268543762371, 0.9262318228498941, 0.9099988886393339, 0.7734623962871564, 0.9215337225567027, 0.9133310808784832, 0.8998476840899593, 0.9130748616003496, 0.9184809468281939, 0.9052714916753043, 0.7070533858015501, 0.9159511177467197, 0.9152486180738583, 0.7328297799208827, 0.9270213984310297, 0.9321636781297249]}, {\"categories\": [\"0\", \"1\", \"2\", \"3\", \"4\", \"5\", \"6\", \"7\", \"8\", \"9\", \"10\", \"11\", \"12\", \"13\", \"14\", \"15\", \"16\", \"17\", \"18\", \"19\"], \"mode\": \"lines\", \"name\": \"weighted_accuracy_max\", \"stepped\": true, \"type\": \"scatter\", \"data\": [0.9107558521789535, 0.9107558521789535, 0.9213576786565011, 0.9213576786565011, 0.9213576786565011, 0.9262318228498941, 0.9262318228498941, 0.9262318228498941, 0.9262318228498941, 0.9262318228498941, 0.9262318228498941, 0.9262318228498941, 0.9262318228498941, 0.9262318228498941, 0.9262318228498941, 0.9262318228498941, 0.9262318228498941, 0.9262318228498941, 0.9270213984310297, 0.9321636781297249]}], \"balanced_accuracy\": [{\"categories\": [\"0\", \"1\", \"2\", \"3\", \"4\", \"5\", \"6\", \"7\", \"8\", \"9\", \"10\", \"11\", \"12\", \"13\", \"14\", \"15\", \"16\", \"17\", \"18\", \"19\"], \"mode\": \"markers\", \"name\": \"balanced_accuracy\", \"stepped\": false, \"type\": \"scatter\", \"data\": [0.7449742343430391, 0.6723769406142065, 0.5572581838043376, 0.6070421445002742, 0.5711771557713514, 0.7285307635480117, 0.6742264684176078, 0.7619583359521725, 0.730942160094088, 0.5808664233394527, 0.609493534012814, 0.5744126901689869, 0.6688262957861321, 0.7509189069959734, 0.7120890979850142, 0.692496122129732, 0.5984082162797326, 0.7461161384071228, 0.7369832782165603, 0.5756592062010698]}, {\"categories\": [\"0\", \"1\", \"2\", \"3\", \"4\", \"5\", \"6\", \"7\", \"8\", \"9\", \"10\", \"11\", \"12\", \"13\", \"14\", \"15\", \"16\", \"17\", \"18\", \"19\"], \"mode\": \"lines\", \"name\": \"balanced_accuracy_max\", \"stepped\": true, \"type\": \"scatter\", \"data\": [0.7449742343430391, 0.7449742343430391, 0.7449742343430391, 0.7449742343430391, 0.7449742343430391, 0.7449742343430391, 0.7449742343430391, 0.7619583359521725, 0.7619583359521725, 0.7619583359521725, 0.7619583359521725, 0.7619583359521725, 0.7619583359521725, 0.7619583359521725, 0.7619583359521725, 0.7619583359521725, 0.7619583359521725, 0.7619583359521725, 0.7619583359521725, 0.7619583359521725]}], \"log_loss\": [{\"categories\": [\"0\", \"1\", \"2\", \"3\", \"4\", \"5\", \"6\", \"7\", \"8\", \"9\", \"10\", \"11\", \"12\", \"13\", \"14\", \"15\", \"16\", \"17\", \"18\", \"19\"], \"mode\": \"markers\", \"name\": \"log_loss\", \"stepped\": false, \"type\": \"scatter\", \"data\": [0.3530066891637076, 0.37185054386143573, 0.42782391681253346, 0.39297811874988425, 0.407792398431353, 0.32097915960587486, 0.4515081266774317, 0.4541315282872085, 0.3736636353803122, 0.41354316781191214, 0.42295620794364436, 0.4187408483999869, 0.4450729058934592, 0.6741419735589625, 0.5716955561691651, 0.446013535841256, 0.41129538585196196, 0.5022657651242909, 0.331565735793922, 0.4480637794577323]}, {\"categories\": [\"0\", \"1\", \"2\", \"3\", \"4\", \"5\", \"6\", \"7\", \"8\", \"9\", \"10\", \"11\", \"12\", \"13\", \"14\", \"15\", \"16\", \"17\", \"18\", \"19\"], \"mode\": \"lines\", \"name\": \"log_loss_min\", \"stepped\": true, \"type\": \"scatter\", \"data\": [0.3530066891637076, 0.3530066891637076, 0.3530066891637076, 0.3530066891637076, 0.3530066891637076, 0.32097915960587486, 0.32097915960587486, 0.32097915960587486, 0.32097915960587486, 0.32097915960587486, 0.32097915960587486, 0.32097915960587486, 0.32097915960587486, 0.32097915960587486, 0.32097915960587486, 0.32097915960587486, 0.32097915960587486, 0.32097915960587486, 0.32097915960587486, 0.32097915960587486]}], \"f1_score_macro\": [{\"categories\": [\"0\", \"1\", \"2\", \"3\", \"4\", \"5\", \"6\", \"7\", \"8\", \"9\", \"10\", \"11\", \"12\", \"13\", \"14\", \"15\", \"16\", \"17\", \"18\", \"19\"], \"mode\": \"markers\", \"name\": \"f1_score_macro\", \"stepped\": false, \"type\": \"scatter\", \"data\": [0.7648298198795566, 0.6968495521721826, 0.5530964087402958, 0.6252545618451987, 0.5757156868562433, 0.7590444060247608, 0.7003539274573961, 0.7109933453739531, 0.7587815851610499, 0.5900688181911976, 0.6267299668041769, 0.5798920344336317, 0.6978172803093171, 0.7668230630392058, 0.6525635306011836, 0.7200865730521752, 0.6141449072593373, 0.6835270631347493, 0.7669650795567259, 0.547717535612381]}, {\"categories\": [\"0\", \"1\", \"2\", \"3\", \"4\", \"5\", \"6\", \"7\", \"8\", \"9\", \"10\", \"11\", \"12\", \"13\", \"14\", \"15\", \"16\", \"17\", \"18\", \"19\"], \"mode\": \"lines\", \"name\": \"f1_score_macro_max\", \"stepped\": true, \"type\": \"scatter\", \"data\": [0.7648298198795566, 0.7648298198795566, 0.7648298198795566, 0.7648298198795566, 0.7648298198795566, 0.7648298198795566, 0.7648298198795566, 0.7648298198795566, 0.7648298198795566, 0.7648298198795566, 0.7648298198795566, 0.7648298198795566, 0.7648298198795566, 0.7668230630392058, 0.7668230630392058, 0.7668230630392058, 0.7668230630392058, 0.7668230630392058, 0.7669650795567259, 0.7669650795567259]}], \"precision_score_micro\": [{\"categories\": [\"0\", \"1\", \"2\", \"3\", \"4\", \"5\", \"6\", \"7\", \"8\", \"9\", \"10\", \"11\", \"12\", \"13\", \"14\", \"15\", \"16\", \"17\", \"18\", \"19\"], \"mode\": \"markers\", \"name\": \"precision_score_micro\", \"stepped\": false, \"type\": \"scatter\", \"data\": [0.8550280755487494, 0.8269525267993875, 0.7991322103113833, 0.8108728943338438, 0.8024502297090352, 0.8598774885145483, 0.830781010719755, 0.7695252679938744, 0.8575803981623277, 0.8016845329249618, 0.8024502297090352, 0.7993874425727411, 0.8346094946401225, 0.8534966819806025, 0.7087799897907096, 0.8407350689127105, 0.808831036242981, 0.7373660030627871, 0.8631955079122001, 0.8134252169474222]}, {\"categories\": [\"0\", \"1\", \"2\", \"3\", \"4\", \"5\", \"6\", \"7\", \"8\", \"9\", \"10\", \"11\", \"12\", \"13\", \"14\", \"15\", \"16\", \"17\", \"18\", \"19\"], \"mode\": \"lines\", \"name\": \"precision_score_micro_max\", \"stepped\": true, \"type\": \"scatter\", \"data\": [0.8550280755487494, 0.8550280755487494, 0.8550280755487494, 0.8550280755487494, 0.8550280755487494, 0.8598774885145483, 0.8598774885145483, 0.8598774885145483, 0.8598774885145483, 0.8598774885145483, 0.8598774885145483, 0.8598774885145483, 0.8598774885145483, 0.8598774885145483, 0.8598774885145483, 0.8598774885145483, 0.8598774885145483, 0.8598774885145483, 0.8631955079122001, 0.8631955079122001]}], \"average_precision_score_weighted\": [{\"categories\": [\"0\", \"1\", \"2\", \"3\", \"4\", \"5\", \"6\", \"7\", \"8\", \"9\", \"10\", \"11\", \"12\", \"13\", \"14\", \"15\", \"16\", \"17\", \"18\", \"19\"], \"mode\": \"markers\", \"name\": \"average_precision_score_weighted\", \"stepped\": false, \"type\": \"scatter\", \"data\": [0.9021953075240234, 0.8796274100464506, 0.8443024803715673, 0.8643520784499635, 0.8608215466329036, 0.9171621932944457, 0.8746183532266646, 0.8813044100344628, 0.9161568797747338, 0.8514765476678053, 0.8384521230317615, 0.8466936407579313, 0.8856982506336414, 0.9024837740833268, 0.8402959313051289, 0.8824483035715897, 0.8556794911161107, 0.8654824535037567, 0.9216603883031245, 0.9210009355606855]}, {\"categories\": [\"0\", \"1\", \"2\", \"3\", \"4\", \"5\", \"6\", \"7\", \"8\", \"9\", \"10\", \"11\", \"12\", \"13\", \"14\", \"15\", \"16\", \"17\", \"18\", \"19\"], \"mode\": \"lines\", \"name\": \"average_precision_score_weighted_max\", \"stepped\": true, \"type\": \"scatter\", \"data\": [0.9021953075240234, 0.9021953075240234, 0.9021953075240234, 0.9021953075240234, 0.9021953075240234, 0.9171621932944457, 0.9171621932944457, 0.9171621932944457, 0.9171621932944457, 0.9171621932944457, 0.9171621932944457, 0.9171621932944457, 0.9171621932944457, 0.9171621932944457, 0.9171621932944457, 0.9171621932944457, 0.9171621932944457, 0.9171621932944457, 0.9216603883031245, 0.9216603883031245]}], \"recall_score_macro\": [{\"categories\": [\"0\", \"1\", \"2\", \"3\", \"4\", \"5\", \"6\", \"7\", \"8\", \"9\", \"10\", \"11\", \"12\", \"13\", \"14\", \"15\", \"16\", \"17\", \"18\", \"19\"], \"mode\": \"markers\", \"name\": \"recall_score_macro\", \"stepped\": false, \"type\": \"scatter\", \"data\": [0.7449742343430391, 0.6723769406142065, 0.5572581838043376, 0.6070421445002742, 0.5711771557713514, 0.7285307635480117, 0.6742264684176078, 0.7619583359521725, 0.730942160094088, 0.5808664233394527, 0.609493534012814, 0.5744126901689869, 0.6688262957861321, 0.7509189069959734, 0.7120890979850142, 0.692496122129732, 0.5984082162797326, 0.7461161384071228, 0.7369832782165603, 0.5756592062010698]}, {\"categories\": [\"0\", \"1\", \"2\", \"3\", \"4\", \"5\", \"6\", \"7\", \"8\", \"9\", \"10\", \"11\", \"12\", \"13\", \"14\", \"15\", \"16\", \"17\", \"18\", \"19\"], \"mode\": \"lines\", \"name\": \"recall_score_macro_max\", \"stepped\": true, \"type\": \"scatter\", \"data\": [0.7449742343430391, 0.7449742343430391, 0.7449742343430391, 0.7449742343430391, 0.7449742343430391, 0.7449742343430391, 0.7449742343430391, 0.7619583359521725, 0.7619583359521725, 0.7619583359521725, 0.7619583359521725, 0.7619583359521725, 0.7619583359521725, 0.7619583359521725, 0.7619583359521725, 0.7619583359521725, 0.7619583359521725, 0.7619583359521725, 0.7619583359521725, 0.7619583359521725]}], \"f1_score_micro\": [{\"categories\": [\"0\", \"1\", \"2\", \"3\", \"4\", \"5\", \"6\", \"7\", \"8\", \"9\", \"10\", \"11\", \"12\", \"13\", \"14\", \"15\", \"16\", \"17\", \"18\", \"19\"], \"mode\": \"markers\", \"name\": \"f1_score_micro\", \"stepped\": false, \"type\": \"scatter\", \"data\": [0.8550280755487494, 0.8269525267993872, 0.7991322103113833, 0.8108728943338438, 0.8024502297090352, 0.8598774885145483, 0.830781010719755, 0.7695252679938743, 0.8575803981623277, 0.8016845329249618, 0.8024502297090352, 0.7993874425727411, 0.8346094946401225, 0.8534966819806025, 0.7087799897907096, 0.8407350689127105, 0.808831036242981, 0.7373660030627871, 0.8631955079122001, 0.8134252169474222]}, {\"categories\": [\"0\", \"1\", \"2\", \"3\", \"4\", \"5\", \"6\", \"7\", \"8\", \"9\", \"10\", \"11\", \"12\", \"13\", \"14\", \"15\", \"16\", \"17\", \"18\", \"19\"], \"mode\": \"lines\", \"name\": \"f1_score_micro_max\", \"stepped\": true, \"type\": \"scatter\", \"data\": [0.8550280755487494, 0.8550280755487494, 0.8550280755487494, 0.8550280755487494, 0.8550280755487494, 0.8598774885145483, 0.8598774885145483, 0.8598774885145483, 0.8598774885145483, 0.8598774885145483, 0.8598774885145483, 0.8598774885145483, 0.8598774885145483, 0.8598774885145483, 0.8598774885145483, 0.8598774885145483, 0.8598774885145483, 0.8598774885145483, 0.8631955079122001, 0.8631955079122001]}], \"AUC_micro\": [{\"categories\": [\"0\", \"1\", \"2\", \"3\", \"4\", \"5\", \"6\", \"7\", \"8\", \"9\", \"10\", \"11\", \"12\", \"13\", \"14\", \"15\", \"16\", \"17\", \"18\", \"19\"], \"mode\": \"markers\", \"name\": \"AUC_micro\", \"stepped\": false, \"type\": \"scatter\", \"data\": [0.9280647609845634, 0.9128039824049993, 0.8880405901376379, 0.9029679642471587, 0.898531691404262, 0.9380856564159451, 0.9096640002126284, 0.8697746764256852, 0.9379332206090085, 0.8923711350682874, 0.8874046592199821, 0.891798425924406, 0.9164008811571364, 0.9283129577471394, 0.7865642688905096, 0.9153838607221392, 0.8952013598837422, 0.8321492198022712, 0.9405027411084976, 0.9271745749581584]}, {\"categories\": [\"0\", \"1\", \"2\", \"3\", \"4\", \"5\", \"6\", \"7\", \"8\", \"9\", \"10\", \"11\", \"12\", \"13\", \"14\", \"15\", \"16\", \"17\", \"18\", \"19\"], \"mode\": \"lines\", \"name\": \"AUC_micro_max\", \"stepped\": true, \"type\": \"scatter\", \"data\": [0.9280647609845634, 0.9280647609845634, 0.9280647609845634, 0.9280647609845634, 0.9280647609845634, 0.9380856564159451, 0.9380856564159451, 0.9380856564159451, 0.9380856564159451, 0.9380856564159451, 0.9380856564159451, 0.9380856564159451, 0.9380856564159451, 0.9380856564159451, 0.9380856564159451, 0.9380856564159451, 0.9380856564159451, 0.9380856564159451, 0.9405027411084976, 0.9405027411084976]}], \"norm_macro_recall\": [{\"categories\": [\"0\", \"1\", \"2\", \"3\", \"4\", \"5\", \"6\", \"7\", \"8\", \"9\", \"10\", \"11\", \"12\", \"13\", \"14\", \"15\", \"16\", \"17\", \"18\", \"19\"], \"mode\": \"markers\", \"name\": \"norm_macro_recall\", \"stepped\": false, \"type\": \"scatter\", \"data\": [0.48994846868607805, 0.34475388122841316, 0.11451636760867519, 0.21408428900054818, 0.14235431154270292, 0.4570615270960236, 0.34845293683521544, 0.5239166719043451, 0.46188432018817593, 0.16173284667890533, 0.21898706802562815, 0.14882538033797363, 0.33765259157226396, 0.5018378139919468, 0.4241781959700286, 0.3849922442594638, 0.19681643255946524, 0.49223227681424536, 0.4739665564331205, 0.1513184124021397]}, {\"categories\": [\"0\", \"1\", \"2\", \"3\", \"4\", \"5\", \"6\", \"7\", \"8\", \"9\", \"10\", \"11\", \"12\", \"13\", \"14\", \"15\", \"16\", \"17\", \"18\", \"19\"], \"mode\": \"lines\", \"name\": \"norm_macro_recall_max\", \"stepped\": true, \"type\": \"scatter\", \"data\": [0.48994846868607805, 0.48994846868607805, 0.48994846868607805, 0.48994846868607805, 0.48994846868607805, 0.48994846868607805, 0.48994846868607805, 0.5239166719043451, 0.5239166719043451, 0.5239166719043451, 0.5239166719043451, 0.5239166719043451, 0.5239166719043451, 0.5239166719043451, 0.5239166719043451, 0.5239166719043451, 0.5239166719043451, 0.5239166719043451, 0.5239166719043451, 0.5239166719043451]}], \"recall_score_micro\": [{\"categories\": [\"0\", \"1\", \"2\", \"3\", \"4\", \"5\", \"6\", \"7\", \"8\", \"9\", \"10\", \"11\", \"12\", \"13\", \"14\", \"15\", \"16\", \"17\", \"18\", \"19\"], \"mode\": \"markers\", \"name\": \"recall_score_micro\", \"stepped\": false, \"type\": \"scatter\", \"data\": [0.8550280755487494, 0.8269525267993875, 0.7991322103113833, 0.8108728943338438, 0.8024502297090352, 0.8598774885145483, 0.830781010719755, 0.7695252679938744, 0.8575803981623277, 0.8016845329249618, 0.8024502297090352, 0.7993874425727411, 0.8346094946401225, 0.8534966819806025, 0.7087799897907096, 0.8407350689127105, 0.808831036242981, 0.7373660030627871, 0.8631955079122001, 0.8134252169474222]}, {\"categories\": [\"0\", \"1\", \"2\", \"3\", \"4\", \"5\", \"6\", \"7\", \"8\", \"9\", \"10\", \"11\", \"12\", \"13\", \"14\", \"15\", \"16\", \"17\", \"18\", \"19\"], \"mode\": \"lines\", \"name\": \"recall_score_micro_max\", \"stepped\": true, \"type\": \"scatter\", \"data\": [0.8550280755487494, 0.8550280755487494, 0.8550280755487494, 0.8550280755487494, 0.8550280755487494, 0.8598774885145483, 0.8598774885145483, 0.8598774885145483, 0.8598774885145483, 0.8598774885145483, 0.8598774885145483, 0.8598774885145483, 0.8598774885145483, 0.8598774885145483, 0.8598774885145483, 0.8598774885145483, 0.8598774885145483, 0.8598774885145483, 0.8631955079122001, 0.8631955079122001]}], \"AUC_macro\": [{\"categories\": [\"0\", \"1\", \"2\", \"3\", \"4\", \"5\", \"6\", \"7\", \"8\", \"9\", \"10\", \"11\", \"12\", \"13\", \"14\", \"15\", \"16\", \"17\", \"18\", \"19\"], \"mode\": \"markers\", \"name\": \"AUC_macro\", \"stepped\": false, \"type\": \"scatter\", \"data\": [0.8769254290258907, 0.8516708744316931, 0.7996175465639848, 0.8339204660860041, 0.8266935017913921, 0.8893198695105496, 0.843551352146989, 0.8564517832530729, 0.8903331911471005, 0.8094544116456088, 0.7908574002677532, 0.8135482591351626, 0.8549236968896162, 0.8757839944177599, 0.7905048615905357, 0.8526601546081127, 0.8160606446101372, 0.8327735815862783, 0.8992103056814039, 0.8984290303174779]}, {\"categories\": [\"0\", \"1\", \"2\", \"3\", \"4\", \"5\", \"6\", \"7\", \"8\", \"9\", \"10\", \"11\", \"12\", \"13\", \"14\", \"15\", \"16\", \"17\", \"18\", \"19\"], \"mode\": \"lines\", \"name\": \"AUC_macro_max\", \"stepped\": true, \"type\": \"scatter\", \"data\": [0.8769254290258907, 0.8769254290258907, 0.8769254290258907, 0.8769254290258907, 0.8769254290258907, 0.8893198695105496, 0.8893198695105496, 0.8893198695105496, 0.8903331911471005, 0.8903331911471005, 0.8903331911471005, 0.8903331911471005, 0.8903331911471005, 0.8903331911471005, 0.8903331911471005, 0.8903331911471005, 0.8903331911471005, 0.8903331911471005, 0.8992103056814039, 0.8992103056814039]}], \"recall_score_weighted\": [{\"categories\": [\"0\", \"1\", \"2\", \"3\", \"4\", \"5\", \"6\", \"7\", \"8\", \"9\", \"10\", \"11\", \"12\", \"13\", \"14\", \"15\", \"16\", \"17\", \"18\", \"19\"], \"mode\": \"markers\", \"name\": \"recall_score_weighted\", \"stepped\": false, \"type\": \"scatter\", \"data\": [0.8550280755487494, 0.8269525267993875, 0.7991322103113833, 0.8108728943338438, 0.8024502297090352, 0.8598774885145483, 0.830781010719755, 0.7695252679938744, 0.8575803981623277, 0.8016845329249618, 0.8024502297090352, 0.7993874425727411, 0.8346094946401225, 0.8534966819806025, 0.7087799897907096, 0.8407350689127105, 0.808831036242981, 0.7373660030627871, 0.8631955079122001, 0.8134252169474222]}, {\"categories\": [\"0\", \"1\", \"2\", \"3\", \"4\", \"5\", \"6\", \"7\", \"8\", \"9\", \"10\", \"11\", \"12\", \"13\", \"14\", \"15\", \"16\", \"17\", \"18\", \"19\"], \"mode\": \"lines\", \"name\": \"recall_score_weighted_max\", \"stepped\": true, \"type\": \"scatter\", \"data\": [0.8550280755487494, 0.8550280755487494, 0.8550280755487494, 0.8550280755487494, 0.8550280755487494, 0.8598774885145483, 0.8598774885145483, 0.8598774885145483, 0.8598774885145483, 0.8598774885145483, 0.8598774885145483, 0.8598774885145483, 0.8598774885145483, 0.8598774885145483, 0.8598774885145483, 0.8598774885145483, 0.8598774885145483, 0.8598774885145483, 0.8631955079122001, 0.8631955079122001]}], \"AUC_weighted\": [{\"categories\": [\"0\", \"1\", \"2\", \"3\", \"4\", \"5\", \"6\", \"7\", \"8\", \"9\", \"10\", \"11\", \"12\", \"13\", \"14\", \"15\", \"16\", \"17\", \"18\", \"19\"], \"mode\": \"markers\", \"name\": \"AUC_weighted\", \"stepped\": false, \"type\": \"scatter\", \"data\": [0.8769254290258908, 0.8516708744316932, 0.7996175465639848, 0.8339204660860041, 0.8266935017913921, 0.8893198695105496, 0.8435513521469887, 0.8564517832530728, 0.8903331911471005, 0.8094544116456089, 0.7908574002677532, 0.8135482591351627, 0.8549236968896162, 0.8757839944177598, 0.7905048615905357, 0.8526601546081126, 0.8160606446101372, 0.8327735815862783, 0.8992103056814039, 0.8984290303174779]}, {\"categories\": [\"0\", \"1\", \"2\", \"3\", \"4\", \"5\", \"6\", \"7\", \"8\", \"9\", \"10\", \"11\", \"12\", \"13\", \"14\", \"15\", \"16\", \"17\", \"18\", \"19\"], \"mode\": \"lines\", \"name\": \"AUC_weighted_max\", \"stepped\": true, \"type\": \"scatter\", \"data\": [0.8769254290258908, 0.8769254290258908, 0.8769254290258908, 0.8769254290258908, 0.8769254290258908, 0.8893198695105496, 0.8893198695105496, 0.8893198695105496, 0.8903331911471005, 0.8903331911471005, 0.8903331911471005, 0.8903331911471005, 0.8903331911471005, 0.8903331911471005, 0.8903331911471005, 0.8903331911471005, 0.8903331911471005, 0.8903331911471005, 0.8992103056814039, 0.8992103056814039]}], \"matthews_correlation\": [{\"categories\": [\"0\", \"1\", \"2\", \"3\", \"4\", \"5\", \"6\", \"7\", \"8\", \"9\", \"10\", \"11\", \"12\", \"13\", \"14\", \"15\", \"16\", \"17\", \"18\", \"19\"], \"mode\": \"markers\", \"name\": \"matthews_correlation\", \"stepped\": false, \"type\": \"scatter\", \"data\": [0.5377873885564045, 0.41876132416825057, 0.22797177238692842, 0.3173856393330854, 0.25574368717644935, 0.5399404216231126, 0.4301764804489346, 0.4544923147389319, 0.5348921149185629, 0.26377740987057335, 0.2989473927152133, 0.24811310544178902, 0.436428391345546, 0.5382874137938897, 0.3578051144201065, 0.46908437732779684, 0.3062671448420138, 0.417014540887292, 0.5534908238635298, 0.18226843279121974]}, {\"categories\": [\"0\", \"1\", \"2\", \"3\", \"4\", \"5\", \"6\", \"7\", \"8\", \"9\", \"10\", \"11\", \"12\", \"13\", \"14\", \"15\", \"16\", \"17\", \"18\", \"19\"], \"mode\": \"lines\", \"name\": \"matthews_correlation_max\", \"stepped\": true, \"type\": \"scatter\", \"data\": [0.5377873885564045, 0.5377873885564045, 0.5377873885564045, 0.5377873885564045, 0.5377873885564045, 0.5399404216231126, 0.5399404216231126, 0.5399404216231126, 0.5399404216231126, 0.5399404216231126, 0.5399404216231126, 0.5399404216231126, 0.5399404216231126, 0.5399404216231126, 0.5399404216231126, 0.5399404216231126, 0.5399404216231126, 0.5399404216231126, 0.5534908238635298, 0.5534908238635298]}], \"f1_score_weighted\": [{\"categories\": [\"0\", \"1\", \"2\", \"3\", \"4\", \"5\", \"6\", \"7\", \"8\", \"9\", \"10\", \"11\", \"12\", \"13\", \"14\", \"15\", \"16\", \"17\", \"18\", \"19\"], \"mode\": \"markers\", \"name\": \"f1_score_weighted\", \"stepped\": false, \"type\": \"scatter\", \"data\": [0.8482609221282634, 0.8107364284161678, 0.7430760759245109, 0.7764567263120513, 0.7533971044314058, 0.8484125897859017, 0.8136328420488729, 0.7855002475135894, 0.8472909967577537, 0.7587143773583142, 0.773640951061649, 0.7538328240811843, 0.814298207039962, 0.8483441473410496, 0.7325197771960008, 0.8251855875468288, 0.7711790124384468, 0.7583351760218728, 0.8527236109829679, 0.7477433062106417]}, {\"categories\": [\"0\", \"1\", \"2\", \"3\", \"4\", \"5\", \"6\", \"7\", \"8\", \"9\", \"10\", \"11\", \"12\", \"13\", \"14\", \"15\", \"16\", \"17\", \"18\", \"19\"], \"mode\": \"lines\", \"name\": \"f1_score_weighted_max\", \"stepped\": true, \"type\": \"scatter\", \"data\": [0.8482609221282634, 0.8482609221282634, 0.8482609221282634, 0.8482609221282634, 0.8482609221282634, 0.8484125897859017, 0.8484125897859017, 0.8484125897859017, 0.8484125897859017, 0.8484125897859017, 0.8484125897859017, 0.8484125897859017, 0.8484125897859017, 0.8484125897859017, 0.8484125897859017, 0.8484125897859017, 0.8484125897859017, 0.8484125897859017, 0.8527236109829679, 0.8527236109829679]}], \"average_precision_score_macro\": [{\"categories\": [\"0\", \"1\", \"2\", \"3\", \"4\", \"5\", \"6\", \"7\", \"8\", \"9\", \"10\", \"11\", \"12\", \"13\", \"14\", \"15\", \"16\", \"17\", \"18\", \"19\"], \"mode\": \"markers\", \"name\": \"average_precision_score_macro\", \"stepped\": false, \"type\": \"scatter\", \"data\": [0.8222232745522845, 0.777556105404007, 0.7196915738272072, 0.751934407028417, 0.744534912412528, 0.8507669148097436, 0.7727723978179667, 0.7789377402959371, 0.849932525482267, 0.7299027018491824, 0.7205610175124555, 0.726067165826883, 0.7946513683058521, 0.8316259963562139, 0.717255012448375, 0.7896792306184786, 0.7373865119203497, 0.7527601003667002, 0.857478041601255, 0.8560938107872585]}, {\"categories\": [\"0\", \"1\", \"2\", \"3\", \"4\", \"5\", \"6\", \"7\", \"8\", \"9\", \"10\", \"11\", \"12\", \"13\", \"14\", \"15\", \"16\", \"17\", \"18\", \"19\"], \"mode\": \"lines\", \"name\": \"average_precision_score_macro_max\", \"stepped\": true, \"type\": \"scatter\", \"data\": [0.8222232745522845, 0.8222232745522845, 0.8222232745522845, 0.8222232745522845, 0.8222232745522845, 0.8507669148097436, 0.8507669148097436, 0.8507669148097436, 0.8507669148097436, 0.8507669148097436, 0.8507669148097436, 0.8507669148097436, 0.8507669148097436, 0.8507669148097436, 0.8507669148097436, 0.8507669148097436, 0.8507669148097436, 0.8507669148097436, 0.857478041601255, 0.857478041601255]}], \"accuracy\": [{\"categories\": [\"0\", \"1\", \"2\", \"3\", \"4\", \"5\", \"6\", \"7\", \"8\", \"9\", \"10\", \"11\", \"12\", \"13\", \"14\", \"15\", \"16\", \"17\", \"18\", \"19\"], \"mode\": \"markers\", \"name\": \"accuracy\", \"stepped\": false, \"type\": \"scatter\", \"data\": [0.8550280755487494, 0.8269525267993875, 0.7991322103113833, 0.8108728943338438, 0.8024502297090352, 0.8598774885145483, 0.830781010719755, 0.7695252679938744, 0.8575803981623277, 0.8016845329249618, 0.8024502297090352, 0.7993874425727411, 0.8346094946401225, 0.8534966819806025, 0.7087799897907096, 0.8407350689127105, 0.808831036242981, 0.7373660030627871, 0.8631955079122001, 0.8134252169474222]}, {\"categories\": [\"0\", \"1\", \"2\", \"3\", \"4\", \"5\", \"6\", \"7\", \"8\", \"9\", \"10\", \"11\", \"12\", \"13\", \"14\", \"15\", \"16\", \"17\", \"18\", \"19\"], \"mode\": \"lines\", \"name\": \"accuracy_max\", \"stepped\": true, \"type\": \"scatter\", \"data\": [0.8550280755487494, 0.8550280755487494, 0.8550280755487494, 0.8550280755487494, 0.8550280755487494, 0.8598774885145483, 0.8598774885145483, 0.8598774885145483, 0.8598774885145483, 0.8598774885145483, 0.8598774885145483, 0.8598774885145483, 0.8598774885145483, 0.8598774885145483, 0.8598774885145483, 0.8598774885145483, 0.8598774885145483, 0.8598774885145483, 0.8631955079122001, 0.8631955079122001]}], \"precision_score_macro\": [{\"categories\": [\"0\", \"1\", \"2\", \"3\", \"4\", \"5\", \"6\", \"7\", \"8\", \"9\", \"10\", \"11\", \"12\", \"13\", \"14\", \"15\", \"16\", \"17\", \"18\", \"19\"], \"mode\": \"markers\", \"name\": \"precision_score_macro\", \"stepped\": false, \"type\": \"scatter\", \"data\": [0.7952872747262075, 0.7545161728277532, 0.7306565631228471, 0.7355037655042601, 0.7301728442670349, 0.8189561998735276, 0.7659480547626775, 0.6972072122482661, 0.8097267287120212, 0.7157454249891156, 0.7043586429796265, 0.7099525869980979, 0.7824045747647311, 0.7887263608609132, 0.6509407865287754, 0.786669752184911, 0.7392424022255298, 0.676670975015811, 0.8232033042909573, 0.5403512438487886]}, {\"categories\": [\"0\", \"1\", \"2\", \"3\", \"4\", \"5\", \"6\", \"7\", \"8\", \"9\", \"10\", \"11\", \"12\", \"13\", \"14\", \"15\", \"16\", \"17\", \"18\", \"19\"], \"mode\": \"lines\", \"name\": \"precision_score_macro_max\", \"stepped\": true, \"type\": \"scatter\", \"data\": [0.7952872747262075, 0.7952872747262075, 0.7952872747262075, 0.7952872747262075, 0.7952872747262075, 0.8189561998735276, 0.8189561998735276, 0.8189561998735276, 0.8189561998735276, 0.8189561998735276, 0.8189561998735276, 0.8189561998735276, 0.8189561998735276, 0.8189561998735276, 0.8189561998735276, 0.8189561998735276, 0.8189561998735276, 0.8189561998735276, 0.8232033042909573, 0.8232033042909573]}], \"precision_score_weighted\": [{\"categories\": [\"0\", \"1\", \"2\", \"3\", \"4\", \"5\", \"6\", \"7\", \"8\", \"9\", \"10\", \"11\", \"12\", \"13\", \"14\", \"15\", \"16\", \"17\", \"18\", \"19\"], \"mode\": \"markers\", \"name\": \"precision_score_weighted\", \"stepped\": false, \"type\": \"scatter\", \"data\": [0.8470034700019483, 0.8114612748042137, 0.7747739732531832, 0.7872695049510531, 0.777344733791982, 0.8516956742805065, 0.8165126405706444, 0.8243812428002076, 0.8486636861933162, 0.7732040969978179, 0.775403830397166, 0.7694423610791986, 0.8217806939156601, 0.846313667970211, 0.7949217224251989, 0.8294131925439179, 0.7875565103203669, 0.8154880991021992, 0.8554471865513738, 0.7013617201556186]}, {\"categories\": [\"0\", \"1\", \"2\", \"3\", \"4\", \"5\", \"6\", \"7\", \"8\", \"9\", \"10\", \"11\", \"12\", \"13\", \"14\", \"15\", \"16\", \"17\", \"18\", \"19\"], \"mode\": \"lines\", \"name\": \"precision_score_weighted_max\", \"stepped\": true, \"type\": \"scatter\", \"data\": [0.8470034700019483, 0.8470034700019483, 0.8470034700019483, 0.8470034700019483, 0.8470034700019483, 0.8516956742805065, 0.8516956742805065, 0.8516956742805065, 0.8516956742805065, 0.8516956742805065, 0.8516956742805065, 0.8516956742805065, 0.8516956742805065, 0.8516956742805065, 0.8516956742805065, 0.8516956742805065, 0.8516956742805065, 0.8516956742805065, 0.8554471865513738, 0.8554471865513738]}], \"average_precision_score_micro\": [{\"categories\": [\"0\", \"1\", \"2\", \"3\", \"4\", \"5\", \"6\", \"7\", \"8\", \"9\", \"10\", \"11\", \"12\", \"13\", \"14\", \"15\", \"16\", \"17\", \"18\", \"19\"], \"mode\": \"markers\", \"name\": \"average_precision_score_micro\", \"stepped\": false, \"type\": \"scatter\", \"data\": [0.929133986698064, 0.9157798813643406, 0.8905647133682181, 0.9049949234768171, 0.9019867897677547, 0.9404864746606242, 0.9108014286785963, 0.8748622992778107, 0.9391058124033949, 0.8959908598033529, 0.883662172885962, 0.889955698580386, 0.9168342578060608, 0.9244172489913168, 0.7849647990658098, 0.9150920427937024, 0.8984327744974655, 0.8386792874794885, 0.9419537078584689, 0.9302931436343727]}, {\"categories\": [\"0\", \"1\", \"2\", \"3\", \"4\", \"5\", \"6\", \"7\", \"8\", \"9\", \"10\", \"11\", \"12\", \"13\", \"14\", \"15\", \"16\", \"17\", \"18\", \"19\"], \"mode\": \"lines\", \"name\": \"average_precision_score_micro_max\", \"stepped\": true, \"type\": \"scatter\", \"data\": [0.929133986698064, 0.929133986698064, 0.929133986698064, 0.929133986698064, 0.929133986698064, 0.9404864746606242, 0.9404864746606242, 0.9404864746606242, 0.9404864746606242, 0.9404864746606242, 0.9404864746606242, 0.9404864746606242, 0.9404864746606242, 0.9404864746606242, 0.9404864746606242, 0.9404864746606242, 0.9404864746606242, 0.9404864746606242, 0.9419537078584689, 0.9419537078584689]}]}, \"metricName\": null, \"primaryMetricName\": \"AUC_weighted\", \"showLegend\": false}, \"run_metrics\": [{\"name\": \"experiment_status\", \"run_id\": \"AutoML_85bbf589-3fd5-4fb0-987e-c1d7e4e7134d\", \"categories\": [0, 1, 2, 3, 4, 5, 6, 7, 8, 9, 10, 11], \"series\": [{\"data\": [\"DatasetEvaluation\", \"FeaturesGeneration\", \"DatasetFeaturization\", \"DatasetFeaturizationCompleted\", \"DatasetCrossValidationSplit\", \"ModelSelection\", \"BestRunExplainModel\", \"ModelExplanationDataSetSetup\", \"PickSurrogateModel\", \"EngineeredFeatureExplanations\", \"EngineeredFeatureExplanations\", \"RawFeaturesExplanations\"]}]}, {\"name\": \"experiment_status_description\", \"run_id\": \"AutoML_85bbf589-3fd5-4fb0-987e-c1d7e4e7134d\", \"categories\": [0, 1, 2, 3, 4, 5, 6, 7, 8, 9, 10, 11], \"series\": [{\"data\": [\"Gathering dataset statistics.\", \"Generating features for the dataset.\", \"Beginning to fit featurizers and featurize the dataset.\", \"Completed fit featurizers and featurizing the dataset.\", \"Generating individually featurized CV splits.\", \"Beginning model selection.\", \"Best run model explanations started\", \"Model explanations data setup completed\", \"Choosing LightGBM as the surrogate model for explanations\", \"Computation of engineered features started\", \"Computation of engineered features completed\", \"Computation of raw features started\"]}]}, {\"name\": \"average_precision_score_micro\", \"run_id\": \"AutoML_85bbf589-3fd5-4fb0-987e-c1d7e4e7134d\", \"categories\": [0], \"series\": [{\"data\": [0.9419537078584689]}]}, {\"name\": \"precision_score_weighted\", \"run_id\": \"AutoML_85bbf589-3fd5-4fb0-987e-c1d7e4e7134d\", \"categories\": [0], \"series\": [{\"data\": [0.8554471865513738]}]}, {\"name\": \"AUC_micro\", \"run_id\": \"AutoML_85bbf589-3fd5-4fb0-987e-c1d7e4e7134d\", \"categories\": [0], \"series\": [{\"data\": [0.9405027411084976]}]}, {\"name\": \"precision_score_macro\", \"run_id\": \"AutoML_85bbf589-3fd5-4fb0-987e-c1d7e4e7134d\", \"categories\": [0], \"series\": [{\"data\": [0.8232033042909573]}]}, {\"name\": \"precision_score_micro\", \"run_id\": \"AutoML_85bbf589-3fd5-4fb0-987e-c1d7e4e7134d\", \"categories\": [0], \"series\": [{\"data\": [0.8631955079122001]}]}, {\"name\": \"balanced_accuracy\", \"run_id\": \"AutoML_85bbf589-3fd5-4fb0-987e-c1d7e4e7134d\", \"categories\": [0], \"series\": [{\"data\": [0.7369832782165603]}]}, {\"name\": \"matthews_correlation\", \"run_id\": \"AutoML_85bbf589-3fd5-4fb0-987e-c1d7e4e7134d\", \"categories\": [0], \"series\": [{\"data\": [0.5534908238635298]}]}, {\"name\": \"average_precision_score_macro\", \"run_id\": \"AutoML_85bbf589-3fd5-4fb0-987e-c1d7e4e7134d\", \"categories\": [0], \"series\": [{\"data\": [0.857478041601255]}]}, {\"name\": \"recall_score_micro\", \"run_id\": \"AutoML_85bbf589-3fd5-4fb0-987e-c1d7e4e7134d\", \"categories\": [0], \"series\": [{\"data\": [0.8631955079122001]}]}, {\"name\": \"recall_score_macro\", \"run_id\": \"AutoML_85bbf589-3fd5-4fb0-987e-c1d7e4e7134d\", \"categories\": [0], \"series\": [{\"data\": [0.7369832782165603]}]}, {\"name\": \"f1_score_micro\", \"run_id\": \"AutoML_85bbf589-3fd5-4fb0-987e-c1d7e4e7134d\", \"categories\": [0], \"series\": [{\"data\": [0.8631955079122001]}]}, {\"name\": \"norm_macro_recall\", \"run_id\": \"AutoML_85bbf589-3fd5-4fb0-987e-c1d7e4e7134d\", \"categories\": [0], \"series\": [{\"data\": [0.4739665564331205]}]}, {\"name\": \"AUC_weighted\", \"run_id\": \"AutoML_85bbf589-3fd5-4fb0-987e-c1d7e4e7134d\", \"categories\": [0], \"series\": [{\"data\": [0.8992103056814039]}]}, {\"name\": \"accuracy\", \"run_id\": \"AutoML_85bbf589-3fd5-4fb0-987e-c1d7e4e7134d\", \"categories\": [0], \"series\": [{\"data\": [0.8631955079122001]}]}, {\"name\": \"AUC_macro\", \"run_id\": \"AutoML_85bbf589-3fd5-4fb0-987e-c1d7e4e7134d\", \"categories\": [0], \"series\": [{\"data\": [0.8992103056814039]}]}, {\"name\": \"average_precision_score_weighted\", \"run_id\": \"AutoML_85bbf589-3fd5-4fb0-987e-c1d7e4e7134d\", \"categories\": [0], \"series\": [{\"data\": [0.9216603883031245]}]}, {\"name\": \"log_loss\", \"run_id\": \"AutoML_85bbf589-3fd5-4fb0-987e-c1d7e4e7134d\", \"categories\": [0], \"series\": [{\"data\": [0.331565735793922]}]}, {\"name\": \"f1_score_macro\", \"run_id\": \"AutoML_85bbf589-3fd5-4fb0-987e-c1d7e4e7134d\", \"categories\": [0], \"series\": [{\"data\": [0.7669650795567259]}]}, {\"name\": \"f1_score_weighted\", \"run_id\": \"AutoML_85bbf589-3fd5-4fb0-987e-c1d7e4e7134d\", \"categories\": [0], \"series\": [{\"data\": [0.8527236109829679]}]}, {\"name\": \"recall_score_weighted\", \"run_id\": \"AutoML_85bbf589-3fd5-4fb0-987e-c1d7e4e7134d\", \"categories\": [0], \"series\": [{\"data\": [0.8631955079122001]}]}, {\"name\": \"weighted_accuracy\", \"run_id\": \"AutoML_85bbf589-3fd5-4fb0-987e-c1d7e4e7134d\", \"categories\": [0], \"series\": [{\"data\": [0.9270213984310297]}]}], \"run_logs\": \"\\nRun is completed.\", \"graph\": {}, \"widget_settings\": {\"childWidgetDisplay\": \"popup\", \"send_telemetry\": false, \"log_level\": \"INFO\", \"sdk_version\": \"1.34.0\"}, \"loading\": false}"
          },
          "metadata": {}
        }
      ]
    },
    {
      "cell_type": "code",
      "metadata": {
        "jupyter": {
          "source_hidden": false,
          "outputs_hidden": false
        },
        "nteract": {
          "transient": {
            "deleting": false
          }
        },
        "gather": {
          "logged": 1635431089803
        },
        "id": "ah8Hq8NCNMY4",
        "outputId": "4ebe7e06-38f0-4c46-a267-81eef37e69c1"
      },
      "source": [
        "automl_run.wait_for_completion()"
      ],
      "execution_count": null,
      "outputs": [
        {
          "output_type": "execute_result",
          "execution_count": 9,
          "data": {
            "text/plain": "{'runId': 'AutoML_85bbf589-3fd5-4fb0-987e-c1d7e4e7134d',\n 'target': 'CPU-CC-AUTOML',\n 'status': 'Completed',\n 'startTimeUtc': '2021-10-28T14:13:57.48449Z',\n 'endTimeUtc': '2021-10-28T14:24:45.17487Z',\n 'services': {},\n 'properties': {'num_iterations': '20',\n  'training_type': 'TrainFull',\n  'acquisition_function': 'EI',\n  'primary_metric': 'AUC_weighted',\n  'train_split': '0',\n  'acquisition_parameter': '0',\n  'num_cross_validation': '3',\n  'target': 'CPU-CC-AUTOML',\n  'AMLSettingsJsonString': '{\"path\":null,\"name\":\"exp-capstone-automl\",\"subscription_id\":\"9a7511b8-150f-4a58-8528-3e7d50216c31\",\"resource_group\":\"aml-quickstarts-162292\",\"workspace_name\":\"quick-starts-ws-162292\",\"region\":\"southcentralus\",\"compute_target\":\"CPU-CC-AUTOML\",\"spark_service\":null,\"azure_service\":\"remote\",\"many_models\":false,\"pipeline_fetch_max_batch_size\":1,\"enable_batch_run\":false,\"enable_run_restructure\":false,\"start_auxiliary_runs_before_parent_complete\":false,\"enable_code_generation\":false,\"iterations\":20,\"primary_metric\":\"AUC_weighted\",\"task_type\":\"classification\",\"data_script\":null,\"test_size\":0.0,\"test_include_predictions_only\":false,\"validation_size\":0.0,\"n_cross_validations\":3,\"y_min\":null,\"y_max\":null,\"num_classes\":null,\"featurization\":\"auto\",\"_ignore_package_version_incompatibilities\":false,\"is_timeseries\":false,\"max_cores_per_iteration\":-1,\"max_concurrent_iterations\":5,\"iteration_timeout_minutes\":5,\"mem_in_mb\":null,\"enforce_time_on_windows\":false,\"experiment_timeout_minutes\":30,\"experiment_exit_score\":null,\"whitelist_models\":null,\"blacklist_algos\":[\"TensorFlowLinearClassifier\",\"TensorFlowDNN\"],\"supported_models\":[\"SGD\",\"XGBoostClassifier\",\"BernoulliNaiveBayes\",\"KNN\",\"MultinomialNaiveBayes\",\"SVM\",\"AveragedPerceptronClassifier\",\"LogisticRegression\",\"LinearSVM\",\"RandomForest\",\"GradientBoosting\",\"ExtremeRandomTrees\",\"DecisionTree\",\"TensorFlowDNN\",\"LightGBM\",\"TensorFlowLinearClassifier\"],\"private_models\":[],\"auto_blacklist\":true,\"blacklist_samples_reached\":false,\"exclude_nan_labels\":true,\"verbosity\":20,\"_debug_log\":\"azureml_automl.log\",\"show_warnings\":false,\"model_explainability\":true,\"service_url\":null,\"sdk_url\":null,\"sdk_packages\":null,\"enable_onnx_compatible_models\":false,\"enable_split_onnx_featurizer_estimator_models\":false,\"vm_type\":\"STANDARD_DS12_V2\",\"telemetry_verbosity\":20,\"send_telemetry\":true,\"enable_dnn\":false,\"scenario\":\"SDK-1.13.0\",\"environment_label\":null,\"save_mlflow\":false,\"force_text_dnn\":false,\"enable_feature_sweeping\":true,\"enable_early_stopping\":true,\"early_stopping_n_iters\":10,\"metrics\":null,\"enable_metric_confidence\":false,\"enable_ensembling\":true,\"enable_stack_ensembling\":true,\"ensemble_iterations\":15,\"enable_tf\":false,\"enable_subsampling\":false,\"subsample_seed\":null,\"enable_nimbusml\":false,\"enable_streaming\":false,\"force_streaming\":false,\"track_child_runs\":true,\"allowed_private_models\":[],\"label_column_name\":\"quality\",\"weight_column_name\":null,\"cv_split_column_names\":null,\"positive_label\":null,\"enable_local_managed\":false,\"_local_managed_run_id\":null,\"cost_mode\":1,\"lag_length\":0,\"metric_operation\":\"maximize\",\"preprocess\":true}',\n  'DataPrepJsonString': '{\\\\\"training_data\\\\\": {\\\\\"datasetId\\\\\": \\\\\"1f2a27ce-3403-473d-9b97-2a362d10318e\\\\\"}, \\\\\"datasets\\\\\": 0}',\n  'EnableSubsampling': 'False',\n  'runTemplate': 'AutoML',\n  'azureml.runsource': 'automl',\n  'display_task_type': 'classification',\n  'dependencies_versions': '{\"azureml-widgets\": \"1.34.0\", \"azureml-train\": \"1.34.0\", \"azureml-train-restclients-hyperdrive\": \"1.34.0\", \"azureml-train-core\": \"1.34.0\", \"azureml-train-automl\": \"1.34.0\", \"azureml-train-automl-runtime\": \"1.34.0\", \"azureml-train-automl-client\": \"1.34.0\", \"azureml-tensorboard\": \"1.34.0\", \"azureml-telemetry\": \"1.34.0\", \"azureml-sdk\": \"1.34.0\", \"azureml-samples\": \"0+unknown\", \"azureml-responsibleai\": \"1.34.0\", \"azureml-pipeline\": \"1.34.0\", \"azureml-pipeline-steps\": \"1.34.0\", \"azureml-pipeline-core\": \"1.34.0\", \"azureml-opendatasets\": \"1.34.0\", \"azureml-mlflow\": \"1.34.0\", \"azureml-interpret\": \"1.34.0\", \"azureml-inference-server-http\": \"0.3.1\", \"azureml-explain-model\": \"1.34.0\", \"azureml-defaults\": \"1.34.0\", \"azureml-dataset-runtime\": \"1.34.0\", \"azureml-dataprep\": \"2.22.2\", \"azureml-dataprep-rslex\": \"1.20.1\", \"azureml-dataprep-native\": \"38.0.0\", \"azureml-datadrift\": \"1.34.0\", \"azureml-core\": \"1.34.0\", \"azureml-contrib-services\": \"1.34.0\", \"azureml-contrib-server\": \"1.34.0\", \"azureml-contrib-reinforcementlearning\": \"1.34.0\", \"azureml-contrib-pipeline-steps\": \"1.34.0\", \"azureml-contrib-notebook\": \"1.34.0\", \"azureml-contrib-fairness\": \"1.34.0\", \"azureml-contrib-dataset\": \"1.34.0\", \"azureml-contrib-automl-pipeline-steps\": \"1.34.0\", \"azureml-cli-common\": \"1.34.0\", \"azureml-automl-runtime\": \"1.34.0\", \"azureml-automl-dnn-nlp\": \"1.34.0\", \"azureml-automl-core\": \"1.34.0\", \"azureml-accel-models\": \"1.34.0\"}',\n  '_aml_system_scenario_identification': 'Remote.Parent',\n  'ClientType': 'SDK',\n  'environment_cpu_name': 'AzureML-AutoML',\n  'environment_cpu_label': 'prod',\n  'environment_gpu_name': 'AzureML-AutoML-GPU',\n  'environment_gpu_label': 'prod',\n  'root_attribution': 'automl',\n  'attribution': 'AutoML',\n  'Orchestrator': 'AutoML',\n  'CancelUri': 'https://southcentralus.api.azureml.ms/jasmine/v1.0/subscriptions/9a7511b8-150f-4a58-8528-3e7d50216c31/resourceGroups/aml-quickstarts-162292/providers/Microsoft.MachineLearningServices/workspaces/quick-starts-ws-162292/experimentids/d5e7239a-4e36-4df4-9dad-3d612f6ab0ee/cancel/AutoML_85bbf589-3fd5-4fb0-987e-c1d7e4e7134d',\n  'ClientSdkVersion': '1.34.1',\n  'snapshotId': '00000000-0000-0000-0000-000000000000',\n  'SetupRunId': 'AutoML_85bbf589-3fd5-4fb0-987e-c1d7e4e7134d_setup',\n  'SetupRunContainerId': 'dcid.AutoML_85bbf589-3fd5-4fb0-987e-c1d7e4e7134d_setup',\n  'FeaturizationRunJsonPath': 'featurizer_container.json',\n  'FeaturizationRunId': 'AutoML_85bbf589-3fd5-4fb0-987e-c1d7e4e7134d_featurize',\n  'ProblemInfoJsonString': '{\"dataset_num_categorical\": 0, \"is_sparse\": false, \"subsampling\": false, \"has_extra_col\": true, \"dataset_classes\": 2, \"dataset_features\": 11, \"dataset_samples\": 3918, \"single_frequency_class_detected\": false}',\n  'ModelExplainRunId': 'AutoML_85bbf589-3fd5-4fb0-987e-c1d7e4e7134d_ModelExplain'},\n 'inputDatasets': [{'dataset': {'id': '1f2a27ce-3403-473d-9b97-2a362d10318e'}, 'consumptionDetails': {'type': 'RunInput', 'inputName': 'training_data', 'mechanism': 'Direct'}}],\n 'outputDatasets': [],\n 'logFiles': {},\n 'submittedBy': 'ODL_User 162292'}"
          },
          "metadata": {}
        }
      ]
    },
    {
      "cell_type": "markdown",
      "metadata": {
        "id": "Skd-RNClDIzO"
      },
      "source": [
        "## Best Model\n",
        "\n",
        "TODO: In the cell below, get the best model from the automl experiments and display all the properties of the model.\n",
        "\n"
      ]
    },
    {
      "cell_type": "code",
      "metadata": {
        "id": "gzVGP_K4Imqr",
        "gather": {
          "logged": 1635431090444
        }
      },
      "source": [
        "def print_model(model, prefix=\"\"):\n",
        "    for step in model.steps:\n",
        "        print(prefix + step[0])\n",
        "        if hasattr(step[1], 'estimators') and hasattr(step[1], 'weights'):\n",
        "            pprint({'estimators': list(e[0] for e in step[1].estimators), 'weights': step[1].weights})\n",
        "            print()\n",
        "            for estimator in step[1].estimators:\n",
        "                print_model(estimator[1], estimator[0]+ ' - ')\n",
        "        elif hasattr(step[1], '_base_learners') and hasattr(step[1], '_meta_learner'):\n",
        "            print(\"\\nMeta Learner\")\n",
        "            pprint(step[1]._meta_learner)\n",
        "            print()\n",
        "            for estimator in step[1]._base_learners:\n",
        "                print_model(estimator[1], estimator[0]+ ' - ')\n",
        "        else:\n",
        "            pprint(step[1].get_params())\n",
        "            print()"
      ],
      "execution_count": null,
      "outputs": []
    },
    {
      "cell_type": "code",
      "metadata": {
        "gather": {
          "logged": 1635431114251
        },
        "jupyter": {
          "outputs_hidden": false,
          "source_hidden": false
        },
        "nteract": {
          "transient": {
            "deleting": false
          }
        },
        "id": "bPGTZ5shDIzP",
        "outputId": "7fc34fad-5f5f-4939-8dc6-85359c724c0d"
      },
      "source": [
        "automl_best_run, automl_best_model = automl_run.get_output()\n",
        "\n",
        "automl_best_run_metrics = automl_best_run.get_metrics()\n",
        "\n",
        "print(f'********** Best AutoML accuracy: {automl_best_run_metrics.get(\"accuracy\")}')\n",
        "print(f'********** printing Best AutoML run:\\n{automl_best_run}\\n\\nPrinting model:')\n",
        "\n",
        "print_model(automl_best_model)"
      ],
      "execution_count": null,
      "outputs": [
        {
          "output_type": "stream",
          "name": "stdout",
          "text": "********** Best AutoML accuracy: 0.8631955079122001\n********** printing Best AutoML run:\nRun(Experiment: exp-capstone-automl,\nId: AutoML_85bbf589-3fd5-4fb0-987e-c1d7e4e7134d_18,\nType: azureml.scriptrun,\nStatus: Completed)\n\nPrinting model:\ndatatransformer\n{'enable_dnn': False,\n 'enable_feature_sweeping': True,\n 'feature_sweeping_config': {},\n 'feature_sweeping_timeout': 86400,\n 'featurization_config': None,\n 'force_text_dnn': False,\n 'is_cross_validation': True,\n 'is_onnx_compatible': False,\n 'observer': None,\n 'task': 'classification',\n 'working_dir': '/mnt/batch/tasks/shared/LS_root/mounts/clusters/nb-compute/code/Users/odl_user_162292'}\n\nprefittedsoftvotingclassifier\n{'estimators': ['8', '5', '0', '13', '7', '12', '11', '10'],\n 'weights': [0.2727272727272727,\n             0.09090909090909091,\n             0.09090909090909091,\n             0.18181818181818182,\n             0.09090909090909091,\n             0.09090909090909091,\n             0.09090909090909091,\n             0.09090909090909091]}\n\n8 - robustscaler\n{'copy': True,\n 'quantile_range': [25, 75],\n 'with_centering': False,\n 'with_scaling': True}\n\n8 - kneighborsclassifier\n{'algorithm': 'auto',\n 'leaf_size': 30,\n 'metric': 'manhattan',\n 'metric_params': None,\n 'n_jobs': 1,\n 'n_neighbors': 22,\n 'p': 2,\n 'weights': 'distance'}\n\n5 - standardscalerwrapper\n{'class_name': 'StandardScaler',\n 'copy': True,\n 'module_name': 'sklearn.preprocessing._data',\n 'with_mean': True,\n 'with_std': False}\n\n5 - kneighborsclassifier\n{'algorithm': 'auto',\n 'leaf_size': 30,\n 'metric': 'cityblock',\n 'metric_params': None,\n 'n_jobs': 1,\n 'n_neighbors': 29,\n 'p': 2,\n 'weights': 'distance'}\n\n0 - maxabsscaler\n{'copy': True}\n\n0 - lightgbmclassifier\n{'min_data_in_leaf': 20,\n 'n_jobs': -1,\n 'problem_info': ProblemInfo(\n    gpu_training_param_dict={'processing_unit_type': 'cpu'}\n),\n 'random_state': None}\n\n13 - sparsenormalizer\n{'copy': True, 'norm': 'max'}\n\n13 - kneighborsclassifier\n{'algorithm': 'auto',\n 'leaf_size': 30,\n 'metric': 'cityblock',\n 'metric_params': None,\n 'n_jobs': 1,\n 'n_neighbors': 10,\n 'p': 2,\n 'weights': 'distance'}\n\n7 - sparsenormalizer\n{'copy': True, 'norm': 'l2'}\n\n7 - randomforestclassifier\n{'bootstrap': True,\n 'ccp_alpha': 0.0,\n 'class_weight': 'balanced',\n 'criterion': 'gini',\n 'max_depth': None,\n 'max_features': 'sqrt',\n 'max_leaf_nodes': None,\n 'max_samples': None,\n 'min_impurity_decrease': 0.0,\n 'min_impurity_split': None,\n 'min_samples_leaf': 0.01,\n 'min_samples_split': 0.01,\n 'min_weight_fraction_leaf': 0.0,\n 'n_estimators': 100,\n 'n_jobs': -1,\n 'oob_score': True,\n 'random_state': None,\n 'verbose': 0,\n 'warm_start': False}\n\n12 - standardscalerwrapper\n{'class_name': 'StandardScaler',\n 'copy': True,\n 'module_name': 'sklearn.preprocessing._data',\n 'with_mean': False,\n 'with_std': False}\n\n12 - xgboostclassifier\n{'base_score': 0.5,\n 'booster': 'gbtree',\n 'colsample_bylevel': 1,\n 'colsample_bynode': 1,\n 'colsample_bytree': 0.5,\n 'eta': 0.3,\n 'gamma': 0,\n 'learning_rate': 0.1,\n 'max_delta_step': 0,\n 'max_depth': 10,\n 'max_leaves': 255,\n 'min_child_weight': 1,\n 'missing': nan,\n 'n_estimators': 10,\n 'n_jobs': -1,\n 'nthread': None,\n 'objective': 'reg:logistic',\n 'random_state': 0,\n 'reg_alpha': 0,\n 'reg_lambda': 0.10416666666666667,\n 'scale_pos_weight': 1,\n 'seed': None,\n 'silent': None,\n 'subsample': 0.7,\n 'tree_method': 'auto',\n 'verbose': -10,\n 'verbosity': 0}\n\n11 - standardscalerwrapper\n{'class_name': 'StandardScaler',\n 'copy': True,\n 'module_name': 'sklearn.preprocessing._data',\n 'with_mean': True,\n 'with_std': True}\n\n11 - svcwrapper\n{'C': 2222.996482526191,\n 'break_ties': False,\n 'cache_size': 200,\n 'class_weight': 'balanced',\n 'coef0': 0.0,\n 'decision_function_shape': 'ovr',\n 'degree': 3,\n 'gamma': 'scale',\n 'kernel': 'rbf',\n 'max_iter': -1,\n 'probability': True,\n 'random_state': None,\n 'shrinking': True,\n 'tol': 0.001,\n 'verbose': False}\n\n10 - standardscalerwrapper\n{'class_name': 'StandardScaler',\n 'copy': True,\n 'module_name': 'sklearn.preprocessing._data',\n 'with_mean': True,\n 'with_std': True}\n\n10 - logisticregression\n{'C': 2222.996482526191,\n 'class_weight': None,\n 'dual': False,\n 'fit_intercept': True,\n 'intercept_scaling': 1,\n 'l1_ratio': None,\n 'max_iter': 100,\n 'multi_class': 'multinomial',\n 'n_jobs': -1,\n 'penalty': 'l2',\n 'random_state': None,\n 'solver': 'lbfgs',\n 'tol': 0.0001,\n 'verbose': 0,\n 'warm_start': False}\n\n"
        }
      ]
    },
    {
      "cell_type": "code",
      "metadata": {
        "jupyter": {
          "source_hidden": false,
          "outputs_hidden": false
        },
        "nteract": {
          "transient": {
            "deleting": false
          }
        },
        "gather": {
          "logged": 1635431117028
        },
        "id": "vm6pVYDewoKt",
        "outputId": "42c81aac-c1bd-4158-da81-f921f24057e1"
      },
      "source": [
        "print(automl_run.get_metrics())"
      ],
      "execution_count": null,
      "outputs": [
        {
          "output_type": "stream",
          "name": "stdout",
          "text": "{'experiment_status': ['DatasetEvaluation', 'FeaturesGeneration', 'DatasetFeaturization', 'DatasetFeaturizationCompleted', 'DatasetCrossValidationSplit', 'ModelSelection'], 'experiment_status_description': ['Gathering dataset statistics.', 'Generating features for the dataset.', 'Beginning to fit featurizers and featurize the dataset.', 'Completed fit featurizers and featurizing the dataset.', 'Generating individually featurized CV splits.', 'Beginning model selection.'], 'average_precision_score_micro': 0.9419537078584689, 'precision_score_weighted': 0.8554471865513738, 'AUC_micro': 0.9405027411084976, 'precision_score_macro': 0.8232033042909573, 'precision_score_micro': 0.8631955079122001, 'balanced_accuracy': 0.7369832782165603, 'matthews_correlation': 0.5534908238635298, 'average_precision_score_macro': 0.857478041601255, 'recall_score_micro': 0.8631955079122001, 'recall_score_macro': 0.7369832782165603, 'f1_score_micro': 0.8631955079122001, 'norm_macro_recall': 0.4739665564331205, 'AUC_weighted': 0.8992103056814039, 'accuracy': 0.8631955079122001, 'AUC_macro': 0.8992103056814039, 'average_precision_score_weighted': 0.9216603883031245, 'log_loss': 0.331565735793922, 'f1_score_macro': 0.7669650795567259, 'f1_score_weighted': 0.8527236109829679, 'recall_score_weighted': 0.8631955079122001, 'weighted_accuracy': 0.9270213984310297}\n"
        }
      ]
    },
    {
      "cell_type": "code",
      "metadata": {
        "jupyter": {
          "source_hidden": false,
          "outputs_hidden": false
        },
        "nteract": {
          "transient": {
            "deleting": false
          }
        },
        "gather": {
          "logged": 1635432546017
        },
        "id": "GO9oXlW-NMY6"
      },
      "source": [
        "# Create the outputs directpry\n",
        "if 'output' not in os.listdir():\n",
        "    os.mkdir(os.path.join('.', 'output'))"
      ],
      "execution_count": null,
      "outputs": []
    },
    {
      "cell_type": "code",
      "metadata": {
        "gather": {
          "logged": 1635432720386
        },
        "jupyter": {
          "outputs_hidden": false,
          "source_hidden": false
        },
        "nteract": {
          "transient": {
            "deleting": false
          }
        },
        "id": "fNc1risDDIzP",
        "outputId": "6dad2359-5192-494b-8694-6ba69b588de9"
      },
      "source": [
        "#TODO: Save the best model\n",
        "joblib.dump(automl_best_model, os.path.join('output','best_automl.pkl'))"
      ],
      "execution_count": null,
      "outputs": [
        {
          "output_type": "execute_result",
          "execution_count": 30,
          "data": {
            "text/plain": "['output/best_automl.pkl']"
          },
          "metadata": {}
        }
      ]
    },
    {
      "cell_type": "code",
      "metadata": {
        "jupyter": {
          "source_hidden": false,
          "outputs_hidden": false
        },
        "nteract": {
          "transient": {
            "deleting": false
          }
        },
        "gather": {
          "logged": 1635432981975
        },
        "id": "NIYt_K57NMY7",
        "outputId": "ed3c6700-1648-40eb-baaf-18da0e211748"
      },
      "source": [
        "print(f'{constants.CONDA_ENV_FILE_PATH}')"
      ],
      "execution_count": null,
      "outputs": [
        {
          "output_type": "stream",
          "name": "stdout",
          "text": "outputs/conda_env_v_1_0_0.yml\n"
        }
      ]
    },
    {
      "cell_type": "code",
      "metadata": {
        "id": "Zhf4ImWV83Gg",
        "gather": {
          "logged": 1635433128179
        }
      },
      "source": [
        "automl_best_run.download_file(constants.CONDA_ENV_FILE_PATH, os.path.join('output', c_constants.BEST_RUN_ENV))"
      ],
      "execution_count": null,
      "outputs": []
    },
    {
      "cell_type": "code",
      "metadata": {
        "jupyter": {
          "source_hidden": false,
          "outputs_hidden": false
        },
        "nteract": {
          "transient": {
            "deleting": false
          }
        },
        "gather": {
          "logged": 1635433418590
        },
        "id": "CIQzB9f6NMY7"
      },
      "source": [
        "automl_best_run.download_file(constants.SCORING_FILE_PATH, os.path.join('output', c_constants.INFERENCE_SCORING_SCRIPT))"
      ],
      "execution_count": null,
      "outputs": []
    },
    {
      "cell_type": "code",
      "metadata": {
        "jupyter": {
          "source_hidden": false,
          "outputs_hidden": false
        },
        "nteract": {
          "transient": {
            "deleting": false
          }
        },
        "gather": {
          "logged": 1635433485508
        },
        "id": "nXq3D87KNMY8"
      },
      "source": [
        "automl_best_run.download_file(constants.SCORING_FILE_V2_PATH, os.path.join('output', 'score_v2.py'))"
      ],
      "execution_count": null,
      "outputs": []
    },
    {
      "cell_type": "code",
      "metadata": {
        "jupyter": {
          "source_hidden": false,
          "outputs_hidden": false
        },
        "nteract": {
          "transient": {
            "deleting": false
          }
        },
        "gather": {
          "logged": 1635433461315
        },
        "id": "WOZyfJcANMY8",
        "outputId": "554e6c85-f539-48d1-a842-621eede429b4"
      },
      "source": [
        "constants.SCORING_FILE_V2_PATH"
      ],
      "execution_count": null,
      "outputs": [
        {
          "output_type": "execute_result",
          "execution_count": 40,
          "data": {
            "text/plain": "'outputs/scoring_file_v_2_0_0.py'"
          },
          "metadata": {}
        }
      ]
    },
    {
      "cell_type": "code",
      "metadata": {
        "jupyter": {
          "source_hidden": false,
          "outputs_hidden": false
        },
        "nteract": {
          "transient": {
            "deleting": false
          }
        },
        "gather": {
          "logged": 1635434373818
        },
        "id": "goo3tm3iNMY8",
        "outputId": "e25b956a-1b07-4bd2-d5af-0ba065e3a425"
      },
      "source": [
        "constants.MODEL_FILENAME"
      ],
      "execution_count": null,
      "outputs": [
        {
          "output_type": "execute_result",
          "execution_count": 48,
          "data": {
            "text/plain": "'model.pkl'"
          },
          "metadata": {}
        }
      ]
    },
    {
      "cell_type": "code",
      "metadata": {
        "jupyter": {
          "source_hidden": false,
          "outputs_hidden": false
        },
        "nteract": {
          "transient": {
            "deleting": false
          }
        },
        "gather": {
          "logged": 1635434392917
        },
        "id": "txX6iSasNMY8",
        "outputId": "f1f3733c-477b-400b-fb0c-b35164c6db9a"
      },
      "source": [
        "constants.MODEL_PATH"
      ],
      "execution_count": null,
      "outputs": [
        {
          "output_type": "execute_result",
          "execution_count": 49,
          "data": {
            "text/plain": "'outputs/model.pkl'"
          },
          "metadata": {}
        }
      ]
    },
    {
      "cell_type": "code",
      "metadata": {
        "jupyter": {
          "source_hidden": false,
          "outputs_hidden": false
        },
        "nteract": {
          "transient": {
            "deleting": false
          }
        },
        "gather": {
          "logged": 1635433175564
        },
        "id": "6o19k7elNMY8",
        "outputId": "356be7de-4dea-46fe-b8af-c8702e027e3d"
      },
      "source": [
        "dir(constants)"
      ],
      "execution_count": null,
      "outputs": [
        {
          "output_type": "execute_result",
          "execution_count": 36,
          "data": {
            "text/plain": "['API',\n 'ARTIFACT_TAG',\n 'AcquisitionFunction',\n 'AggregationFunctions',\n 'AutoMLDefaultTimeouts',\n 'AutoMLJson',\n 'AutoMLValidation',\n 'CHILD_RUNS_SUMMARY_PATH',\n 'CONDA_ENV_FILE_PATH',\n 'CheckImbalance',\n 'ClientErrors',\n 'DEFAULT_LOGGING_APP_NAME',\n 'DEPENDENCIES_PATH',\n 'DatetimeDtype',\n 'Defaults',\n 'EARLY_STOPPING_NUM_LANDMARKS',\n 'EnsembleConstants',\n 'EnsembleMethod',\n 'Enum',\n 'ErrorLinks',\n 'FeatureSweeping',\n 'FitPipelineComponentName',\n 'HyperparameterSweepingConstants',\n 'IterationTimeout',\n 'LOCAL_CHILD_RUNS_SUMMARY_PATH',\n 'LOCAL_CONDA_ENV_FILE_PATH',\n 'LOCAL_DEPENDENCIES_PATH',\n 'LOCAL_MODEL_PATH',\n 'LOCAL_MODEL_PATH_ONNX',\n 'LOCAL_MODEL_PATH_TRAIN',\n 'LOCAL_MODEL_RESOURCE_PATH_ONNX',\n 'LOCAL_OUTPUT_PATH',\n 'LOCAL_PIPELINE_GRAPH_PATH',\n 'LOCAL_SCORING_FILE_PATH',\n 'LOCAL_SCORING_FILE_V2_PATH',\n 'LOCAL_VERIFIER_RESULTS_PATH',\n 'LOW_MEMORY_THRESHOLD',\n 'LegacyModelNames',\n 'List',\n 'MAX_ITERATIONS',\n 'MAX_SAMPLES_AUTOBLOCK',\n 'MAX_SAMPLES_AUTOBLOCKED_ALGOS',\n 'MLFLOW_OUTPUT_PATH',\n 'MODEL_EXPLANATION_TAG',\n 'MODEL_FILENAME',\n 'MODEL_PATH',\n 'MODEL_PATH_ONNX',\n 'MODEL_PATH_TRAIN',\n 'MODEL_RESOURCE_PATH_ONNX',\n 'MULTINOMIAL_ALGO_TAG',\n 'Metric',\n 'MetricExtrasConstants',\n 'MetricObjective',\n 'ModelCategories',\n 'ModelClassNames',\n 'ModelName',\n 'ModelNameMappings',\n 'ModelParameters',\n 'NumericalDtype',\n 'OUTPUT_PATH',\n 'Optimizer',\n 'OptimizerObjectives',\n 'OrderedDict',\n 'PIPELINE_GRAPH_PATH',\n 'PIPELINE_GRAPH_VERSION',\n 'PROPERTY_KEY_OF_MODEL_PATH',\n 'PT_MODEL_FILENAME',\n 'PT_MODEL_PATH',\n 'PipelineCost',\n 'PipelineMaskProfiles',\n 'PipelineParameterConstraintCheckStatus',\n 'PreprocessorCategories',\n 'RuleBasedValidation',\n 'RunState',\n 'SCORING_FILE_PATH',\n 'SCORING_FILE_V2_PATH',\n 'SINGLE_THREADED_ALGORITHMS',\n 'Sample_Weights_Unsupported',\n 'ServerStatus',\n 'ShortSeriesHandlingValues',\n 'Status',\n 'SubsamplingSchedule',\n 'SubsamplingTreatment',\n 'Subtasks',\n 'SupportedInputDatatypes',\n 'SupportedModelNames',\n 'SupportedModels',\n 'TIMEOUT_TAG',\n 'Tasks',\n 'TelemetryConstants',\n 'TextOrCategoricalDtype',\n 'TimeConstraintEnforcement',\n 'TimeSeries',\n 'TimeSeriesInternal',\n 'TimeSeriesWebLinks',\n 'TrainingResultsType',\n 'TrainingType',\n 'Transformers',\n 'VERIFIER_RESULTS_PATH',\n 'ValidationLimitRule',\n 'XGBOOST_SUPPORTED_GPU_VERSION',\n 'XGBOOST_SUPPORTED_VERSION',\n '_NonExplainableModels',\n '_PrivateModelNames',\n '_PrivateModels',\n '__builtins__',\n '__cached__',\n '__doc__',\n '__file__',\n '__loader__',\n '__name__',\n '__package__',\n '__spec__',\n 'get_metric_from_type',\n 'get_status_from_type',\n 'hashing_seed_value',\n 'os',\n 'sys']"
          },
          "metadata": {}
        }
      ]
    },
    {
      "cell_type": "markdown",
      "metadata": {
        "id": "otKptwQ9DIzQ"
      },
      "source": [
        "## Model Deployment\n",
        "\n",
        "Remember you have to deploy only one of the two models you trained but you still need to register both the models. Perform the steps in the rest of this notebook only if you wish to deploy this model.\n",
        "\n",
        "TODO: In the cell below, register the model, create an inference config and deploy the model as a web service."
      ]
    },
    {
      "cell_type": "code",
      "metadata": {
        "jupyter": {
          "source_hidden": false,
          "outputs_hidden": false
        },
        "nteract": {
          "transient": {
            "deleting": false
          }
        },
        "gather": {
          "logged": 1635434441586
        },
        "id": "yI5F2zyXNMY9",
        "outputId": "7351ae69-c1d3-42a1-cdb1-982650e21d52"
      },
      "source": [
        "# Refer - https://docs.microsoft.com/en-us/azure/machine-learning/how-to-deploy-and-where?tabs=python\n",
        "\n",
        "# Tutorial: Deploy an image classification model in Azure Container Instances -\n",
        "# https://docs.microsoft.com/en-us/azure/machine-learning/tutorial-deploy-models-with-aml\n",
        "\n",
        "# Register the model\n",
        "# registered_model = automl_run.register_model(model_name='wine-taste-automl', description=c_constants.DEPLOYED_AUTOML_MODEL_DESCRIPTION)\n",
        "registered_model = automl_best_run.register_model(model_path=constants.MODEL_PATH, \n",
        "                                                model_name='wine-taste-automl-2', \n",
        "                                                description=c_constants.DEPLOYED_AUTOML_MODEL_DESCRIPTION,\n",
        "                                                tags={'Method of execution':'AutoML'},\n",
        "                                                properties={'Accuracy':automl_best_run_metrics['accuracy']})\n",
        "print(f'{automl_run.model_id}')\n",
        "print(f'{registered_model.name}  {registered_model.id}  {registered_model.version}')\n"
      ],
      "execution_count": null,
      "outputs": [
        {
          "output_type": "stream",
          "name": "stdout",
          "text": "wine-taste-automl\nwine-taste-automl-2  wine-taste-automl-2:1  1\n"
        }
      ]
    },
    {
      "cell_type": "code",
      "metadata": {
        "jupyter": {
          "source_hidden": false,
          "outputs_hidden": false
        },
        "nteract": {
          "transient": {
            "deleting": false
          }
        },
        "id": "xw52xTUBNMY9",
        "outputId": "be7fcdaa-0d04-4433-efb7-f96574da3de6"
      },
      "source": [
        "print(f'{automl_best_run.model_id}')"
      ],
      "execution_count": null,
      "outputs": [
        {
          "output_type": "error",
          "ename": "AttributeError",
          "evalue": "'Run' object has no attribute 'model_id'",
          "traceback": [
            "\u001b[0;31m---------------------------------------------------------------------------\u001b[0m",
            "\u001b[0;31mAttributeError\u001b[0m                            Traceback (most recent call last)",
            "\u001b[0;32m<ipython-input-51-8410462466d6>\u001b[0m in \u001b[0;36m<module>\u001b[0;34m\u001b[0m\n\u001b[0;32m----> 1\u001b[0;31m \u001b[0mprint\u001b[0m\u001b[0;34m(\u001b[0m\u001b[0;34mf'{automl_best_run.model_id}'\u001b[0m\u001b[0;34m)\u001b[0m\u001b[0;34m\u001b[0m\u001b[0;34m\u001b[0m\u001b[0m\n\u001b[0m",
            "\u001b[0;31mAttributeError\u001b[0m: 'Run' object has no attribute 'model_id'"
          ]
        }
      ]
    },
    {
      "cell_type": "code",
      "metadata": {
        "jupyter": {
          "source_hidden": false,
          "outputs_hidden": false
        },
        "nteract": {
          "transient": {
            "deleting": false
          }
        },
        "gather": {
          "logged": 1635434578775
        },
        "id": "v_DoPDlFNMY-",
        "outputId": "8be04006-5da6-4c91-f457-2875e9c4778c"
      },
      "source": [
        "type(automl_run)"
      ],
      "execution_count": null,
      "outputs": [
        {
          "output_type": "execute_result",
          "execution_count": 53,
          "data": {
            "text/plain": "azureml.train.automl.run.AutoMLRun"
          },
          "metadata": {}
        }
      ]
    },
    {
      "cell_type": "code",
      "metadata": {
        "jupyter": {
          "source_hidden": false,
          "outputs_hidden": false
        },
        "nteract": {
          "transient": {
            "deleting": false
          }
        },
        "gather": {
          "logged": 1635434690326
        },
        "id": "gxaQkASwNMY_"
      },
      "source": [
        "#Model(workspace, name=None, id=None, tags=None, properties=None, version=None, run_id=None, model_framework=None, expand=True, **kwargs)\n",
        "retrieved_model = Model(workspace=ws, name='wine-taste-automl-2')"
      ],
      "execution_count": null,
      "outputs": []
    },
    {
      "cell_type": "code",
      "metadata": {
        "jupyter": {
          "source_hidden": false,
          "outputs_hidden": false
        },
        "nteract": {
          "transient": {
            "deleting": false
          }
        },
        "gather": {
          "logged": 1635125767305
        },
        "id": "A-FuIr-SNMZA"
      },
      "source": [
        "curated_env = Environment.get(workspace=ws, name=c_constants.CURATED_ENV_NAME)\n",
        "\n",
        "# Save the curated environment\n",
        "curated_env.save_to_directory(path=c_constants.ENV_DIR, overwrite=True)\n"
      ],
      "execution_count": null,
      "outputs": []
    },
    {
      "cell_type": "code",
      "metadata": {
        "jupyter": {
          "source_hidden": false,
          "outputs_hidden": false
        },
        "nteract": {
          "transient": {
            "deleting": false
          }
        },
        "id": "W6p9803yNMZA"
      },
      "source": [
        ""
      ],
      "execution_count": null,
      "outputs": []
    },
    {
      "cell_type": "code",
      "metadata": {
        "jupyter": {
          "source_hidden": false,
          "outputs_hidden": false
        },
        "nteract": {
          "transient": {
            "deleting": false
          }
        },
        "gather": {
          "logged": 1635435114357
        },
        "id": "t3QpRDuCNMZA"
      },
      "source": [
        "# Create an inference config\n",
        "\n",
        "inference_config = InferenceConfig(\n",
        "    environment=Environment.from_conda_specification(name='myenv', file_path=os.path.join('output', 'best_run_env.yml')),\n",
        "    source_directory='output',\n",
        "    entry_script=c_constants.INFERENCE_SCORING_SCRIPT,\n",
        ")\n",
        "\n",
        "aci_config = AciWebservice.deploy_configuration(cpu_cores=1, memory_gb=1)\n"
      ],
      "execution_count": null,
      "outputs": []
    },
    {
      "cell_type": "code",
      "metadata": {
        "gather": {
          "logged": 1635122866252
        },
        "jupyter": {
          "outputs_hidden": false,
          "source_hidden": false
        },
        "nteract": {
          "transient": {
            "deleting": false
          }
        },
        "id": "Jnovv2OXDIzQ",
        "outputId": "9e1a087f-2c31-4ec0-9ef3-a02a68f245a0"
      },
      "source": [
        "\n",
        "service = Model.deploy(workspace=ws,\n",
        "                       name=c_constants.DEPLOYED_SERVICE,\n",
        "                       models=[retrieved_model],\n",
        "                       inference_config=inference_config,\n",
        "                       deployment_config=aci_config,\n",
        "                       overwrite=True)\n",
        "service.wait_for_deployment(show_output=True)\n",
        "\n"
      ],
      "execution_count": null,
      "outputs": [
        {
          "output_type": "stream",
          "name": "stdout",
          "text": "Tips: You can try get_logs(): https://aka.ms/debugimage#dockerlog or local deployment: https://aka.ms/debugimage#debug-locally to debug if deployment takes longer than 10 minutes.\nRunning\n2021-10-28 15:33:13+00:00 Creating Container Registry if not exists."
        }
      ]
    },
    {
      "cell_type": "code",
      "metadata": {
        "jupyter": {
          "source_hidden": false,
          "outputs_hidden": false
        },
        "nteract": {
          "transient": {
            "deleting": false
          }
        },
        "gather": {
          "logged": 1635120119986
        },
        "id": "CN5yjDX1NMZB"
      },
      "source": [
        "logs = service.get_logs()\n",
        "\n",
        "for line in logs.split('\\n'):\n",
        "    print(line)\n"
      ],
      "execution_count": null,
      "outputs": []
    },
    {
      "cell_type": "markdown",
      "metadata": {
        "collapsed": true,
        "gather": {
          "logged": 1598431657736
        },
        "jupyter": {
          "outputs_hidden": false,
          "source_hidden": false
        },
        "nteract": {
          "transient": {
            "deleting": false
          }
        },
        "id": "8KBf-4m2DIzR"
      },
      "source": [
        "TODO: In the cell below, send a request to the web service you deployed to test it."
      ]
    },
    {
      "cell_type": "code",
      "metadata": {
        "gather": {
          "logged": 1598432707604
        },
        "jupyter": {
          "outputs_hidden": false,
          "source_hidden": false
        },
        "nteract": {
          "transient": {
            "deleting": false
          }
        },
        "id": "dJNveHvSDIzR"
      },
      "source": [
        "# To enable ApplicationInsights on the service (webservice), \n",
        "# * first access the endpoint using the name assigned at the time of deployment\n",
        "# * next update webservice parameters such as enabling application insights (enable_app_insights)\n",
        "\n",
        "webservice = Webservice(\n",
        "    workspace = ws,\n",
        "    name=c_constants.DEPLOYED_SERVICE\n",
        ")\n",
        "\n",
        "webservice.update(\n",
        "    enable_app_insights=True\n",
        ")\n",
        "\n",
        "# At this point application insights (logging is enabled) and can be\n",
        "# checked in the GUI in AutoML studio"
      ],
      "execution_count": null,
      "outputs": []
    },
    {
      "cell_type": "code",
      "metadata": {
        "id": "la5hi2gjwGg9"
      },
      "source": [
        "# URL for the web service, should be similar to:\n",
        "# 'http://8530a665-66f3-49c8-a953-b82a2d312917.eastus.azurecontainer.io/score'\n",
        "\n",
        "# From the tail end of the code at\n",
        "# https://docs.microsoft.com/en-us/azure/machine-learning/how-to-deploy-and-where?tabs=python\n",
        "# - Deploy machine learning models to Azure\n",
        "\n",
        "\n",
        "scoring_uri = webservice.scoring_uri\n",
        "\n",
        "# If the service is authenticated, set the key or token\n",
        "key, _ = webservice.get_keys()\n",
        "\n",
        "# Set the appropriate headers\n",
        "headers = {\"Content-Type\": \"application/json\"}\n",
        "headers[\"Authorization\"] = f\"Bearer {key}\"\n",
        "\n",
        "\n",
        "\n",
        "# fixed ac\t   volatile ac\tcitric acid\t  residual sugar\tchlorides\t  free sulfurdi\ttotal sulfurdi\tdensity\t       pH\t        sulphates\t    alcohol\tquality\t\t\n",
        "# 0.883090875\t0.3150853064\t-0.5304215055\t-0.1166025484\t-0.447289012\t-0.7237011554\t-0.6908704601\t-0.01249670459\t1.004852702\t0.4394546089\t0.3947056997\t0\t\t\n",
        "# 0.7645889612\t1.307202455\t-0.8609459206\t1.657825186\t0.3765862299\t-0.4297069397\t0.8386109571\t1.655893566\t-0.05474573919\t0.001341709573\t-0.6616718988\t0\t\t\n",
        "\n",
        "\n",
        "\n",
        "\n",
        "# Two sets of data to score, so we get two results back\n",
        "# data = {\"data\":\n",
        "#         [\n",
        "#           {\n",
        "#             \"fixed acidity\": 0.883090875,\n",
        "#             \"volatile acidity\": \"0.3150853064\",\n",
        "#             \"citric acid\": \"-0.5304215055\",\n",
        "#             \"residual sugar\": \"-0.1166025484\",\n",
        "#             \"chlorides\": \"-0.447289012\",\n",
        "#             \"free sulfur dioxide\": \"-0.7237011554\",\n",
        "#             \"total sulfur dioxide\": \"-0.6908704601\",\n",
        "#             \"density\": \"-0.01249670459\",\n",
        "#             \"pH\": \"1.004852702\",\n",
        "#             \"sulphates\": \"0.4394546089\",\n",
        "#             \"alcohol\": 0.3947056997,\n",
        "#           },\n",
        "#           {\n",
        "#             \"fixed acidity\": 0.7645889612,\n",
        "#             \"volatile acidity\": \"1.307202455\",\n",
        "#             \"citric acid\": \"-0.8609459206\",\n",
        "#             \"residual sugar\": \"1.657825186\",\n",
        "#             \"chlorides\": \"0.3765862299\",\n",
        "#             \"free sulfur dioxide\": \"-0.4297069397\",\n",
        "#             \"total sulfur dioxide\": \"0.8386109571\",\n",
        "#             \"density\": \"1.655893566\",\n",
        "#             \"pH\": \"-0.05474573919\",\n",
        "#             \"sulphates\": \"0.001341709573\",\n",
        "#             \"alcohol\": 0.3947056997,\n",
        "#           },\n",
        "#       ]\n",
        "#     }\n",
        "\n",
        "\n",
        "data = {\"data\":\n",
        "        [\n",
        "          [\n",
        "           0.883090875,\n",
        "           0.3150853064,\n",
        "          -0.5304215055,\n",
        "          -0.1166025484,\n",
        "          -0.447289012,\n",
        "          -0.7237011554,\n",
        "          -0.6908704601,\n",
        "          -0.01249670459,\n",
        "          1.004852702,\n",
        "          0.4394546089,\n",
        "          0.3947056997\n",
        "          ],\n",
        "          [\n",
        "          0.7645889612,\n",
        "          1.307202455,\n",
        "          -0.8609459206,\n",
        "          1.657825186,\n",
        "          0.3765862299,\n",
        "          -0.4297069397,\n",
        "          0.8386109571,\n",
        "          1.655893566,\n",
        "          -0.05474573919,\n",
        "          0.001341709573,\n",
        "          0.3947056997\n",
        "          ]\n",
        "        ]\n",
        "    }\n",
        "\n",
        "# Convert to JSON string\n",
        "input_data = json.dumps(data)\n",
        "\n",
        "# Set the content type\n",
        "headers = {'Content-Type': 'application/json'}\n",
        "# If authentication is enabled, set the authorization header\n",
        "headers['Authorization'] = f'Bearer {key}'\n",
        "\n",
        "# Make the request and display the response\n",
        "resp = requests.post(scoring_uri, input_data, headers=headers)\n",
        "print(resp.json())"
      ],
      "execution_count": null,
      "outputs": []
    },
    {
      "cell_type": "markdown",
      "metadata": {
        "collapsed": true,
        "gather": {
          "logged": 1598432765711
        },
        "jupyter": {
          "outputs_hidden": false,
          "source_hidden": false
        },
        "nteract": {
          "transient": {
            "deleting": false
          }
        },
        "id": "QkENqomcDIzR"
      },
      "source": [
        "TODO: In the cell below, print the logs of the web service and delete the service"
      ]
    },
    {
      "cell_type": "code",
      "metadata": {
        "jupyter": {
          "outputs_hidden": false,
          "source_hidden": false
        },
        "nteract": {
          "transient": {
            "deleting": false
          }
        },
        "id": "1trRJIbbDIzS"
      },
      "source": [
        "logs = webservice.get_logs()\n",
        "\n",
        "for line in logs.split('\\n'):\n",
        "    print(line)\n",
        "\n"
      ],
      "execution_count": null,
      "outputs": []
    },
    {
      "cell_type": "code",
      "metadata": {
        "id": "PhRicHU1gkEM"
      },
      "source": [
        "# Clean up any resources\n",
        "# Delete the Webservice\n",
        "# delete the compute cluster\n",
        "\n",
        "webservice.delete()\n",
        "cc.delete()"
      ],
      "execution_count": null,
      "outputs": []
    },
    {
      "cell_type": "markdown",
      "metadata": {
        "id": "MLk4oZDIDIzS"
      },
      "source": [
        "**Submission Checklist**\n",
        "- I have registered the model.\n",
        "- I have deployed the model with the best accuracy as a webservice.\n",
        "- I have tested the webservice by sending a request to the model endpoint.\n",
        "- I have deleted the webservice and shutdown all the computes that I have used.\n",
        "- I have taken a screenshot showing the model endpoint as active.\n",
        "- The project includes a file containing the environment details.\n"
      ]
    },
    {
      "cell_type": "markdown",
      "metadata": {
        "id": "UqcD2kWygoY1"
      },
      "source": [
        ""
      ]
    },
    {
      "cell_type": "markdown",
      "metadata": {
        "id": "KaRTmB9VDIzT"
      },
      "source": [
        ""
      ]
    }
  ]
}