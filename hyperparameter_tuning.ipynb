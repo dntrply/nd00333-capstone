{
  "nbformat": 4,
  "nbformat_minor": 0,
  "metadata": {
    "kernel_info": {
      "name": "python3-azureml"
    },
    "kernelspec": {
      "display_name": "Python 3",
      "language": "python",
      "name": "python3"
    },
    "language_info": {
      "codemirror_mode": {
        "name": "ipython",
        "version": 3
      },
      "file_extension": ".py",
      "mimetype": "text/x-python",
      "name": "python",
      "nbconvert_exporter": "python",
      "pygments_lexer": "ipython3",
      "version": "3.6.5"
    },
    "nteract": {
      "version": "nteract-front-end@1.0.0"
    },
    "colab": {
      "name": "Copy of hyperparameter_tuning.ipynb",
      "provenance": []
    }
  },
  "cells": [
    {
      "cell_type": "markdown",
      "metadata": {
        "id": "xo_TRIz7OT6C"
      },
      "source": [
        "# Hyperparameter Tuning using HyperDrive\n",
        "\n",
        "TODO: Import Dependencies. In the cell below, import all the dependencies that you will need to complete the project."
      ]
    },
    {
      "cell_type": "code",
      "metadata": {
        "gather": {
          "logged": 1598531914256
        },
        "id": "Su98MuqlOT6H"
      },
      "source": [
        "from azureml.data.dataset_factory import TabularDatasetFactory\n",
        "\n",
        "from azureml.core import Workspace\n",
        "from azureml.core import Experiment\n",
        "from azureml.core.compute import ComputeTarget, AmlCompute\n",
        "from azureml.exceptions import ComputeTargetException\n",
        "\n",
        "from azureml.core.environment import Environment\n",
        "from azureml.core import ScriptRunConfig\n",
        "\n",
        "from azureml.train.hyperdrive.parameter_expressions import normal, choice\n",
        "\n",
        "from azureml.widgets import RunDetails\n",
        "from azureml.train.sklearn import SKLearn\n",
        "from azureml.train.hyperdrive.run import PrimaryMetricGoal\n",
        "from azureml.train.hyperdrive.policy import BanditPolicy\n",
        "from azureml.train.hyperdrive.sampling import RandomParameterSampling\n",
        "from azureml.train.hyperdrive.runconfig import HyperDriveConfig\n",
        "from azureml.train.hyperdrive.parameter_expressions import uniform\n",
        "import os\n",
        "import joblib"
      ],
      "execution_count": null,
      "outputs": []
    },
    {
      "cell_type": "code",
      "metadata": {
        "id": "tRE29Q7FQWB9"
      },
      "source": [
        "CAPSTONE_EXPERIMENT_NAME_HYPER = 'exp-capstone-hyper'\n",
        "CAPSTONE_DATASET_NAME = 'White Wine Data'\n",
        "CAPSTONE_TABULAR_WINE_DATA = 'https://automlsamplenotebookdata.blob.core.windows.net/automl-sample-notebook-data/winequality-white.csv'\n",
        "CAPSTONE_DEPLOYED_HYPER_MODEL_NAME = 'wine-taste-hyper'\n",
        "CAPSTONE_DEPLOYED_HYPER_MODEL_PATH = './outputs/best_run_hyperdrive.pkl' \n",
        "\n",
        "TRAIN_DATA_DIR = './train_norm_data'\n",
        "TRAIN_DATA_FILE = 'train_norm.csv'\n",
        "TRAIN_NORM_INFO_FILE = 'norm.csv'\n",
        "\n",
        "cc_name = \"CPU-CC-HYPER\"  # CPU Compute Cluster\n",
        "curated_env_name = 'AzureML-Tutorial'\n",
        "\n"
      ],
      "execution_count": null,
      "outputs": []
    },
    {
      "cell_type": "markdown",
      "metadata": {
        "id": "InAdryrnOT6I"
      },
      "source": [
        "## Dataset\n",
        "\n",
        "TODO: Get data. In the cell below, write code to access the data you will be using in this project. Remember that the dataset needs to be external."
      ]
    },
    {
      "cell_type": "code",
      "metadata": {
        "gather": {
          "logged": 1598531917374
        },
        "jupyter": {
          "outputs_hidden": false,
          "source_hidden": false
        },
        "nteract": {
          "transient": {
            "deleting": false
          }
        },
        "id": "ZvkxoBXbOT6J"
      },
      "source": [
        "ws = Workspace.from_config()\n",
        "experiment_name = CAPSTONE_EXPERIMENT_NAME_HYPER\n",
        "\n",
        "experiment=Experiment(ws, experiment_name)\n",
        "\n",
        "print('Workspace name: ' + ws.name, \n",
        "      'Azure region: ' + ws.location, \n",
        "      'Subscription id: ' + ws.subscription_id, \n",
        "      'Resource group: ' + ws.resource_group, sep = '\\n')\n",
        "\n",
        "run = exp.start_logging()\n",
        "\n",
        "\n",
        "\n",
        "\n",
        "# Use vm_size = \"Standard_D2_V2\" in your provisioning configuration.\n",
        "# max_nodes should be no greater than 4.\n",
        "\n",
        "\n",
        "# Use https://docs.microsoft.com/en-us/python/api/azureml-core/azureml.core.compute.computetarget?view=azure-ml-py as a reference\n",
        "#\n",
        "# Name the cluster GPUCluster\n",
        "cluster_name = cc_name\n",
        "\n",
        "# See if it already exists\n",
        "# this ofcourse helps if you are reunning the notebook from teh start and do not\n",
        "# need to recreate the compute cluster\n",
        "try:\n",
        "    compute_cluster = ComputeTarget(ws, cluster_name)\n",
        "    # No exception thrown - Found it - use it below\n",
        "except ComputeTargetException:\n",
        "    # Did not find the compute target - will need to create one\n",
        "    # Specify the compute cluster configuration first\n",
        "    # See https://docs.microsoft.com/en-us/azure/machine-learning/concept-compute-target\n",
        "    # and after clicking on Dv2\n",
        "    # see https://docs.microsoft.com/en-us/azure/machine-learning/concept-compute-target\n",
        "\n",
        "    # CPU cluster instance - from the Microsoft recommended options\n",
        "    cluster_config = AmlCompute.provisioning_configuration(vm_size = 'Standard_DS3_v2',\n",
        "                                                            max_nodes=4,\n",
        "                                                            description='CPU Compute Cluster created programatically')\n",
        "\n",
        "    # Next, create the cluster\n",
        "    compute_cluster = ComputeTarget.create(ws, cluster_name, cluster_config)\n",
        "\n",
        "# We have a compute cluster - either newly created - or created earlier\n",
        "# We may wait for the create operation to complete\n",
        "compute_cluster.wait_for_completion(show_output=True)\n",
        "\n",
        "\n",
        "\n",
        "\n",
        "\n",
        "\n",
        "# Create TabularDataset using TabularDatasetFactory\n",
        "\n",
        "# Create the Azure ML dataset from the preferred source\n",
        "# Note that thsi source is the same as used in train.py\n",
        "# grab the data and create a dataset\n",
        "# See if the dataset already exists - if so, skip the Dataset creation pieces\n",
        "data_uri = CAPSTONE_TABULAR_WINE_DATA\n",
        "\n",
        "ds_name = CAPSTONE_DATASET_NAME\n",
        "dsets = ws.datasets.keys()\n",
        "\n",
        "if ds_name in dsets:\n",
        "    # dataset exists\n",
        "    train_ds = dsets[ds_name]\n",
        "else:\n",
        "    # Data set not found. Must create it\n",
        "    # This is the original white wine data - not normalized\n",
        "    # We will normalize the data and then create a dataset that\n",
        "    # then will continue to be used\n",
        "    ds = TabularDatasetFactory.from_delimited_files(data_uri)\n",
        "    \n",
        "    X, y, norm_df = clean_data(ds)\n",
        "    \n",
        "    # Split the data into train/test sets\n",
        "    # Note that the training data would be used for AutoML; \n",
        "    # the test data is not put to use in this project\n",
        "    X_train, _, y_train, _ = train_test_split(X, y, test_size=0.2)\n",
        "    \n",
        "    # Add x and y together\n",
        "    # save the new df to disk as a csv\n",
        "    # Upload to a datastore\n",
        "    # load from datastore as an Azure TabularDataSet\n",
        "    \n",
        "    # Concat two pandas dataframes togethere\n",
        "    train_data = pd.concat([X_train, y_train], axis=1)\n",
        "    \n",
        "    # From here on - X_train contains both input + output\n",
        "    \n",
        "    # save and reload the clean data so that Azure ML can use it\n",
        "    # See https://stackoverflow.com/questions/60380154/upload-dataframe-as-dataset-in-azure-machine-learning\n",
        "    \n",
        "    # To be able to load to datastore - the data needs to be in a folder.\n",
        "    # Thus first create the directory if it does not exist\n",
        "    file_path = os.path.join(TRAIN_DATA_DIR, TRAIN_DATA_FILE)\n",
        "    norm_file_path = os.path.join(TRAIN_DATA_DIR, TRAIN_NORM_INFO_FILE)\n",
        "    if TRAIN_DATA_DIR not in os.listdir():\n",
        "      os.mkdir(os.path.join('.', TRAIN_DATA_DIR))\n",
        "    else:\n",
        "      # delete contents of directory\n",
        "      os.remove(file_path)\n",
        "      os.remove(norm_file_path)\n",
        "      \n",
        "    # now save the training data to disk\n",
        "    train_data.to_csv(file_path)\n",
        "    norm_df.to_csv(norm_file_path)\n",
        "    \n",
        "    # upload the file to the default datastore\n",
        "    datastore = ws.get_default_datastore()\n",
        "    datastore.upload(src_dir=TRAIN_DATA_DIR, target_path=TRAIN_DATA_DIR, overwrite=True)\n",
        "\n",
        "    # Now Create the training dataset \n",
        "    train_ds = TabularDatasetFactory.from_delimited_files(datastore.path(file_path))\n",
        "    \n",
        "    # Register the dataset so that on repeated runs, the data does not have to be fetched evey time\n",
        "    train_ds = train_ds.register(workspace=ws, name=ds_name, description=CAPSTONE_DATASET_DESCRIPTION)\n",
        "    \n",
        "# Take a peek at the data by converting the same to a Pandas dataframe\n",
        "train_df = train_ds.to_pandas_dataframe()\n",
        "    \n",
        "# print the data\n",
        "train_df"
      ],
      "execution_count": null,
      "outputs": []
    },
    {
      "cell_type": "markdown",
      "metadata": {
        "collapsed": true,
        "gather": {
          "logged": 1598531923519
        },
        "jupyter": {
          "outputs_hidden": false,
          "source_hidden": false
        },
        "nteract": {
          "transient": {
            "deleting": false
          }
        },
        "id": "ZbnUyadYOT6K"
      },
      "source": [
        "## Hyperdrive Configuration\n",
        "\n",
        "TODO: Explain the model you are using and the reason for chosing the different hyperparameters, termination policy and config settings."
      ]
    },
    {
      "cell_type": "code",
      "metadata": {
        "gather": {
          "logged": 1598544893076
        },
        "jupyter": {
          "outputs_hidden": false,
          "source_hidden": false
        },
        "nteract": {
          "transient": {
            "deleting": false
          }
        },
        "id": "oxw3BGmaOT6L"
      },
      "source": [
        "# BanditPolicy is a type of EarlyTerminationPolicy\n",
        "# More info can be found at \n",
        "# https://docs.microsoft.com/en-us/python/api/azureml-train-core/azureml.train.hyperdrive.banditpolicy?view=azure-ml-py\n",
        "\n",
        "# TODO: Create an early termination policy. This is not required if you are using Bayesian sampling.\n",
        "early_termination_policy = BanditPolicy(evaluation_interval=2, slack_factor=0.1, delay_evaluation=5\n",
        "\n",
        "# from train.py - we know that the parameters are --C and --max_iter\n",
        "# train.py uses the scikit-learn LogisticRegression model\n",
        "\n",
        "# Create the different params that you will be using during training\n",
        "param_sampling = RandomParameterSampling({\n",
        "    \"--C\": choice(0.001, 0.01, 0.1, 1, 10),\n",
        "    \"--max_iter\": choice(50, 100, 200, 300, 400),\n",
        "})\n",
        "\n",
        "\n",
        "# We need to specify/provide an environment\n",
        "# We could create our own environment with corresponding yaml file\n",
        "# We may also provide an environment 'out-of-the-box' from one of the many environments provided\n",
        "\n",
        "curated_env = Environment.get(workspace=ws, name=curated_env_name)\n",
        "\n",
        "# SKLearn is deprecated - instead we specity the run configuration using ScriptRunConfig\n",
        "# It is necessary to pass the directory, the python script, the compute cluster and the environment\n",
        "\n",
        "#TODO: Create your estimator and hyperdrive config\n",
        "# estimator = <your estimator here>\n",
        "\n",
        "\n",
        "run_config = ScriptRunConfig(\n",
        "    source_directory=\".\",\n",
        "    script=\"train.py\",\n",
        "    compute_target=compute_cluster,\n",
        "    environment=curated_env,\n",
        ")\n",
        "\n",
        "\n",
        "# Create a HyperDriveConfig using the estimator, hyperparameter sampler, and policy.\n",
        "# hyperdrive_config = ### YOUR CODE HERE ###\n",
        "hyperdrive_run_config = HyperDriveConfig(\n",
        "    hyperparameter_sampling=ps,\n",
        "    policy=policy,\n",
        "    run_config=run_config,\n",
        "    primary_metric_name='Accuracy',\n",
        "    primary_metric_goal=PrimaryMetricGoal.MAXIMIZE,\n",
        "    max_total_runs=20,\n",
        ")"
      ],
      "execution_count": null,
      "outputs": []
    },
    {
      "cell_type": "code",
      "metadata": {
        "gather": {
          "logged": 1598544897941
        },
        "jupyter": {
          "outputs_hidden": false,
          "source_hidden": false
        },
        "nteract": {
          "transient": {
            "deleting": false
          }
        },
        "id": "fhvlrU1JOT6L"
      },
      "source": [
        "#TODO: Submit your experiment\n",
        "\n",
        "hyperdrive_run = exp.submit(config=hyperdrive_config)\n"
      ],
      "execution_count": null,
      "outputs": []
    },
    {
      "cell_type": "markdown",
      "metadata": {
        "collapsed": true,
        "gather": {
          "logged": 1598544898497
        },
        "jupyter": {
          "outputs_hidden": false,
          "source_hidden": false
        },
        "nteract": {
          "transient": {
            "deleting": false
          }
        },
        "id": "X0EMeuREOT6N"
      },
      "source": [
        "## Run Details\n",
        "\n",
        "OPTIONAL: Write about the different models trained and their performance. Why do you think some models did better than others?\n",
        "\n",
        "TODO: In the cell below, use the `RunDetails` widget to show the different experiments."
      ]
    },
    {
      "cell_type": "code",
      "metadata": {
        "gather": {
          "logged": 1598546648408
        },
        "jupyter": {
          "outputs_hidden": false,
          "source_hidden": false
        },
        "nteract": {
          "transient": {
            "deleting": false
          }
        },
        "id": "tp3XaSdyOT6N"
      },
      "source": [
        "RunDetails(hyperdrive_run).show()\n",
        "hyperdrive_run.wait_for_completion(show_output=True)\n",
        "assert(hyperdrive_run.get_status() == \"Completed\")\n"
      ],
      "execution_count": null,
      "outputs": []
    },
    {
      "cell_type": "markdown",
      "metadata": {
        "id": "rPzZ7wuJOT6O"
      },
      "source": [
        "## Best Model\n",
        "\n",
        "TODO: In the cell below, get the best model from the hyperdrive experiments and display all the properties of the model."
      ]
    },
    {
      "cell_type": "code",
      "metadata": {
        "gather": {
          "logged": 1598546650307
        },
        "jupyter": {
          "outputs_hidden": false,
          "source_hidden": false
        },
        "nteract": {
          "transient": {
            "deleting": false
          }
        },
        "id": "1tLBbidIOT6P"
      },
      "source": [
        "# Get your best run and save the model from that run.\n",
        "\n",
        "\n",
        "### YOUR CODE HERE ###\n",
        "best_hyperdrive_run = hyperdrive_run.get_best_run_by_primary_metric()\n",
        "\n",
        "# Get the model hyperparameter values corresponding to the best run\n",
        "print(f'********** {best_hyperdrive_run.get_details()[\"runDefinition\"][\"arguments\"]}')\n",
        "# print(best_hyperdrive_run.get_details())\n",
        "\n",
        "# Get the accuracy corresponsding to the best run\n",
        "print(f'********** Best HyperDrive run Accuracy: {best_hyperdrive_run.get_metrics()[\"Accuracy\"]}')"
      ],
      "execution_count": null,
      "outputs": []
    },
    {
      "cell_type": "code",
      "metadata": {
        "gather": {
          "logged": 1598546657829
        },
        "jupyter": {
          "outputs_hidden": false,
          "source_hidden": false
        },
        "nteract": {
          "transient": {
            "deleting": false
          }
        },
        "id": "Yd3SEtu8OT6P"
      },
      "source": [
        "#TODO: Save the best model\n",
        "# Save and download the model\n",
        "print(f'The file name for the model is: {best_hyperdrive_run.get_file_names()[-1]}')\n",
        "\n",
        "# download the file in the notebook context. In this case, under Users/**user**/outputs/\n",
        "best_hyperdrive_run.download_file(name=best_hyperdrive_run.get_file_names()[-1], output_file_path=CAPSTONE_DEPLOYED_MODEL_PATH)"
      ],
      "execution_count": null,
      "outputs": []
    },
    {
      "cell_type": "markdown",
      "metadata": {
        "collapsed": true,
        "jupyter": {
          "outputs_hidden": false,
          "source_hidden": false
        },
        "nteract": {
          "transient": {
            "deleting": false
          }
        },
        "id": "MX3IpMQcOT6P"
      },
      "source": [
        "## Model Deployment\n",
        "\n",
        "Remember you have to deploy only one of the two models you trained but you still need to register both the models. Perform the steps in the rest of this notebook only if you wish to deploy this model.\n",
        "\n",
        "TODO: In the cell below, register the model, create an inference config and deploy the model as a web service."
      ]
    },
    {
      "cell_type": "code",
      "metadata": {
        "id": "GGtf72kNOT6Q"
      },
      "source": [
        "model = best_hyperdrive_run.register_model(model_name=CAPSTONE_DEPLOYED_HYPER_MODEL_NAME, \n",
        "                                           model_path = CAPSTONE_DEPLOYED_HYPER_MODEL_PATH)"
      ],
      "execution_count": null,
      "outputs": []
    },
    {
      "cell_type": "markdown",
      "metadata": {
        "id": "-Z1p52eVOT6Q"
      },
      "source": [
        "TODO: In the cell below, send a request to the web service you deployed to test it."
      ]
    },
    {
      "cell_type": "code",
      "metadata": {
        "id": "QnDh2tZIOT6Q"
      },
      "source": [
        ""
      ],
      "execution_count": null,
      "outputs": []
    },
    {
      "cell_type": "markdown",
      "metadata": {
        "id": "7SN53GqcOT6R"
      },
      "source": [
        "TODO: In the cell below, print the logs of the web service and delete the service"
      ]
    },
    {
      "cell_type": "code",
      "metadata": {
        "id": "PvK8gSQpOT6R"
      },
      "source": [
        ""
      ],
      "execution_count": null,
      "outputs": []
    },
    {
      "cell_type": "markdown",
      "metadata": {
        "id": "bR4ljClFOT6R"
      },
      "source": [
        "**Submission Checklist**\n",
        "- I have registered the model.\n",
        "- I have deployed the model with the best accuracy as a webservice.\n",
        "- I have tested the webservice by sending a request to the model endpoint.\n",
        "- I have deleted the webservice and shutdown all the computes that I have used.\n",
        "- I have taken a screenshot showing the model endpoint as active.\n",
        "- The project includes a file containing the environment details.\n",
        "\n"
      ]
    },
    {
      "cell_type": "markdown",
      "metadata": {
        "id": "CtWY3p7oOT6R"
      },
      "source": [
        ""
      ]
    }
  ]
}