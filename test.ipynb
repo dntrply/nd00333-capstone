{
  "cells": [
    {
      "cell_type": "code",
      "source": [
        "from azureml.data.dataset_factory import TabularDatasetFactory\r\n",
        "import pandas as pd\r\n",
        "\r\n",
        "import os\r\n",
        "\r\n",
        "from train import clean_data, get_dataset\r\n",
        "\r\n",
        "from sklearn.model_selection import train_test_split\r\n",
        "import pandas as pd\r\n",
        "\r\n",
        "import capstone_constants as c_constants"
      ],
      "outputs": [
        {
          "output_type": "error",
          "ename": "ImportError",
          "evalue": "cannot import name 'get_dataset'",
          "traceback": [
            "\u001b[0;31m---------------------------------------------------------------------------\u001b[0m",
            "\u001b[0;31mImportError\u001b[0m                               Traceback (most recent call last)",
            "\u001b[0;32m<ipython-input-1-2c912733a157>\u001b[0m in \u001b[0;36m<module>\u001b[0;34m\u001b[0m\n\u001b[1;32m      4\u001b[0m \u001b[0;32mimport\u001b[0m \u001b[0mos\u001b[0m\u001b[0;34m\u001b[0m\u001b[0;34m\u001b[0m\u001b[0m\n\u001b[1;32m      5\u001b[0m \u001b[0;34m\u001b[0m\u001b[0m\n\u001b[0;32m----> 6\u001b[0;31m \u001b[0;32mfrom\u001b[0m \u001b[0mtrain\u001b[0m \u001b[0;32mimport\u001b[0m \u001b[0mclean_data\u001b[0m\u001b[0;34m,\u001b[0m \u001b[0mget_dataset\u001b[0m\u001b[0;34m\u001b[0m\u001b[0;34m\u001b[0m\u001b[0m\n\u001b[0m\u001b[1;32m      7\u001b[0m \u001b[0;34m\u001b[0m\u001b[0m\n\u001b[1;32m      8\u001b[0m \u001b[0;32mfrom\u001b[0m \u001b[0msklearn\u001b[0m\u001b[0;34m.\u001b[0m\u001b[0mmodel_selection\u001b[0m \u001b[0;32mimport\u001b[0m \u001b[0mtrain_test_split\u001b[0m\u001b[0;34m\u001b[0m\u001b[0;34m\u001b[0m\u001b[0m\n",
            "\u001b[0;31mImportError\u001b[0m: cannot import name 'get_dataset'"
          ]
        }
      ],
      "execution_count": 1,
      "metadata": {
        "gather": {
          "logged": 1634513415133
        }
      }
    },
    {
      "cell_type": "code",
      "source": [
        "CAPSTONE_TABULAR_WINE_DATA = 'https://archive.ics.uci.edu/ml/machine-learning-databases/wine-quality/winequality-white.csv'\r\n"
      ],
      "outputs": [],
      "execution_count": 2,
      "metadata": {
        "jupyter": {
          "source_hidden": false,
          "outputs_hidden": false
        },
        "nteract": {
          "transient": {
            "deleting": false
          }
        },
        "gather": {
          "logged": 1634511935231
        }
      }
    },
    {
      "cell_type": "code",
      "source": [
        "    ds = TabularDatasetFactory.from_delimited_files(CAPSTONE_TABULAR_WINE_DATA, separator=';')\r\n"
      ],
      "outputs": [],
      "execution_count": 8,
      "metadata": {
        "jupyter": {
          "source_hidden": false,
          "outputs_hidden": false
        },
        "nteract": {
          "transient": {
            "deleting": false
          }
        },
        "gather": {
          "logged": 1634512054600
        }
      }
    },
    {
      "cell_type": "code",
      "source": [
        "ds"
      ],
      "outputs": [
        {
          "output_type": "execute_result",
          "execution_count": 9,
          "data": {
            "text/plain": "{\n  \"source\": [\n    \"https://archive.ics.uci.edu/ml/machine-learning-databases/wine-quality/winequality-white.csv\"\n  ],\n  \"definition\": [\n    \"GetFiles\",\n    \"ParseDelimited\",\n    \"DropColumns\",\n    \"SetColumnTypes\"\n  ]\n}"
          },
          "metadata": {}
        }
      ],
      "execution_count": 9,
      "metadata": {
        "jupyter": {
          "source_hidden": false,
          "outputs_hidden": false
        },
        "nteract": {
          "transient": {
            "deleting": false
          }
        },
        "gather": {
          "logged": 1634512054788
        }
      }
    },
    {
      "cell_type": "code",
      "source": [
        "df = ds.to_pandas_dataframe()"
      ],
      "outputs": [],
      "execution_count": 10,
      "metadata": {
        "jupyter": {
          "source_hidden": false,
          "outputs_hidden": false
        },
        "nteract": {
          "transient": {
            "deleting": false
          }
        },
        "gather": {
          "logged": 1634512056615
        }
      }
    },
    {
      "cell_type": "code",
      "source": [
        "df"
      ],
      "outputs": [
        {
          "output_type": "execute_result",
          "execution_count": 11,
          "data": {
            "text/plain": "      fixed acidity  volatile acidity  citric acid  residual sugar  chlorides  \\\n0               7.0              0.27         0.36            20.7      0.045   \n1               6.3              0.30         0.34             1.6      0.049   \n2               8.1              0.28         0.40             6.9      0.050   \n3               7.2              0.23         0.32             8.5      0.058   \n4               7.2              0.23         0.32             8.5      0.058   \n...             ...               ...          ...             ...        ...   \n4893            6.2              0.21         0.29             1.6      0.039   \n4894            6.6              0.32         0.36             8.0      0.047   \n4895            6.5              0.24         0.19             1.2      0.041   \n4896            5.5              0.29         0.30             1.1      0.022   \n4897            6.0              0.21         0.38             0.8      0.020   \n\n      free sulfur dioxide  total sulfur dioxide  density    pH  sulphates  \\\n0                    45.0                 170.0  1.00100  3.00       0.45   \n1                    14.0                 132.0  0.99400  3.30       0.49   \n2                    30.0                  97.0  0.99510  3.26       0.44   \n3                    47.0                 186.0  0.99560  3.19       0.40   \n4                    47.0                 186.0  0.99560  3.19       0.40   \n...                   ...                   ...      ...   ...        ...   \n4893                 24.0                  92.0  0.99114  3.27       0.50   \n4894                 57.0                 168.0  0.99490  3.15       0.46   \n4895                 30.0                 111.0  0.99254  2.99       0.46   \n4896                 20.0                 110.0  0.98869  3.34       0.38   \n4897                 22.0                  98.0  0.98941  3.26       0.32   \n\n      alcohol  quality  \n0         8.8        6  \n1         9.5        6  \n2        10.1        6  \n3         9.9        6  \n4         9.9        6  \n...       ...      ...  \n4893     11.2        6  \n4894      9.6        5  \n4895      9.4        6  \n4896     12.8        7  \n4897     11.8        6  \n\n[4898 rows x 12 columns]",
            "text/html": "<div>\n<style scoped>\n    .dataframe tbody tr th:only-of-type {\n        vertical-align: middle;\n    }\n\n    .dataframe tbody tr th {\n        vertical-align: top;\n    }\n\n    .dataframe thead th {\n        text-align: right;\n    }\n</style>\n<table border=\"1\" class=\"dataframe\">\n  <thead>\n    <tr style=\"text-align: right;\">\n      <th></th>\n      <th>fixed acidity</th>\n      <th>volatile acidity</th>\n      <th>citric acid</th>\n      <th>residual sugar</th>\n      <th>chlorides</th>\n      <th>free sulfur dioxide</th>\n      <th>total sulfur dioxide</th>\n      <th>density</th>\n      <th>pH</th>\n      <th>sulphates</th>\n      <th>alcohol</th>\n      <th>quality</th>\n    </tr>\n  </thead>\n  <tbody>\n    <tr>\n      <th>0</th>\n      <td>7.0</td>\n      <td>0.27</td>\n      <td>0.36</td>\n      <td>20.7</td>\n      <td>0.045</td>\n      <td>45.0</td>\n      <td>170.0</td>\n      <td>1.00100</td>\n      <td>3.00</td>\n      <td>0.45</td>\n      <td>8.8</td>\n      <td>6</td>\n    </tr>\n    <tr>\n      <th>1</th>\n      <td>6.3</td>\n      <td>0.30</td>\n      <td>0.34</td>\n      <td>1.6</td>\n      <td>0.049</td>\n      <td>14.0</td>\n      <td>132.0</td>\n      <td>0.99400</td>\n      <td>3.30</td>\n      <td>0.49</td>\n      <td>9.5</td>\n      <td>6</td>\n    </tr>\n    <tr>\n      <th>2</th>\n      <td>8.1</td>\n      <td>0.28</td>\n      <td>0.40</td>\n      <td>6.9</td>\n      <td>0.050</td>\n      <td>30.0</td>\n      <td>97.0</td>\n      <td>0.99510</td>\n      <td>3.26</td>\n      <td>0.44</td>\n      <td>10.1</td>\n      <td>6</td>\n    </tr>\n    <tr>\n      <th>3</th>\n      <td>7.2</td>\n      <td>0.23</td>\n      <td>0.32</td>\n      <td>8.5</td>\n      <td>0.058</td>\n      <td>47.0</td>\n      <td>186.0</td>\n      <td>0.99560</td>\n      <td>3.19</td>\n      <td>0.40</td>\n      <td>9.9</td>\n      <td>6</td>\n    </tr>\n    <tr>\n      <th>4</th>\n      <td>7.2</td>\n      <td>0.23</td>\n      <td>0.32</td>\n      <td>8.5</td>\n      <td>0.058</td>\n      <td>47.0</td>\n      <td>186.0</td>\n      <td>0.99560</td>\n      <td>3.19</td>\n      <td>0.40</td>\n      <td>9.9</td>\n      <td>6</td>\n    </tr>\n    <tr>\n      <th>...</th>\n      <td>...</td>\n      <td>...</td>\n      <td>...</td>\n      <td>...</td>\n      <td>...</td>\n      <td>...</td>\n      <td>...</td>\n      <td>...</td>\n      <td>...</td>\n      <td>...</td>\n      <td>...</td>\n      <td>...</td>\n    </tr>\n    <tr>\n      <th>4893</th>\n      <td>6.2</td>\n      <td>0.21</td>\n      <td>0.29</td>\n      <td>1.6</td>\n      <td>0.039</td>\n      <td>24.0</td>\n      <td>92.0</td>\n      <td>0.99114</td>\n      <td>3.27</td>\n      <td>0.50</td>\n      <td>11.2</td>\n      <td>6</td>\n    </tr>\n    <tr>\n      <th>4894</th>\n      <td>6.6</td>\n      <td>0.32</td>\n      <td>0.36</td>\n      <td>8.0</td>\n      <td>0.047</td>\n      <td>57.0</td>\n      <td>168.0</td>\n      <td>0.99490</td>\n      <td>3.15</td>\n      <td>0.46</td>\n      <td>9.6</td>\n      <td>5</td>\n    </tr>\n    <tr>\n      <th>4895</th>\n      <td>6.5</td>\n      <td>0.24</td>\n      <td>0.19</td>\n      <td>1.2</td>\n      <td>0.041</td>\n      <td>30.0</td>\n      <td>111.0</td>\n      <td>0.99254</td>\n      <td>2.99</td>\n      <td>0.46</td>\n      <td>9.4</td>\n      <td>6</td>\n    </tr>\n    <tr>\n      <th>4896</th>\n      <td>5.5</td>\n      <td>0.29</td>\n      <td>0.30</td>\n      <td>1.1</td>\n      <td>0.022</td>\n      <td>20.0</td>\n      <td>110.0</td>\n      <td>0.98869</td>\n      <td>3.34</td>\n      <td>0.38</td>\n      <td>12.8</td>\n      <td>7</td>\n    </tr>\n    <tr>\n      <th>4897</th>\n      <td>6.0</td>\n      <td>0.21</td>\n      <td>0.38</td>\n      <td>0.8</td>\n      <td>0.020</td>\n      <td>22.0</td>\n      <td>98.0</td>\n      <td>0.98941</td>\n      <td>3.26</td>\n      <td>0.32</td>\n      <td>11.8</td>\n      <td>6</td>\n    </tr>\n  </tbody>\n</table>\n<p>4898 rows × 12 columns</p>\n</div>"
          },
          "metadata": {}
        }
      ],
      "execution_count": 11,
      "metadata": {
        "jupyter": {
          "source_hidden": false,
          "outputs_hidden": false
        },
        "nteract": {
          "transient": {
            "deleting": false
          }
        },
        "gather": {
          "logged": 1634512058965
        }
      }
    },
    {
      "cell_type": "code",
      "source": [
        "os.listdir()"
      ],
      "outputs": [
        {
          "output_type": "execute_result",
          "execution_count": 13,
          "data": {
            "text/plain": "['.amlignore',\n '.amlignore.amltmp',\n '.config',\n '.ipynb_aml_checkpoints',\n 'automl.ipynb',\n 'automl.ipynb.amltmp',\n 'hyperparameter_tuning.ipynb',\n 'hyperparameter_tuning.ipynb.amltmp',\n 'outputs',\n 'snippets.ipynb',\n 'snippets.ipynb.amltmp',\n 'test.ipynb',\n 'test.ipynb.amltmp',\n 'train.py',\n 'train.py.amltmp',\n 'train_norm_data',\n '__pycache__']"
          },
          "metadata": {}
        }
      ],
      "execution_count": 13,
      "metadata": {
        "jupyter": {
          "source_hidden": false,
          "outputs_hidden": false
        },
        "nteract": {
          "transient": {
            "deleting": false
          }
        },
        "gather": {
          "logged": 1634513423518
        }
      }
    },
    {
      "cell_type": "code",
      "source": [
        "from azureml.core import Workspace, Environment\r\n",
        "\r\n",
        "ws = Workspace.from_config()\r\n",
        "env = Environment.get(workspace=ws, name=\"AzureML-sklearn-0.24-ubuntu18.04-py37-cpu\")"
      ],
      "outputs": [],
      "execution_count": 2,
      "metadata": {
        "jupyter": {
          "source_hidden": false,
          "outputs_hidden": false
        },
        "nteract": {
          "transient": {
            "deleting": false
          }
        },
        "gather": {
          "logged": 1635126180746
        }
      }
    },
    {
      "cell_type": "code",
      "source": [
        "envs = Environment.list(workspace=ws)\r\n",
        "\r\n",
        "for env in envs:\r\n",
        "    if env.startswith(\"AzureML\"):\r\n",
        "        print(\"Name\",env)\r\n",
        "        if (envs[env].python.conda_dependencies):\r\n",
        "            print(\"packages\", envs[env].python.conda_dependencies.serialize_to_string())"
      ],
      "outputs": [
        {
          "output_type": "stream",
          "name": "stdout",
          "text": "Name AzureML-Triton\npackages channels:\n- conda-forge\ndependencies:\n- python=3.7.9\n- pip:\n  - azureml-core==1.33.0.post1\n  - azureml-defaults[async]\n  - azureml-contrib-services==1.33.0\n  - numpy\n  - inference-schema[numpy-support]\n  - grpcio-tools\n  - geventhttpclient\n  - https://developer.download.nvidia.com/compute/redist/tritonclient/tritonclient-2.7.0-py3-none-manylinux1_x86_64.whl\nname: azureml_da84fd7cecebaa95dee7828bc864ee70\n\nName AzureML-TensorFlow-2.3-CPU\npackages channels:\n- conda-forge\ndependencies:\n- python=3.6.2\n- pip=20.2.4\n- pip:\n  - azureml-core==1.35.0\n  - azureml-defaults==1.35.0\n  - azureml-telemetry==1.35.0\n  - azureml-train-restclients-hyperdrive==1.35.0\n  - azureml-train-core==1.35.0\n  - tensorflow==2.3.0\n  - cmake==3.18.2\n  - horovod==0.21.3\nname: azureml_9023f68312f5e7b70c532f24e722ff8a\n\nName AzureML-PyTorch-1.6-GPU\npackages channels:\n- conda-forge\ndependencies:\n- python=3.6.2\n- pip=20.2.4\n- pip:\n  - azureml-core==1.35.0\n  - azureml-defaults==1.35.0\n  - azureml-telemetry==1.35.0\n  - azureml-train-restclients-hyperdrive==1.35.0\n  - azureml-train-core==1.35.0\n  - cmake==3.18.2\n  - torch==1.6.0\n  - torchvision==0.5.0\n  - mkl==2018.0.3\n  - horovod==0.21.3\n  - tensorboard==1.14.0\n  - future==0.17.1\nname: azureml_123af9b007f4a0e2595e17869787f34e\n\nName AzureML-TensorFlow-2.3-GPU\npackages channels:\n- conda-forge\ndependencies:\n- python=3.6.2\n- pip=20.2.4\n- pip:\n  - azureml-core==1.35.0\n  - azureml-defaults==1.35.0\n  - azureml-telemetry==1.35.0\n  - azureml-train-restclients-hyperdrive==1.35.0\n  - azureml-train-core==1.35.0\n  - tensorflow-gpu==2.3.0\n  - cmake==3.18.2\n  - horovod==0.21.3\nname: azureml_49e5cff3c09b1a640454b09907290777\n\nName AzureML-PyTorch-1.6-CPU\npackages channels:\n- conda-forge\ndependencies:\n- python=3.6.2\n- pip=20.2.4\n- pip:\n  - azureml-core==1.35.0\n  - azureml-defaults==1.35.0\n  - azureml-telemetry==1.35.0\n  - azureml-train-restclients-hyperdrive==1.35.0\n  - azureml-train-core==1.35.0\n  - cmake==3.18.2\n  - torch==1.6.0\n  - torchvision==0.5.0\n  - mkl==2018.0.3\n  - horovod==0.21.3\n  - tensorboard==1.14.0\n  - future==0.17.1\nname: azureml_123af9b007f4a0e2595e17869787f34e\n\nName AzureML-tensorflow-2.4-ubuntu18.04-py37-cuda11-gpu\nName AzureML-DeepSpeed-0.3-GPU\npackages channels:\n- pytorch\n- conda-forge\ndependencies:\n- python=3.6.2\n- cudatoolkit-dev=10.1.243\n- cudatoolkit=10.1\n- pytorch==1.6.0\n- torchvision==0.7.0\n- gxx_linux-64\n- pip<=20.2\n- pip:\n  - azureml-core==1.35.0\n  - azureml-defaults==1.35.0\n  - azureml-telemetry==1.35.0\n  - azureml-train-restclients-hyperdrive==1.35.0\n  - azureml-train-core==1.35.0\n  - azureml-mlflow==1.35.0\n  - azureml-dataprep\n  - cmake==3.18.2\n  - mkl==2018.0.3\n  - tensorboard==1.14.0\n  - future==0.17.1\n  - matplotlib\n  - boto3\n  - h5py\n  - sklearn\n  - scipy\n  - pillow\n  - tqdm\n  - cupy-cuda101\n  - mpi4py\n  - deepspeed==0.3.11\nname: azureml_84a8582f74b0ab1d6e90339f8a587fa0\n\nName AzureML-VowpalWabbit-8.8.0\npackages channels:\n- conda-forge\ndependencies:\n- python=3.6.2\n- pip:\n  - azureml-core==1.19.0\n  - azureml-defaults==1.19.0\n  - azureml-dataset-runtime[fuse,pandas]\nname: azureml_769be4b756b756954fa484d1287d5153\n\nName AzureML-sklearn-0.24-ubuntu18.04-py37-cpu\nName AzureML-lightgbm-3.2-ubuntu18.04-py37-cpu\nName AzureML-tritonserver-21.02-py38-inference\npackages channels:\n- anaconda\n- conda-forge\ndependencies:\n- python=3.6.2\n- pip:\n  - azureml-defaults==1.35.0\nname: project_environment\n\nName AzureML-pytorch-1.7-ubuntu18.04-py37-cuda11-gpu\nName AzureML-pytorch-1.8-ubuntu18.04-py37-cuda11-gpu\nName AzureML-pytorch-1.9-ubuntu18.04-py37-cuda11-gpu\nName AzureML-onnxruntime-1.6-ubuntu18.04-py37-cpu-inference\nName AzureML-sklearn-0.24.1-ubuntu18.04-py37-cpu-inference\nName AzureML-minimal-ubuntu18.04-py37-cpu-inference\nName AzureML-tensorflow-1.15-ubuntu18.04-py37-cpu-inference\nName AzureML-xgboost-0.9-ubuntu18.04-py37-cpu-inference\nName AzureML-mlflow-ubuntu18.04-py37-cpu-inference\nName AzureML-pytorch-1.6-ubuntu18.04-py37-cpu-inference\nName AzureML-tensorflow-2.4-ubuntu18.04-py37-cpu-inference\nName AzureML-pytorch-1.7-ubuntu18.04-py37-cpu-inference\nName AzureML-tensorflow-2.4-ubuntu18.04-py37-cuda11.0.3-gpu-inference\nName AzureML-PyTorch-1.3-CPU\npackages channels:\n- conda-forge\ndependencies:\n- python=3.6.2\n- pip=20.2.4\n- pip:\n  - azureml-core==1.21.0.post1\n  - azureml-defaults==1.21.0\n  - azureml-telemetry==1.21.0\n  - azureml-train-restclients-hyperdrive==1.21.0\n  - azureml-train-core==1.21.0\n  - torch==1.3\n  - torchvision==0.4.1\n  - mkl==2018.0.3\n  - horovod==0.18.1\n  - tensorboard==1.14.0\n  - future==0.17.1\nname: azureml_a02f4fa469cd8066bd6e2f219433318d\n\nName AzureML-Tutorial\npackages channels:\n- anaconda\n- conda-forge\ndependencies:\n- python=3.6.2\n- pip:\n  - azureml-core==1.35.0\n  - azureml-defaults==1.35.0\n  - azureml-telemetry==1.35.0\n  - azureml-train-restclients-hyperdrive==1.35.0\n  - azureml-train-core==1.35.0\n  - azureml-widgets==1.35.0\n  - azureml-pipeline-core==1.35.0\n  - azureml-pipeline-steps==1.35.0\n  - azureml-opendatasets==1.35.0\n  - azureml-automl-core==1.35.0\n  - azureml-automl-runtime==1.35.0\n  - azureml-train-automl-client==1.35.0\n  - azureml-train-automl-runtime==1.35.0\n  - azureml-train-automl==1.35.0\n  - azureml-train==1.35.0\n  - azureml-sdk==1.35.0\n  - azureml-interpret==1.35.0\n  - azureml-tensorboard==1.35.0\n  - azureml-mlflow==1.35.0\n  - mlflow\n  - sklearn-pandas\n- pandas\n- numpy\n- tqdm\n- scikit-learn\n- matplotlib\nname: azureml_2dc5fa74cf7028a6dad039c363b70698\n\nName AzureML-Minimal\npackages channels:\n- conda-forge\ndependencies:\n- python=3.6.2\n- pip:\n  - azureml-core==1.35.0\n  - azureml-defaults==1.35.0\nname: azureml_a289d2840e6f640d3b8a49f777a00be2\n\n"
        }
      ],
      "execution_count": 6,
      "metadata": {
        "jupyter": {
          "source_hidden": false,
          "outputs_hidden": false
        },
        "nteract": {
          "transient": {
            "deleting": false
          }
        },
        "gather": {
          "logged": 1635126576666
        }
      }
    },
    {
      "cell_type": "code",
      "source": [],
      "outputs": [],
      "execution_count": null,
      "metadata": {
        "jupyter": {
          "source_hidden": false,
          "outputs_hidden": false
        },
        "nteract": {
          "transient": {
            "deleting": false
          }
        }
      }
    }
  ],
  "metadata": {
    "kernelspec": {
      "name": "python3-azureml",
      "language": "python",
      "display_name": "Python 3.6 - AzureML"
    },
    "language_info": {
      "name": "python",
      "version": "3.6.9",
      "mimetype": "text/x-python",
      "codemirror_mode": {
        "name": "ipython",
        "version": 3
      },
      "pygments_lexer": "ipython3",
      "nbconvert_exporter": "python",
      "file_extension": ".py"
    },
    "kernel_info": {
      "name": "python3-azureml"
    },
    "microsoft": {
      "host": {
        "AzureML": {
          "notebookHasBeenCompleted": true
        }
      }
    },
    "nteract": {
      "version": "nteract-front-end@1.0.0"
    }
  },
  "nbformat": 4,
  "nbformat_minor": 2
}